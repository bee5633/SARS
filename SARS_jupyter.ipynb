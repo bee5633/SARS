{
 "cells": [
  {
   "cell_type": "markdown",
   "metadata": {},
   "source": [
    "<h1> Importing </h1>"
   ]
  },
  {
   "cell_type": "code",
   "execution_count": 1,
   "metadata": {},
   "outputs": [],
   "source": [
    "#import packages\n",
    "import pandas as pd\n",
    "import numpy as np\n",
    "import matplotlib.pyplot as plt\n",
    "import seaborn as sns\n",
    "import plotly.express as px"
   ]
  },
  {
   "cell_type": "code",
   "execution_count": 2,
   "metadata": {},
   "outputs": [],
   "source": [
    "#import dataset\n",
    "df = pd.read_csv(\"sars2003.csv\")"
   ]
  },
  {
   "cell_type": "markdown",
   "metadata": {},
   "source": [
    "<h1> Basic understanding on dataset </h1>"
   ]
  },
  {
   "cell_type": "code",
   "execution_count": 3,
   "metadata": {
    "scrolled": true
   },
   "outputs": [
    {
     "name": "stdout",
     "output_type": "stream",
     "text": [
      "This dataset has 2538 rows and 5 columns\n"
     ]
    }
   ],
   "source": [
    "#rows, columns -> 2538 rows and 5 columns\n",
    "print(f\"This dataset has {df.shape[0]} rows and {df.shape[1]} columns\")"
   ]
  },
  {
   "cell_type": "code",
   "execution_count": 4,
   "metadata": {},
   "outputs": [
    {
     "name": "stdout",
     "output_type": "stream",
     "text": [
      "<class 'pandas.core.frame.DataFrame'>\n",
      "RangeIndex: 2538 entries, 0 to 2537\n",
      "Data columns (total 5 columns):\n",
      " #   Column                        Non-Null Count  Dtype \n",
      "---  ------                        --------------  ----- \n",
      " 0   Date                          2538 non-null   object\n",
      " 1   Country                       2538 non-null   object\n",
      " 2   Cumulative number of case(s)  2538 non-null   int64 \n",
      " 3   Number of deaths              2538 non-null   int64 \n",
      " 4   Number recovered              2538 non-null   int64 \n",
      "dtypes: int64(3), object(2)\n",
      "memory usage: 99.3+ KB\n"
     ]
    }
   ],
   "source": [
    "#any nulls? \n",
    "df.isnull().values.any()\n",
    "#info\n",
    "df.info()"
   ]
  },
  {
   "cell_type": "code",
   "execution_count": 5,
   "metadata": {
    "scrolled": true
   },
   "outputs": [
    {
     "name": "stdout",
     "output_type": "stream",
     "text": [
      "Index(['Date', 'Country', 'Cumulative number of case(s)', 'Number of deaths',\n",
      "       'Number recovered'],\n",
      "      dtype='object')\n",
      "Date                            object\n",
      "Country                         object\n",
      "Cumulative number of case(s)     int64\n",
      "Number of deaths                 int64\n",
      "Number recovered                 int64\n",
      "dtype: object\n"
     ]
    }
   ],
   "source": [
    "#column names\n",
    "print(df.columns)\n",
    "#column types\n",
    "print(df.dtypes)"
   ]
  },
  {
   "cell_type": "code",
   "execution_count": 6,
   "metadata": {
    "scrolled": true
   },
   "outputs": [
    {
     "data": {
      "text/html": [
       "<div>\n",
       "<style scoped>\n",
       "    .dataframe tbody tr th:only-of-type {\n",
       "        vertical-align: middle;\n",
       "    }\n",
       "\n",
       "    .dataframe tbody tr th {\n",
       "        vertical-align: top;\n",
       "    }\n",
       "\n",
       "    .dataframe thead th {\n",
       "        text-align: right;\n",
       "    }\n",
       "</style>\n",
       "<table border=\"1\" class=\"dataframe\">\n",
       "  <thead>\n",
       "    <tr style=\"text-align: right;\">\n",
       "      <th></th>\n",
       "      <th>Date</th>\n",
       "      <th>Country</th>\n",
       "      <th>Cumulative number of case(s)</th>\n",
       "      <th>Number of deaths</th>\n",
       "      <th>Number recovered</th>\n",
       "    </tr>\n",
       "  </thead>\n",
       "  <tbody>\n",
       "    <tr>\n",
       "      <th>0</th>\n",
       "      <td>2003-03-17</td>\n",
       "      <td>Germany</td>\n",
       "      <td>1</td>\n",
       "      <td>0</td>\n",
       "      <td>0</td>\n",
       "    </tr>\n",
       "    <tr>\n",
       "      <th>1</th>\n",
       "      <td>2003-03-17</td>\n",
       "      <td>Canada</td>\n",
       "      <td>8</td>\n",
       "      <td>2</td>\n",
       "      <td>0</td>\n",
       "    </tr>\n",
       "    <tr>\n",
       "      <th>2</th>\n",
       "      <td>2003-03-17</td>\n",
       "      <td>Singapore</td>\n",
       "      <td>20</td>\n",
       "      <td>0</td>\n",
       "      <td>0</td>\n",
       "    </tr>\n",
       "    <tr>\n",
       "      <th>3</th>\n",
       "      <td>2003-03-17</td>\n",
       "      <td>Hong Kong SAR, China</td>\n",
       "      <td>95</td>\n",
       "      <td>1</td>\n",
       "      <td>0</td>\n",
       "    </tr>\n",
       "    <tr>\n",
       "      <th>4</th>\n",
       "      <td>2003-03-17</td>\n",
       "      <td>Switzerland</td>\n",
       "      <td>2</td>\n",
       "      <td>0</td>\n",
       "      <td>0</td>\n",
       "    </tr>\n",
       "    <tr>\n",
       "      <th>5</th>\n",
       "      <td>2003-03-17</td>\n",
       "      <td>Thailand</td>\n",
       "      <td>1</td>\n",
       "      <td>0</td>\n",
       "      <td>0</td>\n",
       "    </tr>\n",
       "    <tr>\n",
       "      <th>6</th>\n",
       "      <td>2003-03-17</td>\n",
       "      <td>Viet Nam</td>\n",
       "      <td>40</td>\n",
       "      <td>1</td>\n",
       "      <td>0</td>\n",
       "    </tr>\n",
       "    <tr>\n",
       "      <th>7</th>\n",
       "      <td>2003-03-18</td>\n",
       "      <td>Germany</td>\n",
       "      <td>2</td>\n",
       "      <td>0</td>\n",
       "      <td>0</td>\n",
       "    </tr>\n",
       "    <tr>\n",
       "      <th>8</th>\n",
       "      <td>2003-03-18</td>\n",
       "      <td>Canada</td>\n",
       "      <td>8</td>\n",
       "      <td>2</td>\n",
       "      <td>0</td>\n",
       "    </tr>\n",
       "    <tr>\n",
       "      <th>9</th>\n",
       "      <td>2003-03-18</td>\n",
       "      <td>China</td>\n",
       "      <td>0</td>\n",
       "      <td>0</td>\n",
       "      <td>0</td>\n",
       "    </tr>\n",
       "  </tbody>\n",
       "</table>\n",
       "</div>"
      ],
      "text/plain": [
       "         Date               Country  Cumulative number of case(s)  \\\n",
       "0  2003-03-17               Germany                             1   \n",
       "1  2003-03-17                Canada                             8   \n",
       "2  2003-03-17             Singapore                            20   \n",
       "3  2003-03-17  Hong Kong SAR, China                            95   \n",
       "4  2003-03-17           Switzerland                             2   \n",
       "5  2003-03-17              Thailand                             1   \n",
       "6  2003-03-17              Viet Nam                            40   \n",
       "7  2003-03-18               Germany                             2   \n",
       "8  2003-03-18                Canada                             8   \n",
       "9  2003-03-18                 China                             0   \n",
       "\n",
       "   Number of deaths  Number recovered  \n",
       "0                 0                 0  \n",
       "1                 2                 0  \n",
       "2                 0                 0  \n",
       "3                 1                 0  \n",
       "4                 0                 0  \n",
       "5                 0                 0  \n",
       "6                 1                 0  \n",
       "7                 0                 0  \n",
       "8                 2                 0  \n",
       "9                 0                 0  "
      ]
     },
     "execution_count": 6,
     "metadata": {},
     "output_type": "execute_result"
    }
   ],
   "source": [
    "#how does it look? \n",
    "df.head(10)"
   ]
  },
  {
   "cell_type": "code",
   "execution_count": 7,
   "metadata": {
    "scrolled": false
   },
   "outputs": [
    {
     "data": {
      "text/html": [
       "<div>\n",
       "<style scoped>\n",
       "    .dataframe tbody tr th:only-of-type {\n",
       "        vertical-align: middle;\n",
       "    }\n",
       "\n",
       "    .dataframe tbody tr th {\n",
       "        vertical-align: top;\n",
       "    }\n",
       "\n",
       "    .dataframe thead th {\n",
       "        text-align: right;\n",
       "    }\n",
       "</style>\n",
       "<table border=\"1\" class=\"dataframe\">\n",
       "  <thead>\n",
       "    <tr style=\"text-align: right;\">\n",
       "      <th></th>\n",
       "      <th>Cumulative number of case(s)</th>\n",
       "      <th>Number of deaths</th>\n",
       "      <th>Number recovered</th>\n",
       "    </tr>\n",
       "  </thead>\n",
       "  <tbody>\n",
       "    <tr>\n",
       "      <th>count</th>\n",
       "      <td>2538.000000</td>\n",
       "      <td>2538.000000</td>\n",
       "      <td>2538.000000</td>\n",
       "    </tr>\n",
       "    <tr>\n",
       "      <th>mean</th>\n",
       "      <td>219.211978</td>\n",
       "      <td>17.812845</td>\n",
       "      <td>134.678487</td>\n",
       "    </tr>\n",
       "    <tr>\n",
       "      <th>std</th>\n",
       "      <td>825.024564</td>\n",
       "      <td>61.425627</td>\n",
       "      <td>581.595350</td>\n",
       "    </tr>\n",
       "    <tr>\n",
       "      <th>min</th>\n",
       "      <td>0.000000</td>\n",
       "      <td>0.000000</td>\n",
       "      <td>0.000000</td>\n",
       "    </tr>\n",
       "    <tr>\n",
       "      <th>25%</th>\n",
       "      <td>1.000000</td>\n",
       "      <td>0.000000</td>\n",
       "      <td>1.000000</td>\n",
       "    </tr>\n",
       "    <tr>\n",
       "      <th>50%</th>\n",
       "      <td>3.000000</td>\n",
       "      <td>0.000000</td>\n",
       "      <td>2.000000</td>\n",
       "    </tr>\n",
       "    <tr>\n",
       "      <th>75%</th>\n",
       "      <td>14.750000</td>\n",
       "      <td>2.000000</td>\n",
       "      <td>9.000000</td>\n",
       "    </tr>\n",
       "    <tr>\n",
       "      <th>max</th>\n",
       "      <td>5329.000000</td>\n",
       "      <td>348.000000</td>\n",
       "      <td>4941.000000</td>\n",
       "    </tr>\n",
       "  </tbody>\n",
       "</table>\n",
       "</div>"
      ],
      "text/plain": [
       "       Cumulative number of case(s)  Number of deaths  Number recovered\n",
       "count                   2538.000000       2538.000000       2538.000000\n",
       "mean                     219.211978         17.812845        134.678487\n",
       "std                      825.024564         61.425627        581.595350\n",
       "min                        0.000000          0.000000          0.000000\n",
       "25%                        1.000000          0.000000          1.000000\n",
       "50%                        3.000000          0.000000          2.000000\n",
       "75%                       14.750000          2.000000          9.000000\n",
       "max                     5329.000000        348.000000       4941.000000"
      ]
     },
     "execution_count": 7,
     "metadata": {},
     "output_type": "execute_result"
    }
   ],
   "source": [
    "#stat summary\n",
    "df.describe()"
   ]
  },
  {
   "cell_type": "code",
   "execution_count": 8,
   "metadata": {
    "scrolled": true
   },
   "outputs": [
    {
     "name": "stdout",
     "output_type": "stream",
     "text": [
      "Earliest day is 2003-03-17\n",
      "Last day is 2003-07-11\n"
     ]
    }
   ],
   "source": [
    "# date ranges\n",
    "print('Earliest day is ' + min(df['Date']))\n",
    "print('Last day is ' + max(df['Date']))"
   ]
  },
  {
   "cell_type": "code",
   "execution_count": 9,
   "metadata": {
    "scrolled": true
   },
   "outputs": [
    {
     "data": {
      "text/plain": [
       "37"
      ]
     },
     "execution_count": 9,
     "metadata": {},
     "output_type": "execute_result"
    }
   ],
   "source": [
    "#how many countries\n",
    "df['Country'].nunique()\n",
    "#or also can use.. \n",
    "df['Country'].value_counts().count()"
   ]
  },
  {
   "cell_type": "code",
   "execution_count": 10,
   "metadata": {},
   "outputs": [
    {
     "data": {
      "text/plain": [
       "Canada                  96\n",
       "China                   96\n",
       "Hong Kong SAR, China    96\n",
       "Germany                 96\n",
       "Singapore               96\n",
       "Thailand                96\n",
       "United Kingdom          95\n",
       "Taiwan, China           95\n",
       "Viet Nam                95\n",
       "United States           94\n",
       "Switzerland             94\n",
       "Italy                   92\n",
       "Republic of Ireland     92\n",
       "France                  90\n",
       "Romania                 87\n",
       "Spain                   86\n",
       "Brazil                  81\n",
       "Malaysia                79\n",
       "Kuwait                  75\n",
       "South Africa            74\n",
       "Sweden                  72\n",
       "Philippines             72\n",
       "Indonesia               72\n",
       "Mongolia                69\n",
       "India                   64\n",
       "Republic of Korea       59\n",
       "Macao SAR, China        58\n",
       "New Zealand             56\n",
       "Colombia                53\n",
       "Finland                 51\n",
       "Russian Federation      31\n",
       "Bulgaria                20\n",
       "Japan                   19\n",
       "Australia               17\n",
       "Poland                  10\n",
       "Slovenia                 5\n",
       "Belgium                  5\n",
       "Name: Country, dtype: int64"
      ]
     },
     "execution_count": 10,
     "metadata": {},
     "output_type": "execute_result"
    }
   ],
   "source": [
    "#countries and how many. \n",
    "df['Country'].value_counts()"
   ]
  },
  {
   "cell_type": "code",
   "execution_count": 11,
   "metadata": {
    "scrolled": false
   },
   "outputs": [
    {
     "data": {
      "text/html": [
       "<div>\n",
       "<style scoped>\n",
       "    .dataframe tbody tr th:only-of-type {\n",
       "        vertical-align: middle;\n",
       "    }\n",
       "\n",
       "    .dataframe tbody tr th {\n",
       "        vertical-align: top;\n",
       "    }\n",
       "\n",
       "    .dataframe thead th {\n",
       "        text-align: right;\n",
       "    }\n",
       "</style>\n",
       "<table border=\"1\" class=\"dataframe\">\n",
       "  <thead>\n",
       "    <tr style=\"text-align: right;\">\n",
       "      <th></th>\n",
       "      <th>Date</th>\n",
       "      <th>Country</th>\n",
       "      <th>Cumulative number of case(s)</th>\n",
       "      <th>Number of deaths</th>\n",
       "      <th>Number recovered</th>\n",
       "    </tr>\n",
       "    <tr>\n",
       "      <th>Country</th>\n",
       "      <th></th>\n",
       "      <th></th>\n",
       "      <th></th>\n",
       "      <th></th>\n",
       "      <th></th>\n",
       "    </tr>\n",
       "  </thead>\n",
       "  <tbody>\n",
       "    <tr>\n",
       "      <th>Australia</th>\n",
       "      <td>17</td>\n",
       "      <td>1</td>\n",
       "      <td>5</td>\n",
       "      <td>1</td>\n",
       "      <td>4</td>\n",
       "    </tr>\n",
       "    <tr>\n",
       "      <th>Belgium</th>\n",
       "      <td>5</td>\n",
       "      <td>1</td>\n",
       "      <td>1</td>\n",
       "      <td>1</td>\n",
       "      <td>1</td>\n",
       "    </tr>\n",
       "    <tr>\n",
       "      <th>Brazil</th>\n",
       "      <td>81</td>\n",
       "      <td>1</td>\n",
       "      <td>3</td>\n",
       "      <td>1</td>\n",
       "      <td>3</td>\n",
       "    </tr>\n",
       "    <tr>\n",
       "      <th>Bulgaria</th>\n",
       "      <td>20</td>\n",
       "      <td>1</td>\n",
       "      <td>1</td>\n",
       "      <td>1</td>\n",
       "      <td>1</td>\n",
       "    </tr>\n",
       "    <tr>\n",
       "      <th>Canada</th>\n",
       "      <td>96</td>\n",
       "      <td>1</td>\n",
       "      <td>52</td>\n",
       "      <td>24</td>\n",
       "      <td>48</td>\n",
       "    </tr>\n",
       "    <tr>\n",
       "      <th>China</th>\n",
       "      <td>95</td>\n",
       "      <td>1</td>\n",
       "      <td>53</td>\n",
       "      <td>55</td>\n",
       "      <td>69</td>\n",
       "    </tr>\n",
       "    <tr>\n",
       "      <th>Colombia</th>\n",
       "      <td>53</td>\n",
       "      <td>1</td>\n",
       "      <td>1</td>\n",
       "      <td>1</td>\n",
       "      <td>1</td>\n",
       "    </tr>\n",
       "    <tr>\n",
       "      <th>Finland</th>\n",
       "      <td>51</td>\n",
       "      <td>1</td>\n",
       "      <td>1</td>\n",
       "      <td>1</td>\n",
       "      <td>2</td>\n",
       "    </tr>\n",
       "    <tr>\n",
       "      <th>France</th>\n",
       "      <td>90</td>\n",
       "      <td>1</td>\n",
       "      <td>6</td>\n",
       "      <td>2</td>\n",
       "      <td>4</td>\n",
       "    </tr>\n",
       "    <tr>\n",
       "      <th>Germany</th>\n",
       "      <td>96</td>\n",
       "      <td>1</td>\n",
       "      <td>9</td>\n",
       "      <td>1</td>\n",
       "      <td>6</td>\n",
       "    </tr>\n",
       "    <tr>\n",
       "      <th>Hong Kong SAR, China</th>\n",
       "      <td>96</td>\n",
       "      <td>1</td>\n",
       "      <td>71</td>\n",
       "      <td>68</td>\n",
       "      <td>67</td>\n",
       "    </tr>\n",
       "    <tr>\n",
       "      <th>India</th>\n",
       "      <td>64</td>\n",
       "      <td>1</td>\n",
       "      <td>2</td>\n",
       "      <td>1</td>\n",
       "      <td>3</td>\n",
       "    </tr>\n",
       "    <tr>\n",
       "      <th>Indonesia</th>\n",
       "      <td>72</td>\n",
       "      <td>1</td>\n",
       "      <td>2</td>\n",
       "      <td>1</td>\n",
       "      <td>3</td>\n",
       "    </tr>\n",
       "    <tr>\n",
       "      <th>Italy</th>\n",
       "      <td>92</td>\n",
       "      <td>1</td>\n",
       "      <td>7</td>\n",
       "      <td>1</td>\n",
       "      <td>9</td>\n",
       "    </tr>\n",
       "    <tr>\n",
       "      <th>Japan</th>\n",
       "      <td>19</td>\n",
       "      <td>1</td>\n",
       "      <td>4</td>\n",
       "      <td>1</td>\n",
       "      <td>1</td>\n",
       "    </tr>\n",
       "    <tr>\n",
       "      <th>Kuwait</th>\n",
       "      <td>75</td>\n",
       "      <td>1</td>\n",
       "      <td>1</td>\n",
       "      <td>1</td>\n",
       "      <td>2</td>\n",
       "    </tr>\n",
       "    <tr>\n",
       "      <th>Macao SAR, China</th>\n",
       "      <td>58</td>\n",
       "      <td>1</td>\n",
       "      <td>2</td>\n",
       "      <td>1</td>\n",
       "      <td>2</td>\n",
       "    </tr>\n",
       "    <tr>\n",
       "      <th>Malaysia</th>\n",
       "      <td>79</td>\n",
       "      <td>1</td>\n",
       "      <td>7</td>\n",
       "      <td>2</td>\n",
       "      <td>5</td>\n",
       "    </tr>\n",
       "    <tr>\n",
       "      <th>Mongolia</th>\n",
       "      <td>69</td>\n",
       "      <td>1</td>\n",
       "      <td>5</td>\n",
       "      <td>1</td>\n",
       "      <td>6</td>\n",
       "    </tr>\n",
       "    <tr>\n",
       "      <th>New Zealand</th>\n",
       "      <td>56</td>\n",
       "      <td>1</td>\n",
       "      <td>1</td>\n",
       "      <td>1</td>\n",
       "      <td>1</td>\n",
       "    </tr>\n",
       "    <tr>\n",
       "      <th>Philippines</th>\n",
       "      <td>72</td>\n",
       "      <td>1</td>\n",
       "      <td>7</td>\n",
       "      <td>3</td>\n",
       "      <td>7</td>\n",
       "    </tr>\n",
       "    <tr>\n",
       "      <th>Poland</th>\n",
       "      <td>10</td>\n",
       "      <td>1</td>\n",
       "      <td>1</td>\n",
       "      <td>1</td>\n",
       "      <td>1</td>\n",
       "    </tr>\n",
       "    <tr>\n",
       "      <th>Republic of Ireland</th>\n",
       "      <td>92</td>\n",
       "      <td>1</td>\n",
       "      <td>2</td>\n",
       "      <td>1</td>\n",
       "      <td>2</td>\n",
       "    </tr>\n",
       "    <tr>\n",
       "      <th>Republic of Korea</th>\n",
       "      <td>59</td>\n",
       "      <td>1</td>\n",
       "      <td>3</td>\n",
       "      <td>1</td>\n",
       "      <td>4</td>\n",
       "    </tr>\n",
       "    <tr>\n",
       "      <th>Romania</th>\n",
       "      <td>87</td>\n",
       "      <td>1</td>\n",
       "      <td>2</td>\n",
       "      <td>1</td>\n",
       "      <td>2</td>\n",
       "    </tr>\n",
       "    <tr>\n",
       "      <th>Russian Federation</th>\n",
       "      <td>31</td>\n",
       "      <td>1</td>\n",
       "      <td>1</td>\n",
       "      <td>1</td>\n",
       "      <td>1</td>\n",
       "    </tr>\n",
       "    <tr>\n",
       "      <th>Singapore</th>\n",
       "      <td>96</td>\n",
       "      <td>1</td>\n",
       "      <td>40</td>\n",
       "      <td>25</td>\n",
       "      <td>33</td>\n",
       "    </tr>\n",
       "    <tr>\n",
       "      <th>Slovenia</th>\n",
       "      <td>5</td>\n",
       "      <td>1</td>\n",
       "      <td>1</td>\n",
       "      <td>1</td>\n",
       "      <td>1</td>\n",
       "    </tr>\n",
       "    <tr>\n",
       "      <th>South Africa</th>\n",
       "      <td>74</td>\n",
       "      <td>1</td>\n",
       "      <td>1</td>\n",
       "      <td>2</td>\n",
       "      <td>2</td>\n",
       "    </tr>\n",
       "    <tr>\n",
       "      <th>Spain</th>\n",
       "      <td>86</td>\n",
       "      <td>1</td>\n",
       "      <td>1</td>\n",
       "      <td>1</td>\n",
       "      <td>2</td>\n",
       "    </tr>\n",
       "    <tr>\n",
       "      <th>Sweden</th>\n",
       "      <td>72</td>\n",
       "      <td>1</td>\n",
       "      <td>2</td>\n",
       "      <td>1</td>\n",
       "      <td>3</td>\n",
       "    </tr>\n",
       "    <tr>\n",
       "      <th>Switzerland</th>\n",
       "      <td>94</td>\n",
       "      <td>1</td>\n",
       "      <td>4</td>\n",
       "      <td>1</td>\n",
       "      <td>2</td>\n",
       "    </tr>\n",
       "    <tr>\n",
       "      <th>Taiwan, China</th>\n",
       "      <td>95</td>\n",
       "      <td>1</td>\n",
       "      <td>58</td>\n",
       "      <td>20</td>\n",
       "      <td>44</td>\n",
       "    </tr>\n",
       "    <tr>\n",
       "      <th>Thailand</th>\n",
       "      <td>96</td>\n",
       "      <td>1</td>\n",
       "      <td>8</td>\n",
       "      <td>3</td>\n",
       "      <td>4</td>\n",
       "    </tr>\n",
       "    <tr>\n",
       "      <th>United Kingdom</th>\n",
       "      <td>95</td>\n",
       "      <td>1</td>\n",
       "      <td>6</td>\n",
       "      <td>1</td>\n",
       "      <td>5</td>\n",
       "    </tr>\n",
       "    <tr>\n",
       "      <th>United States</th>\n",
       "      <td>94</td>\n",
       "      <td>1</td>\n",
       "      <td>40</td>\n",
       "      <td>1</td>\n",
       "      <td>13</td>\n",
       "    </tr>\n",
       "    <tr>\n",
       "      <th>Viet Nam</th>\n",
       "      <td>95</td>\n",
       "      <td>1</td>\n",
       "      <td>7</td>\n",
       "      <td>4</td>\n",
       "      <td>7</td>\n",
       "    </tr>\n",
       "  </tbody>\n",
       "</table>\n",
       "</div>"
      ],
      "text/plain": [
       "                      Date  Country  Cumulative number of case(s)  \\\n",
       "Country                                                             \n",
       "Australia               17        1                             5   \n",
       "Belgium                  5        1                             1   \n",
       "Brazil                  81        1                             3   \n",
       "Bulgaria                20        1                             1   \n",
       "Canada                  96        1                            52   \n",
       "China                   95        1                            53   \n",
       "Colombia                53        1                             1   \n",
       "Finland                 51        1                             1   \n",
       "France                  90        1                             6   \n",
       "Germany                 96        1                             9   \n",
       "Hong Kong SAR, China    96        1                            71   \n",
       "India                   64        1                             2   \n",
       "Indonesia               72        1                             2   \n",
       "Italy                   92        1                             7   \n",
       "Japan                   19        1                             4   \n",
       "Kuwait                  75        1                             1   \n",
       "Macao SAR, China        58        1                             2   \n",
       "Malaysia                79        1                             7   \n",
       "Mongolia                69        1                             5   \n",
       "New Zealand             56        1                             1   \n",
       "Philippines             72        1                             7   \n",
       "Poland                  10        1                             1   \n",
       "Republic of Ireland     92        1                             2   \n",
       "Republic of Korea       59        1                             3   \n",
       "Romania                 87        1                             2   \n",
       "Russian Federation      31        1                             1   \n",
       "Singapore               96        1                            40   \n",
       "Slovenia                 5        1                             1   \n",
       "South Africa            74        1                             1   \n",
       "Spain                   86        1                             1   \n",
       "Sweden                  72        1                             2   \n",
       "Switzerland             94        1                             4   \n",
       "Taiwan, China           95        1                            58   \n",
       "Thailand                96        1                             8   \n",
       "United Kingdom          95        1                             6   \n",
       "United States           94        1                            40   \n",
       "Viet Nam                95        1                             7   \n",
       "\n",
       "                      Number of deaths  Number recovered  \n",
       "Country                                                   \n",
       "Australia                            1                 4  \n",
       "Belgium                              1                 1  \n",
       "Brazil                               1                 3  \n",
       "Bulgaria                             1                 1  \n",
       "Canada                              24                48  \n",
       "China                               55                69  \n",
       "Colombia                             1                 1  \n",
       "Finland                              1                 2  \n",
       "France                               2                 4  \n",
       "Germany                              1                 6  \n",
       "Hong Kong SAR, China                68                67  \n",
       "India                                1                 3  \n",
       "Indonesia                            1                 3  \n",
       "Italy                                1                 9  \n",
       "Japan                                1                 1  \n",
       "Kuwait                               1                 2  \n",
       "Macao SAR, China                     1                 2  \n",
       "Malaysia                             2                 5  \n",
       "Mongolia                             1                 6  \n",
       "New Zealand                          1                 1  \n",
       "Philippines                          3                 7  \n",
       "Poland                               1                 1  \n",
       "Republic of Ireland                  1                 2  \n",
       "Republic of Korea                    1                 4  \n",
       "Romania                              1                 2  \n",
       "Russian Federation                   1                 1  \n",
       "Singapore                           25                33  \n",
       "Slovenia                             1                 1  \n",
       "South Africa                         2                 2  \n",
       "Spain                                1                 2  \n",
       "Sweden                               1                 3  \n",
       "Switzerland                          1                 2  \n",
       "Taiwan, China                       20                44  \n",
       "Thailand                             3                 4  \n",
       "United Kingdom                       1                 5  \n",
       "United States                        1                13  \n",
       "Viet Nam                             4                 7  "
      ]
     },
     "execution_count": 11,
     "metadata": {},
     "output_type": "execute_result"
    }
   ],
   "source": [
    "#by countries, stat\n",
    "df.groupby('Country').nunique()"
   ]
  },
  {
   "cell_type": "markdown",
   "metadata": {},
   "source": [
    "<h1> Cleaning </h1>"
   ]
  },
  {
   "cell_type": "code",
   "execution_count": 12,
   "metadata": {},
   "outputs": [],
   "source": [
    "#copy the df so I don't have the change to original dataset\n",
    "sarsdf = df.copy()"
   ]
  },
  {
   "cell_type": "code",
   "execution_count": 13,
   "metadata": {
    "scrolled": true
   },
   "outputs": [
    {
     "data": {
      "text/plain": [
       "Date                            datetime64[ns]\n",
       "Country                                 object\n",
       "Cumulative number of case(s)             int64\n",
       "Number of deaths                         int64\n",
       "Number recovered                         int64\n",
       "dtype: object"
      ]
     },
     "execution_count": 13,
     "metadata": {},
     "output_type": "execute_result"
    }
   ],
   "source": [
    "#change the data type for date\n",
    "sarsdf['Date'] = pd.to_datetime(sarsdf['Date'])\n",
    "#check \n",
    "sarsdf.dtypes"
   ]
  },
  {
   "cell_type": "code",
   "execution_count": 14,
   "metadata": {},
   "outputs": [
    {
     "data": {
      "text/plain": [
       "Index(['Date', 'Country', 'Confirmed', 'Death', 'Recovered'], dtype='object')"
      ]
     },
     "execution_count": 14,
     "metadata": {},
     "output_type": "execute_result"
    }
   ],
   "source": [
    "#rename some column names\n",
    "sarsdf = sarsdf.rename(columns = {\n",
    "                                                        'Cumulative number of case(s)' : 'Confirmed',\n",
    "                                                        'Number of deaths' : 'Death',\n",
    "                                                        'Number recovered' : 'Recovered'\n",
    "                                                        })\n",
    "#check\n",
    "sarsdf.columns"
   ]
  },
  {
   "cell_type": "markdown",
   "metadata": {},
   "source": [
    "<h5>I found that the number of confirmed cases is not equal to the sum of death and recovered cases. So I included the column \"Active\" for active cases. </h5>"
   ]
  },
  {
   "cell_type": "code",
   "execution_count": 30,
   "metadata": {},
   "outputs": [
    {
     "data": {
      "text/html": [
       "<div>\n",
       "<style scoped>\n",
       "    .dataframe tbody tr th:only-of-type {\n",
       "        vertical-align: middle;\n",
       "    }\n",
       "\n",
       "    .dataframe tbody tr th {\n",
       "        vertical-align: top;\n",
       "    }\n",
       "\n",
       "    .dataframe thead th {\n",
       "        text-align: right;\n",
       "    }\n",
       "</style>\n",
       "<table border=\"1\" class=\"dataframe\">\n",
       "  <thead>\n",
       "    <tr style=\"text-align: right;\">\n",
       "      <th></th>\n",
       "      <th>Date</th>\n",
       "      <th>Country</th>\n",
       "      <th>Confirmed</th>\n",
       "      <th>Death</th>\n",
       "      <th>Recovered</th>\n",
       "      <th>Active</th>\n",
       "    </tr>\n",
       "  </thead>\n",
       "  <tbody>\n",
       "    <tr>\n",
       "      <th>0</th>\n",
       "      <td>2003-03-17</td>\n",
       "      <td>Germany</td>\n",
       "      <td>1</td>\n",
       "      <td>0</td>\n",
       "      <td>0</td>\n",
       "      <td>1</td>\n",
       "    </tr>\n",
       "    <tr>\n",
       "      <th>1</th>\n",
       "      <td>2003-03-17</td>\n",
       "      <td>Canada</td>\n",
       "      <td>8</td>\n",
       "      <td>2</td>\n",
       "      <td>0</td>\n",
       "      <td>6</td>\n",
       "    </tr>\n",
       "    <tr>\n",
       "      <th>2</th>\n",
       "      <td>2003-03-17</td>\n",
       "      <td>Singapore</td>\n",
       "      <td>20</td>\n",
       "      <td>0</td>\n",
       "      <td>0</td>\n",
       "      <td>20</td>\n",
       "    </tr>\n",
       "    <tr>\n",
       "      <th>3</th>\n",
       "      <td>2003-03-17</td>\n",
       "      <td>Hong Kong SAR, China</td>\n",
       "      <td>95</td>\n",
       "      <td>1</td>\n",
       "      <td>0</td>\n",
       "      <td>94</td>\n",
       "    </tr>\n",
       "    <tr>\n",
       "      <th>4</th>\n",
       "      <td>2003-03-17</td>\n",
       "      <td>Switzerland</td>\n",
       "      <td>2</td>\n",
       "      <td>0</td>\n",
       "      <td>0</td>\n",
       "      <td>2</td>\n",
       "    </tr>\n",
       "    <tr>\n",
       "      <th>...</th>\n",
       "      <td>...</td>\n",
       "      <td>...</td>\n",
       "      <td>...</td>\n",
       "      <td>...</td>\n",
       "      <td>...</td>\n",
       "      <td>...</td>\n",
       "    </tr>\n",
       "    <tr>\n",
       "      <th>2533</th>\n",
       "      <td>2003-07-11</td>\n",
       "      <td>Switzerland</td>\n",
       "      <td>1</td>\n",
       "      <td>0</td>\n",
       "      <td>1</td>\n",
       "      <td>0</td>\n",
       "    </tr>\n",
       "    <tr>\n",
       "      <th>2534</th>\n",
       "      <td>2003-07-11</td>\n",
       "      <td>Thailand</td>\n",
       "      <td>9</td>\n",
       "      <td>2</td>\n",
       "      <td>7</td>\n",
       "      <td>0</td>\n",
       "    </tr>\n",
       "    <tr>\n",
       "      <th>2535</th>\n",
       "      <td>2003-07-11</td>\n",
       "      <td>United Kingdom</td>\n",
       "      <td>4</td>\n",
       "      <td>0</td>\n",
       "      <td>4</td>\n",
       "      <td>0</td>\n",
       "    </tr>\n",
       "    <tr>\n",
       "      <th>2536</th>\n",
       "      <td>2003-07-11</td>\n",
       "      <td>United States</td>\n",
       "      <td>75</td>\n",
       "      <td>0</td>\n",
       "      <td>67</td>\n",
       "      <td>8</td>\n",
       "    </tr>\n",
       "    <tr>\n",
       "      <th>2537</th>\n",
       "      <td>2003-07-11</td>\n",
       "      <td>Viet Nam</td>\n",
       "      <td>63</td>\n",
       "      <td>5</td>\n",
       "      <td>58</td>\n",
       "      <td>0</td>\n",
       "    </tr>\n",
       "  </tbody>\n",
       "</table>\n",
       "<p>2538 rows × 6 columns</p>\n",
       "</div>"
      ],
      "text/plain": [
       "           Date               Country  Confirmed  Death  Recovered  Active\n",
       "0    2003-03-17               Germany          1      0          0       1\n",
       "1    2003-03-17                Canada          8      2          0       6\n",
       "2    2003-03-17             Singapore         20      0          0      20\n",
       "3    2003-03-17  Hong Kong SAR, China         95      1          0      94\n",
       "4    2003-03-17           Switzerland          2      0          0       2\n",
       "...         ...                   ...        ...    ...        ...     ...\n",
       "2533 2003-07-11           Switzerland          1      0          1       0\n",
       "2534 2003-07-11              Thailand          9      2          7       0\n",
       "2535 2003-07-11        United Kingdom          4      0          4       0\n",
       "2536 2003-07-11         United States         75      0         67       8\n",
       "2537 2003-07-11              Viet Nam         63      5         58       0\n",
       "\n",
       "[2538 rows x 6 columns]"
      ]
     },
     "execution_count": 30,
     "metadata": {},
     "output_type": "execute_result"
    }
   ],
   "source": [
    "#add 'Active' cases\n",
    "sarsdf['Active']  = sarsdf['Confirmed'] - (sarsdf['Death']  + sarsdf['Recovered'])\n",
    "#check \n",
    "sarsdf"
   ]
  },
  {
   "cell_type": "markdown",
   "metadata": {},
   "source": [
    "<h1> Visualization </h1>"
   ]
  },
  {
   "cell_type": "code",
   "execution_count": 31,
   "metadata": {
    "scrolled": false
   },
   "outputs": [
    {
     "data": {
      "image/png": "[encoded data removed]",
      "text/plain": [
       "<Figure size 1440x1080 with 1 Axes>"
      ]
     },
     "metadata": {
      "needs_background": "light"
     },
     "output_type": "display_data"
    }
   ],
   "source": [
    "#bar graph\n",
    "ax = sarsdf.groupby(['Country']).sum().sort_values(\"Confirmed\", ascending = False).head(10)[::-1].plot.barh(figsize=(20,15), width = 0.85)"
   ]
  },
  {
   "cell_type": "code",
   "execution_count": 32,
   "metadata": {},
   "outputs": [
    {
     "name": "stderr",
     "output_type": "stream",
     "text": [
      "/Users/bee/anaconda3/lib/python3.7/site-packages/ipykernel_launcher.py:2: FutureWarning:\n",
      "\n",
      "Indexing with multiple keys (implicitly converted to a tuple of keys) will be deprecated, use a list instead.\n",
      "\n"
     ]
    },
    {
     "data": {
      "application/vnd.plotly.v1+json": {
       "config": {
        "plotlyServerURL": "https://plot.ly"
       },
       "data": [
        {
         "alignmentgroup": "True",
         "hoverlabel": {
          "namelength": 0
         },
         "hovertemplate": "Confirmed=%{text}<br>Country=%{y}",
         "legendgroup": "",
         "marker": {
          "color": "#636efa"
         },
         "name": "",
         "offsetgroup": "",
         "orientation": "h",
         "showlegend": false,
         "text": [
          3,
          3,
          5,
          6,
          6,
          7,
          7,
          8,
          9,
          9,
          9,
          10,
          14,
          63,
          206,
          220,
          252,
          698,
          1755,
          5329
         ],
         "textposition": "auto",
         "type": "bar",
         "x": [
          3,
          3,
          5,
          6,
          6,
          7,
          7,
          8,
          9,
          9,
          9,
          10,
          14,
          63,
          206,
          220,
          252,
          698,
          1755,
          5329
         ],
         "xaxis": "x",
         "y": [
          "Brazil",
          "Republic of Korea",
          "Japan",
          "United Kingdom",
          "Australia",
          "France",
          "Switzerland",
          "Malaysia",
          "Mongolia",
          "Thailand",
          "Italy",
          "Germany",
          "Philippines",
          "Viet Nam",
          "Singapore",
          "United States",
          "Canada",
          "Taiwan, China",
          "Hong Kong SAR, China",
          "China"
         ],
         "yaxis": "y"
        }
       ],
       "layout": {
        "barmode": "relative",
        "height": 600,
        "legend": {
         "tracegroupgap": 0
        },
        "template": {
         "data": {
          "bar": [
           {
            "error_x": {
             "color": "#2a3f5f"
            },
            "error_y": {
             "color": "#2a3f5f"
            },
            "marker": {
             "line": {
              "color": "#E5ECF6",
              "width": 0.5
             }
            },
            "type": "bar"
           }
          ],
          "barpolar": [
           {
            "marker": {
             "line": {
              "color": "#E5ECF6",
              "width": 0.5
             }
            },
            "type": "barpolar"
           }
          ],
          "carpet": [
           {
            "aaxis": {
             "endlinecolor": "#2a3f5f",
             "gridcolor": "white",
             "linecolor": "white",
             "minorgridcolor": "white",
             "startlinecolor": "#2a3f5f"
            },
            "baxis": {
             "endlinecolor": "#2a3f5f",
             "gridcolor": "white",
             "linecolor": "white",
             "minorgridcolor": "white",
             "startlinecolor": "#2a3f5f"
            },
            "type": "carpet"
           }
          ],
          "choropleth": [
           {
            "colorbar": {
             "outlinewidth": 0,
             "ticks": ""
            },
            "type": "choropleth"
           }
          ],
          "contour": [
           {
            "colorbar": {
             "outlinewidth": 0,
             "ticks": ""
            },
            "colorscale": [
             [
              0,
              "#0d0887"
             ],
             [
              0.1111111111111111,
              "#46039f"
             ],
             [
              0.2222222222222222,
              "#7201a8"
             ],
             [
              0.3333333333333333,
              "#9c179e"
             ],
             [
              0.4444444444444444,
              "#bd3786"
             ],
             [
              0.5555555555555556,
              "#d8576b"
             ],
             [
              0.6666666666666666,
              "#ed7953"
             ],
             [
              0.7777777777777778,
              "#fb9f3a"
             ],
             [
              0.8888888888888888,
              "#fdca26"
             ],
             [
              1,
              "#f0f921"
             ]
            ],
            "type": "contour"
           }
          ],
          "contourcarpet": [
           {
            "colorbar": {
             "outlinewidth": 0,
             "ticks": ""
            },
            "type": "contourcarpet"
           }
          ],
          "heatmap": [
           {
            "colorbar": {
             "outlinewidth": 0,
             "ticks": ""
            },
            "colorscale": [
             [
              0,
              "#0d0887"
             ],
             [
              0.1111111111111111,
              "#46039f"
             ],
             [
              0.2222222222222222,
              "#7201a8"
             ],
             [
              0.3333333333333333,
              "#9c179e"
             ],
             [
              0.4444444444444444,
              "#bd3786"
             ],
             [
              0.5555555555555556,
              "#d8576b"
             ],
             [
              0.6666666666666666,
              "#ed7953"
             ],
             [
              0.7777777777777778,
              "#fb9f3a"
             ],
             [
              0.8888888888888888,
              "#fdca26"
             ],
             [
              1,
              "#f0f921"
             ]
            ],
            "type": "heatmap"
           }
          ],
          "heatmapgl": [
           {
            "colorbar": {
             "outlinewidth": 0,
             "ticks": ""
            },
            "colorscale": [
             [
              0,
              "#0d0887"
             ],
             [
              0.1111111111111111,
              "#46039f"
             ],
             [
              0.2222222222222222,
              "#7201a8"
             ],
             [
              0.3333333333333333,
              "#9c179e"
             ],
             [
              0.4444444444444444,
              "#bd3786"
             ],
             [
              0.5555555555555556,
              "#d8576b"
             ],
             [
              0.6666666666666666,
              "#ed7953"
             ],
             [
              0.7777777777777778,
              "#fb9f3a"
             ],
             [
              0.8888888888888888,
              "#fdca26"
             ],
             [
              1,
              "#f0f921"
             ]
            ],
            "type": "heatmapgl"
           }
          ],
          "histogram": [
           {
            "marker": {
             "colorbar": {
              "outlinewidth": 0,
              "ticks": ""
             }
            },
            "type": "histogram"
           }
          ],
          "histogram2d": [
           {
            "colorbar": {
             "outlinewidth": 0,
             "ticks": ""
            },
            "colorscale": [
             [
              0,
              "#0d0887"
             ],
             [
              0.1111111111111111,
              "#46039f"
             ],
             [
              0.2222222222222222,
              "#7201a8"
             ],
             [
              0.3333333333333333,
              "#9c179e"
             ],
             [
              0.4444444444444444,
              "#bd3786"
             ],
             [
              0.5555555555555556,
              "#d8576b"
             ],
             [
              0.6666666666666666,
              "#ed7953"
             ],
             [
              0.7777777777777778,
              "#fb9f3a"
             ],
             [
              0.8888888888888888,
              "#fdca26"
             ],
             [
              1,
              "#f0f921"
             ]
            ],
            "type": "histogram2d"
           }
          ],
          "histogram2dcontour": [
           {
            "colorbar": {
             "outlinewidth": 0,
             "ticks": ""
            },
            "colorscale": [
             [
              0,
              "#0d0887"
             ],
             [
              0.1111111111111111,
              "#46039f"
             ],
             [
              0.2222222222222222,
              "#7201a8"
             ],
             [
              0.3333333333333333,
              "#9c179e"
             ],
             [
              0.4444444444444444,
              "#bd3786"
             ],
             [
              0.5555555555555556,
              "#d8576b"
             ],
             [
              0.6666666666666666,
              "#ed7953"
             ],
             [
              0.7777777777777778,
              "#fb9f3a"
             ],
             [
              0.8888888888888888,
              "#fdca26"
             ],
             [
              1,
              "#f0f921"
             ]
            ],
            "type": "histogram2dcontour"
           }
          ],
          "mesh3d": [
           {
            "colorbar": {
             "outlinewidth": 0,
             "ticks": ""
            },
            "type": "mesh3d"
           }
          ],
          "parcoords": [
           {
            "line": {
             "colorbar": {
              "outlinewidth": 0,
              "ticks": ""
             }
            },
            "type": "parcoords"
           }
          ],
          "scatter": [
           {
            "marker": {
             "colorbar": {
              "outlinewidth": 0,
              "ticks": ""
             }
            },
            "type": "scatter"
           }
          ],
          "scatter3d": [
           {
            "line": {
             "colorbar": {
              "outlinewidth": 0,
              "ticks": ""
             }
            },
            "marker": {
             "colorbar": {
              "outlinewidth": 0,
              "ticks": ""
             }
            },
            "type": "scatter3d"
           }
          ],
          "scattercarpet": [
           {
            "marker": {
             "colorbar": {
              "outlinewidth": 0,
              "ticks": ""
             }
            },
            "type": "scattercarpet"
           }
          ],
          "scattergeo": [
           {
            "marker": {
             "colorbar": {
              "outlinewidth": 0,
              "ticks": ""
             }
            },
            "type": "scattergeo"
           }
          ],
          "scattergl": [
           {
            "marker": {
             "colorbar": {
              "outlinewidth": 0,
              "ticks": ""
             }
            },
            "type": "scattergl"
           }
          ],
          "scattermapbox": [
           {
            "marker": {
             "colorbar": {
              "outlinewidth": 0,
              "ticks": ""
             }
            },
            "type": "scattermapbox"
           }
          ],
          "scatterpolar": [
           {
            "marker": {
             "colorbar": {
              "outlinewidth": 0,
              "ticks": ""
             }
            },
            "type": "scatterpolar"
           }
          ],
          "scatterpolargl": [
           {
            "marker": {
             "colorbar": {
              "outlinewidth": 0,
              "ticks": ""
             }
            },
            "type": "scatterpolargl"
           }
          ],
          "scatterternary": [
           {
            "marker": {
             "colorbar": {
              "outlinewidth": 0,
              "ticks": ""
             }
            },
            "type": "scatterternary"
           }
          ],
          "surface": [
           {
            "colorbar": {
             "outlinewidth": 0,
             "ticks": ""
            },
            "colorscale": [
             [
              0,
              "#0d0887"
             ],
             [
              0.1111111111111111,
              "#46039f"
             ],
             [
              0.2222222222222222,
              "#7201a8"
             ],
             [
              0.3333333333333333,
              "#9c179e"
             ],
             [
              0.4444444444444444,
              "#bd3786"
             ],
             [
              0.5555555555555556,
              "#d8576b"
             ],
             [
              0.6666666666666666,
              "#ed7953"
             ],
             [
              0.7777777777777778,
              "#fb9f3a"
             ],
             [
              0.8888888888888888,
              "#fdca26"
             ],
             [
              1,
              "#f0f921"
             ]
            ],
            "type": "surface"
           }
          ],
          "table": [
           {
            "cells": {
             "fill": {
              "color": "#EBF0F8"
             },
             "line": {
              "color": "white"
             }
            },
            "header": {
             "fill": {
              "color": "#C8D4E3"
             },
             "line": {
              "color": "white"
             }
            },
            "type": "table"
           }
          ]
         },
         "layout": {
          "annotationdefaults": {
           "arrowcolor": "#2a3f5f",
           "arrowhead": 0,
           "arrowwidth": 1
          },
          "colorscale": {
           "diverging": [
            [
             0,
             "#8e0152"
            ],
            [
             0.1,
             "#c51b7d"
            ],
            [
             0.2,
             "#de77ae"
            ],
            [
             0.3,
             "#f1b6da"
            ],
            [
             0.4,
             "#fde0ef"
            ],
            [
             0.5,
             "#f7f7f7"
            ],
            [
             0.6,
             "#e6f5d0"
            ],
            [
             0.7,
             "#b8e186"
            ],
            [
             0.8,
             "#7fbc41"
            ],
            [
             0.9,
             "#4d9221"
            ],
            [
             1,
             "#276419"
            ]
           ],
           "sequential": [
            [
             0,
             "#0d0887"
            ],
            [
             0.1111111111111111,
             "#46039f"
            ],
            [
             0.2222222222222222,
             "#7201a8"
            ],
            [
             0.3333333333333333,
             "#9c179e"
            ],
            [
             0.4444444444444444,
             "#bd3786"
            ],
            [
             0.5555555555555556,
             "#d8576b"
            ],
            [
             0.6666666666666666,
             "#ed7953"
            ],
            [
             0.7777777777777778,
             "#fb9f3a"
            ],
            [
             0.8888888888888888,
             "#fdca26"
            ],
            [
             1,
             "#f0f921"
            ]
           ],
           "sequentialminus": [
            [
             0,
             "#0d0887"
            ],
            [
             0.1111111111111111,
             "#46039f"
            ],
            [
             0.2222222222222222,
             "#7201a8"
            ],
            [
             0.3333333333333333,
             "#9c179e"
            ],
            [
             0.4444444444444444,
             "#bd3786"
            ],
            [
             0.5555555555555556,
             "#d8576b"
            ],
            [
             0.6666666666666666,
             "#ed7953"
            ],
            [
             0.7777777777777778,
             "#fb9f3a"
            ],
            [
             0.8888888888888888,
             "#fdca26"
            ],
            [
             1,
             "#f0f921"
            ]
           ]
          },
          "colorway": [
           "#636efa",
           "#EF553B",
           "#00cc96",
           "#ab63fa",
           "#FFA15A",
           "#19d3f3",
           "#FF6692",
           "#B6E880",
           "#FF97FF",
           "#FECB52"
          ],
          "font": {
           "color": "#2a3f5f"
          },
          "geo": {
           "bgcolor": "white",
           "lakecolor": "white",
           "landcolor": "#E5ECF6",
           "showlakes": true,
           "showland": true,
           "subunitcolor": "white"
          },
          "hoverlabel": {
           "align": "left"
          },
          "hovermode": "closest",
          "mapbox": {
           "style": "light"
          },
          "paper_bgcolor": "white",
          "plot_bgcolor": "#E5ECF6",
          "polar": {
           "angularaxis": {
            "gridcolor": "white",
            "linecolor": "white",
            "ticks": ""
           },
           "bgcolor": "#E5ECF6",
           "radialaxis": {
            "gridcolor": "white",
            "linecolor": "white",
            "ticks": ""
           }
          },
          "scene": {
           "xaxis": {
            "backgroundcolor": "#E5ECF6",
            "gridcolor": "white",
            "gridwidth": 2,
            "linecolor": "white",
            "showbackground": true,
            "ticks": "",
            "zerolinecolor": "white"
           },
           "yaxis": {
            "backgroundcolor": "#E5ECF6",
            "gridcolor": "white",
            "gridwidth": 2,
            "linecolor": "white",
            "showbackground": true,
            "ticks": "",
            "zerolinecolor": "white"
           },
           "zaxis": {
            "backgroundcolor": "#E5ECF6",
            "gridcolor": "white",
            "gridwidth": 2,
            "linecolor": "white",
            "showbackground": true,
            "ticks": "",
            "zerolinecolor": "white"
           }
          },
          "shapedefaults": {
           "line": {
            "color": "#2a3f5f"
           }
          },
          "ternary": {
           "aaxis": {
            "gridcolor": "white",
            "linecolor": "white",
            "ticks": ""
           },
           "baxis": {
            "gridcolor": "white",
            "linecolor": "white",
            "ticks": ""
           },
           "bgcolor": "#E5ECF6",
           "caxis": {
            "gridcolor": "white",
            "linecolor": "white",
            "ticks": ""
           }
          },
          "title": {
           "x": 0.05
          },
          "xaxis": {
           "automargin": true,
           "gridcolor": "white",
           "linecolor": "white",
           "ticks": "",
           "zerolinecolor": "white",
           "zerolinewidth": 2
          },
          "yaxis": {
           "automargin": true,
           "gridcolor": "white",
           "linecolor": "white",
           "ticks": "",
           "zerolinecolor": "white",
           "zerolinewidth": 2
          }
         }
        },
        "title": {
         "text": "Confirmed Cases Worldwide"
        },
        "xaxis": {
         "anchor": "y",
         "domain": [
          0,
          0.98
         ],
         "title": {
          "text": "Confirmed"
         }
        },
        "yaxis": {
         "anchor": "x",
         "domain": [
          0,
          1
         ],
         "title": {
          "text": "Country"
         }
        }
       }
      },
      "text/html": [
       "<div>\n",
       "        \n",
       "        \n",
       "            <div id=\"5469aa48-0736-42dd-a468-6fecec3ca62e\" class=\"plotly-graph-div\" style=\"height:600px; width:100%;\"></div>\n",
       "            <script type=\"text/javascript\">\n",
       "                require([\"plotly\"], function(Plotly) {\n",
       "                    window.PLOTLYENV=window.PLOTLYENV || {};\n",
       "                    \n",
       "                if (document.getElementById(\"5469aa48-0736-42dd-a468-6fecec3ca62e\")) {\n",
       "                    Plotly.newPlot(\n",
       "                        '5469aa48-0736-42dd-a468-6fecec3ca62e',\n",
       "                        [{\"alignmentgroup\": \"True\", \"hoverlabel\": {\"namelength\": 0}, \"hovertemplate\": \"Confirmed=%{text}<br>Country=%{y}\", \"legendgroup\": \"\", \"marker\": {\"color\": \"#636efa\"}, \"name\": \"\", \"offsetgroup\": \"\", \"orientation\": \"h\", \"showlegend\": false, \"text\": [3.0, 3.0, 5.0, 6.0, 6.0, 7.0, 7.0, 8.0, 9.0, 9.0, 9.0, 10.0, 14.0, 63.0, 206.0, 220.0, 252.0, 698.0, 1755.0, 5329.0], \"textposition\": \"auto\", \"type\": \"bar\", \"x\": [3, 3, 5, 6, 6, 7, 7, 8, 9, 9, 9, 10, 14, 63, 206, 220, 252, 698, 1755, 5329], \"xaxis\": \"x\", \"y\": [\"Brazil\", \"Republic of Korea\", \"Japan\", \"United Kingdom\", \"Australia\", \"France\", \"Switzerland\", \"Malaysia\", \"Mongolia\", \"Thailand\", \"Italy\", \"Germany\", \"Philippines\", \"Viet Nam\", \"Singapore\", \"United States\", \"Canada\", \"Taiwan, China\", \"Hong Kong SAR, China\", \"China\"], \"yaxis\": \"y\"}],\n",
       "                        {\"barmode\": \"relative\", \"height\": 600, \"legend\": {\"tracegroupgap\": 0}, \"template\": {\"data\": {\"bar\": [{\"error_x\": {\"color\": \"#2a3f5f\"}, \"error_y\": {\"color\": \"#2a3f5f\"}, \"marker\": {\"line\": {\"color\": \"#E5ECF6\", \"width\": 0.5}}, \"type\": \"bar\"}], \"barpolar\": [{\"marker\": {\"line\": {\"color\": \"#E5ECF6\", \"width\": 0.5}}, \"type\": \"barpolar\"}], \"carpet\": [{\"aaxis\": {\"endlinecolor\": \"#2a3f5f\", \"gridcolor\": \"white\", \"linecolor\": \"white\", \"minorgridcolor\": \"white\", \"startlinecolor\": \"#2a3f5f\"}, \"baxis\": {\"endlinecolor\": \"#2a3f5f\", \"gridcolor\": \"white\", \"linecolor\": \"white\", \"minorgridcolor\": \"white\", \"startlinecolor\": \"#2a3f5f\"}, \"type\": \"carpet\"}], \"choropleth\": [{\"colorbar\": {\"outlinewidth\": 0, \"ticks\": \"\"}, \"type\": \"choropleth\"}], \"contour\": [{\"colorbar\": {\"outlinewidth\": 0, \"ticks\": \"\"}, \"colorscale\": [[0.0, \"#0d0887\"], [0.1111111111111111, \"#46039f\"], [0.2222222222222222, \"#7201a8\"], [0.3333333333333333, \"#9c179e\"], [0.4444444444444444, \"#bd3786\"], [0.5555555555555556, \"#d8576b\"], [0.6666666666666666, \"#ed7953\"], [0.7777777777777778, \"#fb9f3a\"], [0.8888888888888888, \"#fdca26\"], [1.0, \"#f0f921\"]], \"type\": \"contour\"}], \"contourcarpet\": [{\"colorbar\": {\"outlinewidth\": 0, \"ticks\": \"\"}, \"type\": \"contourcarpet\"}], \"heatmap\": [{\"colorbar\": {\"outlinewidth\": 0, \"ticks\": \"\"}, \"colorscale\": [[0.0, \"#0d0887\"], [0.1111111111111111, \"#46039f\"], [0.2222222222222222, \"#7201a8\"], [0.3333333333333333, \"#9c179e\"], [0.4444444444444444, \"#bd3786\"], [0.5555555555555556, \"#d8576b\"], [0.6666666666666666, \"#ed7953\"], [0.7777777777777778, \"#fb9f3a\"], [0.8888888888888888, \"#fdca26\"], [1.0, \"#f0f921\"]], \"type\": \"heatmap\"}], \"heatmapgl\": [{\"colorbar\": {\"outlinewidth\": 0, \"ticks\": \"\"}, \"colorscale\": [[0.0, \"#0d0887\"], [0.1111111111111111, \"#46039f\"], [0.2222222222222222, \"#7201a8\"], [0.3333333333333333, \"#9c179e\"], [0.4444444444444444, \"#bd3786\"], [0.5555555555555556, \"#d8576b\"], [0.6666666666666666, \"#ed7953\"], [0.7777777777777778, \"#fb9f3a\"], [0.8888888888888888, \"#fdca26\"], [1.0, \"#f0f921\"]], \"type\": \"heatmapgl\"}], \"histogram\": [{\"marker\": {\"colorbar\": {\"outlinewidth\": 0, \"ticks\": \"\"}}, \"type\": \"histogram\"}], \"histogram2d\": [{\"colorbar\": {\"outlinewidth\": 0, \"ticks\": \"\"}, \"colorscale\": [[0.0, \"#0d0887\"], [0.1111111111111111, \"#46039f\"], [0.2222222222222222, \"#7201a8\"], [0.3333333333333333, \"#9c179e\"], [0.4444444444444444, \"#bd3786\"], [0.5555555555555556, \"#d8576b\"], [0.6666666666666666, \"#ed7953\"], [0.7777777777777778, \"#fb9f3a\"], [0.8888888888888888, \"#fdca26\"], [1.0, \"#f0f921\"]], \"type\": \"histogram2d\"}], \"histogram2dcontour\": [{\"colorbar\": {\"outlinewidth\": 0, \"ticks\": \"\"}, \"colorscale\": [[0.0, \"#0d0887\"], [0.1111111111111111, \"#46039f\"], [0.2222222222222222, \"#7201a8\"], [0.3333333333333333, \"#9c179e\"], [0.4444444444444444, \"#bd3786\"], [0.5555555555555556, \"#d8576b\"], [0.6666666666666666, \"#ed7953\"], [0.7777777777777778, \"#fb9f3a\"], [0.8888888888888888, \"#fdca26\"], [1.0, \"#f0f921\"]], \"type\": \"histogram2dcontour\"}], \"mesh3d\": [{\"colorbar\": {\"outlinewidth\": 0, \"ticks\": \"\"}, \"type\": \"mesh3d\"}], \"parcoords\": [{\"line\": {\"colorbar\": {\"outlinewidth\": 0, \"ticks\": \"\"}}, \"type\": \"parcoords\"}], \"scatter\": [{\"marker\": {\"colorbar\": {\"outlinewidth\": 0, \"ticks\": \"\"}}, \"type\": \"scatter\"}], \"scatter3d\": [{\"line\": {\"colorbar\": {\"outlinewidth\": 0, \"ticks\": \"\"}}, \"marker\": {\"colorbar\": {\"outlinewidth\": 0, \"ticks\": \"\"}}, \"type\": \"scatter3d\"}], \"scattercarpet\": [{\"marker\": {\"colorbar\": {\"outlinewidth\": 0, \"ticks\": \"\"}}, \"type\": \"scattercarpet\"}], \"scattergeo\": [{\"marker\": {\"colorbar\": {\"outlinewidth\": 0, \"ticks\": \"\"}}, \"type\": \"scattergeo\"}], \"scattergl\": [{\"marker\": {\"colorbar\": {\"outlinewidth\": 0, \"ticks\": \"\"}}, \"type\": \"scattergl\"}], \"scattermapbox\": [{\"marker\": {\"colorbar\": {\"outlinewidth\": 0, \"ticks\": \"\"}}, \"type\": \"scattermapbox\"}], \"scatterpolar\": [{\"marker\": {\"colorbar\": {\"outlinewidth\": 0, \"ticks\": \"\"}}, \"type\": \"scatterpolar\"}], \"scatterpolargl\": [{\"marker\": {\"colorbar\": {\"outlinewidth\": 0, \"ticks\": \"\"}}, \"type\": \"scatterpolargl\"}], \"scatterternary\": [{\"marker\": {\"colorbar\": {\"outlinewidth\": 0, \"ticks\": \"\"}}, \"type\": \"scatterternary\"}], \"surface\": [{\"colorbar\": {\"outlinewidth\": 0, \"ticks\": \"\"}, \"colorscale\": [[0.0, \"#0d0887\"], [0.1111111111111111, \"#46039f\"], [0.2222222222222222, \"#7201a8\"], [0.3333333333333333, \"#9c179e\"], [0.4444444444444444, \"#bd3786\"], [0.5555555555555556, \"#d8576b\"], [0.6666666666666666, \"#ed7953\"], [0.7777777777777778, \"#fb9f3a\"], [0.8888888888888888, \"#fdca26\"], [1.0, \"#f0f921\"]], \"type\": \"surface\"}], \"table\": [{\"cells\": {\"fill\": {\"color\": \"#EBF0F8\"}, \"line\": {\"color\": \"white\"}}, \"header\": {\"fill\": {\"color\": \"#C8D4E3\"}, \"line\": {\"color\": \"white\"}}, \"type\": \"table\"}]}, \"layout\": {\"annotationdefaults\": {\"arrowcolor\": \"#2a3f5f\", \"arrowhead\": 0, \"arrowwidth\": 1}, \"colorscale\": {\"diverging\": [[0, \"#8e0152\"], [0.1, \"#c51b7d\"], [0.2, \"#de77ae\"], [0.3, \"#f1b6da\"], [0.4, \"#fde0ef\"], [0.5, \"#f7f7f7\"], [0.6, \"#e6f5d0\"], [0.7, \"#b8e186\"], [0.8, \"#7fbc41\"], [0.9, \"#4d9221\"], [1, \"#276419\"]], \"sequential\": [[0.0, \"#0d0887\"], [0.1111111111111111, \"#46039f\"], [0.2222222222222222, \"#7201a8\"], [0.3333333333333333, \"#9c179e\"], [0.4444444444444444, \"#bd3786\"], [0.5555555555555556, \"#d8576b\"], [0.6666666666666666, \"#ed7953\"], [0.7777777777777778, \"#fb9f3a\"], [0.8888888888888888, \"#fdca26\"], [1.0, \"#f0f921\"]], \"sequentialminus\": [[0.0, \"#0d0887\"], [0.1111111111111111, \"#46039f\"], [0.2222222222222222, \"#7201a8\"], [0.3333333333333333, \"#9c179e\"], [0.4444444444444444, \"#bd3786\"], [0.5555555555555556, \"#d8576b\"], [0.6666666666666666, \"#ed7953\"], [0.7777777777777778, \"#fb9f3a\"], [0.8888888888888888, \"#fdca26\"], [1.0, \"#f0f921\"]]}, \"colorway\": [\"#636efa\", \"#EF553B\", \"#00cc96\", \"#ab63fa\", \"#FFA15A\", \"#19d3f3\", \"#FF6692\", \"#B6E880\", \"#FF97FF\", \"#FECB52\"], \"font\": {\"color\": \"#2a3f5f\"}, \"geo\": {\"bgcolor\": \"white\", \"lakecolor\": \"white\", \"landcolor\": \"#E5ECF6\", \"showlakes\": true, \"showland\": true, \"subunitcolor\": \"white\"}, \"hoverlabel\": {\"align\": \"left\"}, \"hovermode\": \"closest\", \"mapbox\": {\"style\": \"light\"}, \"paper_bgcolor\": \"white\", \"plot_bgcolor\": \"#E5ECF6\", \"polar\": {\"angularaxis\": {\"gridcolor\": \"white\", \"linecolor\": \"white\", \"ticks\": \"\"}, \"bgcolor\": \"#E5ECF6\", \"radialaxis\": {\"gridcolor\": \"white\", \"linecolor\": \"white\", \"ticks\": \"\"}}, \"scene\": {\"xaxis\": {\"backgroundcolor\": \"#E5ECF6\", \"gridcolor\": \"white\", \"gridwidth\": 2, \"linecolor\": \"white\", \"showbackground\": true, \"ticks\": \"\", \"zerolinecolor\": \"white\"}, \"yaxis\": {\"backgroundcolor\": \"#E5ECF6\", \"gridcolor\": \"white\", \"gridwidth\": 2, \"linecolor\": \"white\", \"showbackground\": true, \"ticks\": \"\", \"zerolinecolor\": \"white\"}, \"zaxis\": {\"backgroundcolor\": \"#E5ECF6\", \"gridcolor\": \"white\", \"gridwidth\": 2, \"linecolor\": \"white\", \"showbackground\": true, \"ticks\": \"\", \"zerolinecolor\": \"white\"}}, \"shapedefaults\": {\"line\": {\"color\": \"#2a3f5f\"}}, \"ternary\": {\"aaxis\": {\"gridcolor\": \"white\", \"linecolor\": \"white\", \"ticks\": \"\"}, \"baxis\": {\"gridcolor\": \"white\", \"linecolor\": \"white\", \"ticks\": \"\"}, \"bgcolor\": \"#E5ECF6\", \"caxis\": {\"gridcolor\": \"white\", \"linecolor\": \"white\", \"ticks\": \"\"}}, \"title\": {\"x\": 0.05}, \"xaxis\": {\"automargin\": true, \"gridcolor\": \"white\", \"linecolor\": \"white\", \"ticks\": \"\", \"zerolinecolor\": \"white\", \"zerolinewidth\": 2}, \"yaxis\": {\"automargin\": true, \"gridcolor\": \"white\", \"linecolor\": \"white\", \"ticks\": \"\", \"zerolinecolor\": \"white\", \"zerolinewidth\": 2}}}, \"title\": {\"text\": \"Confirmed Cases Worldwide\"}, \"xaxis\": {\"anchor\": \"y\", \"domain\": [0.0, 0.98], \"title\": {\"text\": \"Confirmed\"}}, \"yaxis\": {\"anchor\": \"x\", \"domain\": [0.0, 1.0], \"title\": {\"text\": \"Country\"}}},\n",
       "                        {\"responsive\": true}\n",
       "                    ).then(function(){\n",
       "                            \n",
       "var gd = document.getElementById('5469aa48-0736-42dd-a468-6fecec3ca62e');\n",
       "var x = new MutationObserver(function (mutations, observer) {{\n",
       "        var display = window.getComputedStyle(gd).display;\n",
       "        if (!display || display === 'none') {{\n",
       "            console.log([gd, 'removed!']);\n",
       "            Plotly.purge(gd);\n",
       "            observer.disconnect();\n",
       "        }}\n",
       "}});\n",
       "\n",
       "// Listen for the removal of the full notebook cells\n",
       "var notebookContainer = gd.closest('#notebook-container');\n",
       "if (notebookContainer) {{\n",
       "    x.observe(notebookContainer, {childList: true});\n",
       "}}\n",
       "\n",
       "// Listen for the clearing of the current output cell\n",
       "var outputEl = gd.closest('.output');\n",
       "if (outputEl) {{\n",
       "    x.observe(outputEl, {childList: true});\n",
       "}}\n",
       "\n",
       "                        })\n",
       "                };\n",
       "                });\n",
       "            </script>\n",
       "        </div>"
      ]
     },
     "metadata": {},
     "output_type": "display_data"
    }
   ],
   "source": [
    "# #another bar graph only focuing on top 20 countries and using px.\n",
    "# by_country = sarsdf.groupby('Country')['Confirmed', 'Death', 'Recovered', 'Active'].max().reset_index()\n",
    "# top_20 = by_country.sort_values('Confirmed', ascending = False)[:20][::-1]\n",
    "# fig = px.bar(top_20, x = 'Confirmed', y = 'Country', title = 'Confirmed Cases Worldwide', text = 'Confirmed', height = 600, orientation = 'h')\n",
    "# fig.show()"
   ]
  },
  {
   "cell_type": "code",
   "execution_count": 33,
   "metadata": {
    "scrolled": true
   },
   "outputs": [
    {
     "name": "stderr",
     "output_type": "stream",
     "text": [
      "/Users/bee/anaconda3/lib/python3.7/site-packages/ipykernel_launcher.py:2: FutureWarning:\n",
      "\n",
      "Indexing with multiple keys (implicitly converted to a tuple of keys) will be deprecated, use a list instead.\n",
      "\n"
     ]
    }
   ],
   "source": [
    "#over time for confirmed, death and recovered cases worldwide\n",
    "by_date = sarsdf.groupby('Date')['Confirmed', 'Death', 'Recovered','Active'].sum().reset_index()"
   ]
  },
  {
   "cell_type": "code",
   "execution_count": 34,
   "metadata": {},
   "outputs": [
    {
     "data": {
      "text/html": [
       "<div>\n",
       "<style scoped>\n",
       "    .dataframe tbody tr th:only-of-type {\n",
       "        vertical-align: middle;\n",
       "    }\n",
       "\n",
       "    .dataframe tbody tr th {\n",
       "        vertical-align: top;\n",
       "    }\n",
       "\n",
       "    .dataframe thead th {\n",
       "        text-align: right;\n",
       "    }\n",
       "</style>\n",
       "<table border=\"1\" class=\"dataframe\">\n",
       "  <thead>\n",
       "    <tr style=\"text-align: right;\">\n",
       "      <th></th>\n",
       "      <th>Date</th>\n",
       "      <th>Confirmed</th>\n",
       "      <th>Death</th>\n",
       "      <th>Recovered</th>\n",
       "      <th>Active</th>\n",
       "    </tr>\n",
       "  </thead>\n",
       "  <tbody>\n",
       "    <tr>\n",
       "      <th>0</th>\n",
       "      <td>2003-03-17</td>\n",
       "      <td>167</td>\n",
       "      <td>4</td>\n",
       "      <td>0</td>\n",
       "      <td>163</td>\n",
       "    </tr>\n",
       "    <tr>\n",
       "      <th>1</th>\n",
       "      <td>2003-03-18</td>\n",
       "      <td>219</td>\n",
       "      <td>4</td>\n",
       "      <td>0</td>\n",
       "      <td>215</td>\n",
       "    </tr>\n",
       "    <tr>\n",
       "      <th>2</th>\n",
       "      <td>2003-03-19</td>\n",
       "      <td>264</td>\n",
       "      <td>9</td>\n",
       "      <td>0</td>\n",
       "      <td>255</td>\n",
       "    </tr>\n",
       "    <tr>\n",
       "      <th>3</th>\n",
       "      <td>2003-03-20</td>\n",
       "      <td>306</td>\n",
       "      <td>10</td>\n",
       "      <td>0</td>\n",
       "      <td>296</td>\n",
       "    </tr>\n",
       "    <tr>\n",
       "      <th>4</th>\n",
       "      <td>2003-03-21</td>\n",
       "      <td>350</td>\n",
       "      <td>10</td>\n",
       "      <td>0</td>\n",
       "      <td>340</td>\n",
       "    </tr>\n",
       "    <tr>\n",
       "      <th>...</th>\n",
       "      <td>...</td>\n",
       "      <td>...</td>\n",
       "      <td>...</td>\n",
       "      <td>...</td>\n",
       "      <td>...</td>\n",
       "    </tr>\n",
       "    <tr>\n",
       "      <th>91</th>\n",
       "      <td>2003-07-07</td>\n",
       "      <td>8434</td>\n",
       "      <td>812</td>\n",
       "      <td>7426</td>\n",
       "      <td>196</td>\n",
       "    </tr>\n",
       "    <tr>\n",
       "      <th>92</th>\n",
       "      <td>2003-07-08</td>\n",
       "      <td>8431</td>\n",
       "      <td>812</td>\n",
       "      <td>7428</td>\n",
       "      <td>191</td>\n",
       "    </tr>\n",
       "    <tr>\n",
       "      <th>93</th>\n",
       "      <td>2003-07-09</td>\n",
       "      <td>8431</td>\n",
       "      <td>812</td>\n",
       "      <td>7438</td>\n",
       "      <td>181</td>\n",
       "    </tr>\n",
       "    <tr>\n",
       "      <th>94</th>\n",
       "      <td>2003-07-10</td>\n",
       "      <td>8432</td>\n",
       "      <td>812</td>\n",
       "      <td>7444</td>\n",
       "      <td>176</td>\n",
       "    </tr>\n",
       "    <tr>\n",
       "      <th>95</th>\n",
       "      <td>2003-07-11</td>\n",
       "      <td>8432</td>\n",
       "      <td>813</td>\n",
       "      <td>7447</td>\n",
       "      <td>172</td>\n",
       "    </tr>\n",
       "  </tbody>\n",
       "</table>\n",
       "<p>96 rows × 5 columns</p>\n",
       "</div>"
      ],
      "text/plain": [
       "         Date  Confirmed  Death  Recovered  Active\n",
       "0  2003-03-17        167      4          0     163\n",
       "1  2003-03-18        219      4          0     215\n",
       "2  2003-03-19        264      9          0     255\n",
       "3  2003-03-20        306     10          0     296\n",
       "4  2003-03-21        350     10          0     340\n",
       "..        ...        ...    ...        ...     ...\n",
       "91 2003-07-07       8434    812       7426     196\n",
       "92 2003-07-08       8431    812       7428     191\n",
       "93 2003-07-09       8431    812       7438     181\n",
       "94 2003-07-10       8432    812       7444     176\n",
       "95 2003-07-11       8432    813       7447     172\n",
       "\n",
       "[96 rows x 5 columns]"
      ]
     },
     "execution_count": 34,
     "metadata": {},
     "output_type": "execute_result"
    }
   ],
   "source": [
    "by_date"
   ]
  },
  {
   "cell_type": "code",
   "execution_count": 35,
   "metadata": {},
   "outputs": [],
   "source": [
    "#melt it \n",
    "melt_by_date = by_date.melt(id_vars ='Date', value_vars=['Confirmed', 'Death', 'Recovered','Active'])"
   ]
  },
  {
   "cell_type": "code",
   "execution_count": 36,
   "metadata": {},
   "outputs": [
    {
     "data": {
      "application/vnd.plotly.v1+json": {
       "config": {
        "plotlyServerURL": "https://plot.ly"
       },
       "data": [
        {
         "hoverlabel": {
          "namelength": 0
         },
         "hovertemplate": "variable=Confirmed<br>Date=%{x}<br>value=%{y}",
         "legendgroup": "variable=Confirmed",
         "line": {
          "color": "#636efa",
          "dash": "solid"
         },
         "mode": "lines",
         "name": "variable=Confirmed",
         "showlegend": true,
         "type": "scatter",
         "x": [
          "2003-03-17T00:00:00",
          "2003-03-18T00:00:00",
          "2003-03-19T00:00:00",
          "2003-03-20T00:00:00",
          "2003-03-21T00:00:00",
          "2003-03-22T00:00:00",
          "2003-03-24T00:00:00",
          "2003-03-25T00:00:00",
          "2003-03-26T00:00:00",
          "2003-03-27T00:00:00",
          "2003-03-28T00:00:00",
          "2003-03-29T00:00:00",
          "2003-03-31T00:00:00",
          "2003-04-01T00:00:00",
          "2003-04-02T00:00:00",
          "2003-04-03T00:00:00",
          "2003-04-04T00:00:00",
          "2003-04-05T00:00:00",
          "2003-04-07T00:00:00",
          "2003-04-08T00:00:00",
          "2003-04-09T00:00:00",
          "2003-04-10T00:00:00",
          "2003-04-11T00:00:00",
          "2003-04-12T00:00:00",
          "2003-04-14T00:00:00",
          "2003-04-15T00:00:00",
          "2003-04-16T00:00:00",
          "2003-04-17T00:00:00",
          "2003-04-18T00:00:00",
          "2003-04-19T00:00:00",
          "2003-04-21T00:00:00",
          "2003-04-22T00:00:00",
          "2003-04-23T00:00:00",
          "2003-04-24T00:00:00",
          "2003-04-25T00:00:00",
          "2003-04-26T00:00:00",
          "2003-04-28T00:00:00",
          "2003-04-29T00:00:00",
          "2003-04-30T00:00:00",
          "2003-05-01T00:00:00",
          "2003-05-02T00:00:00",
          "2003-05-03T00:00:00",
          "2003-05-05T00:00:00",
          "2003-05-06T00:00:00",
          "2003-05-07T00:00:00",
          "2003-05-08T00:00:00",
          "2003-05-09T00:00:00",
          "2003-05-10T00:00:00",
          "2003-05-12T00:00:00",
          "2003-05-13T00:00:00",
          "2003-05-14T00:00:00",
          "2003-05-15T00:00:00",
          "2003-05-16T00:00:00",
          "2003-05-17T00:00:00",
          "2003-05-19T00:00:00",
          "2003-05-20T00:00:00",
          "2003-05-21T00:00:00",
          "2003-05-22T00:00:00",
          "2003-05-23T00:00:00",
          "2003-05-24T00:00:00",
          "2003-05-26T00:00:00",
          "2003-05-27T00:00:00",
          "2003-05-28T00:00:00",
          "2003-05-29T00:00:00",
          "2003-05-30T00:00:00",
          "2003-05-31T00:00:00",
          "2003-06-02T00:00:00",
          "2003-06-03T00:00:00",
          "2003-06-04T00:00:00",
          "2003-06-05T00:00:00",
          "2003-06-06T00:00:00",
          "2003-06-09T00:00:00",
          "2003-06-10T00:00:00",
          "2003-06-11T00:00:00",
          "2003-06-12T00:00:00",
          "2003-06-13T00:00:00",
          "2003-06-16T00:00:00",
          "2003-06-17T00:00:00",
          "2003-06-18T00:00:00",
          "2003-06-19T00:00:00",
          "2003-06-20T00:00:00",
          "2003-06-23T00:00:00",
          "2003-06-24T00:00:00",
          "2003-06-25T00:00:00",
          "2003-06-26T00:00:00",
          "2003-06-27T00:00:00",
          "2003-06-30T00:00:00",
          "2003-07-01T00:00:00",
          "2003-07-02T00:00:00",
          "2003-07-03T00:00:00",
          "2003-07-04T00:00:00",
          "2003-07-07T00:00:00",
          "2003-07-08T00:00:00",
          "2003-07-09T00:00:00",
          "2003-07-10T00:00:00",
          "2003-07-11T00:00:00"
         ],
         "xaxis": "x",
         "y": [
          167,
          219,
          264,
          306,
          350,
          386,
          456,
          487,
          1323,
          1408,
          1485,
          1550,
          1622,
          1804,
          2223,
          2270,
          2353,
          2416,
          2601,
          2671,
          2722,
          2781,
          2890,
          2960,
          3169,
          3235,
          3293,
          3389,
          3547,
          3547,
          3861,
          3947,
          4288,
          4435,
          4645,
          4832,
          5046,
          5458,
          5659,
          5861,
          6050,
          6230,
          6579,
          6723,
          6899,
          7049,
          7179,
          7292,
          7441,
          7542,
          7622,
          7693,
          7733,
          7755,
          7858,
          7913,
          7950,
          8046,
          8111,
          8135,
          8196,
          8215,
          8240,
          8295,
          8311,
          8354,
          8379,
          8393,
          8397,
          8398,
          8399,
          8416,
          8425,
          8430,
          8440,
          8449,
          8455,
          8459,
          8460,
          8457,
          8456,
          8454,
          8453,
          8455,
          8451,
          8445,
          8447,
          8440,
          8437,
          8434,
          8434,
          8434,
          8431,
          8431,
          8432,
          8432
         ],
         "yaxis": "y"
        },
        {
         "hoverlabel": {
          "namelength": 0
         },
         "hovertemplate": "variable=Death<br>Date=%{x}<br>value=%{y}",
         "legendgroup": "variable=Death",
         "line": {
          "color": "#EF553B",
          "dash": "solid"
         },
         "mode": "lines",
         "name": "variable=Death",
         "showlegend": true,
         "type": "scatter",
         "x": [
          "2003-03-17T00:00:00",
          "2003-03-18T00:00:00",
          "2003-03-19T00:00:00",
          "2003-03-20T00:00:00",
          "2003-03-21T00:00:00",
          "2003-03-22T00:00:00",
          "2003-03-24T00:00:00",
          "2003-03-25T00:00:00",
          "2003-03-26T00:00:00",
          "2003-03-27T00:00:00",
          "2003-03-28T00:00:00",
          "2003-03-29T00:00:00",
          "2003-03-31T00:00:00",
          "2003-04-01T00:00:00",
          "2003-04-02T00:00:00",
          "2003-04-03T00:00:00",
          "2003-04-04T00:00:00",
          "2003-04-05T00:00:00",
          "2003-04-07T00:00:00",
          "2003-04-08T00:00:00",
          "2003-04-09T00:00:00",
          "2003-04-10T00:00:00",
          "2003-04-11T00:00:00",
          "2003-04-12T00:00:00",
          "2003-04-14T00:00:00",
          "2003-04-15T00:00:00",
          "2003-04-16T00:00:00",
          "2003-04-17T00:00:00",
          "2003-04-18T00:00:00",
          "2003-04-19T00:00:00",
          "2003-04-21T00:00:00",
          "2003-04-22T00:00:00",
          "2003-04-23T00:00:00",
          "2003-04-24T00:00:00",
          "2003-04-25T00:00:00",
          "2003-04-26T00:00:00",
          "2003-04-28T00:00:00",
          "2003-04-29T00:00:00",
          "2003-04-30T00:00:00",
          "2003-05-01T00:00:00",
          "2003-05-02T00:00:00",
          "2003-05-03T00:00:00",
          "2003-05-05T00:00:00",
          "2003-05-06T00:00:00",
          "2003-05-07T00:00:00",
          "2003-05-08T00:00:00",
          "2003-05-09T00:00:00",
          "2003-05-10T00:00:00",
          "2003-05-12T00:00:00",
          "2003-05-13T00:00:00",
          "2003-05-14T00:00:00",
          "2003-05-15T00:00:00",
          "2003-05-16T00:00:00",
          "2003-05-17T00:00:00",
          "2003-05-19T00:00:00",
          "2003-05-20T00:00:00",
          "2003-05-21T00:00:00",
          "2003-05-22T00:00:00",
          "2003-05-23T00:00:00",
          "2003-05-24T00:00:00",
          "2003-05-26T00:00:00",
          "2003-05-27T00:00:00",
          "2003-05-28T00:00:00",
          "2003-05-29T00:00:00",
          "2003-05-30T00:00:00",
          "2003-05-31T00:00:00",
          "2003-06-02T00:00:00",
          "2003-06-03T00:00:00",
          "2003-06-04T00:00:00",
          "2003-06-05T00:00:00",
          "2003-06-06T00:00:00",
          "2003-06-09T00:00:00",
          "2003-06-10T00:00:00",
          "2003-06-11T00:00:00",
          "2003-06-12T00:00:00",
          "2003-06-13T00:00:00",
          "2003-06-16T00:00:00",
          "2003-06-17T00:00:00",
          "2003-06-18T00:00:00",
          "2003-06-19T00:00:00",
          "2003-06-20T00:00:00",
          "2003-06-23T00:00:00",
          "2003-06-24T00:00:00",
          "2003-06-25T00:00:00",
          "2003-06-26T00:00:00",
          "2003-06-27T00:00:00",
          "2003-06-30T00:00:00",
          "2003-07-01T00:00:00",
          "2003-07-02T00:00:00",
          "2003-07-03T00:00:00",
          "2003-07-04T00:00:00",
          "2003-07-07T00:00:00",
          "2003-07-08T00:00:00",
          "2003-07-09T00:00:00",
          "2003-07-10T00:00:00",
          "2003-07-11T00:00:00"
         ],
         "xaxis": "x",
         "y": [
          4,
          4,
          9,
          10,
          10,
          11,
          17,
          17,
          49,
          53,
          53,
          54,
          58,
          62,
          78,
          79,
          84,
          89,
          98,
          103,
          106,
          111,
          116,
          119,
          144,
          154,
          159,
          165,
          182,
          182,
          217,
          229,
          251,
          263,
          274,
          293,
          321,
          353,
          372,
          391,
          417,
          435,
          461,
          478,
          495,
          506,
          514,
          526,
          552,
          573,
          587,
          598,
          611,
          623,
          643,
          662,
          666,
          682,
          689,
          696,
          725,
          735,
          745,
          750,
          754,
          764,
          770,
          772,
          772,
          775,
          779,
          784,
          789,
          789,
          790,
          792,
          799,
          799,
          801,
          804,
          804,
          805,
          807,
          808,
          809,
          810,
          811,
          812,
          812,
          812,
          812,
          812,
          812,
          812,
          812,
          813
         ],
         "yaxis": "y"
        },
        {
         "hoverlabel": {
          "namelength": 0
         },
         "hovertemplate": "variable=Recovered<br>Date=%{x}<br>value=%{y}",
         "legendgroup": "variable=Recovered",
         "line": {
          "color": "#00cc96",
          "dash": "solid"
         },
         "mode": "lines",
         "name": "variable=Recovered",
         "showlegend": true,
         "type": "scatter",
         "x": [
          "2003-03-17T00:00:00",
          "2003-03-18T00:00:00",
          "2003-03-19T00:00:00",
          "2003-03-20T00:00:00",
          "2003-03-21T00:00:00",
          "2003-03-22T00:00:00",
          "2003-03-24T00:00:00",
          "2003-03-25T00:00:00",
          "2003-03-26T00:00:00",
          "2003-03-27T00:00:00",
          "2003-03-28T00:00:00",
          "2003-03-29T00:00:00",
          "2003-03-31T00:00:00",
          "2003-04-01T00:00:00",
          "2003-04-02T00:00:00",
          "2003-04-03T00:00:00",
          "2003-04-04T00:00:00",
          "2003-04-05T00:00:00",
          "2003-04-07T00:00:00",
          "2003-04-08T00:00:00",
          "2003-04-09T00:00:00",
          "2003-04-10T00:00:00",
          "2003-04-11T00:00:00",
          "2003-04-12T00:00:00",
          "2003-04-14T00:00:00",
          "2003-04-15T00:00:00",
          "2003-04-16T00:00:00",
          "2003-04-17T00:00:00",
          "2003-04-18T00:00:00",
          "2003-04-19T00:00:00",
          "2003-04-21T00:00:00",
          "2003-04-22T00:00:00",
          "2003-04-23T00:00:00",
          "2003-04-24T00:00:00",
          "2003-04-25T00:00:00",
          "2003-04-26T00:00:00",
          "2003-04-28T00:00:00",
          "2003-04-29T00:00:00",
          "2003-04-30T00:00:00",
          "2003-05-01T00:00:00",
          "2003-05-02T00:00:00",
          "2003-05-03T00:00:00",
          "2003-05-05T00:00:00",
          "2003-05-06T00:00:00",
          "2003-05-07T00:00:00",
          "2003-05-08T00:00:00",
          "2003-05-09T00:00:00",
          "2003-05-10T00:00:00",
          "2003-05-12T00:00:00",
          "2003-05-13T00:00:00",
          "2003-05-14T00:00:00",
          "2003-05-15T00:00:00",
          "2003-05-16T00:00:00",
          "2003-05-17T00:00:00",
          "2003-05-19T00:00:00",
          "2003-05-20T00:00:00",
          "2003-05-21T00:00:00",
          "2003-05-22T00:00:00",
          "2003-05-23T00:00:00",
          "2003-05-24T00:00:00",
          "2003-05-26T00:00:00",
          "2003-05-27T00:00:00",
          "2003-05-28T00:00:00",
          "2003-05-29T00:00:00",
          "2003-05-30T00:00:00",
          "2003-05-31T00:00:00",
          "2003-06-02T00:00:00",
          "2003-06-03T00:00:00",
          "2003-06-04T00:00:00",
          "2003-06-05T00:00:00",
          "2003-06-06T00:00:00",
          "2003-06-09T00:00:00",
          "2003-06-10T00:00:00",
          "2003-06-11T00:00:00",
          "2003-06-12T00:00:00",
          "2003-06-13T00:00:00",
          "2003-06-16T00:00:00",
          "2003-06-17T00:00:00",
          "2003-06-18T00:00:00",
          "2003-06-19T00:00:00",
          "2003-06-20T00:00:00",
          "2003-06-23T00:00:00",
          "2003-06-24T00:00:00",
          "2003-06-25T00:00:00",
          "2003-06-26T00:00:00",
          "2003-06-27T00:00:00",
          "2003-06-30T00:00:00",
          "2003-07-01T00:00:00",
          "2003-07-02T00:00:00",
          "2003-07-03T00:00:00",
          "2003-07-04T00:00:00",
          "2003-07-07T00:00:00",
          "2003-07-08T00:00:00",
          "2003-07-09T00:00:00",
          "2003-07-10T00:00:00",
          "2003-07-11T00:00:00"
         ],
         "xaxis": "x",
         "y": [
          0,
          0,
          0,
          0,
          0,
          0,
          0,
          0,
          0,
          0,
          0,
          0,
          0,
          0,
          0,
          0,
          0,
          0,
          0,
          0,
          0,
          1337,
          1373,
          1425,
          1499,
          1515,
          1548,
          1597,
          1749,
          1749,
          1873,
          1935,
          2032,
          2114,
          2203,
          2236,
          2339,
          2424,
          2467,
          2559,
          2639,
          2698,
          2760,
          2822,
          2881,
          2955,
          3019,
          3083,
          3189,
          3292,
          3391,
          3478,
          3584,
          3668,
          3841,
          3978,
          4079,
          4210,
          4320,
          4462,
          4656,
          4781,
          4891,
          4994,
          5123,
          5258,
          5397,
          5470,
          5741,
          5825,
          5932,
          6275,
          6452,
          6576,
          6665,
          6788,
          6984,
          7086,
          7143,
          7173,
          7213,
          7319,
          7343,
          7360,
          7366,
          7396,
          7417,
          7417,
          7419,
          7422,
          7426,
          7426,
          7428,
          7438,
          7444,
          7447
         ],
         "yaxis": "y"
        },
        {
         "hoverlabel": {
          "namelength": 0
         },
         "hovertemplate": "variable=Active<br>Date=%{x}<br>value=%{y}",
         "legendgroup": "variable=Active",
         "line": {
          "color": "#ab63fa",
          "dash": "solid"
         },
         "mode": "lines",
         "name": "variable=Active",
         "showlegend": true,
         "type": "scatter",
         "x": [
          "2003-03-17T00:00:00",
          "2003-03-18T00:00:00",
          "2003-03-19T00:00:00",
          "2003-03-20T00:00:00",
          "2003-03-21T00:00:00",
          "2003-03-22T00:00:00",
          "2003-03-24T00:00:00",
          "2003-03-25T00:00:00",
          "2003-03-26T00:00:00",
          "2003-03-27T00:00:00",
          "2003-03-28T00:00:00",
          "2003-03-29T00:00:00",
          "2003-03-31T00:00:00",
          "2003-04-01T00:00:00",
          "2003-04-02T00:00:00",
          "2003-04-03T00:00:00",
          "2003-04-04T00:00:00",
          "2003-04-05T00:00:00",
          "2003-04-07T00:00:00",
          "2003-04-08T00:00:00",
          "2003-04-09T00:00:00",
          "2003-04-10T00:00:00",
          "2003-04-11T00:00:00",
          "2003-04-12T00:00:00",
          "2003-04-14T00:00:00",
          "2003-04-15T00:00:00",
          "2003-04-16T00:00:00",
          "2003-04-17T00:00:00",
          "2003-04-18T00:00:00",
          "2003-04-19T00:00:00",
          "2003-04-21T00:00:00",
          "2003-04-22T00:00:00",
          "2003-04-23T00:00:00",
          "2003-04-24T00:00:00",
          "2003-04-25T00:00:00",
          "2003-04-26T00:00:00",
          "2003-04-28T00:00:00",
          "2003-04-29T00:00:00",
          "2003-04-30T00:00:00",
          "2003-05-01T00:00:00",
          "2003-05-02T00:00:00",
          "2003-05-03T00:00:00",
          "2003-05-05T00:00:00",
          "2003-05-06T00:00:00",
          "2003-05-07T00:00:00",
          "2003-05-08T00:00:00",
          "2003-05-09T00:00:00",
          "2003-05-10T00:00:00",
          "2003-05-12T00:00:00",
          "2003-05-13T00:00:00",
          "2003-05-14T00:00:00",
          "2003-05-15T00:00:00",
          "2003-05-16T00:00:00",
          "2003-05-17T00:00:00",
          "2003-05-19T00:00:00",
          "2003-05-20T00:00:00",
          "2003-05-21T00:00:00",
          "2003-05-22T00:00:00",
          "2003-05-23T00:00:00",
          "2003-05-24T00:00:00",
          "2003-05-26T00:00:00",
          "2003-05-27T00:00:00",
          "2003-05-28T00:00:00",
          "2003-05-29T00:00:00",
          "2003-05-30T00:00:00",
          "2003-05-31T00:00:00",
          "2003-06-02T00:00:00",
          "2003-06-03T00:00:00",
          "2003-06-04T00:00:00",
          "2003-06-05T00:00:00",
          "2003-06-06T00:00:00",
          "2003-06-09T00:00:00",
          "2003-06-10T00:00:00",
          "2003-06-11T00:00:00",
          "2003-06-12T00:00:00",
          "2003-06-13T00:00:00",
          "2003-06-16T00:00:00",
          "2003-06-17T00:00:00",
          "2003-06-18T00:00:00",
          "2003-06-19T00:00:00",
          "2003-06-20T00:00:00",
          "2003-06-23T00:00:00",
          "2003-06-24T00:00:00",
          "2003-06-25T00:00:00",
          "2003-06-26T00:00:00",
          "2003-06-27T00:00:00",
          "2003-06-30T00:00:00",
          "2003-07-01T00:00:00",
          "2003-07-02T00:00:00",
          "2003-07-03T00:00:00",
          "2003-07-04T00:00:00",
          "2003-07-07T00:00:00",
          "2003-07-08T00:00:00",
          "2003-07-09T00:00:00",
          "2003-07-10T00:00:00",
          "2003-07-11T00:00:00"
         ],
         "xaxis": "x",
         "y": [
          163,
          215,
          255,
          296,
          340,
          375,
          439,
          470,
          1274,
          1355,
          1432,
          1496,
          1564,
          1742,
          2145,
          2191,
          2269,
          2327,
          2503,
          2568,
          2616,
          1333,
          1401,
          1416,
          1526,
          1566,
          1586,
          1627,
          1616,
          1616,
          1771,
          1783,
          2005,
          2058,
          2168,
          2303,
          2386,
          2681,
          2820,
          2911,
          2994,
          3097,
          3358,
          3423,
          3523,
          3588,
          3646,
          3683,
          3700,
          3677,
          3644,
          3617,
          3538,
          3464,
          3374,
          3273,
          3205,
          3154,
          3102,
          2977,
          2815,
          2699,
          2604,
          2551,
          2434,
          2332,
          2212,
          2151,
          1884,
          1798,
          1688,
          1357,
          1184,
          1065,
          985,
          869,
          672,
          574,
          516,
          480,
          439,
          330,
          303,
          287,
          276,
          239,
          219,
          211,
          206,
          200,
          196,
          196,
          191,
          181,
          176,
          172
         ],
         "yaxis": "y"
        }
       ],
       "layout": {
        "height": 600,
        "legend": {
         "tracegroupgap": 0
        },
        "template": {
         "data": {
          "bar": [
           {
            "error_x": {
             "color": "#2a3f5f"
            },
            "error_y": {
             "color": "#2a3f5f"
            },
            "marker": {
             "line": {
              "color": "#E5ECF6",
              "width": 0.5
             }
            },
            "type": "bar"
           }
          ],
          "barpolar": [
           {
            "marker": {
             "line": {
              "color": "#E5ECF6",
              "width": 0.5
             }
            },
            "type": "barpolar"
           }
          ],
          "carpet": [
           {
            "aaxis": {
             "endlinecolor": "#2a3f5f",
             "gridcolor": "white",
             "linecolor": "white",
             "minorgridcolor": "white",
             "startlinecolor": "#2a3f5f"
            },
            "baxis": {
             "endlinecolor": "#2a3f5f",
             "gridcolor": "white",
             "linecolor": "white",
             "minorgridcolor": "white",
             "startlinecolor": "#2a3f5f"
            },
            "type": "carpet"
           }
          ],
          "choropleth": [
           {
            "colorbar": {
             "outlinewidth": 0,
             "ticks": ""
            },
            "type": "choropleth"
           }
          ],
          "contour": [
           {
            "colorbar": {
             "outlinewidth": 0,
             "ticks": ""
            },
            "colorscale": [
             [
              0,
              "#0d0887"
             ],
             [
              0.1111111111111111,
              "#46039f"
             ],
             [
              0.2222222222222222,
              "#7201a8"
             ],
             [
              0.3333333333333333,
              "#9c179e"
             ],
             [
              0.4444444444444444,
              "#bd3786"
             ],
             [
              0.5555555555555556,
              "#d8576b"
             ],
             [
              0.6666666666666666,
              "#ed7953"
             ],
             [
              0.7777777777777778,
              "#fb9f3a"
             ],
             [
              0.8888888888888888,
              "#fdca26"
             ],
             [
              1,
              "#f0f921"
             ]
            ],
            "type": "contour"
           }
          ],
          "contourcarpet": [
           {
            "colorbar": {
             "outlinewidth": 0,
             "ticks": ""
            },
            "type": "contourcarpet"
           }
          ],
          "heatmap": [
           {
            "colorbar": {
             "outlinewidth": 0,
             "ticks": ""
            },
            "colorscale": [
             [
              0,
              "#0d0887"
             ],
             [
              0.1111111111111111,
              "#46039f"
             ],
             [
              0.2222222222222222,
              "#7201a8"
             ],
             [
              0.3333333333333333,
              "#9c179e"
             ],
             [
              0.4444444444444444,
              "#bd3786"
             ],
             [
              0.5555555555555556,
              "#d8576b"
             ],
             [
              0.6666666666666666,
              "#ed7953"
             ],
             [
              0.7777777777777778,
              "#fb9f3a"
             ],
             [
              0.8888888888888888,
              "#fdca26"
             ],
             [
              1,
              "#f0f921"
             ]
            ],
            "type": "heatmap"
           }
          ],
          "heatmapgl": [
           {
            "colorbar": {
             "outlinewidth": 0,
             "ticks": ""
            },
            "colorscale": [
             [
              0,
              "#0d0887"
             ],
             [
              0.1111111111111111,
              "#46039f"
             ],
             [
              0.2222222222222222,
              "#7201a8"
             ],
             [
              0.3333333333333333,
              "#9c179e"
             ],
             [
              0.4444444444444444,
              "#bd3786"
             ],
             [
              0.5555555555555556,
              "#d8576b"
             ],
             [
              0.6666666666666666,
              "#ed7953"
             ],
             [
              0.7777777777777778,
              "#fb9f3a"
             ],
             [
              0.8888888888888888,
              "#fdca26"
             ],
             [
              1,
              "#f0f921"
             ]
            ],
            "type": "heatmapgl"
           }
          ],
          "histogram": [
           {
            "marker": {
             "colorbar": {
              "outlinewidth": 0,
              "ticks": ""
             }
            },
            "type": "histogram"
           }
          ],
          "histogram2d": [
           {
            "colorbar": {
             "outlinewidth": 0,
             "ticks": ""
            },
            "colorscale": [
             [
              0,
              "#0d0887"
             ],
             [
              0.1111111111111111,
              "#46039f"
             ],
             [
              0.2222222222222222,
              "#7201a8"
             ],
             [
              0.3333333333333333,
              "#9c179e"
             ],
             [
              0.4444444444444444,
              "#bd3786"
             ],
             [
              0.5555555555555556,
              "#d8576b"
             ],
             [
              0.6666666666666666,
              "#ed7953"
             ],
             [
              0.7777777777777778,
              "#fb9f3a"
             ],
             [
              0.8888888888888888,
              "#fdca26"
             ],
             [
              1,
              "#f0f921"
             ]
            ],
            "type": "histogram2d"
           }
          ],
          "histogram2dcontour": [
           {
            "colorbar": {
             "outlinewidth": 0,
             "ticks": ""
            },
            "colorscale": [
             [
              0,
              "#0d0887"
             ],
             [
              0.1111111111111111,
              "#46039f"
             ],
             [
              0.2222222222222222,
              "#7201a8"
             ],
             [
              0.3333333333333333,
              "#9c179e"
             ],
             [
              0.4444444444444444,
              "#bd3786"
             ],
             [
              0.5555555555555556,
              "#d8576b"
             ],
             [
              0.6666666666666666,
              "#ed7953"
             ],
             [
              0.7777777777777778,
              "#fb9f3a"
             ],
             [
              0.8888888888888888,
              "#fdca26"
             ],
             [
              1,
              "#f0f921"
             ]
            ],
            "type": "histogram2dcontour"
           }
          ],
          "mesh3d": [
           {
            "colorbar": {
             "outlinewidth": 0,
             "ticks": ""
            },
            "type": "mesh3d"
           }
          ],
          "parcoords": [
           {
            "line": {
             "colorbar": {
              "outlinewidth": 0,
              "ticks": ""
             }
            },
            "type": "parcoords"
           }
          ],
          "scatter": [
           {
            "marker": {
             "colorbar": {
              "outlinewidth": 0,
              "ticks": ""
             }
            },
            "type": "scatter"
           }
          ],
          "scatter3d": [
           {
            "line": {
             "colorbar": {
              "outlinewidth": 0,
              "ticks": ""
             }
            },
            "marker": {
             "colorbar": {
              "outlinewidth": 0,
              "ticks": ""
             }
            },
            "type": "scatter3d"
           }
          ],
          "scattercarpet": [
           {
            "marker": {
             "colorbar": {
              "outlinewidth": 0,
              "ticks": ""
             }
            },
            "type": "scattercarpet"
           }
          ],
          "scattergeo": [
           {
            "marker": {
             "colorbar": {
              "outlinewidth": 0,
              "ticks": ""
             }
            },
            "type": "scattergeo"
           }
          ],
          "scattergl": [
           {
            "marker": {
             "colorbar": {
              "outlinewidth": 0,
              "ticks": ""
             }
            },
            "type": "scattergl"
           }
          ],
          "scattermapbox": [
           {
            "marker": {
             "colorbar": {
              "outlinewidth": 0,
              "ticks": ""
             }
            },
            "type": "scattermapbox"
           }
          ],
          "scatterpolar": [
           {
            "marker": {
             "colorbar": {
              "outlinewidth": 0,
              "ticks": ""
             }
            },
            "type": "scatterpolar"
           }
          ],
          "scatterpolargl": [
           {
            "marker": {
             "colorbar": {
              "outlinewidth": 0,
              "ticks": ""
             }
            },
            "type": "scatterpolargl"
           }
          ],
          "scatterternary": [
           {
            "marker": {
             "colorbar": {
              "outlinewidth": 0,
              "ticks": ""
             }
            },
            "type": "scatterternary"
           }
          ],
          "surface": [
           {
            "colorbar": {
             "outlinewidth": 0,
             "ticks": ""
            },
            "colorscale": [
             [
              0,
              "#0d0887"
             ],
             [
              0.1111111111111111,
              "#46039f"
             ],
             [
              0.2222222222222222,
              "#7201a8"
             ],
             [
              0.3333333333333333,
              "#9c179e"
             ],
             [
              0.4444444444444444,
              "#bd3786"
             ],
             [
              0.5555555555555556,
              "#d8576b"
             ],
             [
              0.6666666666666666,
              "#ed7953"
             ],
             [
              0.7777777777777778,
              "#fb9f3a"
             ],
             [
              0.8888888888888888,
              "#fdca26"
             ],
             [
              1,
              "#f0f921"
             ]
            ],
            "type": "surface"
           }
          ],
          "table": [
           {
            "cells": {
             "fill": {
              "color": "#EBF0F8"
             },
             "line": {
              "color": "white"
             }
            },
            "header": {
             "fill": {
              "color": "#C8D4E3"
             },
             "line": {
              "color": "white"
             }
            },
            "type": "table"
           }
          ]
         },
         "layout": {
          "annotationdefaults": {
           "arrowcolor": "#2a3f5f",
           "arrowhead": 0,
           "arrowwidth": 1
          },
          "colorscale": {
           "diverging": [
            [
             0,
             "#8e0152"
            ],
            [
             0.1,
             "#c51b7d"
            ],
            [
             0.2,
             "#de77ae"
            ],
            [
             0.3,
             "#f1b6da"
            ],
            [
             0.4,
             "#fde0ef"
            ],
            [
             0.5,
             "#f7f7f7"
            ],
            [
             0.6,
             "#e6f5d0"
            ],
            [
             0.7,
             "#b8e186"
            ],
            [
             0.8,
             "#7fbc41"
            ],
            [
             0.9,
             "#4d9221"
            ],
            [
             1,
             "#276419"
            ]
           ],
           "sequential": [
            [
             0,
             "#0d0887"
            ],
            [
             0.1111111111111111,
             "#46039f"
            ],
            [
             0.2222222222222222,
             "#7201a8"
            ],
            [
             0.3333333333333333,
             "#9c179e"
            ],
            [
             0.4444444444444444,
             "#bd3786"
            ],
            [
             0.5555555555555556,
             "#d8576b"
            ],
            [
             0.6666666666666666,
             "#ed7953"
            ],
            [
             0.7777777777777778,
             "#fb9f3a"
            ],
            [
             0.8888888888888888,
             "#fdca26"
            ],
            [
             1,
             "#f0f921"
            ]
           ],
           "sequentialminus": [
            [
             0,
             "#0d0887"
            ],
            [
             0.1111111111111111,
             "#46039f"
            ],
            [
             0.2222222222222222,
             "#7201a8"
            ],
            [
             0.3333333333333333,
             "#9c179e"
            ],
            [
             0.4444444444444444,
             "#bd3786"
            ],
            [
             0.5555555555555556,
             "#d8576b"
            ],
            [
             0.6666666666666666,
             "#ed7953"
            ],
            [
             0.7777777777777778,
             "#fb9f3a"
            ],
            [
             0.8888888888888888,
             "#fdca26"
            ],
            [
             1,
             "#f0f921"
            ]
           ]
          },
          "colorway": [
           "#636efa",
           "#EF553B",
           "#00cc96",
           "#ab63fa",
           "#FFA15A",
           "#19d3f3",
           "#FF6692",
           "#B6E880",
           "#FF97FF",
           "#FECB52"
          ],
          "font": {
           "color": "#2a3f5f"
          },
          "geo": {
           "bgcolor": "white",
           "lakecolor": "white",
           "landcolor": "#E5ECF6",
           "showlakes": true,
           "showland": true,
           "subunitcolor": "white"
          },
          "hoverlabel": {
           "align": "left"
          },
          "hovermode": "closest",
          "mapbox": {
           "style": "light"
          },
          "paper_bgcolor": "white",
          "plot_bgcolor": "#E5ECF6",
          "polar": {
           "angularaxis": {
            "gridcolor": "white",
            "linecolor": "white",
            "ticks": ""
           },
           "bgcolor": "#E5ECF6",
           "radialaxis": {
            "gridcolor": "white",
            "linecolor": "white",
            "ticks": ""
           }
          },
          "scene": {
           "xaxis": {
            "backgroundcolor": "#E5ECF6",
            "gridcolor": "white",
            "gridwidth": 2,
            "linecolor": "white",
            "showbackground": true,
            "ticks": "",
            "zerolinecolor": "white"
           },
           "yaxis": {
            "backgroundcolor": "#E5ECF6",
            "gridcolor": "white",
            "gridwidth": 2,
            "linecolor": "white",
            "showbackground": true,
            "ticks": "",
            "zerolinecolor": "white"
           },
           "zaxis": {
            "backgroundcolor": "#E5ECF6",
            "gridcolor": "white",
            "gridwidth": 2,
            "linecolor": "white",
            "showbackground": true,
            "ticks": "",
            "zerolinecolor": "white"
           }
          },
          "shapedefaults": {
           "line": {
            "color": "#2a3f5f"
           }
          },
          "ternary": {
           "aaxis": {
            "gridcolor": "white",
            "linecolor": "white",
            "ticks": ""
           },
           "baxis": {
            "gridcolor": "white",
            "linecolor": "white",
            "ticks": ""
           },
           "bgcolor": "#E5ECF6",
           "caxis": {
            "gridcolor": "white",
            "linecolor": "white",
            "ticks": ""
           }
          },
          "title": {
           "x": 0.05
          },
          "xaxis": {
           "automargin": true,
           "gridcolor": "white",
           "linecolor": "white",
           "ticks": "",
           "zerolinecolor": "white",
           "zerolinewidth": 2
          },
          "yaxis": {
           "automargin": true,
           "gridcolor": "white",
           "linecolor": "white",
           "ticks": "",
           "zerolinecolor": "white",
           "zerolinewidth": 2
          }
         }
        },
        "title": {
         "text": "Worldwide Confirmed, Recovered, and Death over Time"
        },
        "xaxis": {
         "anchor": "y",
         "domain": [
          0,
          0.98
         ],
         "title": {
          "text": "Date"
         }
        },
        "yaxis": {
         "anchor": "x",
         "domain": [
          0,
          1
         ],
         "title": {
          "text": "value"
         }
        }
       }
      },
      "text/html": [
       "<div>\n",
       "        \n",
       "        \n",
       "            <div id=\"24b9502f-f688-4adc-bc86-0cd7cc293293\" class=\"plotly-graph-div\" style=\"height:600px; width:100%;\"></div>\n",
       "            <script type=\"text/javascript\">\n",
       "                require([\"plotly\"], function(Plotly) {\n",
       "                    window.PLOTLYENV=window.PLOTLYENV || {};\n",
       "                    \n",
       "                if (document.getElementById(\"24b9502f-f688-4adc-bc86-0cd7cc293293\")) {\n",
       "                    Plotly.newPlot(\n",
       "                        '24b9502f-f688-4adc-bc86-0cd7cc293293',\n",
       "                        [{\"hoverlabel\": {\"namelength\": 0}, \"hovertemplate\": \"variable=Confirmed<br>Date=%{x}<br>value=%{y}\", \"legendgroup\": \"variable=Confirmed\", \"line\": {\"color\": \"#636efa\", \"dash\": \"solid\"}, \"mode\": \"lines\", \"name\": \"variable=Confirmed\", \"showlegend\": true, \"type\": \"scatter\", \"x\": [\"2003-03-17T00:00:00\", \"2003-03-18T00:00:00\", \"2003-03-19T00:00:00\", \"2003-03-20T00:00:00\", \"2003-03-21T00:00:00\", \"2003-03-22T00:00:00\", \"2003-03-24T00:00:00\", \"2003-03-25T00:00:00\", \"2003-03-26T00:00:00\", \"2003-03-27T00:00:00\", \"2003-03-28T00:00:00\", \"2003-03-29T00:00:00\", \"2003-03-31T00:00:00\", \"2003-04-01T00:00:00\", \"2003-04-02T00:00:00\", \"2003-04-03T00:00:00\", \"2003-04-04T00:00:00\", \"2003-04-05T00:00:00\", \"2003-04-07T00:00:00\", \"2003-04-08T00:00:00\", \"2003-04-09T00:00:00\", \"2003-04-10T00:00:00\", \"2003-04-11T00:00:00\", \"2003-04-12T00:00:00\", \"2003-04-14T00:00:00\", \"2003-04-15T00:00:00\", \"2003-04-16T00:00:00\", \"2003-04-17T00:00:00\", \"2003-04-18T00:00:00\", \"2003-04-19T00:00:00\", \"2003-04-21T00:00:00\", \"2003-04-22T00:00:00\", \"2003-04-23T00:00:00\", \"2003-04-24T00:00:00\", \"2003-04-25T00:00:00\", \"2003-04-26T00:00:00\", \"2003-04-28T00:00:00\", \"2003-04-29T00:00:00\", \"2003-04-30T00:00:00\", \"2003-05-01T00:00:00\", \"2003-05-02T00:00:00\", \"2003-05-03T00:00:00\", \"2003-05-05T00:00:00\", \"2003-05-06T00:00:00\", \"2003-05-07T00:00:00\", \"2003-05-08T00:00:00\", \"2003-05-09T00:00:00\", \"2003-05-10T00:00:00\", \"2003-05-12T00:00:00\", \"2003-05-13T00:00:00\", \"2003-05-14T00:00:00\", \"2003-05-15T00:00:00\", \"2003-05-16T00:00:00\", \"2003-05-17T00:00:00\", \"2003-05-19T00:00:00\", \"2003-05-20T00:00:00\", \"2003-05-21T00:00:00\", \"2003-05-22T00:00:00\", \"2003-05-23T00:00:00\", \"2003-05-24T00:00:00\", \"2003-05-26T00:00:00\", \"2003-05-27T00:00:00\", \"2003-05-28T00:00:00\", \"2003-05-29T00:00:00\", \"2003-05-30T00:00:00\", \"2003-05-31T00:00:00\", \"2003-06-02T00:00:00\", \"2003-06-03T00:00:00\", \"2003-06-04T00:00:00\", \"2003-06-05T00:00:00\", \"2003-06-06T00:00:00\", \"2003-06-09T00:00:00\", \"2003-06-10T00:00:00\", \"2003-06-11T00:00:00\", \"2003-06-12T00:00:00\", \"2003-06-13T00:00:00\", \"2003-06-16T00:00:00\", \"2003-06-17T00:00:00\", \"2003-06-18T00:00:00\", \"2003-06-19T00:00:00\", \"2003-06-20T00:00:00\", \"2003-06-23T00:00:00\", \"2003-06-24T00:00:00\", \"2003-06-25T00:00:00\", \"2003-06-26T00:00:00\", \"2003-06-27T00:00:00\", \"2003-06-30T00:00:00\", \"2003-07-01T00:00:00\", \"2003-07-02T00:00:00\", \"2003-07-03T00:00:00\", \"2003-07-04T00:00:00\", \"2003-07-07T00:00:00\", \"2003-07-08T00:00:00\", \"2003-07-09T00:00:00\", \"2003-07-10T00:00:00\", \"2003-07-11T00:00:00\"], \"xaxis\": \"x\", \"y\": [167, 219, 264, 306, 350, 386, 456, 487, 1323, 1408, 1485, 1550, 1622, 1804, 2223, 2270, 2353, 2416, 2601, 2671, 2722, 2781, 2890, 2960, 3169, 3235, 3293, 3389, 3547, 3547, 3861, 3947, 4288, 4435, 4645, 4832, 5046, 5458, 5659, 5861, 6050, 6230, 6579, 6723, 6899, 7049, 7179, 7292, 7441, 7542, 7622, 7693, 7733, 7755, 7858, 7913, 7950, 8046, 8111, 8135, 8196, 8215, 8240, 8295, 8311, 8354, 8379, 8393, 8397, 8398, 8399, 8416, 8425, 8430, 8440, 8449, 8455, 8459, 8460, 8457, 8456, 8454, 8453, 8455, 8451, 8445, 8447, 8440, 8437, 8434, 8434, 8434, 8431, 8431, 8432, 8432], \"yaxis\": \"y\"}, {\"hoverlabel\": {\"namelength\": 0}, \"hovertemplate\": \"variable=Death<br>Date=%{x}<br>value=%{y}\", \"legendgroup\": \"variable=Death\", \"line\": {\"color\": \"#EF553B\", \"dash\": \"solid\"}, \"mode\": \"lines\", \"name\": \"variable=Death\", \"showlegend\": true, \"type\": \"scatter\", \"x\": [\"2003-03-17T00:00:00\", \"2003-03-18T00:00:00\", \"2003-03-19T00:00:00\", \"2003-03-20T00:00:00\", \"2003-03-21T00:00:00\", \"2003-03-22T00:00:00\", \"2003-03-24T00:00:00\", \"2003-03-25T00:00:00\", \"2003-03-26T00:00:00\", \"2003-03-27T00:00:00\", \"2003-03-28T00:00:00\", \"2003-03-29T00:00:00\", \"2003-03-31T00:00:00\", \"2003-04-01T00:00:00\", \"2003-04-02T00:00:00\", \"2003-04-03T00:00:00\", \"2003-04-04T00:00:00\", \"2003-04-05T00:00:00\", \"2003-04-07T00:00:00\", \"2003-04-08T00:00:00\", \"2003-04-09T00:00:00\", \"2003-04-10T00:00:00\", \"2003-04-11T00:00:00\", \"2003-04-12T00:00:00\", \"2003-04-14T00:00:00\", \"2003-04-15T00:00:00\", \"2003-04-16T00:00:00\", \"2003-04-17T00:00:00\", \"2003-04-18T00:00:00\", \"2003-04-19T00:00:00\", \"2003-04-21T00:00:00\", \"2003-04-22T00:00:00\", \"2003-04-23T00:00:00\", \"2003-04-24T00:00:00\", \"2003-04-25T00:00:00\", \"2003-04-26T00:00:00\", \"2003-04-28T00:00:00\", \"2003-04-29T00:00:00\", \"2003-04-30T00:00:00\", \"2003-05-01T00:00:00\", \"2003-05-02T00:00:00\", \"2003-05-03T00:00:00\", \"2003-05-05T00:00:00\", \"2003-05-06T00:00:00\", \"2003-05-07T00:00:00\", \"2003-05-08T00:00:00\", \"2003-05-09T00:00:00\", \"2003-05-10T00:00:00\", \"2003-05-12T00:00:00\", \"2003-05-13T00:00:00\", \"2003-05-14T00:00:00\", \"2003-05-15T00:00:00\", \"2003-05-16T00:00:00\", \"2003-05-17T00:00:00\", \"2003-05-19T00:00:00\", \"2003-05-20T00:00:00\", \"2003-05-21T00:00:00\", \"2003-05-22T00:00:00\", \"2003-05-23T00:00:00\", \"2003-05-24T00:00:00\", \"2003-05-26T00:00:00\", \"2003-05-27T00:00:00\", \"2003-05-28T00:00:00\", \"2003-05-29T00:00:00\", \"2003-05-30T00:00:00\", \"2003-05-31T00:00:00\", \"2003-06-02T00:00:00\", \"2003-06-03T00:00:00\", \"2003-06-04T00:00:00\", \"2003-06-05T00:00:00\", \"2003-06-06T00:00:00\", \"2003-06-09T00:00:00\", \"2003-06-10T00:00:00\", \"2003-06-11T00:00:00\", \"2003-06-12T00:00:00\", \"2003-06-13T00:00:00\", \"2003-06-16T00:00:00\", \"2003-06-17T00:00:00\", \"2003-06-18T00:00:00\", \"2003-06-19T00:00:00\", \"2003-06-20T00:00:00\", \"2003-06-23T00:00:00\", \"2003-06-24T00:00:00\", \"2003-06-25T00:00:00\", \"2003-06-26T00:00:00\", \"2003-06-27T00:00:00\", \"2003-06-30T00:00:00\", \"2003-07-01T00:00:00\", \"2003-07-02T00:00:00\", \"2003-07-03T00:00:00\", \"2003-07-04T00:00:00\", \"2003-07-07T00:00:00\", \"2003-07-08T00:00:00\", \"2003-07-09T00:00:00\", \"2003-07-10T00:00:00\", \"2003-07-11T00:00:00\"], \"xaxis\": \"x\", \"y\": [4, 4, 9, 10, 10, 11, 17, 17, 49, 53, 53, 54, 58, 62, 78, 79, 84, 89, 98, 103, 106, 111, 116, 119, 144, 154, 159, 165, 182, 182, 217, 229, 251, 263, 274, 293, 321, 353, 372, 391, 417, 435, 461, 478, 495, 506, 514, 526, 552, 573, 587, 598, 611, 623, 643, 662, 666, 682, 689, 696, 725, 735, 745, 750, 754, 764, 770, 772, 772, 775, 779, 784, 789, 789, 790, 792, 799, 799, 801, 804, 804, 805, 807, 808, 809, 810, 811, 812, 812, 812, 812, 812, 812, 812, 812, 813], \"yaxis\": \"y\"}, {\"hoverlabel\": {\"namelength\": 0}, \"hovertemplate\": \"variable=Recovered<br>Date=%{x}<br>value=%{y}\", \"legendgroup\": \"variable=Recovered\", \"line\": {\"color\": \"#00cc96\", \"dash\": \"solid\"}, \"mode\": \"lines\", \"name\": \"variable=Recovered\", \"showlegend\": true, \"type\": \"scatter\", \"x\": [\"2003-03-17T00:00:00\", \"2003-03-18T00:00:00\", \"2003-03-19T00:00:00\", \"2003-03-20T00:00:00\", \"2003-03-21T00:00:00\", \"2003-03-22T00:00:00\", \"2003-03-24T00:00:00\", \"2003-03-25T00:00:00\", \"2003-03-26T00:00:00\", \"2003-03-27T00:00:00\", \"2003-03-28T00:00:00\", \"2003-03-29T00:00:00\", \"2003-03-31T00:00:00\", \"2003-04-01T00:00:00\", \"2003-04-02T00:00:00\", \"2003-04-03T00:00:00\", \"2003-04-04T00:00:00\", \"2003-04-05T00:00:00\", \"2003-04-07T00:00:00\", \"2003-04-08T00:00:00\", \"2003-04-09T00:00:00\", \"2003-04-10T00:00:00\", \"2003-04-11T00:00:00\", \"2003-04-12T00:00:00\", \"2003-04-14T00:00:00\", \"2003-04-15T00:00:00\", \"2003-04-16T00:00:00\", \"2003-04-17T00:00:00\", \"2003-04-18T00:00:00\", \"2003-04-19T00:00:00\", \"2003-04-21T00:00:00\", \"2003-04-22T00:00:00\", \"2003-04-23T00:00:00\", \"2003-04-24T00:00:00\", \"2003-04-25T00:00:00\", \"2003-04-26T00:00:00\", \"2003-04-28T00:00:00\", \"2003-04-29T00:00:00\", \"2003-04-30T00:00:00\", \"2003-05-01T00:00:00\", \"2003-05-02T00:00:00\", \"2003-05-03T00:00:00\", \"2003-05-05T00:00:00\", \"2003-05-06T00:00:00\", \"2003-05-07T00:00:00\", \"2003-05-08T00:00:00\", \"2003-05-09T00:00:00\", \"2003-05-10T00:00:00\", \"2003-05-12T00:00:00\", \"2003-05-13T00:00:00\", \"2003-05-14T00:00:00\", \"2003-05-15T00:00:00\", \"2003-05-16T00:00:00\", \"2003-05-17T00:00:00\", \"2003-05-19T00:00:00\", \"2003-05-20T00:00:00\", \"2003-05-21T00:00:00\", \"2003-05-22T00:00:00\", \"2003-05-23T00:00:00\", \"2003-05-24T00:00:00\", \"2003-05-26T00:00:00\", \"2003-05-27T00:00:00\", \"2003-05-28T00:00:00\", \"2003-05-29T00:00:00\", \"2003-05-30T00:00:00\", \"2003-05-31T00:00:00\", \"2003-06-02T00:00:00\", \"2003-06-03T00:00:00\", \"2003-06-04T00:00:00\", \"2003-06-05T00:00:00\", \"2003-06-06T00:00:00\", \"2003-06-09T00:00:00\", \"2003-06-10T00:00:00\", \"2003-06-11T00:00:00\", \"2003-06-12T00:00:00\", \"2003-06-13T00:00:00\", \"2003-06-16T00:00:00\", \"2003-06-17T00:00:00\", \"2003-06-18T00:00:00\", \"2003-06-19T00:00:00\", \"2003-06-20T00:00:00\", \"2003-06-23T00:00:00\", \"2003-06-24T00:00:00\", \"2003-06-25T00:00:00\", \"2003-06-26T00:00:00\", \"2003-06-27T00:00:00\", \"2003-06-30T00:00:00\", \"2003-07-01T00:00:00\", \"2003-07-02T00:00:00\", \"2003-07-03T00:00:00\", \"2003-07-04T00:00:00\", \"2003-07-07T00:00:00\", \"2003-07-08T00:00:00\", \"2003-07-09T00:00:00\", \"2003-07-10T00:00:00\", \"2003-07-11T00:00:00\"], \"xaxis\": \"x\", \"y\": [0, 0, 0, 0, 0, 0, 0, 0, 0, 0, 0, 0, 0, 0, 0, 0, 0, 0, 0, 0, 0, 1337, 1373, 1425, 1499, 1515, 1548, 1597, 1749, 1749, 1873, 1935, 2032, 2114, 2203, 2236, 2339, 2424, 2467, 2559, 2639, 2698, 2760, 2822, 2881, 2955, 3019, 3083, 3189, 3292, 3391, 3478, 3584, 3668, 3841, 3978, 4079, 4210, 4320, 4462, 4656, 4781, 4891, 4994, 5123, 5258, 5397, 5470, 5741, 5825, 5932, 6275, 6452, 6576, 6665, 6788, 6984, 7086, 7143, 7173, 7213, 7319, 7343, 7360, 7366, 7396, 7417, 7417, 7419, 7422, 7426, 7426, 7428, 7438, 7444, 7447], \"yaxis\": \"y\"}, {\"hoverlabel\": {\"namelength\": 0}, \"hovertemplate\": \"variable=Active<br>Date=%{x}<br>value=%{y}\", \"legendgroup\": \"variable=Active\", \"line\": {\"color\": \"#ab63fa\", \"dash\": \"solid\"}, \"mode\": \"lines\", \"name\": \"variable=Active\", \"showlegend\": true, \"type\": \"scatter\", \"x\": [\"2003-03-17T00:00:00\", \"2003-03-18T00:00:00\", \"2003-03-19T00:00:00\", \"2003-03-20T00:00:00\", \"2003-03-21T00:00:00\", \"2003-03-22T00:00:00\", \"2003-03-24T00:00:00\", \"2003-03-25T00:00:00\", \"2003-03-26T00:00:00\", \"2003-03-27T00:00:00\", \"2003-03-28T00:00:00\", \"2003-03-29T00:00:00\", \"2003-03-31T00:00:00\", \"2003-04-01T00:00:00\", \"2003-04-02T00:00:00\", \"2003-04-03T00:00:00\", \"2003-04-04T00:00:00\", \"2003-04-05T00:00:00\", \"2003-04-07T00:00:00\", \"2003-04-08T00:00:00\", \"2003-04-09T00:00:00\", \"2003-04-10T00:00:00\", \"2003-04-11T00:00:00\", \"2003-04-12T00:00:00\", \"2003-04-14T00:00:00\", \"2003-04-15T00:00:00\", \"2003-04-16T00:00:00\", \"2003-04-17T00:00:00\", \"2003-04-18T00:00:00\", \"2003-04-19T00:00:00\", \"2003-04-21T00:00:00\", \"2003-04-22T00:00:00\", \"2003-04-23T00:00:00\", \"2003-04-24T00:00:00\", \"2003-04-25T00:00:00\", \"2003-04-26T00:00:00\", \"2003-04-28T00:00:00\", \"2003-04-29T00:00:00\", \"2003-04-30T00:00:00\", \"2003-05-01T00:00:00\", \"2003-05-02T00:00:00\", \"2003-05-03T00:00:00\", \"2003-05-05T00:00:00\", \"2003-05-06T00:00:00\", \"2003-05-07T00:00:00\", \"2003-05-08T00:00:00\", \"2003-05-09T00:00:00\", \"2003-05-10T00:00:00\", \"2003-05-12T00:00:00\", \"2003-05-13T00:00:00\", \"2003-05-14T00:00:00\", \"2003-05-15T00:00:00\", \"2003-05-16T00:00:00\", \"2003-05-17T00:00:00\", \"2003-05-19T00:00:00\", \"2003-05-20T00:00:00\", \"2003-05-21T00:00:00\", \"2003-05-22T00:00:00\", \"2003-05-23T00:00:00\", \"2003-05-24T00:00:00\", \"2003-05-26T00:00:00\", \"2003-05-27T00:00:00\", \"2003-05-28T00:00:00\", \"2003-05-29T00:00:00\", \"2003-05-30T00:00:00\", \"2003-05-31T00:00:00\", \"2003-06-02T00:00:00\", \"2003-06-03T00:00:00\", \"2003-06-04T00:00:00\", \"2003-06-05T00:00:00\", \"2003-06-06T00:00:00\", \"2003-06-09T00:00:00\", \"2003-06-10T00:00:00\", \"2003-06-11T00:00:00\", \"2003-06-12T00:00:00\", \"2003-06-13T00:00:00\", \"2003-06-16T00:00:00\", \"2003-06-17T00:00:00\", \"2003-06-18T00:00:00\", \"2003-06-19T00:00:00\", \"2003-06-20T00:00:00\", \"2003-06-23T00:00:00\", \"2003-06-24T00:00:00\", \"2003-06-25T00:00:00\", \"2003-06-26T00:00:00\", \"2003-06-27T00:00:00\", \"2003-06-30T00:00:00\", \"2003-07-01T00:00:00\", \"2003-07-02T00:00:00\", \"2003-07-03T00:00:00\", \"2003-07-04T00:00:00\", \"2003-07-07T00:00:00\", \"2003-07-08T00:00:00\", \"2003-07-09T00:00:00\", \"2003-07-10T00:00:00\", \"2003-07-11T00:00:00\"], \"xaxis\": \"x\", \"y\": [163, 215, 255, 296, 340, 375, 439, 470, 1274, 1355, 1432, 1496, 1564, 1742, 2145, 2191, 2269, 2327, 2503, 2568, 2616, 1333, 1401, 1416, 1526, 1566, 1586, 1627, 1616, 1616, 1771, 1783, 2005, 2058, 2168, 2303, 2386, 2681, 2820, 2911, 2994, 3097, 3358, 3423, 3523, 3588, 3646, 3683, 3700, 3677, 3644, 3617, 3538, 3464, 3374, 3273, 3205, 3154, 3102, 2977, 2815, 2699, 2604, 2551, 2434, 2332, 2212, 2151, 1884, 1798, 1688, 1357, 1184, 1065, 985, 869, 672, 574, 516, 480, 439, 330, 303, 287, 276, 239, 219, 211, 206, 200, 196, 196, 191, 181, 176, 172], \"yaxis\": \"y\"}],\n",
       "                        {\"height\": 600, \"legend\": {\"tracegroupgap\": 0}, \"template\": {\"data\": {\"bar\": [{\"error_x\": {\"color\": \"#2a3f5f\"}, \"error_y\": {\"color\": \"#2a3f5f\"}, \"marker\": {\"line\": {\"color\": \"#E5ECF6\", \"width\": 0.5}}, \"type\": \"bar\"}], \"barpolar\": [{\"marker\": {\"line\": {\"color\": \"#E5ECF6\", \"width\": 0.5}}, \"type\": \"barpolar\"}], \"carpet\": [{\"aaxis\": {\"endlinecolor\": \"#2a3f5f\", \"gridcolor\": \"white\", \"linecolor\": \"white\", \"minorgridcolor\": \"white\", \"startlinecolor\": \"#2a3f5f\"}, \"baxis\": {\"endlinecolor\": \"#2a3f5f\", \"gridcolor\": \"white\", \"linecolor\": \"white\", \"minorgridcolor\": \"white\", \"startlinecolor\": \"#2a3f5f\"}, \"type\": \"carpet\"}], \"choropleth\": [{\"colorbar\": {\"outlinewidth\": 0, \"ticks\": \"\"}, \"type\": \"choropleth\"}], \"contour\": [{\"colorbar\": {\"outlinewidth\": 0, \"ticks\": \"\"}, \"colorscale\": [[0.0, \"#0d0887\"], [0.1111111111111111, \"#46039f\"], [0.2222222222222222, \"#7201a8\"], [0.3333333333333333, \"#9c179e\"], [0.4444444444444444, \"#bd3786\"], [0.5555555555555556, \"#d8576b\"], [0.6666666666666666, \"#ed7953\"], [0.7777777777777778, \"#fb9f3a\"], [0.8888888888888888, \"#fdca26\"], [1.0, \"#f0f921\"]], \"type\": \"contour\"}], \"contourcarpet\": [{\"colorbar\": {\"outlinewidth\": 0, \"ticks\": \"\"}, \"type\": \"contourcarpet\"}], \"heatmap\": [{\"colorbar\": {\"outlinewidth\": 0, \"ticks\": \"\"}, \"colorscale\": [[0.0, \"#0d0887\"], [0.1111111111111111, \"#46039f\"], [0.2222222222222222, \"#7201a8\"], [0.3333333333333333, \"#9c179e\"], [0.4444444444444444, \"#bd3786\"], [0.5555555555555556, \"#d8576b\"], [0.6666666666666666, \"#ed7953\"], [0.7777777777777778, \"#fb9f3a\"], [0.8888888888888888, \"#fdca26\"], [1.0, \"#f0f921\"]], \"type\": \"heatmap\"}], \"heatmapgl\": [{\"colorbar\": {\"outlinewidth\": 0, \"ticks\": \"\"}, \"colorscale\": [[0.0, \"#0d0887\"], [0.1111111111111111, \"#46039f\"], [0.2222222222222222, \"#7201a8\"], [0.3333333333333333, \"#9c179e\"], [0.4444444444444444, \"#bd3786\"], [0.5555555555555556, \"#d8576b\"], [0.6666666666666666, \"#ed7953\"], [0.7777777777777778, \"#fb9f3a\"], [0.8888888888888888, \"#fdca26\"], [1.0, \"#f0f921\"]], \"type\": \"heatmapgl\"}], \"histogram\": [{\"marker\": {\"colorbar\": {\"outlinewidth\": 0, \"ticks\": \"\"}}, \"type\": \"histogram\"}], \"histogram2d\": [{\"colorbar\": {\"outlinewidth\": 0, \"ticks\": \"\"}, \"colorscale\": [[0.0, \"#0d0887\"], [0.1111111111111111, \"#46039f\"], [0.2222222222222222, \"#7201a8\"], [0.3333333333333333, \"#9c179e\"], [0.4444444444444444, \"#bd3786\"], [0.5555555555555556, \"#d8576b\"], [0.6666666666666666, \"#ed7953\"], [0.7777777777777778, \"#fb9f3a\"], [0.8888888888888888, \"#fdca26\"], [1.0, \"#f0f921\"]], \"type\": \"histogram2d\"}], \"histogram2dcontour\": [{\"colorbar\": {\"outlinewidth\": 0, \"ticks\": \"\"}, \"colorscale\": [[0.0, \"#0d0887\"], [0.1111111111111111, \"#46039f\"], [0.2222222222222222, \"#7201a8\"], [0.3333333333333333, \"#9c179e\"], [0.4444444444444444, \"#bd3786\"], [0.5555555555555556, \"#d8576b\"], [0.6666666666666666, \"#ed7953\"], [0.7777777777777778, \"#fb9f3a\"], [0.8888888888888888, \"#fdca26\"], [1.0, \"#f0f921\"]], \"type\": \"histogram2dcontour\"}], \"mesh3d\": [{\"colorbar\": {\"outlinewidth\": 0, \"ticks\": \"\"}, \"type\": \"mesh3d\"}], \"parcoords\": [{\"line\": {\"colorbar\": {\"outlinewidth\": 0, \"ticks\": \"\"}}, \"type\": \"parcoords\"}], \"scatter\": [{\"marker\": {\"colorbar\": {\"outlinewidth\": 0, \"ticks\": \"\"}}, \"type\": \"scatter\"}], \"scatter3d\": [{\"line\": {\"colorbar\": {\"outlinewidth\": 0, \"ticks\": \"\"}}, \"marker\": {\"colorbar\": {\"outlinewidth\": 0, \"ticks\": \"\"}}, \"type\": \"scatter3d\"}], \"scattercarpet\": [{\"marker\": {\"colorbar\": {\"outlinewidth\": 0, \"ticks\": \"\"}}, \"type\": \"scattercarpet\"}], \"scattergeo\": [{\"marker\": {\"colorbar\": {\"outlinewidth\": 0, \"ticks\": \"\"}}, \"type\": \"scattergeo\"}], \"scattergl\": [{\"marker\": {\"colorbar\": {\"outlinewidth\": 0, \"ticks\": \"\"}}, \"type\": \"scattergl\"}], \"scattermapbox\": [{\"marker\": {\"colorbar\": {\"outlinewidth\": 0, \"ticks\": \"\"}}, \"type\": \"scattermapbox\"}], \"scatterpolar\": [{\"marker\": {\"colorbar\": {\"outlinewidth\": 0, \"ticks\": \"\"}}, \"type\": \"scatterpolar\"}], \"scatterpolargl\": [{\"marker\": {\"colorbar\": {\"outlinewidth\": 0, \"ticks\": \"\"}}, \"type\": \"scatterpolargl\"}], \"scatterternary\": [{\"marker\": {\"colorbar\": {\"outlinewidth\": 0, \"ticks\": \"\"}}, \"type\": \"scatterternary\"}], \"surface\": [{\"colorbar\": {\"outlinewidth\": 0, \"ticks\": \"\"}, \"colorscale\": [[0.0, \"#0d0887\"], [0.1111111111111111, \"#46039f\"], [0.2222222222222222, \"#7201a8\"], [0.3333333333333333, \"#9c179e\"], [0.4444444444444444, \"#bd3786\"], [0.5555555555555556, \"#d8576b\"], [0.6666666666666666, \"#ed7953\"], [0.7777777777777778, \"#fb9f3a\"], [0.8888888888888888, \"#fdca26\"], [1.0, \"#f0f921\"]], \"type\": \"surface\"}], \"table\": [{\"cells\": {\"fill\": {\"color\": \"#EBF0F8\"}, \"line\": {\"color\": \"white\"}}, \"header\": {\"fill\": {\"color\": \"#C8D4E3\"}, \"line\": {\"color\": \"white\"}}, \"type\": \"table\"}]}, \"layout\": {\"annotationdefaults\": {\"arrowcolor\": \"#2a3f5f\", \"arrowhead\": 0, \"arrowwidth\": 1}, \"colorscale\": {\"diverging\": [[0, \"#8e0152\"], [0.1, \"#c51b7d\"], [0.2, \"#de77ae\"], [0.3, \"#f1b6da\"], [0.4, \"#fde0ef\"], [0.5, \"#f7f7f7\"], [0.6, \"#e6f5d0\"], [0.7, \"#b8e186\"], [0.8, \"#7fbc41\"], [0.9, \"#4d9221\"], [1, \"#276419\"]], \"sequential\": [[0.0, \"#0d0887\"], [0.1111111111111111, \"#46039f\"], [0.2222222222222222, \"#7201a8\"], [0.3333333333333333, \"#9c179e\"], [0.4444444444444444, \"#bd3786\"], [0.5555555555555556, \"#d8576b\"], [0.6666666666666666, \"#ed7953\"], [0.7777777777777778, \"#fb9f3a\"], [0.8888888888888888, \"#fdca26\"], [1.0, \"#f0f921\"]], \"sequentialminus\": [[0.0, \"#0d0887\"], [0.1111111111111111, \"#46039f\"], [0.2222222222222222, \"#7201a8\"], [0.3333333333333333, \"#9c179e\"], [0.4444444444444444, \"#bd3786\"], [0.5555555555555556, \"#d8576b\"], [0.6666666666666666, \"#ed7953\"], [0.7777777777777778, \"#fb9f3a\"], [0.8888888888888888, \"#fdca26\"], [1.0, \"#f0f921\"]]}, \"colorway\": [\"#636efa\", \"#EF553B\", \"#00cc96\", \"#ab63fa\", \"#FFA15A\", \"#19d3f3\", \"#FF6692\", \"#B6E880\", \"#FF97FF\", \"#FECB52\"], \"font\": {\"color\": \"#2a3f5f\"}, \"geo\": {\"bgcolor\": \"white\", \"lakecolor\": \"white\", \"landcolor\": \"#E5ECF6\", \"showlakes\": true, \"showland\": true, \"subunitcolor\": \"white\"}, \"hoverlabel\": {\"align\": \"left\"}, \"hovermode\": \"closest\", \"mapbox\": {\"style\": \"light\"}, \"paper_bgcolor\": \"white\", \"plot_bgcolor\": \"#E5ECF6\", \"polar\": {\"angularaxis\": {\"gridcolor\": \"white\", \"linecolor\": \"white\", \"ticks\": \"\"}, \"bgcolor\": \"#E5ECF6\", \"radialaxis\": {\"gridcolor\": \"white\", \"linecolor\": \"white\", \"ticks\": \"\"}}, \"scene\": {\"xaxis\": {\"backgroundcolor\": \"#E5ECF6\", \"gridcolor\": \"white\", \"gridwidth\": 2, \"linecolor\": \"white\", \"showbackground\": true, \"ticks\": \"\", \"zerolinecolor\": \"white\"}, \"yaxis\": {\"backgroundcolor\": \"#E5ECF6\", \"gridcolor\": \"white\", \"gridwidth\": 2, \"linecolor\": \"white\", \"showbackground\": true, \"ticks\": \"\", \"zerolinecolor\": \"white\"}, \"zaxis\": {\"backgroundcolor\": \"#E5ECF6\", \"gridcolor\": \"white\", \"gridwidth\": 2, \"linecolor\": \"white\", \"showbackground\": true, \"ticks\": \"\", \"zerolinecolor\": \"white\"}}, \"shapedefaults\": {\"line\": {\"color\": \"#2a3f5f\"}}, \"ternary\": {\"aaxis\": {\"gridcolor\": \"white\", \"linecolor\": \"white\", \"ticks\": \"\"}, \"baxis\": {\"gridcolor\": \"white\", \"linecolor\": \"white\", \"ticks\": \"\"}, \"bgcolor\": \"#E5ECF6\", \"caxis\": {\"gridcolor\": \"white\", \"linecolor\": \"white\", \"ticks\": \"\"}}, \"title\": {\"x\": 0.05}, \"xaxis\": {\"automargin\": true, \"gridcolor\": \"white\", \"linecolor\": \"white\", \"ticks\": \"\", \"zerolinecolor\": \"white\", \"zerolinewidth\": 2}, \"yaxis\": {\"automargin\": true, \"gridcolor\": \"white\", \"linecolor\": \"white\", \"ticks\": \"\", \"zerolinecolor\": \"white\", \"zerolinewidth\": 2}}}, \"title\": {\"text\": \"Worldwide Confirmed, Recovered, and Death over Time\"}, \"xaxis\": {\"anchor\": \"y\", \"domain\": [0.0, 0.98], \"title\": {\"text\": \"Date\"}}, \"yaxis\": {\"anchor\": \"x\", \"domain\": [0.0, 1.0], \"title\": {\"text\": \"value\"}}},\n",
       "                        {\"responsive\": true}\n",
       "                    ).then(function(){\n",
       "                            \n",
       "var gd = document.getElementById('24b9502f-f688-4adc-bc86-0cd7cc293293');\n",
       "var x = new MutationObserver(function (mutations, observer) {{\n",
       "        var display = window.getComputedStyle(gd).display;\n",
       "        if (!display || display === 'none') {{\n",
       "            console.log([gd, 'removed!']);\n",
       "            Plotly.purge(gd);\n",
       "            observer.disconnect();\n",
       "        }}\n",
       "}});\n",
       "\n",
       "// Listen for the removal of the full notebook cells\n",
       "var notebookContainer = gd.closest('#notebook-container');\n",
       "if (notebookContainer) {{\n",
       "    x.observe(notebookContainer, {childList: true});\n",
       "}}\n",
       "\n",
       "// Listen for the clearing of the current output cell\n",
       "var outputEl = gd.closest('.output');\n",
       "if (outputEl) {{\n",
       "    x.observe(outputEl, {childList: true});\n",
       "}}\n",
       "\n",
       "                        })\n",
       "                };\n",
       "                });\n",
       "            </script>\n",
       "        </div>"
      ]
     },
     "metadata": {},
     "output_type": "display_data"
    }
   ],
   "source": [
    "fig = px.line(melt_by_date, x = 'Date', y= 'value', color = 'variable', title = 'Worldwide Confirmed, Recovered, and Death over Time')\n",
    "fig.show()"
   ]
  },
  {
   "cell_type": "code",
   "execution_count": 20,
   "metadata": {},
   "outputs": [
    {
     "name": "stderr",
     "output_type": "stream",
     "text": [
      "/Users/bee/anaconda3/lib/python3.7/site-packages/ipykernel_launcher.py:3: FutureWarning:\n",
      "\n",
      "Indexing with multiple keys (implicitly converted to a tuple of keys) will be deprecated, use a list instead.\n",
      "\n"
     ]
    },
    {
     "data": {
      "application/vnd.plotly.v1+json": {
       "config": {
        "plotlyServerURL": "https://plot.ly"
       },
       "data": [
        {
         "geo": "geo",
         "hoverlabel": {
          "namelength": 0
         },
         "hovertemplate": "<b>%{hovertext}</b><br><br>Date=03/17/2003<br>size=%{marker.size}<br>Country=%{location}<br>Confirmed=%{marker.color}",
         "hovertext": [
          "Canada",
          "Germany",
          "Hong Kong SAR, China",
          "Singapore",
          "Switzerland",
          "Thailand",
          "Viet Nam"
         ],
         "legendgroup": "",
         "locationmode": "country names",
         "locations": [
          "Canada",
          "Germany",
          "Hong Kong SAR, China",
          "Singapore",
          "Switzerland",
          "Thailand",
          "Viet Nam"
         ],
         "marker": {
          "color": [
           8,
           1,
           95,
           20,
           2,
           1,
           40
          ],
          "coloraxis": "coloraxis",
          "size": [
           1.8660659830736148,
           1,
           3.920279951613009,
           2.4564560522315806,
           1.2311444133449163,
           1,
           3.0242521453322184
          ],
          "sizemode": "area",
          "sizeref": 0.03280452281427571
         },
         "name": "",
         "showlegend": false,
         "type": "scattergeo"
        }
       ],
       "frames": [
        {
         "data": [
          {
           "geo": "geo",
           "hoverlabel": {
            "namelength": 0
           },
           "hovertemplate": "<b>%{hovertext}</b><br><br>Date=03/17/2003<br>size=%{marker.size}<br>Country=%{location}<br>Confirmed=%{marker.color}",
           "hovertext": [
            "Canada",
            "Germany",
            "Hong Kong SAR, China",
            "Singapore",
            "Switzerland",
            "Thailand",
            "Viet Nam"
           ],
           "legendgroup": "",
           "locationmode": "country names",
           "locations": [
            "Canada",
            "Germany",
            "Hong Kong SAR, China",
            "Singapore",
            "Switzerland",
            "Thailand",
            "Viet Nam"
           ],
           "marker": {
            "color": [
             8,
             1,
             95,
             20,
             2,
             1,
             40
            ],
            "coloraxis": "coloraxis",
            "size": [
             1.8660659830736148,
             1,
             3.920279951613009,
             2.4564560522315806,
             1.2311444133449163,
             1,
             3.0242521453322184
            ],
            "sizemode": "area",
            "sizeref": 0.03280452281427571
           },
           "name": "",
           "showlegend": false,
           "type": "scattergeo"
          }
         ],
         "name": "03/17/2003"
        },
        {
         "data": [
          {
           "geo": "geo",
           "hoverlabel": {
            "namelength": 0
           },
           "hovertemplate": "<b>%{hovertext}</b><br><br>Date=03/18/2003<br>size=%{marker.size}<br>Country=%{location}<br>Confirmed=%{marker.color}",
           "hovertext": [
            "Canada",
            "China",
            "Germany",
            "Hong Kong SAR, China",
            "Singapore",
            "Slovenia",
            "Taiwan, China",
            "Thailand",
            "United Kingdom",
            "Viet Nam"
           ],
           "legendgroup": "",
           "locationmode": "country names",
           "locations": [
            "Canada",
            "China",
            "Germany",
            "Hong Kong SAR, China",
            "Singapore",
            "Slovenia",
            "Taiwan, China",
            "Thailand",
            "United Kingdom",
            "Viet Nam"
           ],
           "marker": {
            "color": [
             8,
             0,
             2,
             123,
             23,
             1,
             3,
             1,
             1,
             57
            ],
            "coloraxis": "coloraxis",
            "size": [
             1.8660659830736148,
             0,
             1.2311444133449163,
             4.236151985630706,
             2.5616415021458128,
             1,
             1.3903891703159093,
             1,
             1,
             3.3632756010449447
            ],
            "sizemode": "area",
            "sizeref": 0.03280452281427571
           },
           "name": "",
           "showlegend": false,
           "type": "scattergeo"
          }
         ],
         "name": "03/18/2003"
        },
        {
         "data": [
          {
           "geo": "geo",
           "hoverlabel": {
            "namelength": 0
           },
           "hovertemplate": "<b>%{hovertext}</b><br><br>Date=03/19/2003<br>size=%{marker.size}<br>Country=%{location}<br>Confirmed=%{marker.color}",
           "hovertext": [
            "Canada",
            "China",
            "Germany",
            "Hong Kong SAR, China",
            "Singapore",
            "Slovenia",
            "Spain",
            "Taiwan, China",
            "Thailand",
            "United Kingdom",
            "United States",
            "Viet Nam"
           ],
           "legendgroup": "",
           "locationmode": "country names",
           "locations": [
            "Canada",
            "China",
            "Germany",
            "Hong Kong SAR, China",
            "Singapore",
            "Slovenia",
            "Spain",
            "Taiwan, China",
            "Thailand",
            "United Kingdom",
            "United States",
            "Viet Nam"
           ],
           "marker": {
            "color": [
             8,
             0,
             1,
             150,
             31,
             1,
             1,
             3,
             1,
             1,
             11,
             56
            ],
            "coloraxis": "coloraxis",
            "size": [
             1.8660659830736148,
             0,
             1,
             4.496011130479918,
             2.8016153494371836,
             1,
             1,
             1.3903891703159093,
             1,
             1,
             2.053136413658844,
             3.345464363856254
            ],
            "sizemode": "area",
            "sizeref": 0.03280452281427571
           },
           "name": "",
           "showlegend": false,
           "type": "scattergeo"
          }
         ],
         "name": "03/19/2003"
        },
        {
         "data": [
          {
           "geo": "geo",
           "hoverlabel": {
            "namelength": 0
           },
           "hovertemplate": "<b>%{hovertext}</b><br><br>Date=03/20/2003<br>size=%{marker.size}<br>Country=%{location}<br>Confirmed=%{marker.color}",
           "hovertext": [
            "Canada",
            "China",
            "Germany",
            "Hong Kong SAR, China",
            "Singapore",
            "Slovenia",
            "Spain",
            "Switzerland",
            "Taiwan, China",
            "Thailand",
            "United Kingdom",
            "United States",
            "Viet Nam"
           ],
           "legendgroup": "",
           "locationmode": "country names",
           "locations": [
            "Canada",
            "China",
            "Germany",
            "Hong Kong SAR, China",
            "Singapore",
            "Slovenia",
            "Spain",
            "Switzerland",
            "Taiwan, China",
            "Thailand",
            "United Kingdom",
            "United States",
            "Viet Nam"
           ],
           "marker": {
            "color": [
             9,
             0,
             1,
             173,
             34,
             1,
             1,
             7,
             4,
             1,
             2,
             11,
             62
            ],
            "coloraxis": "coloraxis",
            "size": [
             1.9331820449317627,
             0,
             1,
             4.692603183910705,
             2.8803394661274377,
             1,
             1,
             1.792789962520997,
             1.515716566510398,
             1,
             1.2311444133449163,
             2.053136413658844,
             3.449193085800954
            ],
            "sizemode": "area",
            "sizeref": 0.03280452281427571
           },
           "name": "",
           "showlegend": false,
           "type": "scattergeo"
          }
         ],
         "name": "03/20/2003"
        },
        {
         "data": [
          {
           "geo": "geo",
           "hoverlabel": {
            "namelength": 0
           },
           "hovertemplate": "<b>%{hovertext}</b><br><br>Date=03/21/2003<br>size=%{marker.size}<br>Country=%{location}<br>Confirmed=%{marker.color}",
           "hovertext": [
            "Canada",
            "China",
            "Germany",
            "Hong Kong SAR, China",
            "Italy",
            "Republic of Ireland",
            "Singapore",
            "Slovenia",
            "Spain",
            "Switzerland",
            "Taiwan, China",
            "Thailand",
            "United Kingdom",
            "United States",
            "Viet Nam"
           ],
           "legendgroup": "",
           "locationmode": "country names",
           "locations": [
            "Canada",
            "China",
            "Germany",
            "Hong Kong SAR, China",
            "Italy",
            "Republic of Ireland",
            "Singapore",
            "Slovenia",
            "Spain",
            "Switzerland",
            "Taiwan, China",
            "Thailand",
            "United Kingdom",
            "United States",
            "Viet Nam"
           ],
           "marker": {
            "color": [
             9,
             0,
             1,
             203,
             1,
             1,
             39,
             1,
             1,
             7,
             6,
             4,
             2,
             13,
             62
            ],
            "coloraxis": "coloraxis",
            "size": [
             1.9331820449317627,
             0,
             1,
             4.9232151050255055,
             1,
             1,
             3.001368927744568,
             1,
             1,
             1.792789962520997,
             1.711769859409705,
             1.515716566510398,
             1.2311444133449163,
             2.1586538444215795,
             3.449193085800954
            ],
            "sizemode": "area",
            "sizeref": 0.03280452281427571
           },
           "name": "",
           "showlegend": false,
           "type": "scattergeo"
          }
         ],
         "name": "03/21/2003"
        },
        {
         "data": [
          {
           "geo": "geo",
           "hoverlabel": {
            "namelength": 0
           },
           "hovertemplate": "<b>%{hovertext}</b><br><br>Date=03/22/2003<br>size=%{marker.size}<br>Country=%{location}<br>Confirmed=%{marker.color}",
           "hovertext": [
            "Canada",
            "China",
            "Germany",
            "Hong Kong SAR, China",
            "Italy",
            "Republic of Ireland",
            "Singapore",
            "Slovenia",
            "Spain",
            "Switzerland",
            "Taiwan, China",
            "Thailand",
            "United Kingdom",
            "United States",
            "Viet Nam"
           ],
           "legendgroup": "",
           "locationmode": "country names",
           "locations": [
            "Canada",
            "China",
            "Germany",
            "Hong Kong SAR, China",
            "Italy",
            "Republic of Ireland",
            "Singapore",
            "Slovenia",
            "Spain",
            "Switzerland",
            "Taiwan, China",
            "Thailand",
            "United Kingdom",
            "United States",
            "Viet Nam"
           ],
           "marker": {
            "color": [
             9,
             0,
             2,
             222,
             2,
             1,
             44,
             1,
             1,
             7,
             6,
             4,
             2,
             22,
             63
            ],
            "coloraxis": "coloraxis",
            "size": [
             1.9331820449317627,
             0,
             1.2311444133449163,
             5.057150662733924,
             1.2311444133449163,
             1,
             3.1119728754884552,
             1,
             1,
             1.792789962520997,
             1.711769859409705,
             1.515716566510398,
             1.2311444133449163,
             2.5277074255111027,
             3.4657893658794796
            ],
            "sizemode": "area",
            "sizeref": 0.03280452281427571
           },
           "name": "",
           "showlegend": false,
           "type": "scattergeo"
          }
         ],
         "name": "03/22/2003"
        },
        {
         "data": [
          {
           "geo": "geo",
           "hoverlabel": {
            "namelength": 0
           },
           "hovertemplate": "<b>%{hovertext}</b><br><br>Date=03/24/2003<br>size=%{marker.size}<br>Country=%{location}<br>Confirmed=%{marker.color}",
           "hovertext": [
            "Canada",
            "China",
            "France",
            "Germany",
            "Hong Kong SAR, China",
            "Italy",
            "Republic of Ireland",
            "Singapore",
            "Spain",
            "Switzerland",
            "Taiwan, China",
            "Thailand",
            "United Kingdom",
            "United States",
            "Viet Nam"
           ],
           "legendgroup": "",
           "locationmode": "country names",
           "locations": [
            "Canada",
            "China",
            "France",
            "Germany",
            "Hong Kong SAR, China",
            "Italy",
            "Republic of Ireland",
            "Singapore",
            "Spain",
            "Switzerland",
            "Taiwan, China",
            "Thailand",
            "United Kingdom",
            "United States",
            "Viet Nam"
           ],
           "marker": {
            "color": [
             11,
             0,
             1,
             4,
             260,
             2,
             1,
             65,
             1,
             2,
             6,
             5,
             3,
             37,
             58
            ],
            "coloraxis": "coloraxis",
            "size": [
             2.053136413658844,
             0,
             1,
             1.515716566510398,
             5.302638300802359,
             1.2311444133449163,
             1,
             3.4984365929380252,
             1,
             1.2311444133449163,
             1.711769859409705,
             1.6206565966927624,
             1.3903891703159093,
             2.954340289925338,
             3.380869426401905
            ],
            "sizemode": "area",
            "sizeref": 0.03280452281427571
           },
           "name": "",
           "showlegend": false,
           "type": "scattergeo"
          }
         ],
         "name": "03/24/2003"
        },
        {
         "data": [
          {
           "geo": "geo",
           "hoverlabel": {
            "namelength": 0
           },
           "hovertemplate": "<b>%{hovertext}</b><br><br>Date=03/25/2003<br>size=%{marker.size}<br>Country=%{location}<br>Confirmed=%{marker.color}",
           "hovertext": [
            "Canada",
            "China",
            "France",
            "Germany",
            "Hong Kong SAR, China",
            "Italy",
            "Republic of Ireland",
            "Singapore",
            "Switzerland",
            "Taiwan, China",
            "Thailand",
            "United Kingdom",
            "United States",
            "Viet Nam"
           ],
           "legendgroup": "",
           "locationmode": "country names",
           "locations": [
            "Canada",
            "China",
            "France",
            "Germany",
            "Hong Kong SAR, China",
            "Italy",
            "Republic of Ireland",
            "Singapore",
            "Switzerland",
            "Taiwan, China",
            "Thailand",
            "United Kingdom",
            "United States",
            "Viet Nam"
           ],
           "marker": {
            "color": [
             11,
             0,
             1,
             4,
             286,
             2,
             1,
             69,
             2,
             6,
             5,
             3,
             39,
             58
            ],
            "coloraxis": "coloraxis",
            "size": [
             2.053136413658844,
             0,
             1,
             1.515716566510398,
             5.456445351652516,
             1.2311444133449163,
             1,
             3.561678602815316,
             1.2311444133449163,
             1.711769859409705,
             1.6206565966927624,
             1.3903891703159093,
             3.001368927744568,
             3.380869426401905
            ],
            "sizemode": "area",
            "sizeref": 0.03280452281427571
           },
           "name": "",
           "showlegend": false,
           "type": "scattergeo"
          }
         ],
         "name": "03/25/2003"
        },
        {
         "data": [
          {
           "geo": "geo",
           "hoverlabel": {
            "namelength": 0
           },
           "hovertemplate": "<b>%{hovertext}</b><br><br>Date=03/26/2003<br>size=%{marker.size}<br>Country=%{location}<br>Confirmed=%{marker.color}",
           "hovertext": [
            "Canada",
            "China",
            "France",
            "Germany",
            "Hong Kong SAR, China",
            "Italy",
            "Republic of Ireland",
            "Singapore",
            "Switzerland",
            "Taiwan, China",
            "Thailand",
            "United Kingdom",
            "United States",
            "Viet Nam"
           ],
           "legendgroup": "",
           "locationmode": "country names",
           "locations": [
            "Canada",
            "China",
            "France",
            "Germany",
            "Hong Kong SAR, China",
            "Italy",
            "Republic of Ireland",
            "Singapore",
            "Switzerland",
            "Taiwan, China",
            "Thailand",
            "United Kingdom",
            "United States",
            "Viet Nam"
           ],
           "marker": {
            "color": [
             19,
             792,
             1,
             4,
             316,
             3,
             2,
             74,
             2,
             6,
             3,
             3,
             40,
             58
            ],
            "coloraxis": "coloraxis",
            "size": [
             2.4189454814875875,
             7.406577209493961,
             1,
             1.515716566510398,
             5.622197850610044,
             1.3903891703159093,
             1.2311444133449163,
             3.6372195430613803,
             1.2311444133449163,
             1.711769859409705,
             1.3903891703159093,
             1.3903891703159093,
             3.0242521453322184,
             3.380869426401905
            ],
            "sizemode": "area",
            "sizeref": 0.03280452281427571
           },
           "name": "",
           "showlegend": false,
           "type": "scattergeo"
          }
         ],
         "name": "03/26/2003"
        },
        {
         "data": [
          {
           "geo": "geo",
           "hoverlabel": {
            "namelength": 0
           },
           "hovertemplate": "<b>%{hovertext}</b><br><br>Date=03/27/2003<br>size=%{marker.size}<br>Country=%{location}<br>Confirmed=%{marker.color}",
           "hovertext": [
            "Canada",
            "China",
            "France",
            "Germany",
            "Hong Kong SAR, China",
            "Italy",
            "Republic of Ireland",
            "Romania",
            "Singapore",
            "Switzerland",
            "Taiwan, China",
            "Thailand",
            "United Kingdom",
            "United States",
            "Viet Nam"
           ],
           "legendgroup": "",
           "locationmode": "country names",
           "locations": [
            "Canada",
            "China",
            "France",
            "Germany",
            "Hong Kong SAR, China",
            "Italy",
            "Republic of Ireland",
            "Romania",
            "Singapore",
            "Switzerland",
            "Taiwan, China",
            "Thailand",
            "United Kingdom",
            "United States",
            "Viet Nam"
           ],
           "marker": {
            "color": [
             28,
             806,
             1,
             4,
             367,
             2,
             2,
             3,
             78,
             2,
             6,
             3,
             3,
             45,
             58
            ],
            "coloraxis": "coloraxis",
            "size": [
             2.717361446466631,
             7.445613914816561,
             1,
             1.515716566510398,
             5.8803045478208915,
             1.2311444133449163,
             1.2311444133449163,
             1.3903891703159093,
             3.695118587779747,
             1.2311444133449163,
             1.711769859409705,
             1.3903891703159093,
             1.3903891703159093,
             3.1330242337266654,
             3.380869426401905
            ],
            "sizemode": "area",
            "sizeref": 0.03280452281427571
           },
           "name": "",
           "showlegend": false,
           "type": "scattergeo"
          }
         ],
         "name": "03/27/2003"
        },
        {
         "data": [
          {
           "geo": "geo",
           "hoverlabel": {
            "namelength": 0
           },
           "hovertemplate": "<b>%{hovertext}</b><br><br>Date=03/28/2003<br>size=%{marker.size}<br>Country=%{location}<br>Confirmed=%{marker.color}",
           "hovertext": [
            "Canada",
            "China",
            "France",
            "Germany",
            "Hong Kong SAR, China",
            "Italy",
            "Republic of Ireland",
            "Romania",
            "Singapore",
            "Switzerland",
            "Taiwan, China",
            "Thailand",
            "United Kingdom",
            "United States",
            "Viet Nam"
           ],
           "legendgroup": "",
           "locationmode": "country names",
           "locations": [
            "Canada",
            "China",
            "France",
            "Germany",
            "Hong Kong SAR, China",
            "Italy",
            "Republic of Ireland",
            "Romania",
            "Singapore",
            "Switzerland",
            "Taiwan, China",
            "Thailand",
            "United Kingdom",
            "United States",
            "Viet Nam"
           ],
           "marker": {
            "color": [
             29,
             806,
             1,
             4,
             425,
             2,
             2,
             3,
             86,
             2,
             10,
             3,
             3,
             51,
             58
            ],
            "coloraxis": "coloraxis",
            "size": [
             2.7461192933624785,
             7.445613914816561,
             1,
             1.515716566510398,
             6.144926307508437,
             1.2311444133449163,
             1.2311444133449163,
             1.3903891703159093,
             3.804955091989956,
             1.2311444133449163,
             1.9952623149688795,
             1.3903891703159093,
             1.3903891703159093,
             3.2529025491464565,
             3.380869426401905
            ],
            "sizemode": "area",
            "sizeref": 0.03280452281427571
           },
           "name": "",
           "showlegend": false,
           "type": "scattergeo"
          }
         ],
         "name": "03/28/2003"
        },
        {
         "data": [
          {
           "geo": "geo",
           "hoverlabel": {
            "namelength": 0
           },
           "hovertemplate": "<b>%{hovertext}</b><br><br>Date=03/29/2003<br>size=%{marker.size}<br>Country=%{location}<br>Confirmed=%{marker.color}",
           "hovertext": [
            "Canada",
            "China",
            "France",
            "Germany",
            "Hong Kong SAR, China",
            "Italy",
            "Republic of Ireland",
            "Romania",
            "Singapore",
            "Switzerland",
            "Taiwan, China",
            "Thailand",
            "United Kingdom",
            "United States",
            "Viet Nam"
           ],
           "legendgroup": "",
           "locationmode": "country names",
           "locations": [
            "Canada",
            "China",
            "France",
            "Germany",
            "Hong Kong SAR, China",
            "Italy",
            "Republic of Ireland",
            "Romania",
            "Singapore",
            "Switzerland",
            "Taiwan, China",
            "Thailand",
            "United Kingdom",
            "United States",
            "Viet Nam"
           ],
           "marker": {
            "color": [
             37,
             806,
             1,
             4,
             470,
             2,
             2,
             3,
             89,
             3,
             10,
             3,
             3,
             59,
             58
            ],
            "coloraxis": "coloraxis",
            "size": [
             2.954340289925338,
             7.445613914816561,
             1,
             1.515716566510398,
             6.333289746931686,
             1.2311444133449163,
             1.2311444133449163,
             1.3903891703159093,
             3.8442976132762077,
             1.3903891703159093,
             1.9952623149688795,
             1.3903891703159093,
             1.3903891703159093,
             3.3982521746716885,
             3.380869426401905
            ],
            "sizemode": "area",
            "sizeref": 0.03280452281427571
           },
           "name": "",
           "showlegend": false,
           "type": "scattergeo"
          }
         ],
         "name": "03/29/2003"
        },
        {
         "data": [
          {
           "geo": "geo",
           "hoverlabel": {
            "namelength": 0
           },
           "hovertemplate": "<b>%{hovertext}</b><br><br>Date=03/31/2003<br>size=%{marker.size}<br>Country=%{location}<br>Confirmed=%{marker.color}",
           "hovertext": [
            "Canada",
            "China",
            "France",
            "Germany",
            "Hong Kong SAR, China",
            "Italy",
            "Republic of Ireland",
            "Romania",
            "Singapore",
            "Switzerland",
            "Taiwan, China",
            "Thailand",
            "United Kingdom",
            "United States",
            "Viet Nam"
           ],
           "legendgroup": "",
           "locationmode": "country names",
           "locations": [
            "Canada",
            "China",
            "France",
            "Germany",
            "Hong Kong SAR, China",
            "Italy",
            "Republic of Ireland",
            "Romania",
            "Singapore",
            "Switzerland",
            "Taiwan, China",
            "Thailand",
            "United Kingdom",
            "United States",
            "Viet Nam"
           ],
           "marker": {
            "color": [
             44,
             806,
             1,
             5,
             530,
             2,
             2,
             3,
             91,
             3,
             10,
             5,
             3,
             59,
             58
            ],
            "coloraxis": "coloraxis",
            "size": [
             3.1119728754884552,
             7.445613914816561,
             1,
             1.6206565966927624,
             6.565726091132677,
             1.2311444133449163,
             1.2311444133449163,
             1.3903891703159093,
             3.8700129448363705,
             1.3903891703159093,
             1.9952623149688795,
             1.6206565966927624,
             1.3903891703159093,
             3.3982521746716885,
             3.380869426401905
            ],
            "sizemode": "area",
            "sizeref": 0.03280452281427571
           },
           "name": "",
           "showlegend": false,
           "type": "scattergeo"
          }
         ],
         "name": "03/31/2003"
        },
        {
         "data": [
          {
           "geo": "geo",
           "hoverlabel": {
            "namelength": 0
           },
           "hovertemplate": "<b>%{hovertext}</b><br><br>Date=04/01/2003<br>size=%{marker.size}<br>Country=%{location}<br>Confirmed=%{marker.color}",
           "hovertext": [
            "Australia",
            "Belgium",
            "Canada",
            "China",
            "France",
            "Germany",
            "Hong Kong SAR, China",
            "Italy",
            "Republic of Ireland",
            "Romania",
            "Singapore",
            "Switzerland",
            "Taiwan, China",
            "Thailand",
            "United Kingdom",
            "United States",
            "Viet Nam"
           ],
           "legendgroup": "",
           "locationmode": "country names",
           "locations": [
            "Australia",
            "Belgium",
            "Canada",
            "China",
            "France",
            "Germany",
            "Hong Kong SAR, China",
            "Italy",
            "Republic of Ireland",
            "Romania",
            "Singapore",
            "Switzerland",
            "Taiwan, China",
            "Thailand",
            "United Kingdom",
            "United States",
            "Viet Nam"
           ],
           "marker": {
            "color": [
             1,
             1,
             53,
             806,
             1,
             5,
             685,
             3,
             2,
             3,
             92,
             3,
             13,
             6,
             3,
             69,
             58
            ],
            "coloraxis": "coloraxis",
            "size": [
             1,
             1,
             3.2906580963691905,
             7.445613914816561,
             1,
             1.6206565966927624,
             7.090994874320777,
             1.3903891703159093,
             1.2311444133449163,
             1.3903891703159093,
             3.8827224622629894,
             1.3903891703159093,
             2.1586538444215795,
             1.711769859409705,
             1.3903891703159093,
             3.561678602815316,
             3.380869426401905
            ],
            "sizemode": "area",
            "sizeref": 0.03280452281427571
           },
           "name": "",
           "showlegend": false,
           "type": "scattergeo"
          }
         ],
         "name": "04/01/2003"
        },
        {
         "data": [
          {
           "geo": "geo",
           "hoverlabel": {
            "namelength": 0
           },
           "hovertemplate": "<b>%{hovertext}</b><br><br>Date=04/02/2003<br>size=%{marker.size}<br>Country=%{location}<br>Confirmed=%{marker.color}",
           "hovertext": [
            "Australia",
            "Belgium",
            "Canada",
            "China",
            "France",
            "Germany",
            "Hong Kong SAR, China",
            "Italy",
            "Republic of Ireland",
            "Romania",
            "Singapore",
            "Spain",
            "Switzerland",
            "Taiwan, China",
            "Thailand",
            "United Kingdom",
            "United States",
            "Viet Nam"
           ],
           "legendgroup": "",
           "locationmode": "country names",
           "locations": [
            "Australia",
            "Belgium",
            "Canada",
            "China",
            "France",
            "Germany",
            "Hong Kong SAR, China",
            "Italy",
            "Republic of Ireland",
            "Romania",
            "Singapore",
            "Spain",
            "Switzerland",
            "Taiwan, China",
            "Thailand",
            "United Kingdom",
            "United States",
            "Viet Nam"
           ],
           "marker": {
            "color": [
             1,
             1,
             58,
             1190,
             1,
             5,
             708,
             3,
             2,
             3,
             95,
             1,
             2,
             13,
             7,
             3,
             72,
             58
            ],
            "coloraxis": "coloraxis",
            "size": [
             1,
             1,
             3.380869426401905,
             8.368817329997245,
             1,
             1.6206565966927624,
             7.161598627928535,
             1.3903891703159093,
             1.2311444133449163,
             1.3903891703159093,
             3.920279951613009,
             1,
             1.2311444133449163,
             2.1586538444215795,
             1.792789962520997,
             1.3903891703159093,
             3.6074452531358507,
             3.380869426401905
            ],
            "sizemode": "area",
            "sizeref": 0.03280452281427571
           },
           "name": "",
           "showlegend": false,
           "type": "scattergeo"
          }
         ],
         "name": "04/02/2003"
        },
        {
         "data": [
          {
           "geo": "geo",
           "hoverlabel": {
            "namelength": 0
           },
           "hovertemplate": "<b>%{hovertext}</b><br><br>Date=04/03/2003<br>size=%{marker.size}<br>Country=%{location}<br>Confirmed=%{marker.color}",
           "hovertext": [
            "Australia",
            "Belgium",
            "Brazil",
            "Canada",
            "China",
            "France",
            "Germany",
            "Hong Kong SAR, China",
            "Italy",
            "Republic of Ireland",
            "Romania",
            "Singapore",
            "Switzerland",
            "Taiwan, China",
            "Thailand",
            "United Kingdom",
            "United States",
            "Viet Nam"
           ],
           "legendgroup": "",
           "locationmode": "country names",
           "locations": [
            "Australia",
            "Belgium",
            "Brazil",
            "Canada",
            "China",
            "France",
            "Germany",
            "Hong Kong SAR, China",
            "Italy",
            "Republic of Ireland",
            "Romania",
            "Singapore",
            "Switzerland",
            "Taiwan, China",
            "Thailand",
            "United Kingdom",
            "United States",
            "Viet Nam"
           ],
           "marker": {
            "color": [
             1,
             1,
             1,
             62,
             1190,
             3,
             5,
             734,
             3,
             1,
             1,
             98,
             2,
             14,
             7,
             3,
             85,
             59
            ],
            "coloraxis": "coloraxis",
            "size": [
             1,
             1,
             1,
             3.449193085800954,
             8.368817329997245,
             1.3903891703159093,
             1.6206565966927624,
             7.239504092816395,
             1.3903891703159093,
             1,
             1,
             3.9570161493329823,
             1.2311444133449163,
             2.2071833466585673,
             1.792789962520997,
             1.3903891703159093,
             3.791627615651737,
             3.3982521746716885
            ],
            "sizemode": "area",
            "sizeref": 0.03280452281427571
           },
           "name": "",
           "showlegend": false,
           "type": "scattergeo"
          }
         ],
         "name": "04/03/2003"
        },
        {
         "data": [
          {
           "geo": "geo",
           "hoverlabel": {
            "namelength": 0
           },
           "hovertemplate": "<b>%{hovertext}</b><br><br>Date=04/04/2003<br>size=%{marker.size}<br>Country=%{location}<br>Confirmed=%{marker.color}",
           "hovertext": [
            "Australia",
            "Belgium",
            "Brazil",
            "Canada",
            "China",
            "France",
            "Germany",
            "Hong Kong SAR, China",
            "Italy",
            "Republic of Ireland",
            "Romania",
            "Singapore",
            "Spain",
            "Switzerland",
            "Taiwan, China",
            "Thailand",
            "United Kingdom",
            "United States",
            "Viet Nam"
           ],
           "legendgroup": "",
           "locationmode": "country names",
           "locations": [
            "Australia",
            "Belgium",
            "Brazil",
            "Canada",
            "China",
            "France",
            "Germany",
            "Hong Kong SAR, China",
            "Italy",
            "Republic of Ireland",
            "Romania",
            "Singapore",
            "Spain",
            "Switzerland",
            "Taiwan, China",
            "Thailand",
            "United Kingdom",
            "United States",
            "Viet Nam"
           ],
           "marker": {
            "color": [
             1,
             1,
             1,
             69,
             1220,
             3,
             5,
             761,
             3,
             1,
             1,
             100,
             1,
             2,
             15,
             7,
             3,
             100,
             59
            ],
            "coloraxis": "coloraxis",
            "size": [
             1,
             1,
             1,
             3.561678602815316,
             8.4315602786117,
             1.3903891703159093,
             1.6206565966927624,
             7.318387430747937,
             1.3903891703159093,
             1,
             1,
             3.9810717055349722,
             1,
             1.2311444133449163,
             2.2533433808426553,
             1.792789962520997,
             1.3903891703159093,
             3.9810717055349722,
             3.3982521746716885
            ],
            "sizemode": "area",
            "sizeref": 0.03280452281427571
           },
           "name": "",
           "showlegend": false,
           "type": "scattergeo"
          }
         ],
         "name": "04/04/2003"
        },
        {
         "data": [
          {
           "geo": "geo",
           "hoverlabel": {
            "namelength": 0
           },
           "hovertemplate": "<b>%{hovertext}</b><br><br>Date=04/05/2003<br>size=%{marker.size}<br>Country=%{location}<br>Confirmed=%{marker.color}",
           "hovertext": [
            "Australia",
            "Belgium",
            "Brazil",
            "Canada",
            "China",
            "France",
            "Germany",
            "Hong Kong SAR, China",
            "Italy",
            "Malaysia",
            "Republic of Ireland",
            "Romania",
            "Singapore",
            "Spain",
            "Switzerland",
            "Taiwan, China",
            "Thailand",
            "United Kingdom",
            "United States",
            "Viet Nam"
           ],
           "legendgroup": "",
           "locationmode": "country names",
           "locations": [
            "Australia",
            "Belgium",
            "Brazil",
            "Canada",
            "China",
            "France",
            "Germany",
            "Hong Kong SAR, China",
            "Italy",
            "Malaysia",
            "Republic of Ireland",
            "Romania",
            "Singapore",
            "Spain",
            "Switzerland",
            "Taiwan, China",
            "Thailand",
            "United Kingdom",
            "United States",
            "Viet Nam"
           ],
           "marker": {
            "color": [
             1,
             1,
             1,
             74,
             1220,
             3,
             5,
             800,
             3,
             1,
             1,
             1,
             101,
             1,
             1,
             17,
             7,
             4,
             115,
             59
            ],
            "coloraxis": "coloraxis",
            "size": [
             1,
             1,
             1,
             3.6372195430613803,
             8.4315602786117,
             1.3903891703159093,
             1.6206565966927624,
             7.4289424858756705,
             1.3903891703159093,
             1,
             1,
             1,
             3.9929733546852777,
             1,
             1,
             2.3395626336814512,
             1.792789962520997,
             1.515716566510398,
             4.151541198814568,
             3.3982521746716885
            ],
            "sizemode": "area",
            "sizeref": 0.03280452281427571
           },
           "name": "",
           "showlegend": false,
           "type": "scattergeo"
          }
         ],
         "name": "04/05/2003"
        },
        {
         "data": [
          {
           "geo": "geo",
           "hoverlabel": {
            "namelength": 0
           },
           "hovertemplate": "<b>%{hovertext}</b><br><br>Date=04/07/2003<br>size=%{marker.size}<br>Country=%{location}<br>Confirmed=%{marker.color}",
           "hovertext": [
            "Australia",
            "Brazil",
            "Canada",
            "China",
            "France",
            "Germany",
            "Hong Kong SAR, China",
            "Italy",
            "Malaysia",
            "Republic of Ireland",
            "Romania",
            "Singapore",
            "Spain",
            "Switzerland",
            "Taiwan, China",
            "Thailand",
            "United Kingdom",
            "United States",
            "Viet Nam"
           ],
           "legendgroup": "",
           "locationmode": "country names",
           "locations": [
            "Australia",
            "Brazil",
            "Canada",
            "China",
            "France",
            "Germany",
            "Hong Kong SAR, China",
            "Italy",
            "Malaysia",
            "Republic of Ireland",
            "Romania",
            "Singapore",
            "Spain",
            "Switzerland",
            "Taiwan, China",
            "Thailand",
            "United Kingdom",
            "United States",
            "Viet Nam"
           ],
           "marker": {
            "color": [
             1,
             1,
             90,
             1268,
             3,
             5,
             883,
             3,
             1,
             1,
             1,
             106,
             1,
             1,
             21,
             7,
             5,
             141,
             62
            ],
            "coloraxis": "coloraxis",
            "size": [
             1,
             1,
             3.8572052822268215,
             8.529739659805099,
             1.3903891703159093,
             1.6206565966927624,
             7.652233455392726,
             1.3903891703159093,
             1,
             1,
             1,
             4.051275331573146,
             1,
             1,
             2.4926757485402593,
             1.792789962520997,
             1.6206565966927624,
             4.41332320594846,
             3.449193085800954
            ],
            "sizemode": "area",
            "sizeref": 0.03280452281427571
           },
           "name": "",
           "showlegend": false,
           "type": "scattergeo"
          }
         ],
         "name": "04/07/2003"
        },
        {
         "data": [
          {
           "geo": "geo",
           "hoverlabel": {
            "namelength": 0
           },
           "hovertemplate": "<b>%{hovertext}</b><br><br>Date=04/08/2003<br>size=%{marker.size}<br>Country=%{location}<br>Confirmed=%{marker.color}",
           "hovertext": [
            "Australia",
            "Brazil",
            "Canada",
            "China",
            "France",
            "Germany",
            "Hong Kong SAR, China",
            "Italy",
            "Malaysia",
            "Republic of Ireland",
            "Romania",
            "Singapore",
            "Spain",
            "Switzerland",
            "Taiwan, China",
            "Thailand",
            "United Kingdom",
            "United States",
            "Viet Nam"
           ],
           "legendgroup": "",
           "locationmode": "country names",
           "locations": [
            "Australia",
            "Brazil",
            "Canada",
            "China",
            "France",
            "Germany",
            "Hong Kong SAR, China",
            "Italy",
            "Malaysia",
            "Republic of Ireland",
            "Romania",
            "Singapore",
            "Spain",
            "Switzerland",
            "Taiwan, China",
            "Thailand",
            "United Kingdom",
            "United States",
            "Viet Nam"
           ],
           "marker": {
            "color": [
             1,
             1,
             91,
             1279,
             4,
             5,
             928,
             3,
             1,
             1,
             1,
             113,
             1,
             1,
             19,
             7,
             5,
             148,
             62
            ],
            "coloraxis": "coloraxis",
            "size": [
             1,
             1,
             3.8700129448363705,
             8.551871436620136,
             1.515716566510398,
             1.6206565966927624,
             7.767198297135275,
             1.3903891703159093,
             1,
             1,
             1,
             4.129747824285516,
             1,
             1,
             2.4189454814875875,
             1.792789962520997,
             1.6206565966927624,
             4.477942520548968,
             3.449193085800954
            ],
            "sizemode": "area",
            "sizeref": 0.03280452281427571
           },
           "name": "",
           "showlegend": false,
           "type": "scattergeo"
          }
         ],
         "name": "04/08/2003"
        },
        {
         "data": [
          {
           "geo": "geo",
           "hoverlabel": {
            "namelength": 0
           },
           "hovertemplate": "<b>%{hovertext}</b><br><br>Date=04/09/2003<br>size=%{marker.size}<br>Country=%{location}<br>Confirmed=%{marker.color}",
           "hovertext": [
            "Brazil",
            "Canada",
            "China",
            "France",
            "Germany",
            "Hong Kong SAR, China",
            "Italy",
            "Malaysia",
            "Republic of Ireland",
            "Romania",
            "Singapore",
            "Spain",
            "Switzerland",
            "Taiwan, China",
            "Thailand",
            "United Kingdom",
            "United States",
            "Viet Nam"
           ],
           "legendgroup": "",
           "locationmode": "country names",
           "locations": [
            "Brazil",
            "Canada",
            "China",
            "France",
            "Germany",
            "Hong Kong SAR, China",
            "Italy",
            "Malaysia",
            "Republic of Ireland",
            "Romania",
            "Singapore",
            "Spain",
            "Switzerland",
            "Taiwan, China",
            "Thailand",
            "United Kingdom",
            "United States",
            "Viet Nam"
           ],
           "marker": {
            "color": [
             1,
             94,
             1280,
             4,
             5,
             970,
             3,
             1,
             1,
             1,
             118,
             1,
             1,
             19,
             7,
             5,
             149,
             62
            ],
            "coloraxis": "coloraxis",
            "size": [
             1,
             3.9078542362742903,
             8.553876799929503,
             1.515716566510398,
             1.6206565966927624,
             7.871029140769997,
             1.3903891703159093,
             1,
             1,
             1,
             4.183739179984261,
             1,
             1,
             2.4189454814875875,
             1.792789962520997,
             1.6206565966927624,
             4.486998047212219,
             3.449193085800954
            ],
            "sizemode": "area",
            "sizeref": 0.03280452281427571
           },
           "name": "",
           "showlegend": false,
           "type": "scattergeo"
          }
         ],
         "name": "04/09/2003"
        },
        {
         "data": [
          {
           "geo": "geo",
           "hoverlabel": {
            "namelength": 0
           },
           "hovertemplate": "<b>%{hovertext}</b><br><br>Date=04/10/2003<br>size=%{marker.size}<br>Country=%{location}<br>Confirmed=%{marker.color}",
           "hovertext": [
            "Brazil",
            "Canada",
            "China",
            "France",
            "Germany",
            "Hong Kong SAR, China",
            "Italy",
            "Kuwait",
            "Malaysia",
            "Republic of Ireland",
            "Romania",
            "Singapore",
            "Spain",
            "Switzerland",
            "Taiwan, China",
            "Thailand",
            "United Kingdom",
            "United States",
            "Viet Nam"
           ],
           "legendgroup": "",
           "locationmode": "country names",
           "locations": [
            "Brazil",
            "Canada",
            "China",
            "France",
            "Germany",
            "Hong Kong SAR, China",
            "Italy",
            "Kuwait",
            "Malaysia",
            "Republic of Ireland",
            "Romania",
            "Singapore",
            "Spain",
            "Switzerland",
            "Taiwan, China",
            "Thailand",
            "United Kingdom",
            "United States",
            "Viet Nam"
           ],
           "marker": {
            "color": [
             2,
             97,
             1290,
             4,
             6,
             998,
             3,
             1,
             3,
             1,
             1,
             126,
             1,
             1,
             19,
             7,
             5,
             154,
             62
            ],
            "coloraxis": "coloraxis",
            "size": [
             1.2311444133449163,
             3.9448593208621605,
             8.573870370939124,
             1.515716566510398,
             1.711769859409705,
             7.938513037869768,
             1.3903891703159093,
             1,
             1.3903891703159093,
             1,
             1,
             4.2668872156327415,
             1,
             1,
             2.4189454814875875,
             1.792789962520997,
             1.6206565966927624,
             4.531648500646097,
             3.449193085800954
            ],
            "sizemode": "area",
            "sizeref": 0.03280452281427571
           },
           "name": "",
           "showlegend": false,
           "type": "scattergeo"
          }
         ],
         "name": "04/10/2003"
        },
        {
         "data": [
          {
           "geo": "geo",
           "hoverlabel": {
            "namelength": 0
           },
           "hovertemplate": "<b>%{hovertext}</b><br><br>Date=04/11/2003<br>size=%{marker.size}<br>Country=%{location}<br>Confirmed=%{marker.color}",
           "hovertext": [
            "Brazil",
            "Canada",
            "China",
            "France",
            "Germany",
            "Hong Kong SAR, China",
            "Italy",
            "Japan",
            "Kuwait",
            "Malaysia",
            "Republic of Ireland",
            "Romania",
            "Singapore",
            "South Africa",
            "Spain",
            "Switzerland",
            "Taiwan, China",
            "Thailand",
            "United Kingdom",
            "United States",
            "Viet Nam"
           ],
           "legendgroup": "",
           "locationmode": "country names",
           "locations": [
            "Brazil",
            "Canada",
            "China",
            "France",
            "Germany",
            "Hong Kong SAR, China",
            "Italy",
            "Japan",
            "Kuwait",
            "Malaysia",
            "Republic of Ireland",
            "Romania",
            "Singapore",
            "South Africa",
            "Spain",
            "Switzerland",
            "Taiwan, China",
            "Thailand",
            "United Kingdom",
            "United States",
            "Viet Nam"
           ],
           "marker": {
            "color": [
             2,
             98,
             1309,
             5,
             6,
             1059,
             3,
             4,
             1,
             4,
             1,
             1,
             133,
             1,
             1,
             1,
             21,
             7,
             5,
             166,
             62
            ],
            "coloraxis": "coloraxis",
            "size": [
             1.2311444133449163,
             3.9570161493329823,
             8.611561232110237,
             1.6206565966927624,
             1.711769859409705,
             8.08106849831396,
             1.3903891703159093,
             1.515716566510398,
             1,
             1.515716566510398,
             1,
             1,
             4.336661179096468,
             1,
             1,
             1,
             2.4926757485402593,
             1.792789962520997,
             1.6206565966927624,
             4.634815240944689,
             3.449193085800954
            ],
            "sizemode": "area",
            "sizeref": 0.03280452281427571
           },
           "name": "",
           "showlegend": false,
           "type": "scattergeo"
          }
         ],
         "name": "04/11/2003"
        },
        {
         "data": [
          {
           "geo": "geo",
           "hoverlabel": {
            "namelength": 0
           },
           "hovertemplate": "<b>%{hovertext}</b><br><br>Date=04/12/2003<br>size=%{marker.size}<br>Country=%{location}<br>Confirmed=%{marker.color}",
           "hovertext": [
            "Brazil",
            "Canada",
            "China",
            "France",
            "Germany",
            "Hong Kong SAR, China",
            "Italy",
            "Japan",
            "Kuwait",
            "Malaysia",
            "Republic of Ireland",
            "Romania",
            "Singapore",
            "South Africa",
            "Spain",
            "Switzerland",
            "Taiwan, China",
            "Thailand",
            "United Kingdom",
            "United States"
           ],
           "legendgroup": "",
           "locationmode": "country names",
           "locations": [
            "Brazil",
            "Canada",
            "China",
            "France",
            "Germany",
            "Hong Kong SAR, China",
            "Italy",
            "Japan",
            "Kuwait",
            "Malaysia",
            "Republic of Ireland",
            "Romania",
            "Singapore",
            "South Africa",
            "Spain",
            "Switzerland",
            "Taiwan, China",
            "Thailand",
            "United Kingdom",
            "United States"
           ],
           "marker": {
            "color": [
             2,
             101,
             1309,
             5,
             6,
             1108,
             3,
             4,
             1,
             4,
             1,
             1,
             147,
             1,
             1,
             1,
             23,
             8,
             6,
             166
            ],
            "coloraxis": "coloraxis",
            "size": [
             1.2311444133449163,
             3.9929733546852777,
             8.611561232110237,
             1.6206565966927624,
             1.711769859409705,
             8.191471566648277,
             1.3903891703159093,
             1.515716566510398,
             1,
             1.515716566510398,
             1,
             1,
             4.46884406180249,
             1,
             1,
             1,
             2.5616415021458128,
             1.8660659830736148,
             1.711769859409705,
             4.634815240944689
            ],
            "sizemode": "area",
            "sizeref": 0.03280452281427571
           },
           "name": "",
           "showlegend": false,
           "type": "scattergeo"
          }
         ],
         "name": "04/12/2003"
        },
        {
         "data": [
          {
           "geo": "geo",
           "hoverlabel": {
            "namelength": 0
           },
           "hovertemplate": "<b>%{hovertext}</b><br><br>Date=04/14/2003<br>size=%{marker.size}<br>Country=%{location}<br>Confirmed=%{marker.color}",
           "hovertext": [
            "Brazil",
            "Canada",
            "China",
            "France",
            "Germany",
            "Hong Kong SAR, China",
            "Indonesia",
            "Italy",
            "Kuwait",
            "Malaysia",
            "Philippines",
            "Republic of Ireland",
            "Romania",
            "Singapore",
            "South Africa",
            "Spain",
            "Sweden",
            "Switzerland",
            "Taiwan, China",
            "Thailand",
            "United Kingdom",
            "United States",
            "Viet Nam"
           ],
           "legendgroup": "",
           "locationmode": "country names",
           "locations": [
            "Brazil",
            "Canada",
            "China",
            "France",
            "Germany",
            "Hong Kong SAR, China",
            "Indonesia",
            "Italy",
            "Kuwait",
            "Malaysia",
            "Philippines",
            "Republic of Ireland",
            "Romania",
            "Singapore",
            "South Africa",
            "Spain",
            "Sweden",
            "Switzerland",
            "Taiwan, China",
            "Thailand",
            "United Kingdom",
            "United States",
            "Viet Nam"
           ],
           "marker": {
            "color": [
             2,
             100,
             1418,
             5,
             6,
             1190,
             1,
             3,
             1,
             4,
             1,
             1,
             1,
             158,
             1,
             1,
             1,
             1,
             23,
             8,
             6,
             174,
             63
            ],
            "coloraxis": "coloraxis",
            "size": [
             1.2311444133449163,
             3.9810717055349722,
             8.8206962968839,
             1.6206565966927624,
             1.711769859409705,
             8.368817329997245,
             1,
             1.3903891703159093,
             1,
             1.515716566510398,
             1,
             1,
             1,
             4.566643676946885,
             1,
             1,
             1,
             1,
             2.5616415021458128,
             1.8660659830736148,
             1.711769859409705,
             4.700724236721369,
             3.4657893658794796
            ],
            "sizemode": "area",
            "sizeref": 0.03280452281427571
           },
           "name": "",
           "showlegend": false,
           "type": "scattergeo"
          }
         ],
         "name": "04/14/2003"
        },
        {
         "data": [
          {
           "geo": "geo",
           "hoverlabel": {
            "namelength": 0
           },
           "hovertemplate": "<b>%{hovertext}</b><br><br>Date=04/15/2003<br>size=%{marker.size}<br>Country=%{location}<br>Confirmed=%{marker.color}",
           "hovertext": [
            "Brazil",
            "Canada",
            "China",
            "France",
            "Germany",
            "Hong Kong SAR, China",
            "Indonesia",
            "Italy",
            "Japan",
            "Kuwait",
            "Malaysia",
            "Philippines",
            "Republic of Ireland",
            "Romania",
            "Singapore",
            "South Africa",
            "Spain",
            "Sweden",
            "Switzerland",
            "Taiwan, China",
            "Thailand",
            "United Kingdom",
            "United States",
            "Viet Nam"
           ],
           "legendgroup": "",
           "locationmode": "country names",
           "locations": [
            "Brazil",
            "Canada",
            "China",
            "France",
            "Germany",
            "Hong Kong SAR, China",
            "Indonesia",
            "Italy",
            "Japan",
            "Kuwait",
            "Malaysia",
            "Philippines",
            "Republic of Ireland",
            "Romania",
            "Singapore",
            "South Africa",
            "Spain",
            "Sweden",
            "Switzerland",
            "Taiwan, China",
            "Thailand",
            "United Kingdom",
            "United States",
            "Viet Nam"
           ],
           "marker": {
            "color": [
             2,
             100,
             1418,
             5,
             6,
             1232,
             1,
             3,
             1,
             1,
             4,
             1,
             1,
             1,
             162,
             1,
             1,
             1,
             1,
             23,
             8,
             6,
             193,
             63
            ],
            "coloraxis": "coloraxis",
            "size": [
             1.2311444133449163,
             3.9810717055349722,
             8.8206962968839,
             1.6206565966927624,
             1.711769859409705,
             8.45635511430223,
             1,
             1.3903891703159093,
             1,
             1,
             1.515716566510398,
             1,
             1,
             1,
             4.601024060515672,
             1,
             1,
             1,
             1,
             2.5616415021458128,
             1.8660659830736148,
             1.711769859409705,
             4.849167577296064,
             3.4657893658794796
            ],
            "sizemode": "area",
            "sizeref": 0.03280452281427571
           },
           "name": "",
           "showlegend": false,
           "type": "scattergeo"
          }
         ],
         "name": "04/15/2003"
        },
        {
         "data": [
          {
           "geo": "geo",
           "hoverlabel": {
            "namelength": 0
           },
           "hovertemplate": "<b>%{hovertext}</b><br><br>Date=04/16/2003<br>size=%{marker.size}<br>Country=%{location}<br>Confirmed=%{marker.color}",
           "hovertext": [
            "Brazil",
            "Canada",
            "China",
            "France",
            "Germany",
            "Hong Kong SAR, China",
            "Indonesia",
            "Italy",
            "Japan",
            "Kuwait",
            "Malaysia",
            "Philippines",
            "Republic of Ireland",
            "Romania",
            "Singapore",
            "South Africa",
            "Spain",
            "Sweden",
            "Switzerland",
            "Taiwan, China",
            "Thailand",
            "United Kingdom",
            "United States",
            "Viet Nam"
           ],
           "legendgroup": "",
           "locationmode": "country names",
           "locations": [
            "Brazil",
            "Canada",
            "China",
            "France",
            "Germany",
            "Hong Kong SAR, China",
            "Indonesia",
            "Italy",
            "Japan",
            "Kuwait",
            "Malaysia",
            "Philippines",
            "Republic of Ireland",
            "Romania",
            "Singapore",
            "South Africa",
            "Spain",
            "Sweden",
            "Switzerland",
            "Taiwan, China",
            "Thailand",
            "United Kingdom",
            "United States",
            "Viet Nam"
           ],
           "marker": {
            "color": [
             2,
             103,
             1432,
             5,
             6,
             1268,
             1,
             3,
             1,
             1,
             5,
             1,
             1,
             1,
             162,
             1,
             1,
             1,
             1,
             27,
             8,
             6,
             193,
             63
            ],
            "coloraxis": "coloraxis",
            "size": [
             1.2311444133449163,
             4.01653140849876,
             8.846732698612026,
             1.6206565966927624,
             1.711769859409705,
             8.529739659805099,
             1,
             1.3903891703159093,
             1,
             1,
             1.6206565966927624,
             1,
             1,
             1,
             4.601024060515672,
             1,
             1,
             1,
             1,
             2.6878753795222865,
             1.8660659830736148,
             1.711769859409705,
             4.849167577296064,
             3.4657893658794796
            ],
            "sizemode": "area",
            "sizeref": 0.03280452281427571
           },
           "name": "",
           "showlegend": false,
           "type": "scattergeo"
          }
         ],
         "name": "04/16/2003"
        },
        {
         "data": [
          {
           "geo": "geo",
           "hoverlabel": {
            "namelength": 0
           },
           "hovertemplate": "<b>%{hovertext}</b><br><br>Date=04/17/2003<br>size=%{marker.size}<br>Country=%{location}<br>Confirmed=%{marker.color}",
           "hovertext": [
            "Australia",
            "Brazil",
            "Canada",
            "China",
            "France",
            "Germany",
            "Hong Kong SAR, China",
            "India",
            "Indonesia",
            "Italy",
            "Japan",
            "Kuwait",
            "Malaysia",
            "Mongolia",
            "Philippines",
            "Republic of Ireland",
            "Romania",
            "Singapore",
            "South Africa",
            "Spain",
            "Sweden",
            "Switzerland",
            "Taiwan, China",
            "Thailand",
            "United Kingdom",
            "United States",
            "Viet Nam"
           ],
           "legendgroup": "",
           "locationmode": "country names",
           "locations": [
            "Australia",
            "Brazil",
            "Canada",
            "China",
            "France",
            "Germany",
            "Hong Kong SAR, China",
            "India",
            "Indonesia",
            "Italy",
            "Japan",
            "Kuwait",
            "Malaysia",
            "Mongolia",
            "Philippines",
            "Republic of Ireland",
            "Romania",
            "Singapore",
            "South Africa",
            "Spain",
            "Sweden",
            "Switzerland",
            "Taiwan, China",
            "Thailand",
            "United Kingdom",
            "United States",
            "Viet Nam"
           ],
           "marker": {
            "color": [
             3,
             2,
             126,
             1457,
             5,
             6,
             1297,
             1,
             1,
             3,
             2,
             1,
             5,
             3,
             1,
             1,
             1,
             167,
             1,
             1,
             1,
             1,
             27,
             8,
             6,
             199,
             63
            ],
            "coloraxis": "coloraxis",
            "size": [
             1.3903891703159093,
             1.2311444133449163,
             4.2668872156327415,
             8.892786494448323,
             1.6206565966927624,
             1.711769859409705,
             8.587801407187097,
             1,
             1,
             1.3903891703159093,
             1.2311444133449163,
             1,
             1.6206565966927624,
             1.3903891703159093,
             1,
             1,
             1,
             4.643173812506152,
             1,
             1,
             1,
             1,
             2.6878753795222865,
             1.8660659830736148,
             1.711769859409705,
             4.893909375689346,
             3.4657893658794796
            ],
            "sizemode": "area",
            "sizeref": 0.03280452281427571
           },
           "name": "",
           "showlegend": false,
           "type": "scattergeo"
          }
         ],
         "name": "04/17/2003"
        },
        {
         "data": [
          {
           "geo": "geo",
           "hoverlabel": {
            "namelength": 0
           },
           "hovertemplate": "<b>%{hovertext}</b><br><br>Date=04/18/2003<br>size=%{marker.size}<br>Country=%{location}<br>Confirmed=%{marker.color}",
           "hovertext": [
            "Australia",
            "Brazil",
            "Canada",
            "China",
            "France",
            "Germany",
            "Hong Kong SAR, China",
            "India",
            "Indonesia",
            "Italy",
            "Japan",
            "Kuwait",
            "Malaysia",
            "Mongolia",
            "Philippines",
            "Republic of Ireland",
            "Romania",
            "Singapore",
            "South Africa",
            "Spain",
            "Sweden",
            "Switzerland",
            "Taiwan, China",
            "Thailand",
            "United Kingdom",
            "United States",
            "Viet Nam"
           ],
           "legendgroup": "",
           "locationmode": "country names",
           "locations": [
            "Australia",
            "Brazil",
            "Canada",
            "China",
            "France",
            "Germany",
            "Hong Kong SAR, China",
            "India",
            "Indonesia",
            "Italy",
            "Japan",
            "Kuwait",
            "Malaysia",
            "Mongolia",
            "Philippines",
            "Republic of Ireland",
            "Romania",
            "Singapore",
            "South Africa",
            "Spain",
            "Sweden",
            "Switzerland",
            "Taiwan, China",
            "Thailand",
            "United Kingdom",
            "United States",
            "Viet Nam"
           ],
           "marker": {
            "color": [
             3,
             2,
             132,
             1512,
             5,
             6,
             1358,
             1,
             1,
             3,
             4,
             1,
             5,
             3,
             1,
             1,
             1,
             177,
             1,
             1,
             3,
             1,
             29,
             7,
             6,
             220,
             63
            ],
            "coloraxis": "coloraxis",
            "size": [
             1.3903891703159093,
             1.2311444133449163,
             4.326853384396008,
             8.992191296678412,
             1.6206565966927624,
             1.711769859409705,
             8.707027797917787,
             1,
             1,
             1.3903891703159093,
             1.515716566510398,
             1,
             1.6206565966927624,
             1.3903891703159093,
             1,
             1,
             1,
             4.724893021666003,
             1,
             1,
             1.3903891703159093,
             1,
             2.7461192933624785,
             1.792789962520997,
             1.711769859409705,
             5.04343936938931,
             3.4657893658794796
            ],
            "sizemode": "area",
            "sizeref": 0.03280452281427571
           },
           "name": "",
           "showlegend": false,
           "type": "scattergeo"
          }
         ],
         "name": "04/18/2003"
        },
        {
         "data": [
          {
           "geo": "geo",
           "hoverlabel": {
            "namelength": 0
           },
           "hovertemplate": "<b>%{hovertext}</b><br><br>Date=04/19/2003<br>size=%{marker.size}<br>Country=%{location}<br>Confirmed=%{marker.color}",
           "hovertext": [
            "Australia",
            "Brazil",
            "Canada",
            "China",
            "France",
            "Germany",
            "Hong Kong SAR, China",
            "India",
            "Indonesia",
            "Italy",
            "Japan",
            "Kuwait",
            "Malaysia",
            "Mongolia",
            "Philippines",
            "Republic of Ireland",
            "Romania",
            "Singapore",
            "South Africa",
            "Spain",
            "Sweden",
            "Switzerland",
            "Taiwan, China",
            "Thailand",
            "United Kingdom",
            "United States",
            "Viet Nam"
           ],
           "legendgroup": "",
           "locationmode": "country names",
           "locations": [
            "Australia",
            "Brazil",
            "Canada",
            "China",
            "France",
            "Germany",
            "Hong Kong SAR, China",
            "India",
            "Indonesia",
            "Italy",
            "Japan",
            "Kuwait",
            "Malaysia",
            "Mongolia",
            "Philippines",
            "Republic of Ireland",
            "Romania",
            "Singapore",
            "South Africa",
            "Spain",
            "Sweden",
            "Switzerland",
            "Taiwan, China",
            "Thailand",
            "United Kingdom",
            "United States",
            "Viet Nam"
           ],
           "marker": {
            "color": [
             3,
             2,
             132,
             1512,
             5,
             6,
             1358,
             1,
             1,
             3,
             4,
             1,
             5,
             3,
             1,
             1,
             1,
             177,
             1,
             1,
             3,
             1,
             29,
             7,
             6,
             220,
             63
            ],
            "coloraxis": "coloraxis",
            "size": [
             1.3903891703159093,
             1.2311444133449163,
             4.326853384396008,
             8.992191296678412,
             1.6206565966927624,
             1.711769859409705,
             8.707027797917787,
             1,
             1,
             1.3903891703159093,
             1.515716566510398,
             1,
             1.6206565966927624,
             1.3903891703159093,
             1,
             1,
             1,
             4.724893021666003,
             1,
             1,
             1.3903891703159093,
             1,
             2.7461192933624785,
             1.792789962520997,
             1.711769859409705,
             5.04343936938931,
             3.4657893658794796
            ],
            "sizemode": "area",
            "sizeref": 0.03280452281427571
           },
           "name": "",
           "showlegend": false,
           "type": "scattergeo"
          }
         ],
         "name": "04/19/2003"
        },
        {
         "data": [
          {
           "geo": "geo",
           "hoverlabel": {
            "namelength": 0
           },
           "hovertemplate": "<b>%{hovertext}</b><br><br>Date=04/21/2003<br>size=%{marker.size}<br>Country=%{location}<br>Confirmed=%{marker.color}",
           "hovertext": [
            "Australia",
            "Brazil",
            "Canada",
            "China",
            "France",
            "Germany",
            "Hong Kong SAR, China",
            "India",
            "Indonesia",
            "Italy",
            "Japan",
            "Kuwait",
            "Malaysia",
            "Mongolia",
            "Philippines",
            "Republic of Ireland",
            "Romania",
            "Singapore",
            "South Africa",
            "Spain",
            "Sweden",
            "Switzerland",
            "Taiwan, China",
            "Thailand",
            "United Kingdom",
            "United States",
            "Viet Nam"
           ],
           "legendgroup": "",
           "locationmode": "country names",
           "locations": [
            "Australia",
            "Brazil",
            "Canada",
            "China",
            "France",
            "Germany",
            "Hong Kong SAR, China",
            "India",
            "Indonesia",
            "Italy",
            "Japan",
            "Kuwait",
            "Malaysia",
            "Mongolia",
            "Philippines",
            "Republic of Ireland",
            "Romania",
            "Singapore",
            "South Africa",
            "Spain",
            "Sweden",
            "Switzerland",
            "Taiwan, China",
            "Thailand",
            "United Kingdom",
            "United States",
            "Viet Nam"
           ],
           "marker": {
            "color": [
             3,
             2,
             132,
             1959,
             5,
             6,
             1402,
             1,
             1,
             3,
             5,
             1,
             6,
             3,
             2,
             1,
             1,
             178,
             1,
             1,
             3,
             1,
             29,
             7,
             6,
             39,
             63
            ],
            "coloraxis": "coloraxis",
            "size": [
             1.3903891703159093,
             1.2311444133449163,
             4.326853384396008,
             9.718748211787625,
             1.6206565966927624,
             1.711769859409705,
             8.79071912684438,
             1,
             1,
             1.3903891703159093,
             1.6206565966927624,
             1,
             1.711769859409705,
             1.3903891703159093,
             1.2311444133449163,
             1,
             1,
             4.732885529820199,
             1,
             1,
             1.3903891703159093,
             1,
             2.7461192933624785,
             1.792789962520997,
             1.711769859409705,
             3.001368927744568,
             3.4657893658794796
            ],
            "sizemode": "area",
            "sizeref": 0.03280452281427571
           },
           "name": "",
           "showlegend": false,
           "type": "scattergeo"
          }
         ],
         "name": "04/21/2003"
        },
        {
         "data": [
          {
           "geo": "geo",
           "hoverlabel": {
            "namelength": 0
           },
           "hovertemplate": "<b>%{hovertext}</b><br><br>Date=04/22/2003<br>size=%{marker.size}<br>Country=%{location}<br>Confirmed=%{marker.color}",
           "hovertext": [
            "Australia",
            "Brazil",
            "Canada",
            "China",
            "France",
            "Germany",
            "Hong Kong SAR, China",
            "India",
            "Indonesia",
            "Italy",
            "Japan",
            "Kuwait",
            "Malaysia",
            "Mongolia",
            "Philippines",
            "Republic of Ireland",
            "Romania",
            "Singapore",
            "South Africa",
            "Spain",
            "Sweden",
            "Switzerland",
            "Taiwan, China",
            "Thailand",
            "United Kingdom",
            "United States",
            "Viet Nam"
           ],
           "legendgroup": "",
           "locationmode": "country names",
           "locations": [
            "Australia",
            "Brazil",
            "Canada",
            "China",
            "France",
            "Germany",
            "Hong Kong SAR, China",
            "India",
            "Indonesia",
            "Italy",
            "Japan",
            "Kuwait",
            "Malaysia",
            "Mongolia",
            "Philippines",
            "Republic of Ireland",
            "Romania",
            "Singapore",
            "South Africa",
            "Spain",
            "Sweden",
            "Switzerland",
            "Taiwan, China",
            "Thailand",
            "United Kingdom",
            "United States",
            "Viet Nam"
           ],
           "marker": {
            "color": [
             3,
             2,
             139,
             2001,
             5,
             7,
             1434,
             1,
             1,
             3,
             2,
             1,
             6,
             3,
             2,
             1,
             1,
             186,
             1,
             1,
             3,
             1,
             29,
             7,
             6,
             38,
             63
            ],
            "coloraxis": "coloraxis",
            "size": [
             1.3903891703159093,
             1.2311444133449163,
             4.39444911601279,
             9.780794327947456,
             1.6206565966927624,
             1.792789962520997,
             8.850437619672551,
             1,
             1,
             1.3903891703159093,
             1.2311444133449163,
             1,
             1.711769859409705,
             1.3903891703159093,
             1.2311444133449163,
             1,
             1,
             4.795720712826159,
             1,
             1,
             1.3903891703159093,
             1,
             2.7461192933624785,
             1.792789962520997,
             1.711769859409705,
             2.978071215719372,
             3.4657893658794796
            ],
            "sizemode": "area",
            "sizeref": 0.03280452281427571
           },
           "name": "",
           "showlegend": false,
           "type": "scattergeo"
          }
         ],
         "name": "04/22/2003"
        },
        {
         "data": [
          {
           "geo": "geo",
           "hoverlabel": {
            "namelength": 0
           },
           "hovertemplate": "<b>%{hovertext}</b><br><br>Date=04/23/2003<br>size=%{marker.size}<br>Country=%{location}<br>Confirmed=%{marker.color}",
           "hovertext": [
            "Australia",
            "Brazil",
            "Canada",
            "China",
            "France",
            "Germany",
            "Hong Kong SAR, China",
            "India",
            "Indonesia",
            "Italy",
            "Japan",
            "Kuwait",
            "Malaysia",
            "Mongolia",
            "Philippines",
            "Republic of Ireland",
            "Romania",
            "Singapore",
            "South Africa",
            "Spain",
            "Sweden",
            "Switzerland",
            "Taiwan, China",
            "Thailand",
            "United Kingdom",
            "United States",
            "Viet Nam"
           ],
           "legendgroup": "",
           "locationmode": "country names",
           "locations": [
            "Australia",
            "Brazil",
            "Canada",
            "China",
            "France",
            "Germany",
            "Hong Kong SAR, China",
            "India",
            "Indonesia",
            "Italy",
            "Japan",
            "Kuwait",
            "Malaysia",
            "Mongolia",
            "Philippines",
            "Republic of Ireland",
            "Romania",
            "Singapore",
            "South Africa",
            "Spain",
            "Sweden",
            "Switzerland",
            "Taiwan, China",
            "Thailand",
            "United Kingdom",
            "United States",
            "Viet Nam"
           ],
           "marker": {
            "color": [
             4,
             2,
             140,
             2305,
             5,
             7,
             1458,
             1,
             1,
             3,
             2,
             1,
             5,
             3,
             2,
             1,
             1,
             189,
             1,
             1,
             3,
             1,
             37,
             7,
             6,
             39,
             63
            ],
            "coloraxis": "coloraxis",
            "size": [
             1.515716566510398,
             1.2311444133449163,
             4.403909753814732,
             10.204724370421829,
             1.6206565966927624,
             1.792789962520997,
             8.89461710208793,
             1,
             1,
             1.3903891703159093,
             1.2311444133449163,
             1,
             1.6206565966927624,
             1.3903891703159093,
             1.2311444133449163,
             1,
             1,
             4.818796000914871,
             1,
             1,
             1.3903891703159093,
             1,
             2.954340289925338,
             1.792789962520997,
             1.711769859409705,
             3.001368927744568,
             3.4657893658794796
            ],
            "sizemode": "area",
            "sizeref": 0.03280452281427571
           },
           "name": "",
           "showlegend": false,
           "type": "scattergeo"
          }
         ],
         "name": "04/23/2003"
        },
        {
         "data": [
          {
           "geo": "geo",
           "hoverlabel": {
            "namelength": 0
           },
           "hovertemplate": "<b>%{hovertext}</b><br><br>Date=04/24/2003<br>size=%{marker.size}<br>Country=%{location}<br>Confirmed=%{marker.color}",
           "hovertext": [
            "Brazil",
            "Bulgaria",
            "Canada",
            "China",
            "France",
            "Germany",
            "Hong Kong SAR, China",
            "India",
            "Indonesia",
            "Italy",
            "Japan",
            "Kuwait",
            "Malaysia",
            "Mongolia",
            "Philippines",
            "Republic of Ireland",
            "Romania",
            "Singapore",
            "South Africa",
            "Spain",
            "Sweden",
            "Switzerland",
            "Taiwan, China",
            "Thailand",
            "United Kingdom",
            "United States",
            "Viet Nam"
           ],
           "legendgroup": "",
           "locationmode": "country names",
           "locations": [
            "Brazil",
            "Bulgaria",
            "Canada",
            "China",
            "France",
            "Germany",
            "Hong Kong SAR, China",
            "India",
            "Indonesia",
            "Italy",
            "Japan",
            "Kuwait",
            "Malaysia",
            "Mongolia",
            "Philippines",
            "Republic of Ireland",
            "Romania",
            "Singapore",
            "South Africa",
            "Spain",
            "Sweden",
            "Switzerland",
            "Taiwan, China",
            "Thailand",
            "United Kingdom",
            "United States",
            "Viet Nam"
           ],
           "marker": {
            "color": [
             2,
             1,
             140,
             2422,
             5,
             7,
             1488,
             1,
             1,
             4,
             2,
             1,
             5,
             3,
             2,
             1,
             1,
             192,
             1,
             1,
             3,
             1,
             37,
             8,
             6,
             37,
             63
            ],
            "coloraxis": "coloraxis",
            "size": [
             1.2311444133449163,
             1,
             4.403909753814732,
             10.357435600004681,
             1.6206565966927624,
             1.792789962520997,
             8.949131286526445,
             1,
             1,
             1.515716566510398,
             1.2311444133449163,
             1,
             1.6206565966927624,
             1.3903891703159093,
             1.2311444133449163,
             1,
             1,
             4.841616301677382,
             1,
             1,
             1.3903891703159093,
             1,
             2.954340289925338,
             1.8660659830736148,
             1.711769859409705,
             2.954340289925338,
             3.4657893658794796
            ],
            "sizemode": "area",
            "sizeref": 0.03280452281427571
           },
           "name": "",
           "showlegend": false,
           "type": "scattergeo"
          }
         ],
         "name": "04/24/2003"
        },
        {
         "data": [
          {
           "geo": "geo",
           "hoverlabel": {
            "namelength": 0
           },
           "hovertemplate": "<b>%{hovertext}</b><br><br>Date=04/25/2003<br>size=%{marker.size}<br>Country=%{location}<br>Confirmed=%{marker.color}",
           "hovertext": [
            "Brazil",
            "Bulgaria",
            "Canada",
            "China",
            "France",
            "Germany",
            "Hong Kong SAR, China",
            "India",
            "Indonesia",
            "Italy",
            "Japan",
            "Kuwait",
            "Malaysia",
            "Mongolia",
            "Philippines",
            "Republic of Ireland",
            "Romania",
            "Singapore",
            "South Africa",
            "Spain",
            "Sweden",
            "Switzerland",
            "Taiwan, China",
            "Thailand",
            "United Kingdom",
            "United States",
            "Viet Nam"
           ],
           "legendgroup": "",
           "locationmode": "country names",
           "locations": [
            "Brazil",
            "Bulgaria",
            "Canada",
            "China",
            "France",
            "Germany",
            "Hong Kong SAR, China",
            "India",
            "Indonesia",
            "Italy",
            "Japan",
            "Kuwait",
            "Malaysia",
            "Mongolia",
            "Philippines",
            "Republic of Ireland",
            "Romania",
            "Singapore",
            "South Africa",
            "Spain",
            "Sweden",
            "Switzerland",
            "Taiwan, China",
            "Thailand",
            "United Kingdom",
            "United States",
            "Viet Nam"
           ],
           "marker": {
            "color": [
             2,
             1,
             140,
             2601,
             5,
             7,
             1510,
             1,
             1,
             4,
             2,
             1,
             5,
             3,
             2,
             1,
             1,
             195,
             1,
             1,
             3,
             1,
             41,
             8,
             6,
             39,
             63
            ],
            "coloraxis": "coloraxis",
            "size": [
             1.2311444133449163,
             1,
             4.403909753814732,
             10.581374994243516,
             1.6206565966927624,
             1.792789962520997,
             8.988621313554823,
             1,
             1,
             1.515716566510398,
             1.2311444133449163,
             1,
             1.6206565966927624,
             1.3903891703159093,
             1.2311444133449163,
             1,
             1,
             4.864188351857917,
             1,
             1,
             1.3903891703159093,
             1,
             3.046738334899583,
             1.8660659830736148,
             1.711769859409705,
             3.001368927744568,
             3.4657893658794796
            ],
            "sizemode": "area",
            "sizeref": 0.03280452281427571
           },
           "name": "",
           "showlegend": false,
           "type": "scattergeo"
          }
         ],
         "name": "04/25/2003"
        },
        {
         "data": [
          {
           "geo": "geo",
           "hoverlabel": {
            "namelength": 0
           },
           "hovertemplate": "<b>%{hovertext}</b><br><br>Date=04/26/2003<br>size=%{marker.size}<br>Country=%{location}<br>Confirmed=%{marker.color}",
           "hovertext": [
            "Brazil",
            "Bulgaria",
            "Canada",
            "China",
            "France",
            "Germany",
            "Hong Kong SAR, China",
            "India",
            "Indonesia",
            "Italy",
            "Japan",
            "Kuwait",
            "Malaysia",
            "Mongolia",
            "Philippines",
            "Republic of Ireland",
            "Romania",
            "Singapore",
            "South Africa",
            "Spain",
            "Sweden",
            "Switzerland",
            "Taiwan, China",
            "Thailand",
            "United Kingdom",
            "United States",
            "Viet Nam"
           ],
           "legendgroup": "",
           "locationmode": "country names",
           "locations": [
            "Brazil",
            "Bulgaria",
            "Canada",
            "China",
            "France",
            "Germany",
            "Hong Kong SAR, China",
            "India",
            "Indonesia",
            "Italy",
            "Japan",
            "Kuwait",
            "Malaysia",
            "Mongolia",
            "Philippines",
            "Republic of Ireland",
            "Romania",
            "Singapore",
            "South Africa",
            "Spain",
            "Sweden",
            "Switzerland",
            "Taiwan, China",
            "Thailand",
            "United Kingdom",
            "United States",
            "Viet Nam"
           ],
           "marker": {
            "color": [
             2,
             1,
             142,
             2753,
             5,
             7,
             1527,
             1,
             1,
             4,
             2,
             1,
             5,
             5,
             4,
             1,
             1,
             198,
             1,
             1,
             3,
             1,
             49,
             7,
             6,
             41,
             63
            ],
            "coloraxis": "coloraxis",
            "size": [
             1.2311444133449163,
             1,
             4.422690039918873,
             10.763211228752766,
             1.6206565966927624,
             1.792789962520997,
             9.018861364442955,
             1,
             1,
             1.515716566510398,
             1.2311444133449163,
             1,
             1.6206565966927624,
             1.6206565966927624,
             1.515716566510398,
             1,
             1,
             4.886518609838755,
             1,
             1,
             1.3903891703159093,
             1,
             3.2140958497160383,
             1.792789962520997,
             1.711769859409705,
             3.046738334899583,
             3.4657893658794796
            ],
            "sizemode": "area",
            "sizeref": 0.03280452281427571
           },
           "name": "",
           "showlegend": false,
           "type": "scattergeo"
          }
         ],
         "name": "04/26/2003"
        },
        {
         "data": [
          {
           "geo": "geo",
           "hoverlabel": {
            "namelength": 0
           },
           "hovertemplate": "<b>%{hovertext}</b><br><br>Date=04/28/2003<br>size=%{marker.size}<br>Country=%{location}<br>Confirmed=%{marker.color}",
           "hovertext": [
            "Brazil",
            "Bulgaria",
            "Canada",
            "China",
            "France",
            "Germany",
            "Hong Kong SAR, China",
            "India",
            "Indonesia",
            "Italy",
            "Japan",
            "Kuwait",
            "Malaysia",
            "Mongolia",
            "Philippines",
            "Republic of Ireland",
            "Romania",
            "Singapore",
            "South Africa",
            "Spain",
            "Sweden",
            "Switzerland",
            "Taiwan, China",
            "Thailand",
            "United Kingdom",
            "United States",
            "Viet Nam"
           ],
           "legendgroup": "",
           "locationmode": "country names",
           "locations": [
            "Brazil",
            "Bulgaria",
            "Canada",
            "China",
            "France",
            "Germany",
            "Hong Kong SAR, China",
            "India",
            "Indonesia",
            "Italy",
            "Japan",
            "Kuwait",
            "Malaysia",
            "Mongolia",
            "Philippines",
            "Republic of Ireland",
            "Romania",
            "Singapore",
            "South Africa",
            "Spain",
            "Sweden",
            "Switzerland",
            "Taiwan, China",
            "Thailand",
            "United Kingdom",
            "United States",
            "Viet Nam"
           ],
           "marker": {
            "color": [
             2,
             1,
             142,
             2914,
             5,
             7,
             1557,
             1,
             1,
             8,
             2,
             1,
             6,
             5,
             4,
             1,
             1,
             199,
             1,
             1,
             3,
             1,
             66,
             7,
             6,
             41,
             63
            ],
            "coloraxis": "coloraxis",
            "size": [
             1.2311444133449163,
             1,
             4.422690039918873,
             10.948304411709175,
             1.6206565966927624,
             1.792789962520997,
             9.071656219125797,
             1,
             1,
             1.8660659830736148,
             1.2311444133449163,
             1,
             1.711769859409705,
             1.6206565966927624,
             1.515716566510398,
             1,
             1,
             4.893909375689346,
             1,
             1,
             1.3903891703159093,
             1,
             3.5144970301577456,
             1.792789962520997,
             1.711769859409705,
             3.046738334899583,
             3.4657893658794796
            ],
            "sizemode": "area",
            "sizeref": 0.03280452281427571
           },
           "name": "",
           "showlegend": false,
           "type": "scattergeo"
          }
         ],
         "name": "04/28/2003"
        },
        {
         "data": [
          {
           "geo": "geo",
           "hoverlabel": {
            "namelength": 0
           },
           "hovertemplate": "<b>%{hovertext}</b><br><br>Date=04/29/2003<br>size=%{marker.size}<br>Country=%{location}<br>Confirmed=%{marker.color}",
           "hovertext": [
            "Brazil",
            "Bulgaria",
            "Canada",
            "China",
            "France",
            "Germany",
            "Hong Kong SAR, China",
            "India",
            "Indonesia",
            "Italy",
            "Japan",
            "Kuwait",
            "Malaysia",
            "Mongolia",
            "Philippines",
            "Republic of Ireland",
            "Republic of Korea",
            "Romania",
            "Singapore",
            "South Africa",
            "Spain",
            "Sweden",
            "Switzerland",
            "Taiwan, China",
            "Thailand",
            "United Kingdom",
            "United States",
            "Viet Nam"
           ],
           "legendgroup": "",
           "locationmode": "country names",
           "locations": [
            "Brazil",
            "Bulgaria",
            "Canada",
            "China",
            "France",
            "Germany",
            "Hong Kong SAR, China",
            "India",
            "Indonesia",
            "Italy",
            "Japan",
            "Kuwait",
            "Malaysia",
            "Mongolia",
            "Philippines",
            "Republic of Ireland",
            "Republic of Korea",
            "Romania",
            "Singapore",
            "South Africa",
            "Spain",
            "Sweden",
            "Switzerland",
            "Taiwan, China",
            "Thailand",
            "United Kingdom",
            "United States",
            "Viet Nam"
           ],
           "marker": {
            "color": [
             2,
             1,
             146,
             3303,
             5,
             7,
             1572,
             1,
             1,
             9,
             2,
             1,
             6,
             5,
             4,
             1,
             1,
             1,
             201,
             1,
             1,
             3,
             1,
             66,
             7,
             6,
             41,
             63
            ],
            "coloraxis": "coloraxis",
            "size": [
             1.2311444133449163,
             1,
             4.459702173287629,
             11.367699170577936,
             1.6206565966927624,
             1.792789962520997,
             9.097786952344299,
             1,
             1,
             1.9331820449317627,
             1.2311444133449163,
             1,
             1.711769859409705,
             1.6206565966927624,
             1.515716566510398,
             1,
             1,
             1,
             4.908613271164895,
             1,
             1,
             1.3903891703159093,
             1,
             3.5144970301577456,
             1.792789962520997,
             1.711769859409705,
             3.046738334899583,
             3.4657893658794796
            ],
            "sizemode": "area",
            "sizeref": 0.03280452281427571
           },
           "name": "",
           "showlegend": false,
           "type": "scattergeo"
          }
         ],
         "name": "04/29/2003"
        },
        {
         "data": [
          {
           "geo": "geo",
           "hoverlabel": {
            "namelength": 0
           },
           "hovertemplate": "<b>%{hovertext}</b><br><br>Date=04/30/2003<br>size=%{marker.size}<br>Country=%{location}<br>Confirmed=%{marker.color}",
           "hovertext": [
            "Brazil",
            "Bulgaria",
            "Canada",
            "China",
            "France",
            "Germany",
            "Hong Kong SAR, China",
            "Indonesia",
            "Italy",
            "Japan",
            "Kuwait",
            "Macao SAR, China",
            "Malaysia",
            "Mongolia",
            "Philippines",
            "Republic of Ireland",
            "Republic of Korea",
            "Romania",
            "Singapore",
            "South Africa",
            "Spain",
            "Sweden",
            "Switzerland",
            "Taiwan, China",
            "Thailand",
            "United Kingdom",
            "United States",
            "Viet Nam"
           ],
           "legendgroup": "",
           "locationmode": "country names",
           "locations": [
            "Brazil",
            "Bulgaria",
            "Canada",
            "China",
            "France",
            "Germany",
            "Hong Kong SAR, China",
            "Indonesia",
            "Italy",
            "Japan",
            "Kuwait",
            "Macao SAR, China",
            "Malaysia",
            "Mongolia",
            "Philippines",
            "Republic of Ireland",
            "Republic of Korea",
            "Romania",
            "Singapore",
            "South Africa",
            "Spain",
            "Sweden",
            "Switzerland",
            "Taiwan, China",
            "Thailand",
            "United Kingdom",
            "United States",
            "Viet Nam"
           ],
           "marker": {
            "color": [
             2,
             1,
             148,
             3460,
             5,
             7,
             1589,
             2,
             9,
             2,
             1,
             1,
             6,
             6,
             4,
             1,
             1,
             1,
             201,
             1,
             1,
             3,
             1,
             78,
             7,
             6,
             52,
             63
            ],
            "coloraxis": "coloraxis",
            "size": [
             1.2311444133449163,
             1,
             4.477942520548968,
             11.527173491838639,
             1.6206565966927624,
             1.792789962520997,
             9.12719163639444,
             1.2311444133449163,
             1.9331820449317627,
             1.2311444133449163,
             1,
             1,
             1.711769859409705,
             1.711769859409705,
             1.515716566510398,
             1,
             1,
             1,
             4.908613271164895,
             1,
             1,
             1.3903891703159093,
             1,
             3.695118587779747,
             1.792789962520997,
             1.711769859409705,
             3.2719073933511478,
             3.4657893658794796
            ],
            "sizemode": "area",
            "sizeref": 0.03280452281427571
           },
           "name": "",
           "showlegend": false,
           "type": "scattergeo"
          }
         ],
         "name": "04/30/2003"
        },
        {
         "data": [
          {
           "geo": "geo",
           "hoverlabel": {
            "namelength": 0
           },
           "hovertemplate": "<b>%{hovertext}</b><br><br>Date=05/01/2003<br>size=%{marker.size}<br>Country=%{location}<br>Confirmed=%{marker.color}",
           "hovertext": [
            "Brazil",
            "Bulgaria",
            "Canada",
            "China",
            "France",
            "Germany",
            "Hong Kong SAR, China",
            "Indonesia",
            "Italy",
            "Japan",
            "Kuwait",
            "Macao SAR, China",
            "Malaysia",
            "Mongolia",
            "Philippines",
            "Poland",
            "Republic of Ireland",
            "Republic of Korea",
            "Romania",
            "Singapore",
            "South Africa",
            "Spain",
            "Sweden",
            "Switzerland",
            "Taiwan, China",
            "Thailand",
            "United Kingdom",
            "United States",
            "Viet Nam"
           ],
           "legendgroup": "",
           "locationmode": "country names",
           "locations": [
            "Brazil",
            "Bulgaria",
            "Canada",
            "China",
            "France",
            "Germany",
            "Hong Kong SAR, China",
            "Indonesia",
            "Italy",
            "Japan",
            "Kuwait",
            "Macao SAR, China",
            "Malaysia",
            "Mongolia",
            "Philippines",
            "Poland",
            "Republic of Ireland",
            "Republic of Korea",
            "Romania",
            "Singapore",
            "South Africa",
            "Spain",
            "Sweden",
            "Switzerland",
            "Taiwan, China",
            "Thailand",
            "United Kingdom",
            "United States",
            "Viet Nam"
           ],
           "marker": {
            "color": [
             2,
             1,
             147,
             3638,
             5,
             7,
             1600,
             2,
             9,
             2,
             1,
             1,
             6,
             6,
             4,
             1,
             1,
             1,
             1,
             201,
             1,
             1,
             3,
             1,
             89,
             7,
             6,
             54,
             63
            ],
            "coloraxis": "coloraxis",
            "size": [
             1.2311444133449163,
             1,
             4.46884406180249,
             11.701965366313264,
             1.6206565966927624,
             1.792789962520997,
             9.146101038546526,
             1.2311444133449163,
             1.9331820449317627,
             1.2311444133449163,
             1,
             1,
             1.711769859409705,
             1.711769859409705,
             1.515716566510398,
             1,
             1,
             1,
             1,
             4.908613271164895,
             1,
             1,
             1.3903891703159093,
             1,
             3.8442976132762077,
             1.792789962520997,
             1.711769859409705,
             3.3091627572662095,
             3.4657893658794796
            ],
            "sizemode": "area",
            "sizeref": 0.03280452281427571
           },
           "name": "",
           "showlegend": false,
           "type": "scattergeo"
          }
         ],
         "name": "05/01/2003"
        },
        {
         "data": [
          {
           "geo": "geo",
           "hoverlabel": {
            "namelength": 0
           },
           "hovertemplate": "<b>%{hovertext}</b><br><br>Date=05/02/2003<br>size=%{marker.size}<br>Country=%{location}<br>Confirmed=%{marker.color}",
           "hovertext": [
            "Brazil",
            "Bulgaria",
            "Canada",
            "China",
            "France",
            "Germany",
            "Hong Kong SAR, China",
            "Indonesia",
            "Italy",
            "Kuwait",
            "Macao SAR, China",
            "Malaysia",
            "Mongolia",
            "New Zealand",
            "Philippines",
            "Poland",
            "Republic of Ireland",
            "Republic of Korea",
            "Romania",
            "Singapore",
            "South Africa",
            "Spain",
            "Sweden",
            "Switzerland",
            "Taiwan, China",
            "Thailand",
            "United Kingdom",
            "United States",
            "Viet Nam"
           ],
           "legendgroup": "",
           "locationmode": "country names",
           "locations": [
            "Brazil",
            "Bulgaria",
            "Canada",
            "China",
            "France",
            "Germany",
            "Hong Kong SAR, China",
            "Indonesia",
            "Italy",
            "Kuwait",
            "Macao SAR, China",
            "Malaysia",
            "Mongolia",
            "New Zealand",
            "Philippines",
            "Poland",
            "Republic of Ireland",
            "Republic of Korea",
            "Romania",
            "Singapore",
            "South Africa",
            "Spain",
            "Sweden",
            "Switzerland",
            "Taiwan, China",
            "Thailand",
            "United Kingdom",
            "United States",
            "Viet Nam"
           ],
           "marker": {
            "color": [
             2,
             1,
             149,
             3799,
             5,
             7,
             1611,
             2,
             9,
             1,
             1,
             6,
             8,
             1,
             3,
             1,
             1,
             1,
             1,
             203,
             1,
             1,
             3,
             1,
             100,
             7,
             6,
             56,
             63
            ],
            "coloraxis": "coloraxis",
            "size": [
             1.2311444133449163,
             1,
             4.486998047212219,
             11.854978974452028,
             1.6206565966927624,
             1.792789962520997,
             9.164919656859109,
             1.2311444133449163,
             1.9331820449317627,
             1,
             1,
             1.711769859409705,
             1.8660659830736148,
             1,
             1.3903891703159093,
             1,
             1,
             1,
             1,
             4.9232151050255055,
             1,
             1,
             1.3903891703159093,
             1,
             3.9810717055349722,
             1.792789962520997,
             1.711769859409705,
             3.345464363856254,
             3.4657893658794796
            ],
            "sizemode": "area",
            "sizeref": 0.03280452281427571
           },
           "name": "",
           "showlegend": false,
           "type": "scattergeo"
          }
         ],
         "name": "05/02/2003"
        },
        {
         "data": [
          {
           "geo": "geo",
           "hoverlabel": {
            "namelength": 0
           },
           "hovertemplate": "<b>%{hovertext}</b><br><br>Date=05/03/2003<br>size=%{marker.size}<br>Country=%{location}<br>Confirmed=%{marker.color}",
           "hovertext": [
            "Brazil",
            "Bulgaria",
            "Canada",
            "China",
            "France",
            "Germany",
            "Hong Kong SAR, China",
            "Indonesia",
            "Italy",
            "Kuwait",
            "Macao SAR, China",
            "Malaysia",
            "Mongolia",
            "New Zealand",
            "Philippines",
            "Poland",
            "Republic of Ireland",
            "Republic of Korea",
            "Romania",
            "Singapore",
            "South Africa",
            "Spain",
            "Sweden",
            "Switzerland",
            "Taiwan, China",
            "Thailand",
            "United Kingdom",
            "United States",
            "Viet Nam"
           ],
           "legendgroup": "",
           "locationmode": "country names",
           "locations": [
            "Brazil",
            "Bulgaria",
            "Canada",
            "China",
            "France",
            "Germany",
            "Hong Kong SAR, China",
            "Indonesia",
            "Italy",
            "Kuwait",
            "Macao SAR, China",
            "Malaysia",
            "Mongolia",
            "New Zealand",
            "Philippines",
            "Poland",
            "Republic of Ireland",
            "Republic of Korea",
            "Romania",
            "Singapore",
            "South Africa",
            "Spain",
            "Sweden",
            "Switzerland",
            "Taiwan, China",
            "Thailand",
            "United Kingdom",
            "United States",
            "Viet Nam"
           ],
           "marker": {
            "color": [
             2,
             1,
             149,
             3971,
             5,
             7,
             1621,
             2,
             9,
             1,
             1,
             6,
             8,
             1,
             3,
             1,
             1,
             1,
             1,
             203,
             1,
             1,
             3,
             1,
             100,
             7,
             6,
             54,
             63
            ],
            "coloraxis": "coloraxis",
            "size": [
             1.2311444133449163,
             1,
             4.486998047212219,
             12.013511435531942,
             1.6206565966927624,
             1.792789962520997,
             9.181949597327637,
             1.2311444133449163,
             1.9331820449317627,
             1,
             1,
             1.711769859409705,
             1.8660659830736148,
             1,
             1.3903891703159093,
             1,
             1,
             1,
             1,
             4.9232151050255055,
             1,
             1,
             1.3903891703159093,
             1,
             3.9810717055349722,
             1.792789962520997,
             1.711769859409705,
             3.3091627572662095,
             3.4657893658794796
            ],
            "sizemode": "area",
            "sizeref": 0.03280452281427571
           },
           "name": "",
           "showlegend": false,
           "type": "scattergeo"
          }
         ],
         "name": "05/03/2003"
        },
        {
         "data": [
          {
           "geo": "geo",
           "hoverlabel": {
            "namelength": 0
           },
           "hovertemplate": "<b>%{hovertext}</b><br><br>Date=05/05/2003<br>size=%{marker.size}<br>Country=%{location}<br>Confirmed=%{marker.color}",
           "hovertext": [
            "Brazil",
            "Bulgaria",
            "Canada",
            "China",
            "France",
            "Germany",
            "Hong Kong SAR, China",
            "Indonesia",
            "Italy",
            "Kuwait",
            "Macao SAR, China",
            "Malaysia",
            "Mongolia",
            "New Zealand",
            "Philippines",
            "Poland",
            "Republic of Ireland",
            "Republic of Korea",
            "Romania",
            "Singapore",
            "South Africa",
            "Spain",
            "Sweden",
            "Switzerland",
            "Taiwan, China",
            "Thailand",
            "United Kingdom",
            "United States",
            "Viet Nam"
           ],
           "legendgroup": "",
           "locationmode": "country names",
           "locations": [
            "Brazil",
            "Bulgaria",
            "Canada",
            "China",
            "France",
            "Germany",
            "Hong Kong SAR, China",
            "Indonesia",
            "Italy",
            "Kuwait",
            "Macao SAR, China",
            "Malaysia",
            "Mongolia",
            "New Zealand",
            "Philippines",
            "Poland",
            "Republic of Ireland",
            "Republic of Korea",
            "Romania",
            "Singapore",
            "South Africa",
            "Spain",
            "Sweden",
            "Switzerland",
            "Taiwan, China",
            "Thailand",
            "United Kingdom",
            "United States",
            "Viet Nam"
           ],
           "marker": {
            "color": [
             2,
             1,
             148,
             4280,
             5,
             7,
             1637,
             2,
             9,
             1,
             1,
             7,
             8,
             1,
             3,
             1,
             1,
             1,
             1,
             204,
             1,
             1,
             3,
             1,
             116,
             7,
             6,
             61,
             63
            ],
            "coloraxis": "coloraxis",
            "size": [
             1.2311444133449163,
             1,
             4.477942520548968,
             12.286639918612437,
             1.6206565966927624,
             1.792789962520997,
             9.209045183812512,
             1.2311444133449163,
             1.9331820449317627,
             1,
             1,
             1.792789962520997,
             1.8660659830736148,
             1,
             1.3903891703159093,
             1,
             1,
             1,
             1,
             4.930478282985189,
             1,
             1,
             1.3903891703159093,
             1,
             4.162338506563337,
             1.792789962520997,
             1.711769859409705,
             3.432408355505487,
             3.4657893658794796
            ],
            "sizemode": "area",
            "sizeref": 0.03280452281427571
           },
           "name": "",
           "showlegend": false,
           "type": "scattergeo"
          }
         ],
         "name": "05/05/2003"
        },
        {
         "data": [
          {
           "geo": "geo",
           "hoverlabel": {
            "namelength": 0
           },
           "hovertemplate": "<b>%{hovertext}</b><br><br>Date=05/06/2003<br>size=%{marker.size}<br>Country=%{location}<br>Confirmed=%{marker.color}",
           "hovertext": [
            "Brazil",
            "Bulgaria",
            "Canada",
            "China",
            "Colombia",
            "France",
            "Germany",
            "Hong Kong SAR, China",
            "India",
            "Indonesia",
            "Italy",
            "Kuwait",
            "Macao SAR, China",
            "Malaysia",
            "Mongolia",
            "New Zealand",
            "Philippines",
            "Poland",
            "Republic of Ireland",
            "Republic of Korea",
            "Romania",
            "Singapore",
            "South Africa",
            "Spain",
            "Sweden",
            "Switzerland",
            "Taiwan, China",
            "Thailand",
            "United Kingdom",
            "United States",
            "Viet Nam"
           ],
           "legendgroup": "",
           "locationmode": "country names",
           "locations": [
            "Brazil",
            "Bulgaria",
            "Canada",
            "China",
            "Colombia",
            "France",
            "Germany",
            "Hong Kong SAR, China",
            "India",
            "Indonesia",
            "Italy",
            "Kuwait",
            "Macao SAR, China",
            "Malaysia",
            "Mongolia",
            "New Zealand",
            "Philippines",
            "Poland",
            "Republic of Ireland",
            "Republic of Korea",
            "Romania",
            "Singapore",
            "South Africa",
            "Spain",
            "Sweden",
            "Switzerland",
            "Taiwan, China",
            "Thailand",
            "United Kingdom",
            "United States",
            "Viet Nam"
           ],
           "marker": {
            "color": [
             2,
             1,
             148,
             4409,
             1,
             5,
             7,
             1646,
             1,
             2,
             9,
             1,
             1,
             7,
             8,
             1,
             3,
             1,
             1,
             1,
             1,
             204,
             1,
             1,
             3,
             1,
             116,
             7,
             6,
             65,
             63
            ],
            "coloraxis": "coloraxis",
            "size": [
             1.2311444133449163,
             1,
             4.477942520548968,
             12.396584059751655,
             1,
             1.6206565966927624,
             1.792789962520997,
             9.224205064753123,
             1,
             1.2311444133449163,
             1.9331820449317627,
             1,
             1,
             1.792789962520997,
             1.8660659830736148,
             1,
             1.3903891703159093,
             1,
             1,
             1,
             1,
             4.930478282985189,
             1,
             1,
             1.3903891703159093,
             1,
             4.162338506563337,
             1.792789962520997,
             1.711769859409705,
             3.4984365929380252,
             3.4657893658794796
            ],
            "sizemode": "area",
            "sizeref": 0.03280452281427571
           },
           "name": "",
           "showlegend": false,
           "type": "scattergeo"
          }
         ],
         "name": "05/06/2003"
        },
        {
         "data": [
          {
           "geo": "geo",
           "hoverlabel": {
            "namelength": 0
           },
           "hovertemplate": "<b>%{hovertext}</b><br><br>Date=05/07/2003<br>size=%{marker.size}<br>Country=%{location}<br>Confirmed=%{marker.color}",
           "hovertext": [
            "Brazil",
            "Bulgaria",
            "Canada",
            "China",
            "Colombia",
            "France",
            "Germany",
            "Hong Kong SAR, China",
            "India",
            "Indonesia",
            "Italy",
            "Kuwait",
            "Macao SAR, China",
            "Malaysia",
            "Mongolia",
            "New Zealand",
            "Philippines",
            "Poland",
            "Republic of Ireland",
            "Republic of Korea",
            "Romania",
            "Singapore",
            "South Africa",
            "Spain",
            "Sweden",
            "Switzerland",
            "Taiwan, China",
            "Thailand",
            "United Kingdom",
            "United States",
            "Viet Nam"
           ],
           "legendgroup": "",
           "locationmode": "country names",
           "locations": [
            "Brazil",
            "Bulgaria",
            "Canada",
            "China",
            "Colombia",
            "France",
            "Germany",
            "Hong Kong SAR, China",
            "India",
            "Indonesia",
            "Italy",
            "Kuwait",
            "Macao SAR, China",
            "Malaysia",
            "Mongolia",
            "New Zealand",
            "Philippines",
            "Poland",
            "Republic of Ireland",
            "Republic of Korea",
            "Romania",
            "Singapore",
            "South Africa",
            "Spain",
            "Sweden",
            "Switzerland",
            "Taiwan, China",
            "Thailand",
            "United Kingdom",
            "United States",
            "Viet Nam"
           ],
           "marker": {
            "color": [
             2,
             1,
             146,
             4560,
             1,
             6,
             8,
             1654,
             1,
             2,
             9,
             1,
             1,
             7,
             9,
             1,
             10,
             1,
             1,
             1,
             1,
             204,
             1,
             1,
             3,
             1,
             125,
             7,
             6,
             65,
             63
            ],
            "coloraxis": "coloraxis",
            "size": [
             1.2311444133449163,
             1,
             4.459702173287629,
             12.522454224121164,
             1,
             1.711769859409705,
             1.8660659830736148,
             9.237631879193497,
             1,
             1.2311444133449163,
             1.9331820449317627,
             1,
             1,
             1.792789962520997,
             1.9331820449317627,
             1,
             1.9952623149688795,
             1,
             1,
             1,
             1,
             4.930478282985189,
             1,
             1,
             1.3903891703159093,
             1,
             4.2566996126039225,
             1.792789962520997,
             1.711769859409705,
             3.4984365929380252,
             3.4657893658794796
            ],
            "sizemode": "area",
            "sizeref": 0.03280452281427571
           },
           "name": "",
           "showlegend": false,
           "type": "scattergeo"
          }
         ],
         "name": "05/07/2003"
        },
        {
         "data": [
          {
           "geo": "geo",
           "hoverlabel": {
            "namelength": 0
           },
           "hovertemplate": "<b>%{hovertext}</b><br><br>Date=05/08/2003<br>size=%{marker.size}<br>Country=%{location}<br>Confirmed=%{marker.color}",
           "hovertext": [
            "Brazil",
            "Bulgaria",
            "Canada",
            "China",
            "Colombia",
            "Finland",
            "France",
            "Germany",
            "Hong Kong SAR, China",
            "India",
            "Indonesia",
            "Italy",
            "Kuwait",
            "Macao SAR, China",
            "Malaysia",
            "Mongolia",
            "New Zealand",
            "Philippines",
            "Poland",
            "Republic of Ireland",
            "Republic of Korea",
            "Romania",
            "Singapore",
            "South Africa",
            "Spain",
            "Sweden",
            "Switzerland",
            "Taiwan, China",
            "Thailand",
            "United Kingdom",
            "United States",
            "Viet Nam"
           ],
           "legendgroup": "",
           "locationmode": "country names",
           "locations": [
            "Brazil",
            "Bulgaria",
            "Canada",
            "China",
            "Colombia",
            "Finland",
            "France",
            "Germany",
            "Hong Kong SAR, China",
            "India",
            "Indonesia",
            "Italy",
            "Kuwait",
            "Macao SAR, China",
            "Malaysia",
            "Mongolia",
            "New Zealand",
            "Philippines",
            "Poland",
            "Republic of Ireland",
            "Republic of Korea",
            "Romania",
            "Singapore",
            "South Africa",
            "Spain",
            "Sweden",
            "Switzerland",
            "Taiwan, China",
            "Thailand",
            "United Kingdom",
            "United States",
            "Viet Nam"
           ],
           "marker": {
            "color": [
             2,
             1,
             146,
             4698,
             1,
             1,
             6,
             8,
             1661,
             1,
             2,
             9,
             1,
             1,
             7,
             9,
             1,
             10,
             1,
             1,
             1,
             1,
             204,
             1,
             1,
             3,
             1,
             131,
             7,
             6,
             63,
             63
            ],
            "coloraxis": "coloraxis",
            "size": [
             1.2311444133449163,
             1,
             4.459702173287629,
             12.63496094180706,
             1,
             1,
             1.711769859409705,
             1.8660659830736148,
             9.249343100903122,
             1,
             1.2311444133449163,
             1.9331820449317627,
             1,
             1,
             1.792789962520997,
             1.9331820449317627,
             1,
             1.9952623149688795,
             1,
             1,
             1,
             1,
             4.930478282985189,
             1,
             1,
             1.3903891703159093,
             1,
             4.316993439835684,
             1.792789962520997,
             1.711769859409705,
             3.4657893658794796,
             3.4657893658794796
            ],
            "sizemode": "area",
            "sizeref": 0.03280452281427571
           },
           "name": "",
           "showlegend": false,
           "type": "scattergeo"
          }
         ],
         "name": "05/08/2003"
        },
        {
         "data": [
          {
           "geo": "geo",
           "hoverlabel": {
            "namelength": 0
           },
           "hovertemplate": "<b>%{hovertext}</b><br><br>Date=05/09/2003<br>size=%{marker.size}<br>Country=%{location}<br>Confirmed=%{marker.color}",
           "hovertext": [
            "Brazil",
            "Bulgaria",
            "Canada",
            "China",
            "Colombia",
            "Finland",
            "France",
            "Germany",
            "Hong Kong SAR, China",
            "India",
            "Indonesia",
            "Italy",
            "Kuwait",
            "Macao SAR, China",
            "Malaysia",
            "Mongolia",
            "New Zealand",
            "Philippines",
            "Poland",
            "Republic of Ireland",
            "Republic of Korea",
            "Romania",
            "Singapore",
            "South Africa",
            "Spain",
            "Sweden",
            "Switzerland",
            "Taiwan, China",
            "Thailand",
            "United Kingdom",
            "United States",
            "Viet Nam"
           ],
           "legendgroup": "",
           "locationmode": "country names",
           "locations": [
            "Brazil",
            "Bulgaria",
            "Canada",
            "China",
            "Colombia",
            "Finland",
            "France",
            "Germany",
            "Hong Kong SAR, China",
            "India",
            "Indonesia",
            "Italy",
            "Kuwait",
            "Macao SAR, China",
            "Malaysia",
            "Mongolia",
            "New Zealand",
            "Philippines",
            "Poland",
            "Republic of Ireland",
            "Republic of Korea",
            "Romania",
            "Singapore",
            "South Africa",
            "Spain",
            "Sweden",
            "Switzerland",
            "Taiwan, China",
            "Thailand",
            "United Kingdom",
            "United States",
            "Viet Nam"
           ],
           "marker": {
            "color": [
             2,
             1,
             145,
             4805,
             1,
             1,
             6,
             9,
             1667,
             1,
             2,
             9,
             1,
             1,
             6,
             9,
             1,
             10,
             1,
             1,
             1,
             1,
             204,
             1,
             1,
             3,
             1,
             149,
             7,
             6,
             63,
             63
            ],
            "coloraxis": "coloraxis",
            "size": [
             1.2311444133449163,
             1,
             4.450516348093168,
             12.720612336577194,
             1,
             1,
             1.711769859409705,
             1.9331820449317627,
             9.259353824254383,
             1,
             1.2311444133449163,
             1.9331820449317627,
             1,
             1,
             1.711769859409705,
             1.9331820449317627,
             1,
             1.9952623149688795,
             1,
             1,
             1,
             1,
             4.930478282985189,
             1,
             1,
             1.3903891703159093,
             1,
             4.486998047212219,
             1.792789962520997,
             1.711769859409705,
             3.4657893658794796,
             3.4657893658794796
            ],
            "sizemode": "area",
            "sizeref": 0.03280452281427571
           },
           "name": "",
           "showlegend": false,
           "type": "scattergeo"
          }
         ],
         "name": "05/09/2003"
        },
        {
         "data": [
          {
           "geo": "geo",
           "hoverlabel": {
            "namelength": 0
           },
           "hovertemplate": "<b>%{hovertext}</b><br><br>Date=05/10/2003<br>size=%{marker.size}<br>Country=%{location}<br>Confirmed=%{marker.color}",
           "hovertext": [
            "Brazil",
            "Bulgaria",
            "Canada",
            "China",
            "Colombia",
            "Finland",
            "France",
            "Germany",
            "Hong Kong SAR, China",
            "India",
            "Indonesia",
            "Italy",
            "Kuwait",
            "Macao SAR, China",
            "Malaysia",
            "Mongolia",
            "New Zealand",
            "Philippines",
            "Poland",
            "Republic of Ireland",
            "Republic of Korea",
            "Romania",
            "Singapore",
            "South Africa",
            "Spain",
            "Sweden",
            "Switzerland",
            "Taiwan, China",
            "Thailand",
            "United Kingdom",
            "United States",
            "Viet Nam"
           ],
           "legendgroup": "",
           "locationmode": "country names",
           "locations": [
            "Brazil",
            "Bulgaria",
            "Canada",
            "China",
            "Colombia",
            "Finland",
            "France",
            "Germany",
            "Hong Kong SAR, China",
            "India",
            "Indonesia",
            "Italy",
            "Kuwait",
            "Macao SAR, China",
            "Malaysia",
            "Mongolia",
            "New Zealand",
            "Philippines",
            "Poland",
            "Republic of Ireland",
            "Republic of Korea",
            "Romania",
            "Singapore",
            "South Africa",
            "Spain",
            "Sweden",
            "Switzerland",
            "Taiwan, China",
            "Thailand",
            "United Kingdom",
            "United States",
            "Viet Nam"
           ],
           "marker": {
            "color": [
             2,
             1,
             145,
             4884,
             1,
             1,
             7,
             9,
             1674,
             1,
             2,
             9,
             1,
             1,
             7,
             9,
             1,
             10,
             1,
             1,
             1,
             1,
             205,
             1,
             1,
             3,
             1,
             172,
             7,
             6,
             64,
             63
            ],
            "coloraxis": "coloraxis",
            "size": [
             1.2311444133449163,
             1,
             4.450516348093168,
             12.782997282120935,
             1,
             1,
             1.792789962520997,
             1.9331820449317627,
             9.271001174542887,
             1,
             1.2311444133449163,
             1.9331820449317627,
             1,
             1,
             1.792789962520997,
             1.9331820449317627,
             1,
             1.9952623149688795,
             1,
             1,
             1,
             1,
             4.937716580851732,
             1,
             1,
             1.3903891703159093,
             1,
             4.6844492045317265,
             1.792789962520997,
             1.711769859409705,
             3.4822022531844965,
             3.4657893658794796
            ],
            "sizemode": "area",
            "sizeref": 0.03280452281427571
           },
           "name": "",
           "showlegend": false,
           "type": "scattergeo"
          }
         ],
         "name": "05/10/2003"
        },
        {
         "data": [
          {
           "geo": "geo",
           "hoverlabel": {
            "namelength": 0
           },
           "hovertemplate": "<b>%{hovertext}</b><br><br>Date=05/12/2003<br>size=%{marker.size}<br>Country=%{location}<br>Confirmed=%{marker.color}",
           "hovertext": [
            "Brazil",
            "Bulgaria",
            "Canada",
            "China",
            "Colombia",
            "Finland",
            "France",
            "Germany",
            "Hong Kong SAR, China",
            "India",
            "Indonesia",
            "Italy",
            "Kuwait",
            "Macao SAR, China",
            "Malaysia",
            "Mongolia",
            "New Zealand",
            "Philippines",
            "Poland",
            "Republic of Ireland",
            "Republic of Korea",
            "Romania",
            "Singapore",
            "South Africa",
            "Spain",
            "Sweden",
            "Switzerland",
            "Taiwan, China",
            "Thailand",
            "United Kingdom",
            "United States",
            "Viet Nam"
           ],
           "legendgroup": "",
           "locationmode": "country names",
           "locations": [
            "Brazil",
            "Bulgaria",
            "Canada",
            "China",
            "Colombia",
            "Finland",
            "France",
            "Germany",
            "Hong Kong SAR, China",
            "India",
            "Indonesia",
            "Italy",
            "Kuwait",
            "Macao SAR, China",
            "Malaysia",
            "Mongolia",
            "New Zealand",
            "Philippines",
            "Poland",
            "Republic of Ireland",
            "Republic of Korea",
            "Romania",
            "Singapore",
            "South Africa",
            "Spain",
            "Sweden",
            "Switzerland",
            "Taiwan, China",
            "Thailand",
            "United Kingdom",
            "United States",
            "Viet Nam"
           ],
           "marker": {
            "color": [
             2,
             1,
             143,
             5013,
             1,
             1,
             7,
             9,
             1683,
             1,
             2,
             9,
             1,
             1,
             7,
             9,
             1,
             10,
             1,
             1,
             2,
             1,
             205,
             1,
             1,
             3,
             1,
             184,
             7,
             6,
             64,
             63
            ],
            "coloraxis": "coloraxis",
            "size": [
             1.2311444133449163,
             1,
             4.432010812466598,
             12.883365011089161,
             1,
             1,
             1.792789962520997,
             1.9331820449317627,
             9.2859263498643,
             1,
             1.2311444133449163,
             1.9331820449317627,
             1,
             1,
             1.792789962520997,
             1.9331820449317627,
             1,
             1.9952623149688795,
             1,
             1,
             1.2311444133449163,
             1,
             4.937716580851732,
             1,
             1,
             1.3903891703159093,
             1,
             4.780192067983897,
             1.792789962520997,
             1.711769859409705,
             3.4822022531844965,
             3.4657893658794796
            ],
            "sizemode": "area",
            "sizeref": 0.03280452281427571
           },
           "name": "",
           "showlegend": false,
           "type": "scattergeo"
          }
         ],
         "name": "05/12/2003"
        },
        {
         "data": [
          {
           "geo": "geo",
           "hoverlabel": {
            "namelength": 0
           },
           "hovertemplate": "<b>%{hovertext}</b><br><br>Date=05/13/2003<br>size=%{marker.size}<br>Country=%{location}<br>Confirmed=%{marker.color}",
           "hovertext": [
            "Brazil",
            "Bulgaria",
            "Canada",
            "China",
            "Colombia",
            "Finland",
            "France",
            "Germany",
            "Hong Kong SAR, China",
            "India",
            "Indonesia",
            "Italy",
            "Kuwait",
            "Macao SAR, China",
            "Malaysia",
            "Mongolia",
            "New Zealand",
            "Philippines",
            "Republic of Ireland",
            "Republic of Korea",
            "Romania",
            "Singapore",
            "South Africa",
            "Spain",
            "Sweden",
            "Switzerland",
            "Taiwan, China",
            "Thailand",
            "United Kingdom",
            "United States",
            "Viet Nam"
           ],
           "legendgroup": "",
           "locationmode": "country names",
           "locations": [
            "Brazil",
            "Bulgaria",
            "Canada",
            "China",
            "Colombia",
            "Finland",
            "France",
            "Germany",
            "Hong Kong SAR, China",
            "India",
            "Indonesia",
            "Italy",
            "Kuwait",
            "Macao SAR, China",
            "Malaysia",
            "Mongolia",
            "New Zealand",
            "Philippines",
            "Republic of Ireland",
            "Republic of Korea",
            "Romania",
            "Singapore",
            "South Africa",
            "Spain",
            "Sweden",
            "Switzerland",
            "Taiwan, China",
            "Thailand",
            "United Kingdom",
            "United States",
            "Viet Nam"
           ],
           "marker": {
            "color": [
             2,
             1,
             143,
             5086,
             1,
             1,
             7,
             9,
             1689,
             3,
             2,
             9,
             1,
             1,
             7,
             9,
             1,
             10,
             1,
             2,
             1,
             205,
             1,
             1,
             3,
             1,
             207,
             7,
             4,
             64,
             63
            ],
            "coloraxis": "coloraxis",
            "size": [
             1.2311444133449163,
             1,
             4.432010812466598,
             12.939363299365576,
             1,
             1,
             1.792789962520997,
             1.9331820449317627,
             9.295845454659831,
             1.3903891703159093,
             1.2311444133449163,
             1.9331820449317627,
             1,
             1,
             1.792789962520997,
             1.9331820449317627,
             1,
             1.9952623149688795,
             1,
             1.2311444133449163,
             1,
             4.937716580851732,
             1,
             1,
             1.3903891703159093,
             1,
             4.952119357500314,
             1.792789962520997,
             1.515716566510398,
             3.4822022531844965,
             3.4657893658794796
            ],
            "sizemode": "area",
            "sizeref": 0.03280452281427571
           },
           "name": "",
           "showlegend": false,
           "type": "scattergeo"
          }
         ],
         "name": "05/13/2003"
        },
        {
         "data": [
          {
           "geo": "geo",
           "hoverlabel": {
            "namelength": 0
           },
           "hovertemplate": "<b>%{hovertext}</b><br><br>Date=05/14/2003<br>size=%{marker.size}<br>Country=%{location}<br>Confirmed=%{marker.color}",
           "hovertext": [
            "Brazil",
            "Bulgaria",
            "Canada",
            "China",
            "Colombia",
            "Finland",
            "France",
            "Germany",
            "Hong Kong SAR, China",
            "India",
            "Indonesia",
            "Italy",
            "Kuwait",
            "Macao SAR, China",
            "Malaysia",
            "Mongolia",
            "New Zealand",
            "Philippines",
            "Republic of Ireland",
            "Republic of Korea",
            "Romania",
            "Singapore",
            "South Africa",
            "Spain",
            "Sweden",
            "Switzerland",
            "Taiwan, China",
            "Thailand",
            "United Kingdom",
            "United States",
            "Viet Nam"
           ],
           "legendgroup": "",
           "locationmode": "country names",
           "locations": [
            "Brazil",
            "Bulgaria",
            "Canada",
            "China",
            "Colombia",
            "Finland",
            "France",
            "Germany",
            "Hong Kong SAR, China",
            "India",
            "Indonesia",
            "Italy",
            "Kuwait",
            "Macao SAR, China",
            "Malaysia",
            "Mongolia",
            "New Zealand",
            "Philippines",
            "Republic of Ireland",
            "Republic of Korea",
            "Romania",
            "Singapore",
            "South Africa",
            "Spain",
            "Sweden",
            "Switzerland",
            "Taiwan, China",
            "Thailand",
            "United Kingdom",
            "United States",
            "Viet Nam"
           ],
           "marker": {
            "color": [
             2,
             1,
             143,
             5124,
             1,
             1,
             7,
             9,
             1698,
             3,
             2,
             9,
             1,
             1,
             7,
             9,
             1,
             10,
             1,
             3,
             1,
             205,
             1,
             1,
             3,
             1,
             238,
             8,
             4,
             64,
             63
            ],
            "coloraxis": "coloraxis",
            "size": [
             1.2311444133449163,
             1,
             4.432010812466598,
             12.96829067412551,
             1,
             1,
             1.792789962520997,
             1.9331820449317627,
             9.310677967455234,
             1.3903891703159093,
             1.2311444133449163,
             1.9331820449317627,
             1,
             1,
             1.792789962520997,
             1.9331820449317627,
             1,
             1.9952623149688795,
             1,
             1.3903891703159093,
             1,
             4.937716580851732,
             1,
             1,
             1.3903891703159093,
             1,
             5.163843683526358,
             1.8660659830736148,
             1.515716566510398,
             3.4822022531844965,
             3.4657893658794796
            ],
            "sizemode": "area",
            "sizeref": 0.03280452281427571
           },
           "name": "",
           "showlegend": false,
           "type": "scattergeo"
          }
         ],
         "name": "05/14/2003"
        },
        {
         "data": [
          {
           "geo": "geo",
           "hoverlabel": {
            "namelength": 0
           },
           "hovertemplate": "<b>%{hovertext}</b><br><br>Date=05/15/2003<br>size=%{marker.size}<br>Country=%{location}<br>Confirmed=%{marker.color}",
           "hovertext": [
            "Brazil",
            "Bulgaria",
            "Canada",
            "China",
            "Colombia",
            "Finland",
            "France",
            "Germany",
            "Hong Kong SAR, China",
            "India",
            "Indonesia",
            "Italy",
            "Kuwait",
            "Macao SAR, China",
            "Malaysia",
            "Mongolia",
            "New Zealand",
            "Philippines",
            "Republic of Ireland",
            "Republic of Korea",
            "Romania",
            "Singapore",
            "South Africa",
            "Spain",
            "Sweden",
            "Switzerland",
            "Taiwan, China",
            "Thailand",
            "United Kingdom",
            "United States",
            "Viet Nam"
           ],
           "legendgroup": "",
           "locationmode": "country names",
           "locations": [
            "Brazil",
            "Bulgaria",
            "Canada",
            "China",
            "Colombia",
            "Finland",
            "France",
            "Germany",
            "Hong Kong SAR, China",
            "India",
            "Indonesia",
            "Italy",
            "Kuwait",
            "Macao SAR, China",
            "Malaysia",
            "Mongolia",
            "New Zealand",
            "Philippines",
            "Republic of Ireland",
            "Republic of Korea",
            "Romania",
            "Singapore",
            "South Africa",
            "Spain",
            "Sweden",
            "Switzerland",
            "Taiwan, China",
            "Thailand",
            "United Kingdom",
            "United States",
            "Viet Nam"
           ],
           "marker": {
            "color": [
             2,
             1,
             142,
             5163,
             1,
             1,
             7,
             9,
             1703,
             3,
             2,
             9,
             1,
             1,
             7,
             9,
             1,
             12,
             1,
             3,
             1,
             205,
             1,
             1,
             3,
             1,
             264,
             8,
             4,
             64,
             63
            ],
            "coloraxis": "coloraxis",
            "size": [
             1.2311444133449163,
             1,
             4.422690039918873,
             12.997823566238063,
             1,
             1,
             1.792789962520997,
             1.9331820449317627,
             9.31889448524404,
             1.3903891703159093,
             1.2311444133449163,
             1.9331820449317627,
             1,
             1,
             1.792789962520997,
             1.9331820449317627,
             1,
             2.107435899344471,
             1,
             1.3903891703159093,
             1,
             4.937716580851732,
             1,
             1,
             1.3903891703159093,
             1,
             5.326981371561689,
             1.8660659830736148,
             1.515716566510398,
             3.4822022531844965,
             3.4657893658794796
            ],
            "sizemode": "area",
            "sizeref": 0.03280452281427571
           },
           "name": "",
           "showlegend": false,
           "type": "scattergeo"
          }
         ],
         "name": "05/15/2003"
        },
        {
         "data": [
          {
           "geo": "geo",
           "hoverlabel": {
            "namelength": 0
           },
           "hovertemplate": "<b>%{hovertext}</b><br><br>Date=05/16/2003<br>size=%{marker.size}<br>Country=%{location}<br>Confirmed=%{marker.color}",
           "hovertext": [
            "Brazil",
            "Bulgaria",
            "Canada",
            "China",
            "Colombia",
            "Finland",
            "France",
            "Germany",
            "Hong Kong SAR, China",
            "India",
            "Indonesia",
            "Italy",
            "Kuwait",
            "Macao SAR, China",
            "Malaysia",
            "Mongolia",
            "New Zealand",
            "Philippines",
            "Republic of Ireland",
            "Republic of Korea",
            "Romania",
            "Singapore",
            "South Africa",
            "Spain",
            "Sweden",
            "Switzerland",
            "Taiwan, China",
            "Thailand",
            "United Kingdom",
            "United States",
            "Viet Nam"
           ],
           "legendgroup": "",
           "locationmode": "country names",
           "locations": [
            "Brazil",
            "Bulgaria",
            "Canada",
            "China",
            "Colombia",
            "Finland",
            "France",
            "Germany",
            "Hong Kong SAR, China",
            "India",
            "Indonesia",
            "Italy",
            "Kuwait",
            "Macao SAR, China",
            "Malaysia",
            "Mongolia",
            "New Zealand",
            "Philippines",
            "Republic of Ireland",
            "Republic of Korea",
            "Romania",
            "Singapore",
            "South Africa",
            "Spain",
            "Sweden",
            "Switzerland",
            "Taiwan, China",
            "Thailand",
            "United Kingdom",
            "United States",
            "Viet Nam"
           ],
           "marker": {
            "color": [
             2,
             1,
             140,
             5191,
             1,
             1,
             7,
             9,
             1706,
             3,
             2,
             9,
             1,
             1,
             7,
             9,
             1,
             12,
             1,
             3,
             1,
             205,
             1,
             1,
             3,
             1,
             274,
             8,
             4,
             65,
             63
            ],
            "coloraxis": "coloraxis",
            "size": [
             1.2311444133449163,
             1,
             4.403909753814732,
             13.018930502588132,
             1,
             1,
             1.792789962520997,
             1.9331820449317627,
             9.323816293293959,
             1.3903891703159093,
             1.2311444133449163,
             1.9331820449317627,
             1,
             1,
             1.792789962520997,
             1.9331820449317627,
             1,
             2.107435899344471,
             1,
             1.3903891703159093,
             1,
             4.937716580851732,
             1,
             1,
             1.3903891703159093,
             1,
             5.386729515921298,
             1.8660659830736148,
             1.515716566510398,
             3.4984365929380252,
             3.4657893658794796
            ],
            "sizemode": "area",
            "sizeref": 0.03280452281427571
           },
           "name": "",
           "showlegend": false,
           "type": "scattergeo"
          }
         ],
         "name": "05/16/2003"
        },
        {
         "data": [
          {
           "geo": "geo",
           "hoverlabel": {
            "namelength": 0
           },
           "hovertemplate": "<b>%{hovertext}</b><br><br>Date=05/17/2003<br>size=%{marker.size}<br>Country=%{location}<br>Confirmed=%{marker.color}",
           "hovertext": [
            "Brazil",
            "Canada",
            "China",
            "Colombia",
            "Finland",
            "France",
            "Germany",
            "Hong Kong SAR, China",
            "India",
            "Indonesia",
            "Italy",
            "Kuwait",
            "Macao SAR, China",
            "Malaysia",
            "Mongolia",
            "New Zealand",
            "Philippines",
            "Republic of Ireland",
            "Republic of Korea",
            "Romania",
            "Singapore",
            "South Africa",
            "Spain",
            "Sweden",
            "Switzerland",
            "Taiwan, China",
            "Thailand",
            "United Kingdom",
            "United States",
            "Viet Nam"
           ],
           "legendgroup": "",
           "locationmode": "country names",
           "locations": [
            "Brazil",
            "Canada",
            "China",
            "Colombia",
            "Finland",
            "France",
            "Germany",
            "Hong Kong SAR, China",
            "India",
            "Indonesia",
            "Italy",
            "Kuwait",
            "Macao SAR, China",
            "Malaysia",
            "Mongolia",
            "New Zealand",
            "Philippines",
            "Republic of Ireland",
            "Republic of Korea",
            "Romania",
            "Singapore",
            "South Africa",
            "Spain",
            "Sweden",
            "Switzerland",
            "Taiwan, China",
            "Thailand",
            "United Kingdom",
            "United States",
            "Viet Nam"
           ],
           "marker": {
            "color": [
             2,
             140,
             5209,
             1,
             1,
             7,
             9,
             1710,
             3,
             2,
             9,
             1,
             1,
             7,
             9,
             1,
             12,
             1,
             3,
             1,
             205,
             1,
             1,
             3,
             1,
             274,
             8,
             4,
             66,
             63
            ],
            "coloraxis": "coloraxis",
            "size": [
             1.2311444133449163,
             4.403909753814732,
             13.032457196953986,
             1,
             1,
             1.792789962520997,
             1.9331820449317627,
             9.330369288612625,
             1.3903891703159093,
             1.2311444133449163,
             1.9331820449317627,
             1,
             1,
             1.792789962520997,
             1.9331820449317627,
             1,
             2.107435899344471,
             1,
             1.3903891703159093,
             1,
             4.937716580851732,
             1,
             1,
             1.3903891703159093,
             1,
             5.386729515921298,
             1.8660659830736148,
             1.515716566510398,
             3.5144970301577456,
             3.4657893658794796
            ],
            "sizemode": "area",
            "sizeref": 0.03280452281427571
           },
           "name": "",
           "showlegend": false,
           "type": "scattergeo"
          }
         ],
         "name": "05/17/2003"
        },
        {
         "data": [
          {
           "geo": "geo",
           "hoverlabel": {
            "namelength": 0
           },
           "hovertemplate": "<b>%{hovertext}</b><br><br>Date=05/19/2003<br>size=%{marker.size}<br>Country=%{location}<br>Confirmed=%{marker.color}",
           "hovertext": [
            "Brazil",
            "Canada",
            "China",
            "Colombia",
            "Finland",
            "France",
            "Germany",
            "Hong Kong SAR, China",
            "India",
            "Indonesia",
            "Italy",
            "Kuwait",
            "Macao SAR, China",
            "Malaysia",
            "Mongolia",
            "New Zealand",
            "Philippines",
            "Republic of Ireland",
            "Republic of Korea",
            "Romania",
            "Singapore",
            "South Africa",
            "Spain",
            "Sweden",
            "Switzerland",
            "Taiwan, China",
            "Thailand",
            "United Kingdom",
            "United States",
            "Viet Nam"
           ],
           "legendgroup": "",
           "locationmode": "country names",
           "locations": [
            "Brazil",
            "Canada",
            "China",
            "Colombia",
            "Finland",
            "France",
            "Germany",
            "Hong Kong SAR, China",
            "India",
            "Indonesia",
            "Italy",
            "Kuwait",
            "Macao SAR, China",
            "Malaysia",
            "Mongolia",
            "New Zealand",
            "Philippines",
            "Republic of Ireland",
            "Republic of Korea",
            "Romania",
            "Singapore",
            "South Africa",
            "Spain",
            "Sweden",
            "Switzerland",
            "Taiwan, China",
            "Thailand",
            "United Kingdom",
            "United States",
            "Viet Nam"
           ],
           "marker": {
            "color": [
             2,
             140,
             5236,
             1,
             1,
             7,
             9,
             1714,
             3,
             2,
             9,
             1,
             1,
             7,
             9,
             1,
             12,
             1,
             3,
             1,
             206,
             1,
             1,
             3,
             1,
             344,
             8,
             4,
             67,
             63
            ],
            "coloraxis": "coloraxis",
            "size": [
             1.2311444133449163,
             4.403909753814732,
             13.05268602302818,
             1,
             1,
             1.792789962520997,
             1.9331820449317627,
             9.33691156264733,
             1.3903891703159093,
             1.2311444133449163,
             1.9331820449317627,
             1,
             1,
             1.792789962520997,
             1.9331820449317627,
             1,
             2.107435899344471,
             1,
             1.3903891703159093,
             1,
             4.944930204597636,
             1,
             1,
             1.3903891703159093,
             1,
             5.767233467757272,
             1.8660659830736148,
             1.515716566510398,
             3.5303880208226968,
             3.4657893658794796
            ],
            "sizemode": "area",
            "sizeref": 0.03280452281427571
           },
           "name": "",
           "showlegend": false,
           "type": "scattergeo"
          }
         ],
         "name": "05/19/2003"
        },
        {
         "data": [
          {
           "geo": "geo",
           "hoverlabel": {
            "namelength": 0
           },
           "hovertemplate": "<b>%{hovertext}</b><br><br>Date=05/20/2003<br>size=%{marker.size}<br>Country=%{location}<br>Confirmed=%{marker.color}",
           "hovertext": [
            "Brazil",
            "Canada",
            "China",
            "Colombia",
            "Finland",
            "France",
            "Germany",
            "Hong Kong SAR, China",
            "India",
            "Indonesia",
            "Italy",
            "Kuwait",
            "Macao SAR, China",
            "Malaysia",
            "Mongolia",
            "New Zealand",
            "Philippines",
            "Republic of Ireland",
            "Republic of Korea",
            "Romania",
            "Singapore",
            "South Africa",
            "Spain",
            "Sweden",
            "Switzerland",
            "Taiwan, China",
            "Thailand",
            "United Kingdom",
            "United States",
            "Viet Nam"
           ],
           "legendgroup": "",
           "locationmode": "country names",
           "locations": [
            "Brazil",
            "Canada",
            "China",
            "Colombia",
            "Finland",
            "France",
            "Germany",
            "Hong Kong SAR, China",
            "India",
            "Indonesia",
            "Italy",
            "Kuwait",
            "Macao SAR, China",
            "Malaysia",
            "Mongolia",
            "New Zealand",
            "Philippines",
            "Republic of Ireland",
            "Republic of Korea",
            "Romania",
            "Singapore",
            "South Africa",
            "Spain",
            "Sweden",
            "Switzerland",
            "Taiwan, China",
            "Thailand",
            "United Kingdom",
            "United States",
            "Viet Nam"
           ],
           "marker": {
            "color": [
             2,
             140,
             5248,
             1,
             1,
             7,
             9,
             1718,
             3,
             2,
             9,
             1,
             1,
             7,
             9,
             1,
             12,
             1,
             3,
             1,
             206,
             1,
             1,
             3,
             1,
             383,
             8,
             4,
             67,
             63
            ],
            "coloraxis": "coloraxis",
            "size": [
             1.2311444133449163,
             4.403909753814732,
             13.061653178549545,
             1,
             1,
             1.792789962520997,
             1.9331820449317627,
             9.343443157898278,
             1.3903891703159093,
             1.2311444133449163,
             1.9331820449317627,
             1,
             1,
             1.792789962520997,
             1.9331820449317627,
             1,
             2.107435899344471,
             1,
             1.3903891703159093,
             1,
             4.944930204597636,
             1,
             1,
             1.3903891703159093,
             1,
             5.956067791175356,
             1.8660659830736148,
             1.515716566510398,
             3.5303880208226968,
             3.4657893658794796
            ],
            "sizemode": "area",
            "sizeref": 0.03280452281427571
           },
           "name": "",
           "showlegend": false,
           "type": "scattergeo"
          }
         ],
         "name": "05/20/2003"
        },
        {
         "data": [
          {
           "geo": "geo",
           "hoverlabel": {
            "namelength": 0
           },
           "hovertemplate": "<b>%{hovertext}</b><br><br>Date=05/21/2003<br>size=%{marker.size}<br>Country=%{location}<br>Confirmed=%{marker.color}",
           "hovertext": [
            "Brazil",
            "Canada",
            "China",
            "Colombia",
            "Finland",
            "France",
            "Germany",
            "Hong Kong SAR, China",
            "India",
            "Indonesia",
            "Italy",
            "Kuwait",
            "Macao SAR, China",
            "Malaysia",
            "Mongolia",
            "New Zealand",
            "Philippines",
            "Republic of Ireland",
            "Republic of Korea",
            "Romania",
            "Singapore",
            "South Africa",
            "Spain",
            "Sweden",
            "Switzerland",
            "Taiwan, China",
            "Thailand",
            "United Kingdom",
            "United States",
            "Viet Nam"
           ],
           "legendgroup": "",
           "locationmode": "country names",
           "locations": [
            "Brazil",
            "Canada",
            "China",
            "Colombia",
            "Finland",
            "France",
            "Germany",
            "Hong Kong SAR, China",
            "India",
            "Indonesia",
            "Italy",
            "Kuwait",
            "Macao SAR, China",
            "Malaysia",
            "Mongolia",
            "New Zealand",
            "Philippines",
            "Republic of Ireland",
            "Republic of Korea",
            "Romania",
            "Singapore",
            "South Africa",
            "Spain",
            "Sweden",
            "Switzerland",
            "Taiwan, China",
            "Thailand",
            "United Kingdom",
            "United States",
            "Viet Nam"
           ],
           "marker": {
            "color": [
             2,
             140,
             5249,
             1,
             1,
             7,
             9,
             1719,
             3,
             2,
             9,
             1,
             1,
             8,
             9,
             1,
             12,
             1,
             3,
             1,
             206,
             1,
             1,
             3,
             1,
             418,
             8,
             4,
             66,
             63
            ],
            "coloraxis": "coloraxis",
            "size": [
             1.2311444133449163,
             4.403909753814732,
             13.062399793383607,
             1,
             1,
             1.792789962520997,
             1.9331820449317627,
             9.345074393106096,
             1.3903891703159093,
             1.2311444133449163,
             1.9331820449317627,
             1,
             1,
             1.8660659830736148,
             1.9331820449317627,
             1,
             2.107435899344471,
             1,
             1.3903891703159093,
             1,
             4.944930204597636,
             1,
             1,
             1.3903891703159093,
             1,
             6.1143864554627045,
             1.8660659830736148,
             1.515716566510398,
             3.5144970301577456,
             3.4657893658794796
            ],
            "sizemode": "area",
            "sizeref": 0.03280452281427571
           },
           "name": "",
           "showlegend": false,
           "type": "scattergeo"
          }
         ],
         "name": "05/21/2003"
        },
        {
         "data": [
          {
           "geo": "geo",
           "hoverlabel": {
            "namelength": 0
           },
           "hovertemplate": "<b>%{hovertext}</b><br><br>Date=05/22/2003<br>size=%{marker.size}<br>Country=%{location}<br>Confirmed=%{marker.color}",
           "hovertext": [
            "Australia",
            "Brazil",
            "Canada",
            "China",
            "Colombia",
            "Finland",
            "France",
            "Germany",
            "Hong Kong SAR, China",
            "India",
            "Indonesia",
            "Italy",
            "Kuwait",
            "Macao SAR, China",
            "Malaysia",
            "Mongolia",
            "New Zealand",
            "Philippines",
            "Republic of Ireland",
            "Republic of Korea",
            "Romania",
            "Singapore",
            "South Africa",
            "Spain",
            "Sweden",
            "Switzerland",
            "Taiwan, China",
            "Thailand",
            "United Kingdom",
            "United States",
            "Viet Nam"
           ],
           "legendgroup": "",
           "locationmode": "country names",
           "locations": [
            "Australia",
            "Brazil",
            "Canada",
            "China",
            "Colombia",
            "Finland",
            "France",
            "Germany",
            "Hong Kong SAR, China",
            "India",
            "Indonesia",
            "Italy",
            "Kuwait",
            "Macao SAR, China",
            "Malaysia",
            "Mongolia",
            "New Zealand",
            "Philippines",
            "Republic of Ireland",
            "Republic of Korea",
            "Romania",
            "Singapore",
            "South Africa",
            "Spain",
            "Sweden",
            "Switzerland",
            "Taiwan, China",
            "Thailand",
            "United Kingdom",
            "United States",
            "Viet Nam"
           ],
           "marker": {
            "color": [
             6,
             2,
             140,
             5271,
             1,
             1,
             7,
             9,
             1722,
             3,
             2,
             9,
             1,
             2,
             8,
             9,
             1,
             12,
             1,
             3,
             1,
             206,
             1,
             1,
             3,
             1,
             483,
             8,
             4,
             65,
             63
            ],
            "coloraxis": "coloraxis",
            "size": [
             1.711769859409705,
             1.2311444133449163,
             4.403909753814732,
             13.078800187751835,
             1,
             1,
             1.792789962520997,
             1.9331820449317627,
             9.349964116598718,
             1.3903891703159093,
             1.2311444133449163,
             1.9331820449317627,
             1,
             1.2311444133449163,
             1.8660659830736148,
             1.9331820449317627,
             1,
             2.107435899344471,
             1,
             1.3903891703159093,
             1,
             4.944930204597636,
             1,
             1,
             1.3903891703159093,
             1,
             6.385341648853108,
             1.8660659830736148,
             1.515716566510398,
             3.4984365929380252,
             3.4657893658794796
            ],
            "sizemode": "area",
            "sizeref": 0.03280452281427571
           },
           "name": "",
           "showlegend": false,
           "type": "scattergeo"
          }
         ],
         "name": "05/22/2003"
        },
        {
         "data": [
          {
           "geo": "geo",
           "hoverlabel": {
            "namelength": 0
           },
           "hovertemplate": "<b>%{hovertext}</b><br><br>Date=05/23/2003<br>size=%{marker.size}<br>Country=%{location}<br>Confirmed=%{marker.color}",
           "hovertext": [
            "Brazil",
            "Canada",
            "China",
            "Colombia",
            "Finland",
            "France",
            "Germany",
            "Hong Kong SAR, China",
            "India",
            "Indonesia",
            "Italy",
            "Kuwait",
            "Macao SAR, China",
            "Malaysia",
            "Mongolia",
            "New Zealand",
            "Philippines",
            "Republic of Ireland",
            "Republic of Korea",
            "Romania",
            "Singapore",
            "South Africa",
            "Spain",
            "Sweden",
            "Switzerland",
            "Taiwan, China",
            "Thailand",
            "United Kingdom",
            "United States",
            "Viet Nam"
           ],
           "legendgroup": "",
           "locationmode": "country names",
           "locations": [
            "Brazil",
            "Canada",
            "China",
            "Colombia",
            "Finland",
            "France",
            "Germany",
            "Hong Kong SAR, China",
            "India",
            "Indonesia",
            "Italy",
            "Kuwait",
            "Macao SAR, China",
            "Malaysia",
            "Mongolia",
            "New Zealand",
            "Philippines",
            "Republic of Ireland",
            "Republic of Korea",
            "Romania",
            "Singapore",
            "South Africa",
            "Spain",
            "Sweden",
            "Switzerland",
            "Taiwan, China",
            "Thailand",
            "United Kingdom",
            "United States",
            "Viet Nam"
           ],
           "marker": {
            "color": [
             2,
             140,
             5285,
             1,
             1,
             7,
             9,
             1724,
             3,
             2,
             9,
             1,
             2,
             8,
             9,
             1,
             12,
             1,
             3,
             1,
             206,
             1,
             1,
             3,
             1,
             538,
             8,
             4,
             65,
             63
            ],
            "coloraxis": "coloraxis",
            "size": [
             1.2311444133449163,
             4.403909753814732,
             13.089211869191745,
             1,
             1,
             1.792789962520997,
             1.9331820449317627,
             9.353220620367956,
             1.3903891703159093,
             1.2311444133449163,
             1.9331820449317627,
             1,
             1.2311444133449163,
             1.8660659830736148,
             1.9331820449317627,
             1,
             2.107435899344471,
             1,
             1.3903891703159093,
             1,
             4.944930204597636,
             1,
             1,
             1.3903891703159093,
             1,
             6.595301938405303,
             1.8660659830736148,
             1.515716566510398,
             3.4984365929380252,
             3.4657893658794796
            ],
            "sizemode": "area",
            "sizeref": 0.03280452281427571
           },
           "name": "",
           "showlegend": false,
           "type": "scattergeo"
          }
         ],
         "name": "05/23/2003"
        },
        {
         "data": [
          {
           "geo": "geo",
           "hoverlabel": {
            "namelength": 0
           },
           "hovertemplate": "<b>%{hovertext}</b><br><br>Date=05/24/2003<br>size=%{marker.size}<br>Country=%{location}<br>Confirmed=%{marker.color}",
           "hovertext": [
            "Brazil",
            "Canada",
            "China",
            "Colombia",
            "Finland",
            "France",
            "Germany",
            "Hong Kong SAR, China",
            "India",
            "Indonesia",
            "Italy",
            "Kuwait",
            "Macao SAR, China",
            "Malaysia",
            "Mongolia",
            "New Zealand",
            "Philippines",
            "Republic of Ireland",
            "Republic of Korea",
            "Romania",
            "Singapore",
            "South Africa",
            "Spain",
            "Sweden",
            "Switzerland",
            "Taiwan, China",
            "Thailand",
            "United Kingdom",
            "United States",
            "Viet Nam"
           ],
           "legendgroup": "",
           "locationmode": "country names",
           "locations": [
            "Brazil",
            "Canada",
            "China",
            "Colombia",
            "Finland",
            "France",
            "Germany",
            "Hong Kong SAR, China",
            "India",
            "Indonesia",
            "Italy",
            "Kuwait",
            "Macao SAR, China",
            "Malaysia",
            "Mongolia",
            "New Zealand",
            "Philippines",
            "Republic of Ireland",
            "Republic of Korea",
            "Romania",
            "Singapore",
            "South Africa",
            "Spain",
            "Sweden",
            "Switzerland",
            "Taiwan, China",
            "Thailand",
            "United Kingdom",
            "United States",
            "Viet Nam"
           ],
           "marker": {
            "color": [
             2,
             140,
             5309,
             1,
             1,
             7,
             9,
             1724,
             3,
             2,
             9,
             1,
             2,
             8,
             9,
             1,
             12,
             1,
             3,
             1,
             206,
             1,
             1,
             3,
             1,
             538,
             8,
             4,
             65,
             63
            ],
            "coloraxis": "coloraxis",
            "size": [
             1.2311444133449163,
             4.403909753814732,
             13.10701563846507,
             1,
             1,
             1.792789962520997,
             1.9331820449317627,
             9.353220620367956,
             1.3903891703159093,
             1.2311444133449163,
             1.9331820449317627,
             1,
             1.2311444133449163,
             1.8660659830736148,
             1.9331820449317627,
             1,
             2.107435899344471,
             1,
             1.3903891703159093,
             1,
             4.944930204597636,
             1,
             1,
             1.3903891703159093,
             1,
             6.595301938405303,
             1.8660659830736148,
             1.515716566510398,
             3.4984365929380252,
             3.4657893658794796
            ],
            "sizemode": "area",
            "sizeref": 0.03280452281427571
           },
           "name": "",
           "showlegend": false,
           "type": "scattergeo"
          }
         ],
         "name": "05/24/2003"
        },
        {
         "data": [
          {
           "geo": "geo",
           "hoverlabel": {
            "namelength": 0
           },
           "hovertemplate": "<b>%{hovertext}</b><br><br>Date=05/26/2003<br>size=%{marker.size}<br>Country=%{location}<br>Confirmed=%{marker.color}",
           "hovertext": [
            "Brazil",
            "Canada",
            "China",
            "Colombia",
            "Finland",
            "France",
            "Germany",
            "Hong Kong SAR, China",
            "India",
            "Indonesia",
            "Italy",
            "Kuwait",
            "Macao SAR, China",
            "Malaysia",
            "Mongolia",
            "New Zealand",
            "Philippines",
            "Republic of Ireland",
            "Republic of Korea",
            "Romania",
            "Singapore",
            "South Africa",
            "Spain",
            "Sweden",
            "Switzerland",
            "Taiwan, China",
            "Thailand",
            "United Kingdom",
            "United States",
            "Viet Nam"
           ],
           "legendgroup": "",
           "locationmode": "country names",
           "locations": [
            "Brazil",
            "Canada",
            "China",
            "Colombia",
            "Finland",
            "France",
            "Germany",
            "Hong Kong SAR, China",
            "India",
            "Indonesia",
            "Italy",
            "Kuwait",
            "Macao SAR, China",
            "Malaysia",
            "Mongolia",
            "New Zealand",
            "Philippines",
            "Republic of Ireland",
            "Republic of Korea",
            "Romania",
            "Singapore",
            "South Africa",
            "Spain",
            "Sweden",
            "Switzerland",
            "Taiwan, China",
            "Thailand",
            "United Kingdom",
            "United States",
            "Viet Nam"
           ],
           "marker": {
            "color": [
             2,
             148,
             5316,
             1,
             1,
             7,
             9,
             1726,
             3,
             2,
             9,
             1,
             2,
             5,
             9,
             1,
             12,
             1,
             3,
             1,
             206,
             1,
             1,
             3,
             1,
             585,
             8,
             4,
             65,
             63
            ],
            "coloraxis": "coloraxis",
            "size": [
             1.2311444133449163,
             4.477942520548968,
             13.112197789566075,
             1,
             1,
             1.792789962520997,
             1.9331820449317627,
             9.356474480717232,
             1.3903891703159093,
             1.2311444133449163,
             1.9331820449317627,
             1,
             1.2311444133449163,
             1.6206565966927624,
             1.9331820449317627,
             1,
             2.107435899344471,
             1,
             1.3903891703159093,
             1,
             4.944930204597636,
             1,
             1,
             1.3903891703159093,
             1,
             6.76311480680004,
             1.8660659830736148,
             1.515716566510398,
             3.4984365929380252,
             3.4657893658794796
            ],
            "sizemode": "area",
            "sizeref": 0.03280452281427571
           },
           "name": "",
           "showlegend": false,
           "type": "scattergeo"
          }
         ],
         "name": "05/26/2003"
        },
        {
         "data": [
          {
           "geo": "geo",
           "hoverlabel": {
            "namelength": 0
           },
           "hovertemplate": "<b>%{hovertext}</b><br><br>Date=05/27/2003<br>size=%{marker.size}<br>Country=%{location}<br>Confirmed=%{marker.color}",
           "hovertext": [
            "Brazil",
            "Canada",
            "China",
            "Colombia",
            "Finland",
            "France",
            "Germany",
            "Hong Kong SAR, China",
            "India",
            "Indonesia",
            "Italy",
            "Kuwait",
            "Macao SAR, China",
            "Malaysia",
            "Mongolia",
            "New Zealand",
            "Philippines",
            "Republic of Ireland",
            "Republic of Korea",
            "Romania",
            "Singapore",
            "South Africa",
            "Spain",
            "Sweden",
            "Switzerland",
            "Taiwan, China",
            "Thailand",
            "United Kingdom",
            "United States",
            "Viet Nam"
           ],
           "legendgroup": "",
           "locationmode": "country names",
           "locations": [
            "Brazil",
            "Canada",
            "China",
            "Colombia",
            "Finland",
            "France",
            "Germany",
            "Hong Kong SAR, China",
            "India",
            "Indonesia",
            "Italy",
            "Kuwait",
            "Macao SAR, China",
            "Malaysia",
            "Mongolia",
            "New Zealand",
            "Philippines",
            "Republic of Ireland",
            "Republic of Korea",
            "Romania",
            "Singapore",
            "South Africa",
            "Spain",
            "Sweden",
            "Switzerland",
            "Taiwan, China",
            "Thailand",
            "United Kingdom",
            "United States",
            "Viet Nam"
           ],
           "marker": {
            "color": [
             2,
             148,
             5322,
             1,
             1,
             7,
             9,
             1728,
             3,
             2,
             9,
             1,
             2,
             5,
             9,
             1,
             12,
             1,
             3,
             1,
             206,
             1,
             1,
             3,
             1,
             596,
             8,
             4,
             65,
             63
            ],
            "coloraxis": "coloraxis",
            "size": [
             1.2311444133449163,
             4.477942520548968,
             13.116635832908447,
             1,
             1,
             1.792789962520997,
             1.9331820449317627,
             9.35972570285164,
             1.3903891703159093,
             1.2311444133449163,
             1.9331820449317627,
             1,
             1.2311444133449163,
             1.6206565966927624,
             1.9331820449317627,
             1,
             2.107435899344471,
             1,
             1.3903891703159093,
             1,
             4.944930204597636,
             1,
             1,
             1.3903891703159093,
             1,
             6.801017274059365,
             1.8660659830736148,
             1.515716566510398,
             3.4984365929380252,
             3.4657893658794796
            ],
            "sizemode": "area",
            "sizeref": 0.03280452281427571
           },
           "name": "",
           "showlegend": false,
           "type": "scattergeo"
          }
         ],
         "name": "05/27/2003"
        },
        {
         "data": [
          {
           "geo": "geo",
           "hoverlabel": {
            "namelength": 0
           },
           "hovertemplate": "<b>%{hovertext}</b><br><br>Date=05/28/2003<br>size=%{marker.size}<br>Country=%{location}<br>Confirmed=%{marker.color}",
           "hovertext": [
            "Australia",
            "Brazil",
            "Canada",
            "China",
            "Colombia",
            "Finland",
            "France",
            "Germany",
            "Hong Kong SAR, China",
            "India",
            "Indonesia",
            "Italy",
            "Kuwait",
            "Macao SAR, China",
            "Malaysia",
            "Mongolia",
            "New Zealand",
            "Philippines",
            "Republic of Ireland",
            "Republic of Korea",
            "Romania",
            "Singapore",
            "South Africa",
            "Spain",
            "Sweden",
            "Switzerland",
            "Taiwan, China",
            "Thailand",
            "United Kingdom",
            "United States",
            "Viet Nam"
           ],
           "legendgroup": "",
           "locationmode": "country names",
           "locations": [
            "Australia",
            "Brazil",
            "Canada",
            "China",
            "Colombia",
            "Finland",
            "France",
            "Germany",
            "Hong Kong SAR, China",
            "India",
            "Indonesia",
            "Italy",
            "Kuwait",
            "Macao SAR, China",
            "Malaysia",
            "Mongolia",
            "New Zealand",
            "Philippines",
            "Republic of Ireland",
            "Republic of Korea",
            "Romania",
            "Singapore",
            "South Africa",
            "Spain",
            "Sweden",
            "Switzerland",
            "Taiwan, China",
            "Thailand",
            "United Kingdom",
            "United States",
            "Viet Nam"
           ],
           "marker": {
            "color": [
             6,
             2,
             149,
             5323,
             1,
             1,
             7,
             9,
             1730,
             3,
             2,
             9,
             1,
             2,
             5,
             9,
             1,
             12,
             1,
             3,
             1,
             206,
             1,
             1,
             3,
             1,
             610,
             8,
             4,
             66,
             63
            ],
            "coloraxis": "coloraxis",
            "size": [
             1.711769859409705,
             1.2311444133449163,
             4.486998047212219,
             13.117375166240604,
             1,
             1,
             1.792789962520997,
             1.9331820449317627,
             9.36297429196001,
             1.3903891703159093,
             1.2311444133449163,
             1.9331820449317627,
             1,
             1.2311444133449163,
             1.6206565966927624,
             1.9331820449317627,
             1,
             2.107435899344471,
             1,
             1.3903891703159093,
             1,
             4.944930204597636,
             1,
             1,
             1.3903891703159093,
             1,
             6.848555041324403,
             1.8660659830736148,
             1.515716566510398,
             3.5144970301577456,
             3.4657893658794796
            ],
            "sizemode": "area",
            "sizeref": 0.03280452281427571
           },
           "name": "",
           "showlegend": false,
           "type": "scattergeo"
          }
         ],
         "name": "05/28/2003"
        },
        {
         "data": [
          {
           "geo": "geo",
           "hoverlabel": {
            "namelength": 0
           },
           "hovertemplate": "<b>%{hovertext}</b><br><br>Date=05/29/2003<br>size=%{marker.size}<br>Country=%{location}<br>Confirmed=%{marker.color}",
           "hovertext": [
            "Australia",
            "Brazil",
            "Canada",
            "China",
            "Colombia",
            "Finland",
            "France",
            "Germany",
            "Hong Kong SAR, China",
            "India",
            "Indonesia",
            "Italy",
            "Kuwait",
            "Macao SAR, China",
            "Malaysia",
            "Mongolia",
            "New Zealand",
            "Philippines",
            "Republic of Ireland",
            "Republic of Korea",
            "Romania",
            "Singapore",
            "South Africa",
            "Spain",
            "Sweden",
            "Switzerland",
            "Taiwan, China",
            "Thailand",
            "United Kingdom",
            "United States",
            "Viet Nam"
           ],
           "legendgroup": "",
           "locationmode": "country names",
           "locations": [
            "Australia",
            "Brazil",
            "Canada",
            "China",
            "Colombia",
            "Finland",
            "France",
            "Germany",
            "Hong Kong SAR, China",
            "India",
            "Indonesia",
            "Italy",
            "Kuwait",
            "Macao SAR, China",
            "Malaysia",
            "Mongolia",
            "New Zealand",
            "Philippines",
            "Republic of Ireland",
            "Republic of Korea",
            "Romania",
            "Singapore",
            "South Africa",
            "Spain",
            "Sweden",
            "Switzerland",
            "Taiwan, China",
            "Thailand",
            "United Kingdom",
            "United States",
            "Viet Nam"
           ],
           "marker": {
            "color": [
             6,
             2,
             151,
             5325,
             1,
             1,
             7,
             9,
             1732,
             3,
             2,
             9,
             1,
             1,
             5,
             9,
             1,
             12,
             1,
             3,
             1,
             206,
             1,
             1,
             3,
             1,
             660,
             8,
             4,
             66,
             63
            ],
            "coloraxis": "coloraxis",
            "size": [
             1.711769859409705,
             1.2311444133449163,
             4.50498225026368,
             13.11885354127751,
             1,
             1,
             1.792789962520997,
             1.9331820449317627,
             9.366220253214983,
             1.3903891703159093,
             1.2311444133449163,
             1.9331820449317627,
             1,
             1,
             1.6206565966927624,
             1.9331820449317627,
             1,
             2.107435899344471,
             1,
             1.3903891703159093,
             1,
             4.944930204597636,
             1,
             1,
             1.3903891703159093,
             1,
             7.012343480343795,
             1.8660659830736148,
             1.515716566510398,
             3.5144970301577456,
             3.4657893658794796
            ],
            "sizemode": "area",
            "sizeref": 0.03280452281427571
           },
           "name": "",
           "showlegend": false,
           "type": "scattergeo"
          }
         ],
         "name": "05/29/2003"
        },
        {
         "data": [
          {
           "geo": "geo",
           "hoverlabel": {
            "namelength": 0
           },
           "hovertemplate": "<b>%{hovertext}</b><br><br>Date=05/30/2003<br>size=%{marker.size}<br>Country=%{location}<br>Confirmed=%{marker.color}",
           "hovertext": [
            "Brazil",
            "Canada",
            "China",
            "Colombia",
            "Finland",
            "France",
            "Germany",
            "Hong Kong SAR, China",
            "India",
            "Indonesia",
            "Italy",
            "Kuwait",
            "Macao SAR, China",
            "Malaysia",
            "Mongolia",
            "New Zealand",
            "Philippines",
            "Republic of Ireland",
            "Republic of Korea",
            "Romania",
            "Singapore",
            "South Africa",
            "Spain",
            "Sweden",
            "Switzerland",
            "Taiwan, China",
            "Thailand",
            "United Kingdom",
            "United States",
            "Viet Nam"
           ],
           "legendgroup": "",
           "locationmode": "country names",
           "locations": [
            "Brazil",
            "Canada",
            "China",
            "Colombia",
            "Finland",
            "France",
            "Germany",
            "Hong Kong SAR, China",
            "India",
            "Indonesia",
            "Italy",
            "Kuwait",
            "Macao SAR, China",
            "Malaysia",
            "Mongolia",
            "New Zealand",
            "Philippines",
            "Republic of Ireland",
            "Republic of Korea",
            "Romania",
            "Singapore",
            "South Africa",
            "Spain",
            "Sweden",
            "Switzerland",
            "Taiwan, China",
            "Thailand",
            "United Kingdom",
            "United States",
            "Viet Nam"
           ],
           "marker": {
            "color": [
             2,
             159,
             5328,
             1,
             1,
             7,
             9,
             1736,
             3,
             2,
             9,
             1,
             1,
             5,
             9,
             1,
             12,
             1,
             3,
             1,
             206,
             1,
             1,
             3,
             1,
             667,
             8,
             4,
             66,
             63
            ],
            "coloraxis": "coloraxis",
            "size": [
             1.2311444133449163,
             4.575295380404088,
             13.121070375229724,
             1,
             1,
             1.792789962520997,
             1.9331820449317627,
             9.372704312774783,
             1.3903891703159093,
             1.2311444133449163,
             1.9331820449317627,
             1,
             1,
             1.6206565966927624,
             1.9331820449317627,
             1,
             2.107435899344471,
             1,
             1.3903891703159093,
             1,
             4.944930204597636,
             1,
             1,
             1.3903891703159093,
             1,
             7.034573151720657,
             1.8660659830736148,
             1.515716566510398,
             3.5144970301577456,
             3.4657893658794796
            ],
            "sizemode": "area",
            "sizeref": 0.03280452281427571
           },
           "name": "",
           "showlegend": false,
           "type": "scattergeo"
          }
         ],
         "name": "05/30/2003"
        },
        {
         "data": [
          {
           "geo": "geo",
           "hoverlabel": {
            "namelength": 0
           },
           "hovertemplate": "<b>%{hovertext}</b><br><br>Date=05/31/2003<br>size=%{marker.size}<br>Country=%{location}<br>Confirmed=%{marker.color}",
           "hovertext": [
            "Brazil",
            "Canada",
            "China",
            "Colombia",
            "Finland",
            "France",
            "Germany",
            "Hong Kong SAR, China",
            "India",
            "Indonesia",
            "Italy",
            "Kuwait",
            "Macao SAR, China",
            "Malaysia",
            "Mongolia",
            "New Zealand",
            "Philippines",
            "Republic of Ireland",
            "Republic of Korea",
            "Romania",
            "Russian Federation",
            "Singapore",
            "South Africa",
            "Spain",
            "Sweden",
            "Switzerland",
            "Taiwan, China",
            "Thailand",
            "United Kingdom",
            "United States",
            "Viet Nam"
           ],
           "legendgroup": "",
           "locationmode": "country names",
           "locations": [
            "Brazil",
            "Canada",
            "China",
            "Colombia",
            "Finland",
            "France",
            "Germany",
            "Hong Kong SAR, China",
            "India",
            "Indonesia",
            "Italy",
            "Kuwait",
            "Macao SAR, China",
            "Malaysia",
            "Mongolia",
            "New Zealand",
            "Philippines",
            "Republic of Ireland",
            "Republic of Korea",
            "Romania",
            "Russian Federation",
            "Singapore",
            "South Africa",
            "Spain",
            "Sweden",
            "Switzerland",
            "Taiwan, China",
            "Thailand",
            "United Kingdom",
            "United States",
            "Viet Nam"
           ],
           "marker": {
            "color": [
             2,
             188,
             5328,
             1,
             1,
             7,
             10,
             1739,
             3,
             2,
             9,
             1,
             1,
             5,
             9,
             1,
             12,
             1,
             3,
             1,
             1,
             206,
             1,
             1,
             3,
             1,
             676,
             8,
             4,
             66,
             63
            ],
            "coloraxis": "coloraxis",
            "size": [
             1.2311444133449163,
             4.811132911155357,
             13.121070375229724,
             1,
             1,
             1.792789962520997,
             1.9952623149688795,
             9.377560497564533,
             1.3903891703159093,
             1.2311444133449163,
             1.9331820449317627,
             1,
             1,
             1.6206565966927624,
             1.9331820449317627,
             1,
             2.107435899344471,
             1,
             1.3903891703159093,
             1,
             1,
             4.944930204597636,
             1,
             1,
             1.3903891703159093,
             1,
             7.062915473248845,
             1.8660659830736148,
             1.515716566510398,
             3.5144970301577456,
             3.4657893658794796
            ],
            "sizemode": "area",
            "sizeref": 0.03280452281427571
           },
           "name": "",
           "showlegend": false,
           "type": "scattergeo"
          }
         ],
         "name": "05/31/2003"
        },
        {
         "data": [
          {
           "geo": "geo",
           "hoverlabel": {
            "namelength": 0
           },
           "hovertemplate": "<b>%{hovertext}</b><br><br>Date=06/02/2003<br>size=%{marker.size}<br>Country=%{location}<br>Confirmed=%{marker.color}",
           "hovertext": [
            "Brazil",
            "Canada",
            "China",
            "Colombia",
            "Finland",
            "France",
            "Germany",
            "Hong Kong SAR, China",
            "India",
            "Indonesia",
            "Italy",
            "Kuwait",
            "Macao SAR, China",
            "Malaysia",
            "Mongolia",
            "New Zealand",
            "Philippines",
            "Republic of Ireland",
            "Republic of Korea",
            "Romania",
            "Russian Federation",
            "Singapore",
            "South Africa",
            "Spain",
            "Sweden",
            "Switzerland",
            "Taiwan, China",
            "Thailand",
            "United Kingdom",
            "United States",
            "Viet Nam"
           ],
           "legendgroup": "",
           "locationmode": "country names",
           "locations": [
            "Brazil",
            "Canada",
            "China",
            "Colombia",
            "Finland",
            "France",
            "Germany",
            "Hong Kong SAR, China",
            "India",
            "Indonesia",
            "Italy",
            "Kuwait",
            "Macao SAR, China",
            "Malaysia",
            "Mongolia",
            "New Zealand",
            "Philippines",
            "Republic of Ireland",
            "Republic of Korea",
            "Romania",
            "Russian Federation",
            "Singapore",
            "South Africa",
            "Spain",
            "Sweden",
            "Switzerland",
            "Taiwan, China",
            "Thailand",
            "United Kingdom",
            "United States",
            "Viet Nam"
           ],
           "marker": {
            "color": [
             2,
             198,
             5328,
             1,
             1,
             7,
             10,
             1746,
             3,
             2,
             9,
             1,
             1,
             5,
             9,
             1,
             12,
             1,
             3,
             1,
             1,
             206,
             1,
             1,
             3,
             1,
             684,
             8,
             4,
             66,
             63
            ],
            "coloraxis": "coloraxis",
            "size": [
             1.2311444133449163,
             4.886518609838755,
             13.121070375229724,
             1,
             1,
             1.792789962520997,
             1.9952623149688795,
             9.388868833238613,
             1.3903891703159093,
             1.2311444133449163,
             1.9331820449317627,
             1,
             1,
             1.6206565966927624,
             1.9331820449317627,
             1,
             2.107435899344471,
             1,
             1.3903891703159093,
             1,
             1,
             4.944930204597636,
             1,
             1,
             1.3903891703159093,
             1,
             7.087887741031469,
             1.8660659830736148,
             1.515716566510398,
             3.5144970301577456,
             3.4657893658794796
            ],
            "sizemode": "area",
            "sizeref": 0.03280452281427571
           },
           "name": "",
           "showlegend": false,
           "type": "scattergeo"
          }
         ],
         "name": "06/02/2003"
        },
        {
         "data": [
          {
           "geo": "geo",
           "hoverlabel": {
            "namelength": 0
           },
           "hovertemplate": "<b>%{hovertext}</b><br><br>Date=06/03/2003<br>size=%{marker.size}<br>Country=%{location}<br>Confirmed=%{marker.color}",
           "hovertext": [
            "Brazil",
            "Canada",
            "China",
            "Colombia",
            "Finland",
            "France",
            "Germany",
            "Hong Kong SAR, China",
            "India",
            "Indonesia",
            "Italy",
            "Kuwait",
            "Macao SAR, China",
            "Malaysia",
            "Mongolia",
            "New Zealand",
            "Philippines",
            "Republic of Ireland",
            "Republic of Korea",
            "Romania",
            "Russian Federation",
            "Singapore",
            "South Africa",
            "Spain",
            "Sweden",
            "Switzerland",
            "Taiwan, China",
            "Thailand",
            "United Kingdom",
            "United States",
            "Viet Nam"
           ],
           "legendgroup": "",
           "locationmode": "country names",
           "locations": [
            "Brazil",
            "Canada",
            "China",
            "Colombia",
            "Finland",
            "France",
            "Germany",
            "Hong Kong SAR, China",
            "India",
            "Indonesia",
            "Italy",
            "Kuwait",
            "Macao SAR, China",
            "Malaysia",
            "Mongolia",
            "New Zealand",
            "Philippines",
            "Republic of Ireland",
            "Republic of Korea",
            "Romania",
            "Russian Federation",
            "Singapore",
            "South Africa",
            "Spain",
            "Sweden",
            "Switzerland",
            "Taiwan, China",
            "Thailand",
            "United Kingdom",
            "United States",
            "Viet Nam"
           ],
           "marker": {
            "color": [
             2,
             213,
             5329,
             1,
             1,
             7,
             10,
             1747,
             3,
             2,
             9,
             1,
             1,
             5,
             9,
             1,
             12,
             1,
             3,
             1,
             1,
             206,
             1,
             1,
             3,
             1,
             679,
             8,
             4,
             68,
             63
            ],
            "coloraxis": "coloraxis",
            "size": [
             1.2311444133449163,
             4.994751443057936,
             13.121809125710284,
             1,
             1,
             1.792789962520997,
             1.9952623149688795,
             9.390481717666136,
             1.3903891703159093,
             1.2311444133449163,
             1.9331820449317627,
             1,
             1,
             1.6206565966927624,
             1.9331820449317627,
             1,
             2.107435899344471,
             1,
             1.3903891703159093,
             1,
             1,
             4.944930204597636,
             1,
             1,
             1.3903891703159093,
             1,
             7.07230419399908,
             1.8660659830736148,
             1.515716566510398,
             3.5461138422596736,
             3.4657893658794796
            ],
            "sizemode": "area",
            "sizeref": 0.03280452281427571
           },
           "name": "",
           "showlegend": false,
           "type": "scattergeo"
          }
         ],
         "name": "06/03/2003"
        },
        {
         "data": [
          {
           "geo": "geo",
           "hoverlabel": {
            "namelength": 0
           },
           "hovertemplate": "<b>%{hovertext}</b><br><br>Date=06/04/2003<br>size=%{marker.size}<br>Country=%{location}<br>Confirmed=%{marker.color}",
           "hovertext": [
            "Brazil",
            "Canada",
            "China",
            "Colombia",
            "Finland",
            "France",
            "Germany",
            "Hong Kong SAR, China",
            "India",
            "Indonesia",
            "Italy",
            "Kuwait",
            "Macao SAR, China",
            "Malaysia",
            "Mongolia",
            "New Zealand",
            "Philippines",
            "Republic of Ireland",
            "Republic of Korea",
            "Romania",
            "Russian Federation",
            "Singapore",
            "South Africa",
            "Spain",
            "Sweden",
            "Switzerland",
            "Taiwan, China",
            "Thailand",
            "United Kingdom",
            "United States",
            "Viet Nam"
           ],
           "legendgroup": "",
           "locationmode": "country names",
           "locations": [
            "Brazil",
            "Canada",
            "China",
            "Colombia",
            "Finland",
            "France",
            "Germany",
            "Hong Kong SAR, China",
            "India",
            "Indonesia",
            "Italy",
            "Kuwait",
            "Macao SAR, China",
            "Malaysia",
            "Mongolia",
            "New Zealand",
            "Philippines",
            "Republic of Ireland",
            "Republic of Korea",
            "Romania",
            "Russian Federation",
            "Singapore",
            "South Africa",
            "Spain",
            "Sweden",
            "Switzerland",
            "Taiwan, China",
            "Thailand",
            "United Kingdom",
            "United States",
            "Viet Nam"
           ],
           "marker": {
            "color": [
             2,
             216,
             5329,
             1,
             1,
             7,
             10,
             1748,
             3,
             2,
             9,
             1,
             1,
             5,
             9,
             1,
             12,
             1,
             3,
             1,
             1,
             206,
             1,
             1,
             3,
             1,
             678,
             8,
             4,
             69,
             63
            ],
            "coloraxis": "coloraxis",
            "size": [
             1.2311444133449163,
             5.015752812467621,
             13.121809125710284,
             1,
             1,
             1.792789962520997,
             1.9952623149688795,
             9.392093955961418,
             1.3903891703159093,
             1.2311444133449163,
             1.9331820449317627,
             1,
             1,
             1.6206565966927624,
             1.9331820449317627,
             1,
             2.107435899344471,
             1,
             1.3903891703159093,
             1,
             1,
             4.944930204597636,
             1,
             1,
             1.3903891703159093,
             1,
             7.069177852574754,
             1.8660659830736148,
             1.515716566510398,
             3.561678602815316,
             3.4657893658794796
            ],
            "sizemode": "area",
            "sizeref": 0.03280452281427571
           },
           "name": "",
           "showlegend": false,
           "type": "scattergeo"
          }
         ],
         "name": "06/04/2003"
        },
        {
         "data": [
          {
           "geo": "geo",
           "hoverlabel": {
            "namelength": 0
           },
           "hovertemplate": "<b>%{hovertext}</b><br><br>Date=06/05/2003<br>size=%{marker.size}<br>Country=%{location}<br>Confirmed=%{marker.color}",
           "hovertext": [
            "Brazil",
            "Canada",
            "China",
            "Colombia",
            "Finland",
            "France",
            "Germany",
            "Hong Kong SAR, China",
            "India",
            "Indonesia",
            "Italy",
            "Kuwait",
            "Macao SAR, China",
            "Malaysia",
            "Mongolia",
            "New Zealand",
            "Philippines",
            "Republic of Ireland",
            "Republic of Korea",
            "Romania",
            "Russian Federation",
            "Singapore",
            "South Africa",
            "Spain",
            "Sweden",
            "Switzerland",
            "Taiwan, China",
            "Thailand",
            "United Kingdom",
            "United States",
            "Viet Nam"
           ],
           "legendgroup": "",
           "locationmode": "country names",
           "locations": [
            "Brazil",
            "Canada",
            "China",
            "Colombia",
            "Finland",
            "France",
            "Germany",
            "Hong Kong SAR, China",
            "India",
            "Indonesia",
            "Italy",
            "Kuwait",
            "Macao SAR, China",
            "Malaysia",
            "Mongolia",
            "New Zealand",
            "Philippines",
            "Republic of Ireland",
            "Republic of Korea",
            "Romania",
            "Russian Federation",
            "Singapore",
            "South Africa",
            "Spain",
            "Sweden",
            "Switzerland",
            "Taiwan, China",
            "Thailand",
            "United Kingdom",
            "United States",
            "Viet Nam"
           ],
           "marker": {
            "color": [
             2,
             218,
             5329,
             1,
             1,
             7,
             10,
             1748,
             3,
             2,
             9,
             1,
             1,
             5,
             9,
             1,
             12,
             1,
             3,
             1,
             1,
             206,
             1,
             1,
             3,
             1,
             677,
             8,
             4,
             69,
             63
            ],
            "coloraxis": "coloraxis",
            "size": [
             1.2311444133449163,
             5.029640542511664,
             13.121809125710284,
             1,
             1,
             1.792789962520997,
             1.9952623149688795,
             9.392093955961418,
             1.3903891703159093,
             1.2311444133449163,
             1.9331820449317627,
             1,
             1,
             1.6206565966927624,
             1.9331820449317627,
             1,
             2.107435899344471,
             1,
             1.3903891703159093,
             1,
             1,
             4.944930204597636,
             1,
             1,
             1.3903891703159093,
             1,
             7.066048281695879,
             1.8660659830736148,
             1.515716566510398,
             3.561678602815316,
             3.4657893658794796
            ],
            "sizemode": "area",
            "sizeref": 0.03280452281427571
           },
           "name": "",
           "showlegend": false,
           "type": "scattergeo"
          }
         ],
         "name": "06/05/2003"
        },
        {
         "data": [
          {
           "geo": "geo",
           "hoverlabel": {
            "namelength": 0
           },
           "hovertemplate": "<b>%{hovertext}</b><br><br>Date=06/06/2003<br>size=%{marker.size}<br>Country=%{location}<br>Confirmed=%{marker.color}",
           "hovertext": [
            "Brazil",
            "Canada",
            "China",
            "Colombia",
            "Finland",
            "France",
            "Germany",
            "Hong Kong SAR, China",
            "India",
            "Indonesia",
            "Italy",
            "Kuwait",
            "Macao SAR, China",
            "Malaysia",
            "Mongolia",
            "New Zealand",
            "Philippines",
            "Republic of Ireland",
            "Republic of Korea",
            "Romania",
            "Russian Federation",
            "Singapore",
            "South Africa",
            "Spain",
            "Sweden",
            "Switzerland",
            "Taiwan, China",
            "Thailand",
            "United Kingdom",
            "United States",
            "Viet Nam"
           ],
           "legendgroup": "",
           "locationmode": "country names",
           "locations": [
            "Brazil",
            "Canada",
            "China",
            "Colombia",
            "Finland",
            "France",
            "Germany",
            "Hong Kong SAR, China",
            "India",
            "Indonesia",
            "Italy",
            "Kuwait",
            "Macao SAR, China",
            "Malaysia",
            "Mongolia",
            "New Zealand",
            "Philippines",
            "Republic of Ireland",
            "Republic of Korea",
            "Romania",
            "Russian Federation",
            "Singapore",
            "South Africa",
            "Spain",
            "Sweden",
            "Switzerland",
            "Taiwan, China",
            "Thailand",
            "United Kingdom",
            "United States",
            "Viet Nam"
           ],
           "marker": {
            "color": [
             2,
             219,
             5329,
             1,
             1,
             7,
             10,
             1750,
             3,
             2,
             9,
             1,
             1,
             5,
             9,
             1,
             12,
             1,
             3,
             1,
             1,
             206,
             1,
             1,
             3,
             1,
             676,
             8,
             4,
             68,
             63
            ],
            "coloraxis": "coloraxis",
            "size": [
             1.2311444133449163,
             5.0365509824526615,
             13.121809125710284,
             1,
             1,
             1.792789962520997,
             1.9952623149688795,
             9.395316496667354,
             1.3903891703159093,
             1.2311444133449163,
             1.9331820449317627,
             1,
             1,
             1.6206565966927624,
             1.9331820449317627,
             1,
             2.107435899344471,
             1,
             1.3903891703159093,
             1,
             1,
             4.944930204597636,
             1,
             1,
             1.3903891703159093,
             1,
             7.062915473248845,
             1.8660659830736148,
             1.515716566510398,
             3.5461138422596736,
             3.4657893658794796
            ],
            "sizemode": "area",
            "sizeref": 0.03280452281427571
           },
           "name": "",
           "showlegend": false,
           "type": "scattergeo"
          }
         ],
         "name": "06/06/2003"
        },
        {
         "data": [
          {
           "geo": "geo",
           "hoverlabel": {
            "namelength": 0
           },
           "hovertemplate": "<b>%{hovertext}</b><br><br>Date=06/09/2003<br>size=%{marker.size}<br>Country=%{location}<br>Confirmed=%{marker.color}",
           "hovertext": [
            "Brazil",
            "Canada",
            "China",
            "Colombia",
            "Finland",
            "France",
            "Germany",
            "Hong Kong SAR, China",
            "India",
            "Indonesia",
            "Italy",
            "Kuwait",
            "Macao SAR, China",
            "Malaysia",
            "Mongolia",
            "New Zealand",
            "Philippines",
            "Republic of Ireland",
            "Republic of Korea",
            "Romania",
            "Russian Federation",
            "Singapore",
            "South Africa",
            "Spain",
            "Sweden",
            "Switzerland",
            "Taiwan, China",
            "Thailand",
            "United Kingdom",
            "United States",
            "Viet Nam"
           ],
           "legendgroup": "",
           "locationmode": "country names",
           "locations": [
            "Brazil",
            "Canada",
            "China",
            "Colombia",
            "Finland",
            "France",
            "Germany",
            "Hong Kong SAR, China",
            "India",
            "Indonesia",
            "Italy",
            "Kuwait",
            "Macao SAR, China",
            "Malaysia",
            "Mongolia",
            "New Zealand",
            "Philippines",
            "Republic of Ireland",
            "Republic of Korea",
            "Romania",
            "Russian Federation",
            "Singapore",
            "South Africa",
            "Spain",
            "Sweden",
            "Switzerland",
            "Taiwan, China",
            "Thailand",
            "United Kingdom",
            "United States",
            "Viet Nam"
           ],
           "marker": {
            "color": [
             2,
             229,
             5328,
             1,
             1,
             7,
             10,
             1753,
             3,
             2,
             9,
             1,
             1,
             5,
             9,
             1,
             12,
             1,
             3,
             1,
             1,
             206,
             1,
             1,
             3,
             1,
             680,
             9,
             4,
             68,
             63
            ],
            "coloraxis": "coloraxis",
            "size": [
             1.2311444133449163,
             5.104469870468026,
             13.121070375229724,
             1,
             1,
             1.792789962520997,
             1.9952623149688795,
             9.40014547740959,
             1.3903891703159093,
             1.2311444133449163,
             1.9331820449317627,
             1,
             1,
             1.6206565966927624,
             1.9331820449317627,
             1,
             2.107435899344471,
             1,
             1.3903891703159093,
             1,
             1,
             4.944930204597636,
             1,
             1,
             1.3903891703159093,
             1,
             7.075427314050224,
             1.9331820449317627,
             1.515716566510398,
             3.5461138422596736,
             3.4657893658794796
            ],
            "sizemode": "area",
            "sizeref": 0.03280452281427571
           },
           "name": "",
           "showlegend": false,
           "type": "scattergeo"
          }
         ],
         "name": "06/09/2003"
        },
        {
         "data": [
          {
           "geo": "geo",
           "hoverlabel": {
            "namelength": 0
           },
           "hovertemplate": "<b>%{hovertext}</b><br><br>Date=06/10/2003<br>size=%{marker.size}<br>Country=%{location}<br>Confirmed=%{marker.color}",
           "hovertext": [
            "Brazil",
            "Canada",
            "China",
            "Colombia",
            "Finland",
            "France",
            "Germany",
            "Hong Kong SAR, China",
            "India",
            "Indonesia",
            "Italy",
            "Kuwait",
            "Macao SAR, China",
            "Malaysia",
            "Mongolia",
            "New Zealand",
            "Philippines",
            "Republic of Ireland",
            "Republic of Korea",
            "Romania",
            "Russian Federation",
            "Singapore",
            "South Africa",
            "Spain",
            "Sweden",
            "Switzerland",
            "Taiwan, China",
            "Thailand",
            "United Kingdom",
            "United States",
            "Viet Nam"
           ],
           "legendgroup": "",
           "locationmode": "country names",
           "locations": [
            "Brazil",
            "Canada",
            "China",
            "Colombia",
            "Finland",
            "France",
            "Germany",
            "Hong Kong SAR, China",
            "India",
            "Indonesia",
            "Italy",
            "Kuwait",
            "Macao SAR, China",
            "Malaysia",
            "Mongolia",
            "New Zealand",
            "Philippines",
            "Republic of Ireland",
            "Republic of Korea",
            "Romania",
            "Russian Federation",
            "Singapore",
            "South Africa",
            "Spain",
            "Sweden",
            "Switzerland",
            "Taiwan, China",
            "Thailand",
            "United Kingdom",
            "United States",
            "Viet Nam"
           ],
           "marker": {
            "color": [
             3,
             229,
             5328,
             1,
             1,
             7,
             10,
             1754,
             3,
             2,
             9,
             1,
             1,
             5,
             9,
             1,
             12,
             1,
             3,
             1,
             1,
             206,
             1,
             1,
             3,
             1,
             686,
             9,
             4,
             69,
             63
            ],
            "coloraxis": "coloraxis",
            "size": [
             1.3903891703159093,
             5.104469870468026,
             13.121070375229724,
             1,
             1,
             1.792789962520997,
             1.9952623149688795,
             9.401753852071112,
             1.3903891703159093,
             1.2311444133449163,
             1.9331820449317627,
             1,
             1,
             1.6206565966927624,
             1.9331820449317627,
             1,
             2.107435899344471,
             1,
             1.3903891703159093,
             1,
             1,
             4.944930204597636,
             1,
             1,
             1.3903891703159093,
             1,
             7.094098834057658,
             1.9331820449317627,
             1.515716566510398,
             3.561678602815316,
             3.4657893658794796
            ],
            "sizemode": "area",
            "sizeref": 0.03280452281427571
           },
           "name": "",
           "showlegend": false,
           "type": "scattergeo"
          }
         ],
         "name": "06/10/2003"
        },
        {
         "data": [
          {
           "geo": "geo",
           "hoverlabel": {
            "namelength": 0
           },
           "hovertemplate": "<b>%{hovertext}</b><br><br>Date=06/11/2003<br>size=%{marker.size}<br>Country=%{location}<br>Confirmed=%{marker.color}",
           "hovertext": [
            "Brazil",
            "Canada",
            "China",
            "Colombia",
            "Finland",
            "France",
            "Germany",
            "Hong Kong SAR, China",
            "India",
            "Indonesia",
            "Italy",
            "Kuwait",
            "Macao SAR, China",
            "Malaysia",
            "Mongolia",
            "New Zealand",
            "Philippines",
            "Republic of Ireland",
            "Republic of Korea",
            "Romania",
            "Russian Federation",
            "Singapore",
            "South Africa",
            "Spain",
            "Sweden",
            "Switzerland",
            "Taiwan, China",
            "Thailand",
            "United Kingdom",
            "United States",
            "Viet Nam"
           ],
           "legendgroup": "",
           "locationmode": "country names",
           "locations": [
            "Brazil",
            "Canada",
            "China",
            "Colombia",
            "Finland",
            "France",
            "Germany",
            "Hong Kong SAR, China",
            "India",
            "Indonesia",
            "Italy",
            "Kuwait",
            "Macao SAR, China",
            "Malaysia",
            "Mongolia",
            "New Zealand",
            "Philippines",
            "Republic of Ireland",
            "Republic of Korea",
            "Romania",
            "Russian Federation",
            "Singapore",
            "South Africa",
            "Spain",
            "Sweden",
            "Switzerland",
            "Taiwan, China",
            "Thailand",
            "United Kingdom",
            "United States",
            "Viet Nam"
           ],
           "marker": {
            "color": [
             3,
             230,
             5329,
             1,
             1,
             7,
             10,
             1754,
             3,
             2,
             9,
             1,
             1,
             5,
             9,
             1,
             12,
             1,
             3,
             1,
             1,
             206,
             1,
             1,
             3,
             1,
             687,
             9,
             4,
             71,
             63
            ],
            "coloraxis": "coloraxis",
            "size": [
             1.3903891703159093,
             5.111146753691812,
             13.121809125710284,
             1,
             1,
             1.792789962520997,
             1.9952623149688795,
             9.401753852071112,
             1.3903891703159093,
             1.2311444133449163,
             1.9331820449317627,
             1,
             1,
             1.6206565966927624,
             1.9331820449317627,
             1,
             2.107435899344471,
             1,
             1.3903891703159093,
             1,
             1,
             4.944930204597636,
             1,
             1,
             1.3903891703159093,
             1,
             7.0971996281025955,
             1.9331820449317627,
             1.515716566510398,
             3.592340583264959,
             3.4657893658794796
            ],
            "sizemode": "area",
            "sizeref": 0.03280452281427571
           },
           "name": "",
           "showlegend": false,
           "type": "scattergeo"
          }
         ],
         "name": "06/11/2003"
        },
        {
         "data": [
          {
           "geo": "geo",
           "hoverlabel": {
            "namelength": 0
           },
           "hovertemplate": "<b>%{hovertext}</b><br><br>Date=06/12/2003<br>size=%{marker.size}<br>Country=%{location}<br>Confirmed=%{marker.color}",
           "hovertext": [
            "Brazil",
            "Canada",
            "China",
            "Colombia",
            "Finland",
            "France",
            "Germany",
            "Hong Kong SAR, China",
            "India",
            "Indonesia",
            "Italy",
            "Kuwait",
            "Macao SAR, China",
            "Malaysia",
            "Mongolia",
            "New Zealand",
            "Philippines",
            "Republic of Ireland",
            "Republic of Korea",
            "Romania",
            "Russian Federation",
            "Singapore",
            "South Africa",
            "Spain",
            "Sweden",
            "Switzerland",
            "Taiwan, China",
            "Thailand",
            "United Kingdom",
            "United States",
            "Viet Nam"
           ],
           "legendgroup": "",
           "locationmode": "country names",
           "locations": [
            "Brazil",
            "Canada",
            "China",
            "Colombia",
            "Finland",
            "France",
            "Germany",
            "Hong Kong SAR, China",
            "India",
            "Indonesia",
            "Italy",
            "Kuwait",
            "Macao SAR, China",
            "Malaysia",
            "Mongolia",
            "New Zealand",
            "Philippines",
            "Republic of Ireland",
            "Republic of Korea",
            "Romania",
            "Russian Federation",
            "Singapore",
            "South Africa",
            "Spain",
            "Sweden",
            "Switzerland",
            "Taiwan, China",
            "Thailand",
            "United Kingdom",
            "United States",
            "Viet Nam"
           ],
           "marker": {
            "color": [
             3,
             238,
             5328,
             1,
             1,
             7,
             10,
             1755,
             3,
             2,
             9,
             1,
             1,
             5,
             9,
             1,
             14,
             1,
             3,
             1,
             1,
             206,
             1,
             1,
             3,
             1,
             688,
             9,
             4,
             70,
             63
            ],
            "coloraxis": "coloraxis",
            "size": [
             1.3903891703159093,
             5.163843683526358,
             13.121070375229724,
             1,
             1,
             1.792789962520997,
             1.9952623149688795,
             9.403361584977949,
             1.3903891703159093,
             1.2311444133449163,
             1.9331820449317627,
             1,
             1,
             1.6206565966927624,
             1.9331820449317627,
             1,
             2.2071833466585673,
             1,
             1.3903891703159093,
             1,
             1,
             4.944930204597636,
             1,
             1,
             1.3903891703159093,
             1,
             7.100297264285194,
             1.9331820449317627,
             1.515716566510398,
             3.5770862508726156,
             3.4657893658794796
            ],
            "sizemode": "area",
            "sizeref": 0.03280452281427571
           },
           "name": "",
           "showlegend": false,
           "type": "scattergeo"
          }
         ],
         "name": "06/12/2003"
        },
        {
         "data": [
          {
           "geo": "geo",
           "hoverlabel": {
            "namelength": 0
           },
           "hovertemplate": "<b>%{hovertext}</b><br><br>Date=06/13/2003<br>size=%{marker.size}<br>Country=%{location}<br>Confirmed=%{marker.color}",
           "hovertext": [
            "Brazil",
            "Canada",
            "China",
            "Colombia",
            "Finland",
            "France",
            "Germany",
            "Hong Kong SAR, China",
            "India",
            "Indonesia",
            "Italy",
            "Kuwait",
            "Macao SAR, China",
            "Malaysia",
            "Mongolia",
            "New Zealand",
            "Philippines",
            "Republic of Ireland",
            "Republic of Korea",
            "Romania",
            "Russian Federation",
            "Singapore",
            "South Africa",
            "Spain",
            "Sweden",
            "Switzerland",
            "Taiwan, China",
            "Thailand",
            "United Kingdom",
            "United States",
            "Viet Nam"
           ],
           "legendgroup": "",
           "locationmode": "country names",
           "locations": [
            "Brazil",
            "Canada",
            "China",
            "Colombia",
            "Finland",
            "France",
            "Germany",
            "Hong Kong SAR, China",
            "India",
            "Indonesia",
            "Italy",
            "Kuwait",
            "Macao SAR, China",
            "Malaysia",
            "Mongolia",
            "New Zealand",
            "Philippines",
            "Republic of Ireland",
            "Republic of Korea",
            "Romania",
            "Russian Federation",
            "Singapore",
            "South Africa",
            "Spain",
            "Sweden",
            "Switzerland",
            "Taiwan, China",
            "Thailand",
            "United Kingdom",
            "United States",
            "Viet Nam"
           ],
           "marker": {
            "color": [
             3,
             242,
             5327,
             1,
             1,
             7,
             10,
             1755,
             3,
             2,
             9,
             1,
             1,
             5,
             9,
             1,
             14,
             1,
             3,
             1,
             1,
             206,
             1,
             1,
             3,
             1,
             693,
             9,
             4,
             71,
             63
            ],
            "coloraxis": "coloraxis",
            "size": [
             1.3903891703159093,
             5.189728158392695,
             13.120331527684732,
             1,
             1,
             1.792789962520997,
             1.9952623149688795,
             9.403361584977949,
             1.3903891703159093,
             1.2311444133449163,
             1.9331820449317627,
             1,
             1,
             1.6206565966927624,
             1.9331820449317627,
             1,
             2.2071833466585673,
             1,
             1.3903891703159093,
             1,
             1,
             4.944930204597636,
             1,
             1,
             1.3903891703159093,
             1,
             7.115738349158754,
             1.9331820449317627,
             1.515716566510398,
             3.592340583264959,
             3.4657893658794796
            ],
            "sizemode": "area",
            "sizeref": 0.03280452281427571
           },
           "name": "",
           "showlegend": false,
           "type": "scattergeo"
          }
         ],
         "name": "06/13/2003"
        },
        {
         "data": [
          {
           "geo": "geo",
           "hoverlabel": {
            "namelength": 0
           },
           "hovertemplate": "<b>%{hovertext}</b><br><br>Date=06/16/2003<br>size=%{marker.size}<br>Country=%{location}<br>Confirmed=%{marker.color}",
           "hovertext": [
            "Brazil",
            "Canada",
            "China",
            "Colombia",
            "Finland",
            "France",
            "Germany",
            "Hong Kong SAR, China",
            "India",
            "Indonesia",
            "Italy",
            "Kuwait",
            "Macao SAR, China",
            "Malaysia",
            "Mongolia",
            "New Zealand",
            "Philippines",
            "Republic of Ireland",
            "Republic of Korea",
            "Romania",
            "Russian Federation",
            "Singapore",
            "South Africa",
            "Spain",
            "Sweden",
            "Switzerland",
            "Taiwan, China",
            "Thailand",
            "United Kingdom",
            "United States",
            "Viet Nam"
           ],
           "legendgroup": "",
           "locationmode": "country names",
           "locations": [
            "Brazil",
            "Canada",
            "China",
            "Colombia",
            "Finland",
            "France",
            "Germany",
            "Hong Kong SAR, China",
            "India",
            "Indonesia",
            "Italy",
            "Kuwait",
            "Macao SAR, China",
            "Malaysia",
            "Mongolia",
            "New Zealand",
            "Philippines",
            "Republic of Ireland",
            "Republic of Korea",
            "Romania",
            "Russian Federation",
            "Singapore",
            "South Africa",
            "Spain",
            "Sweden",
            "Switzerland",
            "Taiwan, China",
            "Thailand",
            "United Kingdom",
            "United States",
            "Viet Nam"
           ],
           "marker": {
            "color": [
             3,
             243,
             5326,
             1,
             1,
             7,
             10,
             1755,
             3,
             2,
             9,
             1,
             1,
             5,
             9,
             1,
             14,
             1,
             3,
             1,
             1,
             206,
             1,
             1,
             3,
             1,
             698,
             9,
             4,
             72,
             63
            ],
            "coloraxis": "coloraxis",
            "size": [
             1.3903891703159093,
             5.196152422706631,
             13.119592583044325,
             1,
             1,
             1.792789962520997,
             1.9952623149688795,
             9.403361584977949,
             1.3903891703159093,
             1.2311444133449163,
             1.9331820449317627,
             1,
             1,
             1.6206565966927624,
             1.9331820449317627,
             1,
             2.2071833466585673,
             1,
             1.3903891703159093,
             1,
             1,
             4.944930204597636,
             1,
             1,
             1.3903891703159093,
             1,
             7.131101644447736,
             1.9331820449317627,
             1.515716566510398,
             3.6074452531358507,
             3.4657893658794796
            ],
            "sizemode": "area",
            "sizeref": 0.03280452281427571
           },
           "name": "",
           "showlegend": false,
           "type": "scattergeo"
          }
         ],
         "name": "06/16/2003"
        },
        {
         "data": [
          {
           "geo": "geo",
           "hoverlabel": {
            "namelength": 0
           },
           "hovertemplate": "<b>%{hovertext}</b><br><br>Date=06/17/2003<br>size=%{marker.size}<br>Country=%{location}<br>Confirmed=%{marker.color}",
           "hovertext": [
            "Brazil",
            "Canada",
            "China",
            "Colombia",
            "Finland",
            "France",
            "Germany",
            "Hong Kong SAR, China",
            "India",
            "Indonesia",
            "Italy",
            "Kuwait",
            "Macao SAR, China",
            "Malaysia",
            "Mongolia",
            "New Zealand",
            "Philippines",
            "Republic of Ireland",
            "Republic of Korea",
            "Romania",
            "Russian Federation",
            "Singapore",
            "South Africa",
            "Spain",
            "Sweden",
            "Switzerland",
            "Taiwan, China",
            "Thailand",
            "United Kingdom",
            "United States",
            "Viet Nam"
           ],
           "legendgroup": "",
           "locationmode": "country names",
           "locations": [
            "Brazil",
            "Canada",
            "China",
            "Colombia",
            "Finland",
            "France",
            "Germany",
            "Hong Kong SAR, China",
            "India",
            "Indonesia",
            "Italy",
            "Kuwait",
            "Macao SAR, China",
            "Malaysia",
            "Mongolia",
            "New Zealand",
            "Philippines",
            "Republic of Ireland",
            "Republic of Korea",
            "Romania",
            "Russian Federation",
            "Singapore",
            "South Africa",
            "Spain",
            "Sweden",
            "Switzerland",
            "Taiwan, China",
            "Thailand",
            "United Kingdom",
            "United States",
            "Viet Nam"
           ],
           "marker": {
            "color": [
             3,
             247,
             5326,
             1,
             1,
             7,
             10,
             1755,
             3,
             2,
             9,
             1,
             1,
             5,
             9,
             1,
             14,
             1,
             3,
             1,
             1,
             206,
             1,
             1,
             3,
             1,
             697,
             9,
             4,
             73,
             63
            ],
            "coloraxis": "coloraxis",
            "size": [
             1.3903891703159093,
             5.22166596305939,
             13.119592583044325,
             1,
             1,
             1.792789962520997,
             1.9952623149688795,
             9.403361584977949,
             1.3903891703159093,
             1.2311444133449163,
             1.9331820449317627,
             1,
             1,
             1.6206565966927624,
             1.9331820449317627,
             1,
             2.2071833466585673,
             1,
             1.3903891703159093,
             1,
             1,
             4.944930204597636,
             1,
             1,
             1.3903891703159093,
             1,
             7.128035162935908,
             1.9331820449317627,
             1.515716566510398,
             3.622403777287988,
             3.4657893658794796
            ],
            "sizemode": "area",
            "sizeref": 0.03280452281427571
           },
           "name": "",
           "showlegend": false,
           "type": "scattergeo"
          }
         ],
         "name": "06/17/2003"
        },
        {
         "data": [
          {
           "geo": "geo",
           "hoverlabel": {
            "namelength": 0
           },
           "hovertemplate": "<b>%{hovertext}</b><br><br>Date=06/18/2003<br>size=%{marker.size}<br>Country=%{location}<br>Confirmed=%{marker.color}",
           "hovertext": [
            "Brazil",
            "Canada",
            "China",
            "Colombia",
            "Finland",
            "France",
            "Germany",
            "Hong Kong SAR, China",
            "India",
            "Indonesia",
            "Italy",
            "Kuwait",
            "Macao SAR, China",
            "Malaysia",
            "Mongolia",
            "New Zealand",
            "Philippines",
            "Republic of Ireland",
            "Republic of Korea",
            "Romania",
            "Russian Federation",
            "Singapore",
            "South Africa",
            "Spain",
            "Sweden",
            "Switzerland",
            "Taiwan, China",
            "Thailand",
            "United Kingdom",
            "United States",
            "Viet Nam"
           ],
           "legendgroup": "",
           "locationmode": "country names",
           "locations": [
            "Brazil",
            "Canada",
            "China",
            "Colombia",
            "Finland",
            "France",
            "Germany",
            "Hong Kong SAR, China",
            "India",
            "Indonesia",
            "Italy",
            "Kuwait",
            "Macao SAR, China",
            "Malaysia",
            "Mongolia",
            "New Zealand",
            "Philippines",
            "Republic of Ireland",
            "Republic of Korea",
            "Romania",
            "Russian Federation",
            "Singapore",
            "South Africa",
            "Spain",
            "Sweden",
            "Switzerland",
            "Taiwan, China",
            "Thailand",
            "United Kingdom",
            "United States",
            "Viet Nam"
           ],
           "marker": {
            "color": [
             3,
             246,
             5326,
             1,
             1,
             7,
             10,
             1755,
             3,
             2,
             9,
             1,
             1,
             5,
             9,
             1,
             14,
             1,
             3,
             1,
             1,
             206,
             1,
             1,
             3,
             1,
             697,
             9,
             4,
             75,
             63
            ],
            "coloraxis": "coloraxis",
            "size": [
             1.3903891703159093,
             5.215314851189218,
             13.119592583044325,
             1,
             1,
             1.792789962520997,
             1.9952623149688795,
             9.403361584977949,
             1.3903891703159093,
             1.2311444133449163,
             1.9331820449317627,
             1,
             1,
             1.6206565966927624,
             1.9331820449317627,
             1,
             2.2071833466585673,
             1,
             1.3903891703159093,
             1,
             1,
             4.944930204597636,
             1,
             1,
             1.3903891703159093,
             1,
             7.128035162935908,
             1.9331820449317627,
             1.515716566510398,
             3.651895814776621,
             3.4657893658794796
            ],
            "sizemode": "area",
            "sizeref": 0.03280452281427571
           },
           "name": "",
           "showlegend": false,
           "type": "scattergeo"
          }
         ],
         "name": "06/18/2003"
        },
        {
         "data": [
          {
           "geo": "geo",
           "hoverlabel": {
            "namelength": 0
           },
           "hovertemplate": "<b>%{hovertext}</b><br><br>Date=06/19/2003<br>size=%{marker.size}<br>Country=%{location}<br>Confirmed=%{marker.color}",
           "hovertext": [
            "Brazil",
            "Canada",
            "China",
            "Colombia",
            "Finland",
            "France",
            "Germany",
            "Hong Kong SAR, China",
            "India",
            "Indonesia",
            "Italy",
            "Kuwait",
            "Macao SAR, China",
            "Malaysia",
            "Mongolia",
            "New Zealand",
            "Philippines",
            "Republic of Ireland",
            "Republic of Korea",
            "Romania",
            "Russian Federation",
            "Singapore",
            "South Africa",
            "Spain",
            "Sweden",
            "Switzerland",
            "Taiwan, China",
            "Thailand",
            "United Kingdom",
            "United States",
            "Viet Nam"
           ],
           "legendgroup": "",
           "locationmode": "country names",
           "locations": [
            "Brazil",
            "Canada",
            "China",
            "Colombia",
            "Finland",
            "France",
            "Germany",
            "Hong Kong SAR, China",
            "India",
            "Indonesia",
            "Italy",
            "Kuwait",
            "Macao SAR, China",
            "Malaysia",
            "Mongolia",
            "New Zealand",
            "Philippines",
            "Republic of Ireland",
            "Republic of Korea",
            "Romania",
            "Russian Federation",
            "Singapore",
            "South Africa",
            "Spain",
            "Sweden",
            "Switzerland",
            "Taiwan, China",
            "Thailand",
            "United Kingdom",
            "United States",
            "Viet Nam"
           ],
           "marker": {
            "color": [
             3,
             245,
             5326,
             1,
             1,
             7,
             10,
             1755,
             3,
             2,
             9,
             1,
             1,
             5,
             9,
             1,
             14,
             1,
             3,
             1,
             1,
             206,
             1,
             1,
             3,
             1,
             695,
             9,
             4,
             75,
             63
            ],
            "coloraxis": "coloraxis",
            "size": [
             1.3903891703159093,
             5.208945641245127,
             13.119592583044325,
             1,
             1,
             1.792789962520997,
             1.9952623149688795,
             9.403361584977949,
             1.3903891703159093,
             1.2311444133449163,
             1.9331820449317627,
             1,
             1,
             1.6206565966927624,
             1.9331820449317627,
             1,
             2.2071833466585673,
             1,
             1.3903891703159093,
             1,
             1,
             4.944930204597636,
             1,
             1,
             1.3903891703159093,
             1,
             7.121892948696807,
             1.9331820449317627,
             1.515716566510398,
             3.651895814776621,
             3.4657893658794796
            ],
            "sizemode": "area",
            "sizeref": 0.03280452281427571
           },
           "name": "",
           "showlegend": false,
           "type": "scattergeo"
          }
         ],
         "name": "06/19/2003"
        },
        {
         "data": [
          {
           "geo": "geo",
           "hoverlabel": {
            "namelength": 0
           },
           "hovertemplate": "<b>%{hovertext}</b><br><br>Date=06/20/2003<br>size=%{marker.size}<br>Country=%{location}<br>Confirmed=%{marker.color}",
           "hovertext": [
            "Brazil",
            "Canada",
            "China",
            "Colombia",
            "Finland",
            "France",
            "Germany",
            "Hong Kong SAR, China",
            "India",
            "Indonesia",
            "Italy",
            "Kuwait",
            "Macao SAR, China",
            "Malaysia",
            "Mongolia",
            "New Zealand",
            "Philippines",
            "Republic of Ireland",
            "Republic of Korea",
            "Romania",
            "Russian Federation",
            "Singapore",
            "South Africa",
            "Spain",
            "Sweden",
            "Switzerland",
            "Taiwan, China",
            "Thailand",
            "United Kingdom",
            "United States",
            "Viet Nam"
           ],
           "legendgroup": "",
           "locationmode": "country names",
           "locations": [
            "Brazil",
            "Canada",
            "China",
            "Colombia",
            "Finland",
            "France",
            "Germany",
            "Hong Kong SAR, China",
            "India",
            "Indonesia",
            "Italy",
            "Kuwait",
            "Macao SAR, China",
            "Malaysia",
            "Mongolia",
            "New Zealand",
            "Philippines",
            "Republic of Ireland",
            "Republic of Korea",
            "Romania",
            "Russian Federation",
            "Singapore",
            "South Africa",
            "Spain",
            "Sweden",
            "Switzerland",
            "Taiwan, China",
            "Thailand",
            "United Kingdom",
            "United States",
            "Viet Nam"
           ],
           "marker": {
            "color": [
             3,
             245,
             5326,
             1,
             1,
             7,
             10,
             1755,
             3,
             2,
             9,
             1,
             1,
             5,
             9,
             1,
             14,
             1,
             3,
             1,
             1,
             206,
             1,
             1,
             3,
             1,
             695,
             9,
             4,
             74,
             63
            ],
            "coloraxis": "coloraxis",
            "size": [
             1.3903891703159093,
             5.208945641245127,
             13.119592583044325,
             1,
             1,
             1.792789962520997,
             1.9952623149688795,
             9.403361584977949,
             1.3903891703159093,
             1.2311444133449163,
             1.9331820449317627,
             1,
             1,
             1.6206565966927624,
             1.9331820449317627,
             1,
             2.2071833466585673,
             1,
             1.3903891703159093,
             1,
             1,
             4.944930204597636,
             1,
             1,
             1.3903891703159093,
             1,
             7.121892948696807,
             1.9331820449317627,
             1.515716566510398,
             3.6372195430613803,
             3.4657893658794796
            ],
            "sizemode": "area",
            "sizeref": 0.03280452281427571
           },
           "name": "",
           "showlegend": false,
           "type": "scattergeo"
          }
         ],
         "name": "06/20/2003"
        },
        {
         "data": [
          {
           "geo": "geo",
           "hoverlabel": {
            "namelength": 0
           },
           "hovertemplate": "<b>%{hovertext}</b><br><br>Date=06/23/2003<br>size=%{marker.size}<br>Country=%{location}<br>Confirmed=%{marker.color}",
           "hovertext": [
            "Brazil",
            "Canada",
            "China",
            "Colombia",
            "Finland",
            "France",
            "Germany",
            "Hong Kong SAR, China",
            "India",
            "Indonesia",
            "Italy",
            "Kuwait",
            "Macao SAR, China",
            "Malaysia",
            "Mongolia",
            "New Zealand",
            "Philippines",
            "Republic of Ireland",
            "Republic of Korea",
            "Romania",
            "Russian Federation",
            "Singapore",
            "South Africa",
            "Spain",
            "Sweden",
            "Switzerland",
            "Taiwan, China",
            "Thailand",
            "United Kingdom",
            "United States",
            "Viet Nam"
           ],
           "legendgroup": "",
           "locationmode": "country names",
           "locations": [
            "Brazil",
            "Canada",
            "China",
            "Colombia",
            "Finland",
            "France",
            "Germany",
            "Hong Kong SAR, China",
            "India",
            "Indonesia",
            "Italy",
            "Kuwait",
            "Macao SAR, China",
            "Malaysia",
            "Mongolia",
            "New Zealand",
            "Philippines",
            "Republic of Ireland",
            "Republic of Korea",
            "Romania",
            "Russian Federation",
            "Singapore",
            "South Africa",
            "Spain",
            "Sweden",
            "Switzerland",
            "Taiwan, China",
            "Thailand",
            "United Kingdom",
            "United States",
            "Viet Nam"
           ],
           "marker": {
            "color": [
             3,
             246,
             5326,
             1,
             1,
             7,
             10,
             1755,
             3,
             2,
             9,
             1,
             1,
             5,
             9,
             1,
             14,
             1,
             3,
             1,
             1,
             206,
             1,
             1,
             3,
             1,
             692,
             9,
             4,
             74,
             63
            ],
            "coloraxis": "coloraxis",
            "size": [
             1.3903891703159093,
             5.215314851189218,
             13.119592583044325,
             1,
             1,
             1.792789962520997,
             1.9952623149688795,
             9.403361584977949,
             1.3903891703159093,
             1.2311444133449163,
             1.9331820449317627,
             1,
             1,
             1.6206565966927624,
             1.9331820449317627,
             1,
             2.2071833466585673,
             1,
             1.3903891703159093,
             1,
             1,
             4.944930204597636,
             1,
             1,
             1.3903891703159093,
             1,
             7.112656385912897,
             1.9331820449317627,
             1.515716566510398,
             3.6372195430613803,
             3.4657893658794796
            ],
            "sizemode": "area",
            "sizeref": 0.03280452281427571
           },
           "name": "",
           "showlegend": false,
           "type": "scattergeo"
          }
         ],
         "name": "06/23/2003"
        },
        {
         "data": [
          {
           "geo": "geo",
           "hoverlabel": {
            "namelength": 0
           },
           "hovertemplate": "<b>%{hovertext}</b><br><br>Date=06/24/2003<br>size=%{marker.size}<br>Country=%{location}<br>Confirmed=%{marker.color}",
           "hovertext": [
            "Brazil",
            "Canada",
            "China",
            "Colombia",
            "Finland",
            "France",
            "Germany",
            "Hong Kong SAR, China",
            "India",
            "Indonesia",
            "Italy",
            "Kuwait",
            "Macao SAR, China",
            "Malaysia",
            "Mongolia",
            "New Zealand",
            "Philippines",
            "Republic of Ireland",
            "Republic of Korea",
            "Romania",
            "Russian Federation",
            "Singapore",
            "South Africa",
            "Spain",
            "Sweden",
            "Switzerland",
            "Taiwan, China",
            "Thailand",
            "United Kingdom",
            "United States",
            "Viet Nam"
           ],
           "legendgroup": "",
           "locationmode": "country names",
           "locations": [
            "Brazil",
            "Canada",
            "China",
            "Colombia",
            "Finland",
            "France",
            "Germany",
            "Hong Kong SAR, China",
            "India",
            "Indonesia",
            "Italy",
            "Kuwait",
            "Macao SAR, China",
            "Malaysia",
            "Mongolia",
            "New Zealand",
            "Philippines",
            "Republic of Ireland",
            "Republic of Korea",
            "Romania",
            "Russian Federation",
            "Singapore",
            "South Africa",
            "Spain",
            "Sweden",
            "Switzerland",
            "Taiwan, China",
            "Thailand",
            "United Kingdom",
            "United States",
            "Viet Nam"
           ],
           "marker": {
            "color": [
             3,
             249,
             5326,
             1,
             1,
             7,
             10,
             1755,
             3,
             2,
             9,
             1,
             1,
             5,
             9,
             1,
             14,
             1,
             3,
             1,
             1,
             206,
             1,
             1,
             3,
             1,
             687,
             9,
             4,
             75,
             63
            ],
            "coloraxis": "coloraxis",
            "size": [
             1.3903891703159093,
             5.2343143887696115,
             13.119592583044325,
             1,
             1,
             1.792789962520997,
             1.9952623149688795,
             9.403361584977949,
             1.3903891703159093,
             1.2311444133449163,
             1.9331820449317627,
             1,
             1,
             1.6206565966927624,
             1.9331820449317627,
             1,
             2.2071833466585673,
             1,
             1.3903891703159093,
             1,
             1,
             4.944930204597636,
             1,
             1,
             1.3903891703159093,
             1,
             7.0971996281025955,
             1.9331820449317627,
             1.515716566510398,
             3.651895814776621,
             3.4657893658794796
            ],
            "sizemode": "area",
            "sizeref": 0.03280452281427571
           },
           "name": "",
           "showlegend": false,
           "type": "scattergeo"
          }
         ],
         "name": "06/24/2003"
        },
        {
         "data": [
          {
           "geo": "geo",
           "hoverlabel": {
            "namelength": 0
           },
           "hovertemplate": "<b>%{hovertext}</b><br><br>Date=06/25/2003<br>size=%{marker.size}<br>Country=%{location}<br>Confirmed=%{marker.color}",
           "hovertext": [
            "Brazil",
            "Canada",
            "China",
            "Colombia",
            "Finland",
            "France",
            "Germany",
            "Hong Kong SAR, China",
            "India",
            "Indonesia",
            "Italy",
            "Japan",
            "Kuwait",
            "Macao SAR, China",
            "Malaysia",
            "Mongolia",
            "New Zealand",
            "Philippines",
            "Republic of Ireland",
            "Republic of Korea",
            "Romania",
            "Russian Federation",
            "Singapore",
            "South Africa",
            "Spain",
            "Sweden",
            "Switzerland",
            "Taiwan, China",
            "Thailand",
            "United Kingdom",
            "United States",
            "Viet Nam"
           ],
           "legendgroup": "",
           "locationmode": "country names",
           "locations": [
            "Brazil",
            "Canada",
            "China",
            "Colombia",
            "Finland",
            "France",
            "Germany",
            "Hong Kong SAR, China",
            "India",
            "Indonesia",
            "Italy",
            "Japan",
            "Kuwait",
            "Macao SAR, China",
            "Malaysia",
            "Mongolia",
            "New Zealand",
            "Philippines",
            "Republic of Ireland",
            "Republic of Korea",
            "Romania",
            "Russian Federation",
            "Singapore",
            "South Africa",
            "Spain",
            "Sweden",
            "Switzerland",
            "Taiwan, China",
            "Thailand",
            "United Kingdom",
            "United States",
            "Viet Nam"
           ],
           "marker": {
            "color": [
             3,
             250,
             5327,
             1,
             1,
             7,
             10,
             1755,
             3,
             2,
             9,
             1,
             1,
             1,
             5,
             9,
             1,
             14,
             1,
             3,
             1,
             1,
             206,
             1,
             1,
             3,
             1,
             686,
             9,
             4,
             75,
             63
            ],
            "coloraxis": "coloraxis",
            "size": [
             1.3903891703159093,
             5.240611947344789,
             13.120331527684732,
             1,
             1,
             1.792789962520997,
             1.9952623149688795,
             9.403361584977949,
             1.3903891703159093,
             1.2311444133449163,
             1.9331820449317627,
             1,
             1,
             1,
             1.6206565966927624,
             1.9331820449317627,
             1,
             2.2071833466585673,
             1,
             1.3903891703159093,
             1,
             1,
             4.944930204597636,
             1,
             1,
             1.3903891703159093,
             1,
             7.094098834057658,
             1.9331820449317627,
             1.515716566510398,
             3.651895814776621,
             3.4657893658794796
            ],
            "sizemode": "area",
            "sizeref": 0.03280452281427571
           },
           "name": "",
           "showlegend": false,
           "type": "scattergeo"
          }
         ],
         "name": "06/25/2003"
        },
        {
         "data": [
          {
           "geo": "geo",
           "hoverlabel": {
            "namelength": 0
           },
           "hovertemplate": "<b>%{hovertext}</b><br><br>Date=06/26/2003<br>size=%{marker.size}<br>Country=%{location}<br>Confirmed=%{marker.color}",
           "hovertext": [
            "Brazil",
            "Canada",
            "China",
            "Colombia",
            "Finland",
            "France",
            "Germany",
            "Hong Kong SAR, China",
            "India",
            "Indonesia",
            "Italy",
            "Japan",
            "Kuwait",
            "Macao SAR, China",
            "Malaysia",
            "Mongolia",
            "New Zealand",
            "Philippines",
            "Republic of Ireland",
            "Republic of Korea",
            "Romania",
            "Russian Federation",
            "Singapore",
            "South Africa",
            "Spain",
            "Sweden",
            "Switzerland",
            "Taiwan, China",
            "Thailand",
            "United Kingdom",
            "United States",
            "Viet Nam"
           ],
           "legendgroup": "",
           "locationmode": "country names",
           "locations": [
            "Brazil",
            "Canada",
            "China",
            "Colombia",
            "Finland",
            "France",
            "Germany",
            "Hong Kong SAR, China",
            "India",
            "Indonesia",
            "Italy",
            "Japan",
            "Kuwait",
            "Macao SAR, China",
            "Malaysia",
            "Mongolia",
            "New Zealand",
            "Philippines",
            "Republic of Ireland",
            "Republic of Korea",
            "Romania",
            "Russian Federation",
            "Singapore",
            "South Africa",
            "Spain",
            "Sweden",
            "Switzerland",
            "Taiwan, China",
            "Thailand",
            "United Kingdom",
            "United States",
            "Viet Nam"
           ],
           "marker": {
            "color": [
             3,
             251,
             5327,
             1,
             1,
             7,
             10,
             1755,
             3,
             2,
             9,
             1,
             1,
             1,
             5,
             9,
             1,
             14,
             1,
             3,
             1,
             1,
             206,
             1,
             1,
             3,
             1,
             682,
             9,
             4,
             74,
             63
            ],
            "coloraxis": "coloraxis",
            "size": [
             1.3903891703159093,
             5.2468918973560585,
             13.120331527684732,
             1,
             1,
             1.792789962520997,
             1.9952623149688795,
             9.403361584977949,
             1.3903891703159093,
             1.2311444133449163,
             1.9331820449317627,
             1,
             1,
             1,
             1.6206565966927624,
             1.9331820449317627,
             1,
             2.2071833466585673,
             1,
             1.3903891703159093,
             1,
             1,
             4.944930204597636,
             1,
             1,
             1.3903891703159093,
             1,
             7.081663922198253,
             1.9331820449317627,
             1.515716566510398,
             3.6372195430613803,
             3.4657893658794796
            ],
            "sizemode": "area",
            "sizeref": 0.03280452281427571
           },
           "name": "",
           "showlegend": false,
           "type": "scattergeo"
          }
         ],
         "name": "06/26/2003"
        },
        {
         "data": [
          {
           "geo": "geo",
           "hoverlabel": {
            "namelength": 0
           },
           "hovertemplate": "<b>%{hovertext}</b><br><br>Date=06/27/2003<br>size=%{marker.size}<br>Country=%{location}<br>Confirmed=%{marker.color}",
           "hovertext": [
            "Brazil",
            "Canada",
            "China",
            "Colombia",
            "Finland",
            "France",
            "Germany",
            "Hong Kong SAR, China",
            "India",
            "Indonesia",
            "Italy",
            "Kuwait",
            "Macao SAR, China",
            "Malaysia",
            "Mongolia",
            "New Zealand",
            "Philippines",
            "Republic of Ireland",
            "Republic of Korea",
            "Romania",
            "Russian Federation",
            "Singapore",
            "South Africa",
            "Spain",
            "Sweden",
            "Switzerland",
            "Taiwan, China",
            "Thailand",
            "United Kingdom",
            "United States",
            "Viet Nam"
           ],
           "legendgroup": "",
           "locationmode": "country names",
           "locations": [
            "Brazil",
            "Canada",
            "China",
            "Colombia",
            "Finland",
            "France",
            "Germany",
            "Hong Kong SAR, China",
            "India",
            "Indonesia",
            "Italy",
            "Kuwait",
            "Macao SAR, China",
            "Malaysia",
            "Mongolia",
            "New Zealand",
            "Philippines",
            "Republic of Ireland",
            "Republic of Korea",
            "Romania",
            "Russian Federation",
            "Singapore",
            "South Africa",
            "Spain",
            "Sweden",
            "Switzerland",
            "Taiwan, China",
            "Thailand",
            "United Kingdom",
            "United States",
            "Viet Nam"
           ],
           "marker": {
            "color": [
             3,
             251,
             5327,
             1,
             1,
             7,
             10,
             1755,
             3,
             2,
             5,
             1,
             1,
             5,
             9,
             1,
             14,
             1,
             3,
             1,
             1,
             206,
             1,
             1,
             3,
             1,
             681,
             9,
             4,
             74,
             63
            ],
            "coloraxis": "coloraxis",
            "size": [
             1.3903891703159093,
             5.2468918973560585,
             13.120331527684732,
             1,
             1,
             1.792789962520997,
             1.9952623149688795,
             9.403361584977949,
             1.3903891703159093,
             1.2311444133449163,
             1.6206565966927624,
             1,
             1,
             1.6206565966927624,
             1.9331820449317627,
             1,
             2.2071833466585673,
             1,
             1.3903891703159093,
             1,
             1,
             4.944930204597636,
             1,
             1,
             1.3903891703159093,
             1,
             7.078547220777483,
             1.9331820449317627,
             1.515716566510398,
             3.6372195430613803,
             3.4657893658794796
            ],
            "sizemode": "area",
            "sizeref": 0.03280452281427571
           },
           "name": "",
           "showlegend": false,
           "type": "scattergeo"
          }
         ],
         "name": "06/27/2003"
        },
        {
         "data": [
          {
           "geo": "geo",
           "hoverlabel": {
            "namelength": 0
           },
           "hovertemplate": "<b>%{hovertext}</b><br><br>Date=06/30/2003<br>size=%{marker.size}<br>Country=%{location}<br>Confirmed=%{marker.color}",
           "hovertext": [
            "Australia",
            "Brazil",
            "Canada",
            "China",
            "Colombia",
            "Finland",
            "France",
            "Germany",
            "Hong Kong SAR, China",
            "India",
            "Indonesia",
            "Italy",
            "Kuwait",
            "Macao SAR, China",
            "Malaysia",
            "Mongolia",
            "New Zealand",
            "Philippines",
            "Republic of Ireland",
            "Republic of Korea",
            "Romania",
            "Russian Federation",
            "Singapore",
            "South Africa",
            "Spain",
            "Sweden",
            "Switzerland",
            "Taiwan, China",
            "Thailand",
            "United Kingdom",
            "United States",
            "Viet Nam"
           ],
           "legendgroup": "",
           "locationmode": "country names",
           "locations": [
            "Australia",
            "Brazil",
            "Canada",
            "China",
            "Colombia",
            "Finland",
            "France",
            "Germany",
            "Hong Kong SAR, China",
            "India",
            "Indonesia",
            "Italy",
            "Kuwait",
            "Macao SAR, China",
            "Malaysia",
            "Mongolia",
            "New Zealand",
            "Philippines",
            "Republic of Ireland",
            "Republic of Korea",
            "Romania",
            "Russian Federation",
            "Singapore",
            "South Africa",
            "Spain",
            "Sweden",
            "Switzerland",
            "Taiwan, China",
            "Thailand",
            "United Kingdom",
            "United States",
            "Viet Nam"
           ],
           "marker": {
            "color": [
             5,
             3,
             252,
             5327,
             1,
             1,
             7,
             10,
             1755,
             3,
             2,
             5,
             1,
             1,
             5,
             9,
             1,
             14,
             1,
             3,
             1,
             1,
             206,
             1,
             1,
             3,
             1,
             678,
             9,
             4,
             73,
             63
            ],
            "coloraxis": "coloraxis",
            "size": [
             1.6206565966927624,
             1.3903891703159093,
             5.253154357899095,
             13.120331527684732,
             1,
             1,
             1.792789962520997,
             1.9952623149688795,
             9.403361584977949,
             1.3903891703159093,
             1.2311444133449163,
             1.6206565966927624,
             1,
             1,
             1.6206565966927624,
             1.9331820449317627,
             1,
             2.2071833466585673,
             1,
             1.3903891703159093,
             1,
             1,
             4.944930204597636,
             1,
             1,
             1.3903891703159093,
             1,
             7.069177852574754,
             1.9331820449317627,
             1.515716566510398,
             3.622403777287988,
             3.4657893658794796
            ],
            "sizemode": "area",
            "sizeref": 0.03280452281427571
           },
           "name": "",
           "showlegend": false,
           "type": "scattergeo"
          }
         ],
         "name": "06/30/2003"
        },
        {
         "data": [
          {
           "geo": "geo",
           "hoverlabel": {
            "namelength": 0
           },
           "hovertemplate": "<b>%{hovertext}</b><br><br>Date=07/01/2003<br>size=%{marker.size}<br>Country=%{location}<br>Confirmed=%{marker.color}",
           "hovertext": [
            "Brazil",
            "Canada",
            "China",
            "Colombia",
            "Finland",
            "France",
            "Germany",
            "Hong Kong SAR, China",
            "India",
            "Indonesia",
            "Italy",
            "Kuwait",
            "Macao SAR, China",
            "Malaysia",
            "Mongolia",
            "New Zealand",
            "Philippines",
            "Republic of Ireland",
            "Republic of Korea",
            "Romania",
            "Russian Federation",
            "Singapore",
            "South Africa",
            "Spain",
            "Sweden",
            "Switzerland",
            "Taiwan, China",
            "Thailand",
            "United Kingdom",
            "United States",
            "Viet Nam"
           ],
           "legendgroup": "",
           "locationmode": "country names",
           "locations": [
            "Brazil",
            "Canada",
            "China",
            "Colombia",
            "Finland",
            "France",
            "Germany",
            "Hong Kong SAR, China",
            "India",
            "Indonesia",
            "Italy",
            "Kuwait",
            "Macao SAR, China",
            "Malaysia",
            "Mongolia",
            "New Zealand",
            "Philippines",
            "Republic of Ireland",
            "Republic of Korea",
            "Romania",
            "Russian Federation",
            "Singapore",
            "South Africa",
            "Spain",
            "Sweden",
            "Switzerland",
            "Taiwan, China",
            "Thailand",
            "United Kingdom",
            "United States",
            "Viet Nam"
           ],
           "marker": {
            "color": [
             1,
             252,
             5327,
             1,
             1,
             7,
             10,
             1755,
             3,
             2,
             5,
             1,
             1,
             5,
             9,
             1,
             14,
             1,
             3,
             1,
             1,
             206,
             1,
             1,
             3,
             1,
             678,
             9,
             4,
             73,
             63
            ],
            "coloraxis": "coloraxis",
            "size": [
             1,
             5.253154357899095,
             13.120331527684732,
             1,
             1,
             1.792789962520997,
             1.9952623149688795,
             9.403361584977949,
             1.3903891703159093,
             1.2311444133449163,
             1.6206565966927624,
             1,
             1,
             1.6206565966927624,
             1.9331820449317627,
             1,
             2.2071833466585673,
             1,
             1.3903891703159093,
             1,
             1,
             4.944930204597636,
             1,
             1,
             1.3903891703159093,
             1,
             7.069177852574754,
             1.9331820449317627,
             1.515716566510398,
             3.622403777287988,
             3.4657893658794796
            ],
            "sizemode": "area",
            "sizeref": 0.03280452281427571
           },
           "name": "",
           "showlegend": false,
           "type": "scattergeo"
          }
         ],
         "name": "07/01/2003"
        },
        {
         "data": [
          {
           "geo": "geo",
           "hoverlabel": {
            "namelength": 0
           },
           "hovertemplate": "<b>%{hovertext}</b><br><br>Date=07/02/2003<br>size=%{marker.size}<br>Country=%{location}<br>Confirmed=%{marker.color}",
           "hovertext": [
            "Brazil",
            "Canada",
            "China",
            "Colombia",
            "Finland",
            "France",
            "Germany",
            "Hong Kong SAR, China",
            "India",
            "Indonesia",
            "Italy",
            "Kuwait",
            "Macao SAR, China",
            "Malaysia",
            "Mongolia",
            "New Zealand",
            "Philippines",
            "Republic of Ireland",
            "Republic of Korea",
            "Romania",
            "Russian Federation",
            "Singapore",
            "South Africa",
            "Spain",
            "Sweden",
            "Switzerland",
            "Taiwan, China",
            "Thailand",
            "United Kingdom",
            "United States",
            "Viet Nam"
           ],
           "legendgroup": "",
           "locationmode": "country names",
           "locations": [
            "Brazil",
            "Canada",
            "China",
            "Colombia",
            "Finland",
            "France",
            "Germany",
            "Hong Kong SAR, China",
            "India",
            "Indonesia",
            "Italy",
            "Kuwait",
            "Macao SAR, China",
            "Malaysia",
            "Mongolia",
            "New Zealand",
            "Philippines",
            "Republic of Ireland",
            "Republic of Korea",
            "Romania",
            "Russian Federation",
            "Singapore",
            "South Africa",
            "Spain",
            "Sweden",
            "Switzerland",
            "Taiwan, China",
            "Thailand",
            "United Kingdom",
            "United States",
            "Viet Nam"
           ],
           "marker": {
            "color": [
             1,
             252,
             5327,
             1,
             1,
             7,
             10,
             1755,
             3,
             2,
             4,
             1,
             1,
             5,
             9,
             1,
             14,
             1,
             3,
             1,
             1,
             206,
             1,
             1,
             3,
             1,
             676,
             9,
             4,
             73,
             63
            ],
            "coloraxis": "coloraxis",
            "size": [
             1,
             5.253154357899095,
             13.120331527684732,
             1,
             1,
             1.792789962520997,
             1.9952623149688795,
             9.403361584977949,
             1.3903891703159093,
             1.2311444133449163,
             1.515716566510398,
             1,
             1,
             1.6206565966927624,
             1.9331820449317627,
             1,
             2.2071833466585673,
             1,
             1.3903891703159093,
             1,
             1,
             4.944930204597636,
             1,
             1,
             1.3903891703159093,
             1,
             7.062915473248845,
             1.9331820449317627,
             1.515716566510398,
             3.622403777287988,
             3.4657893658794796
            ],
            "sizemode": "area",
            "sizeref": 0.03280452281427571
           },
           "name": "",
           "showlegend": false,
           "type": "scattergeo"
          }
         ],
         "name": "07/02/2003"
        },
        {
         "data": [
          {
           "geo": "geo",
           "hoverlabel": {
            "namelength": 0
           },
           "hovertemplate": "<b>%{hovertext}</b><br><br>Date=07/03/2003<br>size=%{marker.size}<br>Country=%{location}<br>Confirmed=%{marker.color}",
           "hovertext": [
            "Brazil",
            "Canada",
            "China",
            "Colombia",
            "Finland",
            "France",
            "Germany",
            "Hong Kong SAR, China",
            "India",
            "Indonesia",
            "Italy",
            "Kuwait",
            "Macao SAR, China",
            "Malaysia",
            "Mongolia",
            "New Zealand",
            "Philippines",
            "Republic of Ireland",
            "Republic of Korea",
            "Romania",
            "Russian Federation",
            "Singapore",
            "South Africa",
            "Spain",
            "Sweden",
            "Switzerland",
            "Taiwan, China",
            "Thailand",
            "United Kingdom",
            "United States",
            "Viet Nam"
           ],
           "legendgroup": "",
           "locationmode": "country names",
           "locations": [
            "Brazil",
            "Canada",
            "China",
            "Colombia",
            "Finland",
            "France",
            "Germany",
            "Hong Kong SAR, China",
            "India",
            "Indonesia",
            "Italy",
            "Kuwait",
            "Macao SAR, China",
            "Malaysia",
            "Mongolia",
            "New Zealand",
            "Philippines",
            "Republic of Ireland",
            "Republic of Korea",
            "Romania",
            "Russian Federation",
            "Singapore",
            "South Africa",
            "Spain",
            "Sweden",
            "Switzerland",
            "Taiwan, China",
            "Thailand",
            "United Kingdom",
            "United States",
            "Viet Nam"
           ],
           "marker": {
            "color": [
             1,
             251,
             5327,
             1,
             1,
             7,
             10,
             1755,
             3,
             2,
             4,
             1,
             1,
             5,
             9,
             1,
             14,
             1,
             3,
             1,
             1,
             206,
             1,
             1,
             3,
             1,
             674,
             9,
             4,
             73,
             63
            ],
            "coloraxis": "coloraxis",
            "size": [
             1,
             5.2468918973560585,
             13.120331527684732,
             1,
             1,
             1.792789962520997,
             1.9952623149688795,
             9.403361584977949,
             1.3903891703159093,
             1.2311444133449163,
             1.515716566510398,
             1,
             1,
             1.6206565966927624,
             1.9331820449317627,
             1,
             2.2071833466585673,
             1,
             1.3903891703159093,
             1,
             1,
             4.944930204597636,
             1,
             1,
             1.3903891703159093,
             1,
             7.0566401110335475,
             1.9331820449317627,
             1.515716566510398,
             3.622403777287988,
             3.4657893658794796
            ],
            "sizemode": "area",
            "sizeref": 0.03280452281427571
           },
           "name": "",
           "showlegend": false,
           "type": "scattergeo"
          }
         ],
         "name": "07/03/2003"
        },
        {
         "data": [
          {
           "geo": "geo",
           "hoverlabel": {
            "namelength": 0
           },
           "hovertemplate": "<b>%{hovertext}</b><br><br>Date=07/04/2003<br>size=%{marker.size}<br>Country=%{location}<br>Confirmed=%{marker.color}",
           "hovertext": [
            "Brazil",
            "Canada",
            "China",
            "Colombia",
            "Finland",
            "France",
            "Germany",
            "Hong Kong SAR, China",
            "India",
            "Indonesia",
            "Italy",
            "Kuwait",
            "Macao SAR, China",
            "Malaysia",
            "Mongolia",
            "New Zealand",
            "Philippines",
            "Republic of Ireland",
            "Republic of Korea",
            "Romania",
            "Russian Federation",
            "Singapore",
            "South Africa",
            "Spain",
            "Sweden",
            "Switzerland",
            "Taiwan, China",
            "Thailand",
            "United Kingdom",
            "United States",
            "Viet Nam"
           ],
           "legendgroup": "",
           "locationmode": "country names",
           "locations": [
            "Brazil",
            "Canada",
            "China",
            "Colombia",
            "Finland",
            "France",
            "Germany",
            "Hong Kong SAR, China",
            "India",
            "Indonesia",
            "Italy",
            "Kuwait",
            "Macao SAR, China",
            "Malaysia",
            "Mongolia",
            "New Zealand",
            "Philippines",
            "Republic of Ireland",
            "Republic of Korea",
            "Romania",
            "Russian Federation",
            "Singapore",
            "South Africa",
            "Spain",
            "Sweden",
            "Switzerland",
            "Taiwan, China",
            "Thailand",
            "United Kingdom",
            "United States",
            "Viet Nam"
           ],
           "marker": {
            "color": [
             1,
             251,
             5327,
             1,
             1,
             7,
             10,
             1755,
             3,
             2,
             4,
             1,
             1,
             5,
             9,
             1,
             14,
             1,
             3,
             1,
             1,
             206,
             1,
             1,
             3,
             1,
             674,
             9,
             4,
             73,
             63
            ],
            "coloraxis": "coloraxis",
            "size": [
             1,
             5.2468918973560585,
             13.120331527684732,
             1,
             1,
             1.792789962520997,
             1.9952623149688795,
             9.403361584977949,
             1.3903891703159093,
             1.2311444133449163,
             1.515716566510398,
             1,
             1,
             1.6206565966927624,
             1.9331820449317627,
             1,
             2.2071833466585673,
             1,
             1.3903891703159093,
             1,
             1,
             4.944930204597636,
             1,
             1,
             1.3903891703159093,
             1,
             7.0566401110335475,
             1.9331820449317627,
             1.515716566510398,
             3.622403777287988,
             3.4657893658794796
            ],
            "sizemode": "area",
            "sizeref": 0.03280452281427571
           },
           "name": "",
           "showlegend": false,
           "type": "scattergeo"
          }
         ],
         "name": "07/04/2003"
        },
        {
         "data": [
          {
           "geo": "geo",
           "hoverlabel": {
            "namelength": 0
           },
           "hovertemplate": "<b>%{hovertext}</b><br><br>Date=07/07/2003<br>size=%{marker.size}<br>Country=%{location}<br>Confirmed=%{marker.color}",
           "hovertext": [
            "Brazil",
            "Canada",
            "China",
            "Colombia",
            "Finland",
            "France",
            "Germany",
            "Hong Kong SAR, China",
            "India",
            "Indonesia",
            "Italy",
            "Kuwait",
            "Macao SAR, China",
            "Malaysia",
            "Mongolia",
            "New Zealand",
            "Philippines",
            "Republic of Ireland",
            "Republic of Korea",
            "Romania",
            "Russian Federation",
            "Singapore",
            "South Africa",
            "Spain",
            "Sweden",
            "Switzerland",
            "Taiwan, China",
            "Thailand",
            "United Kingdom",
            "United States",
            "Viet Nam"
           ],
           "legendgroup": "",
           "locationmode": "country names",
           "locations": [
            "Brazil",
            "Canada",
            "China",
            "Colombia",
            "Finland",
            "France",
            "Germany",
            "Hong Kong SAR, China",
            "India",
            "Indonesia",
            "Italy",
            "Kuwait",
            "Macao SAR, China",
            "Malaysia",
            "Mongolia",
            "New Zealand",
            "Philippines",
            "Republic of Ireland",
            "Republic of Korea",
            "Romania",
            "Russian Federation",
            "Singapore",
            "South Africa",
            "Spain",
            "Sweden",
            "Switzerland",
            "Taiwan, China",
            "Thailand",
            "United Kingdom",
            "United States",
            "Viet Nam"
           ],
           "marker": {
            "color": [
             1,
             251,
             5327,
             1,
             1,
             7,
             10,
             1755,
             3,
             2,
             4,
             1,
             1,
             5,
             9,
             1,
             14,
             1,
             3,
             1,
             1,
             206,
             1,
             1,
             3,
             1,
             674,
             9,
             4,
             73,
             63
            ],
            "coloraxis": "coloraxis",
            "size": [
             1,
             5.2468918973560585,
             13.120331527684732,
             1,
             1,
             1.792789962520997,
             1.9952623149688795,
             9.403361584977949,
             1.3903891703159093,
             1.2311444133449163,
             1.515716566510398,
             1,
             1,
             1.6206565966927624,
             1.9331820449317627,
             1,
             2.2071833466585673,
             1,
             1.3903891703159093,
             1,
             1,
             4.944930204597636,
             1,
             1,
             1.3903891703159093,
             1,
             7.0566401110335475,
             1.9331820449317627,
             1.515716566510398,
             3.622403777287988,
             3.4657893658794796
            ],
            "sizemode": "area",
            "sizeref": 0.03280452281427571
           },
           "name": "",
           "showlegend": false,
           "type": "scattergeo"
          }
         ],
         "name": "07/07/2003"
        },
        {
         "data": [
          {
           "geo": "geo",
           "hoverlabel": {
            "namelength": 0
           },
           "hovertemplate": "<b>%{hovertext}</b><br><br>Date=07/08/2003<br>size=%{marker.size}<br>Country=%{location}<br>Confirmed=%{marker.color}",
           "hovertext": [
            "Brazil",
            "Canada",
            "China",
            "Colombia",
            "Finland",
            "France",
            "Germany",
            "Hong Kong SAR, China",
            "India",
            "Indonesia",
            "Italy",
            "Kuwait",
            "Macao SAR, China",
            "Malaysia",
            "Mongolia",
            "New Zealand",
            "Philippines",
            "Republic of Ireland",
            "Republic of Korea",
            "Romania",
            "Russian Federation",
            "Singapore",
            "South Africa",
            "Spain",
            "Sweden",
            "Switzerland",
            "Taiwan, China",
            "Thailand",
            "United Kingdom",
            "United States",
            "Viet Nam"
           ],
           "legendgroup": "",
           "locationmode": "country names",
           "locations": [
            "Brazil",
            "Canada",
            "China",
            "Colombia",
            "Finland",
            "France",
            "Germany",
            "Hong Kong SAR, China",
            "India",
            "Indonesia",
            "Italy",
            "Kuwait",
            "Macao SAR, China",
            "Malaysia",
            "Mongolia",
            "New Zealand",
            "Philippines",
            "Republic of Ireland",
            "Republic of Korea",
            "Romania",
            "Russian Federation",
            "Singapore",
            "South Africa",
            "Spain",
            "Sweden",
            "Switzerland",
            "Taiwan, China",
            "Thailand",
            "United Kingdom",
            "United States",
            "Viet Nam"
           ],
           "marker": {
            "color": [
             1,
             250,
             5327,
             1,
             1,
             7,
             10,
             1755,
             3,
             2,
             4,
             1,
             1,
             5,
             9,
             1,
             14,
             1,
             3,
             1,
             1,
             206,
             1,
             1,
             3,
             1,
             671,
             9,
             4,
             74,
             63
            ],
            "coloraxis": "coloraxis",
            "size": [
             1,
             5.240611947344789,
             13.120331527684732,
             1,
             1,
             1.792789962520997,
             1.9952623149688795,
             9.403361584977949,
             1.3903891703159093,
             1.2311444133449163,
             1.515716566510398,
             1,
             1,
             1.6206565966927624,
             1.9331820449317627,
             1,
             2.2071833466585673,
             1,
             1.3903891703159093,
             1,
             1,
             4.944930204597636,
             1,
             1,
             1.3903891703159093,
             1,
             7.047202581235186,
             1.9331820449317627,
             1.515716566510398,
             3.6372195430613803,
             3.4657893658794796
            ],
            "sizemode": "area",
            "sizeref": 0.03280452281427571
           },
           "name": "",
           "showlegend": false,
           "type": "scattergeo"
          }
         ],
         "name": "07/08/2003"
        },
        {
         "data": [
          {
           "geo": "geo",
           "hoverlabel": {
            "namelength": 0
           },
           "hovertemplate": "<b>%{hovertext}</b><br><br>Date=07/09/2003<br>size=%{marker.size}<br>Country=%{location}<br>Confirmed=%{marker.color}",
           "hovertext": [
            "Brazil",
            "Canada",
            "China",
            "Colombia",
            "Finland",
            "France",
            "Germany",
            "Hong Kong SAR, China",
            "India",
            "Indonesia",
            "Italy",
            "Kuwait",
            "Macao SAR, China",
            "Malaysia",
            "Mongolia",
            "New Zealand",
            "Philippines",
            "Republic of Ireland",
            "Republic of Korea",
            "Romania",
            "Russian Federation",
            "Singapore",
            "South Africa",
            "Spain",
            "Sweden",
            "Switzerland",
            "Taiwan, China",
            "Thailand",
            "United Kingdom",
            "United States",
            "Viet Nam"
           ],
           "legendgroup": "",
           "locationmode": "country names",
           "locations": [
            "Brazil",
            "Canada",
            "China",
            "Colombia",
            "Finland",
            "France",
            "Germany",
            "Hong Kong SAR, China",
            "India",
            "Indonesia",
            "Italy",
            "Kuwait",
            "Macao SAR, China",
            "Malaysia",
            "Mongolia",
            "New Zealand",
            "Philippines",
            "Republic of Ireland",
            "Republic of Korea",
            "Romania",
            "Russian Federation",
            "Singapore",
            "South Africa",
            "Spain",
            "Sweden",
            "Switzerland",
            "Taiwan, China",
            "Thailand",
            "United Kingdom",
            "United States",
            "Viet Nam"
           ],
           "marker": {
            "color": [
             1,
             249,
             5327,
             1,
             1,
             7,
             10,
             1755,
             3,
             2,
             4,
             1,
             1,
             5,
             9,
             1,
             14,
             1,
             3,
             1,
             1,
             206,
             1,
             1,
             3,
             1,
             671,
             9,
             4,
             75,
             63
            ],
            "coloraxis": "coloraxis",
            "size": [
             1,
             5.2343143887696115,
             13.120331527684732,
             1,
             1,
             1.792789962520997,
             1.9952623149688795,
             9.403361584977949,
             1.3903891703159093,
             1.2311444133449163,
             1.515716566510398,
             1,
             1,
             1.6206565966927624,
             1.9331820449317627,
             1,
             2.2071833466585673,
             1,
             1.3903891703159093,
             1,
             1,
             4.944930204597636,
             1,
             1,
             1.3903891703159093,
             1,
             7.047202581235186,
             1.9331820449317627,
             1.515716566510398,
             3.651895814776621,
             3.4657893658794796
            ],
            "sizemode": "area",
            "sizeref": 0.03280452281427571
           },
           "name": "",
           "showlegend": false,
           "type": "scattergeo"
          }
         ],
         "name": "07/09/2003"
        },
        {
         "data": [
          {
           "geo": "geo",
           "hoverlabel": {
            "namelength": 0
           },
           "hovertemplate": "<b>%{hovertext}</b><br><br>Date=07/10/2003<br>size=%{marker.size}<br>Country=%{location}<br>Confirmed=%{marker.color}",
           "hovertext": [
            "Brazil",
            "Canada",
            "China",
            "Colombia",
            "Finland",
            "France",
            "Germany",
            "Hong Kong SAR, China",
            "India",
            "Indonesia",
            "Italy",
            "Kuwait",
            "Macao SAR, China",
            "Malaysia",
            "Mongolia",
            "New Zealand",
            "Philippines",
            "Republic of Ireland",
            "Republic of Korea",
            "Romania",
            "Russian Federation",
            "Singapore",
            "South Africa",
            "Spain",
            "Sweden",
            "Switzerland",
            "Taiwan, China",
            "Thailand",
            "United Kingdom",
            "United States",
            "Viet Nam"
           ],
           "legendgroup": "",
           "locationmode": "country names",
           "locations": [
            "Brazil",
            "Canada",
            "China",
            "Colombia",
            "Finland",
            "France",
            "Germany",
            "Hong Kong SAR, China",
            "India",
            "Indonesia",
            "Italy",
            "Kuwait",
            "Macao SAR, China",
            "Malaysia",
            "Mongolia",
            "New Zealand",
            "Philippines",
            "Republic of Ireland",
            "Republic of Korea",
            "Romania",
            "Russian Federation",
            "Singapore",
            "South Africa",
            "Spain",
            "Sweden",
            "Switzerland",
            "Taiwan, China",
            "Thailand",
            "United Kingdom",
            "United States",
            "Viet Nam"
           ],
           "marker": {
            "color": [
             1,
             250,
             5327,
             1,
             1,
             7,
             10,
             1755,
             3,
             2,
             4,
             1,
             1,
             5,
             9,
             1,
             14,
             1,
             3,
             1,
             1,
             206,
             1,
             1,
             3,
             1,
             671,
             9,
             4,
             75,
             63
            ],
            "coloraxis": "coloraxis",
            "size": [
             1,
             5.240611947344789,
             13.120331527684732,
             1,
             1,
             1.792789962520997,
             1.9952623149688795,
             9.403361584977949,
             1.3903891703159093,
             1.2311444133449163,
             1.515716566510398,
             1,
             1,
             1.6206565966927624,
             1.9331820449317627,
             1,
             2.2071833466585673,
             1,
             1.3903891703159093,
             1,
             1,
             4.944930204597636,
             1,
             1,
             1.3903891703159093,
             1,
             7.047202581235186,
             1.9331820449317627,
             1.515716566510398,
             3.651895814776621,
             3.4657893658794796
            ],
            "sizemode": "area",
            "sizeref": 0.03280452281427571
           },
           "name": "",
           "showlegend": false,
           "type": "scattergeo"
          }
         ],
         "name": "07/10/2003"
        },
        {
         "data": [
          {
           "geo": "geo",
           "hoverlabel": {
            "namelength": 0
           },
           "hovertemplate": "<b>%{hovertext}</b><br><br>Date=07/11/2003<br>size=%{marker.size}<br>Country=%{location}<br>Confirmed=%{marker.color}",
           "hovertext": [
            "Brazil",
            "Canada",
            "China",
            "Colombia",
            "Finland",
            "France",
            "Germany",
            "Hong Kong SAR, China",
            "India",
            "Indonesia",
            "Italy",
            "Kuwait",
            "Macao SAR, China",
            "Malaysia",
            "Mongolia",
            "New Zealand",
            "Philippines",
            "Republic of Ireland",
            "Republic of Korea",
            "Romania",
            "Russian Federation",
            "Singapore",
            "South Africa",
            "Spain",
            "Sweden",
            "Switzerland",
            "Taiwan, China",
            "Thailand",
            "United Kingdom",
            "United States",
            "Viet Nam"
           ],
           "legendgroup": "",
           "locationmode": "country names",
           "locations": [
            "Brazil",
            "Canada",
            "China",
            "Colombia",
            "Finland",
            "France",
            "Germany",
            "Hong Kong SAR, China",
            "India",
            "Indonesia",
            "Italy",
            "Kuwait",
            "Macao SAR, China",
            "Malaysia",
            "Mongolia",
            "New Zealand",
            "Philippines",
            "Republic of Ireland",
            "Republic of Korea",
            "Romania",
            "Russian Federation",
            "Singapore",
            "South Africa",
            "Spain",
            "Sweden",
            "Switzerland",
            "Taiwan, China",
            "Thailand",
            "United Kingdom",
            "United States",
            "Viet Nam"
           ],
           "marker": {
            "color": [
             1,
             250,
             5327,
             1,
             1,
             7,
             10,
             1755,
             3,
             2,
             4,
             1,
             1,
             5,
             9,
             1,
             14,
             1,
             3,
             1,
             1,
             206,
             1,
             1,
             3,
             1,
             671,
             9,
             4,
             75,
             63
            ],
            "coloraxis": "coloraxis",
            "size": [
             1,
             5.240611947344789,
             13.120331527684732,
             1,
             1,
             1.792789962520997,
             1.9952623149688795,
             9.403361584977949,
             1.3903891703159093,
             1.2311444133449163,
             1.515716566510398,
             1,
             1,
             1.6206565966927624,
             1.9331820449317627,
             1,
             2.2071833466585673,
             1,
             1.3903891703159093,
             1,
             1,
             4.944930204597636,
             1,
             1,
             1.3903891703159093,
             1,
             7.047202581235186,
             1.9331820449317627,
             1.515716566510398,
             3.651895814776621,
             3.4657893658794796
            ],
            "sizemode": "area",
            "sizeref": 0.03280452281427571
           },
           "name": "",
           "showlegend": false,
           "type": "scattergeo"
          }
         ],
         "name": "07/11/2003"
        }
       ],
       "layout": {
        "coloraxis": {
         "cmax": 1500,
         "cmin": 0,
         "colorbar": {
          "title": {
           "text": "Confirmed"
          }
         },
         "colorscale": [
          [
           0,
           "rgb(12,51,131)"
          ],
          [
           0.25,
           "rgb(10,136,186)"
          ],
          [
           0.5,
           "rgb(242,211,56)"
          ],
          [
           0.75,
           "rgb(242,143,56)"
          ],
          [
           1,
           "rgb(217,30,30)"
          ]
         ]
        },
        "geo": {
         "center": {},
         "domain": {
          "x": [
           0,
           0.98
          ],
          "y": [
           0,
           1
          ]
         },
         "projection": {
          "type": "natural earth"
         }
        },
        "height": 600,
        "legend": {
         "itemsizing": "constant",
         "tracegroupgap": 0
        },
        "sliders": [
         {
          "active": 0,
          "currentvalue": {
           "prefix": "Date="
          },
          "len": 0.9,
          "pad": {
           "b": 10,
           "t": 60
          },
          "steps": [
           {
            "args": [
             [
              "03/17/2003"
             ],
             {
              "frame": {
               "duration": 0,
               "redraw": true
              },
              "fromcurrent": true,
              "mode": "immediate",
              "transition": {
               "duration": 0,
               "easing": "linear"
              }
             }
            ],
            "label": "03/17/2003",
            "method": "animate"
           },
           {
            "args": [
             [
              "03/18/2003"
             ],
             {
              "frame": {
               "duration": 0,
               "redraw": true
              },
              "fromcurrent": true,
              "mode": "immediate",
              "transition": {
               "duration": 0,
               "easing": "linear"
              }
             }
            ],
            "label": "03/18/2003",
            "method": "animate"
           },
           {
            "args": [
             [
              "03/19/2003"
             ],
             {
              "frame": {
               "duration": 0,
               "redraw": true
              },
              "fromcurrent": true,
              "mode": "immediate",
              "transition": {
               "duration": 0,
               "easing": "linear"
              }
             }
            ],
            "label": "03/19/2003",
            "method": "animate"
           },
           {
            "args": [
             [
              "03/20/2003"
             ],
             {
              "frame": {
               "duration": 0,
               "redraw": true
              },
              "fromcurrent": true,
              "mode": "immediate",
              "transition": {
               "duration": 0,
               "easing": "linear"
              }
             }
            ],
            "label": "03/20/2003",
            "method": "animate"
           },
           {
            "args": [
             [
              "03/21/2003"
             ],
             {
              "frame": {
               "duration": 0,
               "redraw": true
              },
              "fromcurrent": true,
              "mode": "immediate",
              "transition": {
               "duration": 0,
               "easing": "linear"
              }
             }
            ],
            "label": "03/21/2003",
            "method": "animate"
           },
           {
            "args": [
             [
              "03/22/2003"
             ],
             {
              "frame": {
               "duration": 0,
               "redraw": true
              },
              "fromcurrent": true,
              "mode": "immediate",
              "transition": {
               "duration": 0,
               "easing": "linear"
              }
             }
            ],
            "label": "03/22/2003",
            "method": "animate"
           },
           {
            "args": [
             [
              "03/24/2003"
             ],
             {
              "frame": {
               "duration": 0,
               "redraw": true
              },
              "fromcurrent": true,
              "mode": "immediate",
              "transition": {
               "duration": 0,
               "easing": "linear"
              }
             }
            ],
            "label": "03/24/2003",
            "method": "animate"
           },
           {
            "args": [
             [
              "03/25/2003"
             ],
             {
              "frame": {
               "duration": 0,
               "redraw": true
              },
              "fromcurrent": true,
              "mode": "immediate",
              "transition": {
               "duration": 0,
               "easing": "linear"
              }
             }
            ],
            "label": "03/25/2003",
            "method": "animate"
           },
           {
            "args": [
             [
              "03/26/2003"
             ],
             {
              "frame": {
               "duration": 0,
               "redraw": true
              },
              "fromcurrent": true,
              "mode": "immediate",
              "transition": {
               "duration": 0,
               "easing": "linear"
              }
             }
            ],
            "label": "03/26/2003",
            "method": "animate"
           },
           {
            "args": [
             [
              "03/27/2003"
             ],
             {
              "frame": {
               "duration": 0,
               "redraw": true
              },
              "fromcurrent": true,
              "mode": "immediate",
              "transition": {
               "duration": 0,
               "easing": "linear"
              }
             }
            ],
            "label": "03/27/2003",
            "method": "animate"
           },
           {
            "args": [
             [
              "03/28/2003"
             ],
             {
              "frame": {
               "duration": 0,
               "redraw": true
              },
              "fromcurrent": true,
              "mode": "immediate",
              "transition": {
               "duration": 0,
               "easing": "linear"
              }
             }
            ],
            "label": "03/28/2003",
            "method": "animate"
           },
           {
            "args": [
             [
              "03/29/2003"
             ],
             {
              "frame": {
               "duration": 0,
               "redraw": true
              },
              "fromcurrent": true,
              "mode": "immediate",
              "transition": {
               "duration": 0,
               "easing": "linear"
              }
             }
            ],
            "label": "03/29/2003",
            "method": "animate"
           },
           {
            "args": [
             [
              "03/31/2003"
             ],
             {
              "frame": {
               "duration": 0,
               "redraw": true
              },
              "fromcurrent": true,
              "mode": "immediate",
              "transition": {
               "duration": 0,
               "easing": "linear"
              }
             }
            ],
            "label": "03/31/2003",
            "method": "animate"
           },
           {
            "args": [
             [
              "04/01/2003"
             ],
             {
              "frame": {
               "duration": 0,
               "redraw": true
              },
              "fromcurrent": true,
              "mode": "immediate",
              "transition": {
               "duration": 0,
               "easing": "linear"
              }
             }
            ],
            "label": "04/01/2003",
            "method": "animate"
           },
           {
            "args": [
             [
              "04/02/2003"
             ],
             {
              "frame": {
               "duration": 0,
               "redraw": true
              },
              "fromcurrent": true,
              "mode": "immediate",
              "transition": {
               "duration": 0,
               "easing": "linear"
              }
             }
            ],
            "label": "04/02/2003",
            "method": "animate"
           },
           {
            "args": [
             [
              "04/03/2003"
             ],
             {
              "frame": {
               "duration": 0,
               "redraw": true
              },
              "fromcurrent": true,
              "mode": "immediate",
              "transition": {
               "duration": 0,
               "easing": "linear"
              }
             }
            ],
            "label": "04/03/2003",
            "method": "animate"
           },
           {
            "args": [
             [
              "04/04/2003"
             ],
             {
              "frame": {
               "duration": 0,
               "redraw": true
              },
              "fromcurrent": true,
              "mode": "immediate",
              "transition": {
               "duration": 0,
               "easing": "linear"
              }
             }
            ],
            "label": "04/04/2003",
            "method": "animate"
           },
           {
            "args": [
             [
              "04/05/2003"
             ],
             {
              "frame": {
               "duration": 0,
               "redraw": true
              },
              "fromcurrent": true,
              "mode": "immediate",
              "transition": {
               "duration": 0,
               "easing": "linear"
              }
             }
            ],
            "label": "04/05/2003",
            "method": "animate"
           },
           {
            "args": [
             [
              "04/07/2003"
             ],
             {
              "frame": {
               "duration": 0,
               "redraw": true
              },
              "fromcurrent": true,
              "mode": "immediate",
              "transition": {
               "duration": 0,
               "easing": "linear"
              }
             }
            ],
            "label": "04/07/2003",
            "method": "animate"
           },
           {
            "args": [
             [
              "04/08/2003"
             ],
             {
              "frame": {
               "duration": 0,
               "redraw": true
              },
              "fromcurrent": true,
              "mode": "immediate",
              "transition": {
               "duration": 0,
               "easing": "linear"
              }
             }
            ],
            "label": "04/08/2003",
            "method": "animate"
           },
           {
            "args": [
             [
              "04/09/2003"
             ],
             {
              "frame": {
               "duration": 0,
               "redraw": true
              },
              "fromcurrent": true,
              "mode": "immediate",
              "transition": {
               "duration": 0,
               "easing": "linear"
              }
             }
            ],
            "label": "04/09/2003",
            "method": "animate"
           },
           {
            "args": [
             [
              "04/10/2003"
             ],
             {
              "frame": {
               "duration": 0,
               "redraw": true
              },
              "fromcurrent": true,
              "mode": "immediate",
              "transition": {
               "duration": 0,
               "easing": "linear"
              }
             }
            ],
            "label": "04/10/2003",
            "method": "animate"
           },
           {
            "args": [
             [
              "04/11/2003"
             ],
             {
              "frame": {
               "duration": 0,
               "redraw": true
              },
              "fromcurrent": true,
              "mode": "immediate",
              "transition": {
               "duration": 0,
               "easing": "linear"
              }
             }
            ],
            "label": "04/11/2003",
            "method": "animate"
           },
           {
            "args": [
             [
              "04/12/2003"
             ],
             {
              "frame": {
               "duration": 0,
               "redraw": true
              },
              "fromcurrent": true,
              "mode": "immediate",
              "transition": {
               "duration": 0,
               "easing": "linear"
              }
             }
            ],
            "label": "04/12/2003",
            "method": "animate"
           },
           {
            "args": [
             [
              "04/14/2003"
             ],
             {
              "frame": {
               "duration": 0,
               "redraw": true
              },
              "fromcurrent": true,
              "mode": "immediate",
              "transition": {
               "duration": 0,
               "easing": "linear"
              }
             }
            ],
            "label": "04/14/2003",
            "method": "animate"
           },
           {
            "args": [
             [
              "04/15/2003"
             ],
             {
              "frame": {
               "duration": 0,
               "redraw": true
              },
              "fromcurrent": true,
              "mode": "immediate",
              "transition": {
               "duration": 0,
               "easing": "linear"
              }
             }
            ],
            "label": "04/15/2003",
            "method": "animate"
           },
           {
            "args": [
             [
              "04/16/2003"
             ],
             {
              "frame": {
               "duration": 0,
               "redraw": true
              },
              "fromcurrent": true,
              "mode": "immediate",
              "transition": {
               "duration": 0,
               "easing": "linear"
              }
             }
            ],
            "label": "04/16/2003",
            "method": "animate"
           },
           {
            "args": [
             [
              "04/17/2003"
             ],
             {
              "frame": {
               "duration": 0,
               "redraw": true
              },
              "fromcurrent": true,
              "mode": "immediate",
              "transition": {
               "duration": 0,
               "easing": "linear"
              }
             }
            ],
            "label": "04/17/2003",
            "method": "animate"
           },
           {
            "args": [
             [
              "04/18/2003"
             ],
             {
              "frame": {
               "duration": 0,
               "redraw": true
              },
              "fromcurrent": true,
              "mode": "immediate",
              "transition": {
               "duration": 0,
               "easing": "linear"
              }
             }
            ],
            "label": "04/18/2003",
            "method": "animate"
           },
           {
            "args": [
             [
              "04/19/2003"
             ],
             {
              "frame": {
               "duration": 0,
               "redraw": true
              },
              "fromcurrent": true,
              "mode": "immediate",
              "transition": {
               "duration": 0,
               "easing": "linear"
              }
             }
            ],
            "label": "04/19/2003",
            "method": "animate"
           },
           {
            "args": [
             [
              "04/21/2003"
             ],
             {
              "frame": {
               "duration": 0,
               "redraw": true
              },
              "fromcurrent": true,
              "mode": "immediate",
              "transition": {
               "duration": 0,
               "easing": "linear"
              }
             }
            ],
            "label": "04/21/2003",
            "method": "animate"
           },
           {
            "args": [
             [
              "04/22/2003"
             ],
             {
              "frame": {
               "duration": 0,
               "redraw": true
              },
              "fromcurrent": true,
              "mode": "immediate",
              "transition": {
               "duration": 0,
               "easing": "linear"
              }
             }
            ],
            "label": "04/22/2003",
            "method": "animate"
           },
           {
            "args": [
             [
              "04/23/2003"
             ],
             {
              "frame": {
               "duration": 0,
               "redraw": true
              },
              "fromcurrent": true,
              "mode": "immediate",
              "transition": {
               "duration": 0,
               "easing": "linear"
              }
             }
            ],
            "label": "04/23/2003",
            "method": "animate"
           },
           {
            "args": [
             [
              "04/24/2003"
             ],
             {
              "frame": {
               "duration": 0,
               "redraw": true
              },
              "fromcurrent": true,
              "mode": "immediate",
              "transition": {
               "duration": 0,
               "easing": "linear"
              }
             }
            ],
            "label": "04/24/2003",
            "method": "animate"
           },
           {
            "args": [
             [
              "04/25/2003"
             ],
             {
              "frame": {
               "duration": 0,
               "redraw": true
              },
              "fromcurrent": true,
              "mode": "immediate",
              "transition": {
               "duration": 0,
               "easing": "linear"
              }
             }
            ],
            "label": "04/25/2003",
            "method": "animate"
           },
           {
            "args": [
             [
              "04/26/2003"
             ],
             {
              "frame": {
               "duration": 0,
               "redraw": true
              },
              "fromcurrent": true,
              "mode": "immediate",
              "transition": {
               "duration": 0,
               "easing": "linear"
              }
             }
            ],
            "label": "04/26/2003",
            "method": "animate"
           },
           {
            "args": [
             [
              "04/28/2003"
             ],
             {
              "frame": {
               "duration": 0,
               "redraw": true
              },
              "fromcurrent": true,
              "mode": "immediate",
              "transition": {
               "duration": 0,
               "easing": "linear"
              }
             }
            ],
            "label": "04/28/2003",
            "method": "animate"
           },
           {
            "args": [
             [
              "04/29/2003"
             ],
             {
              "frame": {
               "duration": 0,
               "redraw": true
              },
              "fromcurrent": true,
              "mode": "immediate",
              "transition": {
               "duration": 0,
               "easing": "linear"
              }
             }
            ],
            "label": "04/29/2003",
            "method": "animate"
           },
           {
            "args": [
             [
              "04/30/2003"
             ],
             {
              "frame": {
               "duration": 0,
               "redraw": true
              },
              "fromcurrent": true,
              "mode": "immediate",
              "transition": {
               "duration": 0,
               "easing": "linear"
              }
             }
            ],
            "label": "04/30/2003",
            "method": "animate"
           },
           {
            "args": [
             [
              "05/01/2003"
             ],
             {
              "frame": {
               "duration": 0,
               "redraw": true
              },
              "fromcurrent": true,
              "mode": "immediate",
              "transition": {
               "duration": 0,
               "easing": "linear"
              }
             }
            ],
            "label": "05/01/2003",
            "method": "animate"
           },
           {
            "args": [
             [
              "05/02/2003"
             ],
             {
              "frame": {
               "duration": 0,
               "redraw": true
              },
              "fromcurrent": true,
              "mode": "immediate",
              "transition": {
               "duration": 0,
               "easing": "linear"
              }
             }
            ],
            "label": "05/02/2003",
            "method": "animate"
           },
           {
            "args": [
             [
              "05/03/2003"
             ],
             {
              "frame": {
               "duration": 0,
               "redraw": true
              },
              "fromcurrent": true,
              "mode": "immediate",
              "transition": {
               "duration": 0,
               "easing": "linear"
              }
             }
            ],
            "label": "05/03/2003",
            "method": "animate"
           },
           {
            "args": [
             [
              "05/05/2003"
             ],
             {
              "frame": {
               "duration": 0,
               "redraw": true
              },
              "fromcurrent": true,
              "mode": "immediate",
              "transition": {
               "duration": 0,
               "easing": "linear"
              }
             }
            ],
            "label": "05/05/2003",
            "method": "animate"
           },
           {
            "args": [
             [
              "05/06/2003"
             ],
             {
              "frame": {
               "duration": 0,
               "redraw": true
              },
              "fromcurrent": true,
              "mode": "immediate",
              "transition": {
               "duration": 0,
               "easing": "linear"
              }
             }
            ],
            "label": "05/06/2003",
            "method": "animate"
           },
           {
            "args": [
             [
              "05/07/2003"
             ],
             {
              "frame": {
               "duration": 0,
               "redraw": true
              },
              "fromcurrent": true,
              "mode": "immediate",
              "transition": {
               "duration": 0,
               "easing": "linear"
              }
             }
            ],
            "label": "05/07/2003",
            "method": "animate"
           },
           {
            "args": [
             [
              "05/08/2003"
             ],
             {
              "frame": {
               "duration": 0,
               "redraw": true
              },
              "fromcurrent": true,
              "mode": "immediate",
              "transition": {
               "duration": 0,
               "easing": "linear"
              }
             }
            ],
            "label": "05/08/2003",
            "method": "animate"
           },
           {
            "args": [
             [
              "05/09/2003"
             ],
             {
              "frame": {
               "duration": 0,
               "redraw": true
              },
              "fromcurrent": true,
              "mode": "immediate",
              "transition": {
               "duration": 0,
               "easing": "linear"
              }
             }
            ],
            "label": "05/09/2003",
            "method": "animate"
           },
           {
            "args": [
             [
              "05/10/2003"
             ],
             {
              "frame": {
               "duration": 0,
               "redraw": true
              },
              "fromcurrent": true,
              "mode": "immediate",
              "transition": {
               "duration": 0,
               "easing": "linear"
              }
             }
            ],
            "label": "05/10/2003",
            "method": "animate"
           },
           {
            "args": [
             [
              "05/12/2003"
             ],
             {
              "frame": {
               "duration": 0,
               "redraw": true
              },
              "fromcurrent": true,
              "mode": "immediate",
              "transition": {
               "duration": 0,
               "easing": "linear"
              }
             }
            ],
            "label": "05/12/2003",
            "method": "animate"
           },
           {
            "args": [
             [
              "05/13/2003"
             ],
             {
              "frame": {
               "duration": 0,
               "redraw": true
              },
              "fromcurrent": true,
              "mode": "immediate",
              "transition": {
               "duration": 0,
               "easing": "linear"
              }
             }
            ],
            "label": "05/13/2003",
            "method": "animate"
           },
           {
            "args": [
             [
              "05/14/2003"
             ],
             {
              "frame": {
               "duration": 0,
               "redraw": true
              },
              "fromcurrent": true,
              "mode": "immediate",
              "transition": {
               "duration": 0,
               "easing": "linear"
              }
             }
            ],
            "label": "05/14/2003",
            "method": "animate"
           },
           {
            "args": [
             [
              "05/15/2003"
             ],
             {
              "frame": {
               "duration": 0,
               "redraw": true
              },
              "fromcurrent": true,
              "mode": "immediate",
              "transition": {
               "duration": 0,
               "easing": "linear"
              }
             }
            ],
            "label": "05/15/2003",
            "method": "animate"
           },
           {
            "args": [
             [
              "05/16/2003"
             ],
             {
              "frame": {
               "duration": 0,
               "redraw": true
              },
              "fromcurrent": true,
              "mode": "immediate",
              "transition": {
               "duration": 0,
               "easing": "linear"
              }
             }
            ],
            "label": "05/16/2003",
            "method": "animate"
           },
           {
            "args": [
             [
              "05/17/2003"
             ],
             {
              "frame": {
               "duration": 0,
               "redraw": true
              },
              "fromcurrent": true,
              "mode": "immediate",
              "transition": {
               "duration": 0,
               "easing": "linear"
              }
             }
            ],
            "label": "05/17/2003",
            "method": "animate"
           },
           {
            "args": [
             [
              "05/19/2003"
             ],
             {
              "frame": {
               "duration": 0,
               "redraw": true
              },
              "fromcurrent": true,
              "mode": "immediate",
              "transition": {
               "duration": 0,
               "easing": "linear"
              }
             }
            ],
            "label": "05/19/2003",
            "method": "animate"
           },
           {
            "args": [
             [
              "05/20/2003"
             ],
             {
              "frame": {
               "duration": 0,
               "redraw": true
              },
              "fromcurrent": true,
              "mode": "immediate",
              "transition": {
               "duration": 0,
               "easing": "linear"
              }
             }
            ],
            "label": "05/20/2003",
            "method": "animate"
           },
           {
            "args": [
             [
              "05/21/2003"
             ],
             {
              "frame": {
               "duration": 0,
               "redraw": true
              },
              "fromcurrent": true,
              "mode": "immediate",
              "transition": {
               "duration": 0,
               "easing": "linear"
              }
             }
            ],
            "label": "05/21/2003",
            "method": "animate"
           },
           {
            "args": [
             [
              "05/22/2003"
             ],
             {
              "frame": {
               "duration": 0,
               "redraw": true
              },
              "fromcurrent": true,
              "mode": "immediate",
              "transition": {
               "duration": 0,
               "easing": "linear"
              }
             }
            ],
            "label": "05/22/2003",
            "method": "animate"
           },
           {
            "args": [
             [
              "05/23/2003"
             ],
             {
              "frame": {
               "duration": 0,
               "redraw": true
              },
              "fromcurrent": true,
              "mode": "immediate",
              "transition": {
               "duration": 0,
               "easing": "linear"
              }
             }
            ],
            "label": "05/23/2003",
            "method": "animate"
           },
           {
            "args": [
             [
              "05/24/2003"
             ],
             {
              "frame": {
               "duration": 0,
               "redraw": true
              },
              "fromcurrent": true,
              "mode": "immediate",
              "transition": {
               "duration": 0,
               "easing": "linear"
              }
             }
            ],
            "label": "05/24/2003",
            "method": "animate"
           },
           {
            "args": [
             [
              "05/26/2003"
             ],
             {
              "frame": {
               "duration": 0,
               "redraw": true
              },
              "fromcurrent": true,
              "mode": "immediate",
              "transition": {
               "duration": 0,
               "easing": "linear"
              }
             }
            ],
            "label": "05/26/2003",
            "method": "animate"
           },
           {
            "args": [
             [
              "05/27/2003"
             ],
             {
              "frame": {
               "duration": 0,
               "redraw": true
              },
              "fromcurrent": true,
              "mode": "immediate",
              "transition": {
               "duration": 0,
               "easing": "linear"
              }
             }
            ],
            "label": "05/27/2003",
            "method": "animate"
           },
           {
            "args": [
             [
              "05/28/2003"
             ],
             {
              "frame": {
               "duration": 0,
               "redraw": true
              },
              "fromcurrent": true,
              "mode": "immediate",
              "transition": {
               "duration": 0,
               "easing": "linear"
              }
             }
            ],
            "label": "05/28/2003",
            "method": "animate"
           },
           {
            "args": [
             [
              "05/29/2003"
             ],
             {
              "frame": {
               "duration": 0,
               "redraw": true
              },
              "fromcurrent": true,
              "mode": "immediate",
              "transition": {
               "duration": 0,
               "easing": "linear"
              }
             }
            ],
            "label": "05/29/2003",
            "method": "animate"
           },
           {
            "args": [
             [
              "05/30/2003"
             ],
             {
              "frame": {
               "duration": 0,
               "redraw": true
              },
              "fromcurrent": true,
              "mode": "immediate",
              "transition": {
               "duration": 0,
               "easing": "linear"
              }
             }
            ],
            "label": "05/30/2003",
            "method": "animate"
           },
           {
            "args": [
             [
              "05/31/2003"
             ],
             {
              "frame": {
               "duration": 0,
               "redraw": true
              },
              "fromcurrent": true,
              "mode": "immediate",
              "transition": {
               "duration": 0,
               "easing": "linear"
              }
             }
            ],
            "label": "05/31/2003",
            "method": "animate"
           },
           {
            "args": [
             [
              "06/02/2003"
             ],
             {
              "frame": {
               "duration": 0,
               "redraw": true
              },
              "fromcurrent": true,
              "mode": "immediate",
              "transition": {
               "duration": 0,
               "easing": "linear"
              }
             }
            ],
            "label": "06/02/2003",
            "method": "animate"
           },
           {
            "args": [
             [
              "06/03/2003"
             ],
             {
              "frame": {
               "duration": 0,
               "redraw": true
              },
              "fromcurrent": true,
              "mode": "immediate",
              "transition": {
               "duration": 0,
               "easing": "linear"
              }
             }
            ],
            "label": "06/03/2003",
            "method": "animate"
           },
           {
            "args": [
             [
              "06/04/2003"
             ],
             {
              "frame": {
               "duration": 0,
               "redraw": true
              },
              "fromcurrent": true,
              "mode": "immediate",
              "transition": {
               "duration": 0,
               "easing": "linear"
              }
             }
            ],
            "label": "06/04/2003",
            "method": "animate"
           },
           {
            "args": [
             [
              "06/05/2003"
             ],
             {
              "frame": {
               "duration": 0,
               "redraw": true
              },
              "fromcurrent": true,
              "mode": "immediate",
              "transition": {
               "duration": 0,
               "easing": "linear"
              }
             }
            ],
            "label": "06/05/2003",
            "method": "animate"
           },
           {
            "args": [
             [
              "06/06/2003"
             ],
             {
              "frame": {
               "duration": 0,
               "redraw": true
              },
              "fromcurrent": true,
              "mode": "immediate",
              "transition": {
               "duration": 0,
               "easing": "linear"
              }
             }
            ],
            "label": "06/06/2003",
            "method": "animate"
           },
           {
            "args": [
             [
              "06/09/2003"
             ],
             {
              "frame": {
               "duration": 0,
               "redraw": true
              },
              "fromcurrent": true,
              "mode": "immediate",
              "transition": {
               "duration": 0,
               "easing": "linear"
              }
             }
            ],
            "label": "06/09/2003",
            "method": "animate"
           },
           {
            "args": [
             [
              "06/10/2003"
             ],
             {
              "frame": {
               "duration": 0,
               "redraw": true
              },
              "fromcurrent": true,
              "mode": "immediate",
              "transition": {
               "duration": 0,
               "easing": "linear"
              }
             }
            ],
            "label": "06/10/2003",
            "method": "animate"
           },
           {
            "args": [
             [
              "06/11/2003"
             ],
             {
              "frame": {
               "duration": 0,
               "redraw": true
              },
              "fromcurrent": true,
              "mode": "immediate",
              "transition": {
               "duration": 0,
               "easing": "linear"
              }
             }
            ],
            "label": "06/11/2003",
            "method": "animate"
           },
           {
            "args": [
             [
              "06/12/2003"
             ],
             {
              "frame": {
               "duration": 0,
               "redraw": true
              },
              "fromcurrent": true,
              "mode": "immediate",
              "transition": {
               "duration": 0,
               "easing": "linear"
              }
             }
            ],
            "label": "06/12/2003",
            "method": "animate"
           },
           {
            "args": [
             [
              "06/13/2003"
             ],
             {
              "frame": {
               "duration": 0,
               "redraw": true
              },
              "fromcurrent": true,
              "mode": "immediate",
              "transition": {
               "duration": 0,
               "easing": "linear"
              }
             }
            ],
            "label": "06/13/2003",
            "method": "animate"
           },
           {
            "args": [
             [
              "06/16/2003"
             ],
             {
              "frame": {
               "duration": 0,
               "redraw": true
              },
              "fromcurrent": true,
              "mode": "immediate",
              "transition": {
               "duration": 0,
               "easing": "linear"
              }
             }
            ],
            "label": "06/16/2003",
            "method": "animate"
           },
           {
            "args": [
             [
              "06/17/2003"
             ],
             {
              "frame": {
               "duration": 0,
               "redraw": true
              },
              "fromcurrent": true,
              "mode": "immediate",
              "transition": {
               "duration": 0,
               "easing": "linear"
              }
             }
            ],
            "label": "06/17/2003",
            "method": "animate"
           },
           {
            "args": [
             [
              "06/18/2003"
             ],
             {
              "frame": {
               "duration": 0,
               "redraw": true
              },
              "fromcurrent": true,
              "mode": "immediate",
              "transition": {
               "duration": 0,
               "easing": "linear"
              }
             }
            ],
            "label": "06/18/2003",
            "method": "animate"
           },
           {
            "args": [
             [
              "06/19/2003"
             ],
             {
              "frame": {
               "duration": 0,
               "redraw": true
              },
              "fromcurrent": true,
              "mode": "immediate",
              "transition": {
               "duration": 0,
               "easing": "linear"
              }
             }
            ],
            "label": "06/19/2003",
            "method": "animate"
           },
           {
            "args": [
             [
              "06/20/2003"
             ],
             {
              "frame": {
               "duration": 0,
               "redraw": true
              },
              "fromcurrent": true,
              "mode": "immediate",
              "transition": {
               "duration": 0,
               "easing": "linear"
              }
             }
            ],
            "label": "06/20/2003",
            "method": "animate"
           },
           {
            "args": [
             [
              "06/23/2003"
             ],
             {
              "frame": {
               "duration": 0,
               "redraw": true
              },
              "fromcurrent": true,
              "mode": "immediate",
              "transition": {
               "duration": 0,
               "easing": "linear"
              }
             }
            ],
            "label": "06/23/2003",
            "method": "animate"
           },
           {
            "args": [
             [
              "06/24/2003"
             ],
             {
              "frame": {
               "duration": 0,
               "redraw": true
              },
              "fromcurrent": true,
              "mode": "immediate",
              "transition": {
               "duration": 0,
               "easing": "linear"
              }
             }
            ],
            "label": "06/24/2003",
            "method": "animate"
           },
           {
            "args": [
             [
              "06/25/2003"
             ],
             {
              "frame": {
               "duration": 0,
               "redraw": true
              },
              "fromcurrent": true,
              "mode": "immediate",
              "transition": {
               "duration": 0,
               "easing": "linear"
              }
             }
            ],
            "label": "06/25/2003",
            "method": "animate"
           },
           {
            "args": [
             [
              "06/26/2003"
             ],
             {
              "frame": {
               "duration": 0,
               "redraw": true
              },
              "fromcurrent": true,
              "mode": "immediate",
              "transition": {
               "duration": 0,
               "easing": "linear"
              }
             }
            ],
            "label": "06/26/2003",
            "method": "animate"
           },
           {
            "args": [
             [
              "06/27/2003"
             ],
             {
              "frame": {
               "duration": 0,
               "redraw": true
              },
              "fromcurrent": true,
              "mode": "immediate",
              "transition": {
               "duration": 0,
               "easing": "linear"
              }
             }
            ],
            "label": "06/27/2003",
            "method": "animate"
           },
           {
            "args": [
             [
              "06/30/2003"
             ],
             {
              "frame": {
               "duration": 0,
               "redraw": true
              },
              "fromcurrent": true,
              "mode": "immediate",
              "transition": {
               "duration": 0,
               "easing": "linear"
              }
             }
            ],
            "label": "06/30/2003",
            "method": "animate"
           },
           {
            "args": [
             [
              "07/01/2003"
             ],
             {
              "frame": {
               "duration": 0,
               "redraw": true
              },
              "fromcurrent": true,
              "mode": "immediate",
              "transition": {
               "duration": 0,
               "easing": "linear"
              }
             }
            ],
            "label": "07/01/2003",
            "method": "animate"
           },
           {
            "args": [
             [
              "07/02/2003"
             ],
             {
              "frame": {
               "duration": 0,
               "redraw": true
              },
              "fromcurrent": true,
              "mode": "immediate",
              "transition": {
               "duration": 0,
               "easing": "linear"
              }
             }
            ],
            "label": "07/02/2003",
            "method": "animate"
           },
           {
            "args": [
             [
              "07/03/2003"
             ],
             {
              "frame": {
               "duration": 0,
               "redraw": true
              },
              "fromcurrent": true,
              "mode": "immediate",
              "transition": {
               "duration": 0,
               "easing": "linear"
              }
             }
            ],
            "label": "07/03/2003",
            "method": "animate"
           },
           {
            "args": [
             [
              "07/04/2003"
             ],
             {
              "frame": {
               "duration": 0,
               "redraw": true
              },
              "fromcurrent": true,
              "mode": "immediate",
              "transition": {
               "duration": 0,
               "easing": "linear"
              }
             }
            ],
            "label": "07/04/2003",
            "method": "animate"
           },
           {
            "args": [
             [
              "07/07/2003"
             ],
             {
              "frame": {
               "duration": 0,
               "redraw": true
              },
              "fromcurrent": true,
              "mode": "immediate",
              "transition": {
               "duration": 0,
               "easing": "linear"
              }
             }
            ],
            "label": "07/07/2003",
            "method": "animate"
           },
           {
            "args": [
             [
              "07/08/2003"
             ],
             {
              "frame": {
               "duration": 0,
               "redraw": true
              },
              "fromcurrent": true,
              "mode": "immediate",
              "transition": {
               "duration": 0,
               "easing": "linear"
              }
             }
            ],
            "label": "07/08/2003",
            "method": "animate"
           },
           {
            "args": [
             [
              "07/09/2003"
             ],
             {
              "frame": {
               "duration": 0,
               "redraw": true
              },
              "fromcurrent": true,
              "mode": "immediate",
              "transition": {
               "duration": 0,
               "easing": "linear"
              }
             }
            ],
            "label": "07/09/2003",
            "method": "animate"
           },
           {
            "args": [
             [
              "07/10/2003"
             ],
             {
              "frame": {
               "duration": 0,
               "redraw": true
              },
              "fromcurrent": true,
              "mode": "immediate",
              "transition": {
               "duration": 0,
               "easing": "linear"
              }
             }
            ],
            "label": "07/10/2003",
            "method": "animate"
           },
           {
            "args": [
             [
              "07/11/2003"
             ],
             {
              "frame": {
               "duration": 0,
               "redraw": true
              },
              "fromcurrent": true,
              "mode": "immediate",
              "transition": {
               "duration": 0,
               "easing": "linear"
              }
             }
            ],
            "label": "07/11/2003",
            "method": "animate"
           }
          ],
          "x": 0.1,
          "xanchor": "left",
          "y": 0,
          "yanchor": "top"
         }
        ],
        "template": {
         "data": {
          "bar": [
           {
            "error_x": {
             "color": "#2a3f5f"
            },
            "error_y": {
             "color": "#2a3f5f"
            },
            "marker": {
             "line": {
              "color": "#E5ECF6",
              "width": 0.5
             }
            },
            "type": "bar"
           }
          ],
          "barpolar": [
           {
            "marker": {
             "line": {
              "color": "#E5ECF6",
              "width": 0.5
             }
            },
            "type": "barpolar"
           }
          ],
          "carpet": [
           {
            "aaxis": {
             "endlinecolor": "#2a3f5f",
             "gridcolor": "white",
             "linecolor": "white",
             "minorgridcolor": "white",
             "startlinecolor": "#2a3f5f"
            },
            "baxis": {
             "endlinecolor": "#2a3f5f",
             "gridcolor": "white",
             "linecolor": "white",
             "minorgridcolor": "white",
             "startlinecolor": "#2a3f5f"
            },
            "type": "carpet"
           }
          ],
          "choropleth": [
           {
            "colorbar": {
             "outlinewidth": 0,
             "ticks": ""
            },
            "type": "choropleth"
           }
          ],
          "contour": [
           {
            "colorbar": {
             "outlinewidth": 0,
             "ticks": ""
            },
            "colorscale": [
             [
              0,
              "#0d0887"
             ],
             [
              0.1111111111111111,
              "#46039f"
             ],
             [
              0.2222222222222222,
              "#7201a8"
             ],
             [
              0.3333333333333333,
              "#9c179e"
             ],
             [
              0.4444444444444444,
              "#bd3786"
             ],
             [
              0.5555555555555556,
              "#d8576b"
             ],
             [
              0.6666666666666666,
              "#ed7953"
             ],
             [
              0.7777777777777778,
              "#fb9f3a"
             ],
             [
              0.8888888888888888,
              "#fdca26"
             ],
             [
              1,
              "#f0f921"
             ]
            ],
            "type": "contour"
           }
          ],
          "contourcarpet": [
           {
            "colorbar": {
             "outlinewidth": 0,
             "ticks": ""
            },
            "type": "contourcarpet"
           }
          ],
          "heatmap": [
           {
            "colorbar": {
             "outlinewidth": 0,
             "ticks": ""
            },
            "colorscale": [
             [
              0,
              "#0d0887"
             ],
             [
              0.1111111111111111,
              "#46039f"
             ],
             [
              0.2222222222222222,
              "#7201a8"
             ],
             [
              0.3333333333333333,
              "#9c179e"
             ],
             [
              0.4444444444444444,
              "#bd3786"
             ],
             [
              0.5555555555555556,
              "#d8576b"
             ],
             [
              0.6666666666666666,
              "#ed7953"
             ],
             [
              0.7777777777777778,
              "#fb9f3a"
             ],
             [
              0.8888888888888888,
              "#fdca26"
             ],
             [
              1,
              "#f0f921"
             ]
            ],
            "type": "heatmap"
           }
          ],
          "heatmapgl": [
           {
            "colorbar": {
             "outlinewidth": 0,
             "ticks": ""
            },
            "colorscale": [
             [
              0,
              "#0d0887"
             ],
             [
              0.1111111111111111,
              "#46039f"
             ],
             [
              0.2222222222222222,
              "#7201a8"
             ],
             [
              0.3333333333333333,
              "#9c179e"
             ],
             [
              0.4444444444444444,
              "#bd3786"
             ],
             [
              0.5555555555555556,
              "#d8576b"
             ],
             [
              0.6666666666666666,
              "#ed7953"
             ],
             [
              0.7777777777777778,
              "#fb9f3a"
             ],
             [
              0.8888888888888888,
              "#fdca26"
             ],
             [
              1,
              "#f0f921"
             ]
            ],
            "type": "heatmapgl"
           }
          ],
          "histogram": [
           {
            "marker": {
             "colorbar": {
              "outlinewidth": 0,
              "ticks": ""
             }
            },
            "type": "histogram"
           }
          ],
          "histogram2d": [
           {
            "colorbar": {
             "outlinewidth": 0,
             "ticks": ""
            },
            "colorscale": [
             [
              0,
              "#0d0887"
             ],
             [
              0.1111111111111111,
              "#46039f"
             ],
             [
              0.2222222222222222,
              "#7201a8"
             ],
             [
              0.3333333333333333,
              "#9c179e"
             ],
             [
              0.4444444444444444,
              "#bd3786"
             ],
             [
              0.5555555555555556,
              "#d8576b"
             ],
             [
              0.6666666666666666,
              "#ed7953"
             ],
             [
              0.7777777777777778,
              "#fb9f3a"
             ],
             [
              0.8888888888888888,
              "#fdca26"
             ],
             [
              1,
              "#f0f921"
             ]
            ],
            "type": "histogram2d"
           }
          ],
          "histogram2dcontour": [
           {
            "colorbar": {
             "outlinewidth": 0,
             "ticks": ""
            },
            "colorscale": [
             [
              0,
              "#0d0887"
             ],
             [
              0.1111111111111111,
              "#46039f"
             ],
             [
              0.2222222222222222,
              "#7201a8"
             ],
             [
              0.3333333333333333,
              "#9c179e"
             ],
             [
              0.4444444444444444,
              "#bd3786"
             ],
             [
              0.5555555555555556,
              "#d8576b"
             ],
             [
              0.6666666666666666,
              "#ed7953"
             ],
             [
              0.7777777777777778,
              "#fb9f3a"
             ],
             [
              0.8888888888888888,
              "#fdca26"
             ],
             [
              1,
              "#f0f921"
             ]
            ],
            "type": "histogram2dcontour"
           }
          ],
          "mesh3d": [
           {
            "colorbar": {
             "outlinewidth": 0,
             "ticks": ""
            },
            "type": "mesh3d"
           }
          ],
          "parcoords": [
           {
            "line": {
             "colorbar": {
              "outlinewidth": 0,
              "ticks": ""
             }
            },
            "type": "parcoords"
           }
          ],
          "scatter": [
           {
            "marker": {
             "colorbar": {
              "outlinewidth": 0,
              "ticks": ""
             }
            },
            "type": "scatter"
           }
          ],
          "scatter3d": [
           {
            "line": {
             "colorbar": {
              "outlinewidth": 0,
              "ticks": ""
             }
            },
            "marker": {
             "colorbar": {
              "outlinewidth": 0,
              "ticks": ""
             }
            },
            "type": "scatter3d"
           }
          ],
          "scattercarpet": [
           {
            "marker": {
             "colorbar": {
              "outlinewidth": 0,
              "ticks": ""
             }
            },
            "type": "scattercarpet"
           }
          ],
          "scattergeo": [
           {
            "marker": {
             "colorbar": {
              "outlinewidth": 0,
              "ticks": ""
             }
            },
            "type": "scattergeo"
           }
          ],
          "scattergl": [
           {
            "marker": {
             "colorbar": {
              "outlinewidth": 0,
              "ticks": ""
             }
            },
            "type": "scattergl"
           }
          ],
          "scattermapbox": [
           {
            "marker": {
             "colorbar": {
              "outlinewidth": 0,
              "ticks": ""
             }
            },
            "type": "scattermapbox"
           }
          ],
          "scatterpolar": [
           {
            "marker": {
             "colorbar": {
              "outlinewidth": 0,
              "ticks": ""
             }
            },
            "type": "scatterpolar"
           }
          ],
          "scatterpolargl": [
           {
            "marker": {
             "colorbar": {
              "outlinewidth": 0,
              "ticks": ""
             }
            },
            "type": "scatterpolargl"
           }
          ],
          "scatterternary": [
           {
            "marker": {
             "colorbar": {
              "outlinewidth": 0,
              "ticks": ""
             }
            },
            "type": "scatterternary"
           }
          ],
          "surface": [
           {
            "colorbar": {
             "outlinewidth": 0,
             "ticks": ""
            },
            "colorscale": [
             [
              0,
              "#0d0887"
             ],
             [
              0.1111111111111111,
              "#46039f"
             ],
             [
              0.2222222222222222,
              "#7201a8"
             ],
             [
              0.3333333333333333,
              "#9c179e"
             ],
             [
              0.4444444444444444,
              "#bd3786"
             ],
             [
              0.5555555555555556,
              "#d8576b"
             ],
             [
              0.6666666666666666,
              "#ed7953"
             ],
             [
              0.7777777777777778,
              "#fb9f3a"
             ],
             [
              0.8888888888888888,
              "#fdca26"
             ],
             [
              1,
              "#f0f921"
             ]
            ],
            "type": "surface"
           }
          ],
          "table": [
           {
            "cells": {
             "fill": {
              "color": "#EBF0F8"
             },
             "line": {
              "color": "white"
             }
            },
            "header": {
             "fill": {
              "color": "#C8D4E3"
             },
             "line": {
              "color": "white"
             }
            },
            "type": "table"
           }
          ]
         },
         "layout": {
          "annotationdefaults": {
           "arrowcolor": "#2a3f5f",
           "arrowhead": 0,
           "arrowwidth": 1
          },
          "colorscale": {
           "diverging": [
            [
             0,
             "#8e0152"
            ],
            [
             0.1,
             "#c51b7d"
            ],
            [
             0.2,
             "#de77ae"
            ],
            [
             0.3,
             "#f1b6da"
            ],
            [
             0.4,
             "#fde0ef"
            ],
            [
             0.5,
             "#f7f7f7"
            ],
            [
             0.6,
             "#e6f5d0"
            ],
            [
             0.7,
             "#b8e186"
            ],
            [
             0.8,
             "#7fbc41"
            ],
            [
             0.9,
             "#4d9221"
            ],
            [
             1,
             "#276419"
            ]
           ],
           "sequential": [
            [
             0,
             "#0d0887"
            ],
            [
             0.1111111111111111,
             "#46039f"
            ],
            [
             0.2222222222222222,
             "#7201a8"
            ],
            [
             0.3333333333333333,
             "#9c179e"
            ],
            [
             0.4444444444444444,
             "#bd3786"
            ],
            [
             0.5555555555555556,
             "#d8576b"
            ],
            [
             0.6666666666666666,
             "#ed7953"
            ],
            [
             0.7777777777777778,
             "#fb9f3a"
            ],
            [
             0.8888888888888888,
             "#fdca26"
            ],
            [
             1,
             "#f0f921"
            ]
           ],
           "sequentialminus": [
            [
             0,
             "#0d0887"
            ],
            [
             0.1111111111111111,
             "#46039f"
            ],
            [
             0.2222222222222222,
             "#7201a8"
            ],
            [
             0.3333333333333333,
             "#9c179e"
            ],
            [
             0.4444444444444444,
             "#bd3786"
            ],
            [
             0.5555555555555556,
             "#d8576b"
            ],
            [
             0.6666666666666666,
             "#ed7953"
            ],
            [
             0.7777777777777778,
             "#fb9f3a"
            ],
            [
             0.8888888888888888,
             "#fdca26"
            ],
            [
             1,
             "#f0f921"
            ]
           ]
          },
          "colorway": [
           "#636efa",
           "#EF553B",
           "#00cc96",
           "#ab63fa",
           "#FFA15A",
           "#19d3f3",
           "#FF6692",
           "#B6E880",
           "#FF97FF",
           "#FECB52"
          ],
          "font": {
           "color": "#2a3f5f"
          },
          "geo": {
           "bgcolor": "white",
           "lakecolor": "white",
           "landcolor": "#E5ECF6",
           "showlakes": true,
           "showland": true,
           "subunitcolor": "white"
          },
          "hoverlabel": {
           "align": "left"
          },
          "hovermode": "closest",
          "mapbox": {
           "style": "light"
          },
          "paper_bgcolor": "white",
          "plot_bgcolor": "#E5ECF6",
          "polar": {
           "angularaxis": {
            "gridcolor": "white",
            "linecolor": "white",
            "ticks": ""
           },
           "bgcolor": "#E5ECF6",
           "radialaxis": {
            "gridcolor": "white",
            "linecolor": "white",
            "ticks": ""
           }
          },
          "scene": {
           "xaxis": {
            "backgroundcolor": "#E5ECF6",
            "gridcolor": "white",
            "gridwidth": 2,
            "linecolor": "white",
            "showbackground": true,
            "ticks": "",
            "zerolinecolor": "white"
           },
           "yaxis": {
            "backgroundcolor": "#E5ECF6",
            "gridcolor": "white",
            "gridwidth": 2,
            "linecolor": "white",
            "showbackground": true,
            "ticks": "",
            "zerolinecolor": "white"
           },
           "zaxis": {
            "backgroundcolor": "#E5ECF6",
            "gridcolor": "white",
            "gridwidth": 2,
            "linecolor": "white",
            "showbackground": true,
            "ticks": "",
            "zerolinecolor": "white"
           }
          },
          "shapedefaults": {
           "line": {
            "color": "#2a3f5f"
           }
          },
          "ternary": {
           "aaxis": {
            "gridcolor": "white",
            "linecolor": "white",
            "ticks": ""
           },
           "baxis": {
            "gridcolor": "white",
            "linecolor": "white",
            "ticks": ""
           },
           "bgcolor": "#E5ECF6",
           "caxis": {
            "gridcolor": "white",
            "linecolor": "white",
            "ticks": ""
           }
          },
          "title": {
           "x": 0.05
          },
          "xaxis": {
           "automargin": true,
           "gridcolor": "white",
           "linecolor": "white",
           "ticks": "",
           "zerolinecolor": "white",
           "zerolinewidth": 2
          },
          "yaxis": {
           "automargin": true,
           "gridcolor": "white",
           "linecolor": "white",
           "ticks": "",
           "zerolinecolor": "white",
           "zerolinewidth": 2
          }
         }
        },
        "title": {
         "text": "SARS 2003 : Spread Over Time"
        },
        "transition": {
         "duration": 0.0001
        },
        "updatemenus": [
         {
          "buttons": [
           {
            "args": [
             null,
             {
              "frame": {
               "duration": 500,
               "redraw": true
              },
              "fromcurrent": true,
              "mode": "immediate",
              "transition": {
               "duration": 500,
               "easing": "linear"
              }
             }
            ],
            "label": "&#9654;",
            "method": "animate"
           },
           {
            "args": [
             [
              null
             ],
             {
              "frame": {
               "duration": 0,
               "redraw": true
              },
              "fromcurrent": true,
              "mode": "immediate",
              "transition": {
               "duration": 0,
               "easing": "linear"
              }
             }
            ],
            "label": "&#9724;",
            "method": "animate"
           }
          ],
          "direction": "left",
          "pad": {
           "r": 10,
           "t": 70
          },
          "showactive": false,
          "type": "buttons",
          "x": 0.1,
          "xanchor": "right",
          "y": 0,
          "yanchor": "top"
         }
        ]
       }
      },
      "text/html": [
       "<div>\n",
       "        \n",
       "        \n",
       "            <div id=\"bdec8a48-a248-4b8d-80b6-167d43125bb9\" class=\"plotly-graph-div\" style=\"height:600px; width:100%;\"></div>\n",
       "            <script type=\"text/javascript\">\n",
       "                require([\"plotly\"], function(Plotly) {\n",
       "                    window.PLOTLYENV=window.PLOTLYENV || {};\n",
       "                    \n",
       "                if (document.getElementById(\"bdec8a48-a248-4b8d-80b6-167d43125bb9\")) {\n",
       "                    Plotly.newPlot(\n",
       "                        'bdec8a48-a248-4b8d-80b6-167d43125bb9',\n",
       "                        [{\"geo\": \"geo\", \"hoverlabel\": {\"namelength\": 0}, \"hovertemplate\": \"<b>%{hovertext}</b><br><br>Date=03/17/2003<br>size=%{marker.size}<br>Country=%{location}<br>Confirmed=%{marker.color}\", \"hovertext\": [\"Canada\", \"Germany\", \"Hong Kong SAR, China\", \"Singapore\", \"Switzerland\", \"Thailand\", \"Viet Nam\"], \"legendgroup\": \"\", \"locationmode\": \"country names\", \"locations\": [\"Canada\", \"Germany\", \"Hong Kong SAR, China\", \"Singapore\", \"Switzerland\", \"Thailand\", \"Viet Nam\"], \"marker\": {\"color\": [8, 1, 95, 20, 2, 1, 40], \"coloraxis\": \"coloraxis\", \"size\": [1.8660659830736148, 1.0, 3.920279951613009, 2.4564560522315806, 1.2311444133449163, 1.0, 3.0242521453322184], \"sizemode\": \"area\", \"sizeref\": 0.03280452281427571}, \"name\": \"\", \"showlegend\": false, \"type\": \"scattergeo\"}],\n",
       "                        {\"coloraxis\": {\"cmax\": 1500, \"cmin\": 0, \"colorbar\": {\"title\": {\"text\": \"Confirmed\"}}, \"colorscale\": [[0.0, \"rgb(12,51,131)\"], [0.25, \"rgb(10,136,186)\"], [0.5, \"rgb(242,211,56)\"], [0.75, \"rgb(242,143,56)\"], [1.0, \"rgb(217,30,30)\"]]}, \"geo\": {\"center\": {}, \"domain\": {\"x\": [0.0, 0.98], \"y\": [0.0, 1.0]}, \"projection\": {\"type\": \"natural earth\"}}, \"height\": 600, \"legend\": {\"itemsizing\": \"constant\", \"tracegroupgap\": 0}, \"sliders\": [{\"active\": 0, \"currentvalue\": {\"prefix\": \"Date=\"}, \"len\": 0.9, \"pad\": {\"b\": 10, \"t\": 60}, \"steps\": [{\"args\": [[\"03/17/2003\"], {\"frame\": {\"duration\": 0, \"redraw\": true}, \"fromcurrent\": true, \"mode\": \"immediate\", \"transition\": {\"duration\": 0, \"easing\": \"linear\"}}], \"label\": \"03/17/2003\", \"method\": \"animate\"}, {\"args\": [[\"03/18/2003\"], {\"frame\": {\"duration\": 0, \"redraw\": true}, \"fromcurrent\": true, \"mode\": \"immediate\", \"transition\": {\"duration\": 0, \"easing\": \"linear\"}}], \"label\": \"03/18/2003\", \"method\": \"animate\"}, {\"args\": [[\"03/19/2003\"], {\"frame\": {\"duration\": 0, \"redraw\": true}, \"fromcurrent\": true, \"mode\": \"immediate\", \"transition\": {\"duration\": 0, \"easing\": \"linear\"}}], \"label\": \"03/19/2003\", \"method\": \"animate\"}, {\"args\": [[\"03/20/2003\"], {\"frame\": {\"duration\": 0, \"redraw\": true}, \"fromcurrent\": true, \"mode\": \"immediate\", \"transition\": {\"duration\": 0, \"easing\": \"linear\"}}], \"label\": \"03/20/2003\", \"method\": \"animate\"}, {\"args\": [[\"03/21/2003\"], {\"frame\": {\"duration\": 0, \"redraw\": true}, \"fromcurrent\": true, \"mode\": \"immediate\", \"transition\": {\"duration\": 0, \"easing\": \"linear\"}}], \"label\": \"03/21/2003\", \"method\": \"animate\"}, {\"args\": [[\"03/22/2003\"], {\"frame\": {\"duration\": 0, \"redraw\": true}, \"fromcurrent\": true, \"mode\": \"immediate\", \"transition\": {\"duration\": 0, \"easing\": \"linear\"}}], \"label\": \"03/22/2003\", \"method\": \"animate\"}, {\"args\": [[\"03/24/2003\"], {\"frame\": {\"duration\": 0, \"redraw\": true}, \"fromcurrent\": true, \"mode\": \"immediate\", \"transition\": {\"duration\": 0, \"easing\": \"linear\"}}], \"label\": \"03/24/2003\", \"method\": \"animate\"}, {\"args\": [[\"03/25/2003\"], {\"frame\": {\"duration\": 0, \"redraw\": true}, \"fromcurrent\": true, \"mode\": \"immediate\", \"transition\": {\"duration\": 0, \"easing\": \"linear\"}}], \"label\": \"03/25/2003\", \"method\": \"animate\"}, {\"args\": [[\"03/26/2003\"], {\"frame\": {\"duration\": 0, \"redraw\": true}, \"fromcurrent\": true, \"mode\": \"immediate\", \"transition\": {\"duration\": 0, \"easing\": \"linear\"}}], \"label\": \"03/26/2003\", \"method\": \"animate\"}, {\"args\": [[\"03/27/2003\"], {\"frame\": {\"duration\": 0, \"redraw\": true}, \"fromcurrent\": true, \"mode\": \"immediate\", \"transition\": {\"duration\": 0, \"easing\": \"linear\"}}], \"label\": \"03/27/2003\", \"method\": \"animate\"}, {\"args\": [[\"03/28/2003\"], {\"frame\": {\"duration\": 0, \"redraw\": true}, \"fromcurrent\": true, \"mode\": \"immediate\", \"transition\": {\"duration\": 0, \"easing\": \"linear\"}}], \"label\": \"03/28/2003\", \"method\": \"animate\"}, {\"args\": [[\"03/29/2003\"], {\"frame\": {\"duration\": 0, \"redraw\": true}, \"fromcurrent\": true, \"mode\": \"immediate\", \"transition\": {\"duration\": 0, \"easing\": \"linear\"}}], \"label\": \"03/29/2003\", \"method\": \"animate\"}, {\"args\": [[\"03/31/2003\"], {\"frame\": {\"duration\": 0, \"redraw\": true}, \"fromcurrent\": true, \"mode\": \"immediate\", \"transition\": {\"duration\": 0, \"easing\": \"linear\"}}], \"label\": \"03/31/2003\", \"method\": \"animate\"}, {\"args\": [[\"04/01/2003\"], {\"frame\": {\"duration\": 0, \"redraw\": true}, \"fromcurrent\": true, \"mode\": \"immediate\", \"transition\": {\"duration\": 0, \"easing\": \"linear\"}}], \"label\": \"04/01/2003\", \"method\": \"animate\"}, {\"args\": [[\"04/02/2003\"], {\"frame\": {\"duration\": 0, \"redraw\": true}, \"fromcurrent\": true, \"mode\": \"immediate\", \"transition\": {\"duration\": 0, \"easing\": \"linear\"}}], \"label\": \"04/02/2003\", \"method\": \"animate\"}, {\"args\": [[\"04/03/2003\"], {\"frame\": {\"duration\": 0, \"redraw\": true}, \"fromcurrent\": true, \"mode\": \"immediate\", \"transition\": {\"duration\": 0, \"easing\": \"linear\"}}], \"label\": \"04/03/2003\", \"method\": \"animate\"}, {\"args\": [[\"04/04/2003\"], {\"frame\": {\"duration\": 0, \"redraw\": true}, \"fromcurrent\": true, \"mode\": \"immediate\", \"transition\": {\"duration\": 0, \"easing\": \"linear\"}}], \"label\": \"04/04/2003\", \"method\": \"animate\"}, {\"args\": [[\"04/05/2003\"], {\"frame\": {\"duration\": 0, \"redraw\": true}, \"fromcurrent\": true, \"mode\": \"immediate\", \"transition\": {\"duration\": 0, \"easing\": \"linear\"}}], \"label\": \"04/05/2003\", \"method\": \"animate\"}, {\"args\": [[\"04/07/2003\"], {\"frame\": {\"duration\": 0, \"redraw\": true}, \"fromcurrent\": true, \"mode\": \"immediate\", \"transition\": {\"duration\": 0, \"easing\": \"linear\"}}], \"label\": \"04/07/2003\", \"method\": \"animate\"}, {\"args\": [[\"04/08/2003\"], {\"frame\": {\"duration\": 0, \"redraw\": true}, \"fromcurrent\": true, \"mode\": \"immediate\", \"transition\": {\"duration\": 0, \"easing\": \"linear\"}}], \"label\": \"04/08/2003\", \"method\": \"animate\"}, {\"args\": [[\"04/09/2003\"], {\"frame\": {\"duration\": 0, \"redraw\": true}, \"fromcurrent\": true, \"mode\": \"immediate\", \"transition\": {\"duration\": 0, \"easing\": \"linear\"}}], \"label\": \"04/09/2003\", \"method\": \"animate\"}, {\"args\": [[\"04/10/2003\"], {\"frame\": {\"duration\": 0, \"redraw\": true}, \"fromcurrent\": true, \"mode\": \"immediate\", \"transition\": {\"duration\": 0, \"easing\": \"linear\"}}], \"label\": \"04/10/2003\", \"method\": \"animate\"}, {\"args\": [[\"04/11/2003\"], {\"frame\": {\"duration\": 0, \"redraw\": true}, \"fromcurrent\": true, \"mode\": \"immediate\", \"transition\": {\"duration\": 0, \"easing\": \"linear\"}}], \"label\": \"04/11/2003\", \"method\": \"animate\"}, {\"args\": [[\"04/12/2003\"], {\"frame\": {\"duration\": 0, \"redraw\": true}, \"fromcurrent\": true, \"mode\": \"immediate\", \"transition\": {\"duration\": 0, \"easing\": \"linear\"}}], \"label\": \"04/12/2003\", \"method\": \"animate\"}, {\"args\": [[\"04/14/2003\"], {\"frame\": {\"duration\": 0, \"redraw\": true}, \"fromcurrent\": true, \"mode\": \"immediate\", \"transition\": {\"duration\": 0, \"easing\": \"linear\"}}], \"label\": \"04/14/2003\", \"method\": \"animate\"}, {\"args\": [[\"04/15/2003\"], {\"frame\": {\"duration\": 0, \"redraw\": true}, \"fromcurrent\": true, \"mode\": \"immediate\", \"transition\": {\"duration\": 0, \"easing\": \"linear\"}}], \"label\": \"04/15/2003\", \"method\": \"animate\"}, {\"args\": [[\"04/16/2003\"], {\"frame\": {\"duration\": 0, \"redraw\": true}, \"fromcurrent\": true, \"mode\": \"immediate\", \"transition\": {\"duration\": 0, \"easing\": \"linear\"}}], \"label\": \"04/16/2003\", \"method\": \"animate\"}, {\"args\": [[\"04/17/2003\"], {\"frame\": {\"duration\": 0, \"redraw\": true}, \"fromcurrent\": true, \"mode\": \"immediate\", \"transition\": {\"duration\": 0, \"easing\": \"linear\"}}], \"label\": \"04/17/2003\", \"method\": \"animate\"}, {\"args\": [[\"04/18/2003\"], {\"frame\": {\"duration\": 0, \"redraw\": true}, \"fromcurrent\": true, \"mode\": \"immediate\", \"transition\": {\"duration\": 0, \"easing\": \"linear\"}}], \"label\": \"04/18/2003\", \"method\": \"animate\"}, {\"args\": [[\"04/19/2003\"], {\"frame\": {\"duration\": 0, \"redraw\": true}, \"fromcurrent\": true, \"mode\": \"immediate\", \"transition\": {\"duration\": 0, \"easing\": \"linear\"}}], \"label\": \"04/19/2003\", \"method\": \"animate\"}, {\"args\": [[\"04/21/2003\"], {\"frame\": {\"duration\": 0, \"redraw\": true}, \"fromcurrent\": true, \"mode\": \"immediate\", \"transition\": {\"duration\": 0, \"easing\": \"linear\"}}], \"label\": \"04/21/2003\", \"method\": \"animate\"}, {\"args\": [[\"04/22/2003\"], {\"frame\": {\"duration\": 0, \"redraw\": true}, \"fromcurrent\": true, \"mode\": \"immediate\", \"transition\": {\"duration\": 0, \"easing\": \"linear\"}}], \"label\": \"04/22/2003\", \"method\": \"animate\"}, {\"args\": [[\"04/23/2003\"], {\"frame\": {\"duration\": 0, \"redraw\": true}, \"fromcurrent\": true, \"mode\": \"immediate\", \"transition\": {\"duration\": 0, \"easing\": \"linear\"}}], \"label\": \"04/23/2003\", \"method\": \"animate\"}, {\"args\": [[\"04/24/2003\"], {\"frame\": {\"duration\": 0, \"redraw\": true}, \"fromcurrent\": true, \"mode\": \"immediate\", \"transition\": {\"duration\": 0, \"easing\": \"linear\"}}], \"label\": \"04/24/2003\", \"method\": \"animate\"}, {\"args\": [[\"04/25/2003\"], {\"frame\": {\"duration\": 0, \"redraw\": true}, \"fromcurrent\": true, \"mode\": \"immediate\", \"transition\": {\"duration\": 0, \"easing\": \"linear\"}}], \"label\": \"04/25/2003\", \"method\": \"animate\"}, {\"args\": [[\"04/26/2003\"], {\"frame\": {\"duration\": 0, \"redraw\": true}, \"fromcurrent\": true, \"mode\": \"immediate\", \"transition\": {\"duration\": 0, \"easing\": \"linear\"}}], \"label\": \"04/26/2003\", \"method\": \"animate\"}, {\"args\": [[\"04/28/2003\"], {\"frame\": {\"duration\": 0, \"redraw\": true}, \"fromcurrent\": true, \"mode\": \"immediate\", \"transition\": {\"duration\": 0, \"easing\": \"linear\"}}], \"label\": \"04/28/2003\", \"method\": \"animate\"}, {\"args\": [[\"04/29/2003\"], {\"frame\": {\"duration\": 0, \"redraw\": true}, \"fromcurrent\": true, \"mode\": \"immediate\", \"transition\": {\"duration\": 0, \"easing\": \"linear\"}}], \"label\": \"04/29/2003\", \"method\": \"animate\"}, {\"args\": [[\"04/30/2003\"], {\"frame\": {\"duration\": 0, \"redraw\": true}, \"fromcurrent\": true, \"mode\": \"immediate\", \"transition\": {\"duration\": 0, \"easing\": \"linear\"}}], \"label\": \"04/30/2003\", \"method\": \"animate\"}, {\"args\": [[\"05/01/2003\"], {\"frame\": {\"duration\": 0, \"redraw\": true}, \"fromcurrent\": true, \"mode\": \"immediate\", \"transition\": {\"duration\": 0, \"easing\": \"linear\"}}], \"label\": \"05/01/2003\", \"method\": \"animate\"}, {\"args\": [[\"05/02/2003\"], {\"frame\": {\"duration\": 0, \"redraw\": true}, \"fromcurrent\": true, \"mode\": \"immediate\", \"transition\": {\"duration\": 0, \"easing\": \"linear\"}}], \"label\": \"05/02/2003\", \"method\": \"animate\"}, {\"args\": [[\"05/03/2003\"], {\"frame\": {\"duration\": 0, \"redraw\": true}, \"fromcurrent\": true, \"mode\": \"immediate\", \"transition\": {\"duration\": 0, \"easing\": \"linear\"}}], \"label\": \"05/03/2003\", \"method\": \"animate\"}, {\"args\": [[\"05/05/2003\"], {\"frame\": {\"duration\": 0, \"redraw\": true}, \"fromcurrent\": true, \"mode\": \"immediate\", \"transition\": {\"duration\": 0, \"easing\": \"linear\"}}], \"label\": \"05/05/2003\", \"method\": \"animate\"}, {\"args\": [[\"05/06/2003\"], {\"frame\": {\"duration\": 0, \"redraw\": true}, \"fromcurrent\": true, \"mode\": \"immediate\", \"transition\": {\"duration\": 0, \"easing\": \"linear\"}}], \"label\": \"05/06/2003\", \"method\": \"animate\"}, {\"args\": [[\"05/07/2003\"], {\"frame\": {\"duration\": 0, \"redraw\": true}, \"fromcurrent\": true, \"mode\": \"immediate\", \"transition\": {\"duration\": 0, \"easing\": \"linear\"}}], \"label\": \"05/07/2003\", \"method\": \"animate\"}, {\"args\": [[\"05/08/2003\"], {\"frame\": {\"duration\": 0, \"redraw\": true}, \"fromcurrent\": true, \"mode\": \"immediate\", \"transition\": {\"duration\": 0, \"easing\": \"linear\"}}], \"label\": \"05/08/2003\", \"method\": \"animate\"}, {\"args\": [[\"05/09/2003\"], {\"frame\": {\"duration\": 0, \"redraw\": true}, \"fromcurrent\": true, \"mode\": \"immediate\", \"transition\": {\"duration\": 0, \"easing\": \"linear\"}}], \"label\": \"05/09/2003\", \"method\": \"animate\"}, {\"args\": [[\"05/10/2003\"], {\"frame\": {\"duration\": 0, \"redraw\": true}, \"fromcurrent\": true, \"mode\": \"immediate\", \"transition\": {\"duration\": 0, \"easing\": \"linear\"}}], \"label\": \"05/10/2003\", \"method\": \"animate\"}, {\"args\": [[\"05/12/2003\"], {\"frame\": {\"duration\": 0, \"redraw\": true}, \"fromcurrent\": true, \"mode\": \"immediate\", \"transition\": {\"duration\": 0, \"easing\": \"linear\"}}], \"label\": \"05/12/2003\", \"method\": \"animate\"}, {\"args\": [[\"05/13/2003\"], {\"frame\": {\"duration\": 0, \"redraw\": true}, \"fromcurrent\": true, \"mode\": \"immediate\", \"transition\": {\"duration\": 0, \"easing\": \"linear\"}}], \"label\": \"05/13/2003\", \"method\": \"animate\"}, {\"args\": [[\"05/14/2003\"], {\"frame\": {\"duration\": 0, \"redraw\": true}, \"fromcurrent\": true, \"mode\": \"immediate\", \"transition\": {\"duration\": 0, \"easing\": \"linear\"}}], \"label\": \"05/14/2003\", \"method\": \"animate\"}, {\"args\": [[\"05/15/2003\"], {\"frame\": {\"duration\": 0, \"redraw\": true}, \"fromcurrent\": true, \"mode\": \"immediate\", \"transition\": {\"duration\": 0, \"easing\": \"linear\"}}], \"label\": \"05/15/2003\", \"method\": \"animate\"}, {\"args\": [[\"05/16/2003\"], {\"frame\": {\"duration\": 0, \"redraw\": true}, \"fromcurrent\": true, \"mode\": \"immediate\", \"transition\": {\"duration\": 0, \"easing\": \"linear\"}}], \"label\": \"05/16/2003\", \"method\": \"animate\"}, {\"args\": [[\"05/17/2003\"], {\"frame\": {\"duration\": 0, \"redraw\": true}, \"fromcurrent\": true, \"mode\": \"immediate\", \"transition\": {\"duration\": 0, \"easing\": \"linear\"}}], \"label\": \"05/17/2003\", \"method\": \"animate\"}, {\"args\": [[\"05/19/2003\"], {\"frame\": {\"duration\": 0, \"redraw\": true}, \"fromcurrent\": true, \"mode\": \"immediate\", \"transition\": {\"duration\": 0, \"easing\": \"linear\"}}], \"label\": \"05/19/2003\", \"method\": \"animate\"}, {\"args\": [[\"05/20/2003\"], {\"frame\": {\"duration\": 0, \"redraw\": true}, \"fromcurrent\": true, \"mode\": \"immediate\", \"transition\": {\"duration\": 0, \"easing\": \"linear\"}}], \"label\": \"05/20/2003\", \"method\": \"animate\"}, {\"args\": [[\"05/21/2003\"], {\"frame\": {\"duration\": 0, \"redraw\": true}, \"fromcurrent\": true, \"mode\": \"immediate\", \"transition\": {\"duration\": 0, \"easing\": \"linear\"}}], \"label\": \"05/21/2003\", \"method\": \"animate\"}, {\"args\": [[\"05/22/2003\"], {\"frame\": {\"duration\": 0, \"redraw\": true}, \"fromcurrent\": true, \"mode\": \"immediate\", \"transition\": {\"duration\": 0, \"easing\": \"linear\"}}], \"label\": \"05/22/2003\", \"method\": \"animate\"}, {\"args\": [[\"05/23/2003\"], {\"frame\": {\"duration\": 0, \"redraw\": true}, \"fromcurrent\": true, \"mode\": \"immediate\", \"transition\": {\"duration\": 0, \"easing\": \"linear\"}}], \"label\": \"05/23/2003\", \"method\": \"animate\"}, {\"args\": [[\"05/24/2003\"], {\"frame\": {\"duration\": 0, \"redraw\": true}, \"fromcurrent\": true, \"mode\": \"immediate\", \"transition\": {\"duration\": 0, \"easing\": \"linear\"}}], \"label\": \"05/24/2003\", \"method\": \"animate\"}, {\"args\": [[\"05/26/2003\"], {\"frame\": {\"duration\": 0, \"redraw\": true}, \"fromcurrent\": true, \"mode\": \"immediate\", \"transition\": {\"duration\": 0, \"easing\": \"linear\"}}], \"label\": \"05/26/2003\", \"method\": \"animate\"}, {\"args\": [[\"05/27/2003\"], {\"frame\": {\"duration\": 0, \"redraw\": true}, \"fromcurrent\": true, \"mode\": \"immediate\", \"transition\": {\"duration\": 0, \"easing\": \"linear\"}}], \"label\": \"05/27/2003\", \"method\": \"animate\"}, {\"args\": [[\"05/28/2003\"], {\"frame\": {\"duration\": 0, \"redraw\": true}, \"fromcurrent\": true, \"mode\": \"immediate\", \"transition\": {\"duration\": 0, \"easing\": \"linear\"}}], \"label\": \"05/28/2003\", \"method\": \"animate\"}, {\"args\": [[\"05/29/2003\"], {\"frame\": {\"duration\": 0, \"redraw\": true}, \"fromcurrent\": true, \"mode\": \"immediate\", \"transition\": {\"duration\": 0, \"easing\": \"linear\"}}], \"label\": \"05/29/2003\", \"method\": \"animate\"}, {\"args\": [[\"05/30/2003\"], {\"frame\": {\"duration\": 0, \"redraw\": true}, \"fromcurrent\": true, \"mode\": \"immediate\", \"transition\": {\"duration\": 0, \"easing\": \"linear\"}}], \"label\": \"05/30/2003\", \"method\": \"animate\"}, {\"args\": [[\"05/31/2003\"], {\"frame\": {\"duration\": 0, \"redraw\": true}, \"fromcurrent\": true, \"mode\": \"immediate\", \"transition\": {\"duration\": 0, \"easing\": \"linear\"}}], \"label\": \"05/31/2003\", \"method\": \"animate\"}, {\"args\": [[\"06/02/2003\"], {\"frame\": {\"duration\": 0, \"redraw\": true}, \"fromcurrent\": true, \"mode\": \"immediate\", \"transition\": {\"duration\": 0, \"easing\": \"linear\"}}], \"label\": \"06/02/2003\", \"method\": \"animate\"}, {\"args\": [[\"06/03/2003\"], {\"frame\": {\"duration\": 0, \"redraw\": true}, \"fromcurrent\": true, \"mode\": \"immediate\", \"transition\": {\"duration\": 0, \"easing\": \"linear\"}}], \"label\": \"06/03/2003\", \"method\": \"animate\"}, {\"args\": [[\"06/04/2003\"], {\"frame\": {\"duration\": 0, \"redraw\": true}, \"fromcurrent\": true, \"mode\": \"immediate\", \"transition\": {\"duration\": 0, \"easing\": \"linear\"}}], \"label\": \"06/04/2003\", \"method\": \"animate\"}, {\"args\": [[\"06/05/2003\"], {\"frame\": {\"duration\": 0, \"redraw\": true}, \"fromcurrent\": true, \"mode\": \"immediate\", \"transition\": {\"duration\": 0, \"easing\": \"linear\"}}], \"label\": \"06/05/2003\", \"method\": \"animate\"}, {\"args\": [[\"06/06/2003\"], {\"frame\": {\"duration\": 0, \"redraw\": true}, \"fromcurrent\": true, \"mode\": \"immediate\", \"transition\": {\"duration\": 0, \"easing\": \"linear\"}}], \"label\": \"06/06/2003\", \"method\": \"animate\"}, {\"args\": [[\"06/09/2003\"], {\"frame\": {\"duration\": 0, \"redraw\": true}, \"fromcurrent\": true, \"mode\": \"immediate\", \"transition\": {\"duration\": 0, \"easing\": \"linear\"}}], \"label\": \"06/09/2003\", \"method\": \"animate\"}, {\"args\": [[\"06/10/2003\"], {\"frame\": {\"duration\": 0, \"redraw\": true}, \"fromcurrent\": true, \"mode\": \"immediate\", \"transition\": {\"duration\": 0, \"easing\": \"linear\"}}], \"label\": \"06/10/2003\", \"method\": \"animate\"}, {\"args\": [[\"06/11/2003\"], {\"frame\": {\"duration\": 0, \"redraw\": true}, \"fromcurrent\": true, \"mode\": \"immediate\", \"transition\": {\"duration\": 0, \"easing\": \"linear\"}}], \"label\": \"06/11/2003\", \"method\": \"animate\"}, {\"args\": [[\"06/12/2003\"], {\"frame\": {\"duration\": 0, \"redraw\": true}, \"fromcurrent\": true, \"mode\": \"immediate\", \"transition\": {\"duration\": 0, \"easing\": \"linear\"}}], \"label\": \"06/12/2003\", \"method\": \"animate\"}, {\"args\": [[\"06/13/2003\"], {\"frame\": {\"duration\": 0, \"redraw\": true}, \"fromcurrent\": true, \"mode\": \"immediate\", \"transition\": {\"duration\": 0, \"easing\": \"linear\"}}], \"label\": \"06/13/2003\", \"method\": \"animate\"}, {\"args\": [[\"06/16/2003\"], {\"frame\": {\"duration\": 0, \"redraw\": true}, \"fromcurrent\": true, \"mode\": \"immediate\", \"transition\": {\"duration\": 0, \"easing\": \"linear\"}}], \"label\": \"06/16/2003\", \"method\": \"animate\"}, {\"args\": [[\"06/17/2003\"], {\"frame\": {\"duration\": 0, \"redraw\": true}, \"fromcurrent\": true, \"mode\": \"immediate\", \"transition\": {\"duration\": 0, \"easing\": \"linear\"}}], \"label\": \"06/17/2003\", \"method\": \"animate\"}, {\"args\": [[\"06/18/2003\"], {\"frame\": {\"duration\": 0, \"redraw\": true}, \"fromcurrent\": true, \"mode\": \"immediate\", \"transition\": {\"duration\": 0, \"easing\": \"linear\"}}], \"label\": \"06/18/2003\", \"method\": \"animate\"}, {\"args\": [[\"06/19/2003\"], {\"frame\": {\"duration\": 0, \"redraw\": true}, \"fromcurrent\": true, \"mode\": \"immediate\", \"transition\": {\"duration\": 0, \"easing\": \"linear\"}}], \"label\": \"06/19/2003\", \"method\": \"animate\"}, {\"args\": [[\"06/20/2003\"], {\"frame\": {\"duration\": 0, \"redraw\": true}, \"fromcurrent\": true, \"mode\": \"immediate\", \"transition\": {\"duration\": 0, \"easing\": \"linear\"}}], \"label\": \"06/20/2003\", \"method\": \"animate\"}, {\"args\": [[\"06/23/2003\"], {\"frame\": {\"duration\": 0, \"redraw\": true}, \"fromcurrent\": true, \"mode\": \"immediate\", \"transition\": {\"duration\": 0, \"easing\": \"linear\"}}], \"label\": \"06/23/2003\", \"method\": \"animate\"}, {\"args\": [[\"06/24/2003\"], {\"frame\": {\"duration\": 0, \"redraw\": true}, \"fromcurrent\": true, \"mode\": \"immediate\", \"transition\": {\"duration\": 0, \"easing\": \"linear\"}}], \"label\": \"06/24/2003\", \"method\": \"animate\"}, {\"args\": [[\"06/25/2003\"], {\"frame\": {\"duration\": 0, \"redraw\": true}, \"fromcurrent\": true, \"mode\": \"immediate\", \"transition\": {\"duration\": 0, \"easing\": \"linear\"}}], \"label\": \"06/25/2003\", \"method\": \"animate\"}, {\"args\": [[\"06/26/2003\"], {\"frame\": {\"duration\": 0, \"redraw\": true}, \"fromcurrent\": true, \"mode\": \"immediate\", \"transition\": {\"duration\": 0, \"easing\": \"linear\"}}], \"label\": \"06/26/2003\", \"method\": \"animate\"}, {\"args\": [[\"06/27/2003\"], {\"frame\": {\"duration\": 0, \"redraw\": true}, \"fromcurrent\": true, \"mode\": \"immediate\", \"transition\": {\"duration\": 0, \"easing\": \"linear\"}}], \"label\": \"06/27/2003\", \"method\": \"animate\"}, {\"args\": [[\"06/30/2003\"], {\"frame\": {\"duration\": 0, \"redraw\": true}, \"fromcurrent\": true, \"mode\": \"immediate\", \"transition\": {\"duration\": 0, \"easing\": \"linear\"}}], \"label\": \"06/30/2003\", \"method\": \"animate\"}, {\"args\": [[\"07/01/2003\"], {\"frame\": {\"duration\": 0, \"redraw\": true}, \"fromcurrent\": true, \"mode\": \"immediate\", \"transition\": {\"duration\": 0, \"easing\": \"linear\"}}], \"label\": \"07/01/2003\", \"method\": \"animate\"}, {\"args\": [[\"07/02/2003\"], {\"frame\": {\"duration\": 0, \"redraw\": true}, \"fromcurrent\": true, \"mode\": \"immediate\", \"transition\": {\"duration\": 0, \"easing\": \"linear\"}}], \"label\": \"07/02/2003\", \"method\": \"animate\"}, {\"args\": [[\"07/03/2003\"], {\"frame\": {\"duration\": 0, \"redraw\": true}, \"fromcurrent\": true, \"mode\": \"immediate\", \"transition\": {\"duration\": 0, \"easing\": \"linear\"}}], \"label\": \"07/03/2003\", \"method\": \"animate\"}, {\"args\": [[\"07/04/2003\"], {\"frame\": {\"duration\": 0, \"redraw\": true}, \"fromcurrent\": true, \"mode\": \"immediate\", \"transition\": {\"duration\": 0, \"easing\": \"linear\"}}], \"label\": \"07/04/2003\", \"method\": \"animate\"}, {\"args\": [[\"07/07/2003\"], {\"frame\": {\"duration\": 0, \"redraw\": true}, \"fromcurrent\": true, \"mode\": \"immediate\", \"transition\": {\"duration\": 0, \"easing\": \"linear\"}}], \"label\": \"07/07/2003\", \"method\": \"animate\"}, {\"args\": [[\"07/08/2003\"], {\"frame\": {\"duration\": 0, \"redraw\": true}, \"fromcurrent\": true, \"mode\": \"immediate\", \"transition\": {\"duration\": 0, \"easing\": \"linear\"}}], \"label\": \"07/08/2003\", \"method\": \"animate\"}, {\"args\": [[\"07/09/2003\"], {\"frame\": {\"duration\": 0, \"redraw\": true}, \"fromcurrent\": true, \"mode\": \"immediate\", \"transition\": {\"duration\": 0, \"easing\": \"linear\"}}], \"label\": \"07/09/2003\", \"method\": \"animate\"}, {\"args\": [[\"07/10/2003\"], {\"frame\": {\"duration\": 0, \"redraw\": true}, \"fromcurrent\": true, \"mode\": \"immediate\", \"transition\": {\"duration\": 0, \"easing\": \"linear\"}}], \"label\": \"07/10/2003\", \"method\": \"animate\"}, {\"args\": [[\"07/11/2003\"], {\"frame\": {\"duration\": 0, \"redraw\": true}, \"fromcurrent\": true, \"mode\": \"immediate\", \"transition\": {\"duration\": 0, \"easing\": \"linear\"}}], \"label\": \"07/11/2003\", \"method\": \"animate\"}], \"x\": 0.1, \"xanchor\": \"left\", \"y\": 0, \"yanchor\": \"top\"}], \"template\": {\"data\": {\"bar\": [{\"error_x\": {\"color\": \"#2a3f5f\"}, \"error_y\": {\"color\": \"#2a3f5f\"}, \"marker\": {\"line\": {\"color\": \"#E5ECF6\", \"width\": 0.5}}, \"type\": \"bar\"}], \"barpolar\": [{\"marker\": {\"line\": {\"color\": \"#E5ECF6\", \"width\": 0.5}}, \"type\": \"barpolar\"}], \"carpet\": [{\"aaxis\": {\"endlinecolor\": \"#2a3f5f\", \"gridcolor\": \"white\", \"linecolor\": \"white\", \"minorgridcolor\": \"white\", \"startlinecolor\": \"#2a3f5f\"}, \"baxis\": {\"endlinecolor\": \"#2a3f5f\", \"gridcolor\": \"white\", \"linecolor\": \"white\", \"minorgridcolor\": \"white\", \"startlinecolor\": \"#2a3f5f\"}, \"type\": \"carpet\"}], \"choropleth\": [{\"colorbar\": {\"outlinewidth\": 0, \"ticks\": \"\"}, \"type\": \"choropleth\"}], \"contour\": [{\"colorbar\": {\"outlinewidth\": 0, \"ticks\": \"\"}, \"colorscale\": [[0.0, \"#0d0887\"], [0.1111111111111111, \"#46039f\"], [0.2222222222222222, \"#7201a8\"], [0.3333333333333333, \"#9c179e\"], [0.4444444444444444, \"#bd3786\"], [0.5555555555555556, \"#d8576b\"], [0.6666666666666666, \"#ed7953\"], [0.7777777777777778, \"#fb9f3a\"], [0.8888888888888888, \"#fdca26\"], [1.0, \"#f0f921\"]], \"type\": \"contour\"}], \"contourcarpet\": [{\"colorbar\": {\"outlinewidth\": 0, \"ticks\": \"\"}, \"type\": \"contourcarpet\"}], \"heatmap\": [{\"colorbar\": {\"outlinewidth\": 0, \"ticks\": \"\"}, \"colorscale\": [[0.0, \"#0d0887\"], [0.1111111111111111, \"#46039f\"], [0.2222222222222222, \"#7201a8\"], [0.3333333333333333, \"#9c179e\"], [0.4444444444444444, \"#bd3786\"], [0.5555555555555556, \"#d8576b\"], [0.6666666666666666, \"#ed7953\"], [0.7777777777777778, \"#fb9f3a\"], [0.8888888888888888, \"#fdca26\"], [1.0, \"#f0f921\"]], \"type\": \"heatmap\"}], \"heatmapgl\": [{\"colorbar\": {\"outlinewidth\": 0, \"ticks\": \"\"}, \"colorscale\": [[0.0, \"#0d0887\"], [0.1111111111111111, \"#46039f\"], [0.2222222222222222, \"#7201a8\"], [0.3333333333333333, \"#9c179e\"], [0.4444444444444444, \"#bd3786\"], [0.5555555555555556, \"#d8576b\"], [0.6666666666666666, \"#ed7953\"], [0.7777777777777778, \"#fb9f3a\"], [0.8888888888888888, \"#fdca26\"], [1.0, \"#f0f921\"]], \"type\": \"heatmapgl\"}], \"histogram\": [{\"marker\": {\"colorbar\": {\"outlinewidth\": 0, \"ticks\": \"\"}}, \"type\": \"histogram\"}], \"histogram2d\": [{\"colorbar\": {\"outlinewidth\": 0, \"ticks\": \"\"}, \"colorscale\": [[0.0, \"#0d0887\"], [0.1111111111111111, \"#46039f\"], [0.2222222222222222, \"#7201a8\"], [0.3333333333333333, \"#9c179e\"], [0.4444444444444444, \"#bd3786\"], [0.5555555555555556, \"#d8576b\"], [0.6666666666666666, \"#ed7953\"], [0.7777777777777778, \"#fb9f3a\"], [0.8888888888888888, \"#fdca26\"], [1.0, \"#f0f921\"]], \"type\": \"histogram2d\"}], \"histogram2dcontour\": [{\"colorbar\": {\"outlinewidth\": 0, \"ticks\": \"\"}, \"colorscale\": [[0.0, \"#0d0887\"], [0.1111111111111111, \"#46039f\"], [0.2222222222222222, \"#7201a8\"], [0.3333333333333333, \"#9c179e\"], [0.4444444444444444, \"#bd3786\"], [0.5555555555555556, \"#d8576b\"], [0.6666666666666666, \"#ed7953\"], [0.7777777777777778, \"#fb9f3a\"], [0.8888888888888888, \"#fdca26\"], [1.0, \"#f0f921\"]], \"type\": \"histogram2dcontour\"}], \"mesh3d\": [{\"colorbar\": {\"outlinewidth\": 0, \"ticks\": \"\"}, \"type\": \"mesh3d\"}], \"parcoords\": [{\"line\": {\"colorbar\": {\"outlinewidth\": 0, \"ticks\": \"\"}}, \"type\": \"parcoords\"}], \"scatter\": [{\"marker\": {\"colorbar\": {\"outlinewidth\": 0, \"ticks\": \"\"}}, \"type\": \"scatter\"}], \"scatter3d\": [{\"line\": {\"colorbar\": {\"outlinewidth\": 0, \"ticks\": \"\"}}, \"marker\": {\"colorbar\": {\"outlinewidth\": 0, \"ticks\": \"\"}}, \"type\": \"scatter3d\"}], \"scattercarpet\": [{\"marker\": {\"colorbar\": {\"outlinewidth\": 0, \"ticks\": \"\"}}, \"type\": \"scattercarpet\"}], \"scattergeo\": [{\"marker\": {\"colorbar\": {\"outlinewidth\": 0, \"ticks\": \"\"}}, \"type\": \"scattergeo\"}], \"scattergl\": [{\"marker\": {\"colorbar\": {\"outlinewidth\": 0, \"ticks\": \"\"}}, \"type\": \"scattergl\"}], \"scattermapbox\": [{\"marker\": {\"colorbar\": {\"outlinewidth\": 0, \"ticks\": \"\"}}, \"type\": \"scattermapbox\"}], \"scatterpolar\": [{\"marker\": {\"colorbar\": {\"outlinewidth\": 0, \"ticks\": \"\"}}, \"type\": \"scatterpolar\"}], \"scatterpolargl\": [{\"marker\": {\"colorbar\": {\"outlinewidth\": 0, \"ticks\": \"\"}}, \"type\": \"scatterpolargl\"}], \"scatterternary\": [{\"marker\": {\"colorbar\": {\"outlinewidth\": 0, \"ticks\": \"\"}}, \"type\": \"scatterternary\"}], \"surface\": [{\"colorbar\": {\"outlinewidth\": 0, \"ticks\": \"\"}, \"colorscale\": [[0.0, \"#0d0887\"], [0.1111111111111111, \"#46039f\"], [0.2222222222222222, \"#7201a8\"], [0.3333333333333333, \"#9c179e\"], [0.4444444444444444, \"#bd3786\"], [0.5555555555555556, \"#d8576b\"], [0.6666666666666666, \"#ed7953\"], [0.7777777777777778, \"#fb9f3a\"], [0.8888888888888888, \"#fdca26\"], [1.0, \"#f0f921\"]], \"type\": \"surface\"}], \"table\": [{\"cells\": {\"fill\": {\"color\": \"#EBF0F8\"}, \"line\": {\"color\": \"white\"}}, \"header\": {\"fill\": {\"color\": \"#C8D4E3\"}, \"line\": {\"color\": \"white\"}}, \"type\": \"table\"}]}, \"layout\": {\"annotationdefaults\": {\"arrowcolor\": \"#2a3f5f\", \"arrowhead\": 0, \"arrowwidth\": 1}, \"colorscale\": {\"diverging\": [[0, \"#8e0152\"], [0.1, \"#c51b7d\"], [0.2, \"#de77ae\"], [0.3, \"#f1b6da\"], [0.4, \"#fde0ef\"], [0.5, \"#f7f7f7\"], [0.6, \"#e6f5d0\"], [0.7, \"#b8e186\"], [0.8, \"#7fbc41\"], [0.9, \"#4d9221\"], [1, \"#276419\"]], \"sequential\": [[0.0, \"#0d0887\"], [0.1111111111111111, \"#46039f\"], [0.2222222222222222, \"#7201a8\"], [0.3333333333333333, \"#9c179e\"], [0.4444444444444444, \"#bd3786\"], [0.5555555555555556, \"#d8576b\"], [0.6666666666666666, \"#ed7953\"], [0.7777777777777778, \"#fb9f3a\"], [0.8888888888888888, \"#fdca26\"], [1.0, \"#f0f921\"]], \"sequentialminus\": [[0.0, \"#0d0887\"], [0.1111111111111111, \"#46039f\"], [0.2222222222222222, \"#7201a8\"], [0.3333333333333333, \"#9c179e\"], [0.4444444444444444, \"#bd3786\"], [0.5555555555555556, \"#d8576b\"], [0.6666666666666666, \"#ed7953\"], [0.7777777777777778, \"#fb9f3a\"], [0.8888888888888888, \"#fdca26\"], [1.0, \"#f0f921\"]]}, \"colorway\": [\"#636efa\", \"#EF553B\", \"#00cc96\", \"#ab63fa\", \"#FFA15A\", \"#19d3f3\", \"#FF6692\", \"#B6E880\", \"#FF97FF\", \"#FECB52\"], \"font\": {\"color\": \"#2a3f5f\"}, \"geo\": {\"bgcolor\": \"white\", \"lakecolor\": \"white\", \"landcolor\": \"#E5ECF6\", \"showlakes\": true, \"showland\": true, \"subunitcolor\": \"white\"}, \"hoverlabel\": {\"align\": \"left\"}, \"hovermode\": \"closest\", \"mapbox\": {\"style\": \"light\"}, \"paper_bgcolor\": \"white\", \"plot_bgcolor\": \"#E5ECF6\", \"polar\": {\"angularaxis\": {\"gridcolor\": \"white\", \"linecolor\": \"white\", \"ticks\": \"\"}, \"bgcolor\": \"#E5ECF6\", \"radialaxis\": {\"gridcolor\": \"white\", \"linecolor\": \"white\", \"ticks\": \"\"}}, \"scene\": {\"xaxis\": {\"backgroundcolor\": \"#E5ECF6\", \"gridcolor\": \"white\", \"gridwidth\": 2, \"linecolor\": \"white\", \"showbackground\": true, \"ticks\": \"\", \"zerolinecolor\": \"white\"}, \"yaxis\": {\"backgroundcolor\": \"#E5ECF6\", \"gridcolor\": \"white\", \"gridwidth\": 2, \"linecolor\": \"white\", \"showbackground\": true, \"ticks\": \"\", \"zerolinecolor\": \"white\"}, \"zaxis\": {\"backgroundcolor\": \"#E5ECF6\", \"gridcolor\": \"white\", \"gridwidth\": 2, \"linecolor\": \"white\", \"showbackground\": true, \"ticks\": \"\", \"zerolinecolor\": \"white\"}}, \"shapedefaults\": {\"line\": {\"color\": \"#2a3f5f\"}}, \"ternary\": {\"aaxis\": {\"gridcolor\": \"white\", \"linecolor\": \"white\", \"ticks\": \"\"}, \"baxis\": {\"gridcolor\": \"white\", \"linecolor\": \"white\", \"ticks\": \"\"}, \"bgcolor\": \"#E5ECF6\", \"caxis\": {\"gridcolor\": \"white\", \"linecolor\": \"white\", \"ticks\": \"\"}}, \"title\": {\"x\": 0.05}, \"xaxis\": {\"automargin\": true, \"gridcolor\": \"white\", \"linecolor\": \"white\", \"ticks\": \"\", \"zerolinecolor\": \"white\", \"zerolinewidth\": 2}, \"yaxis\": {\"automargin\": true, \"gridcolor\": \"white\", \"linecolor\": \"white\", \"ticks\": \"\", \"zerolinecolor\": \"white\", \"zerolinewidth\": 2}}}, \"title\": {\"text\": \"SARS 2003 : Spread Over Time\"}, \"transition\": {\"duration\": 0.0001}, \"updatemenus\": [{\"buttons\": [{\"args\": [null, {\"frame\": {\"duration\": 500, \"redraw\": true}, \"fromcurrent\": true, \"mode\": \"immediate\", \"transition\": {\"duration\": 500, \"easing\": \"linear\"}}], \"label\": \"&#9654;\", \"method\": \"animate\"}, {\"args\": [[null], {\"frame\": {\"duration\": 0, \"redraw\": true}, \"fromcurrent\": true, \"mode\": \"immediate\", \"transition\": {\"duration\": 0, \"easing\": \"linear\"}}], \"label\": \"&#9724;\", \"method\": \"animate\"}], \"direction\": \"left\", \"pad\": {\"r\": 10, \"t\": 70}, \"showactive\": false, \"type\": \"buttons\", \"x\": 0.1, \"xanchor\": \"right\", \"y\": 0, \"yanchor\": \"top\"}]},\n",
       "                        {\"responsive\": true}\n",
       "                    ).then(function(){\n",
       "                            Plotly.addFrames('bdec8a48-a248-4b8d-80b6-167d43125bb9', [{\"data\": [{\"geo\": \"geo\", \"hoverlabel\": {\"namelength\": 0}, \"hovertemplate\": \"<b>%{hovertext}</b><br><br>Date=03/17/2003<br>size=%{marker.size}<br>Country=%{location}<br>Confirmed=%{marker.color}\", \"hovertext\": [\"Canada\", \"Germany\", \"Hong Kong SAR, China\", \"Singapore\", \"Switzerland\", \"Thailand\", \"Viet Nam\"], \"legendgroup\": \"\", \"locationmode\": \"country names\", \"locations\": [\"Canada\", \"Germany\", \"Hong Kong SAR, China\", \"Singapore\", \"Switzerland\", \"Thailand\", \"Viet Nam\"], \"marker\": {\"color\": [8, 1, 95, 20, 2, 1, 40], \"coloraxis\": \"coloraxis\", \"size\": [1.8660659830736148, 1.0, 3.920279951613009, 2.4564560522315806, 1.2311444133449163, 1.0, 3.0242521453322184], \"sizemode\": \"area\", \"sizeref\": 0.03280452281427571}, \"name\": \"\", \"showlegend\": false, \"type\": \"scattergeo\"}], \"name\": \"03/17/2003\"}, {\"data\": [{\"geo\": \"geo\", \"hoverlabel\": {\"namelength\": 0}, \"hovertemplate\": \"<b>%{hovertext}</b><br><br>Date=03/18/2003<br>size=%{marker.size}<br>Country=%{location}<br>Confirmed=%{marker.color}\", \"hovertext\": [\"Canada\", \"China\", \"Germany\", \"Hong Kong SAR, China\", \"Singapore\", \"Slovenia\", \"Taiwan, China\", \"Thailand\", \"United Kingdom\", \"Viet Nam\"], \"legendgroup\": \"\", \"locationmode\": \"country names\", \"locations\": [\"Canada\", \"China\", \"Germany\", \"Hong Kong SAR, China\", \"Singapore\", \"Slovenia\", \"Taiwan, China\", \"Thailand\", \"United Kingdom\", \"Viet Nam\"], \"marker\": {\"color\": [8, 0, 2, 123, 23, 1, 3, 1, 1, 57], \"coloraxis\": \"coloraxis\", \"size\": [1.8660659830736148, 0.0, 1.2311444133449163, 4.236151985630706, 2.5616415021458128, 1.0, 1.3903891703159093, 1.0, 1.0, 3.3632756010449447], \"sizemode\": \"area\", \"sizeref\": 0.03280452281427571}, \"name\": \"\", \"showlegend\": false, \"type\": \"scattergeo\"}], \"name\": \"03/18/2003\"}, {\"data\": [{\"geo\": \"geo\", \"hoverlabel\": {\"namelength\": 0}, \"hovertemplate\": \"<b>%{hovertext}</b><br><br>Date=03/19/2003<br>size=%{marker.size}<br>Country=%{location}<br>Confirmed=%{marker.color}\", \"hovertext\": [\"Canada\", \"China\", \"Germany\", \"Hong Kong SAR, China\", \"Singapore\", \"Slovenia\", \"Spain\", \"Taiwan, China\", \"Thailand\", \"United Kingdom\", \"United States\", \"Viet Nam\"], \"legendgroup\": \"\", \"locationmode\": \"country names\", \"locations\": [\"Canada\", \"China\", \"Germany\", \"Hong Kong SAR, China\", \"Singapore\", \"Slovenia\", \"Spain\", \"Taiwan, China\", \"Thailand\", \"United Kingdom\", \"United States\", \"Viet Nam\"], \"marker\": {\"color\": [8, 0, 1, 150, 31, 1, 1, 3, 1, 1, 11, 56], \"coloraxis\": \"coloraxis\", \"size\": [1.8660659830736148, 0.0, 1.0, 4.496011130479918, 2.8016153494371836, 1.0, 1.0, 1.3903891703159093, 1.0, 1.0, 2.053136413658844, 3.345464363856254], \"sizemode\": \"area\", \"sizeref\": 0.03280452281427571}, \"name\": \"\", \"showlegend\": false, \"type\": \"scattergeo\"}], \"name\": \"03/19/2003\"}, {\"data\": [{\"geo\": \"geo\", \"hoverlabel\": {\"namelength\": 0}, \"hovertemplate\": \"<b>%{hovertext}</b><br><br>Date=03/20/2003<br>size=%{marker.size}<br>Country=%{location}<br>Confirmed=%{marker.color}\", \"hovertext\": [\"Canada\", \"China\", \"Germany\", \"Hong Kong SAR, China\", \"Singapore\", \"Slovenia\", \"Spain\", \"Switzerland\", \"Taiwan, China\", \"Thailand\", \"United Kingdom\", \"United States\", \"Viet Nam\"], \"legendgroup\": \"\", \"locationmode\": \"country names\", \"locations\": [\"Canada\", \"China\", \"Germany\", \"Hong Kong SAR, China\", \"Singapore\", \"Slovenia\", \"Spain\", \"Switzerland\", \"Taiwan, China\", \"Thailand\", \"United Kingdom\", \"United States\", \"Viet Nam\"], \"marker\": {\"color\": [9, 0, 1, 173, 34, 1, 1, 7, 4, 1, 2, 11, 62], \"coloraxis\": \"coloraxis\", \"size\": [1.9331820449317627, 0.0, 1.0, 4.692603183910705, 2.8803394661274377, 1.0, 1.0, 1.792789962520997, 1.515716566510398, 1.0, 1.2311444133449163, 2.053136413658844, 3.449193085800954], \"sizemode\": \"area\", \"sizeref\": 0.03280452281427571}, \"name\": \"\", \"showlegend\": false, \"type\": \"scattergeo\"}], \"name\": \"03/20/2003\"}, {\"data\": [{\"geo\": \"geo\", \"hoverlabel\": {\"namelength\": 0}, \"hovertemplate\": \"<b>%{hovertext}</b><br><br>Date=03/21/2003<br>size=%{marker.size}<br>Country=%{location}<br>Confirmed=%{marker.color}\", \"hovertext\": [\"Canada\", \"China\", \"Germany\", \"Hong Kong SAR, China\", \"Italy\", \"Republic of Ireland\", \"Singapore\", \"Slovenia\", \"Spain\", \"Switzerland\", \"Taiwan, China\", \"Thailand\", \"United Kingdom\", \"United States\", \"Viet Nam\"], \"legendgroup\": \"\", \"locationmode\": \"country names\", \"locations\": [\"Canada\", \"China\", \"Germany\", \"Hong Kong SAR, China\", \"Italy\", \"Republic of Ireland\", \"Singapore\", \"Slovenia\", \"Spain\", \"Switzerland\", \"Taiwan, China\", \"Thailand\", \"United Kingdom\", \"United States\", \"Viet Nam\"], \"marker\": {\"color\": [9, 0, 1, 203, 1, 1, 39, 1, 1, 7, 6, 4, 2, 13, 62], \"coloraxis\": \"coloraxis\", \"size\": [1.9331820449317627, 0.0, 1.0, 4.9232151050255055, 1.0, 1.0, 3.001368927744568, 1.0, 1.0, 1.792789962520997, 1.711769859409705, 1.515716566510398, 1.2311444133449163, 2.1586538444215795, 3.449193085800954], \"sizemode\": \"area\", \"sizeref\": 0.03280452281427571}, \"name\": \"\", \"showlegend\": false, \"type\": \"scattergeo\"}], \"name\": \"03/21/2003\"}, {\"data\": [{\"geo\": \"geo\", \"hoverlabel\": {\"namelength\": 0}, \"hovertemplate\": \"<b>%{hovertext}</b><br><br>Date=03/22/2003<br>size=%{marker.size}<br>Country=%{location}<br>Confirmed=%{marker.color}\", \"hovertext\": [\"Canada\", \"China\", \"Germany\", \"Hong Kong SAR, China\", \"Italy\", \"Republic of Ireland\", \"Singapore\", \"Slovenia\", \"Spain\", \"Switzerland\", \"Taiwan, China\", \"Thailand\", \"United Kingdom\", \"United States\", \"Viet Nam\"], \"legendgroup\": \"\", \"locationmode\": \"country names\", \"locations\": [\"Canada\", \"China\", \"Germany\", \"Hong Kong SAR, China\", \"Italy\", \"Republic of Ireland\", \"Singapore\", \"Slovenia\", \"Spain\", \"Switzerland\", \"Taiwan, China\", \"Thailand\", \"United Kingdom\", \"United States\", \"Viet Nam\"], \"marker\": {\"color\": [9, 0, 2, 222, 2, 1, 44, 1, 1, 7, 6, 4, 2, 22, 63], \"coloraxis\": \"coloraxis\", \"size\": [1.9331820449317627, 0.0, 1.2311444133449163, 5.057150662733924, 1.2311444133449163, 1.0, 3.1119728754884552, 1.0, 1.0, 1.792789962520997, 1.711769859409705, 1.515716566510398, 1.2311444133449163, 2.5277074255111027, 3.4657893658794796], \"sizemode\": \"area\", \"sizeref\": 0.03280452281427571}, \"name\": \"\", \"showlegend\": false, \"type\": \"scattergeo\"}], \"name\": \"03/22/2003\"}, {\"data\": [{\"geo\": \"geo\", \"hoverlabel\": {\"namelength\": 0}, \"hovertemplate\": \"<b>%{hovertext}</b><br><br>Date=03/24/2003<br>size=%{marker.size}<br>Country=%{location}<br>Confirmed=%{marker.color}\", \"hovertext\": [\"Canada\", \"China\", \"France\", \"Germany\", \"Hong Kong SAR, China\", \"Italy\", \"Republic of Ireland\", \"Singapore\", \"Spain\", \"Switzerland\", \"Taiwan, China\", \"Thailand\", \"United Kingdom\", \"United States\", \"Viet Nam\"], \"legendgroup\": \"\", \"locationmode\": \"country names\", \"locations\": [\"Canada\", \"China\", \"France\", \"Germany\", \"Hong Kong SAR, China\", \"Italy\", \"Republic of Ireland\", \"Singapore\", \"Spain\", \"Switzerland\", \"Taiwan, China\", \"Thailand\", \"United Kingdom\", \"United States\", \"Viet Nam\"], \"marker\": {\"color\": [11, 0, 1, 4, 260, 2, 1, 65, 1, 2, 6, 5, 3, 37, 58], \"coloraxis\": \"coloraxis\", \"size\": [2.053136413658844, 0.0, 1.0, 1.515716566510398, 5.302638300802359, 1.2311444133449163, 1.0, 3.4984365929380252, 1.0, 1.2311444133449163, 1.711769859409705, 1.6206565966927624, 1.3903891703159093, 2.954340289925338, 3.380869426401905], \"sizemode\": \"area\", \"sizeref\": 0.03280452281427571}, \"name\": \"\", \"showlegend\": false, \"type\": \"scattergeo\"}], \"name\": \"03/24/2003\"}, {\"data\": [{\"geo\": \"geo\", \"hoverlabel\": {\"namelength\": 0}, \"hovertemplate\": \"<b>%{hovertext}</b><br><br>Date=03/25/2003<br>size=%{marker.size}<br>Country=%{location}<br>Confirmed=%{marker.color}\", \"hovertext\": [\"Canada\", \"China\", \"France\", \"Germany\", \"Hong Kong SAR, China\", \"Italy\", \"Republic of Ireland\", \"Singapore\", \"Switzerland\", \"Taiwan, China\", \"Thailand\", \"United Kingdom\", \"United States\", \"Viet Nam\"], \"legendgroup\": \"\", \"locationmode\": \"country names\", \"locations\": [\"Canada\", \"China\", \"France\", \"Germany\", \"Hong Kong SAR, China\", \"Italy\", \"Republic of Ireland\", \"Singapore\", \"Switzerland\", \"Taiwan, China\", \"Thailand\", \"United Kingdom\", \"United States\", \"Viet Nam\"], \"marker\": {\"color\": [11, 0, 1, 4, 286, 2, 1, 69, 2, 6, 5, 3, 39, 58], \"coloraxis\": \"coloraxis\", \"size\": [2.053136413658844, 0.0, 1.0, 1.515716566510398, 5.456445351652516, 1.2311444133449163, 1.0, 3.561678602815316, 1.2311444133449163, 1.711769859409705, 1.6206565966927624, 1.3903891703159093, 3.001368927744568, 3.380869426401905], \"sizemode\": \"area\", \"sizeref\": 0.03280452281427571}, \"name\": \"\", \"showlegend\": false, \"type\": \"scattergeo\"}], \"name\": \"03/25/2003\"}, {\"data\": [{\"geo\": \"geo\", \"hoverlabel\": {\"namelength\": 0}, \"hovertemplate\": \"<b>%{hovertext}</b><br><br>Date=03/26/2003<br>size=%{marker.size}<br>Country=%{location}<br>Confirmed=%{marker.color}\", \"hovertext\": [\"Canada\", \"China\", \"France\", \"Germany\", \"Hong Kong SAR, China\", \"Italy\", \"Republic of Ireland\", \"Singapore\", \"Switzerland\", \"Taiwan, China\", \"Thailand\", \"United Kingdom\", \"United States\", \"Viet Nam\"], \"legendgroup\": \"\", \"locationmode\": \"country names\", \"locations\": [\"Canada\", \"China\", \"France\", \"Germany\", \"Hong Kong SAR, China\", \"Italy\", \"Republic of Ireland\", \"Singapore\", \"Switzerland\", \"Taiwan, China\", \"Thailand\", \"United Kingdom\", \"United States\", \"Viet Nam\"], \"marker\": {\"color\": [19, 792, 1, 4, 316, 3, 2, 74, 2, 6, 3, 3, 40, 58], \"coloraxis\": \"coloraxis\", \"size\": [2.4189454814875875, 7.406577209493961, 1.0, 1.515716566510398, 5.622197850610044, 1.3903891703159093, 1.2311444133449163, 3.6372195430613803, 1.2311444133449163, 1.711769859409705, 1.3903891703159093, 1.3903891703159093, 3.0242521453322184, 3.380869426401905], \"sizemode\": \"area\", \"sizeref\": 0.03280452281427571}, \"name\": \"\", \"showlegend\": false, \"type\": \"scattergeo\"}], \"name\": \"03/26/2003\"}, {\"data\": [{\"geo\": \"geo\", \"hoverlabel\": {\"namelength\": 0}, \"hovertemplate\": \"<b>%{hovertext}</b><br><br>Date=03/27/2003<br>size=%{marker.size}<br>Country=%{location}<br>Confirmed=%{marker.color}\", \"hovertext\": [\"Canada\", \"China\", \"France\", \"Germany\", \"Hong Kong SAR, China\", \"Italy\", \"Republic of Ireland\", \"Romania\", \"Singapore\", \"Switzerland\", \"Taiwan, China\", \"Thailand\", \"United Kingdom\", \"United States\", \"Viet Nam\"], \"legendgroup\": \"\", \"locationmode\": \"country names\", \"locations\": [\"Canada\", \"China\", \"France\", \"Germany\", \"Hong Kong SAR, China\", \"Italy\", \"Republic of Ireland\", \"Romania\", \"Singapore\", \"Switzerland\", \"Taiwan, China\", \"Thailand\", \"United Kingdom\", \"United States\", \"Viet Nam\"], \"marker\": {\"color\": [28, 806, 1, 4, 367, 2, 2, 3, 78, 2, 6, 3, 3, 45, 58], \"coloraxis\": \"coloraxis\", \"size\": [2.717361446466631, 7.445613914816561, 1.0, 1.515716566510398, 5.8803045478208915, 1.2311444133449163, 1.2311444133449163, 1.3903891703159093, 3.695118587779747, 1.2311444133449163, 1.711769859409705, 1.3903891703159093, 1.3903891703159093, 3.1330242337266654, 3.380869426401905], \"sizemode\": \"area\", \"sizeref\": 0.03280452281427571}, \"name\": \"\", \"showlegend\": false, \"type\": \"scattergeo\"}], \"name\": \"03/27/2003\"}, {\"data\": [{\"geo\": \"geo\", \"hoverlabel\": {\"namelength\": 0}, \"hovertemplate\": \"<b>%{hovertext}</b><br><br>Date=03/28/2003<br>size=%{marker.size}<br>Country=%{location}<br>Confirmed=%{marker.color}\", \"hovertext\": [\"Canada\", \"China\", \"France\", \"Germany\", \"Hong Kong SAR, China\", \"Italy\", \"Republic of Ireland\", \"Romania\", \"Singapore\", \"Switzerland\", \"Taiwan, China\", \"Thailand\", \"United Kingdom\", \"United States\", \"Viet Nam\"], \"legendgroup\": \"\", \"locationmode\": \"country names\", \"locations\": [\"Canada\", \"China\", \"France\", \"Germany\", \"Hong Kong SAR, China\", \"Italy\", \"Republic of Ireland\", \"Romania\", \"Singapore\", \"Switzerland\", \"Taiwan, China\", \"Thailand\", \"United Kingdom\", \"United States\", \"Viet Nam\"], \"marker\": {\"color\": [29, 806, 1, 4, 425, 2, 2, 3, 86, 2, 10, 3, 3, 51, 58], \"coloraxis\": \"coloraxis\", \"size\": [2.7461192933624785, 7.445613914816561, 1.0, 1.515716566510398, 6.144926307508437, 1.2311444133449163, 1.2311444133449163, 1.3903891703159093, 3.804955091989956, 1.2311444133449163, 1.9952623149688795, 1.3903891703159093, 1.3903891703159093, 3.2529025491464565, 3.380869426401905], \"sizemode\": \"area\", \"sizeref\": 0.03280452281427571}, \"name\": \"\", \"showlegend\": false, \"type\": \"scattergeo\"}], \"name\": \"03/28/2003\"}, {\"data\": [{\"geo\": \"geo\", \"hoverlabel\": {\"namelength\": 0}, \"hovertemplate\": \"<b>%{hovertext}</b><br><br>Date=03/29/2003<br>size=%{marker.size}<br>Country=%{location}<br>Confirmed=%{marker.color}\", \"hovertext\": [\"Canada\", \"China\", \"France\", \"Germany\", \"Hong Kong SAR, China\", \"Italy\", \"Republic of Ireland\", \"Romania\", \"Singapore\", \"Switzerland\", \"Taiwan, China\", \"Thailand\", \"United Kingdom\", \"United States\", \"Viet Nam\"], \"legendgroup\": \"\", \"locationmode\": \"country names\", \"locations\": [\"Canada\", \"China\", \"France\", \"Germany\", \"Hong Kong SAR, China\", \"Italy\", \"Republic of Ireland\", \"Romania\", \"Singapore\", \"Switzerland\", \"Taiwan, China\", \"Thailand\", \"United Kingdom\", \"United States\", \"Viet Nam\"], \"marker\": {\"color\": [37, 806, 1, 4, 470, 2, 2, 3, 89, 3, 10, 3, 3, 59, 58], \"coloraxis\": \"coloraxis\", \"size\": [2.954340289925338, 7.445613914816561, 1.0, 1.515716566510398, 6.333289746931686, 1.2311444133449163, 1.2311444133449163, 1.3903891703159093, 3.8442976132762077, 1.3903891703159093, 1.9952623149688795, 1.3903891703159093, 1.3903891703159093, 3.3982521746716885, 3.380869426401905], \"sizemode\": \"area\", \"sizeref\": 0.03280452281427571}, \"name\": \"\", \"showlegend\": false, \"type\": \"scattergeo\"}], \"name\": \"03/29/2003\"}, {\"data\": [{\"geo\": \"geo\", \"hoverlabel\": {\"namelength\": 0}, \"hovertemplate\": \"<b>%{hovertext}</b><br><br>Date=03/31/2003<br>size=%{marker.size}<br>Country=%{location}<br>Confirmed=%{marker.color}\", \"hovertext\": [\"Canada\", \"China\", \"France\", \"Germany\", \"Hong Kong SAR, China\", \"Italy\", \"Republic of Ireland\", \"Romania\", \"Singapore\", \"Switzerland\", \"Taiwan, China\", \"Thailand\", \"United Kingdom\", \"United States\", \"Viet Nam\"], \"legendgroup\": \"\", \"locationmode\": \"country names\", \"locations\": [\"Canada\", \"China\", \"France\", \"Germany\", \"Hong Kong SAR, China\", \"Italy\", \"Republic of Ireland\", \"Romania\", \"Singapore\", \"Switzerland\", \"Taiwan, China\", \"Thailand\", \"United Kingdom\", \"United States\", \"Viet Nam\"], \"marker\": {\"color\": [44, 806, 1, 5, 530, 2, 2, 3, 91, 3, 10, 5, 3, 59, 58], \"coloraxis\": \"coloraxis\", \"size\": [3.1119728754884552, 7.445613914816561, 1.0, 1.6206565966927624, 6.565726091132677, 1.2311444133449163, 1.2311444133449163, 1.3903891703159093, 3.8700129448363705, 1.3903891703159093, 1.9952623149688795, 1.6206565966927624, 1.3903891703159093, 3.3982521746716885, 3.380869426401905], \"sizemode\": \"area\", \"sizeref\": 0.03280452281427571}, \"name\": \"\", \"showlegend\": false, \"type\": \"scattergeo\"}], \"name\": \"03/31/2003\"}, {\"data\": [{\"geo\": \"geo\", \"hoverlabel\": {\"namelength\": 0}, \"hovertemplate\": \"<b>%{hovertext}</b><br><br>Date=04/01/2003<br>size=%{marker.size}<br>Country=%{location}<br>Confirmed=%{marker.color}\", \"hovertext\": [\"Australia\", \"Belgium\", \"Canada\", \"China\", \"France\", \"Germany\", \"Hong Kong SAR, China\", \"Italy\", \"Republic of Ireland\", \"Romania\", \"Singapore\", \"Switzerland\", \"Taiwan, China\", \"Thailand\", \"United Kingdom\", \"United States\", \"Viet Nam\"], \"legendgroup\": \"\", \"locationmode\": \"country names\", \"locations\": [\"Australia\", \"Belgium\", \"Canada\", \"China\", \"France\", \"Germany\", \"Hong Kong SAR, China\", \"Italy\", \"Republic of Ireland\", \"Romania\", \"Singapore\", \"Switzerland\", \"Taiwan, China\", \"Thailand\", \"United Kingdom\", \"United States\", \"Viet Nam\"], \"marker\": {\"color\": [1, 1, 53, 806, 1, 5, 685, 3, 2, 3, 92, 3, 13, 6, 3, 69, 58], \"coloraxis\": \"coloraxis\", \"size\": [1.0, 1.0, 3.2906580963691905, 7.445613914816561, 1.0, 1.6206565966927624, 7.090994874320777, 1.3903891703159093, 1.2311444133449163, 1.3903891703159093, 3.8827224622629894, 1.3903891703159093, 2.1586538444215795, 1.711769859409705, 1.3903891703159093, 3.561678602815316, 3.380869426401905], \"sizemode\": \"area\", \"sizeref\": 0.03280452281427571}, \"name\": \"\", \"showlegend\": false, \"type\": \"scattergeo\"}], \"name\": \"04/01/2003\"}, {\"data\": [{\"geo\": \"geo\", \"hoverlabel\": {\"namelength\": 0}, \"hovertemplate\": \"<b>%{hovertext}</b><br><br>Date=04/02/2003<br>size=%{marker.size}<br>Country=%{location}<br>Confirmed=%{marker.color}\", \"hovertext\": [\"Australia\", \"Belgium\", \"Canada\", \"China\", \"France\", \"Germany\", \"Hong Kong SAR, China\", \"Italy\", \"Republic of Ireland\", \"Romania\", \"Singapore\", \"Spain\", \"Switzerland\", \"Taiwan, China\", \"Thailand\", \"United Kingdom\", \"United States\", \"Viet Nam\"], \"legendgroup\": \"\", \"locationmode\": \"country names\", \"locations\": [\"Australia\", \"Belgium\", \"Canada\", \"China\", \"France\", \"Germany\", \"Hong Kong SAR, China\", \"Italy\", \"Republic of Ireland\", \"Romania\", \"Singapore\", \"Spain\", \"Switzerland\", \"Taiwan, China\", \"Thailand\", \"United Kingdom\", \"United States\", \"Viet Nam\"], \"marker\": {\"color\": [1, 1, 58, 1190, 1, 5, 708, 3, 2, 3, 95, 1, 2, 13, 7, 3, 72, 58], \"coloraxis\": \"coloraxis\", \"size\": [1.0, 1.0, 3.380869426401905, 8.368817329997245, 1.0, 1.6206565966927624, 7.161598627928535, 1.3903891703159093, 1.2311444133449163, 1.3903891703159093, 3.920279951613009, 1.0, 1.2311444133449163, 2.1586538444215795, 1.792789962520997, 1.3903891703159093, 3.6074452531358507, 3.380869426401905], \"sizemode\": \"area\", \"sizeref\": 0.03280452281427571}, \"name\": \"\", \"showlegend\": false, \"type\": \"scattergeo\"}], \"name\": \"04/02/2003\"}, {\"data\": [{\"geo\": \"geo\", \"hoverlabel\": {\"namelength\": 0}, \"hovertemplate\": \"<b>%{hovertext}</b><br><br>Date=04/03/2003<br>size=%{marker.size}<br>Country=%{location}<br>Confirmed=%{marker.color}\", \"hovertext\": [\"Australia\", \"Belgium\", \"Brazil\", \"Canada\", \"China\", \"France\", \"Germany\", \"Hong Kong SAR, China\", \"Italy\", \"Republic of Ireland\", \"Romania\", \"Singapore\", \"Switzerland\", \"Taiwan, China\", \"Thailand\", \"United Kingdom\", \"United States\", \"Viet Nam\"], \"legendgroup\": \"\", \"locationmode\": \"country names\", \"locations\": [\"Australia\", \"Belgium\", \"Brazil\", \"Canada\", \"China\", \"France\", \"Germany\", \"Hong Kong SAR, China\", \"Italy\", \"Republic of Ireland\", \"Romania\", \"Singapore\", \"Switzerland\", \"Taiwan, China\", \"Thailand\", \"United Kingdom\", \"United States\", \"Viet Nam\"], \"marker\": {\"color\": [1, 1, 1, 62, 1190, 3, 5, 734, 3, 1, 1, 98, 2, 14, 7, 3, 85, 59], \"coloraxis\": \"coloraxis\", \"size\": [1.0, 1.0, 1.0, 3.449193085800954, 8.368817329997245, 1.3903891703159093, 1.6206565966927624, 7.239504092816395, 1.3903891703159093, 1.0, 1.0, 3.9570161493329823, 1.2311444133449163, 2.2071833466585673, 1.792789962520997, 1.3903891703159093, 3.791627615651737, 3.3982521746716885], \"sizemode\": \"area\", \"sizeref\": 0.03280452281427571}, \"name\": \"\", \"showlegend\": false, \"type\": \"scattergeo\"}], \"name\": \"04/03/2003\"}, {\"data\": [{\"geo\": \"geo\", \"hoverlabel\": {\"namelength\": 0}, \"hovertemplate\": \"<b>%{hovertext}</b><br><br>Date=04/04/2003<br>size=%{marker.size}<br>Country=%{location}<br>Confirmed=%{marker.color}\", \"hovertext\": [\"Australia\", \"Belgium\", \"Brazil\", \"Canada\", \"China\", \"France\", \"Germany\", \"Hong Kong SAR, China\", \"Italy\", \"Republic of Ireland\", \"Romania\", \"Singapore\", \"Spain\", \"Switzerland\", \"Taiwan, China\", \"Thailand\", \"United Kingdom\", \"United States\", \"Viet Nam\"], \"legendgroup\": \"\", \"locationmode\": \"country names\", \"locations\": [\"Australia\", \"Belgium\", \"Brazil\", \"Canada\", \"China\", \"France\", \"Germany\", \"Hong Kong SAR, China\", \"Italy\", \"Republic of Ireland\", \"Romania\", \"Singapore\", \"Spain\", \"Switzerland\", \"Taiwan, China\", \"Thailand\", \"United Kingdom\", \"United States\", \"Viet Nam\"], \"marker\": {\"color\": [1, 1, 1, 69, 1220, 3, 5, 761, 3, 1, 1, 100, 1, 2, 15, 7, 3, 100, 59], \"coloraxis\": \"coloraxis\", \"size\": [1.0, 1.0, 1.0, 3.561678602815316, 8.4315602786117, 1.3903891703159093, 1.6206565966927624, 7.318387430747937, 1.3903891703159093, 1.0, 1.0, 3.9810717055349722, 1.0, 1.2311444133449163, 2.2533433808426553, 1.792789962520997, 1.3903891703159093, 3.9810717055349722, 3.3982521746716885], \"sizemode\": \"area\", \"sizeref\": 0.03280452281427571}, \"name\": \"\", \"showlegend\": false, \"type\": \"scattergeo\"}], \"name\": \"04/04/2003\"}, {\"data\": [{\"geo\": \"geo\", \"hoverlabel\": {\"namelength\": 0}, \"hovertemplate\": \"<b>%{hovertext}</b><br><br>Date=04/05/2003<br>size=%{marker.size}<br>Country=%{location}<br>Confirmed=%{marker.color}\", \"hovertext\": [\"Australia\", \"Belgium\", \"Brazil\", \"Canada\", \"China\", \"France\", \"Germany\", \"Hong Kong SAR, China\", \"Italy\", \"Malaysia\", \"Republic of Ireland\", \"Romania\", \"Singapore\", \"Spain\", \"Switzerland\", \"Taiwan, China\", \"Thailand\", \"United Kingdom\", \"United States\", \"Viet Nam\"], \"legendgroup\": \"\", \"locationmode\": \"country names\", \"locations\": [\"Australia\", \"Belgium\", \"Brazil\", \"Canada\", \"China\", \"France\", \"Germany\", \"Hong Kong SAR, China\", \"Italy\", \"Malaysia\", \"Republic of Ireland\", \"Romania\", \"Singapore\", \"Spain\", \"Switzerland\", \"Taiwan, China\", \"Thailand\", \"United Kingdom\", \"United States\", \"Viet Nam\"], \"marker\": {\"color\": [1, 1, 1, 74, 1220, 3, 5, 800, 3, 1, 1, 1, 101, 1, 1, 17, 7, 4, 115, 59], \"coloraxis\": \"coloraxis\", \"size\": [1.0, 1.0, 1.0, 3.6372195430613803, 8.4315602786117, 1.3903891703159093, 1.6206565966927624, 7.4289424858756705, 1.3903891703159093, 1.0, 1.0, 1.0, 3.9929733546852777, 1.0, 1.0, 2.3395626336814512, 1.792789962520997, 1.515716566510398, 4.151541198814568, 3.3982521746716885], \"sizemode\": \"area\", \"sizeref\": 0.03280452281427571}, \"name\": \"\", \"showlegend\": false, \"type\": \"scattergeo\"}], \"name\": \"04/05/2003\"}, {\"data\": [{\"geo\": \"geo\", \"hoverlabel\": {\"namelength\": 0}, \"hovertemplate\": \"<b>%{hovertext}</b><br><br>Date=04/07/2003<br>size=%{marker.size}<br>Country=%{location}<br>Confirmed=%{marker.color}\", \"hovertext\": [\"Australia\", \"Brazil\", \"Canada\", \"China\", \"France\", \"Germany\", \"Hong Kong SAR, China\", \"Italy\", \"Malaysia\", \"Republic of Ireland\", \"Romania\", \"Singapore\", \"Spain\", \"Switzerland\", \"Taiwan, China\", \"Thailand\", \"United Kingdom\", \"United States\", \"Viet Nam\"], \"legendgroup\": \"\", \"locationmode\": \"country names\", \"locations\": [\"Australia\", \"Brazil\", \"Canada\", \"China\", \"France\", \"Germany\", \"Hong Kong SAR, China\", \"Italy\", \"Malaysia\", \"Republic of Ireland\", \"Romania\", \"Singapore\", \"Spain\", \"Switzerland\", \"Taiwan, China\", \"Thailand\", \"United Kingdom\", \"United States\", \"Viet Nam\"], \"marker\": {\"color\": [1, 1, 90, 1268, 3, 5, 883, 3, 1, 1, 1, 106, 1, 1, 21, 7, 5, 141, 62], \"coloraxis\": \"coloraxis\", \"size\": [1.0, 1.0, 3.8572052822268215, 8.529739659805099, 1.3903891703159093, 1.6206565966927624, 7.652233455392726, 1.3903891703159093, 1.0, 1.0, 1.0, 4.051275331573146, 1.0, 1.0, 2.4926757485402593, 1.792789962520997, 1.6206565966927624, 4.41332320594846, 3.449193085800954], \"sizemode\": \"area\", \"sizeref\": 0.03280452281427571}, \"name\": \"\", \"showlegend\": false, \"type\": \"scattergeo\"}], \"name\": \"04/07/2003\"}, {\"data\": [{\"geo\": \"geo\", \"hoverlabel\": {\"namelength\": 0}, \"hovertemplate\": \"<b>%{hovertext}</b><br><br>Date=04/08/2003<br>size=%{marker.size}<br>Country=%{location}<br>Confirmed=%{marker.color}\", \"hovertext\": [\"Australia\", \"Brazil\", \"Canada\", \"China\", \"France\", \"Germany\", \"Hong Kong SAR, China\", \"Italy\", \"Malaysia\", \"Republic of Ireland\", \"Romania\", \"Singapore\", \"Spain\", \"Switzerland\", \"Taiwan, China\", \"Thailand\", \"United Kingdom\", \"United States\", \"Viet Nam\"], \"legendgroup\": \"\", \"locationmode\": \"country names\", \"locations\": [\"Australia\", \"Brazil\", \"Canada\", \"China\", \"France\", \"Germany\", \"Hong Kong SAR, China\", \"Italy\", \"Malaysia\", \"Republic of Ireland\", \"Romania\", \"Singapore\", \"Spain\", \"Switzerland\", \"Taiwan, China\", \"Thailand\", \"United Kingdom\", \"United States\", \"Viet Nam\"], \"marker\": {\"color\": [1, 1, 91, 1279, 4, 5, 928, 3, 1, 1, 1, 113, 1, 1, 19, 7, 5, 148, 62], \"coloraxis\": \"coloraxis\", \"size\": [1.0, 1.0, 3.8700129448363705, 8.551871436620136, 1.515716566510398, 1.6206565966927624, 7.767198297135275, 1.3903891703159093, 1.0, 1.0, 1.0, 4.129747824285516, 1.0, 1.0, 2.4189454814875875, 1.792789962520997, 1.6206565966927624, 4.477942520548968, 3.449193085800954], \"sizemode\": \"area\", \"sizeref\": 0.03280452281427571}, \"name\": \"\", \"showlegend\": false, \"type\": \"scattergeo\"}], \"name\": \"04/08/2003\"}, {\"data\": [{\"geo\": \"geo\", \"hoverlabel\": {\"namelength\": 0}, \"hovertemplate\": \"<b>%{hovertext}</b><br><br>Date=04/09/2003<br>size=%{marker.size}<br>Country=%{location}<br>Confirmed=%{marker.color}\", \"hovertext\": [\"Brazil\", \"Canada\", \"China\", \"France\", \"Germany\", \"Hong Kong SAR, China\", \"Italy\", \"Malaysia\", \"Republic of Ireland\", \"Romania\", \"Singapore\", \"Spain\", \"Switzerland\", \"Taiwan, China\", \"Thailand\", \"United Kingdom\", \"United States\", \"Viet Nam\"], \"legendgroup\": \"\", \"locationmode\": \"country names\", \"locations\": [\"Brazil\", \"Canada\", \"China\", \"France\", \"Germany\", \"Hong Kong SAR, China\", \"Italy\", \"Malaysia\", \"Republic of Ireland\", \"Romania\", \"Singapore\", \"Spain\", \"Switzerland\", \"Taiwan, China\", \"Thailand\", \"United Kingdom\", \"United States\", \"Viet Nam\"], \"marker\": {\"color\": [1, 94, 1280, 4, 5, 970, 3, 1, 1, 1, 118, 1, 1, 19, 7, 5, 149, 62], \"coloraxis\": \"coloraxis\", \"size\": [1.0, 3.9078542362742903, 8.553876799929503, 1.515716566510398, 1.6206565966927624, 7.871029140769997, 1.3903891703159093, 1.0, 1.0, 1.0, 4.183739179984261, 1.0, 1.0, 2.4189454814875875, 1.792789962520997, 1.6206565966927624, 4.486998047212219, 3.449193085800954], \"sizemode\": \"area\", \"sizeref\": 0.03280452281427571}, \"name\": \"\", \"showlegend\": false, \"type\": \"scattergeo\"}], \"name\": \"04/09/2003\"}, {\"data\": [{\"geo\": \"geo\", \"hoverlabel\": {\"namelength\": 0}, \"hovertemplate\": \"<b>%{hovertext}</b><br><br>Date=04/10/2003<br>size=%{marker.size}<br>Country=%{location}<br>Confirmed=%{marker.color}\", \"hovertext\": [\"Brazil\", \"Canada\", \"China\", \"France\", \"Germany\", \"Hong Kong SAR, China\", \"Italy\", \"Kuwait\", \"Malaysia\", \"Republic of Ireland\", \"Romania\", \"Singapore\", \"Spain\", \"Switzerland\", \"Taiwan, China\", \"Thailand\", \"United Kingdom\", \"United States\", \"Viet Nam\"], \"legendgroup\": \"\", \"locationmode\": \"country names\", \"locations\": [\"Brazil\", \"Canada\", \"China\", \"France\", \"Germany\", \"Hong Kong SAR, China\", \"Italy\", \"Kuwait\", \"Malaysia\", \"Republic of Ireland\", \"Romania\", \"Singapore\", \"Spain\", \"Switzerland\", \"Taiwan, China\", \"Thailand\", \"United Kingdom\", \"United States\", \"Viet Nam\"], \"marker\": {\"color\": [2, 97, 1290, 4, 6, 998, 3, 1, 3, 1, 1, 126, 1, 1, 19, 7, 5, 154, 62], \"coloraxis\": \"coloraxis\", \"size\": [1.2311444133449163, 3.9448593208621605, 8.573870370939124, 1.515716566510398, 1.711769859409705, 7.938513037869768, 1.3903891703159093, 1.0, 1.3903891703159093, 1.0, 1.0, 4.2668872156327415, 1.0, 1.0, 2.4189454814875875, 1.792789962520997, 1.6206565966927624, 4.531648500646097, 3.449193085800954], \"sizemode\": \"area\", \"sizeref\": 0.03280452281427571}, \"name\": \"\", \"showlegend\": false, \"type\": \"scattergeo\"}], \"name\": \"04/10/2003\"}, {\"data\": [{\"geo\": \"geo\", \"hoverlabel\": {\"namelength\": 0}, \"hovertemplate\": \"<b>%{hovertext}</b><br><br>Date=04/11/2003<br>size=%{marker.size}<br>Country=%{location}<br>Confirmed=%{marker.color}\", \"hovertext\": [\"Brazil\", \"Canada\", \"China\", \"France\", \"Germany\", \"Hong Kong SAR, China\", \"Italy\", \"Japan\", \"Kuwait\", \"Malaysia\", \"Republic of Ireland\", \"Romania\", \"Singapore\", \"South Africa\", \"Spain\", \"Switzerland\", \"Taiwan, China\", \"Thailand\", \"United Kingdom\", \"United States\", \"Viet Nam\"], \"legendgroup\": \"\", \"locationmode\": \"country names\", \"locations\": [\"Brazil\", \"Canada\", \"China\", \"France\", \"Germany\", \"Hong Kong SAR, China\", \"Italy\", \"Japan\", \"Kuwait\", \"Malaysia\", \"Republic of Ireland\", \"Romania\", \"Singapore\", \"South Africa\", \"Spain\", \"Switzerland\", \"Taiwan, China\", \"Thailand\", \"United Kingdom\", \"United States\", \"Viet Nam\"], \"marker\": {\"color\": [2, 98, 1309, 5, 6, 1059, 3, 4, 1, 4, 1, 1, 133, 1, 1, 1, 21, 7, 5, 166, 62], \"coloraxis\": \"coloraxis\", \"size\": [1.2311444133449163, 3.9570161493329823, 8.611561232110237, 1.6206565966927624, 1.711769859409705, 8.08106849831396, 1.3903891703159093, 1.515716566510398, 1.0, 1.515716566510398, 1.0, 1.0, 4.336661179096468, 1.0, 1.0, 1.0, 2.4926757485402593, 1.792789962520997, 1.6206565966927624, 4.634815240944689, 3.449193085800954], \"sizemode\": \"area\", \"sizeref\": 0.03280452281427571}, \"name\": \"\", \"showlegend\": false, \"type\": \"scattergeo\"}], \"name\": \"04/11/2003\"}, {\"data\": [{\"geo\": \"geo\", \"hoverlabel\": {\"namelength\": 0}, \"hovertemplate\": \"<b>%{hovertext}</b><br><br>Date=04/12/2003<br>size=%{marker.size}<br>Country=%{location}<br>Confirmed=%{marker.color}\", \"hovertext\": [\"Brazil\", \"Canada\", \"China\", \"France\", \"Germany\", \"Hong Kong SAR, China\", \"Italy\", \"Japan\", \"Kuwait\", \"Malaysia\", \"Republic of Ireland\", \"Romania\", \"Singapore\", \"South Africa\", \"Spain\", \"Switzerland\", \"Taiwan, China\", \"Thailand\", \"United Kingdom\", \"United States\"], \"legendgroup\": \"\", \"locationmode\": \"country names\", \"locations\": [\"Brazil\", \"Canada\", \"China\", \"France\", \"Germany\", \"Hong Kong SAR, China\", \"Italy\", \"Japan\", \"Kuwait\", \"Malaysia\", \"Republic of Ireland\", \"Romania\", \"Singapore\", \"South Africa\", \"Spain\", \"Switzerland\", \"Taiwan, China\", \"Thailand\", \"United Kingdom\", \"United States\"], \"marker\": {\"color\": [2, 101, 1309, 5, 6, 1108, 3, 4, 1, 4, 1, 1, 147, 1, 1, 1, 23, 8, 6, 166], \"coloraxis\": \"coloraxis\", \"size\": [1.2311444133449163, 3.9929733546852777, 8.611561232110237, 1.6206565966927624, 1.711769859409705, 8.191471566648277, 1.3903891703159093, 1.515716566510398, 1.0, 1.515716566510398, 1.0, 1.0, 4.46884406180249, 1.0, 1.0, 1.0, 2.5616415021458128, 1.8660659830736148, 1.711769859409705, 4.634815240944689], \"sizemode\": \"area\", \"sizeref\": 0.03280452281427571}, \"name\": \"\", \"showlegend\": false, \"type\": \"scattergeo\"}], \"name\": \"04/12/2003\"}, {\"data\": [{\"geo\": \"geo\", \"hoverlabel\": {\"namelength\": 0}, \"hovertemplate\": \"<b>%{hovertext}</b><br><br>Date=04/14/2003<br>size=%{marker.size}<br>Country=%{location}<br>Confirmed=%{marker.color}\", \"hovertext\": [\"Brazil\", \"Canada\", \"China\", \"France\", \"Germany\", \"Hong Kong SAR, China\", \"Indonesia\", \"Italy\", \"Kuwait\", \"Malaysia\", \"Philippines\", \"Republic of Ireland\", \"Romania\", \"Singapore\", \"South Africa\", \"Spain\", \"Sweden\", \"Switzerland\", \"Taiwan, China\", \"Thailand\", \"United Kingdom\", \"United States\", \"Viet Nam\"], \"legendgroup\": \"\", \"locationmode\": \"country names\", \"locations\": [\"Brazil\", \"Canada\", \"China\", \"France\", \"Germany\", \"Hong Kong SAR, China\", \"Indonesia\", \"Italy\", \"Kuwait\", \"Malaysia\", \"Philippines\", \"Republic of Ireland\", \"Romania\", \"Singapore\", \"South Africa\", \"Spain\", \"Sweden\", \"Switzerland\", \"Taiwan, China\", \"Thailand\", \"United Kingdom\", \"United States\", \"Viet Nam\"], \"marker\": {\"color\": [2, 100, 1418, 5, 6, 1190, 1, 3, 1, 4, 1, 1, 1, 158, 1, 1, 1, 1, 23, 8, 6, 174, 63], \"coloraxis\": \"coloraxis\", \"size\": [1.2311444133449163, 3.9810717055349722, 8.8206962968839, 1.6206565966927624, 1.711769859409705, 8.368817329997245, 1.0, 1.3903891703159093, 1.0, 1.515716566510398, 1.0, 1.0, 1.0, 4.566643676946885, 1.0, 1.0, 1.0, 1.0, 2.5616415021458128, 1.8660659830736148, 1.711769859409705, 4.700724236721369, 3.4657893658794796], \"sizemode\": \"area\", \"sizeref\": 0.03280452281427571}, \"name\": \"\", \"showlegend\": false, \"type\": \"scattergeo\"}], \"name\": \"04/14/2003\"}, {\"data\": [{\"geo\": \"geo\", \"hoverlabel\": {\"namelength\": 0}, \"hovertemplate\": \"<b>%{hovertext}</b><br><br>Date=04/15/2003<br>size=%{marker.size}<br>Country=%{location}<br>Confirmed=%{marker.color}\", \"hovertext\": [\"Brazil\", \"Canada\", \"China\", \"France\", \"Germany\", \"Hong Kong SAR, China\", \"Indonesia\", \"Italy\", \"Japan\", \"Kuwait\", \"Malaysia\", \"Philippines\", \"Republic of Ireland\", \"Romania\", \"Singapore\", \"South Africa\", \"Spain\", \"Sweden\", \"Switzerland\", \"Taiwan, China\", \"Thailand\", \"United Kingdom\", \"United States\", \"Viet Nam\"], \"legendgroup\": \"\", \"locationmode\": \"country names\", \"locations\": [\"Brazil\", \"Canada\", \"China\", \"France\", \"Germany\", \"Hong Kong SAR, China\", \"Indonesia\", \"Italy\", \"Japan\", \"Kuwait\", \"Malaysia\", \"Philippines\", \"Republic of Ireland\", \"Romania\", \"Singapore\", \"South Africa\", \"Spain\", \"Sweden\", \"Switzerland\", \"Taiwan, China\", \"Thailand\", \"United Kingdom\", \"United States\", \"Viet Nam\"], \"marker\": {\"color\": [2, 100, 1418, 5, 6, 1232, 1, 3, 1, 1, 4, 1, 1, 1, 162, 1, 1, 1, 1, 23, 8, 6, 193, 63], \"coloraxis\": \"coloraxis\", \"size\": [1.2311444133449163, 3.9810717055349722, 8.8206962968839, 1.6206565966927624, 1.711769859409705, 8.45635511430223, 1.0, 1.3903891703159093, 1.0, 1.0, 1.515716566510398, 1.0, 1.0, 1.0, 4.601024060515672, 1.0, 1.0, 1.0, 1.0, 2.5616415021458128, 1.8660659830736148, 1.711769859409705, 4.849167577296064, 3.4657893658794796], \"sizemode\": \"area\", \"sizeref\": 0.03280452281427571}, \"name\": \"\", \"showlegend\": false, \"type\": \"scattergeo\"}], \"name\": \"04/15/2003\"}, {\"data\": [{\"geo\": \"geo\", \"hoverlabel\": {\"namelength\": 0}, \"hovertemplate\": \"<b>%{hovertext}</b><br><br>Date=04/16/2003<br>size=%{marker.size}<br>Country=%{location}<br>Confirmed=%{marker.color}\", \"hovertext\": [\"Brazil\", \"Canada\", \"China\", \"France\", \"Germany\", \"Hong Kong SAR, China\", \"Indonesia\", \"Italy\", \"Japan\", \"Kuwait\", \"Malaysia\", \"Philippines\", \"Republic of Ireland\", \"Romania\", \"Singapore\", \"South Africa\", \"Spain\", \"Sweden\", \"Switzerland\", \"Taiwan, China\", \"Thailand\", \"United Kingdom\", \"United States\", \"Viet Nam\"], \"legendgroup\": \"\", \"locationmode\": \"country names\", \"locations\": [\"Brazil\", \"Canada\", \"China\", \"France\", \"Germany\", \"Hong Kong SAR, China\", \"Indonesia\", \"Italy\", \"Japan\", \"Kuwait\", \"Malaysia\", \"Philippines\", \"Republic of Ireland\", \"Romania\", \"Singapore\", \"South Africa\", \"Spain\", \"Sweden\", \"Switzerland\", \"Taiwan, China\", \"Thailand\", \"United Kingdom\", \"United States\", \"Viet Nam\"], \"marker\": {\"color\": [2, 103, 1432, 5, 6, 1268, 1, 3, 1, 1, 5, 1, 1, 1, 162, 1, 1, 1, 1, 27, 8, 6, 193, 63], \"coloraxis\": \"coloraxis\", \"size\": [1.2311444133449163, 4.01653140849876, 8.846732698612026, 1.6206565966927624, 1.711769859409705, 8.529739659805099, 1.0, 1.3903891703159093, 1.0, 1.0, 1.6206565966927624, 1.0, 1.0, 1.0, 4.601024060515672, 1.0, 1.0, 1.0, 1.0, 2.6878753795222865, 1.8660659830736148, 1.711769859409705, 4.849167577296064, 3.4657893658794796], \"sizemode\": \"area\", \"sizeref\": 0.03280452281427571}, \"name\": \"\", \"showlegend\": false, \"type\": \"scattergeo\"}], \"name\": \"04/16/2003\"}, {\"data\": [{\"geo\": \"geo\", \"hoverlabel\": {\"namelength\": 0}, \"hovertemplate\": \"<b>%{hovertext}</b><br><br>Date=04/17/2003<br>size=%{marker.size}<br>Country=%{location}<br>Confirmed=%{marker.color}\", \"hovertext\": [\"Australia\", \"Brazil\", \"Canada\", \"China\", \"France\", \"Germany\", \"Hong Kong SAR, China\", \"India\", \"Indonesia\", \"Italy\", \"Japan\", \"Kuwait\", \"Malaysia\", \"Mongolia\", \"Philippines\", \"Republic of Ireland\", \"Romania\", \"Singapore\", \"South Africa\", \"Spain\", \"Sweden\", \"Switzerland\", \"Taiwan, China\", \"Thailand\", \"United Kingdom\", \"United States\", \"Viet Nam\"], \"legendgroup\": \"\", \"locationmode\": \"country names\", \"locations\": [\"Australia\", \"Brazil\", \"Canada\", \"China\", \"France\", \"Germany\", \"Hong Kong SAR, China\", \"India\", \"Indonesia\", \"Italy\", \"Japan\", \"Kuwait\", \"Malaysia\", \"Mongolia\", \"Philippines\", \"Republic of Ireland\", \"Romania\", \"Singapore\", \"South Africa\", \"Spain\", \"Sweden\", \"Switzerland\", \"Taiwan, China\", \"Thailand\", \"United Kingdom\", \"United States\", \"Viet Nam\"], \"marker\": {\"color\": [3, 2, 126, 1457, 5, 6, 1297, 1, 1, 3, 2, 1, 5, 3, 1, 1, 1, 167, 1, 1, 1, 1, 27, 8, 6, 199, 63], \"coloraxis\": \"coloraxis\", \"size\": [1.3903891703159093, 1.2311444133449163, 4.2668872156327415, 8.892786494448323, 1.6206565966927624, 1.711769859409705, 8.587801407187097, 1.0, 1.0, 1.3903891703159093, 1.2311444133449163, 1.0, 1.6206565966927624, 1.3903891703159093, 1.0, 1.0, 1.0, 4.643173812506152, 1.0, 1.0, 1.0, 1.0, 2.6878753795222865, 1.8660659830736148, 1.711769859409705, 4.893909375689346, 3.4657893658794796], \"sizemode\": \"area\", \"sizeref\": 0.03280452281427571}, \"name\": \"\", \"showlegend\": false, \"type\": \"scattergeo\"}], \"name\": \"04/17/2003\"}, {\"data\": [{\"geo\": \"geo\", \"hoverlabel\": {\"namelength\": 0}, \"hovertemplate\": \"<b>%{hovertext}</b><br><br>Date=04/18/2003<br>size=%{marker.size}<br>Country=%{location}<br>Confirmed=%{marker.color}\", \"hovertext\": [\"Australia\", \"Brazil\", \"Canada\", \"China\", \"France\", \"Germany\", \"Hong Kong SAR, China\", \"India\", \"Indonesia\", \"Italy\", \"Japan\", \"Kuwait\", \"Malaysia\", \"Mongolia\", \"Philippines\", \"Republic of Ireland\", \"Romania\", \"Singapore\", \"South Africa\", \"Spain\", \"Sweden\", \"Switzerland\", \"Taiwan, China\", \"Thailand\", \"United Kingdom\", \"United States\", \"Viet Nam\"], \"legendgroup\": \"\", \"locationmode\": \"country names\", \"locations\": [\"Australia\", \"Brazil\", \"Canada\", \"China\", \"France\", \"Germany\", \"Hong Kong SAR, China\", \"India\", \"Indonesia\", \"Italy\", \"Japan\", \"Kuwait\", \"Malaysia\", \"Mongolia\", \"Philippines\", \"Republic of Ireland\", \"Romania\", \"Singapore\", \"South Africa\", \"Spain\", \"Sweden\", \"Switzerland\", \"Taiwan, China\", \"Thailand\", \"United Kingdom\", \"United States\", \"Viet Nam\"], \"marker\": {\"color\": [3, 2, 132, 1512, 5, 6, 1358, 1, 1, 3, 4, 1, 5, 3, 1, 1, 1, 177, 1, 1, 3, 1, 29, 7, 6, 220, 63], \"coloraxis\": \"coloraxis\", \"size\": [1.3903891703159093, 1.2311444133449163, 4.326853384396008, 8.992191296678412, 1.6206565966927624, 1.711769859409705, 8.707027797917787, 1.0, 1.0, 1.3903891703159093, 1.515716566510398, 1.0, 1.6206565966927624, 1.3903891703159093, 1.0, 1.0, 1.0, 4.724893021666003, 1.0, 1.0, 1.3903891703159093, 1.0, 2.7461192933624785, 1.792789962520997, 1.711769859409705, 5.04343936938931, 3.4657893658794796], \"sizemode\": \"area\", \"sizeref\": 0.03280452281427571}, \"name\": \"\", \"showlegend\": false, \"type\": \"scattergeo\"}], \"name\": \"04/18/2003\"}, {\"data\": [{\"geo\": \"geo\", \"hoverlabel\": {\"namelength\": 0}, \"hovertemplate\": \"<b>%{hovertext}</b><br><br>Date=04/19/2003<br>size=%{marker.size}<br>Country=%{location}<br>Confirmed=%{marker.color}\", \"hovertext\": [\"Australia\", \"Brazil\", \"Canada\", \"China\", \"France\", \"Germany\", \"Hong Kong SAR, China\", \"India\", \"Indonesia\", \"Italy\", \"Japan\", \"Kuwait\", \"Malaysia\", \"Mongolia\", \"Philippines\", \"Republic of Ireland\", \"Romania\", \"Singapore\", \"South Africa\", \"Spain\", \"Sweden\", \"Switzerland\", \"Taiwan, China\", \"Thailand\", \"United Kingdom\", \"United States\", \"Viet Nam\"], \"legendgroup\": \"\", \"locationmode\": \"country names\", \"locations\": [\"Australia\", \"Brazil\", \"Canada\", \"China\", \"France\", \"Germany\", \"Hong Kong SAR, China\", \"India\", \"Indonesia\", \"Italy\", \"Japan\", \"Kuwait\", \"Malaysia\", \"Mongolia\", \"Philippines\", \"Republic of Ireland\", \"Romania\", \"Singapore\", \"South Africa\", \"Spain\", \"Sweden\", \"Switzerland\", \"Taiwan, China\", \"Thailand\", \"United Kingdom\", \"United States\", \"Viet Nam\"], \"marker\": {\"color\": [3, 2, 132, 1512, 5, 6, 1358, 1, 1, 3, 4, 1, 5, 3, 1, 1, 1, 177, 1, 1, 3, 1, 29, 7, 6, 220, 63], \"coloraxis\": \"coloraxis\", \"size\": [1.3903891703159093, 1.2311444133449163, 4.326853384396008, 8.992191296678412, 1.6206565966927624, 1.711769859409705, 8.707027797917787, 1.0, 1.0, 1.3903891703159093, 1.515716566510398, 1.0, 1.6206565966927624, 1.3903891703159093, 1.0, 1.0, 1.0, 4.724893021666003, 1.0, 1.0, 1.3903891703159093, 1.0, 2.7461192933624785, 1.792789962520997, 1.711769859409705, 5.04343936938931, 3.4657893658794796], \"sizemode\": \"area\", \"sizeref\": 0.03280452281427571}, \"name\": \"\", \"showlegend\": false, \"type\": \"scattergeo\"}], \"name\": \"04/19/2003\"}, {\"data\": [{\"geo\": \"geo\", \"hoverlabel\": {\"namelength\": 0}, \"hovertemplate\": \"<b>%{hovertext}</b><br><br>Date=04/21/2003<br>size=%{marker.size}<br>Country=%{location}<br>Confirmed=%{marker.color}\", \"hovertext\": [\"Australia\", \"Brazil\", \"Canada\", \"China\", \"France\", \"Germany\", \"Hong Kong SAR, China\", \"India\", \"Indonesia\", \"Italy\", \"Japan\", \"Kuwait\", \"Malaysia\", \"Mongolia\", \"Philippines\", \"Republic of Ireland\", \"Romania\", \"Singapore\", \"South Africa\", \"Spain\", \"Sweden\", \"Switzerland\", \"Taiwan, China\", \"Thailand\", \"United Kingdom\", \"United States\", \"Viet Nam\"], \"legendgroup\": \"\", \"locationmode\": \"country names\", \"locations\": [\"Australia\", \"Brazil\", \"Canada\", \"China\", \"France\", \"Germany\", \"Hong Kong SAR, China\", \"India\", \"Indonesia\", \"Italy\", \"Japan\", \"Kuwait\", \"Malaysia\", \"Mongolia\", \"Philippines\", \"Republic of Ireland\", \"Romania\", \"Singapore\", \"South Africa\", \"Spain\", \"Sweden\", \"Switzerland\", \"Taiwan, China\", \"Thailand\", \"United Kingdom\", \"United States\", \"Viet Nam\"], \"marker\": {\"color\": [3, 2, 132, 1959, 5, 6, 1402, 1, 1, 3, 5, 1, 6, 3, 2, 1, 1, 178, 1, 1, 3, 1, 29, 7, 6, 39, 63], \"coloraxis\": \"coloraxis\", \"size\": [1.3903891703159093, 1.2311444133449163, 4.326853384396008, 9.718748211787625, 1.6206565966927624, 1.711769859409705, 8.79071912684438, 1.0, 1.0, 1.3903891703159093, 1.6206565966927624, 1.0, 1.711769859409705, 1.3903891703159093, 1.2311444133449163, 1.0, 1.0, 4.732885529820199, 1.0, 1.0, 1.3903891703159093, 1.0, 2.7461192933624785, 1.792789962520997, 1.711769859409705, 3.001368927744568, 3.4657893658794796], \"sizemode\": \"area\", \"sizeref\": 0.03280452281427571}, \"name\": \"\", \"showlegend\": false, \"type\": \"scattergeo\"}], \"name\": \"04/21/2003\"}, {\"data\": [{\"geo\": \"geo\", \"hoverlabel\": {\"namelength\": 0}, \"hovertemplate\": \"<b>%{hovertext}</b><br><br>Date=04/22/2003<br>size=%{marker.size}<br>Country=%{location}<br>Confirmed=%{marker.color}\", \"hovertext\": [\"Australia\", \"Brazil\", \"Canada\", \"China\", \"France\", \"Germany\", \"Hong Kong SAR, China\", \"India\", \"Indonesia\", \"Italy\", \"Japan\", \"Kuwait\", \"Malaysia\", \"Mongolia\", \"Philippines\", \"Republic of Ireland\", \"Romania\", \"Singapore\", \"South Africa\", \"Spain\", \"Sweden\", \"Switzerland\", \"Taiwan, China\", \"Thailand\", \"United Kingdom\", \"United States\", \"Viet Nam\"], \"legendgroup\": \"\", \"locationmode\": \"country names\", \"locations\": [\"Australia\", \"Brazil\", \"Canada\", \"China\", \"France\", \"Germany\", \"Hong Kong SAR, China\", \"India\", \"Indonesia\", \"Italy\", \"Japan\", \"Kuwait\", \"Malaysia\", \"Mongolia\", \"Philippines\", \"Republic of Ireland\", \"Romania\", \"Singapore\", \"South Africa\", \"Spain\", \"Sweden\", \"Switzerland\", \"Taiwan, China\", \"Thailand\", \"United Kingdom\", \"United States\", \"Viet Nam\"], \"marker\": {\"color\": [3, 2, 139, 2001, 5, 7, 1434, 1, 1, 3, 2, 1, 6, 3, 2, 1, 1, 186, 1, 1, 3, 1, 29, 7, 6, 38, 63], \"coloraxis\": \"coloraxis\", \"size\": [1.3903891703159093, 1.2311444133449163, 4.39444911601279, 9.780794327947456, 1.6206565966927624, 1.792789962520997, 8.850437619672551, 1.0, 1.0, 1.3903891703159093, 1.2311444133449163, 1.0, 1.711769859409705, 1.3903891703159093, 1.2311444133449163, 1.0, 1.0, 4.795720712826159, 1.0, 1.0, 1.3903891703159093, 1.0, 2.7461192933624785, 1.792789962520997, 1.711769859409705, 2.978071215719372, 3.4657893658794796], \"sizemode\": \"area\", \"sizeref\": 0.03280452281427571}, \"name\": \"\", \"showlegend\": false, \"type\": \"scattergeo\"}], \"name\": \"04/22/2003\"}, {\"data\": [{\"geo\": \"geo\", \"hoverlabel\": {\"namelength\": 0}, \"hovertemplate\": \"<b>%{hovertext}</b><br><br>Date=04/23/2003<br>size=%{marker.size}<br>Country=%{location}<br>Confirmed=%{marker.color}\", \"hovertext\": [\"Australia\", \"Brazil\", \"Canada\", \"China\", \"France\", \"Germany\", \"Hong Kong SAR, China\", \"India\", \"Indonesia\", \"Italy\", \"Japan\", \"Kuwait\", \"Malaysia\", \"Mongolia\", \"Philippines\", \"Republic of Ireland\", \"Romania\", \"Singapore\", \"South Africa\", \"Spain\", \"Sweden\", \"Switzerland\", \"Taiwan, China\", \"Thailand\", \"United Kingdom\", \"United States\", \"Viet Nam\"], \"legendgroup\": \"\", \"locationmode\": \"country names\", \"locations\": [\"Australia\", \"Brazil\", \"Canada\", \"China\", \"France\", \"Germany\", \"Hong Kong SAR, China\", \"India\", \"Indonesia\", \"Italy\", \"Japan\", \"Kuwait\", \"Malaysia\", \"Mongolia\", \"Philippines\", \"Republic of Ireland\", \"Romania\", \"Singapore\", \"South Africa\", \"Spain\", \"Sweden\", \"Switzerland\", \"Taiwan, China\", \"Thailand\", \"United Kingdom\", \"United States\", \"Viet Nam\"], \"marker\": {\"color\": [4, 2, 140, 2305, 5, 7, 1458, 1, 1, 3, 2, 1, 5, 3, 2, 1, 1, 189, 1, 1, 3, 1, 37, 7, 6, 39, 63], \"coloraxis\": \"coloraxis\", \"size\": [1.515716566510398, 1.2311444133449163, 4.403909753814732, 10.204724370421829, 1.6206565966927624, 1.792789962520997, 8.89461710208793, 1.0, 1.0, 1.3903891703159093, 1.2311444133449163, 1.0, 1.6206565966927624, 1.3903891703159093, 1.2311444133449163, 1.0, 1.0, 4.818796000914871, 1.0, 1.0, 1.3903891703159093, 1.0, 2.954340289925338, 1.792789962520997, 1.711769859409705, 3.001368927744568, 3.4657893658794796], \"sizemode\": \"area\", \"sizeref\": 0.03280452281427571}, \"name\": \"\", \"showlegend\": false, \"type\": \"scattergeo\"}], \"name\": \"04/23/2003\"}, {\"data\": [{\"geo\": \"geo\", \"hoverlabel\": {\"namelength\": 0}, \"hovertemplate\": \"<b>%{hovertext}</b><br><br>Date=04/24/2003<br>size=%{marker.size}<br>Country=%{location}<br>Confirmed=%{marker.color}\", \"hovertext\": [\"Brazil\", \"Bulgaria\", \"Canada\", \"China\", \"France\", \"Germany\", \"Hong Kong SAR, China\", \"India\", \"Indonesia\", \"Italy\", \"Japan\", \"Kuwait\", \"Malaysia\", \"Mongolia\", \"Philippines\", \"Republic of Ireland\", \"Romania\", \"Singapore\", \"South Africa\", \"Spain\", \"Sweden\", \"Switzerland\", \"Taiwan, China\", \"Thailand\", \"United Kingdom\", \"United States\", \"Viet Nam\"], \"legendgroup\": \"\", \"locationmode\": \"country names\", \"locations\": [\"Brazil\", \"Bulgaria\", \"Canada\", \"China\", \"France\", \"Germany\", \"Hong Kong SAR, China\", \"India\", \"Indonesia\", \"Italy\", \"Japan\", \"Kuwait\", \"Malaysia\", \"Mongolia\", \"Philippines\", \"Republic of Ireland\", \"Romania\", \"Singapore\", \"South Africa\", \"Spain\", \"Sweden\", \"Switzerland\", \"Taiwan, China\", \"Thailand\", \"United Kingdom\", \"United States\", \"Viet Nam\"], \"marker\": {\"color\": [2, 1, 140, 2422, 5, 7, 1488, 1, 1, 4, 2, 1, 5, 3, 2, 1, 1, 192, 1, 1, 3, 1, 37, 8, 6, 37, 63], \"coloraxis\": \"coloraxis\", \"size\": [1.2311444133449163, 1.0, 4.403909753814732, 10.357435600004681, 1.6206565966927624, 1.792789962520997, 8.949131286526445, 1.0, 1.0, 1.515716566510398, 1.2311444133449163, 1.0, 1.6206565966927624, 1.3903891703159093, 1.2311444133449163, 1.0, 1.0, 4.841616301677382, 1.0, 1.0, 1.3903891703159093, 1.0, 2.954340289925338, 1.8660659830736148, 1.711769859409705, 2.954340289925338, 3.4657893658794796], \"sizemode\": \"area\", \"sizeref\": 0.03280452281427571}, \"name\": \"\", \"showlegend\": false, \"type\": \"scattergeo\"}], \"name\": \"04/24/2003\"}, {\"data\": [{\"geo\": \"geo\", \"hoverlabel\": {\"namelength\": 0}, \"hovertemplate\": \"<b>%{hovertext}</b><br><br>Date=04/25/2003<br>size=%{marker.size}<br>Country=%{location}<br>Confirmed=%{marker.color}\", \"hovertext\": [\"Brazil\", \"Bulgaria\", \"Canada\", \"China\", \"France\", \"Germany\", \"Hong Kong SAR, China\", \"India\", \"Indonesia\", \"Italy\", \"Japan\", \"Kuwait\", \"Malaysia\", \"Mongolia\", \"Philippines\", \"Republic of Ireland\", \"Romania\", \"Singapore\", \"South Africa\", \"Spain\", \"Sweden\", \"Switzerland\", \"Taiwan, China\", \"Thailand\", \"United Kingdom\", \"United States\", \"Viet Nam\"], \"legendgroup\": \"\", \"locationmode\": \"country names\", \"locations\": [\"Brazil\", \"Bulgaria\", \"Canada\", \"China\", \"France\", \"Germany\", \"Hong Kong SAR, China\", \"India\", \"Indonesia\", \"Italy\", \"Japan\", \"Kuwait\", \"Malaysia\", \"Mongolia\", \"Philippines\", \"Republic of Ireland\", \"Romania\", \"Singapore\", \"South Africa\", \"Spain\", \"Sweden\", \"Switzerland\", \"Taiwan, China\", \"Thailand\", \"United Kingdom\", \"United States\", \"Viet Nam\"], \"marker\": {\"color\": [2, 1, 140, 2601, 5, 7, 1510, 1, 1, 4, 2, 1, 5, 3, 2, 1, 1, 195, 1, 1, 3, 1, 41, 8, 6, 39, 63], \"coloraxis\": \"coloraxis\", \"size\": [1.2311444133449163, 1.0, 4.403909753814732, 10.581374994243516, 1.6206565966927624, 1.792789962520997, 8.988621313554823, 1.0, 1.0, 1.515716566510398, 1.2311444133449163, 1.0, 1.6206565966927624, 1.3903891703159093, 1.2311444133449163, 1.0, 1.0, 4.864188351857917, 1.0, 1.0, 1.3903891703159093, 1.0, 3.046738334899583, 1.8660659830736148, 1.711769859409705, 3.001368927744568, 3.4657893658794796], \"sizemode\": \"area\", \"sizeref\": 0.03280452281427571}, \"name\": \"\", \"showlegend\": false, \"type\": \"scattergeo\"}], \"name\": \"04/25/2003\"}, {\"data\": [{\"geo\": \"geo\", \"hoverlabel\": {\"namelength\": 0}, \"hovertemplate\": \"<b>%{hovertext}</b><br><br>Date=04/26/2003<br>size=%{marker.size}<br>Country=%{location}<br>Confirmed=%{marker.color}\", \"hovertext\": [\"Brazil\", \"Bulgaria\", \"Canada\", \"China\", \"France\", \"Germany\", \"Hong Kong SAR, China\", \"India\", \"Indonesia\", \"Italy\", \"Japan\", \"Kuwait\", \"Malaysia\", \"Mongolia\", \"Philippines\", \"Republic of Ireland\", \"Romania\", \"Singapore\", \"South Africa\", \"Spain\", \"Sweden\", \"Switzerland\", \"Taiwan, China\", \"Thailand\", \"United Kingdom\", \"United States\", \"Viet Nam\"], \"legendgroup\": \"\", \"locationmode\": \"country names\", \"locations\": [\"Brazil\", \"Bulgaria\", \"Canada\", \"China\", \"France\", \"Germany\", \"Hong Kong SAR, China\", \"India\", \"Indonesia\", \"Italy\", \"Japan\", \"Kuwait\", \"Malaysia\", \"Mongolia\", \"Philippines\", \"Republic of Ireland\", \"Romania\", \"Singapore\", \"South Africa\", \"Spain\", \"Sweden\", \"Switzerland\", \"Taiwan, China\", \"Thailand\", \"United Kingdom\", \"United States\", \"Viet Nam\"], \"marker\": {\"color\": [2, 1, 142, 2753, 5, 7, 1527, 1, 1, 4, 2, 1, 5, 5, 4, 1, 1, 198, 1, 1, 3, 1, 49, 7, 6, 41, 63], \"coloraxis\": \"coloraxis\", \"size\": [1.2311444133449163, 1.0, 4.422690039918873, 10.763211228752766, 1.6206565966927624, 1.792789962520997, 9.018861364442955, 1.0, 1.0, 1.515716566510398, 1.2311444133449163, 1.0, 1.6206565966927624, 1.6206565966927624, 1.515716566510398, 1.0, 1.0, 4.886518609838755, 1.0, 1.0, 1.3903891703159093, 1.0, 3.2140958497160383, 1.792789962520997, 1.711769859409705, 3.046738334899583, 3.4657893658794796], \"sizemode\": \"area\", \"sizeref\": 0.03280452281427571}, \"name\": \"\", \"showlegend\": false, \"type\": \"scattergeo\"}], \"name\": \"04/26/2003\"}, {\"data\": [{\"geo\": \"geo\", \"hoverlabel\": {\"namelength\": 0}, \"hovertemplate\": \"<b>%{hovertext}</b><br><br>Date=04/28/2003<br>size=%{marker.size}<br>Country=%{location}<br>Confirmed=%{marker.color}\", \"hovertext\": [\"Brazil\", \"Bulgaria\", \"Canada\", \"China\", \"France\", \"Germany\", \"Hong Kong SAR, China\", \"India\", \"Indonesia\", \"Italy\", \"Japan\", \"Kuwait\", \"Malaysia\", \"Mongolia\", \"Philippines\", \"Republic of Ireland\", \"Romania\", \"Singapore\", \"South Africa\", \"Spain\", \"Sweden\", \"Switzerland\", \"Taiwan, China\", \"Thailand\", \"United Kingdom\", \"United States\", \"Viet Nam\"], \"legendgroup\": \"\", \"locationmode\": \"country names\", \"locations\": [\"Brazil\", \"Bulgaria\", \"Canada\", \"China\", \"France\", \"Germany\", \"Hong Kong SAR, China\", \"India\", \"Indonesia\", \"Italy\", \"Japan\", \"Kuwait\", \"Malaysia\", \"Mongolia\", \"Philippines\", \"Republic of Ireland\", \"Romania\", \"Singapore\", \"South Africa\", \"Spain\", \"Sweden\", \"Switzerland\", \"Taiwan, China\", \"Thailand\", \"United Kingdom\", \"United States\", \"Viet Nam\"], \"marker\": {\"color\": [2, 1, 142, 2914, 5, 7, 1557, 1, 1, 8, 2, 1, 6, 5, 4, 1, 1, 199, 1, 1, 3, 1, 66, 7, 6, 41, 63], \"coloraxis\": \"coloraxis\", \"size\": [1.2311444133449163, 1.0, 4.422690039918873, 10.948304411709175, 1.6206565966927624, 1.792789962520997, 9.071656219125797, 1.0, 1.0, 1.8660659830736148, 1.2311444133449163, 1.0, 1.711769859409705, 1.6206565966927624, 1.515716566510398, 1.0, 1.0, 4.893909375689346, 1.0, 1.0, 1.3903891703159093, 1.0, 3.5144970301577456, 1.792789962520997, 1.711769859409705, 3.046738334899583, 3.4657893658794796], \"sizemode\": \"area\", \"sizeref\": 0.03280452281427571}, \"name\": \"\", \"showlegend\": false, \"type\": \"scattergeo\"}], \"name\": \"04/28/2003\"}, {\"data\": [{\"geo\": \"geo\", \"hoverlabel\": {\"namelength\": 0}, \"hovertemplate\": \"<b>%{hovertext}</b><br><br>Date=04/29/2003<br>size=%{marker.size}<br>Country=%{location}<br>Confirmed=%{marker.color}\", \"hovertext\": [\"Brazil\", \"Bulgaria\", \"Canada\", \"China\", \"France\", \"Germany\", \"Hong Kong SAR, China\", \"India\", \"Indonesia\", \"Italy\", \"Japan\", \"Kuwait\", \"Malaysia\", \"Mongolia\", \"Philippines\", \"Republic of Ireland\", \"Republic of Korea\", \"Romania\", \"Singapore\", \"South Africa\", \"Spain\", \"Sweden\", \"Switzerland\", \"Taiwan, China\", \"Thailand\", \"United Kingdom\", \"United States\", \"Viet Nam\"], \"legendgroup\": \"\", \"locationmode\": \"country names\", \"locations\": [\"Brazil\", \"Bulgaria\", \"Canada\", \"China\", \"France\", \"Germany\", \"Hong Kong SAR, China\", \"India\", \"Indonesia\", \"Italy\", \"Japan\", \"Kuwait\", \"Malaysia\", \"Mongolia\", \"Philippines\", \"Republic of Ireland\", \"Republic of Korea\", \"Romania\", \"Singapore\", \"South Africa\", \"Spain\", \"Sweden\", \"Switzerland\", \"Taiwan, China\", \"Thailand\", \"United Kingdom\", \"United States\", \"Viet Nam\"], \"marker\": {\"color\": [2, 1, 146, 3303, 5, 7, 1572, 1, 1, 9, 2, 1, 6, 5, 4, 1, 1, 1, 201, 1, 1, 3, 1, 66, 7, 6, 41, 63], \"coloraxis\": \"coloraxis\", \"size\": [1.2311444133449163, 1.0, 4.459702173287629, 11.367699170577936, 1.6206565966927624, 1.792789962520997, 9.097786952344299, 1.0, 1.0, 1.9331820449317627, 1.2311444133449163, 1.0, 1.711769859409705, 1.6206565966927624, 1.515716566510398, 1.0, 1.0, 1.0, 4.908613271164895, 1.0, 1.0, 1.3903891703159093, 1.0, 3.5144970301577456, 1.792789962520997, 1.711769859409705, 3.046738334899583, 3.4657893658794796], \"sizemode\": \"area\", \"sizeref\": 0.03280452281427571}, \"name\": \"\", \"showlegend\": false, \"type\": \"scattergeo\"}], \"name\": \"04/29/2003\"}, {\"data\": [{\"geo\": \"geo\", \"hoverlabel\": {\"namelength\": 0}, \"hovertemplate\": \"<b>%{hovertext}</b><br><br>Date=04/30/2003<br>size=%{marker.size}<br>Country=%{location}<br>Confirmed=%{marker.color}\", \"hovertext\": [\"Brazil\", \"Bulgaria\", \"Canada\", \"China\", \"France\", \"Germany\", \"Hong Kong SAR, China\", \"Indonesia\", \"Italy\", \"Japan\", \"Kuwait\", \"Macao SAR, China\", \"Malaysia\", \"Mongolia\", \"Philippines\", \"Republic of Ireland\", \"Republic of Korea\", \"Romania\", \"Singapore\", \"South Africa\", \"Spain\", \"Sweden\", \"Switzerland\", \"Taiwan, China\", \"Thailand\", \"United Kingdom\", \"United States\", \"Viet Nam\"], \"legendgroup\": \"\", \"locationmode\": \"country names\", \"locations\": [\"Brazil\", \"Bulgaria\", \"Canada\", \"China\", \"France\", \"Germany\", \"Hong Kong SAR, China\", \"Indonesia\", \"Italy\", \"Japan\", \"Kuwait\", \"Macao SAR, China\", \"Malaysia\", \"Mongolia\", \"Philippines\", \"Republic of Ireland\", \"Republic of Korea\", \"Romania\", \"Singapore\", \"South Africa\", \"Spain\", \"Sweden\", \"Switzerland\", \"Taiwan, China\", \"Thailand\", \"United Kingdom\", \"United States\", \"Viet Nam\"], \"marker\": {\"color\": [2, 1, 148, 3460, 5, 7, 1589, 2, 9, 2, 1, 1, 6, 6, 4, 1, 1, 1, 201, 1, 1, 3, 1, 78, 7, 6, 52, 63], \"coloraxis\": \"coloraxis\", \"size\": [1.2311444133449163, 1.0, 4.477942520548968, 11.527173491838639, 1.6206565966927624, 1.792789962520997, 9.12719163639444, 1.2311444133449163, 1.9331820449317627, 1.2311444133449163, 1.0, 1.0, 1.711769859409705, 1.711769859409705, 1.515716566510398, 1.0, 1.0, 1.0, 4.908613271164895, 1.0, 1.0, 1.3903891703159093, 1.0, 3.695118587779747, 1.792789962520997, 1.711769859409705, 3.2719073933511478, 3.4657893658794796], \"sizemode\": \"area\", \"sizeref\": 0.03280452281427571}, \"name\": \"\", \"showlegend\": false, \"type\": \"scattergeo\"}], \"name\": \"04/30/2003\"}, {\"data\": [{\"geo\": \"geo\", \"hoverlabel\": {\"namelength\": 0}, \"hovertemplate\": \"<b>%{hovertext}</b><br><br>Date=05/01/2003<br>size=%{marker.size}<br>Country=%{location}<br>Confirmed=%{marker.color}\", \"hovertext\": [\"Brazil\", \"Bulgaria\", \"Canada\", \"China\", \"France\", \"Germany\", \"Hong Kong SAR, China\", \"Indonesia\", \"Italy\", \"Japan\", \"Kuwait\", \"Macao SAR, China\", \"Malaysia\", \"Mongolia\", \"Philippines\", \"Poland\", \"Republic of Ireland\", \"Republic of Korea\", \"Romania\", \"Singapore\", \"South Africa\", \"Spain\", \"Sweden\", \"Switzerland\", \"Taiwan, China\", \"Thailand\", \"United Kingdom\", \"United States\", \"Viet Nam\"], \"legendgroup\": \"\", \"locationmode\": \"country names\", \"locations\": [\"Brazil\", \"Bulgaria\", \"Canada\", \"China\", \"France\", \"Germany\", \"Hong Kong SAR, China\", \"Indonesia\", \"Italy\", \"Japan\", \"Kuwait\", \"Macao SAR, China\", \"Malaysia\", \"Mongolia\", \"Philippines\", \"Poland\", \"Republic of Ireland\", \"Republic of Korea\", \"Romania\", \"Singapore\", \"South Africa\", \"Spain\", \"Sweden\", \"Switzerland\", \"Taiwan, China\", \"Thailand\", \"United Kingdom\", \"United States\", \"Viet Nam\"], \"marker\": {\"color\": [2, 1, 147, 3638, 5, 7, 1600, 2, 9, 2, 1, 1, 6, 6, 4, 1, 1, 1, 1, 201, 1, 1, 3, 1, 89, 7, 6, 54, 63], \"coloraxis\": \"coloraxis\", \"size\": [1.2311444133449163, 1.0, 4.46884406180249, 11.701965366313264, 1.6206565966927624, 1.792789962520997, 9.146101038546526, 1.2311444133449163, 1.9331820449317627, 1.2311444133449163, 1.0, 1.0, 1.711769859409705, 1.711769859409705, 1.515716566510398, 1.0, 1.0, 1.0, 1.0, 4.908613271164895, 1.0, 1.0, 1.3903891703159093, 1.0, 3.8442976132762077, 1.792789962520997, 1.711769859409705, 3.3091627572662095, 3.4657893658794796], \"sizemode\": \"area\", \"sizeref\": 0.03280452281427571}, \"name\": \"\", \"showlegend\": false, \"type\": \"scattergeo\"}], \"name\": \"05/01/2003\"}, {\"data\": [{\"geo\": \"geo\", \"hoverlabel\": {\"namelength\": 0}, \"hovertemplate\": \"<b>%{hovertext}</b><br><br>Date=05/02/2003<br>size=%{marker.size}<br>Country=%{location}<br>Confirmed=%{marker.color}\", \"hovertext\": [\"Brazil\", \"Bulgaria\", \"Canada\", \"China\", \"France\", \"Germany\", \"Hong Kong SAR, China\", \"Indonesia\", \"Italy\", \"Kuwait\", \"Macao SAR, China\", \"Malaysia\", \"Mongolia\", \"New Zealand\", \"Philippines\", \"Poland\", \"Republic of Ireland\", \"Republic of Korea\", \"Romania\", \"Singapore\", \"South Africa\", \"Spain\", \"Sweden\", \"Switzerland\", \"Taiwan, China\", \"Thailand\", \"United Kingdom\", \"United States\", \"Viet Nam\"], \"legendgroup\": \"\", \"locationmode\": \"country names\", \"locations\": [\"Brazil\", \"Bulgaria\", \"Canada\", \"China\", \"France\", \"Germany\", \"Hong Kong SAR, China\", \"Indonesia\", \"Italy\", \"Kuwait\", \"Macao SAR, China\", \"Malaysia\", \"Mongolia\", \"New Zealand\", \"Philippines\", \"Poland\", \"Republic of Ireland\", \"Republic of Korea\", \"Romania\", \"Singapore\", \"South Africa\", \"Spain\", \"Sweden\", \"Switzerland\", \"Taiwan, China\", \"Thailand\", \"United Kingdom\", \"United States\", \"Viet Nam\"], \"marker\": {\"color\": [2, 1, 149, 3799, 5, 7, 1611, 2, 9, 1, 1, 6, 8, 1, 3, 1, 1, 1, 1, 203, 1, 1, 3, 1, 100, 7, 6, 56, 63], \"coloraxis\": \"coloraxis\", \"size\": [1.2311444133449163, 1.0, 4.486998047212219, 11.854978974452028, 1.6206565966927624, 1.792789962520997, 9.164919656859109, 1.2311444133449163, 1.9331820449317627, 1.0, 1.0, 1.711769859409705, 1.8660659830736148, 1.0, 1.3903891703159093, 1.0, 1.0, 1.0, 1.0, 4.9232151050255055, 1.0, 1.0, 1.3903891703159093, 1.0, 3.9810717055349722, 1.792789962520997, 1.711769859409705, 3.345464363856254, 3.4657893658794796], \"sizemode\": \"area\", \"sizeref\": 0.03280452281427571}, \"name\": \"\", \"showlegend\": false, \"type\": \"scattergeo\"}], \"name\": \"05/02/2003\"}, {\"data\": [{\"geo\": \"geo\", \"hoverlabel\": {\"namelength\": 0}, \"hovertemplate\": \"<b>%{hovertext}</b><br><br>Date=05/03/2003<br>size=%{marker.size}<br>Country=%{location}<br>Confirmed=%{marker.color}\", \"hovertext\": [\"Brazil\", \"Bulgaria\", \"Canada\", \"China\", \"France\", \"Germany\", \"Hong Kong SAR, China\", \"Indonesia\", \"Italy\", \"Kuwait\", \"Macao SAR, China\", \"Malaysia\", \"Mongolia\", \"New Zealand\", \"Philippines\", \"Poland\", \"Republic of Ireland\", \"Republic of Korea\", \"Romania\", \"Singapore\", \"South Africa\", \"Spain\", \"Sweden\", \"Switzerland\", \"Taiwan, China\", \"Thailand\", \"United Kingdom\", \"United States\", \"Viet Nam\"], \"legendgroup\": \"\", \"locationmode\": \"country names\", \"locations\": [\"Brazil\", \"Bulgaria\", \"Canada\", \"China\", \"France\", \"Germany\", \"Hong Kong SAR, China\", \"Indonesia\", \"Italy\", \"Kuwait\", \"Macao SAR, China\", \"Malaysia\", \"Mongolia\", \"New Zealand\", \"Philippines\", \"Poland\", \"Republic of Ireland\", \"Republic of Korea\", \"Romania\", \"Singapore\", \"South Africa\", \"Spain\", \"Sweden\", \"Switzerland\", \"Taiwan, China\", \"Thailand\", \"United Kingdom\", \"United States\", \"Viet Nam\"], \"marker\": {\"color\": [2, 1, 149, 3971, 5, 7, 1621, 2, 9, 1, 1, 6, 8, 1, 3, 1, 1, 1, 1, 203, 1, 1, 3, 1, 100, 7, 6, 54, 63], \"coloraxis\": \"coloraxis\", \"size\": [1.2311444133449163, 1.0, 4.486998047212219, 12.013511435531942, 1.6206565966927624, 1.792789962520997, 9.181949597327637, 1.2311444133449163, 1.9331820449317627, 1.0, 1.0, 1.711769859409705, 1.8660659830736148, 1.0, 1.3903891703159093, 1.0, 1.0, 1.0, 1.0, 4.9232151050255055, 1.0, 1.0, 1.3903891703159093, 1.0, 3.9810717055349722, 1.792789962520997, 1.711769859409705, 3.3091627572662095, 3.4657893658794796], \"sizemode\": \"area\", \"sizeref\": 0.03280452281427571}, \"name\": \"\", \"showlegend\": false, \"type\": \"scattergeo\"}], \"name\": \"05/03/2003\"}, {\"data\": [{\"geo\": \"geo\", \"hoverlabel\": {\"namelength\": 0}, \"hovertemplate\": \"<b>%{hovertext}</b><br><br>Date=05/05/2003<br>size=%{marker.size}<br>Country=%{location}<br>Confirmed=%{marker.color}\", \"hovertext\": [\"Brazil\", \"Bulgaria\", \"Canada\", \"China\", \"France\", \"Germany\", \"Hong Kong SAR, China\", \"Indonesia\", \"Italy\", \"Kuwait\", \"Macao SAR, China\", \"Malaysia\", \"Mongolia\", \"New Zealand\", \"Philippines\", \"Poland\", \"Republic of Ireland\", \"Republic of Korea\", \"Romania\", \"Singapore\", \"South Africa\", \"Spain\", \"Sweden\", \"Switzerland\", \"Taiwan, China\", \"Thailand\", \"United Kingdom\", \"United States\", \"Viet Nam\"], \"legendgroup\": \"\", \"locationmode\": \"country names\", \"locations\": [\"Brazil\", \"Bulgaria\", \"Canada\", \"China\", \"France\", \"Germany\", \"Hong Kong SAR, China\", \"Indonesia\", \"Italy\", \"Kuwait\", \"Macao SAR, China\", \"Malaysia\", \"Mongolia\", \"New Zealand\", \"Philippines\", \"Poland\", \"Republic of Ireland\", \"Republic of Korea\", \"Romania\", \"Singapore\", \"South Africa\", \"Spain\", \"Sweden\", \"Switzerland\", \"Taiwan, China\", \"Thailand\", \"United Kingdom\", \"United States\", \"Viet Nam\"], \"marker\": {\"color\": [2, 1, 148, 4280, 5, 7, 1637, 2, 9, 1, 1, 7, 8, 1, 3, 1, 1, 1, 1, 204, 1, 1, 3, 1, 116, 7, 6, 61, 63], \"coloraxis\": \"coloraxis\", \"size\": [1.2311444133449163, 1.0, 4.477942520548968, 12.286639918612437, 1.6206565966927624, 1.792789962520997, 9.209045183812512, 1.2311444133449163, 1.9331820449317627, 1.0, 1.0, 1.792789962520997, 1.8660659830736148, 1.0, 1.3903891703159093, 1.0, 1.0, 1.0, 1.0, 4.930478282985189, 1.0, 1.0, 1.3903891703159093, 1.0, 4.162338506563337, 1.792789962520997, 1.711769859409705, 3.432408355505487, 3.4657893658794796], \"sizemode\": \"area\", \"sizeref\": 0.03280452281427571}, \"name\": \"\", \"showlegend\": false, \"type\": \"scattergeo\"}], \"name\": \"05/05/2003\"}, {\"data\": [{\"geo\": \"geo\", \"hoverlabel\": {\"namelength\": 0}, \"hovertemplate\": \"<b>%{hovertext}</b><br><br>Date=05/06/2003<br>size=%{marker.size}<br>Country=%{location}<br>Confirmed=%{marker.color}\", \"hovertext\": [\"Brazil\", \"Bulgaria\", \"Canada\", \"China\", \"Colombia\", \"France\", \"Germany\", \"Hong Kong SAR, China\", \"India\", \"Indonesia\", \"Italy\", \"Kuwait\", \"Macao SAR, China\", \"Malaysia\", \"Mongolia\", \"New Zealand\", \"Philippines\", \"Poland\", \"Republic of Ireland\", \"Republic of Korea\", \"Romania\", \"Singapore\", \"South Africa\", \"Spain\", \"Sweden\", \"Switzerland\", \"Taiwan, China\", \"Thailand\", \"United Kingdom\", \"United States\", \"Viet Nam\"], \"legendgroup\": \"\", \"locationmode\": \"country names\", \"locations\": [\"Brazil\", \"Bulgaria\", \"Canada\", \"China\", \"Colombia\", \"France\", \"Germany\", \"Hong Kong SAR, China\", \"India\", \"Indonesia\", \"Italy\", \"Kuwait\", \"Macao SAR, China\", \"Malaysia\", \"Mongolia\", \"New Zealand\", \"Philippines\", \"Poland\", \"Republic of Ireland\", \"Republic of Korea\", \"Romania\", \"Singapore\", \"South Africa\", \"Spain\", \"Sweden\", \"Switzerland\", \"Taiwan, China\", \"Thailand\", \"United Kingdom\", \"United States\", \"Viet Nam\"], \"marker\": {\"color\": [2, 1, 148, 4409, 1, 5, 7, 1646, 1, 2, 9, 1, 1, 7, 8, 1, 3, 1, 1, 1, 1, 204, 1, 1, 3, 1, 116, 7, 6, 65, 63], \"coloraxis\": \"coloraxis\", \"size\": [1.2311444133449163, 1.0, 4.477942520548968, 12.396584059751655, 1.0, 1.6206565966927624, 1.792789962520997, 9.224205064753123, 1.0, 1.2311444133449163, 1.9331820449317627, 1.0, 1.0, 1.792789962520997, 1.8660659830736148, 1.0, 1.3903891703159093, 1.0, 1.0, 1.0, 1.0, 4.930478282985189, 1.0, 1.0, 1.3903891703159093, 1.0, 4.162338506563337, 1.792789962520997, 1.711769859409705, 3.4984365929380252, 3.4657893658794796], \"sizemode\": \"area\", \"sizeref\": 0.03280452281427571}, \"name\": \"\", \"showlegend\": false, \"type\": \"scattergeo\"}], \"name\": \"05/06/2003\"}, {\"data\": [{\"geo\": \"geo\", \"hoverlabel\": {\"namelength\": 0}, \"hovertemplate\": \"<b>%{hovertext}</b><br><br>Date=05/07/2003<br>size=%{marker.size}<br>Country=%{location}<br>Confirmed=%{marker.color}\", \"hovertext\": [\"Brazil\", \"Bulgaria\", \"Canada\", \"China\", \"Colombia\", \"France\", \"Germany\", \"Hong Kong SAR, China\", \"India\", \"Indonesia\", \"Italy\", \"Kuwait\", \"Macao SAR, China\", \"Malaysia\", \"Mongolia\", \"New Zealand\", \"Philippines\", \"Poland\", \"Republic of Ireland\", \"Republic of Korea\", \"Romania\", \"Singapore\", \"South Africa\", \"Spain\", \"Sweden\", \"Switzerland\", \"Taiwan, China\", \"Thailand\", \"United Kingdom\", \"United States\", \"Viet Nam\"], \"legendgroup\": \"\", \"locationmode\": \"country names\", \"locations\": [\"Brazil\", \"Bulgaria\", \"Canada\", \"China\", \"Colombia\", \"France\", \"Germany\", \"Hong Kong SAR, China\", \"India\", \"Indonesia\", \"Italy\", \"Kuwait\", \"Macao SAR, China\", \"Malaysia\", \"Mongolia\", \"New Zealand\", \"Philippines\", \"Poland\", \"Republic of Ireland\", \"Republic of Korea\", \"Romania\", \"Singapore\", \"South Africa\", \"Spain\", \"Sweden\", \"Switzerland\", \"Taiwan, China\", \"Thailand\", \"United Kingdom\", \"United States\", \"Viet Nam\"], \"marker\": {\"color\": [2, 1, 146, 4560, 1, 6, 8, 1654, 1, 2, 9, 1, 1, 7, 9, 1, 10, 1, 1, 1, 1, 204, 1, 1, 3, 1, 125, 7, 6, 65, 63], \"coloraxis\": \"coloraxis\", \"size\": [1.2311444133449163, 1.0, 4.459702173287629, 12.522454224121164, 1.0, 1.711769859409705, 1.8660659830736148, 9.237631879193497, 1.0, 1.2311444133449163, 1.9331820449317627, 1.0, 1.0, 1.792789962520997, 1.9331820449317627, 1.0, 1.9952623149688795, 1.0, 1.0, 1.0, 1.0, 4.930478282985189, 1.0, 1.0, 1.3903891703159093, 1.0, 4.2566996126039225, 1.792789962520997, 1.711769859409705, 3.4984365929380252, 3.4657893658794796], \"sizemode\": \"area\", \"sizeref\": 0.03280452281427571}, \"name\": \"\", \"showlegend\": false, \"type\": \"scattergeo\"}], \"name\": \"05/07/2003\"}, {\"data\": [{\"geo\": \"geo\", \"hoverlabel\": {\"namelength\": 0}, \"hovertemplate\": \"<b>%{hovertext}</b><br><br>Date=05/08/2003<br>size=%{marker.size}<br>Country=%{location}<br>Confirmed=%{marker.color}\", \"hovertext\": [\"Brazil\", \"Bulgaria\", \"Canada\", \"China\", \"Colombia\", \"Finland\", \"France\", \"Germany\", \"Hong Kong SAR, China\", \"India\", \"Indonesia\", \"Italy\", \"Kuwait\", \"Macao SAR, China\", \"Malaysia\", \"Mongolia\", \"New Zealand\", \"Philippines\", \"Poland\", \"Republic of Ireland\", \"Republic of Korea\", \"Romania\", \"Singapore\", \"South Africa\", \"Spain\", \"Sweden\", \"Switzerland\", \"Taiwan, China\", \"Thailand\", \"United Kingdom\", \"United States\", \"Viet Nam\"], \"legendgroup\": \"\", \"locationmode\": \"country names\", \"locations\": [\"Brazil\", \"Bulgaria\", \"Canada\", \"China\", \"Colombia\", \"Finland\", \"France\", \"Germany\", \"Hong Kong SAR, China\", \"India\", \"Indonesia\", \"Italy\", \"Kuwait\", \"Macao SAR, China\", \"Malaysia\", \"Mongolia\", \"New Zealand\", \"Philippines\", \"Poland\", \"Republic of Ireland\", \"Republic of Korea\", \"Romania\", \"Singapore\", \"South Africa\", \"Spain\", \"Sweden\", \"Switzerland\", \"Taiwan, China\", \"Thailand\", \"United Kingdom\", \"United States\", \"Viet Nam\"], \"marker\": {\"color\": [2, 1, 146, 4698, 1, 1, 6, 8, 1661, 1, 2, 9, 1, 1, 7, 9, 1, 10, 1, 1, 1, 1, 204, 1, 1, 3, 1, 131, 7, 6, 63, 63], \"coloraxis\": \"coloraxis\", \"size\": [1.2311444133449163, 1.0, 4.459702173287629, 12.63496094180706, 1.0, 1.0, 1.711769859409705, 1.8660659830736148, 9.249343100903122, 1.0, 1.2311444133449163, 1.9331820449317627, 1.0, 1.0, 1.792789962520997, 1.9331820449317627, 1.0, 1.9952623149688795, 1.0, 1.0, 1.0, 1.0, 4.930478282985189, 1.0, 1.0, 1.3903891703159093, 1.0, 4.316993439835684, 1.792789962520997, 1.711769859409705, 3.4657893658794796, 3.4657893658794796], \"sizemode\": \"area\", \"sizeref\": 0.03280452281427571}, \"name\": \"\", \"showlegend\": false, \"type\": \"scattergeo\"}], \"name\": \"05/08/2003\"}, {\"data\": [{\"geo\": \"geo\", \"hoverlabel\": {\"namelength\": 0}, \"hovertemplate\": \"<b>%{hovertext}</b><br><br>Date=05/09/2003<br>size=%{marker.size}<br>Country=%{location}<br>Confirmed=%{marker.color}\", \"hovertext\": [\"Brazil\", \"Bulgaria\", \"Canada\", \"China\", \"Colombia\", \"Finland\", \"France\", \"Germany\", \"Hong Kong SAR, China\", \"India\", \"Indonesia\", \"Italy\", \"Kuwait\", \"Macao SAR, China\", \"Malaysia\", \"Mongolia\", \"New Zealand\", \"Philippines\", \"Poland\", \"Republic of Ireland\", \"Republic of Korea\", \"Romania\", \"Singapore\", \"South Africa\", \"Spain\", \"Sweden\", \"Switzerland\", \"Taiwan, China\", \"Thailand\", \"United Kingdom\", \"United States\", \"Viet Nam\"], \"legendgroup\": \"\", \"locationmode\": \"country names\", \"locations\": [\"Brazil\", \"Bulgaria\", \"Canada\", \"China\", \"Colombia\", \"Finland\", \"France\", \"Germany\", \"Hong Kong SAR, China\", \"India\", \"Indonesia\", \"Italy\", \"Kuwait\", \"Macao SAR, China\", \"Malaysia\", \"Mongolia\", \"New Zealand\", \"Philippines\", \"Poland\", \"Republic of Ireland\", \"Republic of Korea\", \"Romania\", \"Singapore\", \"South Africa\", \"Spain\", \"Sweden\", \"Switzerland\", \"Taiwan, China\", \"Thailand\", \"United Kingdom\", \"United States\", \"Viet Nam\"], \"marker\": {\"color\": [2, 1, 145, 4805, 1, 1, 6, 9, 1667, 1, 2, 9, 1, 1, 6, 9, 1, 10, 1, 1, 1, 1, 204, 1, 1, 3, 1, 149, 7, 6, 63, 63], \"coloraxis\": \"coloraxis\", \"size\": [1.2311444133449163, 1.0, 4.450516348093168, 12.720612336577194, 1.0, 1.0, 1.711769859409705, 1.9331820449317627, 9.259353824254383, 1.0, 1.2311444133449163, 1.9331820449317627, 1.0, 1.0, 1.711769859409705, 1.9331820449317627, 1.0, 1.9952623149688795, 1.0, 1.0, 1.0, 1.0, 4.930478282985189, 1.0, 1.0, 1.3903891703159093, 1.0, 4.486998047212219, 1.792789962520997, 1.711769859409705, 3.4657893658794796, 3.4657893658794796], \"sizemode\": \"area\", \"sizeref\": 0.03280452281427571}, \"name\": \"\", \"showlegend\": false, \"type\": \"scattergeo\"}], \"name\": \"05/09/2003\"}, {\"data\": [{\"geo\": \"geo\", \"hoverlabel\": {\"namelength\": 0}, \"hovertemplate\": \"<b>%{hovertext}</b><br><br>Date=05/10/2003<br>size=%{marker.size}<br>Country=%{location}<br>Confirmed=%{marker.color}\", \"hovertext\": [\"Brazil\", \"Bulgaria\", \"Canada\", \"China\", \"Colombia\", \"Finland\", \"France\", \"Germany\", \"Hong Kong SAR, China\", \"India\", \"Indonesia\", \"Italy\", \"Kuwait\", \"Macao SAR, China\", \"Malaysia\", \"Mongolia\", \"New Zealand\", \"Philippines\", \"Poland\", \"Republic of Ireland\", \"Republic of Korea\", \"Romania\", \"Singapore\", \"South Africa\", \"Spain\", \"Sweden\", \"Switzerland\", \"Taiwan, China\", \"Thailand\", \"United Kingdom\", \"United States\", \"Viet Nam\"], \"legendgroup\": \"\", \"locationmode\": \"country names\", \"locations\": [\"Brazil\", \"Bulgaria\", \"Canada\", \"China\", \"Colombia\", \"Finland\", \"France\", \"Germany\", \"Hong Kong SAR, China\", \"India\", \"Indonesia\", \"Italy\", \"Kuwait\", \"Macao SAR, China\", \"Malaysia\", \"Mongolia\", \"New Zealand\", \"Philippines\", \"Poland\", \"Republic of Ireland\", \"Republic of Korea\", \"Romania\", \"Singapore\", \"South Africa\", \"Spain\", \"Sweden\", \"Switzerland\", \"Taiwan, China\", \"Thailand\", \"United Kingdom\", \"United States\", \"Viet Nam\"], \"marker\": {\"color\": [2, 1, 145, 4884, 1, 1, 7, 9, 1674, 1, 2, 9, 1, 1, 7, 9, 1, 10, 1, 1, 1, 1, 205, 1, 1, 3, 1, 172, 7, 6, 64, 63], \"coloraxis\": \"coloraxis\", \"size\": [1.2311444133449163, 1.0, 4.450516348093168, 12.782997282120935, 1.0, 1.0, 1.792789962520997, 1.9331820449317627, 9.271001174542887, 1.0, 1.2311444133449163, 1.9331820449317627, 1.0, 1.0, 1.792789962520997, 1.9331820449317627, 1.0, 1.9952623149688795, 1.0, 1.0, 1.0, 1.0, 4.937716580851732, 1.0, 1.0, 1.3903891703159093, 1.0, 4.6844492045317265, 1.792789962520997, 1.711769859409705, 3.4822022531844965, 3.4657893658794796], \"sizemode\": \"area\", \"sizeref\": 0.03280452281427571}, \"name\": \"\", \"showlegend\": false, \"type\": \"scattergeo\"}], \"name\": \"05/10/2003\"}, {\"data\": [{\"geo\": \"geo\", \"hoverlabel\": {\"namelength\": 0}, \"hovertemplate\": \"<b>%{hovertext}</b><br><br>Date=05/12/2003<br>size=%{marker.size}<br>Country=%{location}<br>Confirmed=%{marker.color}\", \"hovertext\": [\"Brazil\", \"Bulgaria\", \"Canada\", \"China\", \"Colombia\", \"Finland\", \"France\", \"Germany\", \"Hong Kong SAR, China\", \"India\", \"Indonesia\", \"Italy\", \"Kuwait\", \"Macao SAR, China\", \"Malaysia\", \"Mongolia\", \"New Zealand\", \"Philippines\", \"Poland\", \"Republic of Ireland\", \"Republic of Korea\", \"Romania\", \"Singapore\", \"South Africa\", \"Spain\", \"Sweden\", \"Switzerland\", \"Taiwan, China\", \"Thailand\", \"United Kingdom\", \"United States\", \"Viet Nam\"], \"legendgroup\": \"\", \"locationmode\": \"country names\", \"locations\": [\"Brazil\", \"Bulgaria\", \"Canada\", \"China\", \"Colombia\", \"Finland\", \"France\", \"Germany\", \"Hong Kong SAR, China\", \"India\", \"Indonesia\", \"Italy\", \"Kuwait\", \"Macao SAR, China\", \"Malaysia\", \"Mongolia\", \"New Zealand\", \"Philippines\", \"Poland\", \"Republic of Ireland\", \"Republic of Korea\", \"Romania\", \"Singapore\", \"South Africa\", \"Spain\", \"Sweden\", \"Switzerland\", \"Taiwan, China\", \"Thailand\", \"United Kingdom\", \"United States\", \"Viet Nam\"], \"marker\": {\"color\": [2, 1, 143, 5013, 1, 1, 7, 9, 1683, 1, 2, 9, 1, 1, 7, 9, 1, 10, 1, 1, 2, 1, 205, 1, 1, 3, 1, 184, 7, 6, 64, 63], \"coloraxis\": \"coloraxis\", \"size\": [1.2311444133449163, 1.0, 4.432010812466598, 12.883365011089161, 1.0, 1.0, 1.792789962520997, 1.9331820449317627, 9.2859263498643, 1.0, 1.2311444133449163, 1.9331820449317627, 1.0, 1.0, 1.792789962520997, 1.9331820449317627, 1.0, 1.9952623149688795, 1.0, 1.0, 1.2311444133449163, 1.0, 4.937716580851732, 1.0, 1.0, 1.3903891703159093, 1.0, 4.780192067983897, 1.792789962520997, 1.711769859409705, 3.4822022531844965, 3.4657893658794796], \"sizemode\": \"area\", \"sizeref\": 0.03280452281427571}, \"name\": \"\", \"showlegend\": false, \"type\": \"scattergeo\"}], \"name\": \"05/12/2003\"}, {\"data\": [{\"geo\": \"geo\", \"hoverlabel\": {\"namelength\": 0}, \"hovertemplate\": \"<b>%{hovertext}</b><br><br>Date=05/13/2003<br>size=%{marker.size}<br>Country=%{location}<br>Confirmed=%{marker.color}\", \"hovertext\": [\"Brazil\", \"Bulgaria\", \"Canada\", \"China\", \"Colombia\", \"Finland\", \"France\", \"Germany\", \"Hong Kong SAR, China\", \"India\", \"Indonesia\", \"Italy\", \"Kuwait\", \"Macao SAR, China\", \"Malaysia\", \"Mongolia\", \"New Zealand\", \"Philippines\", \"Republic of Ireland\", \"Republic of Korea\", \"Romania\", \"Singapore\", \"South Africa\", \"Spain\", \"Sweden\", \"Switzerland\", \"Taiwan, China\", \"Thailand\", \"United Kingdom\", \"United States\", \"Viet Nam\"], \"legendgroup\": \"\", \"locationmode\": \"country names\", \"locations\": [\"Brazil\", \"Bulgaria\", \"Canada\", \"China\", \"Colombia\", \"Finland\", \"France\", \"Germany\", \"Hong Kong SAR, China\", \"India\", \"Indonesia\", \"Italy\", \"Kuwait\", \"Macao SAR, China\", \"Malaysia\", \"Mongolia\", \"New Zealand\", \"Philippines\", \"Republic of Ireland\", \"Republic of Korea\", \"Romania\", \"Singapore\", \"South Africa\", \"Spain\", \"Sweden\", \"Switzerland\", \"Taiwan, China\", \"Thailand\", \"United Kingdom\", \"United States\", \"Viet Nam\"], \"marker\": {\"color\": [2, 1, 143, 5086, 1, 1, 7, 9, 1689, 3, 2, 9, 1, 1, 7, 9, 1, 10, 1, 2, 1, 205, 1, 1, 3, 1, 207, 7, 4, 64, 63], \"coloraxis\": \"coloraxis\", \"size\": [1.2311444133449163, 1.0, 4.432010812466598, 12.939363299365576, 1.0, 1.0, 1.792789962520997, 1.9331820449317627, 9.295845454659831, 1.3903891703159093, 1.2311444133449163, 1.9331820449317627, 1.0, 1.0, 1.792789962520997, 1.9331820449317627, 1.0, 1.9952623149688795, 1.0, 1.2311444133449163, 1.0, 4.937716580851732, 1.0, 1.0, 1.3903891703159093, 1.0, 4.952119357500314, 1.792789962520997, 1.515716566510398, 3.4822022531844965, 3.4657893658794796], \"sizemode\": \"area\", \"sizeref\": 0.03280452281427571}, \"name\": \"\", \"showlegend\": false, \"type\": \"scattergeo\"}], \"name\": \"05/13/2003\"}, {\"data\": [{\"geo\": \"geo\", \"hoverlabel\": {\"namelength\": 0}, \"hovertemplate\": \"<b>%{hovertext}</b><br><br>Date=05/14/2003<br>size=%{marker.size}<br>Country=%{location}<br>Confirmed=%{marker.color}\", \"hovertext\": [\"Brazil\", \"Bulgaria\", \"Canada\", \"China\", \"Colombia\", \"Finland\", \"France\", \"Germany\", \"Hong Kong SAR, China\", \"India\", \"Indonesia\", \"Italy\", \"Kuwait\", \"Macao SAR, China\", \"Malaysia\", \"Mongolia\", \"New Zealand\", \"Philippines\", \"Republic of Ireland\", \"Republic of Korea\", \"Romania\", \"Singapore\", \"South Africa\", \"Spain\", \"Sweden\", \"Switzerland\", \"Taiwan, China\", \"Thailand\", \"United Kingdom\", \"United States\", \"Viet Nam\"], \"legendgroup\": \"\", \"locationmode\": \"country names\", \"locations\": [\"Brazil\", \"Bulgaria\", \"Canada\", \"China\", \"Colombia\", \"Finland\", \"France\", \"Germany\", \"Hong Kong SAR, China\", \"India\", \"Indonesia\", \"Italy\", \"Kuwait\", \"Macao SAR, China\", \"Malaysia\", \"Mongolia\", \"New Zealand\", \"Philippines\", \"Republic of Ireland\", \"Republic of Korea\", \"Romania\", \"Singapore\", \"South Africa\", \"Spain\", \"Sweden\", \"Switzerland\", \"Taiwan, China\", \"Thailand\", \"United Kingdom\", \"United States\", \"Viet Nam\"], \"marker\": {\"color\": [2, 1, 143, 5124, 1, 1, 7, 9, 1698, 3, 2, 9, 1, 1, 7, 9, 1, 10, 1, 3, 1, 205, 1, 1, 3, 1, 238, 8, 4, 64, 63], \"coloraxis\": \"coloraxis\", \"size\": [1.2311444133449163, 1.0, 4.432010812466598, 12.96829067412551, 1.0, 1.0, 1.792789962520997, 1.9331820449317627, 9.310677967455234, 1.3903891703159093, 1.2311444133449163, 1.9331820449317627, 1.0, 1.0, 1.792789962520997, 1.9331820449317627, 1.0, 1.9952623149688795, 1.0, 1.3903891703159093, 1.0, 4.937716580851732, 1.0, 1.0, 1.3903891703159093, 1.0, 5.163843683526358, 1.8660659830736148, 1.515716566510398, 3.4822022531844965, 3.4657893658794796], \"sizemode\": \"area\", \"sizeref\": 0.03280452281427571}, \"name\": \"\", \"showlegend\": false, \"type\": \"scattergeo\"}], \"name\": \"05/14/2003\"}, {\"data\": [{\"geo\": \"geo\", \"hoverlabel\": {\"namelength\": 0}, \"hovertemplate\": \"<b>%{hovertext}</b><br><br>Date=05/15/2003<br>size=%{marker.size}<br>Country=%{location}<br>Confirmed=%{marker.color}\", \"hovertext\": [\"Brazil\", \"Bulgaria\", \"Canada\", \"China\", \"Colombia\", \"Finland\", \"France\", \"Germany\", \"Hong Kong SAR, China\", \"India\", \"Indonesia\", \"Italy\", \"Kuwait\", \"Macao SAR, China\", \"Malaysia\", \"Mongolia\", \"New Zealand\", \"Philippines\", \"Republic of Ireland\", \"Republic of Korea\", \"Romania\", \"Singapore\", \"South Africa\", \"Spain\", \"Sweden\", \"Switzerland\", \"Taiwan, China\", \"Thailand\", \"United Kingdom\", \"United States\", \"Viet Nam\"], \"legendgroup\": \"\", \"locationmode\": \"country names\", \"locations\": [\"Brazil\", \"Bulgaria\", \"Canada\", \"China\", \"Colombia\", \"Finland\", \"France\", \"Germany\", \"Hong Kong SAR, China\", \"India\", \"Indonesia\", \"Italy\", \"Kuwait\", \"Macao SAR, China\", \"Malaysia\", \"Mongolia\", \"New Zealand\", \"Philippines\", \"Republic of Ireland\", \"Republic of Korea\", \"Romania\", \"Singapore\", \"South Africa\", \"Spain\", \"Sweden\", \"Switzerland\", \"Taiwan, China\", \"Thailand\", \"United Kingdom\", \"United States\", \"Viet Nam\"], \"marker\": {\"color\": [2, 1, 142, 5163, 1, 1, 7, 9, 1703, 3, 2, 9, 1, 1, 7, 9, 1, 12, 1, 3, 1, 205, 1, 1, 3, 1, 264, 8, 4, 64, 63], \"coloraxis\": \"coloraxis\", \"size\": [1.2311444133449163, 1.0, 4.422690039918873, 12.997823566238063, 1.0, 1.0, 1.792789962520997, 1.9331820449317627, 9.31889448524404, 1.3903891703159093, 1.2311444133449163, 1.9331820449317627, 1.0, 1.0, 1.792789962520997, 1.9331820449317627, 1.0, 2.107435899344471, 1.0, 1.3903891703159093, 1.0, 4.937716580851732, 1.0, 1.0, 1.3903891703159093, 1.0, 5.326981371561689, 1.8660659830736148, 1.515716566510398, 3.4822022531844965, 3.4657893658794796], \"sizemode\": \"area\", \"sizeref\": 0.03280452281427571}, \"name\": \"\", \"showlegend\": false, \"type\": \"scattergeo\"}], \"name\": \"05/15/2003\"}, {\"data\": [{\"geo\": \"geo\", \"hoverlabel\": {\"namelength\": 0}, \"hovertemplate\": \"<b>%{hovertext}</b><br><br>Date=05/16/2003<br>size=%{marker.size}<br>Country=%{location}<br>Confirmed=%{marker.color}\", \"hovertext\": [\"Brazil\", \"Bulgaria\", \"Canada\", \"China\", \"Colombia\", \"Finland\", \"France\", \"Germany\", \"Hong Kong SAR, China\", \"India\", \"Indonesia\", \"Italy\", \"Kuwait\", \"Macao SAR, China\", \"Malaysia\", \"Mongolia\", \"New Zealand\", \"Philippines\", \"Republic of Ireland\", \"Republic of Korea\", \"Romania\", \"Singapore\", \"South Africa\", \"Spain\", \"Sweden\", \"Switzerland\", \"Taiwan, China\", \"Thailand\", \"United Kingdom\", \"United States\", \"Viet Nam\"], \"legendgroup\": \"\", \"locationmode\": \"country names\", \"locations\": [\"Brazil\", \"Bulgaria\", \"Canada\", \"China\", \"Colombia\", \"Finland\", \"France\", \"Germany\", \"Hong Kong SAR, China\", \"India\", \"Indonesia\", \"Italy\", \"Kuwait\", \"Macao SAR, China\", \"Malaysia\", \"Mongolia\", \"New Zealand\", \"Philippines\", \"Republic of Ireland\", \"Republic of Korea\", \"Romania\", \"Singapore\", \"South Africa\", \"Spain\", \"Sweden\", \"Switzerland\", \"Taiwan, China\", \"Thailand\", \"United Kingdom\", \"United States\", \"Viet Nam\"], \"marker\": {\"color\": [2, 1, 140, 5191, 1, 1, 7, 9, 1706, 3, 2, 9, 1, 1, 7, 9, 1, 12, 1, 3, 1, 205, 1, 1, 3, 1, 274, 8, 4, 65, 63], \"coloraxis\": \"coloraxis\", \"size\": [1.2311444133449163, 1.0, 4.403909753814732, 13.018930502588132, 1.0, 1.0, 1.792789962520997, 1.9331820449317627, 9.323816293293959, 1.3903891703159093, 1.2311444133449163, 1.9331820449317627, 1.0, 1.0, 1.792789962520997, 1.9331820449317627, 1.0, 2.107435899344471, 1.0, 1.3903891703159093, 1.0, 4.937716580851732, 1.0, 1.0, 1.3903891703159093, 1.0, 5.386729515921298, 1.8660659830736148, 1.515716566510398, 3.4984365929380252, 3.4657893658794796], \"sizemode\": \"area\", \"sizeref\": 0.03280452281427571}, \"name\": \"\", \"showlegend\": false, \"type\": \"scattergeo\"}], \"name\": \"05/16/2003\"}, {\"data\": [{\"geo\": \"geo\", \"hoverlabel\": {\"namelength\": 0}, \"hovertemplate\": \"<b>%{hovertext}</b><br><br>Date=05/17/2003<br>size=%{marker.size}<br>Country=%{location}<br>Confirmed=%{marker.color}\", \"hovertext\": [\"Brazil\", \"Canada\", \"China\", \"Colombia\", \"Finland\", \"France\", \"Germany\", \"Hong Kong SAR, China\", \"India\", \"Indonesia\", \"Italy\", \"Kuwait\", \"Macao SAR, China\", \"Malaysia\", \"Mongolia\", \"New Zealand\", \"Philippines\", \"Republic of Ireland\", \"Republic of Korea\", \"Romania\", \"Singapore\", \"South Africa\", \"Spain\", \"Sweden\", \"Switzerland\", \"Taiwan, China\", \"Thailand\", \"United Kingdom\", \"United States\", \"Viet Nam\"], \"legendgroup\": \"\", \"locationmode\": \"country names\", \"locations\": [\"Brazil\", \"Canada\", \"China\", \"Colombia\", \"Finland\", \"France\", \"Germany\", \"Hong Kong SAR, China\", \"India\", \"Indonesia\", \"Italy\", \"Kuwait\", \"Macao SAR, China\", \"Malaysia\", \"Mongolia\", \"New Zealand\", \"Philippines\", \"Republic of Ireland\", \"Republic of Korea\", \"Romania\", \"Singapore\", \"South Africa\", \"Spain\", \"Sweden\", \"Switzerland\", \"Taiwan, China\", \"Thailand\", \"United Kingdom\", \"United States\", \"Viet Nam\"], \"marker\": {\"color\": [2, 140, 5209, 1, 1, 7, 9, 1710, 3, 2, 9, 1, 1, 7, 9, 1, 12, 1, 3, 1, 205, 1, 1, 3, 1, 274, 8, 4, 66, 63], \"coloraxis\": \"coloraxis\", \"size\": [1.2311444133449163, 4.403909753814732, 13.032457196953986, 1.0, 1.0, 1.792789962520997, 1.9331820449317627, 9.330369288612625, 1.3903891703159093, 1.2311444133449163, 1.9331820449317627, 1.0, 1.0, 1.792789962520997, 1.9331820449317627, 1.0, 2.107435899344471, 1.0, 1.3903891703159093, 1.0, 4.937716580851732, 1.0, 1.0, 1.3903891703159093, 1.0, 5.386729515921298, 1.8660659830736148, 1.515716566510398, 3.5144970301577456, 3.4657893658794796], \"sizemode\": \"area\", \"sizeref\": 0.03280452281427571}, \"name\": \"\", \"showlegend\": false, \"type\": \"scattergeo\"}], \"name\": \"05/17/2003\"}, {\"data\": [{\"geo\": \"geo\", \"hoverlabel\": {\"namelength\": 0}, \"hovertemplate\": \"<b>%{hovertext}</b><br><br>Date=05/19/2003<br>size=%{marker.size}<br>Country=%{location}<br>Confirmed=%{marker.color}\", \"hovertext\": [\"Brazil\", \"Canada\", \"China\", \"Colombia\", \"Finland\", \"France\", \"Germany\", \"Hong Kong SAR, China\", \"India\", \"Indonesia\", \"Italy\", \"Kuwait\", \"Macao SAR, China\", \"Malaysia\", \"Mongolia\", \"New Zealand\", \"Philippines\", \"Republic of Ireland\", \"Republic of Korea\", \"Romania\", \"Singapore\", \"South Africa\", \"Spain\", \"Sweden\", \"Switzerland\", \"Taiwan, China\", \"Thailand\", \"United Kingdom\", \"United States\", \"Viet Nam\"], \"legendgroup\": \"\", \"locationmode\": \"country names\", \"locations\": [\"Brazil\", \"Canada\", \"China\", \"Colombia\", \"Finland\", \"France\", \"Germany\", \"Hong Kong SAR, China\", \"India\", \"Indonesia\", \"Italy\", \"Kuwait\", \"Macao SAR, China\", \"Malaysia\", \"Mongolia\", \"New Zealand\", \"Philippines\", \"Republic of Ireland\", \"Republic of Korea\", \"Romania\", \"Singapore\", \"South Africa\", \"Spain\", \"Sweden\", \"Switzerland\", \"Taiwan, China\", \"Thailand\", \"United Kingdom\", \"United States\", \"Viet Nam\"], \"marker\": {\"color\": [2, 140, 5236, 1, 1, 7, 9, 1714, 3, 2, 9, 1, 1, 7, 9, 1, 12, 1, 3, 1, 206, 1, 1, 3, 1, 344, 8, 4, 67, 63], \"coloraxis\": \"coloraxis\", \"size\": [1.2311444133449163, 4.403909753814732, 13.05268602302818, 1.0, 1.0, 1.792789962520997, 1.9331820449317627, 9.33691156264733, 1.3903891703159093, 1.2311444133449163, 1.9331820449317627, 1.0, 1.0, 1.792789962520997, 1.9331820449317627, 1.0, 2.107435899344471, 1.0, 1.3903891703159093, 1.0, 4.944930204597636, 1.0, 1.0, 1.3903891703159093, 1.0, 5.767233467757272, 1.8660659830736148, 1.515716566510398, 3.5303880208226968, 3.4657893658794796], \"sizemode\": \"area\", \"sizeref\": 0.03280452281427571}, \"name\": \"\", \"showlegend\": false, \"type\": \"scattergeo\"}], \"name\": \"05/19/2003\"}, {\"data\": [{\"geo\": \"geo\", \"hoverlabel\": {\"namelength\": 0}, \"hovertemplate\": \"<b>%{hovertext}</b><br><br>Date=05/20/2003<br>size=%{marker.size}<br>Country=%{location}<br>Confirmed=%{marker.color}\", \"hovertext\": [\"Brazil\", \"Canada\", \"China\", \"Colombia\", \"Finland\", \"France\", \"Germany\", \"Hong Kong SAR, China\", \"India\", \"Indonesia\", \"Italy\", \"Kuwait\", \"Macao SAR, China\", \"Malaysia\", \"Mongolia\", \"New Zealand\", \"Philippines\", \"Republic of Ireland\", \"Republic of Korea\", \"Romania\", \"Singapore\", \"South Africa\", \"Spain\", \"Sweden\", \"Switzerland\", \"Taiwan, China\", \"Thailand\", \"United Kingdom\", \"United States\", \"Viet Nam\"], \"legendgroup\": \"\", \"locationmode\": \"country names\", \"locations\": [\"Brazil\", \"Canada\", \"China\", \"Colombia\", \"Finland\", \"France\", \"Germany\", \"Hong Kong SAR, China\", \"India\", \"Indonesia\", \"Italy\", \"Kuwait\", \"Macao SAR, China\", \"Malaysia\", \"Mongolia\", \"New Zealand\", \"Philippines\", \"Republic of Ireland\", \"Republic of Korea\", \"Romania\", \"Singapore\", \"South Africa\", \"Spain\", \"Sweden\", \"Switzerland\", \"Taiwan, China\", \"Thailand\", \"United Kingdom\", \"United States\", \"Viet Nam\"], \"marker\": {\"color\": [2, 140, 5248, 1, 1, 7, 9, 1718, 3, 2, 9, 1, 1, 7, 9, 1, 12, 1, 3, 1, 206, 1, 1, 3, 1, 383, 8, 4, 67, 63], \"coloraxis\": \"coloraxis\", \"size\": [1.2311444133449163, 4.403909753814732, 13.061653178549545, 1.0, 1.0, 1.792789962520997, 1.9331820449317627, 9.343443157898278, 1.3903891703159093, 1.2311444133449163, 1.9331820449317627, 1.0, 1.0, 1.792789962520997, 1.9331820449317627, 1.0, 2.107435899344471, 1.0, 1.3903891703159093, 1.0, 4.944930204597636, 1.0, 1.0, 1.3903891703159093, 1.0, 5.956067791175356, 1.8660659830736148, 1.515716566510398, 3.5303880208226968, 3.4657893658794796], \"sizemode\": \"area\", \"sizeref\": 0.03280452281427571}, \"name\": \"\", \"showlegend\": false, \"type\": \"scattergeo\"}], \"name\": \"05/20/2003\"}, {\"data\": [{\"geo\": \"geo\", \"hoverlabel\": {\"namelength\": 0}, \"hovertemplate\": \"<b>%{hovertext}</b><br><br>Date=05/21/2003<br>size=%{marker.size}<br>Country=%{location}<br>Confirmed=%{marker.color}\", \"hovertext\": [\"Brazil\", \"Canada\", \"China\", \"Colombia\", \"Finland\", \"France\", \"Germany\", \"Hong Kong SAR, China\", \"India\", \"Indonesia\", \"Italy\", \"Kuwait\", \"Macao SAR, China\", \"Malaysia\", \"Mongolia\", \"New Zealand\", \"Philippines\", \"Republic of Ireland\", \"Republic of Korea\", \"Romania\", \"Singapore\", \"South Africa\", \"Spain\", \"Sweden\", \"Switzerland\", \"Taiwan, China\", \"Thailand\", \"United Kingdom\", \"United States\", \"Viet Nam\"], \"legendgroup\": \"\", \"locationmode\": \"country names\", \"locations\": [\"Brazil\", \"Canada\", \"China\", \"Colombia\", \"Finland\", \"France\", \"Germany\", \"Hong Kong SAR, China\", \"India\", \"Indonesia\", \"Italy\", \"Kuwait\", \"Macao SAR, China\", \"Malaysia\", \"Mongolia\", \"New Zealand\", \"Philippines\", \"Republic of Ireland\", \"Republic of Korea\", \"Romania\", \"Singapore\", \"South Africa\", \"Spain\", \"Sweden\", \"Switzerland\", \"Taiwan, China\", \"Thailand\", \"United Kingdom\", \"United States\", \"Viet Nam\"], \"marker\": {\"color\": [2, 140, 5249, 1, 1, 7, 9, 1719, 3, 2, 9, 1, 1, 8, 9, 1, 12, 1, 3, 1, 206, 1, 1, 3, 1, 418, 8, 4, 66, 63], \"coloraxis\": \"coloraxis\", \"size\": [1.2311444133449163, 4.403909753814732, 13.062399793383607, 1.0, 1.0, 1.792789962520997, 1.9331820449317627, 9.345074393106096, 1.3903891703159093, 1.2311444133449163, 1.9331820449317627, 1.0, 1.0, 1.8660659830736148, 1.9331820449317627, 1.0, 2.107435899344471, 1.0, 1.3903891703159093, 1.0, 4.944930204597636, 1.0, 1.0, 1.3903891703159093, 1.0, 6.1143864554627045, 1.8660659830736148, 1.515716566510398, 3.5144970301577456, 3.4657893658794796], \"sizemode\": \"area\", \"sizeref\": 0.03280452281427571}, \"name\": \"\", \"showlegend\": false, \"type\": \"scattergeo\"}], \"name\": \"05/21/2003\"}, {\"data\": [{\"geo\": \"geo\", \"hoverlabel\": {\"namelength\": 0}, \"hovertemplate\": \"<b>%{hovertext}</b><br><br>Date=05/22/2003<br>size=%{marker.size}<br>Country=%{location}<br>Confirmed=%{marker.color}\", \"hovertext\": [\"Australia\", \"Brazil\", \"Canada\", \"China\", \"Colombia\", \"Finland\", \"France\", \"Germany\", \"Hong Kong SAR, China\", \"India\", \"Indonesia\", \"Italy\", \"Kuwait\", \"Macao SAR, China\", \"Malaysia\", \"Mongolia\", \"New Zealand\", \"Philippines\", \"Republic of Ireland\", \"Republic of Korea\", \"Romania\", \"Singapore\", \"South Africa\", \"Spain\", \"Sweden\", \"Switzerland\", \"Taiwan, China\", \"Thailand\", \"United Kingdom\", \"United States\", \"Viet Nam\"], \"legendgroup\": \"\", \"locationmode\": \"country names\", \"locations\": [\"Australia\", \"Brazil\", \"Canada\", \"China\", \"Colombia\", \"Finland\", \"France\", \"Germany\", \"Hong Kong SAR, China\", \"India\", \"Indonesia\", \"Italy\", \"Kuwait\", \"Macao SAR, China\", \"Malaysia\", \"Mongolia\", \"New Zealand\", \"Philippines\", \"Republic of Ireland\", \"Republic of Korea\", \"Romania\", \"Singapore\", \"South Africa\", \"Spain\", \"Sweden\", \"Switzerland\", \"Taiwan, China\", \"Thailand\", \"United Kingdom\", \"United States\", \"Viet Nam\"], \"marker\": {\"color\": [6, 2, 140, 5271, 1, 1, 7, 9, 1722, 3, 2, 9, 1, 2, 8, 9, 1, 12, 1, 3, 1, 206, 1, 1, 3, 1, 483, 8, 4, 65, 63], \"coloraxis\": \"coloraxis\", \"size\": [1.711769859409705, 1.2311444133449163, 4.403909753814732, 13.078800187751835, 1.0, 1.0, 1.792789962520997, 1.9331820449317627, 9.349964116598718, 1.3903891703159093, 1.2311444133449163, 1.9331820449317627, 1.0, 1.2311444133449163, 1.8660659830736148, 1.9331820449317627, 1.0, 2.107435899344471, 1.0, 1.3903891703159093, 1.0, 4.944930204597636, 1.0, 1.0, 1.3903891703159093, 1.0, 6.385341648853108, 1.8660659830736148, 1.515716566510398, 3.4984365929380252, 3.4657893658794796], \"sizemode\": \"area\", \"sizeref\": 0.03280452281427571}, \"name\": \"\", \"showlegend\": false, \"type\": \"scattergeo\"}], \"name\": \"05/22/2003\"}, {\"data\": [{\"geo\": \"geo\", \"hoverlabel\": {\"namelength\": 0}, \"hovertemplate\": \"<b>%{hovertext}</b><br><br>Date=05/23/2003<br>size=%{marker.size}<br>Country=%{location}<br>Confirmed=%{marker.color}\", \"hovertext\": [\"Brazil\", \"Canada\", \"China\", \"Colombia\", \"Finland\", \"France\", \"Germany\", \"Hong Kong SAR, China\", \"India\", \"Indonesia\", \"Italy\", \"Kuwait\", \"Macao SAR, China\", \"Malaysia\", \"Mongolia\", \"New Zealand\", \"Philippines\", \"Republic of Ireland\", \"Republic of Korea\", \"Romania\", \"Singapore\", \"South Africa\", \"Spain\", \"Sweden\", \"Switzerland\", \"Taiwan, China\", \"Thailand\", \"United Kingdom\", \"United States\", \"Viet Nam\"], \"legendgroup\": \"\", \"locationmode\": \"country names\", \"locations\": [\"Brazil\", \"Canada\", \"China\", \"Colombia\", \"Finland\", \"France\", \"Germany\", \"Hong Kong SAR, China\", \"India\", \"Indonesia\", \"Italy\", \"Kuwait\", \"Macao SAR, China\", \"Malaysia\", \"Mongolia\", \"New Zealand\", \"Philippines\", \"Republic of Ireland\", \"Republic of Korea\", \"Romania\", \"Singapore\", \"South Africa\", \"Spain\", \"Sweden\", \"Switzerland\", \"Taiwan, China\", \"Thailand\", \"United Kingdom\", \"United States\", \"Viet Nam\"], \"marker\": {\"color\": [2, 140, 5285, 1, 1, 7, 9, 1724, 3, 2, 9, 1, 2, 8, 9, 1, 12, 1, 3, 1, 206, 1, 1, 3, 1, 538, 8, 4, 65, 63], \"coloraxis\": \"coloraxis\", \"size\": [1.2311444133449163, 4.403909753814732, 13.089211869191745, 1.0, 1.0, 1.792789962520997, 1.9331820449317627, 9.353220620367956, 1.3903891703159093, 1.2311444133449163, 1.9331820449317627, 1.0, 1.2311444133449163, 1.8660659830736148, 1.9331820449317627, 1.0, 2.107435899344471, 1.0, 1.3903891703159093, 1.0, 4.944930204597636, 1.0, 1.0, 1.3903891703159093, 1.0, 6.595301938405303, 1.8660659830736148, 1.515716566510398, 3.4984365929380252, 3.4657893658794796], \"sizemode\": \"area\", \"sizeref\": 0.03280452281427571}, \"name\": \"\", \"showlegend\": false, \"type\": \"scattergeo\"}], \"name\": \"05/23/2003\"}, {\"data\": [{\"geo\": \"geo\", \"hoverlabel\": {\"namelength\": 0}, \"hovertemplate\": \"<b>%{hovertext}</b><br><br>Date=05/24/2003<br>size=%{marker.size}<br>Country=%{location}<br>Confirmed=%{marker.color}\", \"hovertext\": [\"Brazil\", \"Canada\", \"China\", \"Colombia\", \"Finland\", \"France\", \"Germany\", \"Hong Kong SAR, China\", \"India\", \"Indonesia\", \"Italy\", \"Kuwait\", \"Macao SAR, China\", \"Malaysia\", \"Mongolia\", \"New Zealand\", \"Philippines\", \"Republic of Ireland\", \"Republic of Korea\", \"Romania\", \"Singapore\", \"South Africa\", \"Spain\", \"Sweden\", \"Switzerland\", \"Taiwan, China\", \"Thailand\", \"United Kingdom\", \"United States\", \"Viet Nam\"], \"legendgroup\": \"\", \"locationmode\": \"country names\", \"locations\": [\"Brazil\", \"Canada\", \"China\", \"Colombia\", \"Finland\", \"France\", \"Germany\", \"Hong Kong SAR, China\", \"India\", \"Indonesia\", \"Italy\", \"Kuwait\", \"Macao SAR, China\", \"Malaysia\", \"Mongolia\", \"New Zealand\", \"Philippines\", \"Republic of Ireland\", \"Republic of Korea\", \"Romania\", \"Singapore\", \"South Africa\", \"Spain\", \"Sweden\", \"Switzerland\", \"Taiwan, China\", \"Thailand\", \"United Kingdom\", \"United States\", \"Viet Nam\"], \"marker\": {\"color\": [2, 140, 5309, 1, 1, 7, 9, 1724, 3, 2, 9, 1, 2, 8, 9, 1, 12, 1, 3, 1, 206, 1, 1, 3, 1, 538, 8, 4, 65, 63], \"coloraxis\": \"coloraxis\", \"size\": [1.2311444133449163, 4.403909753814732, 13.10701563846507, 1.0, 1.0, 1.792789962520997, 1.9331820449317627, 9.353220620367956, 1.3903891703159093, 1.2311444133449163, 1.9331820449317627, 1.0, 1.2311444133449163, 1.8660659830736148, 1.9331820449317627, 1.0, 2.107435899344471, 1.0, 1.3903891703159093, 1.0, 4.944930204597636, 1.0, 1.0, 1.3903891703159093, 1.0, 6.595301938405303, 1.8660659830736148, 1.515716566510398, 3.4984365929380252, 3.4657893658794796], \"sizemode\": \"area\", \"sizeref\": 0.03280452281427571}, \"name\": \"\", \"showlegend\": false, \"type\": \"scattergeo\"}], \"name\": \"05/24/2003\"}, {\"data\": [{\"geo\": \"geo\", \"hoverlabel\": {\"namelength\": 0}, \"hovertemplate\": \"<b>%{hovertext}</b><br><br>Date=05/26/2003<br>size=%{marker.size}<br>Country=%{location}<br>Confirmed=%{marker.color}\", \"hovertext\": [\"Brazil\", \"Canada\", \"China\", \"Colombia\", \"Finland\", \"France\", \"Germany\", \"Hong Kong SAR, China\", \"India\", \"Indonesia\", \"Italy\", \"Kuwait\", \"Macao SAR, China\", \"Malaysia\", \"Mongolia\", \"New Zealand\", \"Philippines\", \"Republic of Ireland\", \"Republic of Korea\", \"Romania\", \"Singapore\", \"South Africa\", \"Spain\", \"Sweden\", \"Switzerland\", \"Taiwan, China\", \"Thailand\", \"United Kingdom\", \"United States\", \"Viet Nam\"], \"legendgroup\": \"\", \"locationmode\": \"country names\", \"locations\": [\"Brazil\", \"Canada\", \"China\", \"Colombia\", \"Finland\", \"France\", \"Germany\", \"Hong Kong SAR, China\", \"India\", \"Indonesia\", \"Italy\", \"Kuwait\", \"Macao SAR, China\", \"Malaysia\", \"Mongolia\", \"New Zealand\", \"Philippines\", \"Republic of Ireland\", \"Republic of Korea\", \"Romania\", \"Singapore\", \"South Africa\", \"Spain\", \"Sweden\", \"Switzerland\", \"Taiwan, China\", \"Thailand\", \"United Kingdom\", \"United States\", \"Viet Nam\"], \"marker\": {\"color\": [2, 148, 5316, 1, 1, 7, 9, 1726, 3, 2, 9, 1, 2, 5, 9, 1, 12, 1, 3, 1, 206, 1, 1, 3, 1, 585, 8, 4, 65, 63], \"coloraxis\": \"coloraxis\", \"size\": [1.2311444133449163, 4.477942520548968, 13.112197789566075, 1.0, 1.0, 1.792789962520997, 1.9331820449317627, 9.356474480717232, 1.3903891703159093, 1.2311444133449163, 1.9331820449317627, 1.0, 1.2311444133449163, 1.6206565966927624, 1.9331820449317627, 1.0, 2.107435899344471, 1.0, 1.3903891703159093, 1.0, 4.944930204597636, 1.0, 1.0, 1.3903891703159093, 1.0, 6.76311480680004, 1.8660659830736148, 1.515716566510398, 3.4984365929380252, 3.4657893658794796], \"sizemode\": \"area\", \"sizeref\": 0.03280452281427571}, \"name\": \"\", \"showlegend\": false, \"type\": \"scattergeo\"}], \"name\": \"05/26/2003\"}, {\"data\": [{\"geo\": \"geo\", \"hoverlabel\": {\"namelength\": 0}, \"hovertemplate\": \"<b>%{hovertext}</b><br><br>Date=05/27/2003<br>size=%{marker.size}<br>Country=%{location}<br>Confirmed=%{marker.color}\", \"hovertext\": [\"Brazil\", \"Canada\", \"China\", \"Colombia\", \"Finland\", \"France\", \"Germany\", \"Hong Kong SAR, China\", \"India\", \"Indonesia\", \"Italy\", \"Kuwait\", \"Macao SAR, China\", \"Malaysia\", \"Mongolia\", \"New Zealand\", \"Philippines\", \"Republic of Ireland\", \"Republic of Korea\", \"Romania\", \"Singapore\", \"South Africa\", \"Spain\", \"Sweden\", \"Switzerland\", \"Taiwan, China\", \"Thailand\", \"United Kingdom\", \"United States\", \"Viet Nam\"], \"legendgroup\": \"\", \"locationmode\": \"country names\", \"locations\": [\"Brazil\", \"Canada\", \"China\", \"Colombia\", \"Finland\", \"France\", \"Germany\", \"Hong Kong SAR, China\", \"India\", \"Indonesia\", \"Italy\", \"Kuwait\", \"Macao SAR, China\", \"Malaysia\", \"Mongolia\", \"New Zealand\", \"Philippines\", \"Republic of Ireland\", \"Republic of Korea\", \"Romania\", \"Singapore\", \"South Africa\", \"Spain\", \"Sweden\", \"Switzerland\", \"Taiwan, China\", \"Thailand\", \"United Kingdom\", \"United States\", \"Viet Nam\"], \"marker\": {\"color\": [2, 148, 5322, 1, 1, 7, 9, 1728, 3, 2, 9, 1, 2, 5, 9, 1, 12, 1, 3, 1, 206, 1, 1, 3, 1, 596, 8, 4, 65, 63], \"coloraxis\": \"coloraxis\", \"size\": [1.2311444133449163, 4.477942520548968, 13.116635832908447, 1.0, 1.0, 1.792789962520997, 1.9331820449317627, 9.35972570285164, 1.3903891703159093, 1.2311444133449163, 1.9331820449317627, 1.0, 1.2311444133449163, 1.6206565966927624, 1.9331820449317627, 1.0, 2.107435899344471, 1.0, 1.3903891703159093, 1.0, 4.944930204597636, 1.0, 1.0, 1.3903891703159093, 1.0, 6.801017274059365, 1.8660659830736148, 1.515716566510398, 3.4984365929380252, 3.4657893658794796], \"sizemode\": \"area\", \"sizeref\": 0.03280452281427571}, \"name\": \"\", \"showlegend\": false, \"type\": \"scattergeo\"}], \"name\": \"05/27/2003\"}, {\"data\": [{\"geo\": \"geo\", \"hoverlabel\": {\"namelength\": 0}, \"hovertemplate\": \"<b>%{hovertext}</b><br><br>Date=05/28/2003<br>size=%{marker.size}<br>Country=%{location}<br>Confirmed=%{marker.color}\", \"hovertext\": [\"Australia\", \"Brazil\", \"Canada\", \"China\", \"Colombia\", \"Finland\", \"France\", \"Germany\", \"Hong Kong SAR, China\", \"India\", \"Indonesia\", \"Italy\", \"Kuwait\", \"Macao SAR, China\", \"Malaysia\", \"Mongolia\", \"New Zealand\", \"Philippines\", \"Republic of Ireland\", \"Republic of Korea\", \"Romania\", \"Singapore\", \"South Africa\", \"Spain\", \"Sweden\", \"Switzerland\", \"Taiwan, China\", \"Thailand\", \"United Kingdom\", \"United States\", \"Viet Nam\"], \"legendgroup\": \"\", \"locationmode\": \"country names\", \"locations\": [\"Australia\", \"Brazil\", \"Canada\", \"China\", \"Colombia\", \"Finland\", \"France\", \"Germany\", \"Hong Kong SAR, China\", \"India\", \"Indonesia\", \"Italy\", \"Kuwait\", \"Macao SAR, China\", \"Malaysia\", \"Mongolia\", \"New Zealand\", \"Philippines\", \"Republic of Ireland\", \"Republic of Korea\", \"Romania\", \"Singapore\", \"South Africa\", \"Spain\", \"Sweden\", \"Switzerland\", \"Taiwan, China\", \"Thailand\", \"United Kingdom\", \"United States\", \"Viet Nam\"], \"marker\": {\"color\": [6, 2, 149, 5323, 1, 1, 7, 9, 1730, 3, 2, 9, 1, 2, 5, 9, 1, 12, 1, 3, 1, 206, 1, 1, 3, 1, 610, 8, 4, 66, 63], \"coloraxis\": \"coloraxis\", \"size\": [1.711769859409705, 1.2311444133449163, 4.486998047212219, 13.117375166240604, 1.0, 1.0, 1.792789962520997, 1.9331820449317627, 9.36297429196001, 1.3903891703159093, 1.2311444133449163, 1.9331820449317627, 1.0, 1.2311444133449163, 1.6206565966927624, 1.9331820449317627, 1.0, 2.107435899344471, 1.0, 1.3903891703159093, 1.0, 4.944930204597636, 1.0, 1.0, 1.3903891703159093, 1.0, 6.848555041324403, 1.8660659830736148, 1.515716566510398, 3.5144970301577456, 3.4657893658794796], \"sizemode\": \"area\", \"sizeref\": 0.03280452281427571}, \"name\": \"\", \"showlegend\": false, \"type\": \"scattergeo\"}], \"name\": \"05/28/2003\"}, {\"data\": [{\"geo\": \"geo\", \"hoverlabel\": {\"namelength\": 0}, \"hovertemplate\": \"<b>%{hovertext}</b><br><br>Date=05/29/2003<br>size=%{marker.size}<br>Country=%{location}<br>Confirmed=%{marker.color}\", \"hovertext\": [\"Australia\", \"Brazil\", \"Canada\", \"China\", \"Colombia\", \"Finland\", \"France\", \"Germany\", \"Hong Kong SAR, China\", \"India\", \"Indonesia\", \"Italy\", \"Kuwait\", \"Macao SAR, China\", \"Malaysia\", \"Mongolia\", \"New Zealand\", \"Philippines\", \"Republic of Ireland\", \"Republic of Korea\", \"Romania\", \"Singapore\", \"South Africa\", \"Spain\", \"Sweden\", \"Switzerland\", \"Taiwan, China\", \"Thailand\", \"United Kingdom\", \"United States\", \"Viet Nam\"], \"legendgroup\": \"\", \"locationmode\": \"country names\", \"locations\": [\"Australia\", \"Brazil\", \"Canada\", \"China\", \"Colombia\", \"Finland\", \"France\", \"Germany\", \"Hong Kong SAR, China\", \"India\", \"Indonesia\", \"Italy\", \"Kuwait\", \"Macao SAR, China\", \"Malaysia\", \"Mongolia\", \"New Zealand\", \"Philippines\", \"Republic of Ireland\", \"Republic of Korea\", \"Romania\", \"Singapore\", \"South Africa\", \"Spain\", \"Sweden\", \"Switzerland\", \"Taiwan, China\", \"Thailand\", \"United Kingdom\", \"United States\", \"Viet Nam\"], \"marker\": {\"color\": [6, 2, 151, 5325, 1, 1, 7, 9, 1732, 3, 2, 9, 1, 1, 5, 9, 1, 12, 1, 3, 1, 206, 1, 1, 3, 1, 660, 8, 4, 66, 63], \"coloraxis\": \"coloraxis\", \"size\": [1.711769859409705, 1.2311444133449163, 4.50498225026368, 13.11885354127751, 1.0, 1.0, 1.792789962520997, 1.9331820449317627, 9.366220253214983, 1.3903891703159093, 1.2311444133449163, 1.9331820449317627, 1.0, 1.0, 1.6206565966927624, 1.9331820449317627, 1.0, 2.107435899344471, 1.0, 1.3903891703159093, 1.0, 4.944930204597636, 1.0, 1.0, 1.3903891703159093, 1.0, 7.012343480343795, 1.8660659830736148, 1.515716566510398, 3.5144970301577456, 3.4657893658794796], \"sizemode\": \"area\", \"sizeref\": 0.03280452281427571}, \"name\": \"\", \"showlegend\": false, \"type\": \"scattergeo\"}], \"name\": \"05/29/2003\"}, {\"data\": [{\"geo\": \"geo\", \"hoverlabel\": {\"namelength\": 0}, \"hovertemplate\": \"<b>%{hovertext}</b><br><br>Date=05/30/2003<br>size=%{marker.size}<br>Country=%{location}<br>Confirmed=%{marker.color}\", \"hovertext\": [\"Brazil\", \"Canada\", \"China\", \"Colombia\", \"Finland\", \"France\", \"Germany\", \"Hong Kong SAR, China\", \"India\", \"Indonesia\", \"Italy\", \"Kuwait\", \"Macao SAR, China\", \"Malaysia\", \"Mongolia\", \"New Zealand\", \"Philippines\", \"Republic of Ireland\", \"Republic of Korea\", \"Romania\", \"Singapore\", \"South Africa\", \"Spain\", \"Sweden\", \"Switzerland\", \"Taiwan, China\", \"Thailand\", \"United Kingdom\", \"United States\", \"Viet Nam\"], \"legendgroup\": \"\", \"locationmode\": \"country names\", \"locations\": [\"Brazil\", \"Canada\", \"China\", \"Colombia\", \"Finland\", \"France\", \"Germany\", \"Hong Kong SAR, China\", \"India\", \"Indonesia\", \"Italy\", \"Kuwait\", \"Macao SAR, China\", \"Malaysia\", \"Mongolia\", \"New Zealand\", \"Philippines\", \"Republic of Ireland\", \"Republic of Korea\", \"Romania\", \"Singapore\", \"South Africa\", \"Spain\", \"Sweden\", \"Switzerland\", \"Taiwan, China\", \"Thailand\", \"United Kingdom\", \"United States\", \"Viet Nam\"], \"marker\": {\"color\": [2, 159, 5328, 1, 1, 7, 9, 1736, 3, 2, 9, 1, 1, 5, 9, 1, 12, 1, 3, 1, 206, 1, 1, 3, 1, 667, 8, 4, 66, 63], \"coloraxis\": \"coloraxis\", \"size\": [1.2311444133449163, 4.575295380404088, 13.121070375229724, 1.0, 1.0, 1.792789962520997, 1.9331820449317627, 9.372704312774783, 1.3903891703159093, 1.2311444133449163, 1.9331820449317627, 1.0, 1.0, 1.6206565966927624, 1.9331820449317627, 1.0, 2.107435899344471, 1.0, 1.3903891703159093, 1.0, 4.944930204597636, 1.0, 1.0, 1.3903891703159093, 1.0, 7.034573151720657, 1.8660659830736148, 1.515716566510398, 3.5144970301577456, 3.4657893658794796], \"sizemode\": \"area\", \"sizeref\": 0.03280452281427571}, \"name\": \"\", \"showlegend\": false, \"type\": \"scattergeo\"}], \"name\": \"05/30/2003\"}, {\"data\": [{\"geo\": \"geo\", \"hoverlabel\": {\"namelength\": 0}, \"hovertemplate\": \"<b>%{hovertext}</b><br><br>Date=05/31/2003<br>size=%{marker.size}<br>Country=%{location}<br>Confirmed=%{marker.color}\", \"hovertext\": [\"Brazil\", \"Canada\", \"China\", \"Colombia\", \"Finland\", \"France\", \"Germany\", \"Hong Kong SAR, China\", \"India\", \"Indonesia\", \"Italy\", \"Kuwait\", \"Macao SAR, China\", \"Malaysia\", \"Mongolia\", \"New Zealand\", \"Philippines\", \"Republic of Ireland\", \"Republic of Korea\", \"Romania\", \"Russian Federation\", \"Singapore\", \"South Africa\", \"Spain\", \"Sweden\", \"Switzerland\", \"Taiwan, China\", \"Thailand\", \"United Kingdom\", \"United States\", \"Viet Nam\"], \"legendgroup\": \"\", \"locationmode\": \"country names\", \"locations\": [\"Brazil\", \"Canada\", \"China\", \"Colombia\", \"Finland\", \"France\", \"Germany\", \"Hong Kong SAR, China\", \"India\", \"Indonesia\", \"Italy\", \"Kuwait\", \"Macao SAR, China\", \"Malaysia\", \"Mongolia\", \"New Zealand\", \"Philippines\", \"Republic of Ireland\", \"Republic of Korea\", \"Romania\", \"Russian Federation\", \"Singapore\", \"South Africa\", \"Spain\", \"Sweden\", \"Switzerland\", \"Taiwan, China\", \"Thailand\", \"United Kingdom\", \"United States\", \"Viet Nam\"], \"marker\": {\"color\": [2, 188, 5328, 1, 1, 7, 10, 1739, 3, 2, 9, 1, 1, 5, 9, 1, 12, 1, 3, 1, 1, 206, 1, 1, 3, 1, 676, 8, 4, 66, 63], \"coloraxis\": \"coloraxis\", \"size\": [1.2311444133449163, 4.811132911155357, 13.121070375229724, 1.0, 1.0, 1.792789962520997, 1.9952623149688795, 9.377560497564533, 1.3903891703159093, 1.2311444133449163, 1.9331820449317627, 1.0, 1.0, 1.6206565966927624, 1.9331820449317627, 1.0, 2.107435899344471, 1.0, 1.3903891703159093, 1.0, 1.0, 4.944930204597636, 1.0, 1.0, 1.3903891703159093, 1.0, 7.062915473248845, 1.8660659830736148, 1.515716566510398, 3.5144970301577456, 3.4657893658794796], \"sizemode\": \"area\", \"sizeref\": 0.03280452281427571}, \"name\": \"\", \"showlegend\": false, \"type\": \"scattergeo\"}], \"name\": \"05/31/2003\"}, {\"data\": [{\"geo\": \"geo\", \"hoverlabel\": {\"namelength\": 0}, \"hovertemplate\": \"<b>%{hovertext}</b><br><br>Date=06/02/2003<br>size=%{marker.size}<br>Country=%{location}<br>Confirmed=%{marker.color}\", \"hovertext\": [\"Brazil\", \"Canada\", \"China\", \"Colombia\", \"Finland\", \"France\", \"Germany\", \"Hong Kong SAR, China\", \"India\", \"Indonesia\", \"Italy\", \"Kuwait\", \"Macao SAR, China\", \"Malaysia\", \"Mongolia\", \"New Zealand\", \"Philippines\", \"Republic of Ireland\", \"Republic of Korea\", \"Romania\", \"Russian Federation\", \"Singapore\", \"South Africa\", \"Spain\", \"Sweden\", \"Switzerland\", \"Taiwan, China\", \"Thailand\", \"United Kingdom\", \"United States\", \"Viet Nam\"], \"legendgroup\": \"\", \"locationmode\": \"country names\", \"locations\": [\"Brazil\", \"Canada\", \"China\", \"Colombia\", \"Finland\", \"France\", \"Germany\", \"Hong Kong SAR, China\", \"India\", \"Indonesia\", \"Italy\", \"Kuwait\", \"Macao SAR, China\", \"Malaysia\", \"Mongolia\", \"New Zealand\", \"Philippines\", \"Republic of Ireland\", \"Republic of Korea\", \"Romania\", \"Russian Federation\", \"Singapore\", \"South Africa\", \"Spain\", \"Sweden\", \"Switzerland\", \"Taiwan, China\", \"Thailand\", \"United Kingdom\", \"United States\", \"Viet Nam\"], \"marker\": {\"color\": [2, 198, 5328, 1, 1, 7, 10, 1746, 3, 2, 9, 1, 1, 5, 9, 1, 12, 1, 3, 1, 1, 206, 1, 1, 3, 1, 684, 8, 4, 66, 63], \"coloraxis\": \"coloraxis\", \"size\": [1.2311444133449163, 4.886518609838755, 13.121070375229724, 1.0, 1.0, 1.792789962520997, 1.9952623149688795, 9.388868833238613, 1.3903891703159093, 1.2311444133449163, 1.9331820449317627, 1.0, 1.0, 1.6206565966927624, 1.9331820449317627, 1.0, 2.107435899344471, 1.0, 1.3903891703159093, 1.0, 1.0, 4.944930204597636, 1.0, 1.0, 1.3903891703159093, 1.0, 7.087887741031469, 1.8660659830736148, 1.515716566510398, 3.5144970301577456, 3.4657893658794796], \"sizemode\": \"area\", \"sizeref\": 0.03280452281427571}, \"name\": \"\", \"showlegend\": false, \"type\": \"scattergeo\"}], \"name\": \"06/02/2003\"}, {\"data\": [{\"geo\": \"geo\", \"hoverlabel\": {\"namelength\": 0}, \"hovertemplate\": \"<b>%{hovertext}</b><br><br>Date=06/03/2003<br>size=%{marker.size}<br>Country=%{location}<br>Confirmed=%{marker.color}\", \"hovertext\": [\"Brazil\", \"Canada\", \"China\", \"Colombia\", \"Finland\", \"France\", \"Germany\", \"Hong Kong SAR, China\", \"India\", \"Indonesia\", \"Italy\", \"Kuwait\", \"Macao SAR, China\", \"Malaysia\", \"Mongolia\", \"New Zealand\", \"Philippines\", \"Republic of Ireland\", \"Republic of Korea\", \"Romania\", \"Russian Federation\", \"Singapore\", \"South Africa\", \"Spain\", \"Sweden\", \"Switzerland\", \"Taiwan, China\", \"Thailand\", \"United Kingdom\", \"United States\", \"Viet Nam\"], \"legendgroup\": \"\", \"locationmode\": \"country names\", \"locations\": [\"Brazil\", \"Canada\", \"China\", \"Colombia\", \"Finland\", \"France\", \"Germany\", \"Hong Kong SAR, China\", \"India\", \"Indonesia\", \"Italy\", \"Kuwait\", \"Macao SAR, China\", \"Malaysia\", \"Mongolia\", \"New Zealand\", \"Philippines\", \"Republic of Ireland\", \"Republic of Korea\", \"Romania\", \"Russian Federation\", \"Singapore\", \"South Africa\", \"Spain\", \"Sweden\", \"Switzerland\", \"Taiwan, China\", \"Thailand\", \"United Kingdom\", \"United States\", \"Viet Nam\"], \"marker\": {\"color\": [2, 213, 5329, 1, 1, 7, 10, 1747, 3, 2, 9, 1, 1, 5, 9, 1, 12, 1, 3, 1, 1, 206, 1, 1, 3, 1, 679, 8, 4, 68, 63], \"coloraxis\": \"coloraxis\", \"size\": [1.2311444133449163, 4.994751443057936, 13.121809125710284, 1.0, 1.0, 1.792789962520997, 1.9952623149688795, 9.390481717666136, 1.3903891703159093, 1.2311444133449163, 1.9331820449317627, 1.0, 1.0, 1.6206565966927624, 1.9331820449317627, 1.0, 2.107435899344471, 1.0, 1.3903891703159093, 1.0, 1.0, 4.944930204597636, 1.0, 1.0, 1.3903891703159093, 1.0, 7.07230419399908, 1.8660659830736148, 1.515716566510398, 3.5461138422596736, 3.4657893658794796], \"sizemode\": \"area\", \"sizeref\": 0.03280452281427571}, \"name\": \"\", \"showlegend\": false, \"type\": \"scattergeo\"}], \"name\": \"06/03/2003\"}, {\"data\": [{\"geo\": \"geo\", \"hoverlabel\": {\"namelength\": 0}, \"hovertemplate\": \"<b>%{hovertext}</b><br><br>Date=06/04/2003<br>size=%{marker.size}<br>Country=%{location}<br>Confirmed=%{marker.color}\", \"hovertext\": [\"Brazil\", \"Canada\", \"China\", \"Colombia\", \"Finland\", \"France\", \"Germany\", \"Hong Kong SAR, China\", \"India\", \"Indonesia\", \"Italy\", \"Kuwait\", \"Macao SAR, China\", \"Malaysia\", \"Mongolia\", \"New Zealand\", \"Philippines\", \"Republic of Ireland\", \"Republic of Korea\", \"Romania\", \"Russian Federation\", \"Singapore\", \"South Africa\", \"Spain\", \"Sweden\", \"Switzerland\", \"Taiwan, China\", \"Thailand\", \"United Kingdom\", \"United States\", \"Viet Nam\"], \"legendgroup\": \"\", \"locationmode\": \"country names\", \"locations\": [\"Brazil\", \"Canada\", \"China\", \"Colombia\", \"Finland\", \"France\", \"Germany\", \"Hong Kong SAR, China\", \"India\", \"Indonesia\", \"Italy\", \"Kuwait\", \"Macao SAR, China\", \"Malaysia\", \"Mongolia\", \"New Zealand\", \"Philippines\", \"Republic of Ireland\", \"Republic of Korea\", \"Romania\", \"Russian Federation\", \"Singapore\", \"South Africa\", \"Spain\", \"Sweden\", \"Switzerland\", \"Taiwan, China\", \"Thailand\", \"United Kingdom\", \"United States\", \"Viet Nam\"], \"marker\": {\"color\": [2, 216, 5329, 1, 1, 7, 10, 1748, 3, 2, 9, 1, 1, 5, 9, 1, 12, 1, 3, 1, 1, 206, 1, 1, 3, 1, 678, 8, 4, 69, 63], \"coloraxis\": \"coloraxis\", \"size\": [1.2311444133449163, 5.015752812467621, 13.121809125710284, 1.0, 1.0, 1.792789962520997, 1.9952623149688795, 9.392093955961418, 1.3903891703159093, 1.2311444133449163, 1.9331820449317627, 1.0, 1.0, 1.6206565966927624, 1.9331820449317627, 1.0, 2.107435899344471, 1.0, 1.3903891703159093, 1.0, 1.0, 4.944930204597636, 1.0, 1.0, 1.3903891703159093, 1.0, 7.069177852574754, 1.8660659830736148, 1.515716566510398, 3.561678602815316, 3.4657893658794796], \"sizemode\": \"area\", \"sizeref\": 0.03280452281427571}, \"name\": \"\", \"showlegend\": false, \"type\": \"scattergeo\"}], \"name\": \"06/04/2003\"}, {\"data\": [{\"geo\": \"geo\", \"hoverlabel\": {\"namelength\": 0}, \"hovertemplate\": \"<b>%{hovertext}</b><br><br>Date=06/05/2003<br>size=%{marker.size}<br>Country=%{location}<br>Confirmed=%{marker.color}\", \"hovertext\": [\"Brazil\", \"Canada\", \"China\", \"Colombia\", \"Finland\", \"France\", \"Germany\", \"Hong Kong SAR, China\", \"India\", \"Indonesia\", \"Italy\", \"Kuwait\", \"Macao SAR, China\", \"Malaysia\", \"Mongolia\", \"New Zealand\", \"Philippines\", \"Republic of Ireland\", \"Republic of Korea\", \"Romania\", \"Russian Federation\", \"Singapore\", \"South Africa\", \"Spain\", \"Sweden\", \"Switzerland\", \"Taiwan, China\", \"Thailand\", \"United Kingdom\", \"United States\", \"Viet Nam\"], \"legendgroup\": \"\", \"locationmode\": \"country names\", \"locations\": [\"Brazil\", \"Canada\", \"China\", \"Colombia\", \"Finland\", \"France\", \"Germany\", \"Hong Kong SAR, China\", \"India\", \"Indonesia\", \"Italy\", \"Kuwait\", \"Macao SAR, China\", \"Malaysia\", \"Mongolia\", \"New Zealand\", \"Philippines\", \"Republic of Ireland\", \"Republic of Korea\", \"Romania\", \"Russian Federation\", \"Singapore\", \"South Africa\", \"Spain\", \"Sweden\", \"Switzerland\", \"Taiwan, China\", \"Thailand\", \"United Kingdom\", \"United States\", \"Viet Nam\"], \"marker\": {\"color\": [2, 218, 5329, 1, 1, 7, 10, 1748, 3, 2, 9, 1, 1, 5, 9, 1, 12, 1, 3, 1, 1, 206, 1, 1, 3, 1, 677, 8, 4, 69, 63], \"coloraxis\": \"coloraxis\", \"size\": [1.2311444133449163, 5.029640542511664, 13.121809125710284, 1.0, 1.0, 1.792789962520997, 1.9952623149688795, 9.392093955961418, 1.3903891703159093, 1.2311444133449163, 1.9331820449317627, 1.0, 1.0, 1.6206565966927624, 1.9331820449317627, 1.0, 2.107435899344471, 1.0, 1.3903891703159093, 1.0, 1.0, 4.944930204597636, 1.0, 1.0, 1.3903891703159093, 1.0, 7.066048281695879, 1.8660659830736148, 1.515716566510398, 3.561678602815316, 3.4657893658794796], \"sizemode\": \"area\", \"sizeref\": 0.03280452281427571}, \"name\": \"\", \"showlegend\": false, \"type\": \"scattergeo\"}], \"name\": \"06/05/2003\"}, {\"data\": [{\"geo\": \"geo\", \"hoverlabel\": {\"namelength\": 0}, \"hovertemplate\": \"<b>%{hovertext}</b><br><br>Date=06/06/2003<br>size=%{marker.size}<br>Country=%{location}<br>Confirmed=%{marker.color}\", \"hovertext\": [\"Brazil\", \"Canada\", \"China\", \"Colombia\", \"Finland\", \"France\", \"Germany\", \"Hong Kong SAR, China\", \"India\", \"Indonesia\", \"Italy\", \"Kuwait\", \"Macao SAR, China\", \"Malaysia\", \"Mongolia\", \"New Zealand\", \"Philippines\", \"Republic of Ireland\", \"Republic of Korea\", \"Romania\", \"Russian Federation\", \"Singapore\", \"South Africa\", \"Spain\", \"Sweden\", \"Switzerland\", \"Taiwan, China\", \"Thailand\", \"United Kingdom\", \"United States\", \"Viet Nam\"], \"legendgroup\": \"\", \"locationmode\": \"country names\", \"locations\": [\"Brazil\", \"Canada\", \"China\", \"Colombia\", \"Finland\", \"France\", \"Germany\", \"Hong Kong SAR, China\", \"India\", \"Indonesia\", \"Italy\", \"Kuwait\", \"Macao SAR, China\", \"Malaysia\", \"Mongolia\", \"New Zealand\", \"Philippines\", \"Republic of Ireland\", \"Republic of Korea\", \"Romania\", \"Russian Federation\", \"Singapore\", \"South Africa\", \"Spain\", \"Sweden\", \"Switzerland\", \"Taiwan, China\", \"Thailand\", \"United Kingdom\", \"United States\", \"Viet Nam\"], \"marker\": {\"color\": [2, 219, 5329, 1, 1, 7, 10, 1750, 3, 2, 9, 1, 1, 5, 9, 1, 12, 1, 3, 1, 1, 206, 1, 1, 3, 1, 676, 8, 4, 68, 63], \"coloraxis\": \"coloraxis\", \"size\": [1.2311444133449163, 5.0365509824526615, 13.121809125710284, 1.0, 1.0, 1.792789962520997, 1.9952623149688795, 9.395316496667354, 1.3903891703159093, 1.2311444133449163, 1.9331820449317627, 1.0, 1.0, 1.6206565966927624, 1.9331820449317627, 1.0, 2.107435899344471, 1.0, 1.3903891703159093, 1.0, 1.0, 4.944930204597636, 1.0, 1.0, 1.3903891703159093, 1.0, 7.062915473248845, 1.8660659830736148, 1.515716566510398, 3.5461138422596736, 3.4657893658794796], \"sizemode\": \"area\", \"sizeref\": 0.03280452281427571}, \"name\": \"\", \"showlegend\": false, \"type\": \"scattergeo\"}], \"name\": \"06/06/2003\"}, {\"data\": [{\"geo\": \"geo\", \"hoverlabel\": {\"namelength\": 0}, \"hovertemplate\": \"<b>%{hovertext}</b><br><br>Date=06/09/2003<br>size=%{marker.size}<br>Country=%{location}<br>Confirmed=%{marker.color}\", \"hovertext\": [\"Brazil\", \"Canada\", \"China\", \"Colombia\", \"Finland\", \"France\", \"Germany\", \"Hong Kong SAR, China\", \"India\", \"Indonesia\", \"Italy\", \"Kuwait\", \"Macao SAR, China\", \"Malaysia\", \"Mongolia\", \"New Zealand\", \"Philippines\", \"Republic of Ireland\", \"Republic of Korea\", \"Romania\", \"Russian Federation\", \"Singapore\", \"South Africa\", \"Spain\", \"Sweden\", \"Switzerland\", \"Taiwan, China\", \"Thailand\", \"United Kingdom\", \"United States\", \"Viet Nam\"], \"legendgroup\": \"\", \"locationmode\": \"country names\", \"locations\": [\"Brazil\", \"Canada\", \"China\", \"Colombia\", \"Finland\", \"France\", \"Germany\", \"Hong Kong SAR, China\", \"India\", \"Indonesia\", \"Italy\", \"Kuwait\", \"Macao SAR, China\", \"Malaysia\", \"Mongolia\", \"New Zealand\", \"Philippines\", \"Republic of Ireland\", \"Republic of Korea\", \"Romania\", \"Russian Federation\", \"Singapore\", \"South Africa\", \"Spain\", \"Sweden\", \"Switzerland\", \"Taiwan, China\", \"Thailand\", \"United Kingdom\", \"United States\", \"Viet Nam\"], \"marker\": {\"color\": [2, 229, 5328, 1, 1, 7, 10, 1753, 3, 2, 9, 1, 1, 5, 9, 1, 12, 1, 3, 1, 1, 206, 1, 1, 3, 1, 680, 9, 4, 68, 63], \"coloraxis\": \"coloraxis\", \"size\": [1.2311444133449163, 5.104469870468026, 13.121070375229724, 1.0, 1.0, 1.792789962520997, 1.9952623149688795, 9.40014547740959, 1.3903891703159093, 1.2311444133449163, 1.9331820449317627, 1.0, 1.0, 1.6206565966927624, 1.9331820449317627, 1.0, 2.107435899344471, 1.0, 1.3903891703159093, 1.0, 1.0, 4.944930204597636, 1.0, 1.0, 1.3903891703159093, 1.0, 7.075427314050224, 1.9331820449317627, 1.515716566510398, 3.5461138422596736, 3.4657893658794796], \"sizemode\": \"area\", \"sizeref\": 0.03280452281427571}, \"name\": \"\", \"showlegend\": false, \"type\": \"scattergeo\"}], \"name\": \"06/09/2003\"}, {\"data\": [{\"geo\": \"geo\", \"hoverlabel\": {\"namelength\": 0}, \"hovertemplate\": \"<b>%{hovertext}</b><br><br>Date=06/10/2003<br>size=%{marker.size}<br>Country=%{location}<br>Confirmed=%{marker.color}\", \"hovertext\": [\"Brazil\", \"Canada\", \"China\", \"Colombia\", \"Finland\", \"France\", \"Germany\", \"Hong Kong SAR, China\", \"India\", \"Indonesia\", \"Italy\", \"Kuwait\", \"Macao SAR, China\", \"Malaysia\", \"Mongolia\", \"New Zealand\", \"Philippines\", \"Republic of Ireland\", \"Republic of Korea\", \"Romania\", \"Russian Federation\", \"Singapore\", \"South Africa\", \"Spain\", \"Sweden\", \"Switzerland\", \"Taiwan, China\", \"Thailand\", \"United Kingdom\", \"United States\", \"Viet Nam\"], \"legendgroup\": \"\", \"locationmode\": \"country names\", \"locations\": [\"Brazil\", \"Canada\", \"China\", \"Colombia\", \"Finland\", \"France\", \"Germany\", \"Hong Kong SAR, China\", \"India\", \"Indonesia\", \"Italy\", \"Kuwait\", \"Macao SAR, China\", \"Malaysia\", \"Mongolia\", \"New Zealand\", \"Philippines\", \"Republic of Ireland\", \"Republic of Korea\", \"Romania\", \"Russian Federation\", \"Singapore\", \"South Africa\", \"Spain\", \"Sweden\", \"Switzerland\", \"Taiwan, China\", \"Thailand\", \"United Kingdom\", \"United States\", \"Viet Nam\"], \"marker\": {\"color\": [3, 229, 5328, 1, 1, 7, 10, 1754, 3, 2, 9, 1, 1, 5, 9, 1, 12, 1, 3, 1, 1, 206, 1, 1, 3, 1, 686, 9, 4, 69, 63], \"coloraxis\": \"coloraxis\", \"size\": [1.3903891703159093, 5.104469870468026, 13.121070375229724, 1.0, 1.0, 1.792789962520997, 1.9952623149688795, 9.401753852071112, 1.3903891703159093, 1.2311444133449163, 1.9331820449317627, 1.0, 1.0, 1.6206565966927624, 1.9331820449317627, 1.0, 2.107435899344471, 1.0, 1.3903891703159093, 1.0, 1.0, 4.944930204597636, 1.0, 1.0, 1.3903891703159093, 1.0, 7.094098834057658, 1.9331820449317627, 1.515716566510398, 3.561678602815316, 3.4657893658794796], \"sizemode\": \"area\", \"sizeref\": 0.03280452281427571}, \"name\": \"\", \"showlegend\": false, \"type\": \"scattergeo\"}], \"name\": \"06/10/2003\"}, {\"data\": [{\"geo\": \"geo\", \"hoverlabel\": {\"namelength\": 0}, \"hovertemplate\": \"<b>%{hovertext}</b><br><br>Date=06/11/2003<br>size=%{marker.size}<br>Country=%{location}<br>Confirmed=%{marker.color}\", \"hovertext\": [\"Brazil\", \"Canada\", \"China\", \"Colombia\", \"Finland\", \"France\", \"Germany\", \"Hong Kong SAR, China\", \"India\", \"Indonesia\", \"Italy\", \"Kuwait\", \"Macao SAR, China\", \"Malaysia\", \"Mongolia\", \"New Zealand\", \"Philippines\", \"Republic of Ireland\", \"Republic of Korea\", \"Romania\", \"Russian Federation\", \"Singapore\", \"South Africa\", \"Spain\", \"Sweden\", \"Switzerland\", \"Taiwan, China\", \"Thailand\", \"United Kingdom\", \"United States\", \"Viet Nam\"], \"legendgroup\": \"\", \"locationmode\": \"country names\", \"locations\": [\"Brazil\", \"Canada\", \"China\", \"Colombia\", \"Finland\", \"France\", \"Germany\", \"Hong Kong SAR, China\", \"India\", \"Indonesia\", \"Italy\", \"Kuwait\", \"Macao SAR, China\", \"Malaysia\", \"Mongolia\", \"New Zealand\", \"Philippines\", \"Republic of Ireland\", \"Republic of Korea\", \"Romania\", \"Russian Federation\", \"Singapore\", \"South Africa\", \"Spain\", \"Sweden\", \"Switzerland\", \"Taiwan, China\", \"Thailand\", \"United Kingdom\", \"United States\", \"Viet Nam\"], \"marker\": {\"color\": [3, 230, 5329, 1, 1, 7, 10, 1754, 3, 2, 9, 1, 1, 5, 9, 1, 12, 1, 3, 1, 1, 206, 1, 1, 3, 1, 687, 9, 4, 71, 63], \"coloraxis\": \"coloraxis\", \"size\": [1.3903891703159093, 5.111146753691812, 13.121809125710284, 1.0, 1.0, 1.792789962520997, 1.9952623149688795, 9.401753852071112, 1.3903891703159093, 1.2311444133449163, 1.9331820449317627, 1.0, 1.0, 1.6206565966927624, 1.9331820449317627, 1.0, 2.107435899344471, 1.0, 1.3903891703159093, 1.0, 1.0, 4.944930204597636, 1.0, 1.0, 1.3903891703159093, 1.0, 7.0971996281025955, 1.9331820449317627, 1.515716566510398, 3.592340583264959, 3.4657893658794796], \"sizemode\": \"area\", \"sizeref\": 0.03280452281427571}, \"name\": \"\", \"showlegend\": false, \"type\": \"scattergeo\"}], \"name\": \"06/11/2003\"}, {\"data\": [{\"geo\": \"geo\", \"hoverlabel\": {\"namelength\": 0}, \"hovertemplate\": \"<b>%{hovertext}</b><br><br>Date=06/12/2003<br>size=%{marker.size}<br>Country=%{location}<br>Confirmed=%{marker.color}\", \"hovertext\": [\"Brazil\", \"Canada\", \"China\", \"Colombia\", \"Finland\", \"France\", \"Germany\", \"Hong Kong SAR, China\", \"India\", \"Indonesia\", \"Italy\", \"Kuwait\", \"Macao SAR, China\", \"Malaysia\", \"Mongolia\", \"New Zealand\", \"Philippines\", \"Republic of Ireland\", \"Republic of Korea\", \"Romania\", \"Russian Federation\", \"Singapore\", \"South Africa\", \"Spain\", \"Sweden\", \"Switzerland\", \"Taiwan, China\", \"Thailand\", \"United Kingdom\", \"United States\", \"Viet Nam\"], \"legendgroup\": \"\", \"locationmode\": \"country names\", \"locations\": [\"Brazil\", \"Canada\", \"China\", \"Colombia\", \"Finland\", \"France\", \"Germany\", \"Hong Kong SAR, China\", \"India\", \"Indonesia\", \"Italy\", \"Kuwait\", \"Macao SAR, China\", \"Malaysia\", \"Mongolia\", \"New Zealand\", \"Philippines\", \"Republic of Ireland\", \"Republic of Korea\", \"Romania\", \"Russian Federation\", \"Singapore\", \"South Africa\", \"Spain\", \"Sweden\", \"Switzerland\", \"Taiwan, China\", \"Thailand\", \"United Kingdom\", \"United States\", \"Viet Nam\"], \"marker\": {\"color\": [3, 238, 5328, 1, 1, 7, 10, 1755, 3, 2, 9, 1, 1, 5, 9, 1, 14, 1, 3, 1, 1, 206, 1, 1, 3, 1, 688, 9, 4, 70, 63], \"coloraxis\": \"coloraxis\", \"size\": [1.3903891703159093, 5.163843683526358, 13.121070375229724, 1.0, 1.0, 1.792789962520997, 1.9952623149688795, 9.403361584977949, 1.3903891703159093, 1.2311444133449163, 1.9331820449317627, 1.0, 1.0, 1.6206565966927624, 1.9331820449317627, 1.0, 2.2071833466585673, 1.0, 1.3903891703159093, 1.0, 1.0, 4.944930204597636, 1.0, 1.0, 1.3903891703159093, 1.0, 7.100297264285194, 1.9331820449317627, 1.515716566510398, 3.5770862508726156, 3.4657893658794796], \"sizemode\": \"area\", \"sizeref\": 0.03280452281427571}, \"name\": \"\", \"showlegend\": false, \"type\": \"scattergeo\"}], \"name\": \"06/12/2003\"}, {\"data\": [{\"geo\": \"geo\", \"hoverlabel\": {\"namelength\": 0}, \"hovertemplate\": \"<b>%{hovertext}</b><br><br>Date=06/13/2003<br>size=%{marker.size}<br>Country=%{location}<br>Confirmed=%{marker.color}\", \"hovertext\": [\"Brazil\", \"Canada\", \"China\", \"Colombia\", \"Finland\", \"France\", \"Germany\", \"Hong Kong SAR, China\", \"India\", \"Indonesia\", \"Italy\", \"Kuwait\", \"Macao SAR, China\", \"Malaysia\", \"Mongolia\", \"New Zealand\", \"Philippines\", \"Republic of Ireland\", \"Republic of Korea\", \"Romania\", \"Russian Federation\", \"Singapore\", \"South Africa\", \"Spain\", \"Sweden\", \"Switzerland\", \"Taiwan, China\", \"Thailand\", \"United Kingdom\", \"United States\", \"Viet Nam\"], \"legendgroup\": \"\", \"locationmode\": \"country names\", \"locations\": [\"Brazil\", \"Canada\", \"China\", \"Colombia\", \"Finland\", \"France\", \"Germany\", \"Hong Kong SAR, China\", \"India\", \"Indonesia\", \"Italy\", \"Kuwait\", \"Macao SAR, China\", \"Malaysia\", \"Mongolia\", \"New Zealand\", \"Philippines\", \"Republic of Ireland\", \"Republic of Korea\", \"Romania\", \"Russian Federation\", \"Singapore\", \"South Africa\", \"Spain\", \"Sweden\", \"Switzerland\", \"Taiwan, China\", \"Thailand\", \"United Kingdom\", \"United States\", \"Viet Nam\"], \"marker\": {\"color\": [3, 242, 5327, 1, 1, 7, 10, 1755, 3, 2, 9, 1, 1, 5, 9, 1, 14, 1, 3, 1, 1, 206, 1, 1, 3, 1, 693, 9, 4, 71, 63], \"coloraxis\": \"coloraxis\", \"size\": [1.3903891703159093, 5.189728158392695, 13.120331527684732, 1.0, 1.0, 1.792789962520997, 1.9952623149688795, 9.403361584977949, 1.3903891703159093, 1.2311444133449163, 1.9331820449317627, 1.0, 1.0, 1.6206565966927624, 1.9331820449317627, 1.0, 2.2071833466585673, 1.0, 1.3903891703159093, 1.0, 1.0, 4.944930204597636, 1.0, 1.0, 1.3903891703159093, 1.0, 7.115738349158754, 1.9331820449317627, 1.515716566510398, 3.592340583264959, 3.4657893658794796], \"sizemode\": \"area\", \"sizeref\": 0.03280452281427571}, \"name\": \"\", \"showlegend\": false, \"type\": \"scattergeo\"}], \"name\": \"06/13/2003\"}, {\"data\": [{\"geo\": \"geo\", \"hoverlabel\": {\"namelength\": 0}, \"hovertemplate\": \"<b>%{hovertext}</b><br><br>Date=06/16/2003<br>size=%{marker.size}<br>Country=%{location}<br>Confirmed=%{marker.color}\", \"hovertext\": [\"Brazil\", \"Canada\", \"China\", \"Colombia\", \"Finland\", \"France\", \"Germany\", \"Hong Kong SAR, China\", \"India\", \"Indonesia\", \"Italy\", \"Kuwait\", \"Macao SAR, China\", \"Malaysia\", \"Mongolia\", \"New Zealand\", \"Philippines\", \"Republic of Ireland\", \"Republic of Korea\", \"Romania\", \"Russian Federation\", \"Singapore\", \"South Africa\", \"Spain\", \"Sweden\", \"Switzerland\", \"Taiwan, China\", \"Thailand\", \"United Kingdom\", \"United States\", \"Viet Nam\"], \"legendgroup\": \"\", \"locationmode\": \"country names\", \"locations\": [\"Brazil\", \"Canada\", \"China\", \"Colombia\", \"Finland\", \"France\", \"Germany\", \"Hong Kong SAR, China\", \"India\", \"Indonesia\", \"Italy\", \"Kuwait\", \"Macao SAR, China\", \"Malaysia\", \"Mongolia\", \"New Zealand\", \"Philippines\", \"Republic of Ireland\", \"Republic of Korea\", \"Romania\", \"Russian Federation\", \"Singapore\", \"South Africa\", \"Spain\", \"Sweden\", \"Switzerland\", \"Taiwan, China\", \"Thailand\", \"United Kingdom\", \"United States\", \"Viet Nam\"], \"marker\": {\"color\": [3, 243, 5326, 1, 1, 7, 10, 1755, 3, 2, 9, 1, 1, 5, 9, 1, 14, 1, 3, 1, 1, 206, 1, 1, 3, 1, 698, 9, 4, 72, 63], \"coloraxis\": \"coloraxis\", \"size\": [1.3903891703159093, 5.196152422706631, 13.119592583044325, 1.0, 1.0, 1.792789962520997, 1.9952623149688795, 9.403361584977949, 1.3903891703159093, 1.2311444133449163, 1.9331820449317627, 1.0, 1.0, 1.6206565966927624, 1.9331820449317627, 1.0, 2.2071833466585673, 1.0, 1.3903891703159093, 1.0, 1.0, 4.944930204597636, 1.0, 1.0, 1.3903891703159093, 1.0, 7.131101644447736, 1.9331820449317627, 1.515716566510398, 3.6074452531358507, 3.4657893658794796], \"sizemode\": \"area\", \"sizeref\": 0.03280452281427571}, \"name\": \"\", \"showlegend\": false, \"type\": \"scattergeo\"}], \"name\": \"06/16/2003\"}, {\"data\": [{\"geo\": \"geo\", \"hoverlabel\": {\"namelength\": 0}, \"hovertemplate\": \"<b>%{hovertext}</b><br><br>Date=06/17/2003<br>size=%{marker.size}<br>Country=%{location}<br>Confirmed=%{marker.color}\", \"hovertext\": [\"Brazil\", \"Canada\", \"China\", \"Colombia\", \"Finland\", \"France\", \"Germany\", \"Hong Kong SAR, China\", \"India\", \"Indonesia\", \"Italy\", \"Kuwait\", \"Macao SAR, China\", \"Malaysia\", \"Mongolia\", \"New Zealand\", \"Philippines\", \"Republic of Ireland\", \"Republic of Korea\", \"Romania\", \"Russian Federation\", \"Singapore\", \"South Africa\", \"Spain\", \"Sweden\", \"Switzerland\", \"Taiwan, China\", \"Thailand\", \"United Kingdom\", \"United States\", \"Viet Nam\"], \"legendgroup\": \"\", \"locationmode\": \"country names\", \"locations\": [\"Brazil\", \"Canada\", \"China\", \"Colombia\", \"Finland\", \"France\", \"Germany\", \"Hong Kong SAR, China\", \"India\", \"Indonesia\", \"Italy\", \"Kuwait\", \"Macao SAR, China\", \"Malaysia\", \"Mongolia\", \"New Zealand\", \"Philippines\", \"Republic of Ireland\", \"Republic of Korea\", \"Romania\", \"Russian Federation\", \"Singapore\", \"South Africa\", \"Spain\", \"Sweden\", \"Switzerland\", \"Taiwan, China\", \"Thailand\", \"United Kingdom\", \"United States\", \"Viet Nam\"], \"marker\": {\"color\": [3, 247, 5326, 1, 1, 7, 10, 1755, 3, 2, 9, 1, 1, 5, 9, 1, 14, 1, 3, 1, 1, 206, 1, 1, 3, 1, 697, 9, 4, 73, 63], \"coloraxis\": \"coloraxis\", \"size\": [1.3903891703159093, 5.22166596305939, 13.119592583044325, 1.0, 1.0, 1.792789962520997, 1.9952623149688795, 9.403361584977949, 1.3903891703159093, 1.2311444133449163, 1.9331820449317627, 1.0, 1.0, 1.6206565966927624, 1.9331820449317627, 1.0, 2.2071833466585673, 1.0, 1.3903891703159093, 1.0, 1.0, 4.944930204597636, 1.0, 1.0, 1.3903891703159093, 1.0, 7.128035162935908, 1.9331820449317627, 1.515716566510398, 3.622403777287988, 3.4657893658794796], \"sizemode\": \"area\", \"sizeref\": 0.03280452281427571}, \"name\": \"\", \"showlegend\": false, \"type\": \"scattergeo\"}], \"name\": \"06/17/2003\"}, {\"data\": [{\"geo\": \"geo\", \"hoverlabel\": {\"namelength\": 0}, \"hovertemplate\": \"<b>%{hovertext}</b><br><br>Date=06/18/2003<br>size=%{marker.size}<br>Country=%{location}<br>Confirmed=%{marker.color}\", \"hovertext\": [\"Brazil\", \"Canada\", \"China\", \"Colombia\", \"Finland\", \"France\", \"Germany\", \"Hong Kong SAR, China\", \"India\", \"Indonesia\", \"Italy\", \"Kuwait\", \"Macao SAR, China\", \"Malaysia\", \"Mongolia\", \"New Zealand\", \"Philippines\", \"Republic of Ireland\", \"Republic of Korea\", \"Romania\", \"Russian Federation\", \"Singapore\", \"South Africa\", \"Spain\", \"Sweden\", \"Switzerland\", \"Taiwan, China\", \"Thailand\", \"United Kingdom\", \"United States\", \"Viet Nam\"], \"legendgroup\": \"\", \"locationmode\": \"country names\", \"locations\": [\"Brazil\", \"Canada\", \"China\", \"Colombia\", \"Finland\", \"France\", \"Germany\", \"Hong Kong SAR, China\", \"India\", \"Indonesia\", \"Italy\", \"Kuwait\", \"Macao SAR, China\", \"Malaysia\", \"Mongolia\", \"New Zealand\", \"Philippines\", \"Republic of Ireland\", \"Republic of Korea\", \"Romania\", \"Russian Federation\", \"Singapore\", \"South Africa\", \"Spain\", \"Sweden\", \"Switzerland\", \"Taiwan, China\", \"Thailand\", \"United Kingdom\", \"United States\", \"Viet Nam\"], \"marker\": {\"color\": [3, 246, 5326, 1, 1, 7, 10, 1755, 3, 2, 9, 1, 1, 5, 9, 1, 14, 1, 3, 1, 1, 206, 1, 1, 3, 1, 697, 9, 4, 75, 63], \"coloraxis\": \"coloraxis\", \"size\": [1.3903891703159093, 5.215314851189218, 13.119592583044325, 1.0, 1.0, 1.792789962520997, 1.9952623149688795, 9.403361584977949, 1.3903891703159093, 1.2311444133449163, 1.9331820449317627, 1.0, 1.0, 1.6206565966927624, 1.9331820449317627, 1.0, 2.2071833466585673, 1.0, 1.3903891703159093, 1.0, 1.0, 4.944930204597636, 1.0, 1.0, 1.3903891703159093, 1.0, 7.128035162935908, 1.9331820449317627, 1.515716566510398, 3.651895814776621, 3.4657893658794796], \"sizemode\": \"area\", \"sizeref\": 0.03280452281427571}, \"name\": \"\", \"showlegend\": false, \"type\": \"scattergeo\"}], \"name\": \"06/18/2003\"}, {\"data\": [{\"geo\": \"geo\", \"hoverlabel\": {\"namelength\": 0}, \"hovertemplate\": \"<b>%{hovertext}</b><br><br>Date=06/19/2003<br>size=%{marker.size}<br>Country=%{location}<br>Confirmed=%{marker.color}\", \"hovertext\": [\"Brazil\", \"Canada\", \"China\", \"Colombia\", \"Finland\", \"France\", \"Germany\", \"Hong Kong SAR, China\", \"India\", \"Indonesia\", \"Italy\", \"Kuwait\", \"Macao SAR, China\", \"Malaysia\", \"Mongolia\", \"New Zealand\", \"Philippines\", \"Republic of Ireland\", \"Republic of Korea\", \"Romania\", \"Russian Federation\", \"Singapore\", \"South Africa\", \"Spain\", \"Sweden\", \"Switzerland\", \"Taiwan, China\", \"Thailand\", \"United Kingdom\", \"United States\", \"Viet Nam\"], \"legendgroup\": \"\", \"locationmode\": \"country names\", \"locations\": [\"Brazil\", \"Canada\", \"China\", \"Colombia\", \"Finland\", \"France\", \"Germany\", \"Hong Kong SAR, China\", \"India\", \"Indonesia\", \"Italy\", \"Kuwait\", \"Macao SAR, China\", \"Malaysia\", \"Mongolia\", \"New Zealand\", \"Philippines\", \"Republic of Ireland\", \"Republic of Korea\", \"Romania\", \"Russian Federation\", \"Singapore\", \"South Africa\", \"Spain\", \"Sweden\", \"Switzerland\", \"Taiwan, China\", \"Thailand\", \"United Kingdom\", \"United States\", \"Viet Nam\"], \"marker\": {\"color\": [3, 245, 5326, 1, 1, 7, 10, 1755, 3, 2, 9, 1, 1, 5, 9, 1, 14, 1, 3, 1, 1, 206, 1, 1, 3, 1, 695, 9, 4, 75, 63], \"coloraxis\": \"coloraxis\", \"size\": [1.3903891703159093, 5.208945641245127, 13.119592583044325, 1.0, 1.0, 1.792789962520997, 1.9952623149688795, 9.403361584977949, 1.3903891703159093, 1.2311444133449163, 1.9331820449317627, 1.0, 1.0, 1.6206565966927624, 1.9331820449317627, 1.0, 2.2071833466585673, 1.0, 1.3903891703159093, 1.0, 1.0, 4.944930204597636, 1.0, 1.0, 1.3903891703159093, 1.0, 7.121892948696807, 1.9331820449317627, 1.515716566510398, 3.651895814776621, 3.4657893658794796], \"sizemode\": \"area\", \"sizeref\": 0.03280452281427571}, \"name\": \"\", \"showlegend\": false, \"type\": \"scattergeo\"}], \"name\": \"06/19/2003\"}, {\"data\": [{\"geo\": \"geo\", \"hoverlabel\": {\"namelength\": 0}, \"hovertemplate\": \"<b>%{hovertext}</b><br><br>Date=06/20/2003<br>size=%{marker.size}<br>Country=%{location}<br>Confirmed=%{marker.color}\", \"hovertext\": [\"Brazil\", \"Canada\", \"China\", \"Colombia\", \"Finland\", \"France\", \"Germany\", \"Hong Kong SAR, China\", \"India\", \"Indonesia\", \"Italy\", \"Kuwait\", \"Macao SAR, China\", \"Malaysia\", \"Mongolia\", \"New Zealand\", \"Philippines\", \"Republic of Ireland\", \"Republic of Korea\", \"Romania\", \"Russian Federation\", \"Singapore\", \"South Africa\", \"Spain\", \"Sweden\", \"Switzerland\", \"Taiwan, China\", \"Thailand\", \"United Kingdom\", \"United States\", \"Viet Nam\"], \"legendgroup\": \"\", \"locationmode\": \"country names\", \"locations\": [\"Brazil\", \"Canada\", \"China\", \"Colombia\", \"Finland\", \"France\", \"Germany\", \"Hong Kong SAR, China\", \"India\", \"Indonesia\", \"Italy\", \"Kuwait\", \"Macao SAR, China\", \"Malaysia\", \"Mongolia\", \"New Zealand\", \"Philippines\", \"Republic of Ireland\", \"Republic of Korea\", \"Romania\", \"Russian Federation\", \"Singapore\", \"South Africa\", \"Spain\", \"Sweden\", \"Switzerland\", \"Taiwan, China\", \"Thailand\", \"United Kingdom\", \"United States\", \"Viet Nam\"], \"marker\": {\"color\": [3, 245, 5326, 1, 1, 7, 10, 1755, 3, 2, 9, 1, 1, 5, 9, 1, 14, 1, 3, 1, 1, 206, 1, 1, 3, 1, 695, 9, 4, 74, 63], \"coloraxis\": \"coloraxis\", \"size\": [1.3903891703159093, 5.208945641245127, 13.119592583044325, 1.0, 1.0, 1.792789962520997, 1.9952623149688795, 9.403361584977949, 1.3903891703159093, 1.2311444133449163, 1.9331820449317627, 1.0, 1.0, 1.6206565966927624, 1.9331820449317627, 1.0, 2.2071833466585673, 1.0, 1.3903891703159093, 1.0, 1.0, 4.944930204597636, 1.0, 1.0, 1.3903891703159093, 1.0, 7.121892948696807, 1.9331820449317627, 1.515716566510398, 3.6372195430613803, 3.4657893658794796], \"sizemode\": \"area\", \"sizeref\": 0.03280452281427571}, \"name\": \"\", \"showlegend\": false, \"type\": \"scattergeo\"}], \"name\": \"06/20/2003\"}, {\"data\": [{\"geo\": \"geo\", \"hoverlabel\": {\"namelength\": 0}, \"hovertemplate\": \"<b>%{hovertext}</b><br><br>Date=06/23/2003<br>size=%{marker.size}<br>Country=%{location}<br>Confirmed=%{marker.color}\", \"hovertext\": [\"Brazil\", \"Canada\", \"China\", \"Colombia\", \"Finland\", \"France\", \"Germany\", \"Hong Kong SAR, China\", \"India\", \"Indonesia\", \"Italy\", \"Kuwait\", \"Macao SAR, China\", \"Malaysia\", \"Mongolia\", \"New Zealand\", \"Philippines\", \"Republic of Ireland\", \"Republic of Korea\", \"Romania\", \"Russian Federation\", \"Singapore\", \"South Africa\", \"Spain\", \"Sweden\", \"Switzerland\", \"Taiwan, China\", \"Thailand\", \"United Kingdom\", \"United States\", \"Viet Nam\"], \"legendgroup\": \"\", \"locationmode\": \"country names\", \"locations\": [\"Brazil\", \"Canada\", \"China\", \"Colombia\", \"Finland\", \"France\", \"Germany\", \"Hong Kong SAR, China\", \"India\", \"Indonesia\", \"Italy\", \"Kuwait\", \"Macao SAR, China\", \"Malaysia\", \"Mongolia\", \"New Zealand\", \"Philippines\", \"Republic of Ireland\", \"Republic of Korea\", \"Romania\", \"Russian Federation\", \"Singapore\", \"South Africa\", \"Spain\", \"Sweden\", \"Switzerland\", \"Taiwan, China\", \"Thailand\", \"United Kingdom\", \"United States\", \"Viet Nam\"], \"marker\": {\"color\": [3, 246, 5326, 1, 1, 7, 10, 1755, 3, 2, 9, 1, 1, 5, 9, 1, 14, 1, 3, 1, 1, 206, 1, 1, 3, 1, 692, 9, 4, 74, 63], \"coloraxis\": \"coloraxis\", \"size\": [1.3903891703159093, 5.215314851189218, 13.119592583044325, 1.0, 1.0, 1.792789962520997, 1.9952623149688795, 9.403361584977949, 1.3903891703159093, 1.2311444133449163, 1.9331820449317627, 1.0, 1.0, 1.6206565966927624, 1.9331820449317627, 1.0, 2.2071833466585673, 1.0, 1.3903891703159093, 1.0, 1.0, 4.944930204597636, 1.0, 1.0, 1.3903891703159093, 1.0, 7.112656385912897, 1.9331820449317627, 1.515716566510398, 3.6372195430613803, 3.4657893658794796], \"sizemode\": \"area\", \"sizeref\": 0.03280452281427571}, \"name\": \"\", \"showlegend\": false, \"type\": \"scattergeo\"}], \"name\": \"06/23/2003\"}, {\"data\": [{\"geo\": \"geo\", \"hoverlabel\": {\"namelength\": 0}, \"hovertemplate\": \"<b>%{hovertext}</b><br><br>Date=06/24/2003<br>size=%{marker.size}<br>Country=%{location}<br>Confirmed=%{marker.color}\", \"hovertext\": [\"Brazil\", \"Canada\", \"China\", \"Colombia\", \"Finland\", \"France\", \"Germany\", \"Hong Kong SAR, China\", \"India\", \"Indonesia\", \"Italy\", \"Kuwait\", \"Macao SAR, China\", \"Malaysia\", \"Mongolia\", \"New Zealand\", \"Philippines\", \"Republic of Ireland\", \"Republic of Korea\", \"Romania\", \"Russian Federation\", \"Singapore\", \"South Africa\", \"Spain\", \"Sweden\", \"Switzerland\", \"Taiwan, China\", \"Thailand\", \"United Kingdom\", \"United States\", \"Viet Nam\"], \"legendgroup\": \"\", \"locationmode\": \"country names\", \"locations\": [\"Brazil\", \"Canada\", \"China\", \"Colombia\", \"Finland\", \"France\", \"Germany\", \"Hong Kong SAR, China\", \"India\", \"Indonesia\", \"Italy\", \"Kuwait\", \"Macao SAR, China\", \"Malaysia\", \"Mongolia\", \"New Zealand\", \"Philippines\", \"Republic of Ireland\", \"Republic of Korea\", \"Romania\", \"Russian Federation\", \"Singapore\", \"South Africa\", \"Spain\", \"Sweden\", \"Switzerland\", \"Taiwan, China\", \"Thailand\", \"United Kingdom\", \"United States\", \"Viet Nam\"], \"marker\": {\"color\": [3, 249, 5326, 1, 1, 7, 10, 1755, 3, 2, 9, 1, 1, 5, 9, 1, 14, 1, 3, 1, 1, 206, 1, 1, 3, 1, 687, 9, 4, 75, 63], \"coloraxis\": \"coloraxis\", \"size\": [1.3903891703159093, 5.2343143887696115, 13.119592583044325, 1.0, 1.0, 1.792789962520997, 1.9952623149688795, 9.403361584977949, 1.3903891703159093, 1.2311444133449163, 1.9331820449317627, 1.0, 1.0, 1.6206565966927624, 1.9331820449317627, 1.0, 2.2071833466585673, 1.0, 1.3903891703159093, 1.0, 1.0, 4.944930204597636, 1.0, 1.0, 1.3903891703159093, 1.0, 7.0971996281025955, 1.9331820449317627, 1.515716566510398, 3.651895814776621, 3.4657893658794796], \"sizemode\": \"area\", \"sizeref\": 0.03280452281427571}, \"name\": \"\", \"showlegend\": false, \"type\": \"scattergeo\"}], \"name\": \"06/24/2003\"}, {\"data\": [{\"geo\": \"geo\", \"hoverlabel\": {\"namelength\": 0}, \"hovertemplate\": \"<b>%{hovertext}</b><br><br>Date=06/25/2003<br>size=%{marker.size}<br>Country=%{location}<br>Confirmed=%{marker.color}\", \"hovertext\": [\"Brazil\", \"Canada\", \"China\", \"Colombia\", \"Finland\", \"France\", \"Germany\", \"Hong Kong SAR, China\", \"India\", \"Indonesia\", \"Italy\", \"Japan\", \"Kuwait\", \"Macao SAR, China\", \"Malaysia\", \"Mongolia\", \"New Zealand\", \"Philippines\", \"Republic of Ireland\", \"Republic of Korea\", \"Romania\", \"Russian Federation\", \"Singapore\", \"South Africa\", \"Spain\", \"Sweden\", \"Switzerland\", \"Taiwan, China\", \"Thailand\", \"United Kingdom\", \"United States\", \"Viet Nam\"], \"legendgroup\": \"\", \"locationmode\": \"country names\", \"locations\": [\"Brazil\", \"Canada\", \"China\", \"Colombia\", \"Finland\", \"France\", \"Germany\", \"Hong Kong SAR, China\", \"India\", \"Indonesia\", \"Italy\", \"Japan\", \"Kuwait\", \"Macao SAR, China\", \"Malaysia\", \"Mongolia\", \"New Zealand\", \"Philippines\", \"Republic of Ireland\", \"Republic of Korea\", \"Romania\", \"Russian Federation\", \"Singapore\", \"South Africa\", \"Spain\", \"Sweden\", \"Switzerland\", \"Taiwan, China\", \"Thailand\", \"United Kingdom\", \"United States\", \"Viet Nam\"], \"marker\": {\"color\": [3, 250, 5327, 1, 1, 7, 10, 1755, 3, 2, 9, 1, 1, 1, 5, 9, 1, 14, 1, 3, 1, 1, 206, 1, 1, 3, 1, 686, 9, 4, 75, 63], \"coloraxis\": \"coloraxis\", \"size\": [1.3903891703159093, 5.240611947344789, 13.120331527684732, 1.0, 1.0, 1.792789962520997, 1.9952623149688795, 9.403361584977949, 1.3903891703159093, 1.2311444133449163, 1.9331820449317627, 1.0, 1.0, 1.0, 1.6206565966927624, 1.9331820449317627, 1.0, 2.2071833466585673, 1.0, 1.3903891703159093, 1.0, 1.0, 4.944930204597636, 1.0, 1.0, 1.3903891703159093, 1.0, 7.094098834057658, 1.9331820449317627, 1.515716566510398, 3.651895814776621, 3.4657893658794796], \"sizemode\": \"area\", \"sizeref\": 0.03280452281427571}, \"name\": \"\", \"showlegend\": false, \"type\": \"scattergeo\"}], \"name\": \"06/25/2003\"}, {\"data\": [{\"geo\": \"geo\", \"hoverlabel\": {\"namelength\": 0}, \"hovertemplate\": \"<b>%{hovertext}</b><br><br>Date=06/26/2003<br>size=%{marker.size}<br>Country=%{location}<br>Confirmed=%{marker.color}\", \"hovertext\": [\"Brazil\", \"Canada\", \"China\", \"Colombia\", \"Finland\", \"France\", \"Germany\", \"Hong Kong SAR, China\", \"India\", \"Indonesia\", \"Italy\", \"Japan\", \"Kuwait\", \"Macao SAR, China\", \"Malaysia\", \"Mongolia\", \"New Zealand\", \"Philippines\", \"Republic of Ireland\", \"Republic of Korea\", \"Romania\", \"Russian Federation\", \"Singapore\", \"South Africa\", \"Spain\", \"Sweden\", \"Switzerland\", \"Taiwan, China\", \"Thailand\", \"United Kingdom\", \"United States\", \"Viet Nam\"], \"legendgroup\": \"\", \"locationmode\": \"country names\", \"locations\": [\"Brazil\", \"Canada\", \"China\", \"Colombia\", \"Finland\", \"France\", \"Germany\", \"Hong Kong SAR, China\", \"India\", \"Indonesia\", \"Italy\", \"Japan\", \"Kuwait\", \"Macao SAR, China\", \"Malaysia\", \"Mongolia\", \"New Zealand\", \"Philippines\", \"Republic of Ireland\", \"Republic of Korea\", \"Romania\", \"Russian Federation\", \"Singapore\", \"South Africa\", \"Spain\", \"Sweden\", \"Switzerland\", \"Taiwan, China\", \"Thailand\", \"United Kingdom\", \"United States\", \"Viet Nam\"], \"marker\": {\"color\": [3, 251, 5327, 1, 1, 7, 10, 1755, 3, 2, 9, 1, 1, 1, 5, 9, 1, 14, 1, 3, 1, 1, 206, 1, 1, 3, 1, 682, 9, 4, 74, 63], \"coloraxis\": \"coloraxis\", \"size\": [1.3903891703159093, 5.2468918973560585, 13.120331527684732, 1.0, 1.0, 1.792789962520997, 1.9952623149688795, 9.403361584977949, 1.3903891703159093, 1.2311444133449163, 1.9331820449317627, 1.0, 1.0, 1.0, 1.6206565966927624, 1.9331820449317627, 1.0, 2.2071833466585673, 1.0, 1.3903891703159093, 1.0, 1.0, 4.944930204597636, 1.0, 1.0, 1.3903891703159093, 1.0, 7.081663922198253, 1.9331820449317627, 1.515716566510398, 3.6372195430613803, 3.4657893658794796], \"sizemode\": \"area\", \"sizeref\": 0.03280452281427571}, \"name\": \"\", \"showlegend\": false, \"type\": \"scattergeo\"}], \"name\": \"06/26/2003\"}, {\"data\": [{\"geo\": \"geo\", \"hoverlabel\": {\"namelength\": 0}, \"hovertemplate\": \"<b>%{hovertext}</b><br><br>Date=06/27/2003<br>size=%{marker.size}<br>Country=%{location}<br>Confirmed=%{marker.color}\", \"hovertext\": [\"Brazil\", \"Canada\", \"China\", \"Colombia\", \"Finland\", \"France\", \"Germany\", \"Hong Kong SAR, China\", \"India\", \"Indonesia\", \"Italy\", \"Kuwait\", \"Macao SAR, China\", \"Malaysia\", \"Mongolia\", \"New Zealand\", \"Philippines\", \"Republic of Ireland\", \"Republic of Korea\", \"Romania\", \"Russian Federation\", \"Singapore\", \"South Africa\", \"Spain\", \"Sweden\", \"Switzerland\", \"Taiwan, China\", \"Thailand\", \"United Kingdom\", \"United States\", \"Viet Nam\"], \"legendgroup\": \"\", \"locationmode\": \"country names\", \"locations\": [\"Brazil\", \"Canada\", \"China\", \"Colombia\", \"Finland\", \"France\", \"Germany\", \"Hong Kong SAR, China\", \"India\", \"Indonesia\", \"Italy\", \"Kuwait\", \"Macao SAR, China\", \"Malaysia\", \"Mongolia\", \"New Zealand\", \"Philippines\", \"Republic of Ireland\", \"Republic of Korea\", \"Romania\", \"Russian Federation\", \"Singapore\", \"South Africa\", \"Spain\", \"Sweden\", \"Switzerland\", \"Taiwan, China\", \"Thailand\", \"United Kingdom\", \"United States\", \"Viet Nam\"], \"marker\": {\"color\": [3, 251, 5327, 1, 1, 7, 10, 1755, 3, 2, 5, 1, 1, 5, 9, 1, 14, 1, 3, 1, 1, 206, 1, 1, 3, 1, 681, 9, 4, 74, 63], \"coloraxis\": \"coloraxis\", \"size\": [1.3903891703159093, 5.2468918973560585, 13.120331527684732, 1.0, 1.0, 1.792789962520997, 1.9952623149688795, 9.403361584977949, 1.3903891703159093, 1.2311444133449163, 1.6206565966927624, 1.0, 1.0, 1.6206565966927624, 1.9331820449317627, 1.0, 2.2071833466585673, 1.0, 1.3903891703159093, 1.0, 1.0, 4.944930204597636, 1.0, 1.0, 1.3903891703159093, 1.0, 7.078547220777483, 1.9331820449317627, 1.515716566510398, 3.6372195430613803, 3.4657893658794796], \"sizemode\": \"area\", \"sizeref\": 0.03280452281427571}, \"name\": \"\", \"showlegend\": false, \"type\": \"scattergeo\"}], \"name\": \"06/27/2003\"}, {\"data\": [{\"geo\": \"geo\", \"hoverlabel\": {\"namelength\": 0}, \"hovertemplate\": \"<b>%{hovertext}</b><br><br>Date=06/30/2003<br>size=%{marker.size}<br>Country=%{location}<br>Confirmed=%{marker.color}\", \"hovertext\": [\"Australia\", \"Brazil\", \"Canada\", \"China\", \"Colombia\", \"Finland\", \"France\", \"Germany\", \"Hong Kong SAR, China\", \"India\", \"Indonesia\", \"Italy\", \"Kuwait\", \"Macao SAR, China\", \"Malaysia\", \"Mongolia\", \"New Zealand\", \"Philippines\", \"Republic of Ireland\", \"Republic of Korea\", \"Romania\", \"Russian Federation\", \"Singapore\", \"South Africa\", \"Spain\", \"Sweden\", \"Switzerland\", \"Taiwan, China\", \"Thailand\", \"United Kingdom\", \"United States\", \"Viet Nam\"], \"legendgroup\": \"\", \"locationmode\": \"country names\", \"locations\": [\"Australia\", \"Brazil\", \"Canada\", \"China\", \"Colombia\", \"Finland\", \"France\", \"Germany\", \"Hong Kong SAR, China\", \"India\", \"Indonesia\", \"Italy\", \"Kuwait\", \"Macao SAR, China\", \"Malaysia\", \"Mongolia\", \"New Zealand\", \"Philippines\", \"Republic of Ireland\", \"Republic of Korea\", \"Romania\", \"Russian Federation\", \"Singapore\", \"South Africa\", \"Spain\", \"Sweden\", \"Switzerland\", \"Taiwan, China\", \"Thailand\", \"United Kingdom\", \"United States\", \"Viet Nam\"], \"marker\": {\"color\": [5, 3, 252, 5327, 1, 1, 7, 10, 1755, 3, 2, 5, 1, 1, 5, 9, 1, 14, 1, 3, 1, 1, 206, 1, 1, 3, 1, 678, 9, 4, 73, 63], \"coloraxis\": \"coloraxis\", \"size\": [1.6206565966927624, 1.3903891703159093, 5.253154357899095, 13.120331527684732, 1.0, 1.0, 1.792789962520997, 1.9952623149688795, 9.403361584977949, 1.3903891703159093, 1.2311444133449163, 1.6206565966927624, 1.0, 1.0, 1.6206565966927624, 1.9331820449317627, 1.0, 2.2071833466585673, 1.0, 1.3903891703159093, 1.0, 1.0, 4.944930204597636, 1.0, 1.0, 1.3903891703159093, 1.0, 7.069177852574754, 1.9331820449317627, 1.515716566510398, 3.622403777287988, 3.4657893658794796], \"sizemode\": \"area\", \"sizeref\": 0.03280452281427571}, \"name\": \"\", \"showlegend\": false, \"type\": \"scattergeo\"}], \"name\": \"06/30/2003\"}, {\"data\": [{\"geo\": \"geo\", \"hoverlabel\": {\"namelength\": 0}, \"hovertemplate\": \"<b>%{hovertext}</b><br><br>Date=07/01/2003<br>size=%{marker.size}<br>Country=%{location}<br>Confirmed=%{marker.color}\", \"hovertext\": [\"Brazil\", \"Canada\", \"China\", \"Colombia\", \"Finland\", \"France\", \"Germany\", \"Hong Kong SAR, China\", \"India\", \"Indonesia\", \"Italy\", \"Kuwait\", \"Macao SAR, China\", \"Malaysia\", \"Mongolia\", \"New Zealand\", \"Philippines\", \"Republic of Ireland\", \"Republic of Korea\", \"Romania\", \"Russian Federation\", \"Singapore\", \"South Africa\", \"Spain\", \"Sweden\", \"Switzerland\", \"Taiwan, China\", \"Thailand\", \"United Kingdom\", \"United States\", \"Viet Nam\"], \"legendgroup\": \"\", \"locationmode\": \"country names\", \"locations\": [\"Brazil\", \"Canada\", \"China\", \"Colombia\", \"Finland\", \"France\", \"Germany\", \"Hong Kong SAR, China\", \"India\", \"Indonesia\", \"Italy\", \"Kuwait\", \"Macao SAR, China\", \"Malaysia\", \"Mongolia\", \"New Zealand\", \"Philippines\", \"Republic of Ireland\", \"Republic of Korea\", \"Romania\", \"Russian Federation\", \"Singapore\", \"South Africa\", \"Spain\", \"Sweden\", \"Switzerland\", \"Taiwan, China\", \"Thailand\", \"United Kingdom\", \"United States\", \"Viet Nam\"], \"marker\": {\"color\": [1, 252, 5327, 1, 1, 7, 10, 1755, 3, 2, 5, 1, 1, 5, 9, 1, 14, 1, 3, 1, 1, 206, 1, 1, 3, 1, 678, 9, 4, 73, 63], \"coloraxis\": \"coloraxis\", \"size\": [1.0, 5.253154357899095, 13.120331527684732, 1.0, 1.0, 1.792789962520997, 1.9952623149688795, 9.403361584977949, 1.3903891703159093, 1.2311444133449163, 1.6206565966927624, 1.0, 1.0, 1.6206565966927624, 1.9331820449317627, 1.0, 2.2071833466585673, 1.0, 1.3903891703159093, 1.0, 1.0, 4.944930204597636, 1.0, 1.0, 1.3903891703159093, 1.0, 7.069177852574754, 1.9331820449317627, 1.515716566510398, 3.622403777287988, 3.4657893658794796], \"sizemode\": \"area\", \"sizeref\": 0.03280452281427571}, \"name\": \"\", \"showlegend\": false, \"type\": \"scattergeo\"}], \"name\": \"07/01/2003\"}, {\"data\": [{\"geo\": \"geo\", \"hoverlabel\": {\"namelength\": 0}, \"hovertemplate\": \"<b>%{hovertext}</b><br><br>Date=07/02/2003<br>size=%{marker.size}<br>Country=%{location}<br>Confirmed=%{marker.color}\", \"hovertext\": [\"Brazil\", \"Canada\", \"China\", \"Colombia\", \"Finland\", \"France\", \"Germany\", \"Hong Kong SAR, China\", \"India\", \"Indonesia\", \"Italy\", \"Kuwait\", \"Macao SAR, China\", \"Malaysia\", \"Mongolia\", \"New Zealand\", \"Philippines\", \"Republic of Ireland\", \"Republic of Korea\", \"Romania\", \"Russian Federation\", \"Singapore\", \"South Africa\", \"Spain\", \"Sweden\", \"Switzerland\", \"Taiwan, China\", \"Thailand\", \"United Kingdom\", \"United States\", \"Viet Nam\"], \"legendgroup\": \"\", \"locationmode\": \"country names\", \"locations\": [\"Brazil\", \"Canada\", \"China\", \"Colombia\", \"Finland\", \"France\", \"Germany\", \"Hong Kong SAR, China\", \"India\", \"Indonesia\", \"Italy\", \"Kuwait\", \"Macao SAR, China\", \"Malaysia\", \"Mongolia\", \"New Zealand\", \"Philippines\", \"Republic of Ireland\", \"Republic of Korea\", \"Romania\", \"Russian Federation\", \"Singapore\", \"South Africa\", \"Spain\", \"Sweden\", \"Switzerland\", \"Taiwan, China\", \"Thailand\", \"United Kingdom\", \"United States\", \"Viet Nam\"], \"marker\": {\"color\": [1, 252, 5327, 1, 1, 7, 10, 1755, 3, 2, 4, 1, 1, 5, 9, 1, 14, 1, 3, 1, 1, 206, 1, 1, 3, 1, 676, 9, 4, 73, 63], \"coloraxis\": \"coloraxis\", \"size\": [1.0, 5.253154357899095, 13.120331527684732, 1.0, 1.0, 1.792789962520997, 1.9952623149688795, 9.403361584977949, 1.3903891703159093, 1.2311444133449163, 1.515716566510398, 1.0, 1.0, 1.6206565966927624, 1.9331820449317627, 1.0, 2.2071833466585673, 1.0, 1.3903891703159093, 1.0, 1.0, 4.944930204597636, 1.0, 1.0, 1.3903891703159093, 1.0, 7.062915473248845, 1.9331820449317627, 1.515716566510398, 3.622403777287988, 3.4657893658794796], \"sizemode\": \"area\", \"sizeref\": 0.03280452281427571}, \"name\": \"\", \"showlegend\": false, \"type\": \"scattergeo\"}], \"name\": \"07/02/2003\"}, {\"data\": [{\"geo\": \"geo\", \"hoverlabel\": {\"namelength\": 0}, \"hovertemplate\": \"<b>%{hovertext}</b><br><br>Date=07/03/2003<br>size=%{marker.size}<br>Country=%{location}<br>Confirmed=%{marker.color}\", \"hovertext\": [\"Brazil\", \"Canada\", \"China\", \"Colombia\", \"Finland\", \"France\", \"Germany\", \"Hong Kong SAR, China\", \"India\", \"Indonesia\", \"Italy\", \"Kuwait\", \"Macao SAR, China\", \"Malaysia\", \"Mongolia\", \"New Zealand\", \"Philippines\", \"Republic of Ireland\", \"Republic of Korea\", \"Romania\", \"Russian Federation\", \"Singapore\", \"South Africa\", \"Spain\", \"Sweden\", \"Switzerland\", \"Taiwan, China\", \"Thailand\", \"United Kingdom\", \"United States\", \"Viet Nam\"], \"legendgroup\": \"\", \"locationmode\": \"country names\", \"locations\": [\"Brazil\", \"Canada\", \"China\", \"Colombia\", \"Finland\", \"France\", \"Germany\", \"Hong Kong SAR, China\", \"India\", \"Indonesia\", \"Italy\", \"Kuwait\", \"Macao SAR, China\", \"Malaysia\", \"Mongolia\", \"New Zealand\", \"Philippines\", \"Republic of Ireland\", \"Republic of Korea\", \"Romania\", \"Russian Federation\", \"Singapore\", \"South Africa\", \"Spain\", \"Sweden\", \"Switzerland\", \"Taiwan, China\", \"Thailand\", \"United Kingdom\", \"United States\", \"Viet Nam\"], \"marker\": {\"color\": [1, 251, 5327, 1, 1, 7, 10, 1755, 3, 2, 4, 1, 1, 5, 9, 1, 14, 1, 3, 1, 1, 206, 1, 1, 3, 1, 674, 9, 4, 73, 63], \"coloraxis\": \"coloraxis\", \"size\": [1.0, 5.2468918973560585, 13.120331527684732, 1.0, 1.0, 1.792789962520997, 1.9952623149688795, 9.403361584977949, 1.3903891703159093, 1.2311444133449163, 1.515716566510398, 1.0, 1.0, 1.6206565966927624, 1.9331820449317627, 1.0, 2.2071833466585673, 1.0, 1.3903891703159093, 1.0, 1.0, 4.944930204597636, 1.0, 1.0, 1.3903891703159093, 1.0, 7.0566401110335475, 1.9331820449317627, 1.515716566510398, 3.622403777287988, 3.4657893658794796], \"sizemode\": \"area\", \"sizeref\": 0.03280452281427571}, \"name\": \"\", \"showlegend\": false, \"type\": \"scattergeo\"}], \"name\": \"07/03/2003\"}, {\"data\": [{\"geo\": \"geo\", \"hoverlabel\": {\"namelength\": 0}, \"hovertemplate\": \"<b>%{hovertext}</b><br><br>Date=07/04/2003<br>size=%{marker.size}<br>Country=%{location}<br>Confirmed=%{marker.color}\", \"hovertext\": [\"Brazil\", \"Canada\", \"China\", \"Colombia\", \"Finland\", \"France\", \"Germany\", \"Hong Kong SAR, China\", \"India\", \"Indonesia\", \"Italy\", \"Kuwait\", \"Macao SAR, China\", \"Malaysia\", \"Mongolia\", \"New Zealand\", \"Philippines\", \"Republic of Ireland\", \"Republic of Korea\", \"Romania\", \"Russian Federation\", \"Singapore\", \"South Africa\", \"Spain\", \"Sweden\", \"Switzerland\", \"Taiwan, China\", \"Thailand\", \"United Kingdom\", \"United States\", \"Viet Nam\"], \"legendgroup\": \"\", \"locationmode\": \"country names\", \"locations\": [\"Brazil\", \"Canada\", \"China\", \"Colombia\", \"Finland\", \"France\", \"Germany\", \"Hong Kong SAR, China\", \"India\", \"Indonesia\", \"Italy\", \"Kuwait\", \"Macao SAR, China\", \"Malaysia\", \"Mongolia\", \"New Zealand\", \"Philippines\", \"Republic of Ireland\", \"Republic of Korea\", \"Romania\", \"Russian Federation\", \"Singapore\", \"South Africa\", \"Spain\", \"Sweden\", \"Switzerland\", \"Taiwan, China\", \"Thailand\", \"United Kingdom\", \"United States\", \"Viet Nam\"], \"marker\": {\"color\": [1, 251, 5327, 1, 1, 7, 10, 1755, 3, 2, 4, 1, 1, 5, 9, 1, 14, 1, 3, 1, 1, 206, 1, 1, 3, 1, 674, 9, 4, 73, 63], \"coloraxis\": \"coloraxis\", \"size\": [1.0, 5.2468918973560585, 13.120331527684732, 1.0, 1.0, 1.792789962520997, 1.9952623149688795, 9.403361584977949, 1.3903891703159093, 1.2311444133449163, 1.515716566510398, 1.0, 1.0, 1.6206565966927624, 1.9331820449317627, 1.0, 2.2071833466585673, 1.0, 1.3903891703159093, 1.0, 1.0, 4.944930204597636, 1.0, 1.0, 1.3903891703159093, 1.0, 7.0566401110335475, 1.9331820449317627, 1.515716566510398, 3.622403777287988, 3.4657893658794796], \"sizemode\": \"area\", \"sizeref\": 0.03280452281427571}, \"name\": \"\", \"showlegend\": false, \"type\": \"scattergeo\"}], \"name\": \"07/04/2003\"}, {\"data\": [{\"geo\": \"geo\", \"hoverlabel\": {\"namelength\": 0}, \"hovertemplate\": \"<b>%{hovertext}</b><br><br>Date=07/07/2003<br>size=%{marker.size}<br>Country=%{location}<br>Confirmed=%{marker.color}\", \"hovertext\": [\"Brazil\", \"Canada\", \"China\", \"Colombia\", \"Finland\", \"France\", \"Germany\", \"Hong Kong SAR, China\", \"India\", \"Indonesia\", \"Italy\", \"Kuwait\", \"Macao SAR, China\", \"Malaysia\", \"Mongolia\", \"New Zealand\", \"Philippines\", \"Republic of Ireland\", \"Republic of Korea\", \"Romania\", \"Russian Federation\", \"Singapore\", \"South Africa\", \"Spain\", \"Sweden\", \"Switzerland\", \"Taiwan, China\", \"Thailand\", \"United Kingdom\", \"United States\", \"Viet Nam\"], \"legendgroup\": \"\", \"locationmode\": \"country names\", \"locations\": [\"Brazil\", \"Canada\", \"China\", \"Colombia\", \"Finland\", \"France\", \"Germany\", \"Hong Kong SAR, China\", \"India\", \"Indonesia\", \"Italy\", \"Kuwait\", \"Macao SAR, China\", \"Malaysia\", \"Mongolia\", \"New Zealand\", \"Philippines\", \"Republic of Ireland\", \"Republic of Korea\", \"Romania\", \"Russian Federation\", \"Singapore\", \"South Africa\", \"Spain\", \"Sweden\", \"Switzerland\", \"Taiwan, China\", \"Thailand\", \"United Kingdom\", \"United States\", \"Viet Nam\"], \"marker\": {\"color\": [1, 251, 5327, 1, 1, 7, 10, 1755, 3, 2, 4, 1, 1, 5, 9, 1, 14, 1, 3, 1, 1, 206, 1, 1, 3, 1, 674, 9, 4, 73, 63], \"coloraxis\": \"coloraxis\", \"size\": [1.0, 5.2468918973560585, 13.120331527684732, 1.0, 1.0, 1.792789962520997, 1.9952623149688795, 9.403361584977949, 1.3903891703159093, 1.2311444133449163, 1.515716566510398, 1.0, 1.0, 1.6206565966927624, 1.9331820449317627, 1.0, 2.2071833466585673, 1.0, 1.3903891703159093, 1.0, 1.0, 4.944930204597636, 1.0, 1.0, 1.3903891703159093, 1.0, 7.0566401110335475, 1.9331820449317627, 1.515716566510398, 3.622403777287988, 3.4657893658794796], \"sizemode\": \"area\", \"sizeref\": 0.03280452281427571}, \"name\": \"\", \"showlegend\": false, \"type\": \"scattergeo\"}], \"name\": \"07/07/2003\"}, {\"data\": [{\"geo\": \"geo\", \"hoverlabel\": {\"namelength\": 0}, \"hovertemplate\": \"<b>%{hovertext}</b><br><br>Date=07/08/2003<br>size=%{marker.size}<br>Country=%{location}<br>Confirmed=%{marker.color}\", \"hovertext\": [\"Brazil\", \"Canada\", \"China\", \"Colombia\", \"Finland\", \"France\", \"Germany\", \"Hong Kong SAR, China\", \"India\", \"Indonesia\", \"Italy\", \"Kuwait\", \"Macao SAR, China\", \"Malaysia\", \"Mongolia\", \"New Zealand\", \"Philippines\", \"Republic of Ireland\", \"Republic of Korea\", \"Romania\", \"Russian Federation\", \"Singapore\", \"South Africa\", \"Spain\", \"Sweden\", \"Switzerland\", \"Taiwan, China\", \"Thailand\", \"United Kingdom\", \"United States\", \"Viet Nam\"], \"legendgroup\": \"\", \"locationmode\": \"country names\", \"locations\": [\"Brazil\", \"Canada\", \"China\", \"Colombia\", \"Finland\", \"France\", \"Germany\", \"Hong Kong SAR, China\", \"India\", \"Indonesia\", \"Italy\", \"Kuwait\", \"Macao SAR, China\", \"Malaysia\", \"Mongolia\", \"New Zealand\", \"Philippines\", \"Republic of Ireland\", \"Republic of Korea\", \"Romania\", \"Russian Federation\", \"Singapore\", \"South Africa\", \"Spain\", \"Sweden\", \"Switzerland\", \"Taiwan, China\", \"Thailand\", \"United Kingdom\", \"United States\", \"Viet Nam\"], \"marker\": {\"color\": [1, 250, 5327, 1, 1, 7, 10, 1755, 3, 2, 4, 1, 1, 5, 9, 1, 14, 1, 3, 1, 1, 206, 1, 1, 3, 1, 671, 9, 4, 74, 63], \"coloraxis\": \"coloraxis\", \"size\": [1.0, 5.240611947344789, 13.120331527684732, 1.0, 1.0, 1.792789962520997, 1.9952623149688795, 9.403361584977949, 1.3903891703159093, 1.2311444133449163, 1.515716566510398, 1.0, 1.0, 1.6206565966927624, 1.9331820449317627, 1.0, 2.2071833466585673, 1.0, 1.3903891703159093, 1.0, 1.0, 4.944930204597636, 1.0, 1.0, 1.3903891703159093, 1.0, 7.047202581235186, 1.9331820449317627, 1.515716566510398, 3.6372195430613803, 3.4657893658794796], \"sizemode\": \"area\", \"sizeref\": 0.03280452281427571}, \"name\": \"\", \"showlegend\": false, \"type\": \"scattergeo\"}], \"name\": \"07/08/2003\"}, {\"data\": [{\"geo\": \"geo\", \"hoverlabel\": {\"namelength\": 0}, \"hovertemplate\": \"<b>%{hovertext}</b><br><br>Date=07/09/2003<br>size=%{marker.size}<br>Country=%{location}<br>Confirmed=%{marker.color}\", \"hovertext\": [\"Brazil\", \"Canada\", \"China\", \"Colombia\", \"Finland\", \"France\", \"Germany\", \"Hong Kong SAR, China\", \"India\", \"Indonesia\", \"Italy\", \"Kuwait\", \"Macao SAR, China\", \"Malaysia\", \"Mongolia\", \"New Zealand\", \"Philippines\", \"Republic of Ireland\", \"Republic of Korea\", \"Romania\", \"Russian Federation\", \"Singapore\", \"South Africa\", \"Spain\", \"Sweden\", \"Switzerland\", \"Taiwan, China\", \"Thailand\", \"United Kingdom\", \"United States\", \"Viet Nam\"], \"legendgroup\": \"\", \"locationmode\": \"country names\", \"locations\": [\"Brazil\", \"Canada\", \"China\", \"Colombia\", \"Finland\", \"France\", \"Germany\", \"Hong Kong SAR, China\", \"India\", \"Indonesia\", \"Italy\", \"Kuwait\", \"Macao SAR, China\", \"Malaysia\", \"Mongolia\", \"New Zealand\", \"Philippines\", \"Republic of Ireland\", \"Republic of Korea\", \"Romania\", \"Russian Federation\", \"Singapore\", \"South Africa\", \"Spain\", \"Sweden\", \"Switzerland\", \"Taiwan, China\", \"Thailand\", \"United Kingdom\", \"United States\", \"Viet Nam\"], \"marker\": {\"color\": [1, 249, 5327, 1, 1, 7, 10, 1755, 3, 2, 4, 1, 1, 5, 9, 1, 14, 1, 3, 1, 1, 206, 1, 1, 3, 1, 671, 9, 4, 75, 63], \"coloraxis\": \"coloraxis\", \"size\": [1.0, 5.2343143887696115, 13.120331527684732, 1.0, 1.0, 1.792789962520997, 1.9952623149688795, 9.403361584977949, 1.3903891703159093, 1.2311444133449163, 1.515716566510398, 1.0, 1.0, 1.6206565966927624, 1.9331820449317627, 1.0, 2.2071833466585673, 1.0, 1.3903891703159093, 1.0, 1.0, 4.944930204597636, 1.0, 1.0, 1.3903891703159093, 1.0, 7.047202581235186, 1.9331820449317627, 1.515716566510398, 3.651895814776621, 3.4657893658794796], \"sizemode\": \"area\", \"sizeref\": 0.03280452281427571}, \"name\": \"\", \"showlegend\": false, \"type\": \"scattergeo\"}], \"name\": \"07/09/2003\"}, {\"data\": [{\"geo\": \"geo\", \"hoverlabel\": {\"namelength\": 0}, \"hovertemplate\": \"<b>%{hovertext}</b><br><br>Date=07/10/2003<br>size=%{marker.size}<br>Country=%{location}<br>Confirmed=%{marker.color}\", \"hovertext\": [\"Brazil\", \"Canada\", \"China\", \"Colombia\", \"Finland\", \"France\", \"Germany\", \"Hong Kong SAR, China\", \"India\", \"Indonesia\", \"Italy\", \"Kuwait\", \"Macao SAR, China\", \"Malaysia\", \"Mongolia\", \"New Zealand\", \"Philippines\", \"Republic of Ireland\", \"Republic of Korea\", \"Romania\", \"Russian Federation\", \"Singapore\", \"South Africa\", \"Spain\", \"Sweden\", \"Switzerland\", \"Taiwan, China\", \"Thailand\", \"United Kingdom\", \"United States\", \"Viet Nam\"], \"legendgroup\": \"\", \"locationmode\": \"country names\", \"locations\": [\"Brazil\", \"Canada\", \"China\", \"Colombia\", \"Finland\", \"France\", \"Germany\", \"Hong Kong SAR, China\", \"India\", \"Indonesia\", \"Italy\", \"Kuwait\", \"Macao SAR, China\", \"Malaysia\", \"Mongolia\", \"New Zealand\", \"Philippines\", \"Republic of Ireland\", \"Republic of Korea\", \"Romania\", \"Russian Federation\", \"Singapore\", \"South Africa\", \"Spain\", \"Sweden\", \"Switzerland\", \"Taiwan, China\", \"Thailand\", \"United Kingdom\", \"United States\", \"Viet Nam\"], \"marker\": {\"color\": [1, 250, 5327, 1, 1, 7, 10, 1755, 3, 2, 4, 1, 1, 5, 9, 1, 14, 1, 3, 1, 1, 206, 1, 1, 3, 1, 671, 9, 4, 75, 63], \"coloraxis\": \"coloraxis\", \"size\": [1.0, 5.240611947344789, 13.120331527684732, 1.0, 1.0, 1.792789962520997, 1.9952623149688795, 9.403361584977949, 1.3903891703159093, 1.2311444133449163, 1.515716566510398, 1.0, 1.0, 1.6206565966927624, 1.9331820449317627, 1.0, 2.2071833466585673, 1.0, 1.3903891703159093, 1.0, 1.0, 4.944930204597636, 1.0, 1.0, 1.3903891703159093, 1.0, 7.047202581235186, 1.9331820449317627, 1.515716566510398, 3.651895814776621, 3.4657893658794796], \"sizemode\": \"area\", \"sizeref\": 0.03280452281427571}, \"name\": \"\", \"showlegend\": false, \"type\": \"scattergeo\"}], \"name\": \"07/10/2003\"}, {\"data\": [{\"geo\": \"geo\", \"hoverlabel\": {\"namelength\": 0}, \"hovertemplate\": \"<b>%{hovertext}</b><br><br>Date=07/11/2003<br>size=%{marker.size}<br>Country=%{location}<br>Confirmed=%{marker.color}\", \"hovertext\": [\"Brazil\", \"Canada\", \"China\", \"Colombia\", \"Finland\", \"France\", \"Germany\", \"Hong Kong SAR, China\", \"India\", \"Indonesia\", \"Italy\", \"Kuwait\", \"Macao SAR, China\", \"Malaysia\", \"Mongolia\", \"New Zealand\", \"Philippines\", \"Republic of Ireland\", \"Republic of Korea\", \"Romania\", \"Russian Federation\", \"Singapore\", \"South Africa\", \"Spain\", \"Sweden\", \"Switzerland\", \"Taiwan, China\", \"Thailand\", \"United Kingdom\", \"United States\", \"Viet Nam\"], \"legendgroup\": \"\", \"locationmode\": \"country names\", \"locations\": [\"Brazil\", \"Canada\", \"China\", \"Colombia\", \"Finland\", \"France\", \"Germany\", \"Hong Kong SAR, China\", \"India\", \"Indonesia\", \"Italy\", \"Kuwait\", \"Macao SAR, China\", \"Malaysia\", \"Mongolia\", \"New Zealand\", \"Philippines\", \"Republic of Ireland\", \"Republic of Korea\", \"Romania\", \"Russian Federation\", \"Singapore\", \"South Africa\", \"Spain\", \"Sweden\", \"Switzerland\", \"Taiwan, China\", \"Thailand\", \"United Kingdom\", \"United States\", \"Viet Nam\"], \"marker\": {\"color\": [1, 250, 5327, 1, 1, 7, 10, 1755, 3, 2, 4, 1, 1, 5, 9, 1, 14, 1, 3, 1, 1, 206, 1, 1, 3, 1, 671, 9, 4, 75, 63], \"coloraxis\": \"coloraxis\", \"size\": [1.0, 5.240611947344789, 13.120331527684732, 1.0, 1.0, 1.792789962520997, 1.9952623149688795, 9.403361584977949, 1.3903891703159093, 1.2311444133449163, 1.515716566510398, 1.0, 1.0, 1.6206565966927624, 1.9331820449317627, 1.0, 2.2071833466585673, 1.0, 1.3903891703159093, 1.0, 1.0, 4.944930204597636, 1.0, 1.0, 1.3903891703159093, 1.0, 7.047202581235186, 1.9331820449317627, 1.515716566510398, 3.651895814776621, 3.4657893658794796], \"sizemode\": \"area\", \"sizeref\": 0.03280452281427571}, \"name\": \"\", \"showlegend\": false, \"type\": \"scattergeo\"}], \"name\": \"07/11/2003\"}]);\n",
       "                        }).then(function(){\n",
       "                            \n",
       "var gd = document.getElementById('bdec8a48-a248-4b8d-80b6-167d43125bb9');\n",
       "var x = new MutationObserver(function (mutations, observer) {{\n",
       "        var display = window.getComputedStyle(gd).display;\n",
       "        if (!display || display === 'none') {{\n",
       "            console.log([gd, 'removed!']);\n",
       "            Plotly.purge(gd);\n",
       "            observer.disconnect();\n",
       "        }}\n",
       "}});\n",
       "\n",
       "// Listen for the removal of the full notebook cells\n",
       "var notebookContainer = gd.closest('#notebook-container');\n",
       "if (notebookContainer) {{\n",
       "    x.observe(notebookContainer, {childList: true});\n",
       "}}\n",
       "\n",
       "// Listen for the clearing of the current output cell\n",
       "var outputEl = gd.closest('.output');\n",
       "if (outputEl) {{\n",
       "    x.observe(outputEl, {childList: true});\n",
       "}}\n",
       "\n",
       "                        })\n",
       "                };\n",
       "                });\n",
       "            </script>\n",
       "        </div>"
      ]
     },
     "metadata": {},
     "output_type": "display_data"
    }
   ],
   "source": [
    "# spread over time on the map\n",
    "#make size column to represent on the map\n",
    "ani_sarsdf = sarsdf.groupby(['Date', 'Country'])['Confirmed', 'Death'].max().reset_index()\n",
    "ani_sarsdf['Date'] = ani_sarsdf['Date'].dt.strftime('%m/%d/%Y')\n",
    "ani_sarsdf['size'] = ani_sarsdf['Confirmed'].pow(0.3)\n",
    "\n",
    "#map\n",
    "fig = px.scatter_geo(ani_sarsdf, locations = 'Country', locationmode = 'country names', color = 'Confirmed', size = 'size', hover_name = 'Country', \n",
    "                                range_color = [0, 1500], projection = 'natural earth', animation_frame = 'Date', title = 'SARS 2003 : Spread Over Time', \n",
    "                                color_continuous_scale = 'portland')\n",
    "fig.update_layout(transition_duration = 0.0001)\n",
    "fig.show()"
   ]
  },
  {
   "cell_type": "code",
   "execution_count": null,
   "metadata": {},
   "outputs": [],
   "source": []
  }
 ],
 "metadata": {
  "kernelspec": {
   "display_name": "Python 3",
   "language": "python",
   "name": "python3"
  },
  "language_info": {
   "codemirror_mode": {
    "name": "ipython",
    "version": 3
   },
   "file_extension": ".py",
   "mimetype": "text/x-python",
   "name": "python",
   "nbconvert_exporter": "python",
   "pygments_lexer": "ipython3",
   "version": "3.7.3"
  }
 },
 "nbformat": 4,
 "nbformat_minor": 2
}
