{
 "cells": [
  {
   "cell_type": "markdown",
   "metadata": {},
   "source": [
    "<h1> Importing </h1>"
   ]
  },
  {
   "cell_type": "code",
   "execution_count": 68,
   "metadata": {},
   "outputs": [],
   "source": [
    "#import packages\n",
    "import pandas as pd\n",
    "import numpy as np\n",
    "import matplotlib.pyplot as plt\n",
    "import seaborn as sns\n",
    "import plotly.express as px"
   ]
  },
  {
   "cell_type": "code",
   "execution_count": 3,
   "metadata": {},
   "outputs": [],
   "source": [
    "#import dataset\n",
    "df = pd.read_csv(\"sars2003.csv\")"
   ]
  },
  {
   "cell_type": "markdown",
   "metadata": {},
   "source": [
    "<h1> Basic understanding on dataset </h1>"
   ]
  },
  {
   "cell_type": "code",
   "execution_count": 17,
   "metadata": {
    "scrolled": true
   },
   "outputs": [
    {
     "name": "stdout",
     "output_type": "stream",
     "text": [
      "This dataset has 2538 rows and 5 columns\n"
     ]
    }
   ],
   "source": [
    "#rows, columns -> 2538 rows and 5 columns\n",
    "print(f\"This dataset has {df.shape[0]} rows and {df.shape[1]} columns\")"
   ]
  },
  {
   "cell_type": "code",
   "execution_count": 19,
   "metadata": {},
   "outputs": [
    {
     "name": "stdout",
     "output_type": "stream",
     "text": [
      "<class 'pandas.core.frame.DataFrame'>\n",
      "RangeIndex: 2538 entries, 0 to 2537\n",
      "Data columns (total 5 columns):\n",
      "Date                            2538 non-null object\n",
      "Country                         2538 non-null object\n",
      "Cumulative number of case(s)    2538 non-null int64\n",
      "Number of deaths                2538 non-null int64\n",
      "Number recovered                2538 non-null int64\n",
      "dtypes: int64(3), object(2)\n",
      "memory usage: 99.2+ KB\n"
     ]
    }
   ],
   "source": [
    "#any nulls? \n",
    "df.isnull().values.any()\n",
    "#info\n",
    "df.info()"
   ]
  },
  {
   "cell_type": "code",
   "execution_count": 20,
   "metadata": {
    "scrolled": true
   },
   "outputs": [
    {
     "name": "stdout",
     "output_type": "stream",
     "text": [
      "Index(['Date', 'Country', 'Cumulative number of case(s)', 'Number of deaths',\n",
      "       'Number recovered'],\n",
      "      dtype='object')\n",
      "Date                            object\n",
      "Country                         object\n",
      "Cumulative number of case(s)     int64\n",
      "Number of deaths                 int64\n",
      "Number recovered                 int64\n",
      "dtype: object\n"
     ]
    }
   ],
   "source": [
    "#column names\n",
    "print(df.columns)\n",
    "#column types\n",
    "print(df.dtypes)"
   ]
  },
  {
   "cell_type": "code",
   "execution_count": 7,
   "metadata": {
    "scrolled": true
   },
   "outputs": [
    {
     "data": {
      "text/html": [
       "<div>\n",
       "<style scoped>\n",
       "    .dataframe tbody tr th:only-of-type {\n",
       "        vertical-align: middle;\n",
       "    }\n",
       "\n",
       "    .dataframe tbody tr th {\n",
       "        vertical-align: top;\n",
       "    }\n",
       "\n",
       "    .dataframe thead th {\n",
       "        text-align: right;\n",
       "    }\n",
       "</style>\n",
       "<table border=\"1\" class=\"dataframe\">\n",
       "  <thead>\n",
       "    <tr style=\"text-align: right;\">\n",
       "      <th></th>\n",
       "      <th>Date</th>\n",
       "      <th>Country</th>\n",
       "      <th>Cumulative number of case(s)</th>\n",
       "      <th>Number of deaths</th>\n",
       "      <th>Number recovered</th>\n",
       "    </tr>\n",
       "  </thead>\n",
       "  <tbody>\n",
       "    <tr>\n",
       "      <th>0</th>\n",
       "      <td>2003-03-17</td>\n",
       "      <td>Germany</td>\n",
       "      <td>1</td>\n",
       "      <td>0</td>\n",
       "      <td>0</td>\n",
       "    </tr>\n",
       "    <tr>\n",
       "      <th>1</th>\n",
       "      <td>2003-03-17</td>\n",
       "      <td>Canada</td>\n",
       "      <td>8</td>\n",
       "      <td>2</td>\n",
       "      <td>0</td>\n",
       "    </tr>\n",
       "    <tr>\n",
       "      <th>2</th>\n",
       "      <td>2003-03-17</td>\n",
       "      <td>Singapore</td>\n",
       "      <td>20</td>\n",
       "      <td>0</td>\n",
       "      <td>0</td>\n",
       "    </tr>\n",
       "    <tr>\n",
       "      <th>3</th>\n",
       "      <td>2003-03-17</td>\n",
       "      <td>Hong Kong SAR, China</td>\n",
       "      <td>95</td>\n",
       "      <td>1</td>\n",
       "      <td>0</td>\n",
       "    </tr>\n",
       "    <tr>\n",
       "      <th>4</th>\n",
       "      <td>2003-03-17</td>\n",
       "      <td>Switzerland</td>\n",
       "      <td>2</td>\n",
       "      <td>0</td>\n",
       "      <td>0</td>\n",
       "    </tr>\n",
       "    <tr>\n",
       "      <th>5</th>\n",
       "      <td>2003-03-17</td>\n",
       "      <td>Thailand</td>\n",
       "      <td>1</td>\n",
       "      <td>0</td>\n",
       "      <td>0</td>\n",
       "    </tr>\n",
       "    <tr>\n",
       "      <th>6</th>\n",
       "      <td>2003-03-17</td>\n",
       "      <td>Viet Nam</td>\n",
       "      <td>40</td>\n",
       "      <td>1</td>\n",
       "      <td>0</td>\n",
       "    </tr>\n",
       "    <tr>\n",
       "      <th>7</th>\n",
       "      <td>2003-03-18</td>\n",
       "      <td>Germany</td>\n",
       "      <td>2</td>\n",
       "      <td>0</td>\n",
       "      <td>0</td>\n",
       "    </tr>\n",
       "    <tr>\n",
       "      <th>8</th>\n",
       "      <td>2003-03-18</td>\n",
       "      <td>Canada</td>\n",
       "      <td>8</td>\n",
       "      <td>2</td>\n",
       "      <td>0</td>\n",
       "    </tr>\n",
       "    <tr>\n",
       "      <th>9</th>\n",
       "      <td>2003-03-18</td>\n",
       "      <td>China</td>\n",
       "      <td>0</td>\n",
       "      <td>0</td>\n",
       "      <td>0</td>\n",
       "    </tr>\n",
       "  </tbody>\n",
       "</table>\n",
       "</div>"
      ],
      "text/plain": [
       "         Date               Country  Cumulative number of case(s)  \\\n",
       "0  2003-03-17               Germany                             1   \n",
       "1  2003-03-17                Canada                             8   \n",
       "2  2003-03-17             Singapore                            20   \n",
       "3  2003-03-17  Hong Kong SAR, China                            95   \n",
       "4  2003-03-17           Switzerland                             2   \n",
       "5  2003-03-17              Thailand                             1   \n",
       "6  2003-03-17              Viet Nam                            40   \n",
       "7  2003-03-18               Germany                             2   \n",
       "8  2003-03-18                Canada                             8   \n",
       "9  2003-03-18                 China                             0   \n",
       "\n",
       "   Number of deaths  Number recovered  \n",
       "0                 0                 0  \n",
       "1                 2                 0  \n",
       "2                 0                 0  \n",
       "3                 1                 0  \n",
       "4                 0                 0  \n",
       "5                 0                 0  \n",
       "6                 1                 0  \n",
       "7                 0                 0  \n",
       "8                 2                 0  \n",
       "9                 0                 0  "
      ]
     },
     "execution_count": 7,
     "metadata": {},
     "output_type": "execute_result"
    }
   ],
   "source": [
    "#how does it look? \n",
    "df.head(10)"
   ]
  },
  {
   "cell_type": "code",
   "execution_count": 16,
   "metadata": {
    "scrolled": false
   },
   "outputs": [
    {
     "data": {
      "text/html": [
       "<div>\n",
       "<style scoped>\n",
       "    .dataframe tbody tr th:only-of-type {\n",
       "        vertical-align: middle;\n",
       "    }\n",
       "\n",
       "    .dataframe tbody tr th {\n",
       "        vertical-align: top;\n",
       "    }\n",
       "\n",
       "    .dataframe thead th {\n",
       "        text-align: right;\n",
       "    }\n",
       "</style>\n",
       "<table border=\"1\" class=\"dataframe\">\n",
       "  <thead>\n",
       "    <tr style=\"text-align: right;\">\n",
       "      <th></th>\n",
       "      <th>Cumulative number of case(s)</th>\n",
       "      <th>Number of deaths</th>\n",
       "      <th>Number recovered</th>\n",
       "    </tr>\n",
       "  </thead>\n",
       "  <tbody>\n",
       "    <tr>\n",
       "      <th>count</th>\n",
       "      <td>2538.000000</td>\n",
       "      <td>2538.000000</td>\n",
       "      <td>2538.000000</td>\n",
       "    </tr>\n",
       "    <tr>\n",
       "      <th>mean</th>\n",
       "      <td>219.211978</td>\n",
       "      <td>17.812845</td>\n",
       "      <td>134.678487</td>\n",
       "    </tr>\n",
       "    <tr>\n",
       "      <th>std</th>\n",
       "      <td>825.024564</td>\n",
       "      <td>61.425627</td>\n",
       "      <td>581.595350</td>\n",
       "    </tr>\n",
       "    <tr>\n",
       "      <th>min</th>\n",
       "      <td>0.000000</td>\n",
       "      <td>0.000000</td>\n",
       "      <td>0.000000</td>\n",
       "    </tr>\n",
       "    <tr>\n",
       "      <th>25%</th>\n",
       "      <td>1.000000</td>\n",
       "      <td>0.000000</td>\n",
       "      <td>1.000000</td>\n",
       "    </tr>\n",
       "    <tr>\n",
       "      <th>50%</th>\n",
       "      <td>3.000000</td>\n",
       "      <td>0.000000</td>\n",
       "      <td>2.000000</td>\n",
       "    </tr>\n",
       "    <tr>\n",
       "      <th>75%</th>\n",
       "      <td>14.750000</td>\n",
       "      <td>2.000000</td>\n",
       "      <td>9.000000</td>\n",
       "    </tr>\n",
       "    <tr>\n",
       "      <th>max</th>\n",
       "      <td>5329.000000</td>\n",
       "      <td>348.000000</td>\n",
       "      <td>4941.000000</td>\n",
       "    </tr>\n",
       "  </tbody>\n",
       "</table>\n",
       "</div>"
      ],
      "text/plain": [
       "       Cumulative number of case(s)  Number of deaths  Number recovered\n",
       "count                   2538.000000       2538.000000       2538.000000\n",
       "mean                     219.211978         17.812845        134.678487\n",
       "std                      825.024564         61.425627        581.595350\n",
       "min                        0.000000          0.000000          0.000000\n",
       "25%                        1.000000          0.000000          1.000000\n",
       "50%                        3.000000          0.000000          2.000000\n",
       "75%                       14.750000          2.000000          9.000000\n",
       "max                     5329.000000        348.000000       4941.000000"
      ]
     },
     "execution_count": 16,
     "metadata": {},
     "output_type": "execute_result"
    }
   ],
   "source": [
    "#stat summary\n",
    "df.describe()"
   ]
  },
  {
   "cell_type": "code",
   "execution_count": 15,
   "metadata": {
    "scrolled": true
   },
   "outputs": [
    {
     "name": "stdout",
     "output_type": "stream",
     "text": [
      "Earliest day is 2003-03-17\n",
      "Last day is 2003-07-11\n"
     ]
    }
   ],
   "source": [
    "# date ranges\n",
    "print('Earliest day is ' + min(df['Date']))\n",
    "print('Last day is ' + max(df['Date']))"
   ]
  },
  {
   "cell_type": "code",
   "execution_count": 58,
   "metadata": {
    "scrolled": true
   },
   "outputs": [
    {
     "data": {
      "text/plain": [
       "37"
      ]
     },
     "execution_count": 58,
     "metadata": {},
     "output_type": "execute_result"
    }
   ],
   "source": [
    "#how many countries\n",
    "df['Country'].nunique()\n",
    "#or also can use.. \n",
    "df['Country'].value_counts().count()"
   ]
  },
  {
   "cell_type": "code",
   "execution_count": 53,
   "metadata": {},
   "outputs": [
    {
     "data": {
      "text/plain": [
       "China                   96\n",
       "Germany                 96\n",
       "Thailand                96\n",
       "Canada                  96\n",
       "Hong Kong SAR, China    96\n",
       "Singapore               96\n",
       "United Kingdom          95\n",
       "Viet Nam                95\n",
       "Taiwan, China           95\n",
       "Switzerland             94\n",
       "United States           94\n",
       "Italy                   92\n",
       "Republic of Ireland     92\n",
       "France                  90\n",
       "Romania                 87\n",
       "Spain                   86\n",
       "Brazil                  81\n",
       "Malaysia                79\n",
       "Kuwait                  75\n",
       "South Africa            74\n",
       "Sweden                  72\n",
       "Philippines             72\n",
       "Indonesia               72\n",
       "Mongolia                69\n",
       "India                   64\n",
       "Republic of Korea       59\n",
       "Macao SAR, China        58\n",
       "New Zealand             56\n",
       "Colombia                53\n",
       "Finland                 51\n",
       "Russian Federation      31\n",
       "Bulgaria                20\n",
       "Japan                   19\n",
       "Australia               17\n",
       "Poland                  10\n",
       "Belgium                  5\n",
       "Slovenia                 5\n",
       "Name: Country, dtype: int64"
      ]
     },
     "execution_count": 53,
     "metadata": {},
     "output_type": "execute_result"
    }
   ],
   "source": [
    "#countries and how many. \n",
    "df['Country'].value_counts()"
   ]
  },
  {
   "cell_type": "code",
   "execution_count": 63,
   "metadata": {
    "scrolled": false
   },
   "outputs": [
    {
     "data": {
      "text/html": [
       "<div>\n",
       "<style scoped>\n",
       "    .dataframe tbody tr th:only-of-type {\n",
       "        vertical-align: middle;\n",
       "    }\n",
       "\n",
       "    .dataframe tbody tr th {\n",
       "        vertical-align: top;\n",
       "    }\n",
       "\n",
       "    .dataframe thead th {\n",
       "        text-align: right;\n",
       "    }\n",
       "</style>\n",
       "<table border=\"1\" class=\"dataframe\">\n",
       "  <thead>\n",
       "    <tr style=\"text-align: right;\">\n",
       "      <th></th>\n",
       "      <th>Date</th>\n",
       "      <th>Country</th>\n",
       "      <th>Cumulative number of case(s)</th>\n",
       "      <th>Number of deaths</th>\n",
       "      <th>Number recovered</th>\n",
       "    </tr>\n",
       "    <tr>\n",
       "      <th>Country</th>\n",
       "      <th></th>\n",
       "      <th></th>\n",
       "      <th></th>\n",
       "      <th></th>\n",
       "      <th></th>\n",
       "    </tr>\n",
       "  </thead>\n",
       "  <tbody>\n",
       "    <tr>\n",
       "      <th>Australia</th>\n",
       "      <td>17</td>\n",
       "      <td>1</td>\n",
       "      <td>5</td>\n",
       "      <td>1</td>\n",
       "      <td>4</td>\n",
       "    </tr>\n",
       "    <tr>\n",
       "      <th>Belgium</th>\n",
       "      <td>5</td>\n",
       "      <td>1</td>\n",
       "      <td>1</td>\n",
       "      <td>1</td>\n",
       "      <td>1</td>\n",
       "    </tr>\n",
       "    <tr>\n",
       "      <th>Brazil</th>\n",
       "      <td>81</td>\n",
       "      <td>1</td>\n",
       "      <td>3</td>\n",
       "      <td>1</td>\n",
       "      <td>3</td>\n",
       "    </tr>\n",
       "    <tr>\n",
       "      <th>Bulgaria</th>\n",
       "      <td>20</td>\n",
       "      <td>1</td>\n",
       "      <td>1</td>\n",
       "      <td>1</td>\n",
       "      <td>1</td>\n",
       "    </tr>\n",
       "    <tr>\n",
       "      <th>Canada</th>\n",
       "      <td>96</td>\n",
       "      <td>1</td>\n",
       "      <td>52</td>\n",
       "      <td>24</td>\n",
       "      <td>48</td>\n",
       "    </tr>\n",
       "    <tr>\n",
       "      <th>China</th>\n",
       "      <td>95</td>\n",
       "      <td>1</td>\n",
       "      <td>53</td>\n",
       "      <td>55</td>\n",
       "      <td>69</td>\n",
       "    </tr>\n",
       "    <tr>\n",
       "      <th>Colombia</th>\n",
       "      <td>53</td>\n",
       "      <td>1</td>\n",
       "      <td>1</td>\n",
       "      <td>1</td>\n",
       "      <td>1</td>\n",
       "    </tr>\n",
       "    <tr>\n",
       "      <th>Finland</th>\n",
       "      <td>51</td>\n",
       "      <td>1</td>\n",
       "      <td>1</td>\n",
       "      <td>1</td>\n",
       "      <td>2</td>\n",
       "    </tr>\n",
       "    <tr>\n",
       "      <th>France</th>\n",
       "      <td>90</td>\n",
       "      <td>1</td>\n",
       "      <td>6</td>\n",
       "      <td>2</td>\n",
       "      <td>4</td>\n",
       "    </tr>\n",
       "    <tr>\n",
       "      <th>Germany</th>\n",
       "      <td>96</td>\n",
       "      <td>1</td>\n",
       "      <td>9</td>\n",
       "      <td>1</td>\n",
       "      <td>6</td>\n",
       "    </tr>\n",
       "    <tr>\n",
       "      <th>Hong Kong SAR, China</th>\n",
       "      <td>96</td>\n",
       "      <td>1</td>\n",
       "      <td>71</td>\n",
       "      <td>68</td>\n",
       "      <td>67</td>\n",
       "    </tr>\n",
       "    <tr>\n",
       "      <th>India</th>\n",
       "      <td>64</td>\n",
       "      <td>1</td>\n",
       "      <td>2</td>\n",
       "      <td>1</td>\n",
       "      <td>3</td>\n",
       "    </tr>\n",
       "    <tr>\n",
       "      <th>Indonesia</th>\n",
       "      <td>72</td>\n",
       "      <td>1</td>\n",
       "      <td>2</td>\n",
       "      <td>1</td>\n",
       "      <td>3</td>\n",
       "    </tr>\n",
       "    <tr>\n",
       "      <th>Italy</th>\n",
       "      <td>92</td>\n",
       "      <td>1</td>\n",
       "      <td>7</td>\n",
       "      <td>1</td>\n",
       "      <td>9</td>\n",
       "    </tr>\n",
       "    <tr>\n",
       "      <th>Japan</th>\n",
       "      <td>19</td>\n",
       "      <td>1</td>\n",
       "      <td>4</td>\n",
       "      <td>1</td>\n",
       "      <td>1</td>\n",
       "    </tr>\n",
       "    <tr>\n",
       "      <th>Kuwait</th>\n",
       "      <td>75</td>\n",
       "      <td>1</td>\n",
       "      <td>1</td>\n",
       "      <td>1</td>\n",
       "      <td>2</td>\n",
       "    </tr>\n",
       "    <tr>\n",
       "      <th>Macao SAR, China</th>\n",
       "      <td>58</td>\n",
       "      <td>1</td>\n",
       "      <td>2</td>\n",
       "      <td>1</td>\n",
       "      <td>2</td>\n",
       "    </tr>\n",
       "    <tr>\n",
       "      <th>Malaysia</th>\n",
       "      <td>79</td>\n",
       "      <td>1</td>\n",
       "      <td>7</td>\n",
       "      <td>2</td>\n",
       "      <td>5</td>\n",
       "    </tr>\n",
       "    <tr>\n",
       "      <th>Mongolia</th>\n",
       "      <td>69</td>\n",
       "      <td>1</td>\n",
       "      <td>5</td>\n",
       "      <td>1</td>\n",
       "      <td>6</td>\n",
       "    </tr>\n",
       "    <tr>\n",
       "      <th>New Zealand</th>\n",
       "      <td>56</td>\n",
       "      <td>1</td>\n",
       "      <td>1</td>\n",
       "      <td>1</td>\n",
       "      <td>1</td>\n",
       "    </tr>\n",
       "    <tr>\n",
       "      <th>Philippines</th>\n",
       "      <td>72</td>\n",
       "      <td>1</td>\n",
       "      <td>7</td>\n",
       "      <td>3</td>\n",
       "      <td>7</td>\n",
       "    </tr>\n",
       "    <tr>\n",
       "      <th>Poland</th>\n",
       "      <td>10</td>\n",
       "      <td>1</td>\n",
       "      <td>1</td>\n",
       "      <td>1</td>\n",
       "      <td>1</td>\n",
       "    </tr>\n",
       "    <tr>\n",
       "      <th>Republic of Ireland</th>\n",
       "      <td>92</td>\n",
       "      <td>1</td>\n",
       "      <td>2</td>\n",
       "      <td>1</td>\n",
       "      <td>2</td>\n",
       "    </tr>\n",
       "    <tr>\n",
       "      <th>Republic of Korea</th>\n",
       "      <td>59</td>\n",
       "      <td>1</td>\n",
       "      <td>3</td>\n",
       "      <td>1</td>\n",
       "      <td>4</td>\n",
       "    </tr>\n",
       "    <tr>\n",
       "      <th>Romania</th>\n",
       "      <td>87</td>\n",
       "      <td>1</td>\n",
       "      <td>2</td>\n",
       "      <td>1</td>\n",
       "      <td>2</td>\n",
       "    </tr>\n",
       "    <tr>\n",
       "      <th>Russian Federation</th>\n",
       "      <td>31</td>\n",
       "      <td>1</td>\n",
       "      <td>1</td>\n",
       "      <td>1</td>\n",
       "      <td>1</td>\n",
       "    </tr>\n",
       "    <tr>\n",
       "      <th>Singapore</th>\n",
       "      <td>96</td>\n",
       "      <td>1</td>\n",
       "      <td>40</td>\n",
       "      <td>25</td>\n",
       "      <td>33</td>\n",
       "    </tr>\n",
       "    <tr>\n",
       "      <th>Slovenia</th>\n",
       "      <td>5</td>\n",
       "      <td>1</td>\n",
       "      <td>1</td>\n",
       "      <td>1</td>\n",
       "      <td>1</td>\n",
       "    </tr>\n",
       "    <tr>\n",
       "      <th>South Africa</th>\n",
       "      <td>74</td>\n",
       "      <td>1</td>\n",
       "      <td>1</td>\n",
       "      <td>2</td>\n",
       "      <td>2</td>\n",
       "    </tr>\n",
       "    <tr>\n",
       "      <th>Spain</th>\n",
       "      <td>86</td>\n",
       "      <td>1</td>\n",
       "      <td>1</td>\n",
       "      <td>1</td>\n",
       "      <td>2</td>\n",
       "    </tr>\n",
       "    <tr>\n",
       "      <th>Sweden</th>\n",
       "      <td>72</td>\n",
       "      <td>1</td>\n",
       "      <td>2</td>\n",
       "      <td>1</td>\n",
       "      <td>3</td>\n",
       "    </tr>\n",
       "    <tr>\n",
       "      <th>Switzerland</th>\n",
       "      <td>94</td>\n",
       "      <td>1</td>\n",
       "      <td>4</td>\n",
       "      <td>1</td>\n",
       "      <td>2</td>\n",
       "    </tr>\n",
       "    <tr>\n",
       "      <th>Taiwan, China</th>\n",
       "      <td>95</td>\n",
       "      <td>1</td>\n",
       "      <td>58</td>\n",
       "      <td>20</td>\n",
       "      <td>44</td>\n",
       "    </tr>\n",
       "    <tr>\n",
       "      <th>Thailand</th>\n",
       "      <td>96</td>\n",
       "      <td>1</td>\n",
       "      <td>8</td>\n",
       "      <td>3</td>\n",
       "      <td>4</td>\n",
       "    </tr>\n",
       "    <tr>\n",
       "      <th>United Kingdom</th>\n",
       "      <td>95</td>\n",
       "      <td>1</td>\n",
       "      <td>6</td>\n",
       "      <td>1</td>\n",
       "      <td>5</td>\n",
       "    </tr>\n",
       "    <tr>\n",
       "      <th>United States</th>\n",
       "      <td>94</td>\n",
       "      <td>1</td>\n",
       "      <td>40</td>\n",
       "      <td>1</td>\n",
       "      <td>13</td>\n",
       "    </tr>\n",
       "    <tr>\n",
       "      <th>Viet Nam</th>\n",
       "      <td>95</td>\n",
       "      <td>1</td>\n",
       "      <td>7</td>\n",
       "      <td>4</td>\n",
       "      <td>7</td>\n",
       "    </tr>\n",
       "  </tbody>\n",
       "</table>\n",
       "</div>"
      ],
      "text/plain": [
       "                      Date  Country  Cumulative number of case(s)  \\\n",
       "Country                                                             \n",
       "Australia               17        1                             5   \n",
       "Belgium                  5        1                             1   \n",
       "Brazil                  81        1                             3   \n",
       "Bulgaria                20        1                             1   \n",
       "Canada                  96        1                            52   \n",
       "China                   95        1                            53   \n",
       "Colombia                53        1                             1   \n",
       "Finland                 51        1                             1   \n",
       "France                  90        1                             6   \n",
       "Germany                 96        1                             9   \n",
       "Hong Kong SAR, China    96        1                            71   \n",
       "India                   64        1                             2   \n",
       "Indonesia               72        1                             2   \n",
       "Italy                   92        1                             7   \n",
       "Japan                   19        1                             4   \n",
       "Kuwait                  75        1                             1   \n",
       "Macao SAR, China        58        1                             2   \n",
       "Malaysia                79        1                             7   \n",
       "Mongolia                69        1                             5   \n",
       "New Zealand             56        1                             1   \n",
       "Philippines             72        1                             7   \n",
       "Poland                  10        1                             1   \n",
       "Republic of Ireland     92        1                             2   \n",
       "Republic of Korea       59        1                             3   \n",
       "Romania                 87        1                             2   \n",
       "Russian Federation      31        1                             1   \n",
       "Singapore               96        1                            40   \n",
       "Slovenia                 5        1                             1   \n",
       "South Africa            74        1                             1   \n",
       "Spain                   86        1                             1   \n",
       "Sweden                  72        1                             2   \n",
       "Switzerland             94        1                             4   \n",
       "Taiwan, China           95        1                            58   \n",
       "Thailand                96        1                             8   \n",
       "United Kingdom          95        1                             6   \n",
       "United States           94        1                            40   \n",
       "Viet Nam                95        1                             7   \n",
       "\n",
       "                      Number of deaths  Number recovered  \n",
       "Country                                                   \n",
       "Australia                            1                 4  \n",
       "Belgium                              1                 1  \n",
       "Brazil                               1                 3  \n",
       "Bulgaria                             1                 1  \n",
       "Canada                              24                48  \n",
       "China                               55                69  \n",
       "Colombia                             1                 1  \n",
       "Finland                              1                 2  \n",
       "France                               2                 4  \n",
       "Germany                              1                 6  \n",
       "Hong Kong SAR, China                68                67  \n",
       "India                                1                 3  \n",
       "Indonesia                            1                 3  \n",
       "Italy                                1                 9  \n",
       "Japan                                1                 1  \n",
       "Kuwait                               1                 2  \n",
       "Macao SAR, China                     1                 2  \n",
       "Malaysia                             2                 5  \n",
       "Mongolia                             1                 6  \n",
       "New Zealand                          1                 1  \n",
       "Philippines                          3                 7  \n",
       "Poland                               1                 1  \n",
       "Republic of Ireland                  1                 2  \n",
       "Republic of Korea                    1                 4  \n",
       "Romania                              1                 2  \n",
       "Russian Federation                   1                 1  \n",
       "Singapore                           25                33  \n",
       "Slovenia                             1                 1  \n",
       "South Africa                         2                 2  \n",
       "Spain                                1                 2  \n",
       "Sweden                               1                 3  \n",
       "Switzerland                          1                 2  \n",
       "Taiwan, China                       20                44  \n",
       "Thailand                             3                 4  \n",
       "United Kingdom                       1                 5  \n",
       "United States                        1                13  \n",
       "Viet Nam                             4                 7  "
      ]
     },
     "execution_count": 63,
     "metadata": {},
     "output_type": "execute_result"
    }
   ],
   "source": [
    "#by countries, stat\n",
    "df.groupby('Country').nunique()"
   ]
  },
  {
   "cell_type": "markdown",
   "metadata": {},
   "source": [
    "<h1> Cleaning </h1>"
   ]
  },
  {
   "cell_type": "code",
   "execution_count": 31,
   "metadata": {},
   "outputs": [],
   "source": [
    "#copy the df so I don't have the change to original dataset\n",
    "sarsdf = df.copy()"
   ]
  },
  {
   "cell_type": "code",
   "execution_count": 33,
   "metadata": {
    "scrolled": true
   },
   "outputs": [
    {
     "data": {
      "text/plain": [
       "Date                            datetime64[ns]\n",
       "Country                                 object\n",
       "Cumulative number of case(s)             int64\n",
       "Number of deaths                         int64\n",
       "Number recovered                         int64\n",
       "dtype: object"
      ]
     },
     "execution_count": 33,
     "metadata": {},
     "output_type": "execute_result"
    }
   ],
   "source": [
    "#change the data type for date\n",
    "sarsdf['Date'] = pd.to_datetime(sarsdf['Date'])\n",
    "#check \n",
    "sarsdf.dtypes"
   ]
  },
  {
   "cell_type": "code",
   "execution_count": 34,
   "metadata": {},
   "outputs": [
    {
     "data": {
      "text/plain": [
       "Index(['Date', 'Country', 'Confirmed', 'Death', 'Recovered'], dtype='object')"
      ]
     },
     "execution_count": 34,
     "metadata": {},
     "output_type": "execute_result"
    }
   ],
   "source": [
    "#rename some column names\n",
    "sarsdf = sarsdf.rename(columns = {\n",
    "                                                        'Cumulative number of case(s)' : 'Confirmed',\n",
    "                                                        'Number of deaths' : 'Death',\n",
    "                                                        'Number recovered' : 'Recovered'\n",
    "                                                        })\n",
    "#check\n",
    "sarsdf.columns"
   ]
  },
  {
   "cell_type": "markdown",
   "metadata": {},
   "source": [
    "<h1> Visualization </h1>"
   ]
  },
  {
   "cell_type": "code",
   "execution_count": 67,
   "metadata": {},
   "outputs": [
    {
     "data": {
      "image/png": "[encoded data removed]",
      "text/plain": [
       "<Figure size 1440x1080 with 1 Axes>"
      ]
     },
     "metadata": {
      "needs_background": "light"
     },
     "output_type": "display_data"
    }
   ],
   "source": [
    "#bar graph\n",
    "ax = sarsdf.groupby(['Country']).sum().sort_values(\"Confirmed\").plot.barh(figsize=(20,15), width = 0.85)"
   ]
  },
  {
   "cell_type": "code",
   "execution_count": 79,
   "metadata": {},
   "outputs": [],
   "source": [
    "#over time for confirmed, death and recovered cases worldwide\n",
    "by_date = sarsdf.groupby('Date')['Confirmed', 'Death', 'Recovered'].sum().reset_index()\n",
    "#by_date"
   ]
  },
  {
   "cell_type": "code",
   "execution_count": 80,
   "metadata": {},
   "outputs": [],
   "source": [
    "#melt it \n",
    "melt_by_date = by_date.melt(id_vars ='Date', value_vars=['Confirmed', 'Death', 'Recovered'])\n",
    "#melt_by_date"
   ]
  },
  {
   "cell_type": "code",
   "execution_count": 81,
   "metadata": {},
   "outputs": [
    {
     "data": {
      "application/vnd.plotly.v1+json": {
       "config": {
        "plotlyServerURL": "https://plot.ly"
       },
       "data": [
        {
         "hoverlabel": {
          "namelength": 0
         },
         "hovertemplate": "variable=Confirmed<br>Date=%{x}<br>value=%{y}",
         "legendgroup": "variable=Confirmed",
         "line": {
          "color": "#636efa",
          "dash": "solid"
         },
         "mode": "lines",
         "name": "variable=Confirmed",
         "showlegend": true,
         "type": "scatter",
         "x": [
          "2003-03-17T00:00:00",
          "2003-03-18T00:00:00",
          "2003-03-19T00:00:00",
          "2003-03-20T00:00:00",
          "2003-03-21T00:00:00",
          "2003-03-22T00:00:00",
          "2003-03-24T00:00:00",
          "2003-03-25T00:00:00",
          "2003-03-26T00:00:00",
          "2003-03-27T00:00:00",
          "2003-03-28T00:00:00",
          "2003-03-29T00:00:00",
          "2003-03-31T00:00:00",
          "2003-04-01T00:00:00",
          "2003-04-02T00:00:00",
          "2003-04-03T00:00:00",
          "2003-04-04T00:00:00",
          "2003-04-05T00:00:00",
          "2003-04-07T00:00:00",
          "2003-04-08T00:00:00",
          "2003-04-09T00:00:00",
          "2003-04-10T00:00:00",
          "2003-04-11T00:00:00",
          "2003-04-12T00:00:00",
          "2003-04-14T00:00:00",
          "2003-04-15T00:00:00",
          "2003-04-16T00:00:00",
          "2003-04-17T00:00:00",
          "2003-04-18T00:00:00",
          "2003-04-19T00:00:00",
          "2003-04-21T00:00:00",
          "2003-04-22T00:00:00",
          "2003-04-23T00:00:00",
          "2003-04-24T00:00:00",
          "2003-04-25T00:00:00",
          "2003-04-26T00:00:00",
          "2003-04-28T00:00:00",
          "2003-04-29T00:00:00",
          "2003-04-30T00:00:00",
          "2003-05-01T00:00:00",
          "2003-05-02T00:00:00",
          "2003-05-03T00:00:00",
          "2003-05-05T00:00:00",
          "2003-05-06T00:00:00",
          "2003-05-07T00:00:00",
          "2003-05-08T00:00:00",
          "2003-05-09T00:00:00",
          "2003-05-10T00:00:00",
          "2003-05-12T00:00:00",
          "2003-05-13T00:00:00",
          "2003-05-14T00:00:00",
          "2003-05-15T00:00:00",
          "2003-05-16T00:00:00",
          "2003-05-17T00:00:00",
          "2003-05-19T00:00:00",
          "2003-05-20T00:00:00",
          "2003-05-21T00:00:00",
          "2003-05-22T00:00:00",
          "2003-05-23T00:00:00",
          "2003-05-24T00:00:00",
          "2003-05-26T00:00:00",
          "2003-05-27T00:00:00",
          "2003-05-28T00:00:00",
          "2003-05-29T00:00:00",
          "2003-05-30T00:00:00",
          "2003-05-31T00:00:00",
          "2003-06-02T00:00:00",
          "2003-06-03T00:00:00",
          "2003-06-04T00:00:00",
          "2003-06-05T00:00:00",
          "2003-06-06T00:00:00",
          "2003-06-09T00:00:00",
          "2003-06-10T00:00:00",
          "2003-06-11T00:00:00",
          "2003-06-12T00:00:00",
          "2003-06-13T00:00:00",
          "2003-06-16T00:00:00",
          "2003-06-17T00:00:00",
          "2003-06-18T00:00:00",
          "2003-06-19T00:00:00",
          "2003-06-20T00:00:00",
          "2003-06-23T00:00:00",
          "2003-06-24T00:00:00",
          "2003-06-25T00:00:00",
          "2003-06-26T00:00:00",
          "2003-06-27T00:00:00",
          "2003-06-30T00:00:00",
          "2003-07-01T00:00:00",
          "2003-07-02T00:00:00",
          "2003-07-03T00:00:00",
          "2003-07-04T00:00:00",
          "2003-07-07T00:00:00",
          "2003-07-08T00:00:00",
          "2003-07-09T00:00:00",
          "2003-07-10T00:00:00",
          "2003-07-11T00:00:00"
         ],
         "xaxis": "x",
         "y": [
          167,
          219,
          264,
          306,
          350,
          386,
          456,
          487,
          1323,
          1408,
          1485,
          1550,
          1622,
          1804,
          2223,
          2270,
          2353,
          2416,
          2601,
          2671,
          2722,
          2781,
          2890,
          2960,
          3169,
          3235,
          3293,
          3389,
          3547,
          3547,
          3861,
          3947,
          4288,
          4435,
          4645,
          4832,
          5046,
          5458,
          5659,
          5861,
          6050,
          6230,
          6579,
          6723,
          6899,
          7049,
          7179,
          7292,
          7441,
          7542,
          7622,
          7693,
          7733,
          7755,
          7858,
          7913,
          7950,
          8046,
          8111,
          8135,
          8196,
          8215,
          8240,
          8295,
          8311,
          8354,
          8379,
          8393,
          8397,
          8398,
          8399,
          8416,
          8425,
          8430,
          8440,
          8449,
          8455,
          8459,
          8460,
          8457,
          8456,
          8454,
          8453,
          8455,
          8451,
          8445,
          8447,
          8440,
          8437,
          8434,
          8434,
          8434,
          8431,
          8431,
          8432,
          8432
         ],
         "yaxis": "y"
        },
        {
         "hoverlabel": {
          "namelength": 0
         },
         "hovertemplate": "variable=Death<br>Date=%{x}<br>value=%{y}",
         "legendgroup": "variable=Death",
         "line": {
          "color": "#EF553B",
          "dash": "solid"
         },
         "mode": "lines",
         "name": "variable=Death",
         "showlegend": true,
         "type": "scatter",
         "x": [
          "2003-03-17T00:00:00",
          "2003-03-18T00:00:00",
          "2003-03-19T00:00:00",
          "2003-03-20T00:00:00",
          "2003-03-21T00:00:00",
          "2003-03-22T00:00:00",
          "2003-03-24T00:00:00",
          "2003-03-25T00:00:00",
          "2003-03-26T00:00:00",
          "2003-03-27T00:00:00",
          "2003-03-28T00:00:00",
          "2003-03-29T00:00:00",
          "2003-03-31T00:00:00",
          "2003-04-01T00:00:00",
          "2003-04-02T00:00:00",
          "2003-04-03T00:00:00",
          "2003-04-04T00:00:00",
          "2003-04-05T00:00:00",
          "2003-04-07T00:00:00",
          "2003-04-08T00:00:00",
          "2003-04-09T00:00:00",
          "2003-04-10T00:00:00",
          "2003-04-11T00:00:00",
          "2003-04-12T00:00:00",
          "2003-04-14T00:00:00",
          "2003-04-15T00:00:00",
          "2003-04-16T00:00:00",
          "2003-04-17T00:00:00",
          "2003-04-18T00:00:00",
          "2003-04-19T00:00:00",
          "2003-04-21T00:00:00",
          "2003-04-22T00:00:00",
          "2003-04-23T00:00:00",
          "2003-04-24T00:00:00",
          "2003-04-25T00:00:00",
          "2003-04-26T00:00:00",
          "2003-04-28T00:00:00",
          "2003-04-29T00:00:00",
          "2003-04-30T00:00:00",
          "2003-05-01T00:00:00",
          "2003-05-02T00:00:00",
          "2003-05-03T00:00:00",
          "2003-05-05T00:00:00",
          "2003-05-06T00:00:00",
          "2003-05-07T00:00:00",
          "2003-05-08T00:00:00",
          "2003-05-09T00:00:00",
          "2003-05-10T00:00:00",
          "2003-05-12T00:00:00",
          "2003-05-13T00:00:00",
          "2003-05-14T00:00:00",
          "2003-05-15T00:00:00",
          "2003-05-16T00:00:00",
          "2003-05-17T00:00:00",
          "2003-05-19T00:00:00",
          "2003-05-20T00:00:00",
          "2003-05-21T00:00:00",
          "2003-05-22T00:00:00",
          "2003-05-23T00:00:00",
          "2003-05-24T00:00:00",
          "2003-05-26T00:00:00",
          "2003-05-27T00:00:00",
          "2003-05-28T00:00:00",
          "2003-05-29T00:00:00",
          "2003-05-30T00:00:00",
          "2003-05-31T00:00:00",
          "2003-06-02T00:00:00",
          "2003-06-03T00:00:00",
          "2003-06-04T00:00:00",
          "2003-06-05T00:00:00",
          "2003-06-06T00:00:00",
          "2003-06-09T00:00:00",
          "2003-06-10T00:00:00",
          "2003-06-11T00:00:00",
          "2003-06-12T00:00:00",
          "2003-06-13T00:00:00",
          "2003-06-16T00:00:00",
          "2003-06-17T00:00:00",
          "2003-06-18T00:00:00",
          "2003-06-19T00:00:00",
          "2003-06-20T00:00:00",
          "2003-06-23T00:00:00",
          "2003-06-24T00:00:00",
          "2003-06-25T00:00:00",
          "2003-06-26T00:00:00",
          "2003-06-27T00:00:00",
          "2003-06-30T00:00:00",
          "2003-07-01T00:00:00",
          "2003-07-02T00:00:00",
          "2003-07-03T00:00:00",
          "2003-07-04T00:00:00",
          "2003-07-07T00:00:00",
          "2003-07-08T00:00:00",
          "2003-07-09T00:00:00",
          "2003-07-10T00:00:00",
          "2003-07-11T00:00:00"
         ],
         "xaxis": "x",
         "y": [
          4,
          4,
          9,
          10,
          10,
          11,
          17,
          17,
          49,
          53,
          53,
          54,
          58,
          62,
          78,
          79,
          84,
          89,
          98,
          103,
          106,
          111,
          116,
          119,
          144,
          154,
          159,
          165,
          182,
          182,
          217,
          229,
          251,
          263,
          274,
          293,
          321,
          353,
          372,
          391,
          417,
          435,
          461,
          478,
          495,
          506,
          514,
          526,
          552,
          573,
          587,
          598,
          611,
          623,
          643,
          662,
          666,
          682,
          689,
          696,
          725,
          735,
          745,
          750,
          754,
          764,
          770,
          772,
          772,
          775,
          779,
          784,
          789,
          789,
          790,
          792,
          799,
          799,
          801,
          804,
          804,
          805,
          807,
          808,
          809,
          810,
          811,
          812,
          812,
          812,
          812,
          812,
          812,
          812,
          812,
          813
         ],
         "yaxis": "y"
        },
        {
         "hoverlabel": {
          "namelength": 0
         },
         "hovertemplate": "variable=Recovered<br>Date=%{x}<br>value=%{y}",
         "legendgroup": "variable=Recovered",
         "line": {
          "color": "#00cc96",
          "dash": "solid"
         },
         "mode": "lines",
         "name": "variable=Recovered",
         "showlegend": true,
         "type": "scatter",
         "x": [
          "2003-03-17T00:00:00",
          "2003-03-18T00:00:00",
          "2003-03-19T00:00:00",
          "2003-03-20T00:00:00",
          "2003-03-21T00:00:00",
          "2003-03-22T00:00:00",
          "2003-03-24T00:00:00",
          "2003-03-25T00:00:00",
          "2003-03-26T00:00:00",
          "2003-03-27T00:00:00",
          "2003-03-28T00:00:00",
          "2003-03-29T00:00:00",
          "2003-03-31T00:00:00",
          "2003-04-01T00:00:00",
          "2003-04-02T00:00:00",
          "2003-04-03T00:00:00",
          "2003-04-04T00:00:00",
          "2003-04-05T00:00:00",
          "2003-04-07T00:00:00",
          "2003-04-08T00:00:00",
          "2003-04-09T00:00:00",
          "2003-04-10T00:00:00",
          "2003-04-11T00:00:00",
          "2003-04-12T00:00:00",
          "2003-04-14T00:00:00",
          "2003-04-15T00:00:00",
          "2003-04-16T00:00:00",
          "2003-04-17T00:00:00",
          "2003-04-18T00:00:00",
          "2003-04-19T00:00:00",
          "2003-04-21T00:00:00",
          "2003-04-22T00:00:00",
          "2003-04-23T00:00:00",
          "2003-04-24T00:00:00",
          "2003-04-25T00:00:00",
          "2003-04-26T00:00:00",
          "2003-04-28T00:00:00",
          "2003-04-29T00:00:00",
          "2003-04-30T00:00:00",
          "2003-05-01T00:00:00",
          "2003-05-02T00:00:00",
          "2003-05-03T00:00:00",
          "2003-05-05T00:00:00",
          "2003-05-06T00:00:00",
          "2003-05-07T00:00:00",
          "2003-05-08T00:00:00",
          "2003-05-09T00:00:00",
          "2003-05-10T00:00:00",
          "2003-05-12T00:00:00",
          "2003-05-13T00:00:00",
          "2003-05-14T00:00:00",
          "2003-05-15T00:00:00",
          "2003-05-16T00:00:00",
          "2003-05-17T00:00:00",
          "2003-05-19T00:00:00",
          "2003-05-20T00:00:00",
          "2003-05-21T00:00:00",
          "2003-05-22T00:00:00",
          "2003-05-23T00:00:00",
          "2003-05-24T00:00:00",
          "2003-05-26T00:00:00",
          "2003-05-27T00:00:00",
          "2003-05-28T00:00:00",
          "2003-05-29T00:00:00",
          "2003-05-30T00:00:00",
          "2003-05-31T00:00:00",
          "2003-06-02T00:00:00",
          "2003-06-03T00:00:00",
          "2003-06-04T00:00:00",
          "2003-06-05T00:00:00",
          "2003-06-06T00:00:00",
          "2003-06-09T00:00:00",
          "2003-06-10T00:00:00",
          "2003-06-11T00:00:00",
          "2003-06-12T00:00:00",
          "2003-06-13T00:00:00",
          "2003-06-16T00:00:00",
          "2003-06-17T00:00:00",
          "2003-06-18T00:00:00",
          "2003-06-19T00:00:00",
          "2003-06-20T00:00:00",
          "2003-06-23T00:00:00",
          "2003-06-24T00:00:00",
          "2003-06-25T00:00:00",
          "2003-06-26T00:00:00",
          "2003-06-27T00:00:00",
          "2003-06-30T00:00:00",
          "2003-07-01T00:00:00",
          "2003-07-02T00:00:00",
          "2003-07-03T00:00:00",
          "2003-07-04T00:00:00",
          "2003-07-07T00:00:00",
          "2003-07-08T00:00:00",
          "2003-07-09T00:00:00",
          "2003-07-10T00:00:00",
          "2003-07-11T00:00:00"
         ],
         "xaxis": "x",
         "y": [
          0,
          0,
          0,
          0,
          0,
          0,
          0,
          0,
          0,
          0,
          0,
          0,
          0,
          0,
          0,
          0,
          0,
          0,
          0,
          0,
          0,
          1337,
          1373,
          1425,
          1499,
          1515,
          1548,
          1597,
          1749,
          1749,
          1873,
          1935,
          2032,
          2114,
          2203,
          2236,
          2339,
          2424,
          2467,
          2559,
          2639,
          2698,
          2760,
          2822,
          2881,
          2955,
          3019,
          3083,
          3189,
          3292,
          3391,
          3478,
          3584,
          3668,
          3841,
          3978,
          4079,
          4210,
          4320,
          4462,
          4656,
          4781,
          4891,
          4994,
          5123,
          5258,
          5397,
          5470,
          5741,
          5825,
          5932,
          6275,
          6452,
          6576,
          6665,
          6788,
          6984,
          7086,
          7143,
          7173,
          7213,
          7319,
          7343,
          7360,
          7366,
          7396,
          7417,
          7417,
          7419,
          7422,
          7426,
          7426,
          7428,
          7438,
          7444,
          7447
         ],
         "yaxis": "y"
        }
       ],
       "layout": {
        "height": 600,
        "legend": {
         "tracegroupgap": 0
        },
        "template": {
         "data": {
          "bar": [
           {
            "error_x": {
             "color": "#2a3f5f"
            },
            "error_y": {
             "color": "#2a3f5f"
            },
            "marker": {
             "line": {
              "color": "#E5ECF6",
              "width": 0.5
             }
            },
            "type": "bar"
           }
          ],
          "barpolar": [
           {
            "marker": {
             "line": {
              "color": "#E5ECF6",
              "width": 0.5
             }
            },
            "type": "barpolar"
           }
          ],
          "carpet": [
           {
            "aaxis": {
             "endlinecolor": "#2a3f5f",
             "gridcolor": "white",
             "linecolor": "white",
             "minorgridcolor": "white",
             "startlinecolor": "#2a3f5f"
            },
            "baxis": {
             "endlinecolor": "#2a3f5f",
             "gridcolor": "white",
             "linecolor": "white",
             "minorgridcolor": "white",
             "startlinecolor": "#2a3f5f"
            },
            "type": "carpet"
           }
          ],
          "choropleth": [
           {
            "colorbar": {
             "outlinewidth": 0,
             "ticks": ""
            },
            "type": "choropleth"
           }
          ],
          "contour": [
           {
            "colorbar": {
             "outlinewidth": 0,
             "ticks": ""
            },
            "colorscale": [
             [
              0,
              "#0d0887"
             ],
             [
              0.1111111111111111,
              "#46039f"
             ],
             [
              0.2222222222222222,
              "#7201a8"
             ],
             [
              0.3333333333333333,
              "#9c179e"
             ],
             [
              0.4444444444444444,
              "#bd3786"
             ],
             [
              0.5555555555555556,
              "#d8576b"
             ],
             [
              0.6666666666666666,
              "#ed7953"
             ],
             [
              0.7777777777777778,
              "#fb9f3a"
             ],
             [
              0.8888888888888888,
              "#fdca26"
             ],
             [
              1,
              "#f0f921"
             ]
            ],
            "type": "contour"
           }
          ],
          "contourcarpet": [
           {
            "colorbar": {
             "outlinewidth": 0,
             "ticks": ""
            },
            "type": "contourcarpet"
           }
          ],
          "heatmap": [
           {
            "colorbar": {
             "outlinewidth": 0,
             "ticks": ""
            },
            "colorscale": [
             [
              0,
              "#0d0887"
             ],
             [
              0.1111111111111111,
              "#46039f"
             ],
             [
              0.2222222222222222,
              "#7201a8"
             ],
             [
              0.3333333333333333,
              "#9c179e"
             ],
             [
              0.4444444444444444,
              "#bd3786"
             ],
             [
              0.5555555555555556,
              "#d8576b"
             ],
             [
              0.6666666666666666,
              "#ed7953"
             ],
             [
              0.7777777777777778,
              "#fb9f3a"
             ],
             [
              0.8888888888888888,
              "#fdca26"
             ],
             [
              1,
              "#f0f921"
             ]
            ],
            "type": "heatmap"
           }
          ],
          "heatmapgl": [
           {
            "colorbar": {
             "outlinewidth": 0,
             "ticks": ""
            },
            "colorscale": [
             [
              0,
              "#0d0887"
             ],
             [
              0.1111111111111111,
              "#46039f"
             ],
             [
              0.2222222222222222,
              "#7201a8"
             ],
             [
              0.3333333333333333,
              "#9c179e"
             ],
             [
              0.4444444444444444,
              "#bd3786"
             ],
             [
              0.5555555555555556,
              "#d8576b"
             ],
             [
              0.6666666666666666,
              "#ed7953"
             ],
             [
              0.7777777777777778,
              "#fb9f3a"
             ],
             [
              0.8888888888888888,
              "#fdca26"
             ],
             [
              1,
              "#f0f921"
             ]
            ],
            "type": "heatmapgl"
           }
          ],
          "histogram": [
           {
            "marker": {
             "colorbar": {
              "outlinewidth": 0,
              "ticks": ""
             }
            },
            "type": "histogram"
           }
          ],
          "histogram2d": [
           {
            "colorbar": {
             "outlinewidth": 0,
             "ticks": ""
            },
            "colorscale": [
             [
              0,
              "#0d0887"
             ],
             [
              0.1111111111111111,
              "#46039f"
             ],
             [
              0.2222222222222222,
              "#7201a8"
             ],
             [
              0.3333333333333333,
              "#9c179e"
             ],
             [
              0.4444444444444444,
              "#bd3786"
             ],
             [
              0.5555555555555556,
              "#d8576b"
             ],
             [
              0.6666666666666666,
              "#ed7953"
             ],
             [
              0.7777777777777778,
              "#fb9f3a"
             ],
             [
              0.8888888888888888,
              "#fdca26"
             ],
             [
              1,
              "#f0f921"
             ]
            ],
            "type": "histogram2d"
           }
          ],
          "histogram2dcontour": [
           {
            "colorbar": {
             "outlinewidth": 0,
             "ticks": ""
            },
            "colorscale": [
             [
              0,
              "#0d0887"
             ],
             [
              0.1111111111111111,
              "#46039f"
             ],
             [
              0.2222222222222222,
              "#7201a8"
             ],
             [
              0.3333333333333333,
              "#9c179e"
             ],
             [
              0.4444444444444444,
              "#bd3786"
             ],
             [
              0.5555555555555556,
              "#d8576b"
             ],
             [
              0.6666666666666666,
              "#ed7953"
             ],
             [
              0.7777777777777778,
              "#fb9f3a"
             ],
             [
              0.8888888888888888,
              "#fdca26"
             ],
             [
              1,
              "#f0f921"
             ]
            ],
            "type": "histogram2dcontour"
           }
          ],
          "mesh3d": [
           {
            "colorbar": {
             "outlinewidth": 0,
             "ticks": ""
            },
            "type": "mesh3d"
           }
          ],
          "parcoords": [
           {
            "line": {
             "colorbar": {
              "outlinewidth": 0,
              "ticks": ""
             }
            },
            "type": "parcoords"
           }
          ],
          "scatter": [
           {
            "marker": {
             "colorbar": {
              "outlinewidth": 0,
              "ticks": ""
             }
            },
            "type": "scatter"
           }
          ],
          "scatter3d": [
           {
            "line": {
             "colorbar": {
              "outlinewidth": 0,
              "ticks": ""
             }
            },
            "marker": {
             "colorbar": {
              "outlinewidth": 0,
              "ticks": ""
             }
            },
            "type": "scatter3d"
           }
          ],
          "scattercarpet": [
           {
            "marker": {
             "colorbar": {
              "outlinewidth": 0,
              "ticks": ""
             }
            },
            "type": "scattercarpet"
           }
          ],
          "scattergeo": [
           {
            "marker": {
             "colorbar": {
              "outlinewidth": 0,
              "ticks": ""
             }
            },
            "type": "scattergeo"
           }
          ],
          "scattergl": [
           {
            "marker": {
             "colorbar": {
              "outlinewidth": 0,
              "ticks": ""
             }
            },
            "type": "scattergl"
           }
          ],
          "scattermapbox": [
           {
            "marker": {
             "colorbar": {
              "outlinewidth": 0,
              "ticks": ""
             }
            },
            "type": "scattermapbox"
           }
          ],
          "scatterpolar": [
           {
            "marker": {
             "colorbar": {
              "outlinewidth": 0,
              "ticks": ""
             }
            },
            "type": "scatterpolar"
           }
          ],
          "scatterpolargl": [
           {
            "marker": {
             "colorbar": {
              "outlinewidth": 0,
              "ticks": ""
             }
            },
            "type": "scatterpolargl"
           }
          ],
          "scatterternary": [
           {
            "marker": {
             "colorbar": {
              "outlinewidth": 0,
              "ticks": ""
             }
            },
            "type": "scatterternary"
           }
          ],
          "surface": [
           {
            "colorbar": {
             "outlinewidth": 0,
             "ticks": ""
            },
            "colorscale": [
             [
              0,
              "#0d0887"
             ],
             [
              0.1111111111111111,
              "#46039f"
             ],
             [
              0.2222222222222222,
              "#7201a8"
             ],
             [
              0.3333333333333333,
              "#9c179e"
             ],
             [
              0.4444444444444444,
              "#bd3786"
             ],
             [
              0.5555555555555556,
              "#d8576b"
             ],
             [
              0.6666666666666666,
              "#ed7953"
             ],
             [
              0.7777777777777778,
              "#fb9f3a"
             ],
             [
              0.8888888888888888,
              "#fdca26"
             ],
             [
              1,
              "#f0f921"
             ]
            ],
            "type": "surface"
           }
          ],
          "table": [
           {
            "cells": {
             "fill": {
              "color": "#EBF0F8"
             },
             "line": {
              "color": "white"
             }
            },
            "header": {
             "fill": {
              "color": "#C8D4E3"
             },
             "line": {
              "color": "white"
             }
            },
            "type": "table"
           }
          ]
         },
         "layout": {
          "annotationdefaults": {
           "arrowcolor": "#2a3f5f",
           "arrowhead": 0,
           "arrowwidth": 1
          },
          "colorscale": {
           "diverging": [
            [
             0,
             "#8e0152"
            ],
            [
             0.1,
             "#c51b7d"
            ],
            [
             0.2,
             "#de77ae"
            ],
            [
             0.3,
             "#f1b6da"
            ],
            [
             0.4,
             "#fde0ef"
            ],
            [
             0.5,
             "#f7f7f7"
            ],
            [
             0.6,
             "#e6f5d0"
            ],
            [
             0.7,
             "#b8e186"
            ],
            [
             0.8,
             "#7fbc41"
            ],
            [
             0.9,
             "#4d9221"
            ],
            [
             1,
             "#276419"
            ]
           ],
           "sequential": [
            [
             0,
             "#0d0887"
            ],
            [
             0.1111111111111111,
             "#46039f"
            ],
            [
             0.2222222222222222,
             "#7201a8"
            ],
            [
             0.3333333333333333,
             "#9c179e"
            ],
            [
             0.4444444444444444,
             "#bd3786"
            ],
            [
             0.5555555555555556,
             "#d8576b"
            ],
            [
             0.6666666666666666,
             "#ed7953"
            ],
            [
             0.7777777777777778,
             "#fb9f3a"
            ],
            [
             0.8888888888888888,
             "#fdca26"
            ],
            [
             1,
             "#f0f921"
            ]
           ],
           "sequentialminus": [
            [
             0,
             "#0d0887"
            ],
            [
             0.1111111111111111,
             "#46039f"
            ],
            [
             0.2222222222222222,
             "#7201a8"
            ],
            [
             0.3333333333333333,
             "#9c179e"
            ],
            [
             0.4444444444444444,
             "#bd3786"
            ],
            [
             0.5555555555555556,
             "#d8576b"
            ],
            [
             0.6666666666666666,
             "#ed7953"
            ],
            [
             0.7777777777777778,
             "#fb9f3a"
            ],
            [
             0.8888888888888888,
             "#fdca26"
            ],
            [
             1,
             "#f0f921"
            ]
           ]
          },
          "colorway": [
           "#636efa",
           "#EF553B",
           "#00cc96",
           "#ab63fa",
           "#FFA15A",
           "#19d3f3",
           "#FF6692",
           "#B6E880",
           "#FF97FF",
           "#FECB52"
          ],
          "font": {
           "color": "#2a3f5f"
          },
          "geo": {
           "bgcolor": "white",
           "lakecolor": "white",
           "landcolor": "#E5ECF6",
           "showlakes": true,
           "showland": true,
           "subunitcolor": "white"
          },
          "hoverlabel": {
           "align": "left"
          },
          "hovermode": "closest",
          "mapbox": {
           "style": "light"
          },
          "paper_bgcolor": "white",
          "plot_bgcolor": "#E5ECF6",
          "polar": {
           "angularaxis": {
            "gridcolor": "white",
            "linecolor": "white",
            "ticks": ""
           },
           "bgcolor": "#E5ECF6",
           "radialaxis": {
            "gridcolor": "white",
            "linecolor": "white",
            "ticks": ""
           }
          },
          "scene": {
           "xaxis": {
            "backgroundcolor": "#E5ECF6",
            "gridcolor": "white",
            "gridwidth": 2,
            "linecolor": "white",
            "showbackground": true,
            "ticks": "",
            "zerolinecolor": "white"
           },
           "yaxis": {
            "backgroundcolor": "#E5ECF6",
            "gridcolor": "white",
            "gridwidth": 2,
            "linecolor": "white",
            "showbackground": true,
            "ticks": "",
            "zerolinecolor": "white"
           },
           "zaxis": {
            "backgroundcolor": "#E5ECF6",
            "gridcolor": "white",
            "gridwidth": 2,
            "linecolor": "white",
            "showbackground": true,
            "ticks": "",
            "zerolinecolor": "white"
           }
          },
          "shapedefaults": {
           "line": {
            "color": "#2a3f5f"
           }
          },
          "ternary": {
           "aaxis": {
            "gridcolor": "white",
            "linecolor": "white",
            "ticks": ""
           },
           "baxis": {
            "gridcolor": "white",
            "linecolor": "white",
            "ticks": ""
           },
           "bgcolor": "#E5ECF6",
           "caxis": {
            "gridcolor": "white",
            "linecolor": "white",
            "ticks": ""
           }
          },
          "title": {
           "x": 0.05
          },
          "xaxis": {
           "automargin": true,
           "gridcolor": "white",
           "linecolor": "white",
           "ticks": "",
           "zerolinecolor": "white",
           "zerolinewidth": 2
          },
          "yaxis": {
           "automargin": true,
           "gridcolor": "white",
           "linecolor": "white",
           "ticks": "",
           "zerolinecolor": "white",
           "zerolinewidth": 2
          }
         }
        },
        "title": {
         "text": "Worldwide Confirmed, Recovered, and Death over Time"
        },
        "xaxis": {
         "anchor": "y",
         "domain": [
          0,
          0.98
         ],
         "title": {
          "text": "Date"
         }
        },
        "yaxis": {
         "anchor": "x",
         "domain": [
          0,
          1
         ],
         "title": {
          "text": "value"
         }
        }
       }
      },
      "text/html": [
       "<div>\n",
       "        \n",
       "        \n",
       "            <div id=\"2f9d8f4e-b137-40f0-943c-a8b0df7a9c17\" class=\"plotly-graph-div\" style=\"height:600px; width:100%;\"></div>\n",
       "            <script type=\"text/javascript\">\n",
       "                require([\"plotly\"], function(Plotly) {\n",
       "                    window.PLOTLYENV=window.PLOTLYENV || {};\n",
       "                    \n",
       "                if (document.getElementById(\"2f9d8f4e-b137-40f0-943c-a8b0df7a9c17\")) {\n",
       "                    Plotly.newPlot(\n",
       "                        '2f9d8f4e-b137-40f0-943c-a8b0df7a9c17',\n",
       "                        [{\"hoverlabel\": {\"namelength\": 0}, \"hovertemplate\": \"variable=Confirmed<br>Date=%{x}<br>value=%{y}\", \"legendgroup\": \"variable=Confirmed\", \"line\": {\"color\": \"#636efa\", \"dash\": \"solid\"}, \"mode\": \"lines\", \"name\": \"variable=Confirmed\", \"showlegend\": true, \"type\": \"scatter\", \"x\": [\"2003-03-17T00:00:00\", \"2003-03-18T00:00:00\", \"2003-03-19T00:00:00\", \"2003-03-20T00:00:00\", \"2003-03-21T00:00:00\", \"2003-03-22T00:00:00\", \"2003-03-24T00:00:00\", \"2003-03-25T00:00:00\", \"2003-03-26T00:00:00\", \"2003-03-27T00:00:00\", \"2003-03-28T00:00:00\", \"2003-03-29T00:00:00\", \"2003-03-31T00:00:00\", \"2003-04-01T00:00:00\", \"2003-04-02T00:00:00\", \"2003-04-03T00:00:00\", \"2003-04-04T00:00:00\", \"2003-04-05T00:00:00\", \"2003-04-07T00:00:00\", \"2003-04-08T00:00:00\", \"2003-04-09T00:00:00\", \"2003-04-10T00:00:00\", \"2003-04-11T00:00:00\", \"2003-04-12T00:00:00\", \"2003-04-14T00:00:00\", \"2003-04-15T00:00:00\", \"2003-04-16T00:00:00\", \"2003-04-17T00:00:00\", \"2003-04-18T00:00:00\", \"2003-04-19T00:00:00\", \"2003-04-21T00:00:00\", \"2003-04-22T00:00:00\", \"2003-04-23T00:00:00\", \"2003-04-24T00:00:00\", \"2003-04-25T00:00:00\", \"2003-04-26T00:00:00\", \"2003-04-28T00:00:00\", \"2003-04-29T00:00:00\", \"2003-04-30T00:00:00\", \"2003-05-01T00:00:00\", \"2003-05-02T00:00:00\", \"2003-05-03T00:00:00\", \"2003-05-05T00:00:00\", \"2003-05-06T00:00:00\", \"2003-05-07T00:00:00\", \"2003-05-08T00:00:00\", \"2003-05-09T00:00:00\", \"2003-05-10T00:00:00\", \"2003-05-12T00:00:00\", \"2003-05-13T00:00:00\", \"2003-05-14T00:00:00\", \"2003-05-15T00:00:00\", \"2003-05-16T00:00:00\", \"2003-05-17T00:00:00\", \"2003-05-19T00:00:00\", \"2003-05-20T00:00:00\", \"2003-05-21T00:00:00\", \"2003-05-22T00:00:00\", \"2003-05-23T00:00:00\", \"2003-05-24T00:00:00\", \"2003-05-26T00:00:00\", \"2003-05-27T00:00:00\", \"2003-05-28T00:00:00\", \"2003-05-29T00:00:00\", \"2003-05-30T00:00:00\", \"2003-05-31T00:00:00\", \"2003-06-02T00:00:00\", \"2003-06-03T00:00:00\", \"2003-06-04T00:00:00\", \"2003-06-05T00:00:00\", \"2003-06-06T00:00:00\", \"2003-06-09T00:00:00\", \"2003-06-10T00:00:00\", \"2003-06-11T00:00:00\", \"2003-06-12T00:00:00\", \"2003-06-13T00:00:00\", \"2003-06-16T00:00:00\", \"2003-06-17T00:00:00\", \"2003-06-18T00:00:00\", \"2003-06-19T00:00:00\", \"2003-06-20T00:00:00\", \"2003-06-23T00:00:00\", \"2003-06-24T00:00:00\", \"2003-06-25T00:00:00\", \"2003-06-26T00:00:00\", \"2003-06-27T00:00:00\", \"2003-06-30T00:00:00\", \"2003-07-01T00:00:00\", \"2003-07-02T00:00:00\", \"2003-07-03T00:00:00\", \"2003-07-04T00:00:00\", \"2003-07-07T00:00:00\", \"2003-07-08T00:00:00\", \"2003-07-09T00:00:00\", \"2003-07-10T00:00:00\", \"2003-07-11T00:00:00\"], \"xaxis\": \"x\", \"y\": [167, 219, 264, 306, 350, 386, 456, 487, 1323, 1408, 1485, 1550, 1622, 1804, 2223, 2270, 2353, 2416, 2601, 2671, 2722, 2781, 2890, 2960, 3169, 3235, 3293, 3389, 3547, 3547, 3861, 3947, 4288, 4435, 4645, 4832, 5046, 5458, 5659, 5861, 6050, 6230, 6579, 6723, 6899, 7049, 7179, 7292, 7441, 7542, 7622, 7693, 7733, 7755, 7858, 7913, 7950, 8046, 8111, 8135, 8196, 8215, 8240, 8295, 8311, 8354, 8379, 8393, 8397, 8398, 8399, 8416, 8425, 8430, 8440, 8449, 8455, 8459, 8460, 8457, 8456, 8454, 8453, 8455, 8451, 8445, 8447, 8440, 8437, 8434, 8434, 8434, 8431, 8431, 8432, 8432], \"yaxis\": \"y\"}, {\"hoverlabel\": {\"namelength\": 0}, \"hovertemplate\": \"variable=Death<br>Date=%{x}<br>value=%{y}\", \"legendgroup\": \"variable=Death\", \"line\": {\"color\": \"#EF553B\", \"dash\": \"solid\"}, \"mode\": \"lines\", \"name\": \"variable=Death\", \"showlegend\": true, \"type\": \"scatter\", \"x\": [\"2003-03-17T00:00:00\", \"2003-03-18T00:00:00\", \"2003-03-19T00:00:00\", \"2003-03-20T00:00:00\", \"2003-03-21T00:00:00\", \"2003-03-22T00:00:00\", \"2003-03-24T00:00:00\", \"2003-03-25T00:00:00\", \"2003-03-26T00:00:00\", \"2003-03-27T00:00:00\", \"2003-03-28T00:00:00\", \"2003-03-29T00:00:00\", \"2003-03-31T00:00:00\", \"2003-04-01T00:00:00\", \"2003-04-02T00:00:00\", \"2003-04-03T00:00:00\", \"2003-04-04T00:00:00\", \"2003-04-05T00:00:00\", \"2003-04-07T00:00:00\", \"2003-04-08T00:00:00\", \"2003-04-09T00:00:00\", \"2003-04-10T00:00:00\", \"2003-04-11T00:00:00\", \"2003-04-12T00:00:00\", \"2003-04-14T00:00:00\", \"2003-04-15T00:00:00\", \"2003-04-16T00:00:00\", \"2003-04-17T00:00:00\", \"2003-04-18T00:00:00\", \"2003-04-19T00:00:00\", \"2003-04-21T00:00:00\", \"2003-04-22T00:00:00\", \"2003-04-23T00:00:00\", \"2003-04-24T00:00:00\", \"2003-04-25T00:00:00\", \"2003-04-26T00:00:00\", \"2003-04-28T00:00:00\", \"2003-04-29T00:00:00\", \"2003-04-30T00:00:00\", \"2003-05-01T00:00:00\", \"2003-05-02T00:00:00\", \"2003-05-03T00:00:00\", \"2003-05-05T00:00:00\", \"2003-05-06T00:00:00\", \"2003-05-07T00:00:00\", \"2003-05-08T00:00:00\", \"2003-05-09T00:00:00\", \"2003-05-10T00:00:00\", \"2003-05-12T00:00:00\", \"2003-05-13T00:00:00\", \"2003-05-14T00:00:00\", \"2003-05-15T00:00:00\", \"2003-05-16T00:00:00\", \"2003-05-17T00:00:00\", \"2003-05-19T00:00:00\", \"2003-05-20T00:00:00\", \"2003-05-21T00:00:00\", \"2003-05-22T00:00:00\", \"2003-05-23T00:00:00\", \"2003-05-24T00:00:00\", \"2003-05-26T00:00:00\", \"2003-05-27T00:00:00\", \"2003-05-28T00:00:00\", \"2003-05-29T00:00:00\", \"2003-05-30T00:00:00\", \"2003-05-31T00:00:00\", \"2003-06-02T00:00:00\", \"2003-06-03T00:00:00\", \"2003-06-04T00:00:00\", \"2003-06-05T00:00:00\", \"2003-06-06T00:00:00\", \"2003-06-09T00:00:00\", \"2003-06-10T00:00:00\", \"2003-06-11T00:00:00\", \"2003-06-12T00:00:00\", \"2003-06-13T00:00:00\", \"2003-06-16T00:00:00\", \"2003-06-17T00:00:00\", \"2003-06-18T00:00:00\", \"2003-06-19T00:00:00\", \"2003-06-20T00:00:00\", \"2003-06-23T00:00:00\", \"2003-06-24T00:00:00\", \"2003-06-25T00:00:00\", \"2003-06-26T00:00:00\", \"2003-06-27T00:00:00\", \"2003-06-30T00:00:00\", \"2003-07-01T00:00:00\", \"2003-07-02T00:00:00\", \"2003-07-03T00:00:00\", \"2003-07-04T00:00:00\", \"2003-07-07T00:00:00\", \"2003-07-08T00:00:00\", \"2003-07-09T00:00:00\", \"2003-07-10T00:00:00\", \"2003-07-11T00:00:00\"], \"xaxis\": \"x\", \"y\": [4, 4, 9, 10, 10, 11, 17, 17, 49, 53, 53, 54, 58, 62, 78, 79, 84, 89, 98, 103, 106, 111, 116, 119, 144, 154, 159, 165, 182, 182, 217, 229, 251, 263, 274, 293, 321, 353, 372, 391, 417, 435, 461, 478, 495, 506, 514, 526, 552, 573, 587, 598, 611, 623, 643, 662, 666, 682, 689, 696, 725, 735, 745, 750, 754, 764, 770, 772, 772, 775, 779, 784, 789, 789, 790, 792, 799, 799, 801, 804, 804, 805, 807, 808, 809, 810, 811, 812, 812, 812, 812, 812, 812, 812, 812, 813], \"yaxis\": \"y\"}, {\"hoverlabel\": {\"namelength\": 0}, \"hovertemplate\": \"variable=Recovered<br>Date=%{x}<br>value=%{y}\", \"legendgroup\": \"variable=Recovered\", \"line\": {\"color\": \"#00cc96\", \"dash\": \"solid\"}, \"mode\": \"lines\", \"name\": \"variable=Recovered\", \"showlegend\": true, \"type\": \"scatter\", \"x\": [\"2003-03-17T00:00:00\", \"2003-03-18T00:00:00\", \"2003-03-19T00:00:00\", \"2003-03-20T00:00:00\", \"2003-03-21T00:00:00\", \"2003-03-22T00:00:00\", \"2003-03-24T00:00:00\", \"2003-03-25T00:00:00\", \"2003-03-26T00:00:00\", \"2003-03-27T00:00:00\", \"2003-03-28T00:00:00\", \"2003-03-29T00:00:00\", \"2003-03-31T00:00:00\", \"2003-04-01T00:00:00\", \"2003-04-02T00:00:00\", \"2003-04-03T00:00:00\", \"2003-04-04T00:00:00\", \"2003-04-05T00:00:00\", \"2003-04-07T00:00:00\", \"2003-04-08T00:00:00\", \"2003-04-09T00:00:00\", \"2003-04-10T00:00:00\", \"2003-04-11T00:00:00\", \"2003-04-12T00:00:00\", \"2003-04-14T00:00:00\", \"2003-04-15T00:00:00\", \"2003-04-16T00:00:00\", \"2003-04-17T00:00:00\", \"2003-04-18T00:00:00\", \"2003-04-19T00:00:00\", \"2003-04-21T00:00:00\", \"2003-04-22T00:00:00\", \"2003-04-23T00:00:00\", \"2003-04-24T00:00:00\", \"2003-04-25T00:00:00\", \"2003-04-26T00:00:00\", \"2003-04-28T00:00:00\", \"2003-04-29T00:00:00\", \"2003-04-30T00:00:00\", \"2003-05-01T00:00:00\", \"2003-05-02T00:00:00\", \"2003-05-03T00:00:00\", \"2003-05-05T00:00:00\", \"2003-05-06T00:00:00\", \"2003-05-07T00:00:00\", \"2003-05-08T00:00:00\", \"2003-05-09T00:00:00\", \"2003-05-10T00:00:00\", \"2003-05-12T00:00:00\", \"2003-05-13T00:00:00\", \"2003-05-14T00:00:00\", \"2003-05-15T00:00:00\", \"2003-05-16T00:00:00\", \"2003-05-17T00:00:00\", \"2003-05-19T00:00:00\", \"2003-05-20T00:00:00\", \"2003-05-21T00:00:00\", \"2003-05-22T00:00:00\", \"2003-05-23T00:00:00\", \"2003-05-24T00:00:00\", \"2003-05-26T00:00:00\", \"2003-05-27T00:00:00\", \"2003-05-28T00:00:00\", \"2003-05-29T00:00:00\", \"2003-05-30T00:00:00\", \"2003-05-31T00:00:00\", \"2003-06-02T00:00:00\", \"2003-06-03T00:00:00\", \"2003-06-04T00:00:00\", \"2003-06-05T00:00:00\", \"2003-06-06T00:00:00\", \"2003-06-09T00:00:00\", \"2003-06-10T00:00:00\", \"2003-06-11T00:00:00\", \"2003-06-12T00:00:00\", \"2003-06-13T00:00:00\", \"2003-06-16T00:00:00\", \"2003-06-17T00:00:00\", \"2003-06-18T00:00:00\", \"2003-06-19T00:00:00\", \"2003-06-20T00:00:00\", \"2003-06-23T00:00:00\", \"2003-06-24T00:00:00\", \"2003-06-25T00:00:00\", \"2003-06-26T00:00:00\", \"2003-06-27T00:00:00\", \"2003-06-30T00:00:00\", \"2003-07-01T00:00:00\", \"2003-07-02T00:00:00\", \"2003-07-03T00:00:00\", \"2003-07-04T00:00:00\", \"2003-07-07T00:00:00\", \"2003-07-08T00:00:00\", \"2003-07-09T00:00:00\", \"2003-07-10T00:00:00\", \"2003-07-11T00:00:00\"], \"xaxis\": \"x\", \"y\": [0, 0, 0, 0, 0, 0, 0, 0, 0, 0, 0, 0, 0, 0, 0, 0, 0, 0, 0, 0, 0, 1337, 1373, 1425, 1499, 1515, 1548, 1597, 1749, 1749, 1873, 1935, 2032, 2114, 2203, 2236, 2339, 2424, 2467, 2559, 2639, 2698, 2760, 2822, 2881, 2955, 3019, 3083, 3189, 3292, 3391, 3478, 3584, 3668, 3841, 3978, 4079, 4210, 4320, 4462, 4656, 4781, 4891, 4994, 5123, 5258, 5397, 5470, 5741, 5825, 5932, 6275, 6452, 6576, 6665, 6788, 6984, 7086, 7143, 7173, 7213, 7319, 7343, 7360, 7366, 7396, 7417, 7417, 7419, 7422, 7426, 7426, 7428, 7438, 7444, 7447], \"yaxis\": \"y\"}],\n",
       "                        {\"height\": 600, \"legend\": {\"tracegroupgap\": 0}, \"template\": {\"data\": {\"bar\": [{\"error_x\": {\"color\": \"#2a3f5f\"}, \"error_y\": {\"color\": \"#2a3f5f\"}, \"marker\": {\"line\": {\"color\": \"#E5ECF6\", \"width\": 0.5}}, \"type\": \"bar\"}], \"barpolar\": [{\"marker\": {\"line\": {\"color\": \"#E5ECF6\", \"width\": 0.5}}, \"type\": \"barpolar\"}], \"carpet\": [{\"aaxis\": {\"endlinecolor\": \"#2a3f5f\", \"gridcolor\": \"white\", \"linecolor\": \"white\", \"minorgridcolor\": \"white\", \"startlinecolor\": \"#2a3f5f\"}, \"baxis\": {\"endlinecolor\": \"#2a3f5f\", \"gridcolor\": \"white\", \"linecolor\": \"white\", \"minorgridcolor\": \"white\", \"startlinecolor\": \"#2a3f5f\"}, \"type\": \"carpet\"}], \"choropleth\": [{\"colorbar\": {\"outlinewidth\": 0, \"ticks\": \"\"}, \"type\": \"choropleth\"}], \"contour\": [{\"colorbar\": {\"outlinewidth\": 0, \"ticks\": \"\"}, \"colorscale\": [[0.0, \"#0d0887\"], [0.1111111111111111, \"#46039f\"], [0.2222222222222222, \"#7201a8\"], [0.3333333333333333, \"#9c179e\"], [0.4444444444444444, \"#bd3786\"], [0.5555555555555556, \"#d8576b\"], [0.6666666666666666, \"#ed7953\"], [0.7777777777777778, \"#fb9f3a\"], [0.8888888888888888, \"#fdca26\"], [1.0, \"#f0f921\"]], \"type\": \"contour\"}], \"contourcarpet\": [{\"colorbar\": {\"outlinewidth\": 0, \"ticks\": \"\"}, \"type\": \"contourcarpet\"}], \"heatmap\": [{\"colorbar\": {\"outlinewidth\": 0, \"ticks\": \"\"}, \"colorscale\": [[0.0, \"#0d0887\"], [0.1111111111111111, \"#46039f\"], [0.2222222222222222, \"#7201a8\"], [0.3333333333333333, \"#9c179e\"], [0.4444444444444444, \"#bd3786\"], [0.5555555555555556, \"#d8576b\"], [0.6666666666666666, \"#ed7953\"], [0.7777777777777778, \"#fb9f3a\"], [0.8888888888888888, \"#fdca26\"], [1.0, \"#f0f921\"]], \"type\": \"heatmap\"}], \"heatmapgl\": [{\"colorbar\": {\"outlinewidth\": 0, \"ticks\": \"\"}, \"colorscale\": [[0.0, \"#0d0887\"], [0.1111111111111111, \"#46039f\"], [0.2222222222222222, \"#7201a8\"], [0.3333333333333333, \"#9c179e\"], [0.4444444444444444, \"#bd3786\"], [0.5555555555555556, \"#d8576b\"], [0.6666666666666666, \"#ed7953\"], [0.7777777777777778, \"#fb9f3a\"], [0.8888888888888888, \"#fdca26\"], [1.0, \"#f0f921\"]], \"type\": \"heatmapgl\"}], \"histogram\": [{\"marker\": {\"colorbar\": {\"outlinewidth\": 0, \"ticks\": \"\"}}, \"type\": \"histogram\"}], \"histogram2d\": [{\"colorbar\": {\"outlinewidth\": 0, \"ticks\": \"\"}, \"colorscale\": [[0.0, \"#0d0887\"], [0.1111111111111111, \"#46039f\"], [0.2222222222222222, \"#7201a8\"], [0.3333333333333333, \"#9c179e\"], [0.4444444444444444, \"#bd3786\"], [0.5555555555555556, \"#d8576b\"], [0.6666666666666666, \"#ed7953\"], [0.7777777777777778, \"#fb9f3a\"], [0.8888888888888888, \"#fdca26\"], [1.0, \"#f0f921\"]], \"type\": \"histogram2d\"}], \"histogram2dcontour\": [{\"colorbar\": {\"outlinewidth\": 0, \"ticks\": \"\"}, \"colorscale\": [[0.0, \"#0d0887\"], [0.1111111111111111, \"#46039f\"], [0.2222222222222222, \"#7201a8\"], [0.3333333333333333, \"#9c179e\"], [0.4444444444444444, \"#bd3786\"], [0.5555555555555556, \"#d8576b\"], [0.6666666666666666, \"#ed7953\"], [0.7777777777777778, \"#fb9f3a\"], [0.8888888888888888, \"#fdca26\"], [1.0, \"#f0f921\"]], \"type\": \"histogram2dcontour\"}], \"mesh3d\": [{\"colorbar\": {\"outlinewidth\": 0, \"ticks\": \"\"}, \"type\": \"mesh3d\"}], \"parcoords\": [{\"line\": {\"colorbar\": {\"outlinewidth\": 0, \"ticks\": \"\"}}, \"type\": \"parcoords\"}], \"scatter\": [{\"marker\": {\"colorbar\": {\"outlinewidth\": 0, \"ticks\": \"\"}}, \"type\": \"scatter\"}], \"scatter3d\": [{\"line\": {\"colorbar\": {\"outlinewidth\": 0, \"ticks\": \"\"}}, \"marker\": {\"colorbar\": {\"outlinewidth\": 0, \"ticks\": \"\"}}, \"type\": \"scatter3d\"}], \"scattercarpet\": [{\"marker\": {\"colorbar\": {\"outlinewidth\": 0, \"ticks\": \"\"}}, \"type\": \"scattercarpet\"}], \"scattergeo\": [{\"marker\": {\"colorbar\": {\"outlinewidth\": 0, \"ticks\": \"\"}}, \"type\": \"scattergeo\"}], \"scattergl\": [{\"marker\": {\"colorbar\": {\"outlinewidth\": 0, \"ticks\": \"\"}}, \"type\": \"scattergl\"}], \"scattermapbox\": [{\"marker\": {\"colorbar\": {\"outlinewidth\": 0, \"ticks\": \"\"}}, \"type\": \"scattermapbox\"}], \"scatterpolar\": [{\"marker\": {\"colorbar\": {\"outlinewidth\": 0, \"ticks\": \"\"}}, \"type\": \"scatterpolar\"}], \"scatterpolargl\": [{\"marker\": {\"colorbar\": {\"outlinewidth\": 0, \"ticks\": \"\"}}, \"type\": \"scatterpolargl\"}], \"scatterternary\": [{\"marker\": {\"colorbar\": {\"outlinewidth\": 0, \"ticks\": \"\"}}, \"type\": \"scatterternary\"}], \"surface\": [{\"colorbar\": {\"outlinewidth\": 0, \"ticks\": \"\"}, \"colorscale\": [[0.0, \"#0d0887\"], [0.1111111111111111, \"#46039f\"], [0.2222222222222222, \"#7201a8\"], [0.3333333333333333, \"#9c179e\"], [0.4444444444444444, \"#bd3786\"], [0.5555555555555556, \"#d8576b\"], [0.6666666666666666, \"#ed7953\"], [0.7777777777777778, \"#fb9f3a\"], [0.8888888888888888, \"#fdca26\"], [1.0, \"#f0f921\"]], \"type\": \"surface\"}], \"table\": [{\"cells\": {\"fill\": {\"color\": \"#EBF0F8\"}, \"line\": {\"color\": \"white\"}}, \"header\": {\"fill\": {\"color\": \"#C8D4E3\"}, \"line\": {\"color\": \"white\"}}, \"type\": \"table\"}]}, \"layout\": {\"annotationdefaults\": {\"arrowcolor\": \"#2a3f5f\", \"arrowhead\": 0, \"arrowwidth\": 1}, \"colorscale\": {\"diverging\": [[0, \"#8e0152\"], [0.1, \"#c51b7d\"], [0.2, \"#de77ae\"], [0.3, \"#f1b6da\"], [0.4, \"#fde0ef\"], [0.5, \"#f7f7f7\"], [0.6, \"#e6f5d0\"], [0.7, \"#b8e186\"], [0.8, \"#7fbc41\"], [0.9, \"#4d9221\"], [1, \"#276419\"]], \"sequential\": [[0.0, \"#0d0887\"], [0.1111111111111111, \"#46039f\"], [0.2222222222222222, \"#7201a8\"], [0.3333333333333333, \"#9c179e\"], [0.4444444444444444, \"#bd3786\"], [0.5555555555555556, \"#d8576b\"], [0.6666666666666666, \"#ed7953\"], [0.7777777777777778, \"#fb9f3a\"], [0.8888888888888888, \"#fdca26\"], [1.0, \"#f0f921\"]], \"sequentialminus\": [[0.0, \"#0d0887\"], [0.1111111111111111, \"#46039f\"], [0.2222222222222222, \"#7201a8\"], [0.3333333333333333, \"#9c179e\"], [0.4444444444444444, \"#bd3786\"], [0.5555555555555556, \"#d8576b\"], [0.6666666666666666, \"#ed7953\"], [0.7777777777777778, \"#fb9f3a\"], [0.8888888888888888, \"#fdca26\"], [1.0, \"#f0f921\"]]}, \"colorway\": [\"#636efa\", \"#EF553B\", \"#00cc96\", \"#ab63fa\", \"#FFA15A\", \"#19d3f3\", \"#FF6692\", \"#B6E880\", \"#FF97FF\", \"#FECB52\"], \"font\": {\"color\": \"#2a3f5f\"}, \"geo\": {\"bgcolor\": \"white\", \"lakecolor\": \"white\", \"landcolor\": \"#E5ECF6\", \"showlakes\": true, \"showland\": true, \"subunitcolor\": \"white\"}, \"hoverlabel\": {\"align\": \"left\"}, \"hovermode\": \"closest\", \"mapbox\": {\"style\": \"light\"}, \"paper_bgcolor\": \"white\", \"plot_bgcolor\": \"#E5ECF6\", \"polar\": {\"angularaxis\": {\"gridcolor\": \"white\", \"linecolor\": \"white\", \"ticks\": \"\"}, \"bgcolor\": \"#E5ECF6\", \"radialaxis\": {\"gridcolor\": \"white\", \"linecolor\": \"white\", \"ticks\": \"\"}}, \"scene\": {\"xaxis\": {\"backgroundcolor\": \"#E5ECF6\", \"gridcolor\": \"white\", \"gridwidth\": 2, \"linecolor\": \"white\", \"showbackground\": true, \"ticks\": \"\", \"zerolinecolor\": \"white\"}, \"yaxis\": {\"backgroundcolor\": \"#E5ECF6\", \"gridcolor\": \"white\", \"gridwidth\": 2, \"linecolor\": \"white\", \"showbackground\": true, \"ticks\": \"\", \"zerolinecolor\": \"white\"}, \"zaxis\": {\"backgroundcolor\": \"#E5ECF6\", \"gridcolor\": \"white\", \"gridwidth\": 2, \"linecolor\": \"white\", \"showbackground\": true, \"ticks\": \"\", \"zerolinecolor\": \"white\"}}, \"shapedefaults\": {\"line\": {\"color\": \"#2a3f5f\"}}, \"ternary\": {\"aaxis\": {\"gridcolor\": \"white\", \"linecolor\": \"white\", \"ticks\": \"\"}, \"baxis\": {\"gridcolor\": \"white\", \"linecolor\": \"white\", \"ticks\": \"\"}, \"bgcolor\": \"#E5ECF6\", \"caxis\": {\"gridcolor\": \"white\", \"linecolor\": \"white\", \"ticks\": \"\"}}, \"title\": {\"x\": 0.05}, \"xaxis\": {\"automargin\": true, \"gridcolor\": \"white\", \"linecolor\": \"white\", \"ticks\": \"\", \"zerolinecolor\": \"white\", \"zerolinewidth\": 2}, \"yaxis\": {\"automargin\": true, \"gridcolor\": \"white\", \"linecolor\": \"white\", \"ticks\": \"\", \"zerolinecolor\": \"white\", \"zerolinewidth\": 2}}}, \"title\": {\"text\": \"Worldwide Confirmed, Recovered, and Death over Time\"}, \"xaxis\": {\"anchor\": \"y\", \"domain\": [0.0, 0.98], \"title\": {\"text\": \"Date\"}}, \"yaxis\": {\"anchor\": \"x\", \"domain\": [0.0, 1.0], \"title\": {\"text\": \"value\"}}},\n",
       "                        {\"responsive\": true}\n",
       "                    ).then(function(){\n",
       "                            \n",
       "var gd = document.getElementById('2f9d8f4e-b137-40f0-943c-a8b0df7a9c17');\n",
       "var x = new MutationObserver(function (mutations, observer) {{\n",
       "        var display = window.getComputedStyle(gd).display;\n",
       "        if (!display || display === 'none') {{\n",
       "            console.log([gd, 'removed!']);\n",
       "            Plotly.purge(gd);\n",
       "            observer.disconnect();\n",
       "        }}\n",
       "}});\n",
       "\n",
       "// Listen for the removal of the full notebook cells\n",
       "var notebookContainer = gd.closest('#notebook-container');\n",
       "if (notebookContainer) {{\n",
       "    x.observe(notebookContainer, {childList: true});\n",
       "}}\n",
       "\n",
       "// Listen for the clearing of the current output cell\n",
       "var outputEl = gd.closest('.output');\n",
       "if (outputEl) {{\n",
       "    x.observe(outputEl, {childList: true});\n",
       "}}\n",
       "\n",
       "                        })\n",
       "                };\n",
       "                });\n",
       "            </script>\n",
       "        </div>"
      ]
     },
     "metadata": {},
     "output_type": "display_data"
    }
   ],
   "source": [
    "fig = px.line(melt_by_date, x = 'Date', y= 'value', color = 'variable', title = 'Worldwide Confirmed, Recovered, and Death over Time')\n",
    "fig.show()"
   ]
  },
  {
   "cell_type": "code",
   "execution_count": null,
   "metadata": {},
   "outputs": [],
   "source": []
  }
 ],
 "metadata": {
  "kernelspec": {
   "display_name": "Python 3",
   "language": "python",
   "name": "python3"
  },
  "language_info": {
   "codemirror_mode": {
    "name": "ipython",
    "version": 3
   },
   "file_extension": ".py",
   "mimetype": "text/x-python",
   "name": "python",
   "nbconvert_exporter": "python",
   "pygments_lexer": "ipython3",
   "version": "3.7.3"
  }
 },
 "nbformat": 4,
 "nbformat_minor": 2
}
